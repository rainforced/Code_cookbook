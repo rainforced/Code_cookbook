{
 "cells": [
  {
   "cell_type": "markdown",
   "metadata": {},
   "source": [
    "# Chapter 1: Sockets"
   ]
  },
  {
   "cell_type": "markdown",
   "metadata": {},
   "source": [
    "## socket для протокола UDP"
   ]
  },
  {
   "cell_type": "markdown",
   "metadata": {},
   "source": [
    "- В отличии от протокола TCP, в UDP мы не устанавливаем соединение между клиентом и сервером. Поэтому, клиент отправляет данные на какой-то сервер и не пытается убедиться получит он их или нет. Сервер же слушает свой порт и тоже не переживает получит он на него данные или нет.\n",
    "- Также сервер не создает очереди подключения к порту. Серверу все равно кто, что и когда ему отправил на порт."
   ]
  },
  {
   "cell_type": "code",
   "execution_count": null,
   "metadata": {},
   "outputs": [],
   "source": [
    "# пример серверного приложения с протоколом UDP\n",
    "import socket\n",
    "\n",
    "sock = socket.socket(socket.AF_INET, socket.SOCK_DGRAM)\n",
    "sock.bind(('127.0.0.1', 8888))\n",
    "result = sock.recv(1024) # ждет сообщение\n",
    "print('Message: ', result.decode('utf-8'))\n",
    "sock.close()"
   ]
  },
  {
   "cell_type": "markdown",
   "metadata": {},
   "source": [
    "1. `sock = socket.socket(..)` - cоздается объект-порт.\n",
    "    - `socket.AF_INET` - используется протокол IPv4, `socket.AF_INET6` - протокол IPv6\n",
    "    - `socket.SOCK_DGRAM` - протокол UDP (User Datagram Protocol). DGRAM - т.е. DataGram\n",
    "2. `sock.bind(('127.0.0.1', 8888))` - порт привязывается к серверу (IP = *127.0.0.1*; это локальный IP) и порту (*8888*) на нем, если он не занят системой. Если занят будет выдана ошибка. Если вместо IP укзать `''` (пустую строку), либо `0`, либо `0.0.0.0`, то резервируются все локальные хосты. \n",
    "3. `result = sock.recv(1024)` - recv = receive. Принимает пакет указанного размера (в нашем случаии *1024*). На этой команде программа \"слушает\" порт т.е. ждет сообщение и не проходит далее."
   ]
  },
  {
   "cell_type": "code",
   "execution_count": null,
   "metadata": {},
   "outputs": [],
   "source": [
    "# пример клиентского приложения с протоколом UDP\n",
    "import socket\n",
    "\n",
    "sock = socket.socket(socket.AF_INET, socket.SOCK_DGRAM)\n",
    "sock.sendto(b'Grond control to Major Tom', ('127.0.0.1', 8888))\n",
    "sock.close()"
   ]
  },
  {
   "cell_type": "markdown",
   "metadata": {},
   "source": [
    "- `sock.sendto(b'Grond control to Major Tom', ('127.0.0.1', 8888))` - отправляет **байтовый объект** (поэтому строка представлена в байтовом виде `b'aaa'`) на сокет *8888* по IP = *'127.0.0.1'*. Если вместо IP укзать `'localhost'`, то программа будет искать порт на локальной машине."
   ]
  },
  {
   "cell_type": "markdown",
   "metadata": {},
   "source": [
    "## unix sockets"
   ]
  },
  {
   "cell_type": "markdown",
   "metadata": {},
   "source": [
    "**unix sockets** - это сокет, который использует не сетевой порт для обмена данными между клиентом и сервером, а файл. Т.е. клиент пишет что-то в файл, а сервер считывает этот файл.     \n",
    "\n",
    "- Поддерживаются на UNIX системах.\n",
    "- Обещают поддрежку на Windows в будущем."
   ]
  },
  {
   "cell_type": "markdown",
   "metadata": {},
   "source": [
    "Отличие от обычных сокетов в том, что в конструкторе сокета надо использовать `socket.AF_UNIX`. А также, в методе `.bind(..)` пишется не IP:port, а путь до файла.    "
   ]
  },
  {
   "cell_type": "code",
   "execution_count": null,
   "metadata": {},
   "outputs": [],
   "source": [
    "# пример серверного приложения с unix sockets\n",
    "import socket\n",
    "import os\n",
    "\n",
    "unix_sock_name = 'unix.sock'\n",
    "sock = socket.socket(socket.AF_UNIX, socket.SOCK_DGRAM)\n",
    "\n",
    "if os.path.exists(unix_sock_name):\n",
    "    os.remove(unix_sock_name)\n",
    "\n",
    "sock.bind(unix_sock_name)\n",
    "\n",
    "while True:\n",
    "    try:\n",
    "        result = sock.recv(1024) # ждет сообщение\n",
    "    except KeyboardInterrupt:\n",
    "        sock.close()\n",
    "        break\n",
    "    else:\n",
    "        print('Message: ', result.decode('utf-8'))"
   ]
  },
  {
   "cell_type": "markdown",
   "metadata": {},
   "source": [
    "Тут сервер считывает данные сокета в бесконечном цикле, пока не будут нажаты Control+C или Delete. "
   ]
  },
  {
   "cell_type": "code",
   "execution_count": null,
   "metadata": {},
   "outputs": [],
   "source": [
    "# пример клиентского приложения с unix sockets\n",
    "import socket\n",
    "\n",
    "unix_sock_name = 'unix.sock'\n",
    "sock = socket.socket(socket.AF_UNIX, socket.SOCK_DGRAM)\n",
    "sock.sendto(b'Grond control to Major Tom', unix_sock_name)\n",
    "sock.close()"
   ]
  },
  {
   "cell_type": "markdown",
   "metadata": {},
   "source": [
    "## socket для протокола TCP"
   ]
  },
  {
   "cell_type": "markdown",
   "metadata": {},
   "source": [
    "- Протокол в начале создает соединение между клиентом и сервером. Поэтому, в питоне мы один раз создаем соединение и больше не указыва\n",
    "- Протокол создает очереди клиентов для общения с сервером. Первый клиент отправляет данные серверу, остальные клиенты ждут своей очереди. Сервер общается только с одним клиентом за раз. "
   ]
  },
  {
   "cell_type": "code",
   "execution_count": null,
   "metadata": {},
   "outputs": [],
   "source": [
    "# пример серверного приложения с протоколом TCP\n",
    "import socket\n",
    "\n",
    "sock = socket.socket(socket.AF_INET, socket.SOCK_STREAM)\n",
    "sock.bind(('127.0.0.1', 55555))\n",
    "sock.listen(5)\n",
    "\n",
    "while True:\n",
    "    try:\n",
    "        client, address = sock.accept()\n",
    "    except KeyboardInterrupt:\n",
    "        sock.close()\n",
    "        break\n",
    "    else:\n",
    "        result = client.recv(1024)\n",
    "        client.close()\n",
    "        print('Message:', result.decode('utf-8'))        "
   ]
  },
  {
   "cell_type": "markdown",
   "metadata": {},
   "source": [
    "1. В конструкторе мы ставим `socket.SOCK_STREAM` - это протокол TCP. \n",
    "2. `sock.bind(('127.0.0.1', 55555))` - далее привязываем сокет к IP и порту.\n",
    "3. `sock.listen(5)` - указываем, что в очереди на отправку данных может быть не более *5* клиентов. \n",
    "4. `client, address = sock.accept()` - обрабатываем клиента из очереди. \n",
    "    - `client` - это сокет. Надо различать: `sock` - это сокет сервера. `client` - это клиентский сокет. При этом, ОС выделяет отдельный локальный порт для каждого клиента (с помощью команды `accept()`). Далее, вся работа с клиентским сокетом идет стандартно.\n",
    "    - `address` - это кортеж с IP адресом клиент и выделенным ему локальным портом.\n",
    "5. `result = client.recv(1024)` - принимаем от клиентского сокета данные как от обычного сокета. \n",
    "6. `client.close()` - после обработки клиента, его надо обязательно закрыть."
   ]
  },
  {
   "cell_type": "code",
   "execution_count": null,
   "metadata": {},
   "outputs": [],
   "source": [
    "# пример клиентского приложения с протоколом TCP\n",
    "import socket\n",
    "\n",
    "sock = socket.socket(socket.AF_INET, socket.SOCK_STREAM)\n",
    "sock.connect(('127.0.0.1', 55555))\n",
    "sock.send(b'Grond control to Major Tom')\n",
    "sock.close()"
   ]
  },
  {
   "cell_type": "markdown",
   "metadata": {},
   "source": [
    "1. Создаем клиентский сокет.\n",
    "2. `sock.connect(('127.0.0.1', 55555))` - создаем соединение с серверным сокетом по соответствующему адресу.\n",
    "3. `sock.send(b'Grond control to Major Tom')` - т.к. соединение уже установлено, то клиент может отправлять сообщения, не указывая адрес сервера еще раз."
   ]
  }
 ],
 "metadata": {
  "kernelspec": {
   "display_name": "Python 3",
   "language": "python",
   "name": "python3"
  },
  "language_info": {
   "codemirror_mode": {
    "name": "ipython",
    "version": 3
   },
   "file_extension": ".py",
   "mimetype": "text/x-python",
   "name": "python",
   "nbconvert_exporter": "python",
   "pygments_lexer": "ipython3",
   "version": "3.7.6"
  },
  "toc": {
   "base_numbering": 1,
   "nav_menu": {},
   "number_sections": true,
   "sideBar": true,
   "skip_h1_title": false,
   "title_cell": "Table of Contents",
   "title_sidebar": "Contents",
   "toc_cell": false,
   "toc_position": {},
   "toc_section_display": true,
   "toc_window_display": false
  }
 },
 "nbformat": 4,
 "nbformat_minor": 4
}
