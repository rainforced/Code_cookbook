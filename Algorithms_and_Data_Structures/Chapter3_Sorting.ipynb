{
 "cells": [
  {
   "cell_type": "markdown",
   "metadata": {},
   "source": [
    "# Сортировки"
   ]
  },
  {
   "cell_type": "markdown",
   "metadata": {},
   "source": [
    "## Binary search"
   ]
  },
  {
   "cell_type": "markdown",
   "metadata": {},
   "source": [
    "**Pseudocode**\n",
    "```python\n",
    "binary_search(list, key){\n",
    "  low = 0\n",
    "  high = list.size() - 1\n",
    "  while(low <= high){\n",
    "    mid = low + (high - low) / 2\n",
    "    if(list[mid] == k)\n",
    "        return mid\n",
    "    else if(k < list[mid])\n",
    "        high = mid - 1\n",
    "    else\n",
    "        low = mid + 1\n",
    "  }\n",
    "  return -1\n",
    "}\n",
    "```\n",
    "- Array must be sorted first\n",
    "- Time complexity O(log n)"
   ]
  },
  {
   "cell_type": "code",
   "execution_count": 1,
   "metadata": {},
   "outputs": [],
   "source": [
    "def bin_search(arr, n, k):\n",
    "    left = 0\n",
    "    right = n - 1\n",
    "    while left <= right:\n",
    "        mid = (left + right)//2\n",
    "        if arr[mid] == k:\n",
    "            return mid + 1  # the indexes in the task start with 1\n",
    "        elif arr[mid] < k:\n",
    "            left = mid + 1\n",
    "        else:\n",
    "            right = mid - 1\n",
    "    return -1"
   ]
  }
 ],
 "metadata": {
  "kernelspec": {
   "display_name": "Python 3 (ipykernel)",
   "language": "python",
   "name": "python3"
  },
  "language_info": {
   "codemirror_mode": {
    "name": "ipython",
    "version": 3
   },
   "file_extension": ".py",
   "mimetype": "text/x-python",
   "name": "python",
   "nbconvert_exporter": "python",
   "pygments_lexer": "ipython3",
   "version": "3.9.7"
  },
  "toc": {
   "base_numbering": 1,
   "nav_menu": {},
   "number_sections": true,
   "sideBar": true,
   "skip_h1_title": false,
   "title_cell": "Table of Contents",
   "title_sidebar": "Contents",
   "toc_cell": false,
   "toc_position": {},
   "toc_section_display": true,
   "toc_window_display": false
  }
 },
 "nbformat": 4,
 "nbformat_minor": 4
}
