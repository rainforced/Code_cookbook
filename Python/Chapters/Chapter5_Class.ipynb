{
 "cells": [
  {
   "cell_type": "markdown",
   "metadata": {},
   "source": [
    "# class\n",
    "- Общее: ОПП, инциализация\n",
    "- Наследование\n",
    "- Magic methods\n",
    "  - Self, other\n",
    "- Importing a class\n",
    "- In python 2.7"
   ]
  },
  {
   "cell_type": "markdown",
   "metadata": {
    "heading_collapsed": true
   },
   "source": [
    "## Общее"
   ]
  },
  {
   "cell_type": "markdown",
   "metadata": {
    "hidden": true
   },
   "source": [
    "**class** - это коллекция объектов объекдиненных общими свойствами и признаками.  \n",
    "У класса если **атрибуты (attribute)** - свойства/признаки класса, и **методы (methods)** - функции присущие только этому классу (и классам стоящим ниже по иерархии *наследования*)\n",
    "\n",
    "**ООП**    \n",
    "Класс реализуются на основе уже существующих объектов (в тч классов) – принцип **Наследования**. То что все функции внутри класса, скрыты отглаз и реализованы как методы – **Инкапсуляция**. **Полиморфизм** (способность применять одинаковые методы на разных классах) – прямое следствие наследования в классах.  \n",
    "\n",
    "**Композиция** - это вхождение одного объекта в другой. Например, в некотором классе один из атрибутов является экземпляром другого класса.\n",
    "\n",
    "Важная часть классов - **Data hiding** - атрибуты неуказаные в спецификации класса (с которыми не должен взаимодействовать пользователь, а нужны они для внутренней работы классов и т.п.) должны быть спрятаны, а пользователь не должен о них знать/иметь доступ. Т.е. юзер должен менять значение атрибутов через методы, а не напрямую.\n",
    "- to enforce data hiding use exception statemtns (see MIT6.00sc lect 11 for an example)"
   ]
  },
  {
   "cell_type": "markdown",
   "metadata": {
    "hidden": true
   },
   "source": [
    "### В питоне типы данных и структуры - это классы"
   ]
  },
  {
   "cell_type": "code",
   "execution_count": 6,
   "metadata": {
    "ExecuteTime": {
     "end_time": "2021-08-04T17:50:05.307999Z",
     "start_time": "2021-08-04T17:50:05.291015Z"
    },
    "hidden": true
   },
   "outputs": [
    {
     "name": "stdout",
     "output_type": "stream",
     "text": [
      "<class 'int'>\n",
      "<class 'int'>\n",
      "<class 'float'>\n",
      "<class 'dict'>\n"
     ]
    }
   ],
   "source": [
    "print(int)\n",
    "print(type(3))\n",
    "\n",
    "print(type(3.0))\n",
    "\n",
    "d = {\"a\":1, \"b\":2}\n",
    "print(type(d))"
   ]
  },
  {
   "cell_type": "markdown",
   "metadata": {
    "hidden": true
   },
   "source": [
    "`isinstance(obj, type)` - проверяет является ли объект obj экземпляром класса type."
   ]
  },
  {
   "cell_type": "code",
   "execution_count": 10,
   "metadata": {
    "ExecuteTime": {
     "end_time": "2021-08-04T17:52:08.274023Z",
     "start_time": "2021-08-04T17:52:08.269007Z"
    },
    "hidden": true
   },
   "outputs": [
    {
     "name": "stdout",
     "output_type": "stream",
     "text": [
      "True\n",
      "True\n",
      "False\n"
     ]
    }
   ],
   "source": [
    "print(isinstance(3, int))\n",
    "print(isinstance({\"a\":1, \"b\":2}, dict))\n",
    "print(isinstance({\"a\":1, \"b\":2}, int))"
   ]
  },
  {
   "cell_type": "markdown",
   "metadata": {
    "hidden": true
   },
   "source": [
    "### Структура класса"
   ]
  },
  {
   "cell_type": "code",
   "execution_count": 3,
   "metadata": {
    "ExecuteTime": {
     "end_time": "2021-08-09T15:18:46.262626Z",
     "start_time": "2021-08-09T15:18:46.257848Z"
    },
    "hidden": true
   },
   "outputs": [],
   "source": [
    "class Car():\n",
    "    \"\"\"class description: This class represents a car\"\"\"\n",
    "    def __init__(self, model, year):       #set class attributes\n",
    "        self.model = model                 #attrubutes \n",
    "        self.year = year\n",
    "        self.cost = 4000        # задано значение по дефолту\n",
    "        self.odometer_reading = 0\n",
    "        \n",
    "    def update_odometer(self, mileage):\n",
    "        \"\"\"\n",
    "        Set the odometer reading to the given value.\n",
    "        \"\"\" \n",
    "        self.odometer_reading += mileage\n",
    "    \n",
    "    def read_car_stats(self):\n",
    "        return str('Car: ' + str(self.model) +' ' + str(self.year) +', with ' + str(self.odometer_reading) +' miles')"
   ]
  },
  {
   "cell_type": "markdown",
   "metadata": {
    "hidden": true
   },
   "source": [
    "- `\"\"\"class description\"\"\"` - коменнтарий к классу. Он будет выведен, если выполнить команду `help`.\n",
    "- `__init__(self, attribute1, attribute2, attribute3, ...)` - ф-ция инициализатор. Этот метод инициализирует атрибуты класса. На самом деле, если атрибут не упомянут в `__init__`, а будет упомянут далее в методе, то этого будет достаточно (все будет работать). **Но будут проблемы с унаследованием: наследуюстя только те отрибуты, что находятся в `__init__`**.\n",
    "- Далее идут методы (все как с обычными функциями). Им вседа надо передать `self`, даже если методы не использует методы и атрибуты класса (см. ниже почему).\n",
    "- `self` - это указатель на конкретный экземпляр класса (см. ниже подробнее).\n",
    "- `my_car = Car('Toyta', '2007')` - создание **instance (экземпляр)** класса Car. `class Car()` - по договору, классы обозначаются с большой буквы, а instance этого класса с маленькой."
   ]
  },
  {
   "cell_type": "code",
   "execution_count": 31,
   "metadata": {
    "ExecuteTime": {
     "end_time": "2021-08-06T15:50:46.915861Z",
     "start_time": "2021-08-06T15:50:46.896873Z"
    },
    "hidden": true
   },
   "outputs": [
    {
     "name": "stdout",
     "output_type": "stream",
     "text": [
      "Car: Toyta 2007, with 0 miles\n",
      "Car: Lada 2007, with 609 miles\n"
     ]
    }
   ],
   "source": [
    "my_car = Car('Toyta', '2007')\n",
    "print(my_car.read_car_stats())\n",
    "my_car.update_odometer(609)\n",
    "my_car.model = 'Lada'               # поменял атрибуд этого экземпляра\n",
    "print(my_car.read_car_stats())"
   ]
  },
  {
   "cell_type": "markdown",
   "metadata": {
    "hidden": true
   },
   "source": [
    "### **Экземпляры классов хэшируемы**\n",
    "Поэтому их можно использовать в качестве ключей словарей или добавлять в множества. "
   ]
  },
  {
   "cell_type": "code",
   "execution_count": 44,
   "metadata": {
    "ExecuteTime": {
     "end_time": "2021-08-04T18:14:23.006492Z",
     "start_time": "2021-08-04T18:14:22.997493Z"
    },
    "hidden": true
   },
   "outputs": [
    {
     "name": "stdout",
     "output_type": "stream",
     "text": [
      "2\n",
      "2\n"
     ]
    }
   ],
   "source": [
    "new_car = Car(\"Lada\", 1999)\n",
    "crrr =  {new_car: 2}\n",
    "print(crrr[new_car])\n",
    "# changing new_car\n",
    "new_car.update_odometer(1111)\n",
    "print(crrr[new_car])\n",
    "# ничего не сломалось, не смотря на то, что хэшируемый объект был изменен"
   ]
  },
  {
   "cell_type": "markdown",
   "metadata": {
    "hidden": true
   },
   "source": [
    "### **`dir()`**, **`help()`**, **`__doc__`**     \n",
    "- По дефолту у любого класса уже определенны некоторые методы (конструктор, деструктор, инициализатор, ф-ции вывода на экран и тд). Все методы можно получть с помощью команды `dir(obj)`.     \n",
    "- Общюю информацию и описание класса можно получить с помощью команды `help(obj)`.    \n",
    "- `__doc__` - выводит описание класса. \n",
    "\n",
    "Можно передавать как экземпляр класса, так и сам класс."
   ]
  },
  {
   "cell_type": "code",
   "execution_count": 4,
   "metadata": {
    "ExecuteTime": {
     "end_time": "2021-08-09T15:18:49.601627Z",
     "start_time": "2021-08-09T15:18:49.592049Z"
    },
    "hidden": true
   },
   "outputs": [
    {
     "data": {
      "text/plain": [
       "'class description: This class represents a car'"
      ]
     },
     "execution_count": 4,
     "metadata": {},
     "output_type": "execute_result"
    }
   ],
   "source": [
    "Car.__doc__"
   ]
  },
  {
   "cell_type": "markdown",
   "metadata": {
    "hidden": true
   },
   "source": [
    "### __dict__\n",
    "Ф-ция `__dict__` возвращает словарь, который содержит 1) атрибуты и их значения (если вызван на экземпляре класса) или 2) описание методов (если вызван напряму на классе)."
   ]
  },
  {
   "cell_type": "code",
   "execution_count": 9,
   "metadata": {
    "ExecuteTime": {
     "end_time": "2021-08-09T15:23:05.425029Z",
     "start_time": "2021-08-09T15:23:05.408025Z"
    },
    "hidden": true
   },
   "outputs": [
    {
     "name": "stdout",
     "output_type": "stream",
     "text": [
      "{'model': 'Toyota', 'year': 1999, 'cost': 4000, 'odometer_reading': 0}\n",
      "{'model': 'Toyota', 'year': 1999, 'cost': 4000, 'odometer_reading': 0, 'tank': 'full'}\n"
     ]
    }
   ],
   "source": [
    "new_car = Car(\"Toyota\", 1999)\n",
    "print(new_car.__dict__)\n",
    "new_car.tank = \"full\"\n",
    "print(new_car.__dict__)"
   ]
  },
  {
   "cell_type": "markdown",
   "metadata": {
    "hidden": true
   },
   "source": [
    "Ф-ция возвращает словарь со всеми атрибутами и их значениями для данного экземпляра."
   ]
  },
  {
   "cell_type": "code",
   "execution_count": 5,
   "metadata": {
    "ExecuteTime": {
     "end_time": "2021-08-09T15:20:56.450832Z",
     "start_time": "2021-08-09T15:20:56.439829Z"
    },
    "hidden": true
   },
   "outputs": [
    {
     "data": {
      "text/plain": [
       "mappingproxy({'__module__': '__main__',\n",
       "              '__doc__': 'class description: This class represents a car',\n",
       "              '__init__': <function __main__.Car.__init__(self, model, year)>,\n",
       "              'update_odometer': <function __main__.Car.update_odometer(self, mileage)>,\n",
       "              'read_car_stats': <function __main__.Car.read_car_stats(self)>,\n",
       "              '__dict__': <attribute '__dict__' of 'Car' objects>,\n",
       "              '__weakref__': <attribute '__weakref__' of 'Car' objects>})"
      ]
     },
     "execution_count": 5,
     "metadata": {},
     "output_type": "execute_result"
    }
   ],
   "source": [
    "Car.__dict__new_car = Car(\"Toyota\", 1999)\n",
    "print(new_car.__dict__)\n",
    "new_car.tank = \"full\"\n",
    "print(new_car.__dict__)"
   ]
  },
  {
   "cell_type": "markdown",
   "metadata": {
    "hidden": true
   },
   "source": [
    "У самого класса тоже есть словарь. Он содержит описание методов, которые принадлежат этому классу."
   ]
  },
  {
   "cell_type": "code",
   "execution_count": 9,
   "metadata": {
    "ExecuteTime": {
     "end_time": "2021-08-09T15:23:05.425029Z",
     "start_time": "2021-08-09T15:23:05.408025Z"
    },
    "hidden": true
   },
   "outputs": [
    {
     "name": "stdout",
     "output_type": "stream",
     "text": [
      "{'model': 'Toyota', 'year': 1999, 'cost': 4000, 'odometer_reading': 0}\n",
      "{'model': 'Toyota', 'year': 1999, 'cost': 4000, 'odometer_reading': 0, 'tank': 'full'}\n"
     ]
    }
   ],
   "source": [
    "new_car = Car(\"Toyota\", 1999)\n",
    "print(new_car.__dict__)\n",
    "new_car.tank = \"full\"\n",
    "print(new_car.__dict__)"
   ]
  },
  {
   "cell_type": "markdown",
   "metadata": {
    "heading_collapsed": true
   },
   "source": [
    "## Атрибуты"
   ]
  },
  {
   "cell_type": "markdown",
   "metadata": {
    "heading_collapsed": true,
    "hidden": true
   },
   "source": [
    "### Статические атрибуты классов"
   ]
  },
  {
   "cell_type": "markdown",
   "metadata": {
    "hidden": true
   },
   "source": [
    "В классе могут быть определены статические атрибуты. Они принадлежат классу, а не экземплярам. Таким образом, если статический атрибут изменить, то он поменяется для всех экземпляров класса. Получить доступ к нему можно как через любой из экземпляров, так и через сам класс. "
   ]
  },
  {
   "cell_type": "code",
   "execution_count": 38,
   "metadata": {
    "ExecuteTime": {
     "end_time": "2021-08-06T16:12:15.234406Z",
     "start_time": "2021-08-06T16:12:15.225431Z"
    },
    "hidden": true
   },
   "outputs": [
    {
     "name": "stdout",
     "output_type": "stream",
     "text": [
      "5\n",
      "6\n"
     ]
    }
   ],
   "source": [
    "class MyClass:\n",
    "    \n",
    "    counter = 0\n",
    "    \n",
    "    def __init__(self, x):\n",
    "        MyClass.counter += 1\n",
    "        self.x = x\n",
    "        \n",
    "test_list = [MyClass(i) for i in range(5)]\n",
    "print(MyClass.counter) # доступ через класс\n",
    "\n",
    "other_test = MyClass(111)\n",
    "print(other_test.counter) # доступ через экземпляр"
   ]
  },
  {
   "cell_type": "markdown",
   "metadata": {
    "ExecuteTime": {
     "end_time": "2021-08-06T16:07:53.969171Z",
     "start_time": "2021-08-06T16:07:53.964193Z"
    },
    "hidden": true
   },
   "source": [
    "В питоне методы - это обычные ф-ции, и они должны явно получать экземпляры класса. Внутри `__init__` переменная counter не определена. Чтобы получить к ней доступ, необходимо вызывать ее через класс: `MyClass.counter += 1`"
   ]
  },
  {
   "cell_type": "markdown",
   "metadata": {
    "hidden": true
   },
   "source": [
    "### Uniform access principle (все атрибуты доступны извне)"
   ]
  },
  {
   "cell_type": "markdown",
   "metadata": {
    "hidden": true
   },
   "source": [
    "В питоне реализован **Uniform access principle**. Тут нет *private* полей или методов, поэтому к любому атрибуту можно получть доступ извне. Uniform access principle подразумевает:\n",
    "- К любому атрибуту можно получить доступ и изменить его напрямую (не через getter или setter). Т.е. `foo.x = 0`, не `foo.set_x(0)`."
   ]
  },
  {
   "cell_type": "markdown",
   "metadata": {
    "hidden": true
   },
   "source": [
    "### private и protected атрибуты\n",
    "**Существует соглашение:** атрибуты и методы, начинающиеся с нижнего подчеркивания - это **protected** или **private** методы. \n",
    "- `<имя_атрибута>` - это **public**. Например, `name = \"Bob\"`. \n",
    "- `_<имя_атрибута>` - это **protected**. Например, `_name = \"Bob\"`. или `_protected_fucnt(self, x)`. На самом деле, такие атрибуты доступны извне и ничем не отличаются от public атрибутов. Нижнее подчеркивание просто говорит программисту, что это служебный атрибут и к нему не стоит обращаться напримую. \n",
    "- `__<имя_атрибута>` - это **private**. Например, `__name = \"Bob\"` или `__private_fucnt(self, x)`. Интерпретатор затрудняет доступ у таким атрибутам, однако не делает их недоступными (см. подробее далее).\n"
   ]
  },
  {
   "cell_type": "code",
   "execution_count": 4,
   "metadata": {
    "ExecuteTime": {
     "end_time": "2021-08-26T14:19:59.360283Z",
     "start_time": "2021-08-26T14:19:59.342293Z"
    },
    "hidden": true
   },
   "outputs": [
    {
     "ename": "AttributeError",
     "evalue": "'Test' object has no attribute '__PrivateFunct'",
     "output_type": "error",
     "traceback": [
      "\u001b[1;31m---------------------------------------------------------------------------\u001b[0m",
      "\u001b[1;31mAttributeError\u001b[0m                            Traceback (most recent call last)",
      "\u001b[1;32m<ipython-input-4-099a2da1e050>\u001b[0m in \u001b[0;36m<module>\u001b[1;34m\u001b[0m\n\u001b[0;32m      7\u001b[0m \u001b[1;33m\u001b[0m\u001b[0m\n\u001b[0;32m      8\u001b[0m \u001b[0mtest\u001b[0m \u001b[1;33m=\u001b[0m \u001b[0mTest\u001b[0m\u001b[1;33m(\u001b[0m\u001b[1;33m)\u001b[0m\u001b[1;33m\u001b[0m\u001b[1;33m\u001b[0m\u001b[0m\n\u001b[1;32m----> 9\u001b[1;33m \u001b[0mtest\u001b[0m\u001b[1;33m.\u001b[0m\u001b[0m__PrivateFunct\u001b[0m\u001b[1;33m(\u001b[0m\u001b[1;33m)\u001b[0m \u001b[1;31m#AttributeError\u001b[0m\u001b[1;33m\u001b[0m\u001b[1;33m\u001b[0m\u001b[0m\n\u001b[0m\u001b[0;32m     10\u001b[0m \u001b[0mprint\u001b[0m\u001b[1;33m(\u001b[0m\u001b[0mtest\u001b[0m\u001b[1;33m.\u001b[0m\u001b[0m__private_property\u001b[0m\u001b[1;33m)\u001b[0m \u001b[1;31m#AttributeError\u001b[0m\u001b[1;33m\u001b[0m\u001b[1;33m\u001b[0m\u001b[0m\n",
      "\u001b[1;31mAttributeError\u001b[0m: 'Test' object has no attribute '__PrivateFunct'"
     ]
    }
   ],
   "source": [
    "class Test():\n",
    "    __private_property = 0    # нет доступа извне\n",
    "\n",
    "    def __PrivateFunct(self): # нет доступа извне\n",
    "        print(\"This is private\")\n",
    "        \n",
    "        \n",
    "test = Test()\n",
    "test.__PrivateFunct() #AttributeError\n",
    "print(test.__private_property) #AttributeError"
   ]
  },
  {
   "cell_type": "markdown",
   "metadata": {
    "hidden": true
   },
   "source": [
    "Однако, *это только соглашение*, и получить доступ к private атрибутам все равно можно. Делается это с помощью команды типа: `<экзмпляр>._<имя_класса>__<имя_переменной>`."
   ]
  },
  {
   "cell_type": "code",
   "execution_count": 7,
   "metadata": {
    "ExecuteTime": {
     "end_time": "2021-08-26T14:20:46.049923Z",
     "start_time": "2021-08-26T14:20:46.029925Z"
    },
    "hidden": true
   },
   "outputs": [
    {
     "name": "stdout",
     "output_type": "stream",
     "text": [
      "This is private\n",
      "0\n"
     ]
    }
   ],
   "source": [
    "class Test():\n",
    "    __private_property = 0    # нет доступа извне\n",
    "\n",
    "    def __PrivateFunct(self): # нет доступа извне\n",
    "        print(\"This is private\")\n",
    "        \n",
    "        \n",
    "test = Test()\n",
    "test._Test__PrivateFunct() #<экзмпляр>._<имя_класса>__<имя_переменной>\n",
    "print(test._Test__private_property) "
   ]
  },
  {
   "cell_type": "markdown",
   "metadata": {
    "hidden": true
   },
   "source": [
    "### Инкапсуляция\n",
    "Для инкапсуляции в питоне, используютеся следующие методы:\n",
    "1. Переопределение стандартных getter, settere и деструктора (`__setattr__`,`__getattribute__`,`__getattr__` и `__detattr__`).\n",
    "2. Использование `property`.\n",
    "3. Использование дескрипторов.\n",
    "\n",
    "см. описание в разделе *Методы*. "
   ]
  },
  {
   "cell_type": "markdown",
   "metadata": {
    "hidden": true
   },
   "source": [
    "### `__slots__` - список разрешенных атрибутов\n",
    "`__slots__` - это статический список, где запианы имена разрешенных атрибут для данного класса. Нельзя добавить атрибут, который не указан в нем."
   ]
  },
  {
   "cell_type": "code",
   "execution_count": 24,
   "metadata": {
    "ExecuteTime": {
     "end_time": "2021-08-27T14:10:48.580328Z",
     "start_time": "2021-08-27T14:10:48.560321Z"
    },
    "hidden": true
   },
   "outputs": [
    {
     "ename": "AttributeError",
     "evalue": "'Test' object has no attribute 'z'",
     "output_type": "error",
     "traceback": [
      "\u001b[1;31m---------------------------------------------------------------------------\u001b[0m",
      "\u001b[1;31mAttributeError\u001b[0m                            Traceback (most recent call last)",
      "\u001b[1;32m<ipython-input-24-d7e348924c5e>\u001b[0m in \u001b[0;36m<module>\u001b[1;34m\u001b[0m\n\u001b[0;32m      7\u001b[0m \u001b[1;33m\u001b[0m\u001b[0m\n\u001b[0;32m      8\u001b[0m \u001b[0mtest\u001b[0m \u001b[1;33m=\u001b[0m \u001b[0mTest\u001b[0m\u001b[1;33m(\u001b[0m\u001b[1;36m5\u001b[0m\u001b[1;33m,\u001b[0m \u001b[1;36m10\u001b[0m\u001b[1;33m)\u001b[0m\u001b[1;33m\u001b[0m\u001b[1;33m\u001b[0m\u001b[0m\n\u001b[1;32m----> 9\u001b[1;33m \u001b[0mtest\u001b[0m\u001b[1;33m.\u001b[0m\u001b[0mz\u001b[0m \u001b[1;33m=\u001b[0m \u001b[1;36m15\u001b[0m \u001b[1;31m# атрибут z не входит в колекцию __slots__, поэтому\u001b[0m\u001b[1;33m\u001b[0m\u001b[1;33m\u001b[0m\u001b[0m\n\u001b[0m\u001b[0;32m     10\u001b[0m             \u001b[1;31m# он не может быть добавлен\u001b[0m\u001b[1;33m\u001b[0m\u001b[1;33m\u001b[0m\u001b[1;33m\u001b[0m\u001b[0m\n",
      "\u001b[1;31mAttributeError\u001b[0m: 'Test' object has no attribute 'z'"
     ]
    }
   ],
   "source": [
    "class Test():\n",
    "    __slots__ = ['x', 'y']\n",
    "    \n",
    "    def __init__(self, x, y):\n",
    "        self.x = x\n",
    "        self.y = y\n",
    "                \n",
    "test = Test(5, 10)\n",
    "test.z = 15 # атрибут z не входит в колекцию __slots__, поэтому\n",
    "            # он не может быть добавлен"
   ]
  },
  {
   "cell_type": "markdown",
   "metadata": {
    "heading_collapsed": true
   },
   "source": [
    "## `__init__`, `__new__` и `__del__`"
   ]
  },
  {
   "cell_type": "markdown",
   "metadata": {
    "hidden": true
   },
   "source": [
    "Источник [Stackoverflow: \"Why is init() always called after new()?\"](https://stackoverflow.com/questions/674304/why-is-init-always-called-after-new)"
   ]
  },
  {
   "cell_type": "markdown",
   "metadata": {
    "hidden": true
   },
   "source": [
    "- `__new__` - конструктор. Он создает экземпляр (instance) класса и возвращет его. Use `__new__` when you need to control the creation of a new instance.\n",
    "- `__init__` - инициализатор. Он инициализирует уже созданный эземпляр (instance). Use `__init__` when you need to control initialization of a new instance.\n",
    "\n",
    "`__new__` is the first step of instance creation. It's called first, and is responsible for returning a new instance of your class. In contrast, `__init__` doesn't return anything; it's only responsible for initializing the instance after it's been created.\n",
    "\n",
    "In general, you shouldn't need to override `__new__`. "
   ]
  },
  {
   "cell_type": "markdown",
   "metadata": {
    "hidden": true
   },
   "source": [
    "Пример использования конструктора `__new__` - это класс **Singleton**:\n",
    "```python\n",
    "class Singleton:\n",
    "    \"\"\"Новый объект создается только один раз\"\"\"\n",
    "    instance = None\n",
    "    \n",
    "    def __new__(cls):\n",
    "        if cls.instance is None: \n",
    "            cls.instance = super().__init__(cls)\n",
    "        \n",
    "        return cls.instance\n",
    "```\n",
    "Так, если попытаться создать 2 объекта, то создасться только один."
   ]
  },
  {
   "cell_type": "markdown",
   "metadata": {
    "hidden": true
   },
   "source": [
    "### `del` - деструктор класса"
   ]
  },
  {
   "cell_type": "markdown",
   "metadata": {
    "hidden": true
   },
   "source": [
    "Обычно он не переопределяется вручную, тк в питоне нет необходимости работать с памятью и тп. Поэтому хватает и автоматического деструктора.    \n",
    "\n",
    "Деструкторы вызывается каждый раз, когда счетчик ссылок на объект равен нулю в данной области видимости (например, внутри ф-ции). "
   ]
  },
  {
   "cell_type": "code",
   "execution_count": 22,
   "metadata": {
    "ExecuteTime": {
     "end_time": "2021-08-06T15:41:43.770508Z",
     "start_time": "2021-08-06T15:41:43.751506Z"
    },
    "hidden": true,
    "scrolled": true
   },
   "outputs": [
    {
     "name": "stdout",
     "output_type": "stream",
     "text": [
      "Enter the function\n",
      "Exit the function\n",
      "I'm a destructor: Deleting Toyota\n"
     ]
    }
   ],
   "source": [
    "class Car():\n",
    "    def __init__(self, name):\n",
    "        self.name = name\n",
    "        \n",
    "    def __del__(self):\n",
    "        print(\"I'm a destructor: Deleting \" + self.name)\n",
    "\n",
    "def test_funct():\n",
    "    # область видимости ограничена этой ф-цией\n",
    "    print(\"Enter the function\")\n",
    "    test_car = Car(\"Toyota\")\n",
    "    print(\"Exit the function\")\n",
    "    # при завершении ф-ции, удаляются объекты в ее\n",
    "    # области видимости -> вызывается деструктор\n",
    "    \n",
    "test_funct()"
   ]
  },
  {
   "cell_type": "markdown",
   "metadata": {
    "heading_collapsed": true
   },
   "source": [
    "## self\n",
    "В питоне методы реализованы так, что они автоматические *передают* объект, на котором вызывается метод. Однако, они *принимают* этот объект явно (первый параметр метода, те`self`, принимает эземпляр, который вызвает этот метод). Таким образом методы в питоне ничем не отличаются от обычных ф-ций. Они требуют явной передачи вызывающего их эземпляра. Что это значит:"
   ]
  },
  {
   "cell_type": "markdown",
   "metadata": {
    "hidden": true
   },
   "source": [
    "Python decided to do methods in a way that makes the instance to which the method belongs be *passed* automatically, but not *received* automatically: the first parameter of methods is the instance the method is called on. That makes methods entirely the same as functions, and leaves the actual name to use up to you (although `self` is the convention, and people will generally frown at you when you use something else.) `self` is not special to the code, it's just another object."
   ]
  },
  {
   "cell_type": "code",
   "execution_count": 46,
   "metadata": {
    "ExecuteTime": {
     "end_time": "2021-08-04T19:14:23.609450Z",
     "start_time": "2021-08-04T19:14:23.593441Z"
    },
    "hidden": true
   },
   "outputs": [
    {
     "name": "stdout",
     "output_type": "stream",
     "text": [
      "Inside methodA 1 2\n"
     ]
    }
   ],
   "source": [
    "class A:\n",
    "    def methodA(self, arg1, arg2): # явно принимается объект ObjectA \n",
    "        print(\"Inside methodA\", arg1, arg2)\n",
    "        \n",
    "ObjectA = A()\n",
    "ObjectA.methodA(arg1 = 1, arg2 = 2) # автоматически передан объект ObjectA\n",
    "# что происходит на деле\n",
    "# ClassA.methodA(ObjectA, arg1 = 1, arg2 = 2)"
   ]
  },
  {
   "cell_type": "markdown",
   "metadata": {
    "hidden": true
   },
   "source": [
    "При этом имя переменной может быть любым. Это общее соглащение (а не часть синтаксиса) - называть параметр:\n",
    "- Для ссылки на экземпляр использовать `self`.\n",
    "- Использовать `cls`, если переменная указывает на сам класс (см. далее про `@classmethod`)."
   ]
  },
  {
   "cell_type": "code",
   "execution_count": 2,
   "metadata": {
    "ExecuteTime": {
     "end_time": "2021-08-06T14:56:05.772927Z",
     "start_time": "2021-08-06T14:56:05.754932Z"
    },
    "hidden": true
   },
   "outputs": [
    {
     "name": "stdout",
     "output_type": "stream",
     "text": [
      "Inside methodA 1 2\n"
     ]
    }
   ],
   "source": [
    "class A:\n",
    "    def methodA(wrong_way_of_calling_things, arg1, arg2): # все равно будет работать, не смотря\n",
    "        print(\"Inside methodA\", arg1, arg2)               # на то, что мы не использовали self\n",
    "        \n",
    "ObjectA = A()\n",
    "ObjectA.methodA(arg1 = 1, arg2 = 2) # автоматически передан объект ObjectA"
   ]
  },
  {
   "cell_type": "markdown",
   "metadata": {
    "hidden": true
   },
   "source": [
    "### Self and other"
   ]
  },
  {
   "cell_type": "markdown",
   "metadata": {
    "hidden": true
   },
   "source": [
    "The parameter `other` is (for example) another instance of a class. Take the following example:"
   ]
  },
  {
   "cell_type": "code",
   "execution_count": 24,
   "metadata": {
    "ExecuteTime": {
     "end_time": "2019-06-20T22:01:58.079174Z",
     "start_time": "2019-06-20T22:01:58.074174Z"
    },
    "hidden": true
   },
   "outputs": [],
   "source": [
    "class MyClass:\n",
    "\n",
    "    def __init__(self, x, y):\n",
    "        self.x = x\n",
    "        self.y = y\n",
    "        \n",
    "    def __add__(self, other):\n",
    "        f = self.x + other.x\n",
    "        e = self.y + other.y\n",
    "        return MyClass(f, e)"
   ]
  },
  {
   "cell_type": "code",
   "execution_count": 4,
   "metadata": {
    "hidden": true
   },
   "outputs": [
    {
     "name": "stdout",
     "output_type": "stream",
     "text": [
      "4 6 \n",
      " <class '__main__.MyClass'>\n"
     ]
    }
   ],
   "source": [
    "a = MyClass(1, 2)\n",
    "b = MyClass(3, 4)\n",
    "c = a + b \n",
    "print(c.x, c.y, '\\n', type(c))"
   ]
  },
  {
   "cell_type": "markdown",
   "metadata": {
    "hidden": true
   },
   "source": [
    "In this case (c = a + b $\\implies$ $__add__$) a is `self` and b is `other`."
   ]
  },
  {
   "cell_type": "markdown",
   "metadata": {
    "heading_collapsed": true
   },
   "source": [
    "## Методы"
   ]
  },
  {
   "cell_type": "markdown",
   "metadata": {
    "hidden": true
   },
   "source": [
    "Методы в классах - это обычные ф-ции. Поэтому, если им надо знать информацию о классе или экземпляре, то им надо передать либо сам класс (`cls`), либо экземпляр класса (`self`) - подробнее смотри ниже. Однако, в классе могут быть и статические ф-ции, которые не требуют знаний о классе или экземпляре. "
   ]
  },
  {
   "cell_type": "markdown",
   "metadata": {
    "hidden": true
   },
   "source": [
    "**В питоне 3 вида методов:**\n",
    "1. **Bound methods**: стандартрные методы, работающие с экземплярами и требующие на них ссылку (т.е. `self`). Они привязаны к своим экземплярам.\n",
    "2. **Class methods**: методы работающие с данными всего класса, соотеветсвенно, требующие на него ссылку (т.е. `cls`). Они не превязаны к экземплярами (и ничего о них не знают), но привязаны к самому классу. \n",
    "3. **Static methods**:  методы, которые ничего не знают ни о классе, ни об экземпляре. Он не принимает неявных аргументов, только явные. Он не имеет доступа ни к экземплярам, ни к самому классу. По сути, это обычная ф-ция логически связанная с классом, которая не имеет доступа его данным."
   ]
  },
  {
   "cell_type": "markdown",
   "metadata": {
    "hidden": true
   },
   "source": [
    "### Как происходит вызов ф-ции"
   ]
  },
  {
   "cell_type": "markdown",
   "metadata": {
    "hidden": true
   },
   "source": [
    "#### Методы и экземпляры"
   ]
  },
  {
   "cell_type": "code",
   "execution_count": 25,
   "metadata": {
    "ExecuteTime": {
     "end_time": "2021-08-30T18:11:30.541456Z",
     "start_time": "2021-08-30T18:11:30.523473Z"
    },
    "hidden": true
   },
   "outputs": [
    {
     "name": "stdout",
     "output_type": "stream",
     "text": [
      "<bound method Test.test_funct of <__main__.Test object at 0x000001404EB05A88>>\n",
      "<bound method Test.test_funct of <__main__.Test object at 0x000001404EB16D48>>\n"
     ]
    }
   ],
   "source": [
    "class Test():\n",
    "    def __init__(self, name):\n",
    "        self.name = name\n",
    "    \n",
    "    def test_funct(self):\n",
    "        print('do nothing', self.name)\n",
    "        \n",
    "test1 = Test('A')\n",
    "print(test1.test_funct)\n",
    "test2 = Test('B')\n",
    "print(test2.test_funct)"
   ]
  },
  {
   "cell_type": "markdown",
   "metadata": {
    "hidden": true
   },
   "source": [
    "При объявлении класса, в памяти создается объект содержащий в себе все реализации методов. Когда мы создаем экзепляры класса, они не создают локальные копии методов. При вызове метода через разные экземпляры, мы обращаемся к одному и тому же методу класса, передавая в него параметр `self`, поэтому метод знает всю информацию об экземпляре (не смотря на то, что у экземпляра нет локальной реализации этого метода).\n",
    "\n",
    "Так в примере выше, мы создали класс `Test`, у которого есть метод `test_funct`. Когда экземпляры `test1` и `test2` вызывают этот метод, они используют одну и ту же реализацию `Test.test_funct`, просто передавая туда ссылку на себя через параметр `self`."
   ]
  },
  {
   "cell_type": "markdown",
   "metadata": {
    "hidden": true
   },
   "source": [
    "#### Три типа методов"
   ]
  },
  {
   "cell_type": "markdown",
   "metadata": {
    "hidden": true
   },
   "source": [
    "В питоне, методы реализованы на основе дескрипторов: т.е. методы - это классы, у которых существует метод для вызова: `__get__(self, instance, owner = None)`, где `instance` - ссылка на экземпляра класса, обрабатываемый дескриптором; `owner` - ссылка на класс, обрабатываемый дескриптором; `self` - сслыка на сам дексриптор, т.е. для нас это служебный аргумент. Иначе говоря, `__get__(self, object, object_type = None)`. Таким образом,\n",
    "\n",
    "- Для **bound methods**: `object = экземпляр, на котором вызван метод`, `object_type = класс данного экземпляра`.\n",
    "- Для **class methods**: `object = класс`, `object_type = None`\n",
    "- Для **static methods**: `object = None`, `object_type = None`."
   ]
  },
  {
   "cell_type": "markdown",
   "metadata": {
    "hidden": true
   },
   "source": [
    "**bound methods** имеет полноценный `__get__(self, instance, owner)`. При вызове такого метода, ему требуется *неявно* предоставить все 3 параметра. Например:"
   ]
  },
  {
   "cell_type": "code",
   "execution_count": 23,
   "metadata": {
    "ExecuteTime": {
     "end_time": "2021-08-28T12:08:57.908109Z",
     "start_time": "2021-08-28T12:08:57.898137Z"
    },
    "hidden": true
   },
   "outputs": [
    {
     "name": "stdout",
     "output_type": "stream",
     "text": [
      "Called method_one\n"
     ]
    }
   ],
   "source": [
    "class Test(object):\n",
    "    def method_one(self):\n",
    "        print(\"Called method_one\")\n",
    "\n",
    "a_test = Test()\n",
    "a_test.method_one()"
   ]
  },
  {
   "cell_type": "markdown",
   "metadata": {
    "hidden": true
   },
   "source": [
    "Вызов метода `method_one(self)`, на самом деле преобразуется в вызов `Test.method_one(a_test)`. А еще подробнее, при этом вызове, выполняется команда `Test.method_one.__get__(a_test, Test)`"
   ]
  },
  {
   "cell_type": "code",
   "execution_count": 39,
   "metadata": {
    "ExecuteTime": {
     "end_time": "2021-08-28T12:34:26.190548Z",
     "start_time": "2021-08-28T12:34:26.172563Z"
    },
    "hidden": true
   },
   "outputs": [
    {
     "data": {
      "text/plain": [
       "<bound method Test.method_one of <__main__.Test object at 0x00000200F8F3B908>>"
      ]
     },
     "execution_count": 39,
     "metadata": {},
     "output_type": "execute_result"
    }
   ],
   "source": [
    "Test.method_one.__get__(a_test, Test) # тут self, соответсвующий дескриптору, передается неявно"
   ]
  },
  {
   "cell_type": "markdown",
   "metadata": {
    "heading_collapsed": true,
    "hidden": true
   },
   "source": [
    "#### Статическая ф-ция"
   ]
  },
  {
   "cell_type": "markdown",
   "metadata": {
    "hidden": true
   },
   "source": [
    "Например, ф-ция, которая проверяет правильность введенных данных. *Для вызова ф-ции, нужно указать пространство имен, где она определена*; в нашем случаи - это `MyClass`, те вызов: `MyClass.intCheck()`. Это **статическая ф-ция**, хотя декоратор `@staticmethod` не использовался."
   ]
  },
  {
   "cell_type": "code",
   "execution_count": 47,
   "metadata": {
    "ExecuteTime": {
     "end_time": "2021-08-28T12:37:26.850412Z",
     "start_time": "2021-08-28T12:37:26.841429Z"
    },
    "hidden": true
   },
   "outputs": [
    {
     "name": "stdout",
     "output_type": "stream",
     "text": [
      "ok\n",
      "Это не int\n",
      "<function MyClass.intCheck at 0x00000200F8FF3288>\n",
      "<function MyClass.xintCheck at 0x00000200F8FF3558>\n"
     ]
    }
   ],
   "source": [
    "class MyClass():\n",
    "    \"\"\"Мой класса обрабатывает только int\"\"\"\n",
    "    def intCheck(x): # это статическая ф-ция\n",
    "        return isinstance(x, int)\n",
    "\n",
    "    @staticmethod\n",
    "    def xintCheck(x): # это статическая ф-ция\n",
    "        return isinstance(x, int)\n",
    "    \n",
    "    def __init__(self, x):\n",
    "        if MyClass.intCheck(x): #хотим, чтобы это были int\n",
    "            print(\"ok\")\n",
    "            self.x = x \n",
    "        else: \n",
    "            print(\"Это не int\")\n",
    "\n",
    "test1 = MyClass(10) #ok\n",
    "test2 = MyClass(10.01) #ok\n",
    "print(MyClass.intCheck)\n",
    "print(MyClass.xintCheck)"
   ]
  },
  {
   "cell_type": "markdown",
   "metadata": {
    "heading_collapsed": true,
    "hidden": true
   },
   "source": [
    "#### @staticmethod и @classmethod"
   ]
  },
  {
   "cell_type": "markdown",
   "metadata": {
    "hidden": true
   },
   "source": [
    "`@staticmethod` - это метод, который ничего не знает о классе, на котором он был вызван. Он не принимает неявных аргументов, только явные. Он не имеет доступа ни к экземплярам, ни к самому классу. По сути, это обычная ф-ция логически связанная с классом, которая не имеет доступа его данным.     \n",
    "\n",
    "`@classmethod` - метод, который неявно принимает класс (`cls`). Они имеет доступ атрибутам класса (но не экземпляра). Таким образом, это обычный метод, который принимает и обрабатывает сам класс, а не его экземпляры. \n",
    "\n",
    "На самом деле, это декораторы, которые обрабатывают вызов `__get__(self, instance, owner)` так, чтобы интерпретатор не ругался. Т.к. вызов:\n",
    "```python\n",
    "@staticmethod \n",
    "def square(x):\n",
    "    return x**2\n",
    "```\n",
    "Это то же самое, что:\n",
    "```python\n",
    "square = staticmethod(square)\n",
    "```\n",
    "то `@staticmethod` и `@classmethod` просто переделывают `__get__` под свои нужды"
   ]
  },
  {
   "cell_type": "code",
   "execution_count": 49,
   "metadata": {
    "ExecuteTime": {
     "end_time": "2021-08-28T12:43:20.496065Z",
     "start_time": "2021-08-28T12:43:20.485072Z"
    },
    "hidden": true
   },
   "outputs": [],
   "source": [
    "class StaticMethod:\n",
    "    def __init__(self, func):\n",
    "        self.func = func # сохраняем ссылку на изначальную ф-цию\n",
    "        \n",
    "    def __get__(self, obj, obj_type=None):\n",
    "        return self.func #вызываем ее как обычную ф-цию, игнорируя параметры obj и obj_type"
   ]
  },
  {
   "cell_type": "markdown",
   "metadata": {
    "hidden": true
   },
   "source": [
    "В случаии статического метода, декоратор просто позволяет проигнорировать необходимость предоставления obj и obj_type (т.к. для статического метода они не нужны)"
   ]
  },
  {
   "cell_type": "code",
   "execution_count": 50,
   "metadata": {
    "ExecuteTime": {
     "end_time": "2021-08-28T12:44:52.415344Z",
     "start_time": "2021-08-28T12:44:52.398355Z"
    },
    "hidden": true
   },
   "outputs": [],
   "source": [
    "class ClassMethod:\n",
    "    def __init__(self, func):\n",
    "        self.func = func # сохраняем ссылку на изначальную ф-цию\n",
    "        \n",
    "    def __get__(self, obj, obj_type=None):\n",
    "        if obj_type is None:\n",
    "            obj_type = type(obj)\n",
    "        def new_func(*args, **kwargs):\n",
    "            return self.func(obj_type, *args, **kwargs)\n",
    "        \n",
    "        return new_func #вызываем ф-цию так, что obj = класс (= obj_type)"
   ]
  },
  {
   "cell_type": "markdown",
   "metadata": {
    "hidden": true
   },
   "source": [
    "В случаии класс метода, декоратор изменяет вызов ф-ции так, что obj_type становится obj (т.е. класс становится самим объектом)."
   ]
  },
  {
   "cell_type": "markdown",
   "metadata": {
    "heading_collapsed": true,
    "hidden": true
   },
   "source": [
    "### getters и setters (магические)\n",
    "- `__setattr__(self, key, value)` - вызывается автоматически при изменении свойства с именем key; value - это присваемое ему значение.\n",
    "- `__getattribute__(self, item)` - вызывается автоматически при попытке получении/вызова свойства с именем item.\n",
    "- `__getattr__(self, item)` - вызывается автоматически при попытке получении/вызова *несуществуеющего* свойства с именем item.\n",
    "- `__detattr__(self, item)` - вызывается автоматически при удалении свойства свойства с именем item (не важно, существует оно или нет)."
   ]
  },
  {
   "cell_type": "markdown",
   "metadata": {
    "heading_collapsed": true,
    "hidden": true
   },
   "source": [
    "#### `__getattribute__(self, item)`"
   ]
  },
  {
   "cell_type": "code",
   "execution_count": 11,
   "metadata": {
    "ExecuteTime": {
     "end_time": "2021-08-26T14:55:19.639580Z",
     "start_time": "2021-08-26T14:55:19.615600Z"
    },
    "hidden": true
   },
   "outputs": [
    {
     "name": "stdout",
     "output_type": "stream",
     "text": [
      "10\n"
     ]
    },
    {
     "ename": "ValueError",
     "evalue": "Private attribute",
     "output_type": "error",
     "traceback": [
      "\u001b[1;31m---------------------------------------------------------------------------\u001b[0m",
      "\u001b[1;31mValueError\u001b[0m                                Traceback (most recent call last)",
      "\u001b[1;32m<ipython-input-11-94bc3cd2fd71>\u001b[0m in \u001b[0;36m<module>\u001b[1;34m\u001b[0m\n\u001b[0;32m     15\u001b[0m \u001b[1;31m# доступ обрабатывается ф-цией __getattribute__\u001b[0m\u001b[1;33m\u001b[0m\u001b[1;33m\u001b[0m\u001b[1;33m\u001b[0m\u001b[0m\n\u001b[0;32m     16\u001b[0m \u001b[0mprint\u001b[0m\u001b[1;33m(\u001b[0m\u001b[0mtest\u001b[0m\u001b[1;33m.\u001b[0m\u001b[0m_Test__y\u001b[0m\u001b[1;33m)\u001b[0m \u001b[1;31m# item = \"_Test__y\"\u001b[0m\u001b[1;33m\u001b[0m\u001b[1;33m\u001b[0m\u001b[0m\n\u001b[1;32m---> 17\u001b[1;33m \u001b[0mprint\u001b[0m\u001b[1;33m(\u001b[0m\u001b[0mtest\u001b[0m\u001b[1;33m.\u001b[0m\u001b[0m_Test__x\u001b[0m\u001b[1;33m)\u001b[0m \u001b[1;31m# item = \"_Test__x\"\u001b[0m\u001b[1;33m\u001b[0m\u001b[1;33m\u001b[0m\u001b[0m\n\u001b[0m",
      "\u001b[1;32m<ipython-input-11-94bc3cd2fd71>\u001b[0m in \u001b[0;36m__getattribute__\u001b[1;34m(self, item)\u001b[0m\n\u001b[0;32m      8\u001b[0m     \u001b[1;32mdef\u001b[0m \u001b[0m__getattribute__\u001b[0m\u001b[1;33m(\u001b[0m\u001b[0mself\u001b[0m\u001b[1;33m,\u001b[0m \u001b[0mitem\u001b[0m\u001b[1;33m)\u001b[0m\u001b[1;33m:\u001b[0m\u001b[1;33m\u001b[0m\u001b[1;33m\u001b[0m\u001b[0m\n\u001b[0;32m      9\u001b[0m         \u001b[1;32mif\u001b[0m \u001b[0mitem\u001b[0m \u001b[1;33m==\u001b[0m \u001b[1;34m\"_Test__x\"\u001b[0m\u001b[1;33m:\u001b[0m\u001b[1;33m\u001b[0m\u001b[1;33m\u001b[0m\u001b[0m\n\u001b[1;32m---> 10\u001b[1;33m             \u001b[1;32mraise\u001b[0m \u001b[0mValueError\u001b[0m\u001b[1;33m(\u001b[0m\u001b[1;34m\"Private attribute\"\u001b[0m\u001b[1;33m)\u001b[0m\u001b[1;33m\u001b[0m\u001b[1;33m\u001b[0m\u001b[0m\n\u001b[0m\u001b[0;32m     11\u001b[0m         \u001b[1;32melse\u001b[0m\u001b[1;33m:\u001b[0m\u001b[1;33m\u001b[0m\u001b[1;33m\u001b[0m\u001b[0m\n\u001b[0;32m     12\u001b[0m             \u001b[1;32mreturn\u001b[0m \u001b[0mobject\u001b[0m\u001b[1;33m.\u001b[0m\u001b[0m__getattribute__\u001b[0m\u001b[1;33m(\u001b[0m\u001b[0mself\u001b[0m\u001b[1;33m,\u001b[0m \u001b[0mitem\u001b[0m\u001b[1;33m)\u001b[0m\u001b[1;33m\u001b[0m\u001b[1;33m\u001b[0m\u001b[0m\n",
      "\u001b[1;31mValueError\u001b[0m: Private attribute"
     ]
    }
   ],
   "source": [
    "class Test(): \n",
    "    def __init__(self, x, y):\n",
    "        self.__x = x\n",
    "        self.__y = y\n",
    "    \n",
    "    def __getattribute__(self, item):\n",
    "        if item == \"_Test__x\":\n",
    "            raise ValueError(\"Private attribute\")\n",
    "        else:\n",
    "            return object.__getattribute__(self, item)\n",
    "\n",
    "test = Test(5, 10)\n",
    "# доступ обрабатывается ф-цией __getattribute__\n",
    "print(test._Test__y) # item = \"_Test__y\"\n",
    "print(test._Test__x) # item = \"_Test__x\""
   ]
  },
  {
   "cell_type": "markdown",
   "metadata": {
    "hidden": true
   },
   "source": [
    "- Доступ к атрибутам обрабатывается ф-цией `__getattribute__`.\n",
    "- При вызове `test._Test__x`, `item = \"_Test__x\"`. Поэтому, вызывается исключение. \n",
    "- Для `item = \"_Test__y\"` исключение не вызывается, `object.__getattribute__(self, item)` - обычный вызов переменной, который тоже обрабатывается ф-цией `__getattribute__`."
   ]
  },
  {
   "cell_type": "markdown",
   "metadata": {
    "heading_collapsed": true,
    "hidden": true
   },
   "source": [
    "#### `__setattr__(self, key, value)`\n",
    "Автоматически вызывается, при изменении: \n",
    "- любого атрибута извне класса \n",
    "- локального атрибута в ф-ции `__init__`. Например, `self.x = in_x` - вызывется `__setattr__(self, x, in_x)`"
   ]
  },
  {
   "cell_type": "code",
   "execution_count": 17,
   "metadata": {
    "ExecuteTime": {
     "end_time": "2021-08-26T19:42:14.587305Z",
     "start_time": "2021-08-26T19:42:14.567336Z"
    },
    "hidden": true
   },
   "outputs": [
    {
     "ename": "AttributeError",
     "evalue": "",
     "output_type": "error",
     "traceback": [
      "\u001b[1;31m---------------------------------------------------------------------------\u001b[0m",
      "\u001b[1;31mAttributeError\u001b[0m                            Traceback (most recent call last)",
      "\u001b[1;32m<ipython-input-17-34ab6a54b31e>\u001b[0m in \u001b[0;36m<module>\u001b[1;34m\u001b[0m\n\u001b[0;32m     14\u001b[0m \u001b[0mtest\u001b[0m \u001b[1;33m=\u001b[0m \u001b[0mTest\u001b[0m\u001b[1;33m(\u001b[0m\u001b[1;36m5\u001b[0m\u001b[1;33m,\u001b[0m \u001b[1;36m10\u001b[0m\u001b[1;33m)\u001b[0m\u001b[1;33m\u001b[0m\u001b[1;33m\u001b[0m\u001b[0m\n\u001b[0;32m     15\u001b[0m \u001b[1;31m# изменение атрибутов обрабатывается ф-цией __setattr__\u001b[0m\u001b[1;33m\u001b[0m\u001b[1;33m\u001b[0m\u001b[1;33m\u001b[0m\u001b[0m\n\u001b[1;32m---> 16\u001b[1;33m \u001b[0mtest\u001b[0m\u001b[1;33m.\u001b[0m\u001b[0msome_property\u001b[0m \u001b[1;33m=\u001b[0m \u001b[1;34m\"a\"\u001b[0m\u001b[1;33m\u001b[0m\u001b[1;33m\u001b[0m\u001b[0m\n\u001b[0m\u001b[0;32m     17\u001b[0m \u001b[0mprint\u001b[0m\u001b[1;33m(\u001b[0m\u001b[0mtest\u001b[0m\u001b[1;33m.\u001b[0m\u001b[0msome_property\u001b[0m\u001b[1;33m)\u001b[0m\u001b[1;33m\u001b[0m\u001b[1;33m\u001b[0m\u001b[0m\n",
      "\u001b[1;32m<ipython-input-17-34ab6a54b31e>\u001b[0m in \u001b[0;36m__setattr__\u001b[1;34m(self, key, value)\u001b[0m\n\u001b[0;32m      8\u001b[0m     \u001b[1;32mdef\u001b[0m \u001b[0m__setattr__\u001b[0m\u001b[1;33m(\u001b[0m\u001b[0mself\u001b[0m\u001b[1;33m,\u001b[0m \u001b[0mkey\u001b[0m\u001b[1;33m,\u001b[0m \u001b[0mvalue\u001b[0m\u001b[1;33m)\u001b[0m\u001b[1;33m:\u001b[0m\u001b[1;33m\u001b[0m\u001b[1;33m\u001b[0m\u001b[0m\n\u001b[0;32m      9\u001b[0m             \u001b[1;32mif\u001b[0m \u001b[0mkey\u001b[0m \u001b[1;33m==\u001b[0m \u001b[1;34m\"some_property\"\u001b[0m\u001b[1;33m:\u001b[0m\u001b[1;33m\u001b[0m\u001b[1;33m\u001b[0m\u001b[0m\n\u001b[1;32m---> 10\u001b[1;33m                 \u001b[1;32mraise\u001b[0m \u001b[0mAttributeError\u001b[0m\u001b[1;33m\u001b[0m\u001b[1;33m\u001b[0m\u001b[0m\n\u001b[0m\u001b[0;32m     11\u001b[0m             \u001b[1;32melse\u001b[0m\u001b[1;33m:\u001b[0m\u001b[1;33m\u001b[0m\u001b[1;33m\u001b[0m\u001b[0m\n\u001b[0;32m     12\u001b[0m                 \u001b[0mself\u001b[0m\u001b[1;33m.\u001b[0m\u001b[0m__dict__\u001b[0m\u001b[1;33m[\u001b[0m\u001b[0mkey\u001b[0m\u001b[1;33m]\u001b[0m \u001b[1;33m=\u001b[0m \u001b[0mvalue\u001b[0m\u001b[1;33m\u001b[0m\u001b[1;33m\u001b[0m\u001b[0m\n",
      "\u001b[1;31mAttributeError\u001b[0m: "
     ]
    }
   ],
   "source": [
    "class Test():\n",
    "    some_property = 0    # хотим запретить изменение досутпа извне\n",
    "    \n",
    "    def __init__(self, x, y):\n",
    "        self.x = x\n",
    "        self.y = y\n",
    "    \n",
    "    def __setattr__(self, key, value):\n",
    "            if key == \"some_property\":\n",
    "                raise AttributeError\n",
    "            else:\n",
    "                self.__dict__[key] = value\n",
    "                \n",
    "test = Test(5, 10)\n",
    "# изменение атрибутов обрабатывается ф-цией __setattr__\n",
    "test.some_property = \"a\"\n",
    "print(test.some_property)"
   ]
  },
  {
   "cell_type": "markdown",
   "metadata": {
    "hidden": true
   },
   "source": [
    "- `self.__dict__[key] = value`: изменение атрибутов надо обрабатывать через изменения *словаря атрибутов класса* (`__dict__`), т.к. при простом вызове атрибута (например, так: `self.key = value`) будет вызываться ф-ция `__setattr__` и произойдет ее зацикленная рекурсивыне вызов."
   ]
  },
  {
   "cell_type": "markdown",
   "metadata": {
    "ExecuteTime": {
     "start_time": "2021-08-26T19:48:19.875Z"
    },
    "hidden": true
   },
   "source": [
    "**Пример зацикленной рекурсии:**\n",
    "```python\n",
    "class Test():\n",
    "    some_property = 0    # хотим запретить изменение досутпа извне\n",
    "    \n",
    "    def __init__(self, x, y):\n",
    "        self.x = x\n",
    "        self.y = y\n",
    "    \n",
    "    def __setattr__(self, key, value):\n",
    "            if key == \"some_property\": #обработка статического атрибута\n",
    "                raise AttributeError\n",
    "            else:\n",
    "                self.key = value #обработка остальных атрибутов\n",
    "                \n",
    "test = Test(5, 10)\n",
    "# изменение атрибутов обрабатывается ф-цией __setattr__\n",
    "test.x = \"a\"\n",
    "print(test.x)\n",
    "```"
   ]
  },
  {
   "cell_type": "markdown",
   "metadata": {
    "hidden": true
   },
   "source": [
    "Вызов `__setattr__` при инициализации локальных атрибутов внутри ф-ции `__init__`:"
   ]
  },
  {
   "cell_type": "code",
   "execution_count": 16,
   "metadata": {
    "ExecuteTime": {
     "end_time": "2021-08-26T19:40:30.003795Z",
     "start_time": "2021-08-26T19:40:29.970812Z"
    },
    "hidden": true
   },
   "outputs": [
    {
     "ename": "AttributeError",
     "evalue": "",
     "output_type": "error",
     "traceback": [
      "\u001b[1;31m---------------------------------------------------------------------------\u001b[0m",
      "\u001b[1;31mAttributeError\u001b[0m                            Traceback (most recent call last)",
      "\u001b[1;32m<ipython-input-16-9bcb33a8b94a>\u001b[0m in \u001b[0;36m<module>\u001b[1;34m\u001b[0m\n\u001b[0;32m     12\u001b[0m                 \u001b[0mself\u001b[0m\u001b[1;33m.\u001b[0m\u001b[0m__dict__\u001b[0m\u001b[1;33m[\u001b[0m\u001b[0mkey\u001b[0m\u001b[1;33m]\u001b[0m \u001b[1;33m=\u001b[0m \u001b[0mvalue\u001b[0m\u001b[1;33m\u001b[0m\u001b[1;33m\u001b[0m\u001b[0m\n\u001b[0;32m     13\u001b[0m \u001b[1;33m\u001b[0m\u001b[0m\n\u001b[1;32m---> 14\u001b[1;33m \u001b[0mtest\u001b[0m \u001b[1;33m=\u001b[0m \u001b[0mTest\u001b[0m\u001b[1;33m(\u001b[0m\u001b[1;36m5\u001b[0m\u001b[1;33m,\u001b[0m \u001b[1;36m10\u001b[0m\u001b[1;33m)\u001b[0m\u001b[1;33m\u001b[0m\u001b[1;33m\u001b[0m\u001b[0m\n\u001b[0m",
      "\u001b[1;32m<ipython-input-16-9bcb33a8b94a>\u001b[0m in \u001b[0;36m__init__\u001b[1;34m(self, x, y)\u001b[0m\n\u001b[0;32m      3\u001b[0m \u001b[1;33m\u001b[0m\u001b[0m\n\u001b[0;32m      4\u001b[0m     \u001b[1;32mdef\u001b[0m \u001b[0m__init__\u001b[0m\u001b[1;33m(\u001b[0m\u001b[0mself\u001b[0m\u001b[1;33m,\u001b[0m \u001b[0mx\u001b[0m\u001b[1;33m,\u001b[0m \u001b[0my\u001b[0m\u001b[1;33m)\u001b[0m\u001b[1;33m:\u001b[0m\u001b[1;33m\u001b[0m\u001b[1;33m\u001b[0m\u001b[0m\n\u001b[1;32m----> 5\u001b[1;33m         \u001b[0mself\u001b[0m\u001b[1;33m.\u001b[0m\u001b[0mx\u001b[0m \u001b[1;33m=\u001b[0m \u001b[0mx\u001b[0m\u001b[1;33m\u001b[0m\u001b[1;33m\u001b[0m\u001b[0m\n\u001b[0m\u001b[0;32m      6\u001b[0m         \u001b[0mself\u001b[0m\u001b[1;33m.\u001b[0m\u001b[0my\u001b[0m \u001b[1;33m=\u001b[0m \u001b[0my\u001b[0m\u001b[1;33m\u001b[0m\u001b[1;33m\u001b[0m\u001b[0m\n\u001b[0;32m      7\u001b[0m \u001b[1;33m\u001b[0m\u001b[0m\n",
      "\u001b[1;32m<ipython-input-16-9bcb33a8b94a>\u001b[0m in \u001b[0;36m__setattr__\u001b[1;34m(self, key, value)\u001b[0m\n\u001b[0;32m      8\u001b[0m     \u001b[1;32mdef\u001b[0m \u001b[0m__setattr__\u001b[0m\u001b[1;33m(\u001b[0m\u001b[0mself\u001b[0m\u001b[1;33m,\u001b[0m \u001b[0mkey\u001b[0m\u001b[1;33m,\u001b[0m \u001b[0mvalue\u001b[0m\u001b[1;33m)\u001b[0m\u001b[1;33m:\u001b[0m\u001b[1;33m\u001b[0m\u001b[1;33m\u001b[0m\u001b[0m\n\u001b[0;32m      9\u001b[0m             \u001b[1;32mif\u001b[0m \u001b[0mkey\u001b[0m \u001b[1;33m==\u001b[0m \u001b[1;34m\"x\"\u001b[0m\u001b[1;33m:\u001b[0m\u001b[1;33m\u001b[0m\u001b[1;33m\u001b[0m\u001b[0m\n\u001b[1;32m---> 10\u001b[1;33m                 \u001b[1;32mraise\u001b[0m \u001b[0mAttributeError\u001b[0m\u001b[1;33m\u001b[0m\u001b[1;33m\u001b[0m\u001b[0m\n\u001b[0m\u001b[0;32m     11\u001b[0m             \u001b[1;32melse\u001b[0m\u001b[1;33m:\u001b[0m\u001b[1;33m\u001b[0m\u001b[1;33m\u001b[0m\u001b[0m\n\u001b[0;32m     12\u001b[0m                 \u001b[0mself\u001b[0m\u001b[1;33m.\u001b[0m\u001b[0m__dict__\u001b[0m\u001b[1;33m[\u001b[0m\u001b[0mkey\u001b[0m\u001b[1;33m]\u001b[0m \u001b[1;33m=\u001b[0m \u001b[0mvalue\u001b[0m\u001b[1;33m\u001b[0m\u001b[1;33m\u001b[0m\u001b[0m\n",
      "\u001b[1;31mAttributeError\u001b[0m: "
     ]
    }
   ],
   "source": [
    "class Test():\n",
    "    def __init__(self, x, y):\n",
    "        self.x = x\n",
    "        self.y = y\n",
    "    \n",
    "    def __setattr__(self, key, value):\n",
    "            if key == \"x\":\n",
    "                raise AttributeError\n",
    "            else:\n",
    "                self.__dict__[key] = value\n",
    "                \n",
    "test = Test(5, 10)"
   ]
  },
  {
   "cell_type": "markdown",
   "metadata": {
    "hidden": true
   },
   "source": [
    "Выше ошибка вызвана так, как метод `__init__` вызывает `__setattr__`. Поэтому, ошибка вызывется на этаме инициализации экземпляра."
   ]
  },
  {
   "cell_type": "markdown",
   "metadata": {
    "heading_collapsed": true,
    "hidden": true
   },
   "source": [
    "#### `__getattr__(self, item)` и `__detattr__(self, item)`"
   ]
  },
  {
   "cell_type": "code",
   "execution_count": 4,
   "metadata": {
    "ExecuteTime": {
     "end_time": "2021-08-27T07:37:30.133799Z",
     "start_time": "2021-08-27T07:37:30.118800Z"
    },
    "hidden": true,
    "scrolled": true
   },
   "outputs": [
    {
     "name": "stdout",
     "output_type": "stream",
     "text": [
      "Вызван __getattr__ для нового атрибута: new_item\n",
      "__delattr__ удалил атрибут: x\n"
     ]
    }
   ],
   "source": [
    "class Test():\n",
    "    def __init__(self, x, y):\n",
    "        self.x = x\n",
    "        self.y = y\n",
    "    \n",
    "    def __getattr__(self, item):\n",
    "        print(\"Вызван __getattr__ для нового атрибута: \" + item)\n",
    "    def __delattr__(self, item):\n",
    "        print(\"__delattr__ удалил атрибут: \" + item)\n",
    "                \n",
    "test = Test(5, 10)\n",
    "test.new_item #вызвали несуществующий атрибут\n",
    "del test.x #вызвали деструктор для атрибута"
   ]
  },
  {
   "cell_type": "markdown",
   "metadata": {
    "heading_collapsed": true
   },
   "source": [
    "## Дескрипторы"
   ]
  },
  {
   "cell_type": "markdown",
   "metadata": {
    "hidden": true
   },
   "source": [
    "**Дескриптор** - это специальный класс, в который содержит в себе: 1) ф-ции геттер, сеттер и (опционально) деструктор, и 2) имя атрибута/свойства, который он обрабатывает (в примере: `self.__name`).\n",
    "\n",
    "\n",
    "- методы: `__get__`(геттер), `__set__`(сеттер) и `__delete__` (деструктор; опционально). \n",
    "- `__set_name__` - специальная ф-ция (начиная с Python 3.6), которая автоматически присваивает имя при присваивании дескриптора (в нашем примере:  `x = CoordDescriptor()` -> `self.__name = x`)."
   ]
  },
  {
   "cell_type": "code",
   "execution_count": 1,
   "metadata": {
    "ExecuteTime": {
     "end_time": "2021-09-20T13:05:14.134648Z",
     "start_time": "2021-09-20T13:05:14.112663Z"
    },
    "hidden": true
   },
   "outputs": [
    {
     "name": "stdout",
     "output_type": "stream",
     "text": [
      "Вызван 'CoordDescriptor.__set_name__' для: x\n",
      "Вызван 'CoordDescriptor.__set_name__' для: y\n",
      "--- Инициализатор старт ---\n",
      "Вызван 'CoordDescriptor.__set_' для: x; установлено value: 1\n",
      "Вызван 'CoordDescriptor.__set_' для: y; установлено value: 2\n",
      "--- Инициализатор конец ---\n",
      "Вызван 'CoordDescriptor.__get_ для: 'x\n",
      "Вызван 'CoordDescriptor.__get_ для: 'y\n",
      "1 2\n"
     ]
    }
   ],
   "source": [
    "class CoordDescriptor:\n",
    "    def __set_name__(self, owner, name):\n",
    "        print(\"Вызван 'CoordDescriptor.__set_name__' для: \" + name)\n",
    "        self.__name = name\n",
    "        \n",
    "    def __get__(self, instance, owner):  \n",
    "        print(\"Вызван 'CoordDescriptor.__get__' для: '\" + self.__name)\n",
    "        return instance.__dict__[self.__name]  \n",
    "    \n",
    "    def __set__(self, instance, value):\n",
    "        print(\"Вызван 'CoordDescriptor.__set__' для: \" + self.__name +\\\n",
    "              \"; установлено value: \"+ str(value))\n",
    "        instance.__dict__[self.__name] = value\n",
    "    \n",
    "    # еще можно задать ф-цию делитер \n",
    "    \n",
    "class Rectengular:\n",
    "    x = CoordDescriptor() # тут вызывается __set_name__\n",
    "    y = CoordDescriptor() # тут вызывается __set_name__\n",
    "    \n",
    "    def __init__(self, x, y):\n",
    "        print(\"--- Инициализатор старт ---\")\n",
    "        self.x = x # тут вызывается __set__\n",
    "        self.y = y\n",
    "        print(\"--- Инициализатор конец ---\")\n",
    "\n",
    "test = Rectengular(1,2)\n",
    "print(test.x, test.y) # тут вызывается __get__"
   ]
  },
  {
   "cell_type": "markdown",
   "metadata": {
    "hidden": true
   },
   "source": [
    "Суть в том, что наш основной класс хочет инкапсулировать доступ к своим атрибутам (у нас в примере: класс - `Rectengular`, а атрибуты - `x` и `y`). Для этого создается 2 объекта-дескриптора (`x = CoordDescriptor()` и `y = CoordDescriptor()`). У объектов-дескриторов заданы геттер и сеттер, а также сохранено имя атрибута, на который он ссылается (те `self.__name = x` и `y`).\n",
    "\n",
    "При этом, геттер и сеттер организованы так, что они работают с локальными атрибутами основного класса: `instance.__dict__[self.__name]`. Когда мы обращается к локальному атрибуту (например: `print(test.x)`), вызывается геттер (для которого `instance = test.x`). Тогда, ссылку на нужный атрибут находят в словаре `__dict__` по ключу `self.__name`, где сохранено название нужного атрибута.\n",
    "\n",
    "Когда к атрибуту такого класса обращаются извне (например: `print(test.x)`), дескриптор имеет приоритет вызова над локальной переменной. Поэтому, когда мы обращаемя извне к атрибуту Rectengular.x (т.е. `print(test.x)`), вызывается дескриптор соответсвующий Rectengular.x (т.е. `x = CoordDescriptor()`), а он в свою очередь обрабатывает локальную переменную Rectengular.x. Таким образом, к локальной переменной Rectengular.x нет прямого доступа извне."
   ]
  },
  {
   "cell_type": "markdown",
   "metadata": {
    "hidden": true
   },
   "source": [
    "### property"
   ]
  },
  {
   "cell_type": "markdown",
   "metadata": {
    "hidden": true
   },
   "source": [
    "`property()` - это встроенный **дескриптор**. Это удобный способ инкапсулировать данные (т.е. создать геттеры, сеттеры и деструктор).\n",
    "\n",
    "- Ф-ция `property()` возвращает property object, являющийся дескриптором. Принцип работы у него такой же как у обыного дескриптора. \n",
    "- Геттеры (`property().getter`), сеттеры (`property().setter`) и делитер (`property().deleter`) реализуются через декораторы."
   ]
  },
  {
   "cell_type": "code",
   "execution_count": 6,
   "metadata": {
    "ExecuteTime": {
     "end_time": "2021-08-27T16:16:02.498333Z",
     "start_time": "2021-08-27T16:16:02.482338Z"
    },
    "hidden": true
   },
   "outputs": [
    {
     "name": "stdout",
     "output_type": "stream",
     "text": [
      "<property object at 0x0000015BF7D53C78>\n",
      "<built-in method getter of property object at 0x0000015BF7D53C78>\n",
      "<built-in method setter of property object at 0x0000015BF7D53C78>\n",
      "<built-in method deleter of property object at 0x0000015BF7D53C78>\n"
     ]
    }
   ],
   "source": [
    "print(property())\n",
    "print(property().getter)\n",
    "print(property().setter)\n",
    "print(property().deleter)"
   ]
  },
  {
   "cell_type": "code",
   "execution_count": 5,
   "metadata": {
    "ExecuteTime": {
     "end_time": "2021-08-27T16:10:02.887691Z",
     "start_time": "2021-08-27T16:10:02.871713Z"
    },
    "hidden": true
   },
   "outputs": [
    {
     "name": "stdout",
     "output_type": "stream",
     "text": [
      "<property object at 0x0000015BF7C5D368>\n",
      "{'_Test__x': 1}\n",
      "Внутри __setter\n",
      "Внутри __getter\n",
      "3\n",
      "{'_Test__x': 3}\n",
      "Внутри __deleter\n"
     ]
    }
   ],
   "source": [
    "class Test():\n",
    "    \"\"\"Хотим, чтобы доступа извне к x не было\"\"\"\n",
    "    \n",
    "    def __init__(self, x):\n",
    "        self.__x = x\n",
    "    \n",
    "    x = property()\n",
    "    print(x)\n",
    "    \n",
    "    @x.getter #геттер\n",
    "    def x(self): \n",
    "        print(\"Внутри __getter\")\n",
    "        return self.__x\n",
    "    \n",
    "    @x.setter #сеттер\n",
    "    def x(self, value):\n",
    "        print(\"Внутри __setter\")\n",
    "        self.__x = value\n",
    "    \n",
    "    @x.deleter #делитер\n",
    "    def x(self):\n",
    "        print(\"Внутри __deleter\")\n",
    "        del self.__x\n",
    "\n",
    "    \n",
    "test = Test(1)\n",
    "print(test.__dict__)\n",
    "test.x = 3 # вызовет __setter\n",
    "print(test.x) # вызовет __getter\n",
    "print(test.__dict__)\n",
    "del test.x # вызовет __deleter"
   ]
  },
  {
   "cell_type": "code",
   "execution_count": 1,
   "metadata": {
    "ExecuteTime": {
     "end_time": "2021-08-27T16:04:49.438025Z",
     "start_time": "2021-08-27T16:04:49.424053Z"
    },
    "hidden": true,
    "scrolled": true
   },
   "outputs": [
    {
     "name": "stdout",
     "output_type": "stream",
     "text": [
      "{'_Test__x': 1}\n",
      "Внутри __setter\n",
      "Внутри __getter\n",
      "3\n",
      "{'_Test__x': 3}\n",
      "Внутри __deleter\n"
     ]
    }
   ],
   "source": [
    "class Test():\n",
    "    \"\"\"Хотим, чтобы доступа извне к x не было\"\"\"\n",
    "    def __init__(self, x):\n",
    "        self.__x = x\n",
    "\n",
    "    def __getter(self):\n",
    "        print(\"Внутри __getter\")\n",
    "        return self.__x\n",
    "    \n",
    "    def __setter(self, value):\n",
    "        print(\"Внутри __setter\")\n",
    "        self.__x = value\n",
    "    \n",
    "    def __deleter(self):\n",
    "        print(\"Внутри __deleter\")\n",
    "        del self.__x\n",
    "         \n",
    "    x = property(__getter, __setter, __deleter)\n",
    "    \n",
    "test = Test(1)\n",
    "print(test.__dict__)\n",
    "test.x = 3 # вызовет __setter\n",
    "print(test.x) # вызовет __getter\n",
    "print(test.__dict__)\n",
    "del test.x # вызовет __deleter"
   ]
  },
  {
   "cell_type": "markdown",
   "metadata": {},
   "source": [
    "## Magic methods\n",
    "Это переопределение стандартных функций (например, \"<\" - сравнение, а \"print(object)\" - выведет object). Они реализованые через magic methods (`__in__`, `__str__`, etc) - методы с 2мя чертами. Для классов можено (и нужно) их переопределять, тогда при вызове стандартной ф-ции будет происходить задуманое действие.    "
   ]
  },
  {
   "cell_type": "markdown",
   "metadata": {},
   "source": [
    "Ниже примеры использования магических методов `__str__` (для ф-ции print) и `__repr__` (для ф-ции print, когда выводится контейнер, содержащий объекты этого класса): "
   ]
  },
  {
   "cell_type": "code",
   "execution_count": 19,
   "metadata": {
    "ExecuteTime": {
     "end_time": "2021-08-06T15:33:02.995322Z",
     "start_time": "2021-08-06T15:33:02.981297Z"
    }
   },
   "outputs": [
    {
     "name": "stdout",
     "output_type": "stream",
     "text": [
      "Toyota\n",
      "[, A, AA, AAA, AAAA]\n"
     ]
    }
   ],
   "source": [
    "class Car():\n",
    "    def __init__(self, name):\n",
    "        self.name = name\n",
    "        \n",
    "    def __str__(self):\n",
    "        return str(self.name)\n",
    "    \n",
    "    def __repr__(self):\n",
    "        return str(self.name)\n",
    "\n",
    "exmpl_car = Car('Toyota')\n",
    "print(exmpl_car) # вызов __str__\n",
    "\n",
    "car_list = [Car('A'*i) for i in range(5)]\n",
    "print(car_list) # вызов __repr__"
   ]
  },
  {
   "cell_type": "markdown",
   "metadata": {},
   "source": [
    "### Основные магические методы"
   ]
  },
  {
   "cell_type": "markdown",
   "metadata": {},
   "source": [
    "**Printing methods**\n",
    "```\n",
    "print(obj)  \t    object.__str__(self)\n",
    "print(list(obj)) \tobject.__repr__(self) # когда объект находится в контейнере\n",
    "```\n",
    "**Binary Operators**  \n",
    "```\n",
    "+ \tobject.__add__(self, other)   \n",
    "- \tobject.__sub__(self, other)    \n",
    "* \tobject.__mul__(self, other)    \n",
    "// \tobject.__floordiv__(self, other)     \n",
    "/ \tobject.__truediv__(self, other)     \n",
    "% \tobject.__mod__(self, other)     \n",
    "** \tobject.__pow__(self, other[, modulo])     \n",
    "<< \tobject.__lshift__(self, other)     \n",
    ">> \tobject.__rshift__(self, other)     \n",
    "& \tobject.__and__(self, other)     \n",
    "^ \tobject.__xor__(self, other)    \n",
    "| \tobject.__or__(self, other)    \n",
    "```\n",
    "**Extended Assignments**   \n",
    "```\n",
    "+= \tobject.__iadd__(self, other)      \n",
    "-= \tobject.__isub__(self, other)     \n",
    "*= \tobject.__imul__(self, other)     \n",
    "/= \tobject.__idiv__(self, other)     \n",
    "//= \tobject.__ifloordiv__(self, other)    \n",
    "%= \tobject.__imod__(self, other)    \n",
    "**= \tobject.__ipow__(self, other[, modulo])     \n",
    "<<= \tobject.__ilshift__(self, other)    \n",
    ">>= \tobject.__irshift__(self, other)    \n",
    "&= \tobject.__iand__(self, other)     \n",
    "^= \tobject.__ixor__(self, other)     \n",
    "|= \tobject.__ior__(self, other)      \n",
    "```\n",
    "**Unary Operators**     \n",
    "```\n",
    "- \tobject.__neg__(self)      \n",
    "+ \tobject.__pos__(self)     \n",
    "abs() \tobject.__abs__(self)     \n",
    "~ \tobject.__invert__(self)     \n",
    "complex() \tobject.__complex__(self)     \n",
    "int() \tobject.__int__(self)    \n",
    "long() \tobject.__long__(self)     \n",
    "float() \tobject.__float__(self)     \n",
    "oct() \tobject.__oct__(self)     \n",
    "hex() \tobject.__hex__(self)  \n",
    "```\n",
    "**Comparison Operators**   \n",
    "```\n",
    "< \tobject.__lt__(self, other)      \n",
    "<= \tobject.__le__(self, other)    \n",
    "== \tobject.__eq__(self, other)    \n",
    "!= \tobject.__ne__(self, other)     \n",
    ">= \tobject.__ge__(self, other)     \n",
    "> \tobject.__gt__(self, other)   \n",
    "```"
   ]
  },
  {
   "cell_type": "markdown",
   "metadata": {},
   "source": [
    "### Перегрузка `__getattr__`, `__getattribute__`, `__setattr__` и `__delattr__`"
   ]
  },
  {
   "cell_type": "markdown",
   "metadata": {},
   "source": [
    "см. в этой главе, в разделе про атрибуты и инкапсуляцию."
   ]
  },
  {
   "cell_type": "markdown",
   "metadata": {
    "heading_collapsed": true
   },
   "source": [
    "### Перегрузка `__call__` и функторы"
   ]
  },
  {
   "cell_type": "markdown",
   "metadata": {
    "hidden": true
   },
   "source": [
    "Ф-ция `__call__` срабатывает при вызове оператора `()`. Обычно, его перегружают, когда создают **функторы** или декораторы на основе класса (по сути тоже функтор). "
   ]
  },
  {
   "cell_type": "markdown",
   "metadata": {
    "heading_collapsed": true
   },
   "source": [
    "### Перегрузка операторов `__add__` и `__iadd__`"
   ]
  },
  {
   "cell_type": "markdown",
   "metadata": {
    "hidden": true
   },
   "source": [
    "Если название магического метода начинается с `i`, то это укороченная форма данного оператора."
   ]
  },
  {
   "cell_type": "markdown",
   "metadata": {
    "hidden": true
   },
   "source": [
    "- `__add__` - операция вида `c = a+b`. Она возвращает *новый объект* `c` этого же типа.\n",
    "- `__iadd__` - операция вида `a += b`. Она изменяет объект `a`."
   ]
  },
  {
   "cell_type": "code",
   "execution_count": 8,
   "metadata": {
    "ExecuteTime": {
     "end_time": "2021-09-09T15:04:11.574451Z",
     "start_time": "2021-09-09T15:04:11.555448Z"
    },
    "hidden": true
   },
   "outputs": [],
   "source": [
    "class Cords():\n",
    "    \"\"\"Класс для работы с координатами X и Y\"\"\"\n",
    "    def __init__(self, x, y):\n",
    "        self.x = x\n",
    "        self.y = y\n",
    "    \n",
    "    def __add__(self, other):\n",
    "        if not isinstance(other, Cords): #проверяем, что мы складываем экземпляры нашего класса\n",
    "            raise ArithmeticError(\"Неправильный тип правого операнда\")\n",
    "         \n",
    "        return Cords(self.x + other.x, self.y + other.y)\n",
    "    \n",
    "    def __iadd__(self, other):\n",
    "        if not isinstance(other, Cords): #проверяем, что мы складываем экземпляры нашего класса\n",
    "            raise ArithmeticError(\"Неправильный тип правого операнда\")\n",
    "         \n",
    "        self.x += other.x\n",
    "        self.y += other.y\n",
    "        return self\n",
    "    \n",
    "    def __str__(self):\n",
    "        return str(self.x) + \" \" + str(self.y)"
   ]
  },
  {
   "cell_type": "code",
   "execution_count": 10,
   "metadata": {
    "ExecuteTime": {
     "end_time": "2021-09-09T15:04:31.970809Z",
     "start_time": "2021-09-09T15:04:31.953820Z"
    },
    "hidden": true
   },
   "outputs": [
    {
     "name": "stdout",
     "output_type": "stream",
     "text": [
      "4 6\n",
      "14 21\n"
     ]
    }
   ],
   "source": [
    "a = Cords(1, 2)\n",
    "b = Cords(3, 4)\n",
    "c = a + b          #вызов __add__\n",
    "print(c)\n",
    "c += Cords(10, 15) #вызов __iadd__\n",
    "print(c)"
   ]
  },
  {
   "cell_type": "markdown",
   "metadata": {},
   "source": [
    "### Перегрузка операторов `__getitem__` и `__setitem__`"
   ]
  },
  {
   "cell_type": "markdown",
   "metadata": {},
   "source": [
    "- `_getitem__(self, key)` - оператор *возвращаюищй* значение при обращении к объекту черех скобочки и ключ (т.е. `a[key]`)\n",
    "- `__setitem__(self, key, value)` - оператор *устанавливающий* значение при обращении к объекту черех скобочки и ключ (т.е. `a[key] = value`)"
   ]
  },
  {
   "cell_type": "code",
   "execution_count": 20,
   "metadata": {
    "ExecuteTime": {
     "end_time": "2021-09-09T15:24:19.105244Z",
     "start_time": "2021-09-09T15:24:19.097229Z"
    }
   },
   "outputs": [],
   "source": [
    "class Cords():\n",
    "    \"\"\"Класс для работы с координатами X и Y\"\"\"\n",
    "    def __init__(self, x, y):\n",
    "        self.x = x\n",
    "        self.y = y\n",
    "    \n",
    "    def __getitem__(self, key):\n",
    "        if key in ('x', 'X'):\n",
    "            return self.x\n",
    "        elif key in ('y', 'Y'):\n",
    "            return self.y\n",
    "        else:\n",
    "            raise NameError(\"Такого атрибута нет\")\n",
    "    \n",
    "    def __setitem__(self, key, value):\n",
    "        if key in ('x', 'X'):\n",
    "            self.x = value\n",
    "        elif key in ('y', 'Y'):\n",
    "            self.y = value\n",
    "        else:\n",
    "            raise NameError(\"Такого атрибута нет\")\n",
    "    \n",
    "    def __str__(self):\n",
    "        return str(self.x) + \" \" + str(self.y)"
   ]
  },
  {
   "cell_type": "code",
   "execution_count": 21,
   "metadata": {
    "ExecuteTime": {
     "end_time": "2021-09-09T15:24:42.375854Z",
     "start_time": "2021-09-09T15:24:42.352872Z"
    }
   },
   "outputs": [
    {
     "name": "stdout",
     "output_type": "stream",
     "text": [
      "1 1\n",
      "44 44\n"
     ]
    },
    {
     "ename": "NameError",
     "evalue": "Такого атрибута нет",
     "output_type": "error",
     "traceback": [
      "\u001b[1;31m---------------------------------------------------------------------------\u001b[0m",
      "\u001b[1;31mNameError\u001b[0m                                 Traceback (most recent call last)",
      "\u001b[1;32m<ipython-input-21-b6f1d094803c>\u001b[0m in \u001b[0;36m<module>\u001b[1;34m\u001b[0m\n\u001b[0;32m      3\u001b[0m \u001b[0ma\u001b[0m\u001b[1;33m[\u001b[0m\u001b[1;34m'x'\u001b[0m\u001b[1;33m]\u001b[0m \u001b[1;33m=\u001b[0m \u001b[1;36m44\u001b[0m \u001b[1;31m#__setitem__\u001b[0m\u001b[1;33m\u001b[0m\u001b[1;33m\u001b[0m\u001b[0m\n\u001b[0;32m      4\u001b[0m \u001b[0mprint\u001b[0m\u001b[1;33m(\u001b[0m\u001b[0ma\u001b[0m\u001b[1;33m[\u001b[0m\u001b[1;34m'x'\u001b[0m\u001b[1;33m]\u001b[0m\u001b[1;33m,\u001b[0m \u001b[0ma\u001b[0m\u001b[1;33m[\u001b[0m\u001b[1;34m'X'\u001b[0m\u001b[1;33m]\u001b[0m\u001b[1;33m)\u001b[0m \u001b[1;31m#__getitem__\u001b[0m\u001b[1;33m\u001b[0m\u001b[1;33m\u001b[0m\u001b[0m\n\u001b[1;32m----> 5\u001b[1;33m \u001b[0ma\u001b[0m\u001b[1;33m[\u001b[0m\u001b[1;34m'z'\u001b[0m\u001b[1;33m]\u001b[0m \u001b[1;31m#raise NameError\u001b[0m\u001b[1;33m\u001b[0m\u001b[1;33m\u001b[0m\u001b[0m\n\u001b[0m",
      "\u001b[1;32m<ipython-input-20-e50308d40732>\u001b[0m in \u001b[0;36m__getitem__\u001b[1;34m(self, key)\u001b[0m\n\u001b[0;32m     11\u001b[0m             \u001b[1;32mreturn\u001b[0m \u001b[0mself\u001b[0m\u001b[1;33m.\u001b[0m\u001b[0my\u001b[0m\u001b[1;33m\u001b[0m\u001b[1;33m\u001b[0m\u001b[0m\n\u001b[0;32m     12\u001b[0m         \u001b[1;32melse\u001b[0m\u001b[1;33m:\u001b[0m\u001b[1;33m\u001b[0m\u001b[1;33m\u001b[0m\u001b[0m\n\u001b[1;32m---> 13\u001b[1;33m             \u001b[1;32mraise\u001b[0m \u001b[0mNameError\u001b[0m\u001b[1;33m(\u001b[0m\u001b[1;34m\"Такого атрибута нет\"\u001b[0m\u001b[1;33m)\u001b[0m\u001b[1;33m\u001b[0m\u001b[1;33m\u001b[0m\u001b[0m\n\u001b[0m\u001b[0;32m     14\u001b[0m \u001b[1;33m\u001b[0m\u001b[0m\n\u001b[0;32m     15\u001b[0m     \u001b[1;32mdef\u001b[0m \u001b[0m__setitem__\u001b[0m\u001b[1;33m(\u001b[0m\u001b[0mself\u001b[0m\u001b[1;33m,\u001b[0m \u001b[0mkey\u001b[0m\u001b[1;33m,\u001b[0m \u001b[0mvalue\u001b[0m\u001b[1;33m)\u001b[0m\u001b[1;33m:\u001b[0m\u001b[1;33m\u001b[0m\u001b[1;33m\u001b[0m\u001b[0m\n",
      "\u001b[1;31mNameError\u001b[0m: Такого атрибута нет"
     ]
    }
   ],
   "source": [
    "a = Cords(1, 2)\n",
    "print(a['x'], a['X']) #__getitem__\n",
    "a['x'] = 44 #__setitem__\n",
    "print(a['x'], a['X']) #__getitem__\n",
    "a['z'] #raise NameError"
   ]
  },
  {
   "cell_type": "markdown",
   "metadata": {
    "heading_collapsed": true
   },
   "source": [
    "# Наследование (inheritance)\n",
    "When one class inherits from another, it automatically takes on all the attributes and methods of the first class. The original class is called the **parent class (or superclass)**, and the new class is the **child class (or subclass)**.  "
   ]
  },
  {
   "cell_type": "code",
   "execution_count": 32,
   "metadata": {
    "ExecuteTime": {
     "end_time": "2021-08-30T18:18:44.308207Z",
     "start_time": "2021-08-30T18:18:44.300212Z"
    },
    "hidden": true
   },
   "outputs": [
    {
     "name": "stdout",
     "output_type": "stream",
     "text": [
      "Wooow\n",
      "What does 'Spike' say?\n",
      "1\n",
      "1\n"
     ]
    }
   ],
   "source": [
    "class Animal:\n",
    "    \n",
    "    __count = 0\n",
    "    def __init__(self, name):\n",
    "        self.name = name\n",
    "        Animal.__count += 1\n",
    "        \n",
    "    def say_hello(self):\n",
    "        print(f\"What does '{self.name}' say?\")\n",
    "        \n",
    "class Dog(Animal):\n",
    "    \n",
    "    def __init__(self, name, breed):\n",
    "        self.breed = breed \n",
    "        Animal.__init__(self, name)\n",
    "        \n",
    "    #переопределим ф-цию say_hello\n",
    "    def say_hello(self):\n",
    "        print(\"Wooow\")\n",
    "        \n",
    "doggy = Dog(\"Spike\", \"German shepherd\")\n",
    "doggy.say_hello() #детсвкая версия ф-ции\n",
    "Animal.say_hello(doggy) #отцовская версия ф-ции (требует для передачи self)\n",
    "\n",
    "print(doggy._Animal__count) #обращение к приватному атрибуту\n",
    "print(Dog._Animal__count) #обращение к приватному атрибуту"
   ]
  },
  {
   "cell_type": "markdown",
   "metadata": {
    "hidden": true
   },
   "source": [
    "- Parent class has to be in the file, or be imported\n",
    "- `class Dog(Animal):` - в скобках указаны на родительский класс (или несколько, в случаии множественного наследования).\n",
    "- `Animal.__init__(self, name)` - вызываем инициализатор родительского класса, чтобы проинициализировать родительские атрибуты. \n",
    "- Все новые атрибуты и методы для child class объевляются как обычно.\n",
    "- `def say_hello(self)` - метод был переопределен для child class, в parent class он был другой."
   ]
  },
  {
   "cell_type": "markdown",
   "metadata": {
    "hidden": true
   },
   "source": [
    "- Родительские методы всегда можно вызвать явно указав нужное пространство имен (т.е. имя класса). Например, `Animal.__init__(self, name)` - вызов иницицализатора родительского класса; `Animal.say_hello(doggy)` - вызов родительской версии ф-ции.\n",
    "- Магические методы также передаются по наследству от отца к ребенку."
   ]
  },
  {
   "cell_type": "markdown",
   "metadata": {
    "hidden": true
   },
   "source": [
    "- `doggy._Animal__count` - приватные атрибуты наследуются, но обращение к ним все равно происходит через имя класса, где они были объявлены. Так, в реальности private атрибут назывется `_Animal__count` поэтому и наследуется он по такому же имени. Получить к нему доступ можно из любого класса в иерархии или экземпляра."
   ]
  },
  {
   "cell_type": "markdown",
   "metadata": {
    "hidden": true
   },
   "source": [
    "## Множественное наследование и виртуальные ф-ции"
   ]
  },
  {
   "cell_type": "code",
   "execution_count": 47,
   "metadata": {
    "ExecuteTime": {
     "end_time": "2021-08-30T19:11:22.230012Z",
     "start_time": "2021-08-30T19:11:22.218019Z"
    },
    "hidden": true
   },
   "outputs": [
    {
     "name": "stdout",
     "output_type": "stream",
     "text": [
      "Calling Animal __init__\n",
      "Calling Cat __init__\n",
      "Calling Animal __init__\n",
      "Calling Dog __init__\n",
      "============\n",
      "Calling Animal __init__\n",
      "Calling Dog __init__\n",
      "Calling Cat __init__\n",
      "Calling CatDog __init__\n",
      "============\n",
      "Cat says Meay\n",
      "Dog says Wooof\n",
      "CatDog says Tytyrooo\n"
     ]
    }
   ],
   "source": [
    "class Animal:\n",
    "    __count = 0\n",
    "    def __init__(self, name, breed = None):\n",
    "        self.name = name\n",
    "        self.breed = breed \n",
    "        Animal.__count += 1\n",
    "        print(\"Calling Animal __init__\")\n",
    "    \n",
    "    def say_hello(self):\n",
    "        print(\"...nothing to say...\")\n",
    "\n",
    "class Dog(Animal):\n",
    "    def __init__(self, name, breed):\n",
    "        Animal.__init__(self, name, breed) #можно использовать super; так сделано для примера\n",
    "        print(\"Calling Dog __init__\")\n",
    "    def say_hello(self):\n",
    "        print(\"Dog says Wooof\")\n",
    "        \n",
    "class Cat(Animal):\n",
    "    def __init__(self, name):\n",
    "        super().__init__(name, breed = None)\n",
    "        print(\"Calling Cat __init__\")\n",
    "    def say_hello(self):\n",
    "        print(\"Cat says Meay\")\n",
    "                 \n",
    "class CatDog(Cat, Dog):\n",
    "    def __init__(self, name):\n",
    "        print(\"============\")\n",
    "        super().__init__(name)\n",
    "        print(\"Calling CatDog __init__\")\n",
    "        print(\"============\")\n",
    "    def say_hello(self):\n",
    "        print(\"CatDog says Tytyrooo\")\n",
    "\n",
    "animal_list = [] \n",
    "for animal in (Cat(\"Kitty\"), Dog(\"Barbos\", \"stray dog\"), CatDog(\"KittyKat\")):\n",
    "    animal_list.append(animal)\n",
    "\n",
    "for animal in animal_list:\n",
    "    animal.say_hello()"
   ]
  },
  {
   "cell_type": "markdown",
   "metadata": {
    "hidden": true
   },
   "source": [
    "- В питоне **вирутальные ф-ции** разрешаются автоматически, т.е. не надо ничего явно указывать, интерпретатор сам находит какая из перегрузок Ф-ции наиболее актуальна для данного наследника. Поэтому, ф-ция `animal.say_hello()` для списока `animal_list` разных животных работает корректно.\n",
    "- В питоне, все объекты являются наследниками класса `object`."
   ]
  },
  {
   "cell_type": "markdown",
   "metadata": {
    "hidden": true
   },
   "source": [
    "- **Множественное наследование** разрешается через [C3-лианеризацию](https://ru.wikipedia.org/wiki/C3-%D0%BB%D0%B8%D0%BD%D0%B5%D0%B0%D1%80%D0%B8%D0%B7%D0%B0%D1%86%D0%B8%D1%8F). Вызов конструкторов и инициализаторов происходит в той последовательности, а какой они классы указаны в скобках `CatDog(Cat, Dog)`. Для корректно работы, следует использовать ф-цию `super()`. При вызове инициализатора через `super` (например, `super().__init__(name, breed = None)`), интерпретатор выполни вызов конструктора только один раз для каждого уникального объекта (например, при создании `CatDog`, класс `Animal` будет создан и проининциализирован только один раз).\n",
    "- Метод `__mro__` (**method resolution order**) показывает последовательность с какой было лианеризовано дерево наследований)."
   ]
  },
  {
   "cell_type": "code",
   "execution_count": 54,
   "metadata": {
    "ExecuteTime": {
     "end_time": "2021-08-30T19:27:43.830817Z",
     "start_time": "2021-08-30T19:27:43.825828Z"
    },
    "hidden": true
   },
   "outputs": [
    {
     "data": {
      "text/plain": [
       "(__main__.CatDog, __main__.Cat, __main__.Dog, __main__.Animal, object)"
      ]
     },
     "execution_count": 54,
     "metadata": {},
     "output_type": "execute_result"
    }
   ],
   "source": [
    "CatDog.__mro__"
   ]
  },
  {
   "cell_type": "markdown",
   "metadata": {
    "ExecuteTime": {
     "end_time": "2021-08-30T19:27:26.622997Z",
     "start_time": "2021-08-30T19:27:26.605412Z"
    },
    "hidden": true
   },
   "source": [
    "Таким образом, иерархия наследования (т.е. последовательность вызовов конструкторов и инициализаторов, а также приоритет поиска и вызова виртуальных ф-ций) следующая:\n",
    "1. `__main__.CatDog`\n",
    "2. `__main__.Cat`\n",
    "3. `__main__.Dog`\n",
    "4. `__main__.Animal`\n",
    "5. `object`"
   ]
  },
  {
   "cell_type": "markdown",
   "metadata": {
    "hidden": true
   },
   "source": [
    "## `super()`"
   ]
  },
  {
   "cell_type": "markdown",
   "metadata": {
    "hidden": true
   },
   "source": []
  },
  {
   "cell_type": "markdown",
   "metadata": {
    "heading_collapsed": true,
    "hidden": true
   },
   "source": [
    "## Абстракция методов"
   ]
  },
  {
   "cell_type": "markdown",
   "metadata": {
    "hidden": true
   },
   "source": [
    "В питоне нет механизма абстрактных методов (как в C++). Есть специальное исключение (`NotImplementedError`), которое можно вызвать, если метод не переопределен при наследовании:"
   ]
  },
  {
   "cell_type": "code",
   "execution_count": 50,
   "metadata": {
    "ExecuteTime": {
     "end_time": "2021-08-30T19:24:17.295940Z",
     "start_time": "2021-08-30T19:24:17.269957Z"
    },
    "hidden": true
   },
   "outputs": [
    {
     "name": "stdout",
     "output_type": "stream",
     "text": [
      "Dog says Wooof\n"
     ]
    },
    {
     "ename": "NotImplementedError",
     "evalue": "Надо реализовать ф-цию для потомков",
     "output_type": "error",
     "traceback": [
      "\u001b[1;31m---------------------------------------------------------------------------\u001b[0m",
      "\u001b[1;31mNotImplementedError\u001b[0m                       Traceback (most recent call last)",
      "\u001b[1;32m<ipython-input-50-f40c873d4bb4>\u001b[0m in \u001b[0;36m<module>\u001b[1;34m\u001b[0m\n\u001b[0;32m     20\u001b[0m \u001b[1;33m\u001b[0m\u001b[0m\n\u001b[0;32m     21\u001b[0m \u001b[0mcat\u001b[0m \u001b[1;33m=\u001b[0m \u001b[0mCat\u001b[0m\u001b[1;33m(\u001b[0m\u001b[1;34m\"Kitty\"\u001b[0m\u001b[1;33m)\u001b[0m\u001b[1;33m\u001b[0m\u001b[1;33m\u001b[0m\u001b[0m\n\u001b[1;32m---> 22\u001b[1;33m \u001b[0mcat\u001b[0m\u001b[1;33m.\u001b[0m\u001b[0msay_hello\u001b[0m\u001b[1;33m(\u001b[0m\u001b[1;33m)\u001b[0m \u001b[1;31m#error, ф-ция НЕ была переопределена\u001b[0m\u001b[1;33m\u001b[0m\u001b[1;33m\u001b[0m\u001b[0m\n\u001b[0m",
      "\u001b[1;32m<ipython-input-50-f40c873d4bb4>\u001b[0m in \u001b[0;36msay_hello\u001b[1;34m(self)\u001b[0m\n\u001b[0;32m      3\u001b[0m         \u001b[0mself\u001b[0m\u001b[1;33m.\u001b[0m\u001b[0mname\u001b[0m \u001b[1;33m=\u001b[0m \u001b[0mname\u001b[0m\u001b[1;33m\u001b[0m\u001b[1;33m\u001b[0m\u001b[0m\n\u001b[0;32m      4\u001b[0m     \u001b[1;32mdef\u001b[0m \u001b[0msay_hello\u001b[0m\u001b[1;33m(\u001b[0m\u001b[0mself\u001b[0m\u001b[1;33m)\u001b[0m\u001b[1;33m:\u001b[0m\u001b[1;33m\u001b[0m\u001b[1;33m\u001b[0m\u001b[0m\n\u001b[1;32m----> 5\u001b[1;33m         \u001b[1;32mraise\u001b[0m \u001b[0mNotImplementedError\u001b[0m\u001b[1;33m(\u001b[0m\u001b[1;34m\"Надо реализовать ф-цию для потомков\"\u001b[0m\u001b[1;33m)\u001b[0m\u001b[1;33m\u001b[0m\u001b[1;33m\u001b[0m\u001b[0m\n\u001b[0m\u001b[0;32m      6\u001b[0m \u001b[1;33m\u001b[0m\u001b[0m\n\u001b[0;32m      7\u001b[0m \u001b[1;32mclass\u001b[0m \u001b[0mDog\u001b[0m\u001b[1;33m(\u001b[0m\u001b[0mAnimal\u001b[0m\u001b[1;33m)\u001b[0m\u001b[1;33m:\u001b[0m\u001b[1;33m\u001b[0m\u001b[1;33m\u001b[0m\u001b[0m\n",
      "\u001b[1;31mNotImplementedError\u001b[0m: Надо реализовать ф-цию для потомков"
     ]
    }
   ],
   "source": [
    "class Animal:\n",
    "    def __init__(self, name, breed = None):\n",
    "        self.name = name  \n",
    "    def say_hello(self):\n",
    "        raise NotImplementedError(\"Надо реализовать ф-цию для потомков\")\n",
    "\n",
    "class Dog(Animal):\n",
    "    def __init__(self, name):\n",
    "        super().__init__(name)\n",
    "    \n",
    "    def say_hello(self):\n",
    "        print(\"Dog says Wooof\")\n",
    "        \n",
    "class Cat(Animal):\n",
    "    def __init__(self, name):\n",
    "        super().__init__(name)\n",
    "\n",
    "dog = Dog(\"Spike\")\n",
    "dog.say_hello() #ок, ф-ция была переопределена\n",
    "\n",
    "cat = Cat(\"Kitty\")\n",
    "cat.say_hello() #error, ф-ция НЕ была переопределена"
   ]
  },
  {
   "cell_type": "markdown",
   "metadata": {
    "heading_collapsed": true
   },
   "source": [
    "# import a class\n",
    "As any parent class must be included/imported to the file, it's convinient to separet code to a module. Classes imported the same way as any module:\n",
    "- `from car import ElectricCar`  - import only ElectricCar class (no need to include its parent classes). To use `my_tesla = ElectricCar('tesla', 'model s', 2016)` \n",
    "- `from car import Car, ElectricCar` - iport both Car and ElectricCar classes. Usage the same way as above \n",
    "- `import car` - import entire module with all classes. To use `my_tesla = car.ElectricCar('tesla', 'model s', 2016)` \n",
    "- `from car import *` - (not recomended) import entire module with all classes, but no need to indicate class when use `my_tesla = ElectricCar('tesla', 'model s', 2016)` - might cause confussion.\n",
    "\n",
    "*also no problem if in order to work module2 needs to import another module1. You will need to import only the module2"
   ]
  },
  {
   "cell_type": "markdown",
   "metadata": {
    "hidden": true
   },
   "source": [
    "**Style:** If you need to import a module from the standard library and a module that you wrote, place the import statement for the standard library module first. Then add a blank line and the import statement for the module you wrote. "
   ]
  },
  {
   "cell_type": "markdown",
   "metadata": {
    "hidden": true
   },
   "source": [
    "### in python 2.7 \n",
    "```\n",
    "class Car(object):\n",
    "    def __init__(self, make, model, year):\n",
    "        --snip--\n",
    "    class ElectricCar(Car): \n",
    "    def __init__(self, make, model, year):\n",
    "        super(ElectricCar, self).__init__(make, model, year) \n",
    "        --snip-- \n",
    "```\n",
    "Difference wiht 3.x is:\n",
    "- include object in `class Car(object):` when create a class\n",
    "- different `super()` syntax: `super(ElectricCar, self).__init__(make, model, year)`"
   ]
  },
  {
   "cell_type": "markdown",
   "metadata": {},
   "source": [
    "# Менеджеры контекста"
   ]
  },
  {
   "cell_type": "markdown",
   "metadata": {},
   "source": [
    "**Менеджер контекста** - специальный класс, который обрабатывает некоторый блок кода в начале и конце.    \n",
    "\n",
    "Конструкция `with open(file) as file` - это контекстный менеджер для работы с файлами.    \n",
    "\n",
    "**Общий вид**    \n",
    "```python\n",
    "with <менеджер контекста> as <переменная>:\n",
    "    <блок кода; объект name обрабатывается тут>\n",
    "```\n",
    "или\n",
    "```python\n",
    "# если при менеджер контекста не возвращает объект для обработки\n",
    "with <менеджер контекста>:\n",
    "    <блок кода; никакой объект не обрабатывается>\n",
    "```"
   ]
  },
  {
   "cell_type": "markdown",
   "metadata": {},
   "source": [
    "У любого контекстного менеджера должны быть перегружены методы:\n",
    "1. `__enter__` - когда происходит создание менеджера контекста с помощью оператора `with`, то он автоматически вызывается. Здесь <переменная> - это ссылка на экземпляр менеджера контекста, через которую, мы потом с ним можем работать (операция `as <переменная>`). При необходимости ее можно опустить.\n",
    "2. `__exit__` - методы выполняемы при окончании блока кода. Он *вызывается в любом случаии*, даже если было вызвано исключение и блок кода не исполнен до конца. "
   ]
  },
  {
   "cell_type": "markdown",
   "metadata": {},
   "source": [
    "Ниже приведен пример контекстного менеджера (подробнее [тут](https://proproprogs.ru/python_oop/menedzhery-konteksta)):"
   ]
  },
  {
   "cell_type": "code",
   "execution_count": 1,
   "metadata": {
    "ExecuteTime": {
     "end_time": "2021-09-10T19:50:03.985481Z",
     "start_time": "2021-09-10T19:50:03.971499Z"
    }
   },
   "outputs": [],
   "source": [
    "class DefenerVector:\n",
    "    def __init__(self, v):\n",
    "        self.__v = v\n",
    " \n",
    "    def __enter__(self):\n",
    "        self.__temp = self.__v[:]  # делаем копию вектора v\n",
    "        return self.__temp\n",
    " \n",
    "    def __exit__(self, exc_type, exc_val, exc_tb):\n",
    "        if exc_type is None:\n",
    "            self.__v[:] = self.__temp\n",
    "        return False"
   ]
  },
  {
   "cell_type": "code",
   "execution_count": 5,
   "metadata": {
    "ExecuteTime": {
     "end_time": "2021-09-10T19:51:48.728114Z",
     "start_time": "2021-09-10T19:51:48.719108Z"
    }
   },
   "outputs": [
    {
     "name": "stdout",
     "output_type": "stream",
     "text": [
      "[2, 4, 6]\n"
     ]
    }
   ],
   "source": [
    "v1 = [1,2,3]\n",
    "v2 = [1,2,3]\n",
    "with DefenerVector(v1) as dv: #__init__ вызван при DefenerVector(v1), а потом вызван __enter__\n",
    "    for i in range(len(dv)):\n",
    "        dv[i] += v2[i]\n",
    "\n",
    "print(v1)"
   ]
  },
  {
   "cell_type": "markdown",
   "metadata": {},
   "source": [
    "- Сначала вызывается `__init__` (при создании объекта-менеджера `DefenerVector(v1)`). Затем по команде `with` вызывается `__enter__`.\n",
    "\n",
    "- `__enter__` - должен возвращать объект, чтобы его можно было обрабать внутри блока (сохраняется он через `as obj_name`). Если обработка не нужна, то можно ничего не возвращать.\n",
    "    ```python\n",
    "    def __enter__(self):\n",
    "        ...\n",
    "        return self.__data\n",
    "    ```\n",
    "- Если  `__exit__` возвращает `True`, то все исключения сгенерированные внутри блока не выйдут за его рамки. Это значит, что они не будут вызваны вне блока, и обработать их вне блока нельзя (т.е. не выйдет никаких сообщений и ошибок). В этом случаии надо обрабатывать исключения внутри блока.  \n",
    "    Если  `__exit__` возвращает `False`, то все сгенерированные исключения (внутри блока) будут искать обработчик в общем стэке (см. *Exception Propagation*) и могут быть обработаны вне блока. По дефолту возвращается `None`; т.к. `bool(None) = Flase`, то это эквивалентно `Flase`).\n",
    "```python\n",
    "def __enter__(self):\n",
    "    ...\n",
    "    return False #or True; return None - default\n",
    "```"
   ]
  },
  {
   "cell_type": "markdown",
   "metadata": {},
   "source": [
    "# Метаклассы"
   ]
  },
  {
   "cell_type": "markdown",
   "metadata": {},
   "source": [
    "Источник: [cтатья на Хабре](https://habr.com/ru/post/145835/)"
   ]
  },
  {
   "cell_type": "markdown",
   "metadata": {},
   "source": [
    "**Метакласс** - это класс, который создает классы (не экземпляры, а именно классы).\n",
    "\n",
    "Как только используется ключевое слово `class`, Питон исполняет команду и создаёт объект `ObjectCreator`. Этот объект (класс) сам может создавать объекты (экземпляры), поэтому он и является классом. Тк, это объект, то:\n",
    "- его можно присвоить переменной,\n",
    "- его можно скопировать,\n",
    "- можно добавить к нему атрибут,\n",
    "- его можно передать функции в качестве аргумента,\n",
    "\n",
    "Когда используется ключевое слово `class`, Питон создаёт этот объект автоматически. Но как и большинство вещей в Питоне, есть способ сделать это вручную. В ручную - это с помощью пользовательских метаклассов.   \n",
    "\n",
    "Для автоматического создания классов, используется базовый метакласс `type`. Его же никакой другой класс не создает; он реализован на C (т.е. это самая базовая вещь в Питоне, уходящая корнями глубоко в корни интерпретатора). Исторически получилось, что `type` - это и 1) ф-ция для того, чтобы узнать тип данных, и 2) метакласс для создания классов (что выбрать из 2х вариантов выбирается из контекста)."
   ]
  },
  {
   "cell_type": "markdown",
   "metadata": {},
   "source": [
    "## type"
   ]
  },
  {
   "cell_type": "markdown",
   "metadata": {},
   "source": [
    "`type` работает следующим образом:\n",
    "```python\n",
    "  type(<имя класса>, \n",
    "       <кортеж родительских классов>, # для наследования, может быть пустым\n",
    "       <словарь, содержащий атрибуты и их значения>)\n",
    "```\n",
    "Например, "
   ]
  },
  {
   "cell_type": "markdown",
   "metadata": {
    "ExecuteTime": {
     "end_time": "2021-09-20T16:05:56.216644Z",
     "start_time": "2021-09-20T16:05:56.207652Z"
    }
   },
   "source": [
    "Например, объявление некоторого класса (т.е. создание метакласса, который будет создавать классы)\n",
    "```python\n",
    "class Foo(object):\n",
    "    bar = True\n",
    "```\n",
    "Эквивалентно\n",
    "```python\n",
    "Foo = type('Foo', (), {'bar':True}) # возвращает объект-класс\n",
    "```"
   ]
  },
  {
   "cell_type": "markdown",
   "metadata": {
    "ExecuteTime": {
     "end_time": "2021-09-20T16:05:57.966480Z",
     "start_time": "2021-09-20T16:05:57.948496Z"
    }
   },
   "source": [
    "## Атрибут `__metaclass__` "
   ]
  },
  {
   "cell_type": "markdown",
   "metadata": {},
   "source": [
    "При объявлении класса, можно явно указать, какой метакласс мы хотим использовать с помощью атрибута `__metaclass__`.\n",
    "```python\n",
    "class Foo(object):\n",
    "    __metaclass__ = something...\n",
    "    ...\n",
    "```"
   ]
  },
  {
   "cell_type": "markdown",
   "metadata": {},
   "source": [
    "## Пример"
   ]
  },
  {
   "cell_type": "markdown",
   "metadata": {},
   "source": [
    "Например, мы можем определить метакласс, который переопределяет функцию `__init__`, и тогда каждый класс, созданный этим метаклассом, будет запоминать все созданные подклассы. Новый `__init__` записывает свой собственный атрибут, в котором будет храниться словарь созданных классов. В следующем примере у нас вначале создаётся класс Base, метаклассом которого является Meta, и у него создаётся атрибут класса registry, в который мы будем записывать все его подклассы. Каждый раз, когда у нас создаётся какой-то класс, который наследуется от Base, мы записываем в registry соответствующее значение, то есть название созданного класса и ссылку на него:"
   ]
  },
  {
   "cell_type": "code",
   "execution_count": 5,
   "metadata": {
    "ExecuteTime": {
     "end_time": "2021-09-20T16:15:23.721432Z",
     "start_time": "2021-09-20T16:15:23.709432Z"
    }
   },
   "outputs": [
    {
     "name": "stdout",
     "output_type": "stream",
     "text": [
      "Initializing — Base\n",
      "Initializing — A\n",
      "Initializing — B\n"
     ]
    }
   ],
   "source": [
    "class Meta(type):\n",
    "    def __init__(cls, name, bases, attrs):\n",
    "        print('Initializing — {}'.format(name))\n",
    "        if not hasattr(cls, 'registry'):\n",
    "            cls.registry = {}\n",
    "        else:\n",
    "            cls.registry[name.lower()] = cls\n",
    "            super().__init__(name, bases, attrs)\n",
    "    \n",
    "class Base(metaclass=Meta): pass\n",
    "class A(Base): pass\n",
    "class B(Base): pass"
   ]
  },
  {
   "cell_type": "markdown",
   "metadata": {},
   "source": [
    "## Зачем нужны и когда использовать"
   ]
  },
  {
   "cell_type": "markdown",
   "metadata": {},
   "source": [
    "Действительно, метаклассы особенно полезны для всякой «чёрной магии», а, следовательно, сложных штук. Но сами по себе они просты:\n",
    "- перехватить создание класса\n",
    "- изменить класс\n",
    "- вернуть модифицированный"
   ]
  },
  {
   "cell_type": "markdown",
   "metadata": {},
   "source": [
    "```\n",
    "Метаклассы это глубокая магия, о которой 99% пользователей даже не нужно задумываться. Если вы думаете, нужно ли вам их использовать — вам не нужно (люди, которым они реально нужны, точно знают, зачем они им, и не нуждаются в объяснениях, почему).\n",
    "                                                                                      Гуру Питона Тим Питерс\n",
    "```"
   ]
  },
  {
   "cell_type": "markdown",
   "metadata": {},
   "source": [
    "Основное применение метаклассов это создание API. Типичный пример — Django ORM. Django делает что-то сложное выглядящим простым, выставляя наружу простое API и используя метаклассы, воссоздающие код из API и незаметно делающие всю работу"
   ]
  }
 ],
 "metadata": {
  "kernelspec": {
   "display_name": "Python 3",
   "language": "python",
   "name": "python3"
  },
  "language_info": {
   "codemirror_mode": {
    "name": "ipython",
    "version": 3
   },
   "file_extension": ".py",
   "mimetype": "text/x-python",
   "name": "python",
   "nbconvert_exporter": "python",
   "pygments_lexer": "ipython3",
   "version": "3.7.6"
  },
  "toc": {
   "base_numbering": 1,
   "nav_menu": {},
   "number_sections": true,
   "sideBar": true,
   "skip_h1_title": false,
   "title_cell": "Table of Contents",
   "title_sidebar": "Contents",
   "toc_cell": false,
   "toc_position": {},
   "toc_section_display": true,
   "toc_window_display": false
  }
 },
 "nbformat": 4,
 "nbformat_minor": 4
}
