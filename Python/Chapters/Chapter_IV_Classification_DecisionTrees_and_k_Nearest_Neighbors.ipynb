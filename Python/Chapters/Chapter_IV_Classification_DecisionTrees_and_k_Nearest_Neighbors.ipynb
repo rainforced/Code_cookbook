{
 "cells": [
  {
   "cell_type": "markdown",
   "metadata": {
    "heading_collapsed": true
   },
   "source": [
    "## Outline\n",
    "- Метрики: энтропия, прирост информации и Gini impurity\n",
    "- Валидация (отложенная и кросс-валидация)\n",
    "- Дерево (DT) лучше, когда яврко вырожены критерии отбора (точки ветвления) (напр, выплата кредита)\n",
    "- kNN лучше, когда объекты классифицируются по общиму признаку (напр, MNIST)\n",
    "\n",
    "\n",
    "[ODS, Лекция 3](https://habr.com/en/company/ods/blog/322534/)"
   ]
  },
  {
   "cell_type": "markdown",
   "metadata": {
    "hidden": true
   },
   "source": [
    "Things to look at: \n",
    "- sklearn.model_selection.GridSearchCV()\n",
    "- sklearn.pipeline.Pipeline()\n",
    "- cross_val_score()"
   ]
  },
  {
   "cell_type": "markdown",
   "metadata": {},
   "source": [
    "## Theory\n",
    "- Основные задачи машинного обучения\n",
    "- Энтропия и Прирост информации\n",
    "- Decision Trees\n"
   ]
  },
  {
   "cell_type": "markdown",
   "metadata": {},
   "source": [
    "**Machin learning** - говорят, что компьютерная программа обучается при решении какой-то задачи из класса T, если ее производительность, согласно метрике P, улучшается при накоплении опыта E.\n",
    "\n",
    "Среди самых популярных задач **T** в машинном обучении:  \n",
    "- кластеризация – разбиение множества объектов на группы на основании признаков этих объектов так, чтобы внутри групп объекты были похожи между собой, а вне одной группы – менее похожи\n",
    "- классификация – отнесение объекта к одной из категорий на основании его признаков\n",
    "- детекция аномалий – поиск объектов, \"сильно непохожих\" на все остальные в выборке либо на какую-то группу объектов\n",
    "- регрессия – прогнозирование количественного признака объекта на основании прочих его признаков"
   ]
  },
  {
   "cell_type": "markdown",
   "metadata": {},
   "source": [
    "**Энтропия** - мера хаоса  \n",
    "Энтропия Шеннона определяется для системы с **N** возможными состояниями следующим образом:  \n",
    "\n",
    "\n",
    "$\\large{S = - \\sum_{i=1}^{N} p_i log_2(p_i)} $  \n",
    "\n",
    "\n",
    "где $p_i$ - вероятность нахождения системы в состоянии *i*"
   ]
  },
  {
   "cell_type": "markdown",
   "metadata": {},
   "source": [
    "Разбиение на группы данных (на основе дерева решенией) помогает уменьшить энтропию. При разделении сета, уменькашется энтропия ( = хаос) $\\implies$ растете **Прирост информации (IG = Information gain)** - это мера уменьшения хаоса (энтропии). Так при разделении сета, **IG**:  \n",
    "\n",
    "\n",
    "$ \\large{IG(Q) = S_0 - \\sum_{i=1}^{q} \\frac{N_i}{N} S_i}$  \n",
    "\n",
    "\n",
    "где Q - признак, $q$ - кол-во разбиений сета, $N_I$- число элементов выборки, у которых Q признак имеет $i$-ое значение."
   ]
  },
  {
   "cell_type": "markdown",
   "metadata": {},
   "source": [
    "### Выбор параметров модели и кросс-валидация\n",
    "- отложенная выборка (held-out/hold-out set)\n",
    "- кросс-валидация (cross-validation)"
   ]
  },
  {
   "cell_type": "markdown",
   "metadata": {},
   "source": [
    "Чтобы проверить качество построенной модели используется валидация: прогоняется тестовая выборка, и оценивается качество (например, кол-во правильно классифицированных объектов) для данной модели (т.е. метода, метрики, глубины, кол-ва признаков, кол-ва соседей и т.д.)   \n",
    "Чаще всего это делается одним из 2 способов:\n",
    "\n",
    "- **отложенная выборка (held-out/hold-out set)**. При таком подходе мы оставляем какую-то долю обучающей выборки (как правило от 20% до 40%), обучаем модель на остальных данных (60-80% исходной выборки) и считаем некоторую метрику качества модели (например, самое простое – долю правильных ответов в задаче классификации) на отложенной выборке.   \n",
    "- **кросс-валидация** (cross-validation, на русский еще переводят как скользящий или перекрестный контроль). Тут самый частый случай – K-fold кросс-валидация  \n",
    "![cross-validation](https://habrastorage.org/files/b1d/706/e6c/b1d706e6c9df49c297b6152878a2d03f.png)"
   ]
  },
  {
   "cell_type": "markdown",
   "metadata": {},
   "source": [
    "## Деревья решения (Decision Trees, DT)\n",
    "- Это посути последовательное ветвление на основе определенных признаков. \n",
    "- На каждом новом шаге ветвления, проверяются все возможные варианты и выбирается тот, что приносит максимальный прирост информации (**IG**). Замет на следующем шаге этот процесс повторяется (рекурсия). Это принцип **жадной максимизации прироста информации**.\n",
    "- Лист (**leaf**) - точка ветвления\n",
    "- Главные алгоритмы деревьев решений: ID3 и C4.5"
   ]
  },
  {
   "cell_type": "markdown",
   "metadata": {},
   "source": [
    "**Метрики для decision trees**:\n",
    "- Энтропия: $S = - \\sum_{i=1}^{N} p_i log_2(p_i)$\n",
    "- Неопределенность Джини (Gini impurity): $G = 1 - \\sum\\limits_k (p_k)^2$\n",
    "- Ошибка классификации (misclassification error): $E = 1 - \\max\\limits_k p_k$\n",
    "\n",
    "Энетромия и Gini impurity дают приблизительно одинковые результаты, их обычно и используют. Ошибка классификации - хуже."
   ]
  },
  {
   "cell_type": "markdown",
   "metadata": {},
   "source": [
    "#### **Пример** "
   ]
  },
  {
   "cell_type": "markdown",
   "metadata": {},
   "source": [
    "[отсюда, habr](https://habr.com/en/post/171759/)  \n",
    "Будем предсказывать цвет шарика по его координате.\n",
    "![Balls problem](https://hsto.org/storage2/173/96f/27f/17396f27f81e9bb312f2f01aa1254dbe.png)"
   ]
  },
  {
   "cell_type": "markdown",
   "metadata": {},
   "source": [
    "Так перед делением:   \n",
    "Вероятность вытянуть желтый: $p_2=\\frac{11}{20}$ и синий: $p_2=\\frac{9}{20}$   \n",
    "тогда энтропия для этого случая:  \n",
    "\n",
    "$S_0 = -\\frac{9}{20}\\log_2{\\frac{9}{20}}-\\frac{11}{20}\\log_2{\\frac{11}{20}} \\approx 1$  \n",
    "\n",
    "\n",
    "После деления по признаку Q ( $x \\leq 12$), энтропии для отдельных случаев будут:    \n",
    "\n",
    "$S_1 = -\\frac{5}{13}\\log_2{\\frac{5}{13}}-\\frac{8}{13}\\log_2{\\frac{8}{13}} \\approx 0.96$   \n",
    "$S_2 = -\\frac{1}{7}\\log_2{\\frac{1}{7}}-\\frac{6}{7}\\log_2{\\frac{6}{7}} \\approx 0.6$  \n",
    "\n",
    "А IG:  \n",
    "\n",
    "$ IG(x \\leq 12) = S_0 - \\frac{13}{20}S_1 - \\frac{7}{20}S_2 \\approx 0.16$   \n",
    "\n",
    "Те разделение ведет к увеличению порядка. Так и будем делить пока не поделем на группы, где будут шары одного цвета.  Тогда энтропия для такой группы будет: $S = \\log_2{1} = 0$ т.к. вероятность вытянуть шар определенного цвета будет 1.  \n",
    "\n",
    "___\n",
    "\n",
    "В примере все работает прекрасно, но это был подгон признаков ветвления под обучающих сет. В случаи нового набора данных, эти признаки (последовательное деление в тех же точках) не сработают $ \\implies $ **переобучение**."
   ]
  },
  {
   "cell_type": "markdown",
   "metadata": {},
   "source": [
    "### Реализация на Scikit-learn "
   ]
  },
  {
   "cell_type": "markdown",
   "metadata": {},
   "source": [
    "**Numpy** few notes:\n",
    "1. When you say array[:, 0], you're saying give me the 0th index of all the rows in array (this is another way of saying give me the 0th column).\n",
    "\n",
    "\n",
    "2. When you say array[:2] - it gives indexeds [0, 1], 2 is not inclusive"
   ]
  },
  {
   "cell_type": "code",
   "execution_count": 1,
   "metadata": {
    "ExecuteTime": {
     "end_time": "2019-09-25T23:14:48.791916Z",
     "start_time": "2019-09-25T23:14:25.445329Z"
    }
   },
   "outputs": [],
   "source": [
    "from __future__ import division, print_function\n",
    "# отключим всякие предупреждения Anaconda\n",
    "import warnings\n",
    "warnings.filterwarnings('ignore')\n",
    "import numpy as np\n",
    "import pandas as pd\n",
    "\n",
    "import seaborn as sns\n",
    "from matplotlib import pyplot as plt"
   ]
  },
  {
   "cell_type": "markdown",
   "metadata": {},
   "source": [
    "#### Задача классификации"
   ]
  },
  {
   "cell_type": "markdown",
   "metadata": {},
   "source": [
    "**Генерируем рандомный сет**"
   ]
  },
  {
   "cell_type": "code",
   "execution_count": 2,
   "metadata": {
    "ExecuteTime": {
     "end_time": "2019-09-25T01:51:01.127705Z",
     "start_time": "2019-09-25T01:51:01.123704Z"
    }
   },
   "outputs": [],
   "source": [
    "# первый класс\n",
    "# np.random.normal(loc = 0, scale = 1, size = ()) - default loc = 0 - это где лежит среднее значение распределения\n",
    "np.seed = 7  #ставим зерно для рандомизации\n",
    "train_data = np.random.normal(size=(100, 2))\n",
    "train_labels = np.zeros(100)                  #матрица 100x1 с нулями\n",
    "\n",
    "# добавляем второй класс\n",
    "# у второго распределения все тоже самое, но смещено среднее значение распр. : loc = 2\n",
    "# np.r_ - it does is row-wise merging. Тут присоединяет вторую матрицу в конец (есть аргументы гда присоединение сложнее)\n",
    "train_data = np.r_[train_data, np.random.normal(size=(100, 2), loc=2)]\n",
    "train_labels = np.r_[train_labels, np.ones(100)]"
   ]
  },
  {
   "cell_type": "markdown",
   "metadata": {},
   "source": [
    "`train_data = np.random.normal(size=(100, 2))` - троим 2D матрицу (100x2) с случайным заполнением из норм. распределения. 2D чтобы: `train_data[:, 0]` - X axis, `train_data[:, 1]` - Y axis  \n",
    "`np.r_[array1, array2] `- . Тут присоединяет вторую матрицу в конец (есть аргументы, чтобы присоединение делалось по-другому)  \n",
    "`train_data[:, 0]` - берет первый столбец (колонка[0])"
   ]
  },
  {
   "cell_type": "markdown",
   "metadata": {},
   "source": [
    "**График сета**"
   ]
  },
  {
   "cell_type": "code",
   "execution_count": 3,
   "metadata": {
    "ExecuteTime": {
     "end_time": "2019-09-25T01:51:03.476324Z",
     "start_time": "2019-09-25T01:51:03.297426Z"
    },
    "scrolled": true
   },
   "outputs": [
    {
     "data": {
      "image/png": "[encoded data removed]",
      "text/plain": [
       "<Figure size 504x360 with 1 Axes>"
      ]
     },
     "metadata": {
      "needs_background": "light"
     },
     "output_type": "display_data"
    }
   ],
   "source": [
    "# c=train_labels - это матрица 200x1: первые 100 значений - 0, вторые - 1. Красным красит первые 100 зн\n",
    "plt.rcParams['figure.figsize'] = (7,5)\n",
    "plt.scatter(train_data[:, 0], train_data[:, 1], c=train_labels, s=100, \n",
    "cmap='autumn', edgecolors='black', linewidth=1.5);\n",
    "\n",
    "plt.plot(range(-2,5), range(4,-3,-1));"
   ]
  },
  {
   "cell_type": "markdown",
   "metadata": {},
   "source": [
    "`train_data[:, 0]` - X axis  \n",
    "`train_data[:, 1]` - Y axis  \n",
    "`c=train_labels` - это матрица 200x1: первые 100 значений - 0, вторые - 1. Красным красит первые 100 значений, желтым последник 100   \n",
    "Диагональ строится автоматически   \n",
    "`s = 100` - s : scalar or array_like, shape (n, ). The marker size in points $^{**}2$. Default is rcParams['lines.markersize'] ** 2.\n"
   ]
  },
  {
   "cell_type": "markdown",
   "metadata": {},
   "source": [
    "**Учим дерево**  \n",
    "Будем использовать параметр max_depth, ограничивающий глубину дерева."
   ]
  },
  {
   "cell_type": "code",
   "execution_count": 4,
   "metadata": {
    "ExecuteTime": {
     "end_time": "2019-09-25T01:51:08.460888Z",
     "start_time": "2019-09-25T01:51:06.819834Z"
    },
    "scrolled": true
   },
   "outputs": [
    {
     "data": {
      "image/png": "[encoded data removed]",
      "text/plain": [
       "<Figure size 504x360 with 1 Axes>"
      ]
     },
     "metadata": {
      "needs_background": "light"
     },
     "output_type": "display_data"
    }
   ],
   "source": [
    "#Целиком мы sklearn не импортируем, тк он оч большой\n",
    "from sklearn.tree import DecisionTreeClassifier\n",
    "\n",
    "# Напишем вспомогательную функцию, которая будет возвращать решетку для дальнейшей визуализации.\n",
    "def get_grid(data):\n",
    "    x_min, x_max = data[:, 0].min() - 1, data[:, 0].max() + 1   \n",
    "    y_min, y_max = data[:, 1].min() - 1, data[:, 1].max() + 1   \n",
    "    return np.meshgrid(np.arange(x_min, x_max, 0.01), np.arange(y_min, y_max, 0.01))\n",
    "\n",
    "# параметр min_samples_leaf указывает, при каком минимальном количестве\n",
    "# элементов в узле он будет дальше разделяться\n",
    "clf_tree = DecisionTreeClassifier(criterion='entropy', max_depth=3, random_state=17)\n",
    "\n",
    "# обучаем дерево\n",
    "clf_tree.fit(train_data, train_labels)\n",
    "\n",
    "# немного кода для отображения разделяющей поверхности\n",
    "xx, yy = get_grid(train_data)\n",
    "predicted = clf_tree.predict(np.c_[xx.ravel(), yy.ravel()]).reshape(xx.shape)\n",
    "plt.pcolormesh(xx, yy, predicted,  cmap='autumn')     \n",
    "plt.scatter(train_data[:, 0], train_data[:, 1], c=train_labels, s=100, \n",
    "cmap='autumn', edgecolors='black', linewidth=1.5);"
   ]
  },
  {
   "cell_type": "markdown",
   "metadata": {},
   "source": [
    "#### class DecisionTreeClassifier \n",
    "- [Документация](https://scikit-learn.org/stable/modules/generated/sklearn.tree.DecisionTreeRegressor.html)"
   ]
  },
  {
   "cell_type": "markdown",
   "metadata": {},
   "source": [
    "Создаем класс `DecisionTreeClassifier` с соответвующими атрибутами   \n",
    "`clf_tree = DecisionTreeClassifier(criterion='entropy', max_depth=3, random_state=17)`   \n",
    "\n",
    "\n",
    "**Atributes**   \n",
    "\n",
    "- **criterion**  \n",
    "    Вид метрики, которая будет использована   \n",
    "\n",
    "\n",
    "- **max_depth**   \n",
    "    Насколько глубоко делать ветвление. Если слишком глубоко ветвить, то на обучающей выборке алгоритм подберет все идеально, но на тесте будет плохо $\\implies$ *переобучение*.  \n",
    "\n",
    "- **random_state**  \n",
    "     Basiclly, manually set the seed for randomisation in tree learning   \n",
    "     This is explained in the documentation\n",
    "    ```\n",
    "    The problem of learning an optimal decision tree is known to be NP-complete under several aspects of optimality and even for simple concepts. Consequently, practical decision-tree learning algorithms are based on heuristic algorithms (Эвристический алгоритм) such as the greedy algorithm where locally optimal decisions are made at each node. Such algorithms cannot guarantee to return the globally optimal decision tree. This can be mitigated by training multiple trees in an ensemble learner, where the features and samples are randomly sampled with replacement.\n",
    "    ```\n",
    "\n",
    "    So, basically, a sub-optimal greedy algorithm is repeated a number of times using random selections of features and samples (a similar technique used in random forests). The random_state parameter allows controlling these random choices.\n",
    "\n",
    "    The interface documentation specifically states:\n",
    "\n",
    "    ```\n",
    "    If int, random_state is the seed used by the random number generator; If RandomState instance, random_state is the random number generator; If None, the random number generator is the RandomState instance used by np.random.\n",
    "    ```\n",
    "\n",
    "    So, the random algorithm will be used in any case. Passing any value (whether a specific int, e.g., 0, or a RandomState instance), will not change that. The only rationale for passing in an int value (0 or otherwise) is to make the outcome consistent across calls: if you call this with random_state=0 (or any other value), then each and every time, you'll get the same result.\n",
    "\n",
    "----\n",
    "\n",
    "- **max_features** — максимальное число признаков, по которым ищется лучшее разбиение в дереве (это нужно потому, что при большом количестве признаков будет \"дорого\" искать лучшее (по критерию типа прироста информации) разбиение среди всех признаков)\n",
    "\n",
    "\n",
    "- **min_samples_leaf** – минимальное число объектов в листе. У этого параметра есть понятная интерпретация: скажем, если он равен 5, то дерево будет порождать только те классифицирующие правила, которые верны как минимум для 5 объектов\n"
   ]
  },
  {
   "cell_type": "markdown",
   "metadata": {},
   "source": [
    "**Methods**\n",
    "\n",
    "\n",
    "`fit(X, y, sample_weight=None, check_input=True, X_idx_sorted=None)`   \n",
    "\n",
    "- $X$ - The training input samples. Internally, it will be converted to $dtype=np.float32$   \n",
    "- $y$ - The target values (real numbers). Use $dtype=np.float64$ and $order='C'$  \n",
    "\n",
    "\n",
    "`clf_tree.fit(train_data, train_labels)`   \n",
    "\n",
    " Тут признак: значения точек на плоскости  \n",
    "Целевой признак/класс:  0(красн) и 1(желт)  \n",
    "\n",
    "\n",
    "Реализация такова: по численному признаку (в нашем лучаии значение точек из друх распеределений: 0(красн) и 1(желт)), пытаемся предсказать при каких значениях признака, менятся целевой класс. На каждом новом делении модель случайно выбирает, как поделить ветвь -> считает энтропию. Так делается несколько раз, каждый раз деление задается случайно (для этого можно указать seed). В итоге, алгоритм выдаст лучший вариант (из всех случайных делений) по выбранной метрике/критерию.  \n",
    "\n",
    "---  \n"
   ]
  },
  {
   "cell_type": "markdown",
   "metadata": {},
   "source": [
    "`predict(X, check_input=True)` - Predict class or regression value for X.  \n",
    "For a classification model, the predicted class for each sample in X is returned. For a regression model, the predicted value based on X is returned.\n",
    "\n",
    "`predicted = clf_tree.predict(np.c_[xx.ravel(), yy.ravel()]).reshape(xx.shape)` - делает предсказание по сетке точек из meshgrid (см. ниже)  \n",
    "\n",
    "\n",
    "---"
   ]
  },
  {
   "cell_type": "markdown",
   "metadata": {},
   "source": [
    "#### Всопмогателный код"
   ]
  },
  {
   "cell_type": "markdown",
   "metadata": {},
   "source": [
    "`def get_grid(data):` - функция, которая берет матрицу данных, находит ее граничные значения. Возвращает равномерную 2D сетку точек в пределах этих границ. Подробнее смотри [Тут: очень хорошо про meshgrid](https://stackoverflow.com/questions/36013063/what-is-the-purpose-of-meshgrid-in-python-numpy)   \n",
    "\n",
    "\n",
    "`xx.ravel()` - It is equivalent to `reshape(-1, order=order)`. Присоединяет все столбцы, начиная со 2го, в конец первого   \n",
    "\n",
    "` numpy.reshape(a, newshape, order='C')`   \n",
    "- $a$ - Array to be reshaped (или, если вызыватеся как метод, то это будет array на котором reshape вызван.   \n",
    "- $newshape$ - int or tuple of ints. $(rows, columns)$  The new shape should be compatible with the original shape. If an integer, then the result will be a 1-D array of that length. One shape dimension can be -1. In this case, the value is inferred from the length of the array and remaining dimensions.   \n",
    "\n",
    "`np.c_[xx.ravel(), yy.ravel()]` - ставит столбцы (872331,1) каждый, бок о бок. Получаем матрицу  (872331, 2), где [:, 0] - xx.ravel(), [:, 1] - yy.ravel()   \n"
   ]
  },
  {
   "cell_type": "code",
   "execution_count": 43,
   "metadata": {
    "ExecuteTime": {
     "end_time": "2019-03-08T04:23:04.414296Z",
     "start_time": "2019-03-08T04:23:04.394323Z"
    }
   },
   "outputs": [
    {
     "name": "stdout",
     "output_type": "stream",
     "text": [
      "(929, 939)\n",
      "\n",
      "ravel: \n",
      " (872331,)\n",
      "\n",
      "np.c_: \n",
      " (872331, 2)\n"
     ]
    }
   ],
   "source": [
    "print(xx.shape)\n",
    "print('\\nravel: \\n', xx.ravel().shape)\n",
    "print('\\nnp.c_: \\n', np.c_[xx.ravel(), yy.ravel()].shape)"
   ]
  },
  {
   "cell_type": "markdown",
   "metadata": {},
   "source": [
    "**пояснение к** `(np.c_[xx.ravel(), yy.ravel()])`  \n",
    "По сути, xx (3,3) возвращается в формате $xx = [[1,2,3], [1,2,3],[1,2,3]]$, а соответствующая ему $yy(3,3) = [[7,7,7], [6,6,6], [9,9,9]]$. При вызове xx, yy - будет браться $1row_x = [1,2,3]$ и $1row_y = [7,7,7]$, так создасться линия на сетке соответствующая y=7 и x=range(1,3).   \n",
    "Поэтому $xx.ravel() = [1,2,3, 1,2,3, 1,2,3]$ (только это стобец, а не строка). $yy.ravel() = [7,7,7, 6,6,6, 9,9,9]$ (тоже столбец). При вызове `np.c_[xx.ravel(), yy.ravel()]` = $[[1, 7], [2, 7], [3, 7], [1,6], [2,6], [3,6]$, и тд для 9] т.е. 2 стобца: x (идет 1,2,3 и снова повторяется 1, 2, 3) и y (идет 7, 7, 7 а потом переходит на 6, 6, 6 и тд). Таким образом, передавая функции `np.c_[xx.ravel(), yy.ravel()]` мы передаем сетку так же заданную сетку, как и $xx, yy$ (формат матрицами (n, m) и (n,m)), но в формате 2х стобцов:  - каждый стобец (n*m, 1)."
   ]
  },
  {
   "cell_type": "code",
   "execution_count": 34,
   "metadata": {
    "ExecuteTime": {
     "end_time": "2019-09-25T03:09:14.675791Z",
     "start_time": "2019-09-25T03:09:14.641811Z"
    }
   },
   "outputs": [
    {
     "name": "stdout",
     "output_type": "stream",
     "text": [
      "xx:  (18, 17) \n",
      " [[-2.9553779 -2.4553779 -1.9553779 -1.4553779 -0.9553779 -0.4553779\n",
      "   0.0446221  0.5446221  1.0446221  1.5446221  2.0446221  2.5446221\n",
      "   3.0446221  3.5446221  4.0446221  4.5446221  5.0446221]\n",
      " [-2.9553779 -2.4553779 -1.9553779 -1.4553779 -0.9553779 -0.4553779\n",
      "   0.0446221  0.5446221  1.0446221  1.5446221  2.0446221  2.5446221\n",
      "   3.0446221  3.5446221  4.0446221  4.5446221  5.0446221]\n",
      " [-2.9553779 -2.4553779 -1.9553779 -1.4553779 -0.9553779 -0.4553779\n",
      "   0.0446221  0.5446221  1.0446221  1.5446221  2.0446221  2.5446221\n",
      "   3.0446221  3.5446221  4.0446221  4.5446221  5.0446221]\n",
      " [-2.9553779 -2.4553779 -1.9553779 -1.4553779 -0.9553779 -0.4553779\n",
      "   0.0446221  0.5446221  1.0446221  1.5446221  2.0446221  2.5446221\n",
      "   3.0446221  3.5446221  4.0446221  4.5446221  5.0446221]\n",
      " [-2.9553779 -2.4553779 -1.9553779 -1.4553779 -0.9553779 -0.4553779\n",
      "   0.0446221  0.5446221  1.0446221  1.5446221  2.0446221  2.5446221\n",
      "   3.0446221  3.5446221  4.0446221  4.5446221  5.0446221]\n",
      " [-2.9553779 -2.4553779 -1.9553779 -1.4553779 -0.9553779 -0.4553779\n",
      "   0.0446221  0.5446221  1.0446221  1.5446221  2.0446221  2.5446221\n",
      "   3.0446221  3.5446221  4.0446221  4.5446221  5.0446221]\n",
      " [-2.9553779 -2.4553779 -1.9553779 -1.4553779 -0.9553779 -0.4553779\n",
      "   0.0446221  0.5446221  1.0446221  1.5446221  2.0446221  2.5446221\n",
      "   3.0446221  3.5446221  4.0446221  4.5446221  5.0446221]\n",
      " [-2.9553779 -2.4553779 -1.9553779 -1.4553779 -0.9553779 -0.4553779\n",
      "   0.0446221  0.5446221  1.0446221  1.5446221  2.0446221  2.5446221\n",
      "   3.0446221  3.5446221  4.0446221  4.5446221  5.0446221]\n",
      " [-2.9553779 -2.4553779 -1.9553779 -1.4553779 -0.9553779 -0.4553779\n",
      "   0.0446221  0.5446221  1.0446221  1.5446221  2.0446221  2.5446221\n",
      "   3.0446221  3.5446221  4.0446221  4.5446221  5.0446221]\n",
      " [-2.9553779 -2.4553779 -1.9553779 -1.4553779 -0.9553779 -0.4553779\n",
      "   0.0446221  0.5446221  1.0446221  1.5446221  2.0446221  2.5446221\n",
      "   3.0446221  3.5446221  4.0446221  4.5446221  5.0446221]\n",
      " [-2.9553779 -2.4553779 -1.9553779 -1.4553779 -0.9553779 -0.4553779\n",
      "   0.0446221  0.5446221  1.0446221  1.5446221  2.0446221  2.5446221\n",
      "   3.0446221  3.5446221  4.0446221  4.5446221  5.0446221]\n",
      " [-2.9553779 -2.4553779 -1.9553779 -1.4553779 -0.9553779 -0.4553779\n",
      "   0.0446221  0.5446221  1.0446221  1.5446221  2.0446221  2.5446221\n",
      "   3.0446221  3.5446221  4.0446221  4.5446221  5.0446221]\n",
      " [-2.9553779 -2.4553779 -1.9553779 -1.4553779 -0.9553779 -0.4553779\n",
      "   0.0446221  0.5446221  1.0446221  1.5446221  2.0446221  2.5446221\n",
      "   3.0446221  3.5446221  4.0446221  4.5446221  5.0446221]\n",
      " [-2.9553779 -2.4553779 -1.9553779 -1.4553779 -0.9553779 -0.4553779\n",
      "   0.0446221  0.5446221  1.0446221  1.5446221  2.0446221  2.5446221\n",
      "   3.0446221  3.5446221  4.0446221  4.5446221  5.0446221]\n",
      " [-2.9553779 -2.4553779 -1.9553779 -1.4553779 -0.9553779 -0.4553779\n",
      "   0.0446221  0.5446221  1.0446221  1.5446221  2.0446221  2.5446221\n",
      "   3.0446221  3.5446221  4.0446221  4.5446221  5.0446221]\n",
      " [-2.9553779 -2.4553779 -1.9553779 -1.4553779 -0.9553779 -0.4553779\n",
      "   0.0446221  0.5446221  1.0446221  1.5446221  2.0446221  2.5446221\n",
      "   3.0446221  3.5446221  4.0446221  4.5446221  5.0446221]\n",
      " [-2.9553779 -2.4553779 -1.9553779 -1.4553779 -0.9553779 -0.4553779\n",
      "   0.0446221  0.5446221  1.0446221  1.5446221  2.0446221  2.5446221\n",
      "   3.0446221  3.5446221  4.0446221  4.5446221  5.0446221]\n",
      " [-2.9553779 -2.4553779 -1.9553779 -1.4553779 -0.9553779 -0.4553779\n",
      "   0.0446221  0.5446221  1.0446221  1.5446221  2.0446221  2.5446221\n",
      "   3.0446221  3.5446221  4.0446221  4.5446221  5.0446221]] \n",
      "_________________________________________________\n",
      "\n",
      "yy:  (18, 17) \n",
      " [[-3.5892876 -3.5892876 -3.5892876 -3.5892876 -3.5892876 -3.5892876\n",
      "  -3.5892876 -3.5892876 -3.5892876 -3.5892876 -3.5892876 -3.5892876\n",
      "  -3.5892876 -3.5892876 -3.5892876 -3.5892876 -3.5892876]\n",
      " [-3.0892876 -3.0892876 -3.0892876 -3.0892876 -3.0892876 -3.0892876\n",
      "  -3.0892876 -3.0892876 -3.0892876 -3.0892876 -3.0892876 -3.0892876\n",
      "  -3.0892876 -3.0892876 -3.0892876 -3.0892876 -3.0892876]\n",
      " [-2.5892876 -2.5892876 -2.5892876 -2.5892876 -2.5892876 -2.5892876\n",
      "  -2.5892876 -2.5892876 -2.5892876 -2.5892876 -2.5892876 -2.5892876\n",
      "  -2.5892876 -2.5892876 -2.5892876 -2.5892876 -2.5892876]\n",
      " [-2.0892876 -2.0892876 -2.0892876 -2.0892876 -2.0892876 -2.0892876\n",
      "  -2.0892876 -2.0892876 -2.0892876 -2.0892876 -2.0892876 -2.0892876\n",
      "  -2.0892876 -2.0892876 -2.0892876 -2.0892876 -2.0892876]\n",
      " [-1.5892876 -1.5892876 -1.5892876 -1.5892876 -1.5892876 -1.5892876\n",
      "  -1.5892876 -1.5892876 -1.5892876 -1.5892876 -1.5892876 -1.5892876\n",
      "  -1.5892876 -1.5892876 -1.5892876 -1.5892876 -1.5892876]\n",
      " [-1.0892876 -1.0892876 -1.0892876 -1.0892876 -1.0892876 -1.0892876\n",
      "  -1.0892876 -1.0892876 -1.0892876 -1.0892876 -1.0892876 -1.0892876\n",
      "  -1.0892876 -1.0892876 -1.0892876 -1.0892876 -1.0892876]\n",
      " [-0.5892876 -0.5892876 -0.5892876 -0.5892876 -0.5892876 -0.5892876\n",
      "  -0.5892876 -0.5892876 -0.5892876 -0.5892876 -0.5892876 -0.5892876\n",
      "  -0.5892876 -0.5892876 -0.5892876 -0.5892876 -0.5892876]\n",
      " [-0.0892876 -0.0892876 -0.0892876 -0.0892876 -0.0892876 -0.0892876\n",
      "  -0.0892876 -0.0892876 -0.0892876 -0.0892876 -0.0892876 -0.0892876\n",
      "  -0.0892876 -0.0892876 -0.0892876 -0.0892876 -0.0892876]\n",
      " [ 0.4107124  0.4107124  0.4107124  0.4107124  0.4107124  0.4107124\n",
      "   0.4107124  0.4107124  0.4107124  0.4107124  0.4107124  0.4107124\n",
      "   0.4107124  0.4107124  0.4107124  0.4107124  0.4107124]\n",
      " [ 0.9107124  0.9107124  0.9107124  0.9107124  0.9107124  0.9107124\n",
      "   0.9107124  0.9107124  0.9107124  0.9107124  0.9107124  0.9107124\n",
      "   0.9107124  0.9107124  0.9107124  0.9107124  0.9107124]\n",
      " [ 1.4107124  1.4107124  1.4107124  1.4107124  1.4107124  1.4107124\n",
      "   1.4107124  1.4107124  1.4107124  1.4107124  1.4107124  1.4107124\n",
      "   1.4107124  1.4107124  1.4107124  1.4107124  1.4107124]\n",
      " [ 1.9107124  1.9107124  1.9107124  1.9107124  1.9107124  1.9107124\n",
      "   1.9107124  1.9107124  1.9107124  1.9107124  1.9107124  1.9107124\n",
      "   1.9107124  1.9107124  1.9107124  1.9107124  1.9107124]\n",
      " [ 2.4107124  2.4107124  2.4107124  2.4107124  2.4107124  2.4107124\n",
      "   2.4107124  2.4107124  2.4107124  2.4107124  2.4107124  2.4107124\n",
      "   2.4107124  2.4107124  2.4107124  2.4107124  2.4107124]\n",
      " [ 2.9107124  2.9107124  2.9107124  2.9107124  2.9107124  2.9107124\n",
      "   2.9107124  2.9107124  2.9107124  2.9107124  2.9107124  2.9107124\n",
      "   2.9107124  2.9107124  2.9107124  2.9107124  2.9107124]\n",
      " [ 3.4107124  3.4107124  3.4107124  3.4107124  3.4107124  3.4107124\n",
      "   3.4107124  3.4107124  3.4107124  3.4107124  3.4107124  3.4107124\n",
      "   3.4107124  3.4107124  3.4107124  3.4107124  3.4107124]\n",
      " [ 3.9107124  3.9107124  3.9107124  3.9107124  3.9107124  3.9107124\n",
      "   3.9107124  3.9107124  3.9107124  3.9107124  3.9107124  3.9107124\n",
      "   3.9107124  3.9107124  3.9107124  3.9107124  3.9107124]\n",
      " [ 4.4107124  4.4107124  4.4107124  4.4107124  4.4107124  4.4107124\n",
      "   4.4107124  4.4107124  4.4107124  4.4107124  4.4107124  4.4107124\n",
      "   4.4107124  4.4107124  4.4107124  4.4107124  4.4107124]\n",
      " [ 4.9107124  4.9107124  4.9107124  4.9107124  4.9107124  4.9107124\n",
      "   4.9107124  4.9107124  4.9107124  4.9107124  4.9107124  4.9107124\n",
      "   4.9107124  4.9107124  4.9107124  4.9107124  4.9107124]] \n",
      "_________________________________________________\n",
      "\n",
      "ravel xx:  (306,) \n",
      " [-2.9553779 -2.4553779 -1.9553779 -1.4553779 -0.9553779 -0.4553779\n",
      "  0.0446221  0.5446221  1.0446221  1.5446221  2.0446221  2.5446221\n",
      "  3.0446221  3.5446221  4.0446221  4.5446221  5.0446221 -2.9553779\n",
      " -2.4553779 -1.9553779 -1.4553779 -0.9553779 -0.4553779  0.0446221\n",
      "  0.5446221  1.0446221  1.5446221  2.0446221  2.5446221  3.0446221\n",
      "  3.5446221  4.0446221  4.5446221  5.0446221 -2.9553779 -2.4553779\n",
      " -1.9553779 -1.4553779 -0.9553779 -0.4553779  0.0446221  0.5446221\n",
      "  1.0446221  1.5446221  2.0446221  2.5446221  3.0446221  3.5446221\n",
      "  4.0446221  4.5446221  5.0446221 -2.9553779 -2.4553779 -1.9553779\n",
      " -1.4553779 -0.9553779 -0.4553779  0.0446221  0.5446221  1.0446221\n",
      "  1.5446221  2.0446221  2.5446221  3.0446221  3.5446221  4.0446221\n",
      "  4.5446221  5.0446221 -2.9553779 -2.4553779 -1.9553779 -1.4553779\n",
      " -0.9553779 -0.4553779  0.0446221  0.5446221  1.0446221  1.5446221\n",
      "  2.0446221  2.5446221  3.0446221  3.5446221  4.0446221  4.5446221\n",
      "  5.0446221 -2.9553779 -2.4553779 -1.9553779 -1.4553779 -0.9553779\n",
      " -0.4553779  0.0446221  0.5446221  1.0446221  1.5446221  2.0446221\n",
      "  2.5446221  3.0446221  3.5446221  4.0446221  4.5446221  5.0446221\n",
      " -2.9553779 -2.4553779 -1.9553779 -1.4553779 -0.9553779 -0.4553779\n",
      "  0.0446221  0.5446221  1.0446221  1.5446221  2.0446221  2.5446221\n",
      "  3.0446221  3.5446221  4.0446221  4.5446221  5.0446221 -2.9553779\n",
      " -2.4553779 -1.9553779 -1.4553779 -0.9553779 -0.4553779  0.0446221\n",
      "  0.5446221  1.0446221  1.5446221  2.0446221  2.5446221  3.0446221\n",
      "  3.5446221  4.0446221  4.5446221  5.0446221 -2.9553779 -2.4553779\n",
      " -1.9553779 -1.4553779 -0.9553779 -0.4553779  0.0446221  0.5446221\n",
      "  1.0446221  1.5446221  2.0446221  2.5446221  3.0446221  3.5446221\n",
      "  4.0446221  4.5446221  5.0446221 -2.9553779 -2.4553779 -1.9553779\n",
      " -1.4553779 -0.9553779 -0.4553779  0.0446221  0.5446221  1.0446221\n",
      "  1.5446221  2.0446221  2.5446221  3.0446221  3.5446221  4.0446221\n",
      "  4.5446221  5.0446221 -2.9553779 -2.4553779 -1.9553779 -1.4553779\n",
      " -0.9553779 -0.4553779  0.0446221  0.5446221  1.0446221  1.5446221\n",
      "  2.0446221  2.5446221  3.0446221  3.5446221  4.0446221  4.5446221\n",
      "  5.0446221 -2.9553779 -2.4553779 -1.9553779 -1.4553779 -0.9553779\n",
      " -0.4553779  0.0446221  0.5446221  1.0446221  1.5446221  2.0446221\n",
      "  2.5446221  3.0446221  3.5446221  4.0446221  4.5446221  5.0446221\n",
      " -2.9553779 -2.4553779 -1.9553779 -1.4553779 -0.9553779 -0.4553779\n",
      "  0.0446221  0.5446221  1.0446221  1.5446221  2.0446221  2.5446221\n",
      "  3.0446221  3.5446221  4.0446221  4.5446221  5.0446221 -2.9553779\n",
      " -2.4553779 -1.9553779 -1.4553779 -0.9553779 -0.4553779  0.0446221\n",
      "  0.5446221  1.0446221  1.5446221  2.0446221  2.5446221  3.0446221\n",
      "  3.5446221  4.0446221  4.5446221  5.0446221 -2.9553779 -2.4553779\n",
      " -1.9553779 -1.4553779 -0.9553779 -0.4553779  0.0446221  0.5446221\n",
      "  1.0446221  1.5446221  2.0446221  2.5446221  3.0446221  3.5446221\n",
      "  4.0446221  4.5446221  5.0446221 -2.9553779 -2.4553779 -1.9553779\n",
      " -1.4553779 -0.9553779 -0.4553779  0.0446221  0.5446221  1.0446221\n",
      "  1.5446221  2.0446221  2.5446221  3.0446221  3.5446221  4.0446221\n",
      "  4.5446221  5.0446221 -2.9553779 -2.4553779 -1.9553779 -1.4553779\n",
      " -0.9553779 -0.4553779  0.0446221  0.5446221  1.0446221  1.5446221\n",
      "  2.0446221  2.5446221  3.0446221  3.5446221  4.0446221  4.5446221\n",
      "  5.0446221 -2.9553779 -2.4553779 -1.9553779 -1.4553779 -0.9553779\n",
      " -0.4553779  0.0446221  0.5446221  1.0446221  1.5446221  2.0446221\n",
      "  2.5446221  3.0446221  3.5446221  4.0446221  4.5446221  5.0446221] \n",
      "_________________________________________________\n",
      "\n",
      "ravel yy:  (306,) \n",
      " [-3.5892876 -3.5892876 -3.5892876 -3.5892876 -3.5892876 -3.5892876\n",
      " -3.5892876 -3.5892876 -3.5892876 -3.5892876 -3.5892876 -3.5892876\n",
      " -3.5892876 -3.5892876 -3.5892876 -3.5892876 -3.5892876 -3.0892876\n",
      " -3.0892876 -3.0892876 -3.0892876 -3.0892876 -3.0892876 -3.0892876\n",
      " -3.0892876 -3.0892876 -3.0892876 -3.0892876 -3.0892876 -3.0892876\n",
      " -3.0892876 -3.0892876 -3.0892876 -3.0892876 -2.5892876 -2.5892876\n",
      " -2.5892876 -2.5892876 -2.5892876 -2.5892876 -2.5892876 -2.5892876\n",
      " -2.5892876 -2.5892876 -2.5892876 -2.5892876 -2.5892876 -2.5892876\n",
      " -2.5892876 -2.5892876 -2.5892876 -2.0892876 -2.0892876 -2.0892876\n",
      " -2.0892876 -2.0892876 -2.0892876 -2.0892876 -2.0892876 -2.0892876\n",
      " -2.0892876 -2.0892876 -2.0892876 -2.0892876 -2.0892876 -2.0892876\n",
      " -2.0892876 -2.0892876 -1.5892876 -1.5892876 -1.5892876 -1.5892876\n",
      " -1.5892876 -1.5892876 -1.5892876 -1.5892876 -1.5892876 -1.5892876\n",
      " -1.5892876 -1.5892876 -1.5892876 -1.5892876 -1.5892876 -1.5892876\n",
      " -1.5892876 -1.0892876 -1.0892876 -1.0892876 -1.0892876 -1.0892876\n",
      " -1.0892876 -1.0892876 -1.0892876 -1.0892876 -1.0892876 -1.0892876\n",
      " -1.0892876 -1.0892876 -1.0892876 -1.0892876 -1.0892876 -1.0892876\n",
      " -0.5892876 -0.5892876 -0.5892876 -0.5892876 -0.5892876 -0.5892876\n",
      " -0.5892876 -0.5892876 -0.5892876 -0.5892876 -0.5892876 -0.5892876\n",
      " -0.5892876 -0.5892876 -0.5892876 -0.5892876 -0.5892876 -0.0892876\n",
      " -0.0892876 -0.0892876 -0.0892876 -0.0892876 -0.0892876 -0.0892876\n",
      " -0.0892876 -0.0892876 -0.0892876 -0.0892876 -0.0892876 -0.0892876\n",
      " -0.0892876 -0.0892876 -0.0892876 -0.0892876  0.4107124  0.4107124\n",
      "  0.4107124  0.4107124  0.4107124  0.4107124  0.4107124  0.4107124\n",
      "  0.4107124  0.4107124  0.4107124  0.4107124  0.4107124  0.4107124\n",
      "  0.4107124  0.4107124  0.4107124  0.9107124  0.9107124  0.9107124\n",
      "  0.9107124  0.9107124  0.9107124  0.9107124  0.9107124  0.9107124\n",
      "  0.9107124  0.9107124  0.9107124  0.9107124  0.9107124  0.9107124\n",
      "  0.9107124  0.9107124  1.4107124  1.4107124  1.4107124  1.4107124\n",
      "  1.4107124  1.4107124  1.4107124  1.4107124  1.4107124  1.4107124\n",
      "  1.4107124  1.4107124  1.4107124  1.4107124  1.4107124  1.4107124\n",
      "  1.4107124  1.9107124  1.9107124  1.9107124  1.9107124  1.9107124\n",
      "  1.9107124  1.9107124  1.9107124  1.9107124  1.9107124  1.9107124\n",
      "  1.9107124  1.9107124  1.9107124  1.9107124  1.9107124  1.9107124\n",
      "  2.4107124  2.4107124  2.4107124  2.4107124  2.4107124  2.4107124\n",
      "  2.4107124  2.4107124  2.4107124  2.4107124  2.4107124  2.4107124\n",
      "  2.4107124  2.4107124  2.4107124  2.4107124  2.4107124  2.9107124\n",
      "  2.9107124  2.9107124  2.9107124  2.9107124  2.9107124  2.9107124\n",
      "  2.9107124  2.9107124  2.9107124  2.9107124  2.9107124  2.9107124\n",
      "  2.9107124  2.9107124  2.9107124  2.9107124  3.4107124  3.4107124\n",
      "  3.4107124  3.4107124  3.4107124  3.4107124  3.4107124  3.4107124\n",
      "  3.4107124  3.4107124  3.4107124  3.4107124  3.4107124  3.4107124\n",
      "  3.4107124  3.4107124  3.4107124  3.9107124  3.9107124  3.9107124\n",
      "  3.9107124  3.9107124  3.9107124  3.9107124  3.9107124  3.9107124\n",
      "  3.9107124  3.9107124  3.9107124  3.9107124  3.9107124  3.9107124\n",
      "  3.9107124  3.9107124  4.4107124  4.4107124  4.4107124  4.4107124\n",
      "  4.4107124  4.4107124  4.4107124  4.4107124  4.4107124  4.4107124\n",
      "  4.4107124  4.4107124  4.4107124  4.4107124  4.4107124  4.4107124\n",
      "  4.4107124  4.9107124  4.9107124  4.9107124  4.9107124  4.9107124\n",
      "  4.9107124  4.9107124  4.9107124  4.9107124  4.9107124  4.9107124\n",
      "  4.9107124  4.9107124  4.9107124  4.9107124  4.9107124  4.9107124] \n",
      "_________________________________________________\n",
      "\n",
      "np.c_:  (306, 2) \n",
      " [[-2.9553779 -3.5892876]\n",
      " [-2.4553779 -3.5892876]\n",
      " [-1.9553779 -3.5892876]\n",
      " [-1.4553779 -3.5892876]\n",
      " [-0.9553779 -3.5892876]\n",
      " [-0.4553779 -3.5892876]\n",
      " [ 0.0446221 -3.5892876]\n",
      " [ 0.5446221 -3.5892876]\n",
      " [ 1.0446221 -3.5892876]\n",
      " [ 1.5446221 -3.5892876]\n",
      " [ 2.0446221 -3.5892876]\n",
      " [ 2.5446221 -3.5892876]\n",
      " [ 3.0446221 -3.5892876]\n",
      " [ 3.5446221 -3.5892876]\n",
      " [ 4.0446221 -3.5892876]\n",
      " [ 4.5446221 -3.5892876]\n",
      " [ 5.0446221 -3.5892876]\n",
      " [-2.9553779 -3.0892876]\n",
      " [-2.4553779 -3.0892876]\n",
      " [-1.9553779 -3.0892876]\n",
      " [-1.4553779 -3.0892876]\n",
      " [-0.9553779 -3.0892876]\n",
      " [-0.4553779 -3.0892876]\n",
      " [ 0.0446221 -3.0892876]\n",
      " [ 0.5446221 -3.0892876]\n",
      " [ 1.0446221 -3.0892876]\n",
      " [ 1.5446221 -3.0892876]\n",
      " [ 2.0446221 -3.0892876]\n",
      " [ 2.5446221 -3.0892876]\n",
      " [ 3.0446221 -3.0892876]\n",
      " [ 3.5446221 -3.0892876]\n",
      " [ 4.0446221 -3.0892876]\n",
      " [ 4.5446221 -3.0892876]\n",
      " [ 5.0446221 -3.0892876]\n",
      " [-2.9553779 -2.5892876]\n",
      " [-2.4553779 -2.5892876]\n",
      " [-1.9553779 -2.5892876]\n",
      " [-1.4553779 -2.5892876]\n",
      " [-0.9553779 -2.5892876]\n",
      " [-0.4553779 -2.5892876]\n",
      " [ 0.0446221 -2.5892876]\n",
      " [ 0.5446221 -2.5892876]\n",
      " [ 1.0446221 -2.5892876]\n",
      " [ 1.5446221 -2.5892876]\n",
      " [ 2.0446221 -2.5892876]\n",
      " [ 2.5446221 -2.5892876]\n",
      " [ 3.0446221 -2.5892876]\n",
      " [ 3.5446221 -2.5892876]\n",
      " [ 4.0446221 -2.5892876]\n",
      " [ 4.5446221 -2.5892876]\n",
      " [ 5.0446221 -2.5892876]\n",
      " [-2.9553779 -2.0892876]\n",
      " [-2.4553779 -2.0892876]\n",
      " [-1.9553779 -2.0892876]\n",
      " [-1.4553779 -2.0892876]\n",
      " [-0.9553779 -2.0892876]\n",
      " [-0.4553779 -2.0892876]\n",
      " [ 0.0446221 -2.0892876]\n",
      " [ 0.5446221 -2.0892876]\n",
      " [ 1.0446221 -2.0892876]\n",
      " [ 1.5446221 -2.0892876]\n",
      " [ 2.0446221 -2.0892876]\n",
      " [ 2.5446221 -2.0892876]\n",
      " [ 3.0446221 -2.0892876]\n",
      " [ 3.5446221 -2.0892876]\n",
      " [ 4.0446221 -2.0892876]\n",
      " [ 4.5446221 -2.0892876]\n",
      " [ 5.0446221 -2.0892876]\n",
      " [-2.9553779 -1.5892876]\n",
      " [-2.4553779 -1.5892876]\n",
      " [-1.9553779 -1.5892876]\n",
      " [-1.4553779 -1.5892876]\n",
      " [-0.9553779 -1.5892876]\n",
      " [-0.4553779 -1.5892876]\n",
      " [ 0.0446221 -1.5892876]\n",
      " [ 0.5446221 -1.5892876]\n",
      " [ 1.0446221 -1.5892876]\n",
      " [ 1.5446221 -1.5892876]\n",
      " [ 2.0446221 -1.5892876]\n",
      " [ 2.5446221 -1.5892876]\n",
      " [ 3.0446221 -1.5892876]\n",
      " [ 3.5446221 -1.5892876]\n",
      " [ 4.0446221 -1.5892876]\n",
      " [ 4.5446221 -1.5892876]\n",
      " [ 5.0446221 -1.5892876]\n",
      " [-2.9553779 -1.0892876]\n",
      " [-2.4553779 -1.0892876]\n",
      " [-1.9553779 -1.0892876]\n",
      " [-1.4553779 -1.0892876]\n",
      " [-0.9553779 -1.0892876]\n",
      " [-0.4553779 -1.0892876]\n",
      " [ 0.0446221 -1.0892876]\n",
      " [ 0.5446221 -1.0892876]\n",
      " [ 1.0446221 -1.0892876]\n",
      " [ 1.5446221 -1.0892876]\n",
      " [ 2.0446221 -1.0892876]\n",
      " [ 2.5446221 -1.0892876]\n",
      " [ 3.0446221 -1.0892876]\n",
      " [ 3.5446221 -1.0892876]\n",
      " [ 4.0446221 -1.0892876]\n",
      " [ 4.5446221 -1.0892876]\n",
      " [ 5.0446221 -1.0892876]\n",
      " [-2.9553779 -0.5892876]\n",
      " [-2.4553779 -0.5892876]\n",
      " [-1.9553779 -0.5892876]\n",
      " [-1.4553779 -0.5892876]\n",
      " [-0.9553779 -0.5892876]\n",
      " [-0.4553779 -0.5892876]\n",
      " [ 0.0446221 -0.5892876]\n",
      " [ 0.5446221 -0.5892876]\n",
      " [ 1.0446221 -0.5892876]\n",
      " [ 1.5446221 -0.5892876]\n",
      " [ 2.0446221 -0.5892876]\n",
      " [ 2.5446221 -0.5892876]\n",
      " [ 3.0446221 -0.5892876]\n",
      " [ 3.5446221 -0.5892876]\n",
      " [ 4.0446221 -0.5892876]\n",
      " [ 4.5446221 -0.5892876]\n",
      " [ 5.0446221 -0.5892876]\n",
      " [-2.9553779 -0.0892876]\n",
      " [-2.4553779 -0.0892876]\n",
      " [-1.9553779 -0.0892876]\n",
      " [-1.4553779 -0.0892876]\n",
      " [-0.9553779 -0.0892876]\n",
      " [-0.4553779 -0.0892876]\n",
      " [ 0.0446221 -0.0892876]\n",
      " [ 0.5446221 -0.0892876]\n",
      " [ 1.0446221 -0.0892876]\n",
      " [ 1.5446221 -0.0892876]\n",
      " [ 2.0446221 -0.0892876]\n",
      " [ 2.5446221 -0.0892876]\n",
      " [ 3.0446221 -0.0892876]\n",
      " [ 3.5446221 -0.0892876]\n",
      " [ 4.0446221 -0.0892876]\n",
      " [ 4.5446221 -0.0892876]\n",
      " [ 5.0446221 -0.0892876]\n",
      " [-2.9553779  0.4107124]\n",
      " [-2.4553779  0.4107124]\n",
      " [-1.9553779  0.4107124]\n",
      " [-1.4553779  0.4107124]\n",
      " [-0.9553779  0.4107124]\n",
      " [-0.4553779  0.4107124]\n",
      " [ 0.0446221  0.4107124]\n",
      " [ 0.5446221  0.4107124]\n",
      " [ 1.0446221  0.4107124]\n",
      " [ 1.5446221  0.4107124]\n",
      " [ 2.0446221  0.4107124]\n",
      " [ 2.5446221  0.4107124]\n",
      " [ 3.0446221  0.4107124]\n",
      " [ 3.5446221  0.4107124]\n",
      " [ 4.0446221  0.4107124]\n",
      " [ 4.5446221  0.4107124]\n",
      " [ 5.0446221  0.4107124]\n",
      " [-2.9553779  0.9107124]\n",
      " [-2.4553779  0.9107124]\n",
      " [-1.9553779  0.9107124]\n",
      " [-1.4553779  0.9107124]\n",
      " [-0.9553779  0.9107124]\n",
      " [-0.4553779  0.9107124]\n",
      " [ 0.0446221  0.9107124]\n",
      " [ 0.5446221  0.9107124]\n",
      " [ 1.0446221  0.9107124]\n",
      " [ 1.5446221  0.9107124]\n",
      " [ 2.0446221  0.9107124]\n",
      " [ 2.5446221  0.9107124]\n",
      " [ 3.0446221  0.9107124]\n",
      " [ 3.5446221  0.9107124]\n",
      " [ 4.0446221  0.9107124]\n",
      " [ 4.5446221  0.9107124]\n",
      " [ 5.0446221  0.9107124]\n",
      " [-2.9553779  1.4107124]\n",
      " [-2.4553779  1.4107124]\n",
      " [-1.9553779  1.4107124]\n",
      " [-1.4553779  1.4107124]\n",
      " [-0.9553779  1.4107124]\n",
      " [-0.4553779  1.4107124]\n",
      " [ 0.0446221  1.4107124]\n",
      " [ 0.5446221  1.4107124]\n",
      " [ 1.0446221  1.4107124]\n",
      " [ 1.5446221  1.4107124]\n",
      " [ 2.0446221  1.4107124]\n",
      " [ 2.5446221  1.4107124]\n",
      " [ 3.0446221  1.4107124]\n",
      " [ 3.5446221  1.4107124]\n",
      " [ 4.0446221  1.4107124]\n",
      " [ 4.5446221  1.4107124]\n",
      " [ 5.0446221  1.4107124]\n",
      " [-2.9553779  1.9107124]\n",
      " [-2.4553779  1.9107124]\n",
      " [-1.9553779  1.9107124]\n",
      " [-1.4553779  1.9107124]\n",
      " [-0.9553779  1.9107124]\n",
      " [-0.4553779  1.9107124]\n",
      " [ 0.0446221  1.9107124]\n",
      " [ 0.5446221  1.9107124]\n",
      " [ 1.0446221  1.9107124]\n",
      " [ 1.5446221  1.9107124]\n",
      " [ 2.0446221  1.9107124]\n",
      " [ 2.5446221  1.9107124]\n",
      " [ 3.0446221  1.9107124]\n",
      " [ 3.5446221  1.9107124]\n",
      " [ 4.0446221  1.9107124]\n",
      " [ 4.5446221  1.9107124]\n",
      " [ 5.0446221  1.9107124]\n",
      " [-2.9553779  2.4107124]\n",
      " [-2.4553779  2.4107124]\n",
      " [-1.9553779  2.4107124]\n",
      " [-1.4553779  2.4107124]\n",
      " [-0.9553779  2.4107124]\n",
      " [-0.4553779  2.4107124]\n",
      " [ 0.0446221  2.4107124]\n",
      " [ 0.5446221  2.4107124]\n",
      " [ 1.0446221  2.4107124]\n",
      " [ 1.5446221  2.4107124]\n",
      " [ 2.0446221  2.4107124]\n",
      " [ 2.5446221  2.4107124]\n",
      " [ 3.0446221  2.4107124]\n",
      " [ 3.5446221  2.4107124]\n",
      " [ 4.0446221  2.4107124]\n",
      " [ 4.5446221  2.4107124]\n",
      " [ 5.0446221  2.4107124]\n",
      " [-2.9553779  2.9107124]\n",
      " [-2.4553779  2.9107124]\n",
      " [-1.9553779  2.9107124]\n",
      " [-1.4553779  2.9107124]\n",
      " [-0.9553779  2.9107124]\n",
      " [-0.4553779  2.9107124]\n",
      " [ 0.0446221  2.9107124]\n",
      " [ 0.5446221  2.9107124]\n",
      " [ 1.0446221  2.9107124]\n",
      " [ 1.5446221  2.9107124]\n",
      " [ 2.0446221  2.9107124]\n",
      " [ 2.5446221  2.9107124]\n",
      " [ 3.0446221  2.9107124]\n",
      " [ 3.5446221  2.9107124]\n",
      " [ 4.0446221  2.9107124]\n",
      " [ 4.5446221  2.9107124]\n",
      " [ 5.0446221  2.9107124]\n",
      " [-2.9553779  3.4107124]\n",
      " [-2.4553779  3.4107124]\n",
      " [-1.9553779  3.4107124]\n",
      " [-1.4553779  3.4107124]\n",
      " [-0.9553779  3.4107124]\n",
      " [-0.4553779  3.4107124]\n",
      " [ 0.0446221  3.4107124]\n",
      " [ 0.5446221  3.4107124]\n",
      " [ 1.0446221  3.4107124]\n",
      " [ 1.5446221  3.4107124]\n",
      " [ 2.0446221  3.4107124]\n",
      " [ 2.5446221  3.4107124]\n",
      " [ 3.0446221  3.4107124]\n",
      " [ 3.5446221  3.4107124]\n",
      " [ 4.0446221  3.4107124]\n",
      " [ 4.5446221  3.4107124]\n",
      " [ 5.0446221  3.4107124]\n",
      " [-2.9553779  3.9107124]\n",
      " [-2.4553779  3.9107124]\n",
      " [-1.9553779  3.9107124]\n",
      " [-1.4553779  3.9107124]\n",
      " [-0.9553779  3.9107124]\n",
      " [-0.4553779  3.9107124]\n",
      " [ 0.0446221  3.9107124]\n",
      " [ 0.5446221  3.9107124]\n",
      " [ 1.0446221  3.9107124]\n",
      " [ 1.5446221  3.9107124]\n",
      " [ 2.0446221  3.9107124]\n",
      " [ 2.5446221  3.9107124]\n",
      " [ 3.0446221  3.9107124]\n",
      " [ 3.5446221  3.9107124]\n",
      " [ 4.0446221  3.9107124]\n",
      " [ 4.5446221  3.9107124]\n",
      " [ 5.0446221  3.9107124]\n",
      " [-2.9553779  4.4107124]\n",
      " [-2.4553779  4.4107124]\n",
      " [-1.9553779  4.4107124]\n",
      " [-1.4553779  4.4107124]\n",
      " [-0.9553779  4.4107124]\n",
      " [-0.4553779  4.4107124]\n",
      " [ 0.0446221  4.4107124]\n",
      " [ 0.5446221  4.4107124]\n",
      " [ 1.0446221  4.4107124]\n",
      " [ 1.5446221  4.4107124]\n",
      " [ 2.0446221  4.4107124]\n",
      " [ 2.5446221  4.4107124]\n",
      " [ 3.0446221  4.4107124]\n",
      " [ 3.5446221  4.4107124]\n",
      " [ 4.0446221  4.4107124]\n",
      " [ 4.5446221  4.4107124]\n",
      " [ 5.0446221  4.4107124]\n",
      " [-2.9553779  4.9107124]\n",
      " [-2.4553779  4.9107124]\n",
      " [-1.9553779  4.9107124]\n",
      " [-1.4553779  4.9107124]\n",
      " [-0.9553779  4.9107124]\n",
      " [-0.4553779  4.9107124]\n",
      " [ 0.0446221  4.9107124]\n",
      " [ 0.5446221  4.9107124]\n",
      " [ 1.0446221  4.9107124]\n",
      " [ 1.5446221  4.9107124]\n",
      " [ 2.0446221  4.9107124]\n",
      " [ 2.5446221  4.9107124]\n",
      " [ 3.0446221  4.9107124]\n",
      " [ 3.5446221  4.9107124]\n",
      " [ 4.0446221  4.9107124]\n",
      " [ 4.5446221  4.9107124]\n",
      " [ 5.0446221  4.9107124]] \n",
      "_________________________________________________\n",
      "\n"
     ]
    }
   ],
   "source": [
    "#Целиком мы sklearn не импортируем, тк он оч большой\n",
    "from sklearn.tree import DecisionTreeClassifier\n",
    "\n",
    "# Напишем вспомогательную функцию, которая будет возвращать решетку для дальнейшей визуализации.\n",
    "def get_grid(data):\n",
    "    x_min, x_max = data[:, 0].min() - 1, data[:, 0].max() + 1   \n",
    "    y_min, y_max = data[:, 1].min() - 1, data[:, 1].max() + 1   \n",
    "    return np.meshgrid(np.arange(x_min, x_max, 0.5), np.arange(y_min, y_max, 0.5))\n",
    "\n",
    "# параметр min_samples_leaf указывает, при каком минимальном количестве\n",
    "# элементов в узле он будет дальше разделяться\n",
    "clf_tree = DecisionTreeClassifier(criterion='entropy', max_depth=3, random_state=17)\n",
    "\n",
    "# обучаем дерево\n",
    "clf_tree.fit(train_data, train_labels)\n",
    "\n",
    "# немного кода для отображения разделяющей поверхности\n",
    "xx, yy = get_grid(train_data)\n",
    "print('xx: ', xx.shape, '\\n',xx, '\\n_________________________________________________\\n')\n",
    "print('yy: ', yy.shape, '\\n',yy, '\\n_________________________________________________\\n')\n",
    "print('ravel xx: ',xx.ravel().shape ,'\\n',xx.ravel(), '\\n_________________________________________________\\n')\n",
    "print('ravel yy: ',yy.ravel().shape ,'\\n',yy.ravel(), '\\n_________________________________________________\\n')\n",
    "print('np.c_: ', np.c_[xx.ravel(), yy.ravel()].shape ,'\\n', np.c_[xx.ravel(), yy.ravel()] , '\\n_________________________________________________\\n')\n"
   ]
  },
  {
   "cell_type": "markdown",
   "metadata": {},
   "source": [
    "`predicted = clf_tree.predict(np.c_[xx.ravel(), yy.ravel()]).reshape(xx.shape)`   \n",
    "- `predict` - делает предсказание для матрицы вида $(n, 2)$, где [:, 0] - значение точки по X, [:, 1] -  значения точки по Y. Возвращает матрицу вида $(n, 1)$ - где предссказания для каждой точки  \n",
    "- `.reshape(xx.shape)` - возвращает полученой матрице вид такой же как и xx   \n",
    "- *predicted* - матрица с 0 и 1, по ней будем красить плоскость предсказанием  "
   ]
  },
  {
   "cell_type": "code",
   "execution_count": 47,
   "metadata": {
    "ExecuteTime": {
     "end_time": "2019-03-08T04:57:54.539592Z",
     "start_time": "2019-03-08T04:57:54.267726Z"
    }
   },
   "outputs": [
    {
     "name": "stdout",
     "output_type": "stream",
     "text": [
      "[0. 0. 0. ... 1. 1. 1.]\n",
      "(872331,) \n",
      "\n",
      "\n",
      "[[0. 0. 0. ... 1. 1. 1.]\n",
      " [0. 0. 0. ... 1. 1. 1.]\n",
      " [0. 0. 0. ... 1. 1. 1.]\n",
      " ...\n",
      " [0. 0. 0. ... 1. 1. 1.]\n",
      " [0. 0. 0. ... 1. 1. 1.]\n",
      " [0. 0. 0. ... 1. 1. 1.]]\n",
      "(929, 939)\n"
     ]
    }
   ],
   "source": [
    "print(clf_tree.predict(np.c_[xx.ravel(), yy.ravel()]))\n",
    "print(clf_tree.predict(np.c_[xx.ravel(), yy.ravel()]).shape, '\\n\\n')\n",
    "print(clf_tree.predict(np.c_[xx.ravel(), yy.ravel()]).reshape(xx.shape))\n",
    "print(clf_tree.predict(np.c_[xx.ravel(), yy.ravel()]).reshape(xx.shape).shape)"
   ]
  },
  {
   "cell_type": "code",
   "execution_count": 30,
   "metadata": {
    "ExecuteTime": {
     "end_time": "2019-03-08T04:17:26.732673Z",
     "start_time": "2019-03-08T04:17:25.638319Z"
    }
   },
   "outputs": [
    {
     "data": {
      "text/plain": [
       "<matplotlib.collections.QuadMesh at 0x187c6c26c18>"
      ]
     },
     "execution_count": 30,
     "metadata": {},
     "output_type": "execute_result"
    },
    {
     "data": {
      "image/png": "[encoded data removed]",
      "text/plain": [
       "<Figure size 504x360 with 1 Axes>"
      ]
     },
     "metadata": {
      "needs_background": "light"
     },
     "output_type": "display_data"
    }
   ],
   "source": [
    "plt.pcolormesh(xx, yy, predicted,  cmap='autumn')     "
   ]
  },
  {
   "cell_type": "markdown",
   "metadata": {},
   "source": [
    "`plt.pcolor([X, Y,] C, **kwargs)`   \n",
    "- $C$ - A scalar 2-D array. The values will be color-mapped.\n",
    "- $[X, Y,]$ - The coordinates of the quadrilateral (четырехсторонний) corners. The quadrilateral for C[i,j] has corners at:\n",
    "- $^{**}kwargs$ - other display options"
   ]
  },
  {
   "cell_type": "code",
   "execution_count": 5,
   "metadata": {
    "ExecuteTime": {
     "end_time": "2019-09-25T01:51:16.642264Z",
     "start_time": "2019-09-25T01:51:16.574260Z"
    }
   },
   "outputs": [
    {
     "name": "stderr",
     "output_type": "stream",
     "text": [
      "'dot' is not recognized as an internal or external command,\n",
      "operable program or batch file.\n"
     ]
    }
   ],
   "source": [
    "from sklearn.tree import export_graphviz\n",
    "export_graphviz(clf_tree, feature_names=['x1', 'x2'], \n",
    "out_file= r'..\\small_tree.dot', filled=True)\n",
    "# для этого понадобится библиотека pydot (pip install pydot)\n",
    "!dot -Tpng '..\\small_tree.dot' -o '..\\small_tree.png'"
   ]
  },
  {
   "cell_type": "markdown",
   "metadata": {},
   "source": [
    "В чем тут проблема хз. Скорее всего из за пробелов в имени vlad is love   \n",
    "Вывести должно было это:  \n",
    "![Tree](https://hsto.org/files/bf1/1fe/490/bf11fe49088f428996a27b0d2d2a6592.png)"
   ]
  },
  {
   "cell_type": "markdown",
   "metadata": {
    "heading_collapsed": true
   },
   "source": [
    "#### Вывод\n",
    "См. подробнее в части \"Как дерево решений работает с количественными признаками\".\n",
    "\n",
    "*Количественный признак сортируется по возрастанию, и в дереве проверяются только те пороги, при которых целевой признак меняет значение (например, с 0 на 1)*.   \n",
    "\n",
    "\"Когда в данных много количественных признаков, и у каждого много уникальных значений, могут отбираться не все пороги, описанные выше, а только топ-N, дающих максимальный прирост все критерия отбора. *То есть, по сути, для каждого порога строится дерево глубины 1, считается насколько снизилась энтропия (или неопределенность Джини) и выбираются только лучшие пороги, с которыми стоит сравнивать количественный признак.*\""
   ]
  },
  {
   "cell_type": "markdown",
   "metadata": {
    "hidden": true
   },
   "source": [
    "Пример вызова для нескольких признаков: возраст и зарплата. Целевой признак: кредит (подробнее в лекции)      \n",
    "```\n",
    "age_sal_tree = DecisionTreeClassifier(random_state=17)\n",
    "age_sal_tree.fit(data2[['Возраст', 'Зарплата']].values, data2['Невозврат кредита'].values);\n",
    "``` "
   ]
  },
  {
   "cell_type": "markdown",
   "metadata": {
    "hidden": true
   },
   "source": [
    "Дерево строят до максимальной глубины только в случаи, если это:   \n",
    "\n",
    "- Случайный лес (композиция многих деревьев) усредняет ответы деревьев, построенных до максимальной глубины (почему стоит делать именно так, разберемся позже)\n",
    "- Стрижка дерева (pruning). При таком подходе дерево сначала строится до максимальной глубины, потом постепенно, снизу вверх, некоторые вершины дерева убираются за счет сравнения по качеству дерева с данным разбиением и без него (сравнение проводится с помощью кросс-валидации, о которой чуть ниже). Подробнее можно почитать в материалах репозитория Евгения Соколова.\n"
   ]
  },
  {
   "cell_type": "markdown",
   "metadata": {},
   "source": [
    "#### Задача регрессии"
   ]
  },
  {
   "cell_type": "markdown",
   "metadata": {},
   "source": [
    "В задаче регрессии(предсказание колличественного признака) дерево строится так же, только в качестве метрики используется дисперсия среднего значения:   \n",
    "\n",
    "$\\large D = \\frac{1}{\\ell} \\sum\\limits_{i =1}^{\\ell} (y_i - \\overline{y_i} )^2$    \n",
    "\n",
    "где $\\overline{y_i} = \\frac{1}{\\ell} \\sum\\limits_{i =1}^{\\ell} y_i$ - среднее значение целевого признака.  \n",
    "\n",
    "Ветвление будет так же происходить с условиями на features и в тех местах, где дисперсия будет меньше.  \n",
    "\n",
    "---"
   ]
  },
  {
   "cell_type": "markdown",
   "metadata": {},
   "source": [
    "Сгенерируем точки по функции $f(x) = e^{-x ^ 2} + 1.5 e^{-(x - 2) ^ 2}$ с некоторым шумом   "
   ]
  },
  {
   "cell_type": "code",
   "execution_count": 2,
   "metadata": {
    "ExecuteTime": {
     "end_time": "2019-09-25T23:18:27.462876Z",
     "start_time": "2019-09-25T23:18:27.354933Z"
    }
   },
   "outputs": [],
   "source": [
    "n_train = 150        \n",
    "n_test = 1000       \n",
    "noise = 0.1\n",
    "\n",
    "#просто задаем функцию, чтобы потом графон по ней построить\n",
    "def f(x):\n",
    "    x = x.ravel()\n",
    "    return np.exp(-x ** 2) + 1.5 * np.exp(-(x - 2) ** 2)\n",
    "\n",
    "#функция генерации train и test cетов\n",
    "def generate(n_samples, noise):\n",
    "    #генерируем x axis и \"выпрямляем\" матрицу\n",
    "    X = np.random.rand(n_samples) * 10 - 5    #так получим рандомные x от -5 до 5\n",
    "    X = np.sort(X).ravel()                    #зачем ее \"выпрямлять\", если она и так в виде (n, 1), и станет (n, 1)?\n",
    "    \n",
    "    #по сгенеренным х стром фунцию и прибавляпем ей шума, сгенеренного норм распределением\n",
    "    y = np.exp(-X ** 2) + 1.5 * np.exp(-(X - 2) ** 2) + \\\n",
    "    np.random.normal(0.0, noise, n_samples)   \n",
    "    X = X.reshape((n_samples, 1))             #и опять зачем \"выпрямляем\"? \n",
    "    return X, y\n",
    "\n",
    "X_train, y_train = generate(n_samples=n_train, noise=noise)\n",
    "X_test, y_test = generate(n_samples=n_test, noise=noise)"
   ]
  },
  {
   "cell_type": "code",
   "execution_count": 3,
   "metadata": {
    "ExecuteTime": {
     "end_time": "2019-09-25T23:21:46.311384Z",
     "start_time": "2019-09-25T23:21:39.494226Z"
    }
   },
   "outputs": [],
   "source": [
    "#регрессируем\n",
    "from sklearn.tree import DecisionTreeRegressor\n",
    "\n",
    "reg_tree = DecisionTreeRegressor(max_depth=5, random_state=17)\n",
    "\n",
    "reg_tree.fit(X_train, y_train)\n",
    "reg_tree_pred = reg_tree.predict(X_test)"
   ]
  },
  {
   "cell_type": "code",
   "execution_count": 6,
   "metadata": {
    "ExecuteTime": {
     "end_time": "2019-09-25T23:22:17.468448Z",
     "start_time": "2019-09-25T23:22:17.291538Z"
    }
   },
   "outputs": [
    {
     "data": {
      "image/png": "[encoded data removed]",
      "text/plain": [
       "<Figure size 720x432 with 1 Axes>"
      ]
     },
     "metadata": {
      "needs_background": "light"
     },
     "output_type": "display_data"
    }
   ],
   "source": [
    "#графоне строим\n",
    "plt.figure(figsize=(10, 6))\n",
    "plt.plot(X_test, f(X_test), \"b\")\n",
    "plt.scatter(X_train, y_train, c=\"b\", s=20)\n",
    "#plt.scatter(X_test, y_test, c=\"r\", s=20)\n",
    "plt.plot(X_test, reg_tree_pred, \"g\", lw=2)   #зеленое - регрессия \n",
    "plt.xlim([-5, 5])\n",
    "plt.title(\"Decision tree regressor, MSE = %.2f\" % np.sum((y_test - reg_tree_pred) ** 2))\n",
    "#mean squared error (MSE) or mean squared deviation (MSD)\n",
    "plt.show()"
   ]
  },
  {
   "cell_type": "code",
   "execution_count": 8,
   "metadata": {
    "ExecuteTime": {
     "end_time": "2019-03-14T00:07:47.760948Z",
     "start_time": "2019-03-14T00:07:47.714741Z"
    }
   },
   "outputs": [],
   "source": [
    "from sklearn.tree import export_graphviz\n",
    "export_graphviz(reg_tree, feature_names=['x'], \n",
    "out_file= r'..\\regres_tree.dot', filled=True)"
   ]
  },
  {
   "cell_type": "markdown",
   "metadata": {},
   "source": [
    "Дерево решений аппроксимирует зависимость в данных кусочно-постоянной функцией. А ветвление идет по принципу: больше/меньше x $\\implies$ прямая y = num "
   ]
  },
  {
   "cell_type": "markdown",
   "metadata": {},
   "source": [
    "## kNN (k Nearest Neighbors)"
   ]
  },
  {
   "cell_type": "markdown",
   "metadata": {},
   "source": [
    "**k Nearest Neighbors (kNN)** - \"ленивый\" метод: т.е. у него отсутствует этап обучения. Когда ставится задача классифицировать (регрессировать) новый объект, то он сравнивается по определенной метрике с обучающей выборкой. Так каждый новый объект сравнивается заново.   \n",
    "Операции выполняемые в kNN:   \n",
    "1. Вычисляется расстояние до каждого из объектов обучающей выборки\n",
    "2. Отобрать $k$ объектов обучающей выборки, расстояние до которых минимально\n",
    "3. Для классификации:\n",
    "    - Класс классифицируемого объекта — это класс, наиболее часто встречающийся среди ближайших соседей\n",
    "   Для регрессии:\n",
    "    - Возвращается среднее (или медианное) значение целевого признака среди соседей.\n",
    "    \n",
    "    \n",
    "*Из классической книги \"The Elements of Statistical Learning\": kNN теоретически идеальный алгоритмом, применимость которого просто ограничена вычислительными возможностями и проклятием размерностей.*\n",
    "\n",
    "---\n",
    "\n",
    "Применение:\n",
    "- В чистом виде kNN может послужить хорошим стартом (baseline) в решении какой-либо задачи;\n",
    "- В соревнованиях Kaggle kNN часто используется для построения мета-признаков (прогноз kNN подается на вход прочим моделям) или в стекинге/блендинге;\n",
    "- В рекомендательных системах простым начальным решением может быть рекомендация какого-то товара (или услуги), популярного среди ближайших соседей человека, которому хотим сделать рекомендацию;"
   ]
  },
  {
   "cell_type": "markdown",
   "metadata": {},
   "source": [
    "### Класс `sklearn.neighbors.KNeighborsClassifier:`"
   ]
  },
  {
   "cell_type": "markdown",
   "metadata": {},
   "source": [
    "`KNeighborsClassifier(n_neighbors=5, weights=’uniform’, algorithm=’auto’, leaf_size=30, p=2, metric=’minkowski’, metric_params=None, n_jobs=None, **kwargs)`\n",
    "\n",
    "- **weights** (соседи тестового примера могут входить с разными весами, например, чем дальше пример, тем с меньшим коэффициентом учитывается его \"голос\"): \"uniform\" (все веса равны), \"distance\" (вес обратно пропорционален расстоянию до тестового примера) или другая определенная пользователем функция  \n",
    "\n",
    "- **algorithm** (опционально): \"brute\", \"ball_tree\", \"KD_tree\", или \"auto\". В первом случае ближайшие соседи для каждого тестового примера считаются перебором обучающей выборки. Во втором и третьем — расстояние между примерами хранятся в дереве, что ускоряет нахождение ближайших соседей. В случае указания параметра \"auto\" подходящий способ нахождения соседей будет выбран автоматически на основе обучающей выборки.   \n",
    "\n",
    "- **leaf_size** (опционально): порог переключения на полный перебор в случае выбора BallTree или KDTree для нахождения соседей  \n",
    "\n",
    "- **metric**: \"minkowski\", \"manhattan\", \"euclidean\", \"chebyshev\" и другие. (При использовании большинства метрик значения признаков надо масштабировать. Условно говоря, чтобы признак \"Зарплата\" с диапазоном значений до 100 тысяч не вносил больший вклад в расстояние, чем \"Возраст\" со значениями до 100)"
   ]
  },
  {
   "cell_type": "markdown",
   "metadata": {},
   "source": [
    "## Пример анализа с kNN и Decision Tree\n",
    "**На примере сета звонков**   \n",
    "$X$ - признаки  \n",
    "$y$ - labels, соответствующие этим признакам  "
   ]
  },
  {
   "cell_type": "code",
   "execution_count": 10,
   "metadata": {
    "ExecuteTime": {
     "end_time": "2019-09-26T00:16:21.768661Z",
     "start_time": "2019-09-26T00:16:21.750670Z"
    }
   },
   "outputs": [],
   "source": [
    "#C:\\Users\\Vlad\\Documents\\2019year\\JupyterStash\\ODS_mlcourse\\github_ODS\\data\n",
    "df = pd.read_csv(r'C:\\Users\\Vlad\\Documents\\2019year\\JupyterStash\\ODS_mlcourse\\github_ODS\\data\\telecom_churn.csv')"
   ]
  },
  {
   "cell_type": "markdown",
   "metadata": {},
   "source": [
    "*Вспомогательный код*  \n",
    "___\n",
    "How to use `pd.factorize`:   \n",
    "- It assigns labels to values in provided array (Series)\n",
    "- Returns: (array of labels, idex(original array)\n",
    "- Label 0 is assigned to 1st value in index array"
   ]
  },
  {
   "cell_type": "code",
   "execution_count": 17,
   "metadata": {},
   "outputs": [
    {
     "name": "stdout",
     "output_type": "stream",
     "text": [
      "0     No\n",
      "1     No\n",
      "2     No\n",
      "3    Yes\n",
      "4    Yes\n",
      "Name: International plan, dtype: object \n",
      "\n",
      "\n",
      "(array([0, 0, 0, ..., 0, 1, 0], dtype=int32), Index(['No', 'Yes'], dtype='object')) \n",
      "\n",
      "\n",
      "Returns label array:  [0 0 0 ... 0 1 0] \n",
      "\n",
      "Returns original array (idex):  Index(['No', 'Yes'], dtype='object')\n"
     ]
    }
   ],
   "source": [
    "print(df['International plan'].head(), '\\n\\n')\n",
    "#pd.factorize\n",
    "print(pd.factorize(df['International plan']), '\\n\\n')\n",
    "print('Returns label array: ', pd.factorize(df['International plan'])[0], '\\n')\n",
    "print('Returns original array (idex): ',pd.factorize(df['International plan'])[1])"
   ]
  },
  {
   "cell_type": "markdown",
   "metadata": {},
   "source": [
    "Т.е. labels = 0 (для No) и 1 (для Yes) (`pd.factorize(df['International plan'])[0]`)"
   ]
  },
  {
   "cell_type": "code",
   "execution_count": 18,
   "metadata": {},
   "outputs": [
    {
     "name": "stdout",
     "output_type": "stream",
     "text": [
      "0    Yes\n",
      "1    Yes\n",
      "2     No\n",
      "dtype: object\n",
      "Label 0 is assigned to 1st value in index array:  (array([0, 0, 1], dtype=int32), Index(['Yes', 'No'], dtype='object'))\n"
     ]
    }
   ],
   "source": [
    "# ff.factorize()\n",
    "ff = pd.Series(['Yes', 'Yes', 'No'])\n",
    "print(ff)\n",
    "print('Label 0 is assigned to 1st value in index array: ',ff.factorize())"
   ]
  },
  {
   "cell_type": "markdown",
   "metadata": {},
   "source": [
    "*конец*\n",
    "\n",
    "---\n",
    "\n",
    "Сначала пробуем обучить без признака *State*. *Churn* - искомый признак"
   ]
  },
  {
   "cell_type": "code",
   "execution_count": 11,
   "metadata": {
    "ExecuteTime": {
     "end_time": "2019-09-26T00:16:28.984584Z",
     "start_time": "2019-09-26T00:16:28.974605Z"
    }
   },
   "outputs": [],
   "source": [
    "df['International plan'] = pd.factorize(df['International plan'])[0]\n",
    "df['Voice mail plan'] = pd.factorize(df['Voice mail plan'])[0]\n",
    "df['Churn'] = df['Churn'].astype('int')\n",
    "states = df['State']\n",
    "y = df['Churn']\n",
    "df.drop(['State', 'Churn'], axis=1, inplace=True)"
   ]
  },
  {
   "cell_type": "markdown",
   "metadata": {},
   "source": [
    "Выделим 70% выборки (`X_train`, `y_train`) под обучение и 30% будут отложенной выборкой (`X_holdout`, `y_holdout`). отложенная выборка никак не будет участвовать в настройке параметров моделей, на ней мы в конце, после этой настройки, оценим качество полученной модели. Обучим 2 модели – дерево решений и kNN, пока не знаем, какие параметры хороши, поэтому наугад: глубину дерева берем 5, число ближайших соседей – 10."
   ]
  },
  {
   "cell_type": "code",
   "execution_count": 13,
   "metadata": {
    "ExecuteTime": {
     "end_time": "2019-09-26T00:24:59.170641Z",
     "start_time": "2019-09-26T00:24:59.135678Z"
    }
   },
   "outputs": [
    {
     "data": {
      "text/plain": [
       "array([[128.  , 415.  ,   0.  , ...,   3.  ,   2.7 ,   1.  ],\n",
       "       [107.  , 415.  ,   0.  , ...,   3.  ,   3.7 ,   1.  ],\n",
       "       [137.  , 415.  ,   0.  , ...,   5.  ,   3.29,   0.  ],\n",
       "       ...,\n",
       "       [ 28.  , 510.  ,   0.  , ...,   6.  ,   3.81,   2.  ],\n",
       "       [184.  , 510.  ,   1.  , ...,  10.  ,   1.35,   2.  ],\n",
       "       [ 74.  , 415.  ,   0.  , ...,   4.  ,   3.7 ,   0.  ]])"
      ]
     },
     "execution_count": 13,
     "metadata": {},
     "output_type": "execute_result"
    }
   ],
   "source": [
    "df.values"
   ]
  },
  {
   "cell_type": "markdown",
   "metadata": {},
   "source": [
    "#### Валидация: отложенная выборка\n",
    "- искусственно ограничиваем глубину и число соседий. Глубину и кол-во соседий беркем наугад"
   ]
  },
  {
   "cell_type": "code",
   "execution_count": 15,
   "metadata": {
    "ExecuteTime": {
     "end_time": "2019-09-26T00:26:13.646037Z",
     "start_time": "2019-09-26T00:26:13.424814Z"
    }
   },
   "outputs": [
    {
     "data": {
      "text/plain": [
       "KNeighborsClassifier(algorithm='auto', leaf_size=30, metric='minkowski',\n",
       "           metric_params=None, n_jobs=None, n_neighbors=10, p=2,\n",
       "           weights='uniform')"
      ]
     },
     "execution_count": 15,
     "metadata": {},
     "output_type": "execute_result"
    }
   ],
   "source": [
    "from sklearn.model_selection import train_test_split, StratifiedKFold\n",
    "from sklearn.neighbors import KNeighborsClassifier\n",
    "from sklearn.tree import DecisionTreeClassifier\n",
    "\n",
    "X_train, X_holdout, y_train, y_holdout = train_test_split(df.values, y, test_size=0.3,\n",
    "random_state=17)\n",
    "\n",
    "tree = DecisionTreeClassifier(max_depth=5, random_state=17)\n",
    "knn = KNeighborsClassifier(n_neighbors=10)\n",
    "\n",
    "tree.fit(X_train, y_train)\n",
    "knn.fit(X_train, y_train)"
   ]
  },
  {
   "cell_type": "markdown",
   "metadata": {},
   "source": [
    "Качество прогнозов будем проверять с помощью простой метрики – доли правильных ответов. Сделаем прогнозы для отложенной выборки. Дерево решений справилось лучше: доля правильных ответов около 94% против 88% у kNN."
   ]
  },
  {
   "cell_type": "code",
   "execution_count": 17,
   "metadata": {
    "ExecuteTime": {
     "end_time": "2019-09-26T00:27:19.481036Z",
     "start_time": "2019-09-26T00:27:19.474025Z"
    }
   },
   "outputs": [
    {
     "data": {
      "text/plain": [
       "0.94"
      ]
     },
     "execution_count": 17,
     "metadata": {},
     "output_type": "execute_result"
    }
   ],
   "source": [
    "from sklearn.metrics import accuracy_score\n",
    "\n",
    "tree_pred = tree.predict(X_holdout)    #Скармливаем основные признакие (тестовые), получаем предсказанный Churn \n",
    "accuracy_score(y_holdout, tree_pred)   #Сравниваем Churn из y_holdout (известное/тестовая выборка) и из предсказания"
   ]
  },
  {
   "cell_type": "code",
   "execution_count": 18,
   "metadata": {
    "ExecuteTime": {
     "end_time": "2019-09-26T00:27:23.604085Z",
     "start_time": "2019-09-26T00:27:23.168311Z"
    }
   },
   "outputs": [
    {
     "data": {
      "text/plain": [
       "0.881"
      ]
     },
     "execution_count": 18,
     "metadata": {},
     "output_type": "execute_result"
    }
   ],
   "source": [
    "knn_pred = knn.predict(X_holdout)\n",
    "accuracy_score(y_holdout, knn_pred)"
   ]
  },
  {
   "cell_type": "markdown",
   "metadata": {},
   "source": [
    "___\n",
    "`GridSearchCV()` - class sklearn.model_selection.GridSearchCV()   \n",
    "Exhaustive search over specified parameter values for an estimator. Т.е. буртфорсом перебирает гипер-параметры и выдвет те, у которых лучше всего предсказание. Гиперпараметры:\n",
    "- Для деревьев - глубина дерева, количество признаков\n",
    "- У kNN - кол-во соседей"
   ]
  },
  {
   "cell_type": "markdown",
   "metadata": {},
   "source": [
    "#### Валидация: кросс-валидация\n",
    "`GridSearchCV`\n",
    "- неограничиваем глубину и кол-во основных признаков "
   ]
  },
  {
   "cell_type": "markdown",
   "metadata": {},
   "source": [
    "Теперь настроим параметры дерева на кросс-валидации. Настраивать будем максимальную глубину и максимальное используемое на каждом разбиении число признаков. Суть того, как работает GridSearchCV: для каждой уникальной пары значений параметров max_depth и max_features будет проведена 5-кратная кросс-валидация и выберется лучшее сочетание параметров.   (CV - cross-validation)"
   ]
  },
  {
   "cell_type": "markdown",
   "metadata": {},
   "source": [
    "**Cross-validation для Decision tree** "
   ]
  },
  {
   "cell_type": "code",
   "execution_count": 19,
   "metadata": {
    "ExecuteTime": {
     "end_time": "2019-09-26T00:30:23.413222Z",
     "start_time": "2019-09-26T00:30:23.410224Z"
    }
   },
   "outputs": [],
   "source": [
    "from sklearn.model_selection import GridSearchCV, cross_val_score"
   ]
  },
  {
   "cell_type": "code",
   "execution_count": 20,
   "metadata": {
    "ExecuteTime": {
     "end_time": "2019-09-26T00:30:26.075297Z",
     "start_time": "2019-09-26T00:30:26.070300Z"
    }
   },
   "outputs": [],
   "source": [
    "tree_params = {'max_depth': range(1,11),\n",
    "'max_features': range(4,19)}"
   ]
  },
  {
   "cell_type": "code",
   "execution_count": 21,
   "metadata": {
    "ExecuteTime": {
     "end_time": "2019-09-26T00:30:29.488151Z",
     "start_time": "2019-09-26T00:30:29.485164Z"
    }
   },
   "outputs": [],
   "source": [
    "#cv = 5 - это 5-кратная кросс-валидация\n",
    "tree_grid = GridSearchCV(tree, tree_params,\n",
    "cv=5, n_jobs=-1,\n",
    "verbose=True)"
   ]
  },
  {
   "cell_type": "code",
   "execution_count": 36,
   "metadata": {},
   "outputs": [
    {
     "name": "stdout",
     "output_type": "stream",
     "text": [
      "Fitting 5 folds for each of 150 candidates, totalling 750 fits\n"
     ]
    },
    {
     "name": "stderr",
     "output_type": "stream",
     "text": [
      "[Parallel(n_jobs=-1)]: Done  50 tasks      | elapsed:    9.6s\n",
      "[Parallel(n_jobs=-1)]: Done 750 out of 750 | elapsed:   12.0s finished\n"
     ]
    },
    {
     "data": {
      "text/plain": [
       "GridSearchCV(cv=5, error_score='raise',\n",
       "       estimator=DecisionTreeClassifier(class_weight=None, criterion='gini', max_depth=5,\n",
       "            max_features=None, max_leaf_nodes=None,\n",
       "            min_impurity_decrease=0.0, min_impurity_split=None,\n",
       "            min_samples_leaf=1, min_samples_split=2,\n",
       "            min_weight_fraction_leaf=0.0, presort=False, random_state=17,\n",
       "            splitter='best'),\n",
       "       fit_params=None, iid=True, n_jobs=-1,\n",
       "       param_grid={'max_depth': range(1, 11), 'max_features': range(4, 19)},\n",
       "       pre_dispatch='2*n_jobs', refit=True, return_train_score='warn',\n",
       "       scoring=None, verbose=True)"
      ]
     },
     "execution_count": 36,
     "metadata": {},
     "output_type": "execute_result"
    }
   ],
   "source": [
    "tree_grid.fit(X_train, y_train)"
   ]
  },
  {
   "cell_type": "markdown",
   "metadata": {},
   "source": [
    "Лучшее сочетание параметров и соответствующая средняя доля правильных ответов на кросс-валидации:"
   ]
  },
  {
   "cell_type": "code",
   "execution_count": 37,
   "metadata": {},
   "outputs": [
    {
     "data": {
      "text/plain": [
       "{'max_depth': 6, 'max_features': 17}"
      ]
     },
     "execution_count": 37,
     "metadata": {},
     "output_type": "execute_result"
    }
   ],
   "source": [
    "tree_grid.best_params_"
   ]
  },
  {
   "cell_type": "code",
   "execution_count": 39,
   "metadata": {},
   "outputs": [
    {
     "data": {
      "text/plain": [
       "0.946"
      ]
     },
     "execution_count": 39,
     "metadata": {},
     "output_type": "execute_result"
    }
   ],
   "source": [
    "accuracy_score(y_holdout, tree_grid.predict(X_holdout))"
   ]
  },
  {
   "cell_type": "markdown",
   "metadata": {},
   "source": [
    "**Cross-validation для kNN** "
   ]
  },
  {
   "cell_type": "code",
   "execution_count": 24,
   "metadata": {
    "ExecuteTime": {
     "end_time": "2019-09-26T00:31:18.083442Z",
     "start_time": "2019-09-26T00:31:17.890086Z"
    }
   },
   "outputs": [],
   "source": [
    "from sklearn.pipeline import Pipeline\n",
    "from sklearn.preprocessing import StandardScaler"
   ]
  },
  {
   "cell_type": "code",
   "execution_count": 25,
   "metadata": {
    "ExecuteTime": {
     "end_time": "2019-09-26T00:31:19.856050Z",
     "start_time": "2019-09-26T00:31:19.852065Z"
    }
   },
   "outputs": [],
   "source": [
    "knn_pipe = Pipeline([('scaler', StandardScaler()), ('knn', KNeighborsClassifier(n_jobs=-1))])\n",
    "knn_params = {'knn__n_neighbors': range(1, 10)}"
   ]
  },
  {
   "cell_type": "code",
   "execution_count": 26,
   "metadata": {
    "ExecuteTime": {
     "end_time": "2019-09-26T00:31:22.458486Z",
     "start_time": "2019-09-26T00:31:22.454488Z"
    }
   },
   "outputs": [],
   "source": [
    "knn_grid = GridSearchCV(knn_pipe, knn_params,\n",
    "cv=5, n_jobs=-1,\n",
    "verbose=True)"
   ]
  },
  {
   "cell_type": "code",
   "execution_count": 27,
   "metadata": {
    "ExecuteTime": {
     "end_time": "2019-09-26T00:31:31.049748Z",
     "start_time": "2019-09-26T00:31:24.810321Z"
    }
   },
   "outputs": [
    {
     "name": "stdout",
     "output_type": "stream",
     "text": [
      "Fitting 5 folds for each of 9 candidates, totalling 45 fits\n"
     ]
    },
    {
     "name": "stderr",
     "output_type": "stream",
     "text": [
      "[Parallel(n_jobs=-1)]: Using backend LokyBackend with 8 concurrent workers.\n",
      "[Parallel(n_jobs=-1)]: Done  45 out of  45 | elapsed:    6.1s finished\n"
     ]
    },
    {
     "data": {
      "text/plain": [
       "GridSearchCV(cv=5, error_score='raise-deprecating',\n",
       "       estimator=Pipeline(memory=None,\n",
       "     steps=[('scaler', StandardScaler(copy=True, with_mean=True, with_std=True)), ('knn', KNeighborsClassifier(algorithm='auto', leaf_size=30, metric='minkowski',\n",
       "           metric_params=None, n_jobs=-1, n_neighbors=5, p=2,\n",
       "           weights='uniform'))]),\n",
       "       fit_params=None, iid='warn', n_jobs=-1,\n",
       "       param_grid={'knn__n_neighbors': range(1, 10)},\n",
       "       pre_dispatch='2*n_jobs', refit=True, return_train_score='warn',\n",
       "       scoring=None, verbose=True)"
      ]
     },
     "execution_count": 27,
     "metadata": {},
     "output_type": "execute_result"
    }
   ],
   "source": [
    "knn_grid.fit(X_train, y_train)"
   ]
  },
  {
   "cell_type": "code",
   "execution_count": 28,
   "metadata": {
    "ExecuteTime": {
     "end_time": "2019-09-26T00:31:37.416297Z",
     "start_time": "2019-09-26T00:31:37.412298Z"
    }
   },
   "outputs": [
    {
     "data": {
      "text/plain": [
       "({'knn__n_neighbors': 7}, 0.8859837119588513)"
      ]
     },
     "execution_count": 28,
     "metadata": {},
     "output_type": "execute_result"
    }
   ],
   "source": [
    "knn_grid.best_params_, knn_grid.best_score_"
   ]
  },
  {
   "cell_type": "code",
   "execution_count": 46,
   "metadata": {},
   "outputs": [
    {
     "data": {
      "text/plain": [
       "0.89"
      ]
     },
     "execution_count": 46,
     "metadata": {},
     "output_type": "execute_result"
    }
   ],
   "source": [
    "accuracy_score(y_holdout, knn_grid.predict(X_holdout))"
   ]
  },
  {
   "cell_type": "markdown",
   "metadata": {},
   "source": [
    "В этом примере дерево показало себя лучше, чем метод ближайших соседей: 94.2% правильных ответов на кросс-валидации и 94.6% на отложенной выборке против 88.6% / 89% для kNN.   \n",
    "\n",
    "--- "
   ]
  },
  {
   "cell_type": "markdown",
   "metadata": {},
   "source": [
    "## Пример MNIST"
   ]
  },
  {
   "cell_type": "markdown",
   "metadata": {},
   "source": [
    "`load_digits(n_class=10, return_X_y=False)` - Each datapoint is a 8x8 image of a digit. Значения - это интенсивности белого цвета для каждого пикселя.   \n",
    "Датасет содержит 1797 картинок,\t~180 для каждый из цифр.   \n",
    "- (data, target) : tuple if `return_X_y` is True   \n",
    "\n",
    "В этом случаи получается, что тут 64 признака."
   ]
  },
  {
   "cell_type": "code",
   "execution_count": 30,
   "metadata": {
    "ExecuteTime": {
     "end_time": "2019-09-26T00:37:37.259533Z",
     "start_time": "2019-09-26T00:37:37.171595Z"
    }
   },
   "outputs": [
    {
     "data": {
      "text/plain": [
       "array([[ 0.,  0.,  5., 13.,  9.,  1.,  0.,  0.],\n",
       "       [ 0.,  0., 13., 15., 10., 15.,  5.,  0.],\n",
       "       [ 0.,  3., 15.,  2.,  0., 11.,  8.,  0.],\n",
       "       [ 0.,  4., 12.,  0.,  0.,  8.,  8.,  0.],\n",
       "       [ 0.,  5.,  8.,  0.,  0.,  9.,  8.,  0.],\n",
       "       [ 0.,  4., 11.,  0.,  1., 12.,  7.,  0.],\n",
       "       [ 0.,  2., 14.,  5., 10., 12.,  0.,  0.],\n",
       "       [ 0.,  0.,  6., 13., 10.,  0.,  0.,  0.]])"
      ]
     },
     "execution_count": 30,
     "metadata": {},
     "output_type": "execute_result"
    }
   ],
   "source": [
    "from sklearn.datasets import load_digits\n",
    "\n",
    "data = load_digits()\n",
    "X, y = data.data, data.target\n",
    "\n",
    "X[0,:].reshape([8,8])"
   ]
  },
  {
   "cell_type": "markdown",
   "metadata": {},
   "source": [
    "---"
   ]
  },
  {
   "cell_type": "code",
   "execution_count": 61,
   "metadata": {},
   "outputs": [
    {
     "name": "stdout",
     "output_type": "stream",
     "text": [
      "(1797, 64) (1797,)\n"
     ]
    }
   ],
   "source": [
    "print(X.shape, y.shape)"
   ]
  },
  {
   "cell_type": "markdown",
   "metadata": {},
   "source": [
    "`X, y = data.data, data.target` - возвращает X - матрица, где 1797 цифр (каждая представлена одной строкой с 64 значениями интенсивности). y - 1797 цифр соответствующих числам в X (т.е. это labels)"
   ]
  },
  {
   "cell_type": "code",
   "execution_count": 66,
   "metadata": {},
   "outputs": [
    {
     "data": {
      "text/plain": [
       "array([ 0.,  0.,  0.,  5., 14., 12.,  2.,  0.,  0.,  0.,  7., 15.,  8.,\n",
       "       14.,  4.,  0.,  0.,  0.,  6.,  2.,  3., 13.,  1.,  0.,  0.,  0.,\n",
       "        0.,  1., 13.,  4.,  0.,  0.,  0.,  0.,  1., 11.,  9.,  0.,  0.,\n",
       "        0.,  0.,  8., 16., 13.,  0.,  0.,  0.,  0.,  0.,  5., 14., 16.,\n",
       "       11.,  2.,  0.,  0.,  0.,  0.,  0.,  6., 12., 13.,  3.,  0.])"
      ]
     },
     "execution_count": 66,
     "metadata": {},
     "output_type": "execute_result"
    }
   ],
   "source": [
    "data.data[50] #строка с 64 пикселями"
   ]
  },
  {
   "cell_type": "code",
   "execution_count": 65,
   "metadata": {},
   "outputs": [
    {
     "name": "stdout",
     "output_type": "stream",
     "text": [
      "[[ 0.  0.  5. ...  0.  0.  0.]\n",
      " [ 0.  0.  0. ... 10.  0.  0.]\n",
      " [ 0.  0.  0. ... 16.  9.  0.]\n",
      " ...\n",
      " [ 0.  0.  1. ...  6.  0.  0.]\n",
      " [ 0.  0.  2. ... 12.  0.  0.]\n",
      " [ 0.  0. 10. ... 12.  1.  0.]] \n",
      "\n",
      " [0 1 2 ... 8 9 8]\n"
     ]
    }
   ],
   "source": [
    "print(X,'\\n\\n', y)"
   ]
  },
  {
   "cell_type": "markdown",
   "metadata": {},
   "source": [
    "---"
   ]
  },
  {
   "cell_type": "code",
   "execution_count": 32,
   "metadata": {
    "ExecuteTime": {
     "end_time": "2019-09-26T00:37:52.793382Z",
     "start_time": "2019-09-26T00:37:52.219711Z"
    }
   },
   "outputs": [
    {
     "data": {
      "image/png": "[encoded data removed]",
      "text/plain": [
       "<Figure size 1152x432 with 4 Axes>"
      ]
     },
     "metadata": {
      "needs_background": "light"
     },
     "output_type": "display_data"
    }
   ],
   "source": [
    "f, axes = plt.subplots(1, 4, sharey=True, figsize=(16,6))\n",
    "for i in range(4):\n",
    "    axes[i].imshow(X[i,:].reshape([8,8]));"
   ]
  },
  {
   "cell_type": "code",
   "execution_count": 33,
   "metadata": {
    "ExecuteTime": {
     "end_time": "2019-09-26T00:37:58.810588Z",
     "start_time": "2019-09-26T00:37:58.804591Z"
    }
   },
   "outputs": [],
   "source": [
    "#отложенная выборка\n",
    "X_train, X_holdout, y_train, y_holdout = train_test_split(X, y, test_size=0.3,\n",
    "random_state=17)"
   ]
  },
  {
   "cell_type": "code",
   "execution_count": 34,
   "metadata": {
    "ExecuteTime": {
     "end_time": "2019-09-26T00:38:03.997112Z",
     "start_time": "2019-09-26T00:38:03.980120Z"
    }
   },
   "outputs": [
    {
     "data": {
      "text/plain": [
       "KNeighborsClassifier(algorithm='auto', leaf_size=30, metric='minkowski',\n",
       "           metric_params=None, n_jobs=None, n_neighbors=10, p=2,\n",
       "           weights='uniform')"
      ]
     },
     "execution_count": 34,
     "metadata": {},
     "output_type": "execute_result"
    }
   ],
   "source": [
    "#обучим DT и kNN, используя случайно выбранные параметры\n",
    "tree = DecisionTreeClassifier(max_depth=5, random_state=17)\n",
    "knn = KNeighborsClassifier(n_neighbors=10)\n",
    "\n",
    "tree.fit(X_train, y_train)\n",
    "knn.fit(X_train, y_train)"
   ]
  },
  {
   "cell_type": "code",
   "execution_count": 35,
   "metadata": {
    "ExecuteTime": {
     "end_time": "2019-09-26T00:38:13.381313Z",
     "start_time": "2019-09-26T00:38:13.291364Z"
    }
   },
   "outputs": [
    {
     "data": {
      "text/plain": [
       "(0.9740740740740741, 0.6666666666666666)"
      ]
     },
     "execution_count": 35,
     "metadata": {},
     "output_type": "execute_result"
    }
   ],
   "source": [
    "tree_pred = tree.predict(X_holdout)\n",
    "knn_pred = knn.predict(X_holdout)\n",
    "accuracy_score(y_holdout, knn_pred), accuracy_score(y_holdout, tree_pred)"
   ]
  },
  {
   "cell_type": "markdown",
   "metadata": {},
   "source": [
    "Просто наугад дерево оч плохо все сделало, а kNN оч хорошо."
   ]
  },
  {
   "cell_type": "code",
   "execution_count": 36,
   "metadata": {
    "ExecuteTime": {
     "end_time": "2019-09-26T00:38:46.073472Z",
     "start_time": "2019-09-26T00:38:34.175505Z"
    }
   },
   "outputs": [
    {
     "name": "stdout",
     "output_type": "stream",
     "text": [
      "Fitting 5 folds for each of 99 candidates, totalling 495 fits\n"
     ]
    },
    {
     "name": "stderr",
     "output_type": "stream",
     "text": [
      "[Parallel(n_jobs=-1)]: Using backend LokyBackend with 8 concurrent workers.\n",
      "[Parallel(n_jobs=-1)]: Done  34 tasks      | elapsed:   11.1s\n",
      "[Parallel(n_jobs=-1)]: Done 495 out of 495 | elapsed:   11.8s finished\n",
      "C:\\Users\\Vlad\\Anaconda3\\lib\\site-packages\\sklearn\\model_selection\\_search.py:841: DeprecationWarning: The default of the `iid` parameter will change from True to False in version 0.22 and will be removed in 0.24. This will change numeric results when test-set sizes are unequal.\n",
      "  DeprecationWarning)\n"
     ]
    },
    {
     "data": {
      "text/plain": [
       "GridSearchCV(cv=5, error_score='raise-deprecating',\n",
       "       estimator=DecisionTreeClassifier(class_weight=None, criterion='gini', max_depth=5,\n",
       "            max_features=None, max_leaf_nodes=None,\n",
       "            min_impurity_decrease=0.0, min_impurity_split=None,\n",
       "            min_samples_leaf=1, min_samples_split=2,\n",
       "            min_weight_fraction_leaf=0.0, presort=False, random_state=17,\n",
       "            splitter='best'),\n",
       "       fit_params=None, iid='warn', n_jobs=-1,\n",
       "       param_grid={'max_depth': [1, 2, 3, 5, 10, 20, 25, 30, 40, 50, 64], 'max_features': [1, 2, 3, 5, 10, 20, 30, 50, 64]},\n",
       "       pre_dispatch='2*n_jobs', refit=True, return_train_score='warn',\n",
       "       scoring=None, verbose=True)"
      ]
     },
     "execution_count": 36,
     "metadata": {},
     "output_type": "execute_result"
    }
   ],
   "source": [
    "#кросс-валидация для дерева \n",
    "tree_params = {'max_depth': [1, 2, 3, 5, 10, 20, 25, 30, 40, 50, 64],\n",
    "'max_features': [1, 2, 3, 5, 10, 20 ,30, 50, 64]}\n",
    "\n",
    "tree_grid = GridSearchCV(tree, tree_params,\n",
    "cv=5, n_jobs=-1,\n",
    "verbose=True)\n",
    "\n",
    "tree_grid.fit(X_train, y_train)"
   ]
  },
  {
   "cell_type": "code",
   "execution_count": 37,
   "metadata": {
    "ExecuteTime": {
     "end_time": "2019-09-26T00:38:49.964872Z",
     "start_time": "2019-09-26T00:38:49.960864Z"
    }
   },
   "outputs": [
    {
     "data": {
      "text/plain": [
       "({'max_depth': 20, 'max_features': 64}, 0.8440731901352426)"
      ]
     },
     "execution_count": 37,
     "metadata": {},
     "output_type": "execute_result"
    }
   ],
   "source": [
    "tree_grid.best_params_, tree_grid.best_score_"
   ]
  },
  {
   "cell_type": "markdown",
   "metadata": {},
   "source": [
    "С оптимизированными параметрами намного лучше, чем было. Но все равно намного хуже, чем kNN"
   ]
  },
  {
   "cell_type": "code",
   "execution_count": 38,
   "metadata": {
    "ExecuteTime": {
     "end_time": "2019-09-26T00:38:52.356273Z",
     "start_time": "2019-09-26T00:38:52.180374Z"
    }
   },
   "outputs": [
    {
     "data": {
      "text/plain": [
       "0.9865458422397149"
      ]
     },
     "execution_count": 38,
     "metadata": {},
     "output_type": "execute_result"
    }
   ],
   "source": [
    "#cross-validation for kNN (тут 1 ближайший сосед)\n",
    "np.mean(cross_val_score(KNeighborsClassifier(n_neighbors=1), X_train, y_train, cv=5)) "
   ]
  }
 ],
 "metadata": {
  "kernelspec": {
   "display_name": "Python 3",
   "language": "python",
   "name": "python3"
  },
  "language_info": {
   "codemirror_mode": {
    "name": "ipython",
    "version": 3
   },
   "file_extension": ".py",
   "mimetype": "text/x-python",
   "name": "python",
   "nbconvert_exporter": "python",
   "pygments_lexer": "ipython3",
   "version": "3.7.3"
  }
 },
 "nbformat": 4,
 "nbformat_minor": 2
}
