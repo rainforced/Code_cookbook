{
 "cells": [
  {
   "cell_type": "markdown",
   "metadata": {},
   "source": [
    "## Outline"
   ]
  },
  {
   "cell_type": "markdown",
   "metadata": {},
   "source": [
    "1. **Import, save, info**\n",
    "    - Создание DataFrame и Series\n",
    "    - Чтение и сохранение из файла\n",
    "    - Общая иформация о data set: df.head(), .tail(), .shape, .dtypes, .info(), .columns, .rename, .index\n",
    "    - Измение в data set: (глобально) df.columns.name, .index.name, (локально) df.columns, .index, .astype()\n",
    "    - Вызов DataFrame vs Series\n",
    "    - Copy DataFrame\n",
    "    \n",
    "    \n",
    "2. **Append, add and delete(drop)**\n",
    "    - Add row (.append())\n",
    "    - Add and crop columns (concate)\n",
    "    - .insert() - add coluumn\n",
    "    - Delete (.drop()) row (axis=0) and column(axis=1)\n",
    "    \n",
    "    \n",
    "3. **Apply, map and replace**\n",
    "    - .apply(), .applymap()\n",
    "    - .map() and .replace()\n",
    "    \n",
    "    \n",
    "4. **Selection and data cleaning**\n",
    "    - df.to_numpy() перевести из DataFrame(one dtype per column n df) в np.array(only one dtype per array)\n",
    "    - Slicing: simple (df[:]), .loc(), .iloc(), логический, точный (.at[], .iat[])\n",
    "    - .filter()\n",
    "    - .query()\n",
    "    - Cleaning: .fillna()\n",
    "    - .factorize\n",
    "    \n",
    "    \n",
    "5. **Sort and analyse**\n",
    "    - Сортировка: .unique(), .isin(), .sort_values(), .sort_index()\n",
    "    - Analysis: .describe(), .min(max, mean), .count() и .value_counts()\n",
    "    - Корреляция: df.corr()    \n",
    "     \n",
    "6. **Numpy** - для применения математки к pd.Series\n",
    "\n",
    "\n",
    "---\n",
    "\n",
    "\n",
    "**Источники:**  \n",
    "1. [ODS course, 1 lect](https://habr.com/company/ods/blog/322626/)\n",
    "2. [Докумендация к pandas (10 min)](https://pandas.pydata.org/pandas-docs/stable/10min.html)  \n",
    "3. [Изучаем Pandas (книга)](https://drive.google.com/file/d/1EqUUrS81tAHwt_vghs9Hibksa5_GHecI/view)  \n",
    "4. [NumPy, Scilear, pandas (книга/мануал/практика)](http://scipy-lectures.org/index.html)  \n",
    "\n"
   ]
  },
  {
   "cell_type": "markdown",
   "metadata": {},
   "source": [
    "`help(anything)` тоже самое `anything?` - вызвать help"
   ]
  },
  {
   "cell_type": "code",
   "execution_count": 1,
   "metadata": {
    "ExecuteTime": {
     "end_time": "2019-09-18T14:44:09.159668Z",
     "start_time": "2019-09-18T14:44:08.327130Z"
    }
   },
   "outputs": [],
   "source": [
    "import pandas as pd\n",
    "import numpy as np"
   ]
  },
  {
   "cell_type": "markdown",
   "metadata": {
    "heading_collapsed": true
   },
   "source": [
    "## Import, save, info"
   ]
  },
  {
   "cell_type": "markdown",
   "metadata": {
    "hidden": true
   },
   "source": [
    "#### 1 способ: с указанием индексов\n",
    "```\n",
    "pd.DataFrame([[list_of_1 raw], [list_of_2_raw], [list_of_3_raw]],\n",
    "              index = ['Vasya', 'AK-47', 'Guf'],    ##len(index) = # of raws\n",
    "              columns = ['Good', 'Bad']             #len(columns) = len([list_of_1 raw])\n",
    "                 )\n",
    "```"
   ]
  },
  {
   "cell_type": "code",
   "execution_count": 4,
   "metadata": {
    "ExecuteTime": {
     "end_time": "2019-09-03T21:12:40.843788Z",
     "start_time": "2019-09-03T21:12:40.833794Z"
    },
    "hidden": true
   },
   "outputs": [
    {
     "data": {
      "text/html": [
       "<div>\n",
       "<style scoped>\n",
       "    .dataframe tbody tr th:only-of-type {\n",
       "        vertical-align: middle;\n",
       "    }\n",
       "\n",
       "    .dataframe tbody tr th {\n",
       "        vertical-align: top;\n",
       "    }\n",
       "\n",
       "    .dataframe thead th {\n",
       "        text-align: right;\n",
       "    }\n",
       "</style>\n",
       "<table border=\"1\" class=\"dataframe\">\n",
       "  <thead>\n",
       "    <tr style=\"text-align: right;\">\n",
       "      <th></th>\n",
       "      <th>Good</th>\n",
       "      <th>Bad</th>\n",
       "    </tr>\n",
       "  </thead>\n",
       "  <tbody>\n",
       "    <tr>\n",
       "      <th>Vasya</th>\n",
       "      <td>ssacd</td>\n",
       "      <td>asdasd</td>\n",
       "    </tr>\n",
       "    <tr>\n",
       "      <th>AK-47</th>\n",
       "      <td>sgggg</td>\n",
       "      <td>dfgdf</td>\n",
       "    </tr>\n",
       "    <tr>\n",
       "      <th>Guf</th>\n",
       "      <td>ddd</td>\n",
       "      <td>aaaa</td>\n",
       "    </tr>\n",
       "  </tbody>\n",
       "</table>\n",
       "</div>"
      ],
      "text/plain": [
       "        Good     Bad\n",
       "Vasya  ssacd  asdasd\n",
       "AK-47  sgggg   dfgdf\n",
       "Guf      ddd    aaaa"
      ]
     },
     "execution_count": 4,
     "metadata": {},
     "output_type": "execute_result"
    }
   ],
   "source": [
    "df=pd.DataFrame([['ssacd','asdasd'],['sgggg', 'dfgdf'], ['ddd', 'aaaa']],\n",
    "                 index = ['Vasya', 'AK-47', 'Guf'],\n",
    "                 columns = ['Good', 'Bad']\n",
    "                 )\n",
    "df"
   ]
  },
  {
   "cell_type": "markdown",
   "metadata": {
    "hidden": true
   },
   "source": [
    "----"
   ]
  },
  {
   "cell_type": "code",
   "execution_count": 2,
   "metadata": {
    "ExecuteTime": {
     "end_time": "2019-02-24T04:50:59.182377Z",
     "start_time": "2019-02-24T04:50:59.151846Z"
    },
    "hidden": true
   },
   "outputs": [
    {
     "data": {
      "text/html": [
       "<div>\n",
       "<style scoped>\n",
       "    .dataframe tbody tr th:only-of-type {\n",
       "        vertical-align: middle;\n",
       "    }\n",
       "\n",
       "    .dataframe tbody tr th {\n",
       "        vertical-align: top;\n",
       "    }\n",
       "\n",
       "    .dataframe thead th {\n",
       "        text-align: right;\n",
       "    }\n",
       "</style>\n",
       "<table border=\"1\" class=\"dataframe\">\n",
       "  <thead>\n",
       "    <tr style=\"text-align: right;\">\n",
       "      <th></th>\n",
       "      <th>one</th>\n",
       "      <th>two</th>\n",
       "      <th>three</th>\n",
       "    </tr>\n",
       "  </thead>\n",
       "  <tbody>\n",
       "    <tr>\n",
       "      <th>mouse</th>\n",
       "      <td>1</td>\n",
       "      <td>2</td>\n",
       "      <td>3</td>\n",
       "    </tr>\n",
       "    <tr>\n",
       "      <th>rabbit</th>\n",
       "      <td>4</td>\n",
       "      <td>5</td>\n",
       "      <td>6</td>\n",
       "    </tr>\n",
       "  </tbody>\n",
       "</table>\n",
       "</div>"
      ],
      "text/plain": [
       "        one  two  three\n",
       "mouse     1    2      3\n",
       "rabbit    4    5      6"
      ]
     },
     "execution_count": 2,
     "metadata": {},
     "output_type": "execute_result"
    }
   ],
   "source": [
    "df = pd.DataFrame(np.array(([1,2,3], [4,5,6])),\n",
    "                  index=['mouse', 'rabbit'],\n",
    "                  columns=['one', 'two', 'three'])\n",
    "df"
   ]
  },
  {
   "cell_type": "markdown",
   "metadata": {
    "hidden": true
   },
   "source": [
    "**Name for all colunms, and indexs**"
   ]
  },
  {
   "cell_type": "code",
   "execution_count": 5,
   "metadata": {
    "ExecuteTime": {
     "end_time": "2019-09-03T21:12:43.468388Z",
     "start_time": "2019-09-03T21:12:43.461391Z"
    },
    "hidden": true
   },
   "outputs": [
    {
     "data": {
      "text/html": [
       "<div>\n",
       "<style scoped>\n",
       "    .dataframe tbody tr th:only-of-type {\n",
       "        vertical-align: middle;\n",
       "    }\n",
       "\n",
       "    .dataframe tbody tr th {\n",
       "        vertical-align: top;\n",
       "    }\n",
       "\n",
       "    .dataframe thead th {\n",
       "        text-align: right;\n",
       "    }\n",
       "</style>\n",
       "<table border=\"1\" class=\"dataframe\">\n",
       "  <thead>\n",
       "    <tr style=\"text-align: right;\">\n",
       "      <th>new col name</th>\n",
       "      <th>Good</th>\n",
       "      <th>Bad</th>\n",
       "    </tr>\n",
       "    <tr>\n",
       "      <th>new index</th>\n",
       "      <th></th>\n",
       "      <th></th>\n",
       "    </tr>\n",
       "  </thead>\n",
       "  <tbody>\n",
       "    <tr>\n",
       "      <th>Vasya</th>\n",
       "      <td>ssacd</td>\n",
       "      <td>asdasd</td>\n",
       "    </tr>\n",
       "    <tr>\n",
       "      <th>AK-47</th>\n",
       "      <td>sgggg</td>\n",
       "      <td>dfgdf</td>\n",
       "    </tr>\n",
       "    <tr>\n",
       "      <th>Guf</th>\n",
       "      <td>ddd</td>\n",
       "      <td>aaaa</td>\n",
       "    </tr>\n",
       "  </tbody>\n",
       "</table>\n",
       "</div>"
      ],
      "text/plain": [
       "new col name   Good     Bad\n",
       "new index                  \n",
       "Vasya         ssacd  asdasd\n",
       "AK-47         sgggg   dfgdf\n",
       "Guf             ddd    aaaa"
      ]
     },
     "execution_count": 5,
     "metadata": {},
     "output_type": "execute_result"
    }
   ],
   "source": [
    "# глобальная подпись колонок и рядов\n",
    "df.columns.name = 'new col name'\n",
    "df.index.name = 'new index'\n",
    "df"
   ]
  },
  {
   "cell_type": "markdown",
   "metadata": {
    "hidden": true
   },
   "source": [
    "----"
   ]
  },
  {
   "cell_type": "code",
   "execution_count": 10,
   "metadata": {
    "ExecuteTime": {
     "end_time": "2019-02-24T04:52:34.747975Z",
     "start_time": "2019-02-24T04:52:34.740988Z"
    },
    "hidden": true
   },
   "outputs": [
    {
     "data": {
      "text/html": [
       "<div>\n",
       "<style scoped>\n",
       "    .dataframe tbody tr th:only-of-type {\n",
       "        vertical-align: middle;\n",
       "    }\n",
       "\n",
       "    .dataframe tbody tr th {\n",
       "        vertical-align: top;\n",
       "    }\n",
       "\n",
       "    .dataframe thead th {\n",
       "        text-align: right;\n",
       "    }\n",
       "</style>\n",
       "<table border=\"1\" class=\"dataframe\">\n",
       "  <thead>\n",
       "    <tr style=\"text-align: right;\">\n",
       "      <th></th>\n",
       "      <th>Basta</th>\n",
       "      <th>Guf</th>\n",
       "      <th>AK-47</th>\n",
       "    </tr>\n",
       "    <tr>\n",
       "      <th>new index</th>\n",
       "      <th></th>\n",
       "      <th></th>\n",
       "      <th></th>\n",
       "    </tr>\n",
       "  </thead>\n",
       "  <tbody>\n",
       "    <tr>\n",
       "      <th>mouse</th>\n",
       "      <td>1</td>\n",
       "      <td>2</td>\n",
       "      <td>3</td>\n",
       "    </tr>\n",
       "    <tr>\n",
       "      <th>rabbit</th>\n",
       "      <td>4</td>\n",
       "      <td>5</td>\n",
       "      <td>6</td>\n",
       "    </tr>\n",
       "  </tbody>\n",
       "</table>\n",
       "</div>"
      ],
      "text/plain": [
       "           Basta  Guf  AK-47\n",
       "new index                   \n",
       "mouse          1    2      3\n",
       "rabbit         4    5      6"
      ]
     },
     "execution_count": 10,
     "metadata": {},
     "output_type": "execute_result"
    }
   ],
   "source": [
    "# локальная подпись колонок и рядов\n",
    "df.columns = ['Basta', 'Guf', 'AK-47']\n",
    "df"
   ]
  },
  {
   "cell_type": "markdown",
   "metadata": {
    "hidden": true
   },
   "source": [
    "#### 2 способ: по стобцово\n",
    "```\n",
    "frame_dict = {'Col1': ['list', 'of', 'values'], 'Col2': ['list', 'of', 'values']} \n",
    "pd.DataFrame(frame_dict)\n",
    "```"
   ]
  },
  {
   "cell_type": "code",
   "execution_count": 8,
   "metadata": {
    "ExecuteTime": {
     "end_time": "2019-09-06T00:13:46.482480Z",
     "start_time": "2019-09-06T00:13:46.477497Z"
    },
    "hidden": true
   },
   "outputs": [],
   "source": [
    "dt=pd.DataFrame({'Sqrt': [x**2 for x in range(10)], 'XXX': ['a']*10})"
   ]
  },
  {
   "cell_type": "code",
   "execution_count": 38,
   "metadata": {
    "ExecuteTime": {
     "end_time": "2019-09-06T00:42:35.045061Z",
     "start_time": "2019-09-06T00:42:35.037076Z"
    },
    "hidden": true,
    "scrolled": true
   },
   "outputs": [
    {
     "data": {
      "text/html": [
       "<div>\n",
       "<style scoped>\n",
       "    .dataframe tbody tr th:only-of-type {\n",
       "        vertical-align: middle;\n",
       "    }\n",
       "\n",
       "    .dataframe tbody tr th {\n",
       "        vertical-align: top;\n",
       "    }\n",
       "\n",
       "    .dataframe thead th {\n",
       "        text-align: right;\n",
       "    }\n",
       "</style>\n",
       "<table border=\"1\" class=\"dataframe\">\n",
       "  <thead>\n",
       "    <tr style=\"text-align: right;\">\n",
       "      <th></th>\n",
       "      <th>Sqrt</th>\n",
       "      <th>XXX</th>\n",
       "    </tr>\n",
       "  </thead>\n",
       "  <tbody>\n",
       "    <tr>\n",
       "      <th>0</th>\n",
       "      <td>0</td>\n",
       "      <td>a</td>\n",
       "    </tr>\n",
       "    <tr>\n",
       "      <th>1</th>\n",
       "      <td>1</td>\n",
       "      <td>a</td>\n",
       "    </tr>\n",
       "    <tr>\n",
       "      <th>2</th>\n",
       "      <td>4</td>\n",
       "      <td>a</td>\n",
       "    </tr>\n",
       "    <tr>\n",
       "      <th>3</th>\n",
       "      <td>9</td>\n",
       "      <td>a</td>\n",
       "    </tr>\n",
       "    <tr>\n",
       "      <th>4</th>\n",
       "      <td>16</td>\n",
       "      <td>a</td>\n",
       "    </tr>\n",
       "  </tbody>\n",
       "</table>\n",
       "</div>"
      ],
      "text/plain": [
       "   Sqrt XXX\n",
       "0     0   a\n",
       "1     1   a\n",
       "2     4   a\n",
       "3     9   a\n",
       "4    16   a"
      ]
     },
     "execution_count": 38,
     "metadata": {},
     "output_type": "execute_result"
    }
   ],
   "source": [
    "dt.head()"
   ]
  },
  {
   "cell_type": "markdown",
   "metadata": {
    "hidden": true
   },
   "source": [
    "`pd.Series(data_list)` - column (из data_list) in DataFrame. Это стандартный class в pandas\n",
    "`pd.DataFrame(dict)` где key - column name, value - data in *list*  \n",
    "`df = pd.DataFrame([[1, 2], [3, 4]], columns=list('AB'))` - алтернативно можно задать значения [row1], [row2] и тд, а потом list columns. "
   ]
  },
  {
   "cell_type": "markdown",
   "metadata": {
    "hidden": true
   },
   "source": [
    "### Открыть файл"
   ]
  },
  {
   "cell_type": "code",
   "execution_count": 2,
   "metadata": {
    "ExecuteTime": {
     "end_time": "2019-09-18T14:44:46.125821Z",
     "start_time": "2019-09-18T14:44:45.710639Z"
    },
    "hidden": true
   },
   "outputs": [],
   "source": [
    "# main battlestation: C:\\Users\\Vlad\\Documents\\2019year\\JupyterStash\\ODS_mlcourse\\github_ODS\\data\\telecom_churn.csv\n",
    "# corvet battlestation: /home/vlad/Documents/2019year/JupyterStash/ODS_mlcourse/github_ODS/data/telecom_churn.csv\n",
    "frame = pd.read_csv(r'/home/vlad/Documents/2019year/JupyterStash/ODS_mlcourse/github_ODS/data/telecom_churn.csv')"
   ]
  },
  {
   "cell_type": "markdown",
   "metadata": {
    "hidden": true
   },
   "source": [
    "`pd.read_csv(очень много аргументов)` - см. [документацию](https://pandas.pydata.org/pandas-docs/stable/generated/pandas.read_csv.html) по аргументам. `sep='\\t` - выбор разделения в документе  "
   ]
  },
  {
   "cell_type": "markdown",
   "metadata": {},
   "source": [
    "### Описание таблицы"
   ]
  },
  {
   "cell_type": "markdown",
   "metadata": {
    "hidden": true
   },
   "source": [
    "`pd.head(n)` - красивая колонка с перевыми n строками  \n",
    "`pd.tail(n)` - ... с последними n строками   \n",
    "`pd.shape` - выведет tuple c количеством (rows, columns)  \n",
    "`pd.dtypes` - выведет типы столбцов  \n",
    "`pd.info()` - развернутое info о dataset  \n",
    "`pd.columns` - названия колонок    \n",
    "`pd.index` - названия индексов строк   "
   ]
  },
  {
   "cell_type": "code",
   "execution_count": 17,
   "metadata": {
    "ExecuteTime": {
     "end_time": "2019-09-06T00:21:58.667353Z",
     "start_time": "2019-09-06T00:21:58.663352Z"
    },
    "hidden": true
   },
   "outputs": [
    {
     "data": {
      "text/plain": [
       "(3333, 20)"
      ]
     },
     "execution_count": 17,
     "metadata": {},
     "output_type": "execute_result"
    }
   ],
   "source": [
    "frame.shape"
   ]
  },
  {
   "cell_type": "code",
   "execution_count": 3,
   "metadata": {
    "ExecuteTime": {
     "end_time": "2019-09-13T15:22:49.593185Z",
     "start_time": "2019-09-13T15:22:49.451509Z"
    },
    "hidden": true
   },
   "outputs": [
    {
     "name": "stdout",
     "output_type": "stream",
     "text": [
      "<class 'pandas.core.frame.DataFrame'>\n",
      "RangeIndex: 3333 entries, 0 to 3332\n",
      "Data columns (total 20 columns):\n",
      "State                     3333 non-null object\n",
      "Account length            3333 non-null int64\n",
      "Area code                 3333 non-null int64\n",
      "International plan        3333 non-null object\n",
      "Voice mail plan           3333 non-null object\n",
      "Number vmail messages     3333 non-null int64\n",
      "Total day minutes         3333 non-null float64\n",
      "Total day calls           3333 non-null int64\n",
      "Total day charge          3333 non-null float64\n",
      "Total eve minutes         3333 non-null float64\n",
      "Total eve calls           3333 non-null int64\n",
      "Total eve charge          3333 non-null float64\n",
      "Total night minutes       3333 non-null float64\n",
      "Total night calls         3333 non-null int64\n",
      "Total night charge        3333 non-null float64\n",
      "Total intl minutes        3333 non-null float64\n",
      "Total intl calls          3333 non-null int64\n",
      "Total intl charge         3333 non-null float64\n",
      "Customer service calls    3333 non-null int64\n",
      "Churn                     3333 non-null bool\n",
      "dtypes: bool(1), float64(8), int64(8), object(3)\n",
      "memory usage: 498.1+ KB\n"
     ]
    }
   ],
   "source": [
    "frame.info()"
   ]
  },
  {
   "cell_type": "markdown",
   "metadata": {},
   "source": [
    "### .colums"
   ]
  },
  {
   "cell_type": "code",
   "execution_count": 18,
   "metadata": {
    "ExecuteTime": {
     "end_time": "2019-09-06T00:22:01.590344Z",
     "start_time": "2019-09-06T00:22:01.586331Z"
    },
    "hidden": true,
    "scrolled": true
   },
   "outputs": [
    {
     "data": {
      "text/plain": [
       "Index(['State', 'Account length', 'Area code', 'International plan',\n",
       "       'Voice mail plan', 'Number vmail messages', 'Total day minutes',\n",
       "       'Total day calls', 'Total day charge', 'Total eve minutes',\n",
       "       'Total eve calls', 'Total eve charge', 'Total night minutes',\n",
       "       'Total night calls', 'Total night charge', 'Total intl minutes',\n",
       "       'Total intl calls', 'Total intl charge', 'Customer service calls',\n",
       "       'Churn'],\n",
       "      dtype='object')"
      ]
     },
     "execution_count": 18,
     "metadata": {},
     "output_type": "execute_result"
    }
   ],
   "source": [
    "frame.columns #names of columns"
   ]
  },
  {
   "cell_type": "markdown",
   "metadata": {},
   "source": [
    "#### .rename()"
   ]
  },
  {
   "cell_type": "markdown",
   "metadata": {},
   "source": [
    "Переименование колонок. Явно указываем в словаре старое и новое имя:"
   ]
  },
  {
   "cell_type": "code",
   "execution_count": null,
   "metadata": {},
   "outputs": [],
   "source": [
    "df.rename(columns = {\n",
    "    'old_name1':'new_name1',\n",
    "    'old_name3':'new_name2'\n",
    "})"
   ]
  },
  {
   "cell_type": "markdown",
   "metadata": {},
   "source": [
    "### .index"
   ]
  },
  {
   "cell_type": "code",
   "execution_count": 19,
   "metadata": {
    "ExecuteTime": {
     "end_time": "2019-09-06T00:22:04.726859Z",
     "start_time": "2019-09-06T00:22:04.720860Z"
    },
    "hidden": true
   },
   "outputs": [
    {
     "data": {
      "text/plain": [
       "RangeIndex(start=0, stop=3333, step=1)"
      ]
     },
     "execution_count": 19,
     "metadata": {},
     "output_type": "execute_result"
    }
   ],
   "source": [
    "frame.index #names of rows"
   ]
  },
  {
   "cell_type": "markdown",
   "metadata": {},
   "source": [
    "Можно поменять названия строк явное указав их имя:"
   ]
  },
  {
   "cell_type": "code",
   "execution_count": null,
   "metadata": {},
   "outputs": [],
   "source": [
    "frame.index = ['MyCol1', 'MyCol2', 'MyCol3'] "
   ]
  },
  {
   "cell_type": "markdown",
   "metadata": {
    "hidden": true
   },
   "source": [
    "`frame.index.get_level_values(#)` - если индекс в несколько слоев (MultiIndex), то можно вернуть Series с названиями индексов."
   ]
  },
  {
   "cell_type": "code",
   "execution_count": 20,
   "metadata": {
    "ExecuteTime": {
     "end_time": "2019-09-06T00:22:07.711162Z",
     "start_time": "2019-09-06T00:22:07.694171Z"
    },
    "hidden": true
   },
   "outputs": [
    {
     "name": "stdout",
     "output_type": "stream",
     "text": [
      "<class 'pandas.core.indexes.base.Index'>\n",
      "<class 'pandas.core.indexes.range.RangeIndex'>\n"
     ]
    }
   ],
   "source": [
    "print(type(frame.columns))\n",
    "print(type(frame.index))"
   ]
  },
  {
   "cell_type": "markdown",
   "metadata": {
    "hidden": true
   },
   "source": [
    "### DataFrame vs Series calls"
   ]
  },
  {
   "cell_type": "markdown",
   "metadata": {},
   "source": [
    "- `pd.Series` - это одна колонка.   \n",
    "- `pd.DataFrame` - это таблица, т.е. коллекция колонок. Она состоить из `pd.Series`"
   ]
  },
  {
   "cell_type": "code",
   "execution_count": 24,
   "metadata": {
    "ExecuteTime": {
     "end_time": "2019-09-06T00:22:28.442706Z",
     "start_time": "2019-09-06T00:22:28.415734Z"
    },
    "hidden": true
   },
   "outputs": [
    {
     "data": {
      "text/plain": [
       "0    KS\n",
       "1    OH\n",
       "2    NJ\n",
       "3    OH\n",
       "4    OK\n",
       "Name: State, dtype: object"
      ]
     },
     "execution_count": 24,
     "metadata": {},
     "output_type": "execute_result"
    }
   ],
   "source": [
    "frame.State.head() # вызов индивидуального стобцаи"
   ]
  },
  {
   "cell_type": "code",
   "execution_count": 25,
   "metadata": {
    "ExecuteTime": {
     "end_time": "2019-09-06T00:22:34.123921Z",
     "start_time": "2019-09-06T00:22:34.118910Z"
    },
    "hidden": true
   },
   "outputs": [
    {
     "data": {
      "text/plain": [
       "0    KS\n",
       "1    OH\n",
       "2    NJ\n",
       "3    OH\n",
       "4    OK\n",
       "Name: State, dtype: object"
      ]
     },
     "execution_count": 25,
     "metadata": {},
     "output_type": "execute_result"
    }
   ],
   "source": [
    "frame['State'].head(5) # альтернативный вызов колонки"
   ]
  },
  {
   "cell_type": "code",
   "execution_count": 13,
   "metadata": {
    "hidden": true
   },
   "outputs": [
    {
     "data": {
      "text/plain": [
       "pandas.core.series.Series"
      ]
     },
     "execution_count": 13,
     "metadata": {},
     "output_type": "execute_result"
    }
   ],
   "source": [
    "type(frame.Time)          #вызов как Series"
   ]
  },
  {
   "cell_type": "code",
   "execution_count": 29,
   "metadata": {
    "ExecuteTime": {
     "end_time": "2019-09-06T00:24:07.493994Z",
     "start_time": "2019-09-06T00:24:07.487997Z"
    },
    "hidden": true
   },
   "outputs": [
    {
     "data": {
      "text/plain": [
       "pandas.core.series.Series"
      ]
     },
     "execution_count": 29,
     "metadata": {},
     "output_type": "execute_result"
    }
   ],
   "source": [
    "type(frame['State'])      #вызов как Series"
   ]
  },
  {
   "cell_type": "code",
   "execution_count": 32,
   "metadata": {
    "ExecuteTime": {
     "end_time": "2019-09-06T00:24:56.988376Z",
     "start_time": "2019-09-06T00:24:56.981366Z"
    },
    "hidden": true
   },
   "outputs": [
    {
     "data": {
      "text/plain": [
       "0    KS\n",
       "1    OH\n",
       "2    NJ\n",
       "Name: State, dtype: object"
      ]
     },
     "execution_count": 32,
     "metadata": {},
     "output_type": "execute_result"
    }
   ],
   "source": [
    "frame['State'].head(3)    #вызов как Series"
   ]
  },
  {
   "cell_type": "code",
   "execution_count": 28,
   "metadata": {
    "ExecuteTime": {
     "end_time": "2019-09-06T00:23:49.442916Z",
     "start_time": "2019-09-06T00:23:49.435912Z"
    },
    "hidden": true
   },
   "outputs": [
    {
     "data": {
      "text/plain": [
       "pandas.core.frame.DataFrame"
      ]
     },
     "execution_count": 28,
     "metadata": {},
     "output_type": "execute_result"
    }
   ],
   "source": [
    "type(frame[['State']])     #вызов как DataFrame "
   ]
  },
  {
   "cell_type": "code",
   "execution_count": 30,
   "metadata": {
    "ExecuteTime": {
     "end_time": "2019-09-06T00:24:38.340903Z",
     "start_time": "2019-09-06T00:24:38.329912Z"
    },
    "hidden": true
   },
   "outputs": [
    {
     "data": {
      "text/html": [
       "<div>\n",
       "<style scoped>\n",
       "    .dataframe tbody tr th:only-of-type {\n",
       "        vertical-align: middle;\n",
       "    }\n",
       "\n",
       "    .dataframe tbody tr th {\n",
       "        vertical-align: top;\n",
       "    }\n",
       "\n",
       "    .dataframe thead th {\n",
       "        text-align: right;\n",
       "    }\n",
       "</style>\n",
       "<table border=\"1\" class=\"dataframe\">\n",
       "  <thead>\n",
       "    <tr style=\"text-align: right;\">\n",
       "      <th></th>\n",
       "      <th>State</th>\n",
       "    </tr>\n",
       "  </thead>\n",
       "  <tbody>\n",
       "    <tr>\n",
       "      <th>0</th>\n",
       "      <td>KS</td>\n",
       "    </tr>\n",
       "    <tr>\n",
       "      <th>1</th>\n",
       "      <td>OH</td>\n",
       "    </tr>\n",
       "    <tr>\n",
       "      <th>2</th>\n",
       "      <td>NJ</td>\n",
       "    </tr>\n",
       "  </tbody>\n",
       "</table>\n",
       "</div>"
      ],
      "text/plain": [
       "  State\n",
       "0    KS\n",
       "1    OH\n",
       "2    NJ"
      ]
     },
     "execution_count": 30,
     "metadata": {},
     "output_type": "execute_result"
    }
   ],
   "source": [
    "frame[['State']].head(3)              #вызов как DataFrame"
   ]
  },
  {
   "cell_type": "code",
   "execution_count": 33,
   "metadata": {
    "ExecuteTime": {
     "end_time": "2019-09-06T00:29:13.054887Z",
     "start_time": "2019-09-06T00:29:13.045890Z"
    },
    "hidden": true
   },
   "outputs": [
    {
     "data": {
      "text/html": [
       "<div>\n",
       "<style scoped>\n",
       "    .dataframe tbody tr th:only-of-type {\n",
       "        vertical-align: middle;\n",
       "    }\n",
       "\n",
       "    .dataframe tbody tr th {\n",
       "        vertical-align: top;\n",
       "    }\n",
       "\n",
       "    .dataframe thead th {\n",
       "        text-align: right;\n",
       "    }\n",
       "</style>\n",
       "<table border=\"1\" class=\"dataframe\">\n",
       "  <thead>\n",
       "    <tr style=\"text-align: right;\">\n",
       "      <th></th>\n",
       "      <th>State</th>\n",
       "      <th>Area code</th>\n",
       "    </tr>\n",
       "  </thead>\n",
       "  <tbody>\n",
       "    <tr>\n",
       "      <th>0</th>\n",
       "      <td>KS</td>\n",
       "      <td>415</td>\n",
       "    </tr>\n",
       "    <tr>\n",
       "      <th>1</th>\n",
       "      <td>OH</td>\n",
       "      <td>415</td>\n",
       "    </tr>\n",
       "    <tr>\n",
       "      <th>2</th>\n",
       "      <td>NJ</td>\n",
       "      <td>415</td>\n",
       "    </tr>\n",
       "  </tbody>\n",
       "</table>\n",
       "</div>"
      ],
      "text/plain": [
       "  State  Area code\n",
       "0    KS        415\n",
       "1    OH        415\n",
       "2    NJ        415"
      ]
     },
     "execution_count": 33,
     "metadata": {},
     "output_type": "execute_result"
    }
   ],
   "source": [
    "frame[['State', 'Area code']].head(3)  # передает DataFrame из указанных колонок(указаных в list)"
   ]
  },
  {
   "cell_type": "markdown",
   "metadata": {
    "hidden": true
   },
   "source": [
    "### Save csv"
   ]
  },
  {
   "cell_type": "code",
   "execution_count": 89,
   "metadata": {
    "hidden": true
   },
   "outputs": [],
   "source": [
    "dt.to_csv('dt.csv', sep=' ', header = True, index=None)"
   ]
  },
  {
   "cell_type": "markdown",
   "metadata": {
    "hidden": true
   },
   "source": [
    "`to_csv(path_or_buf=None, sep=', ', na_rep='', float_format=None, columns=None, header=True, index=True, index_label=None, mode='w', encoding=None, compression=None, quoting=None, quotechar='\"', line_terminator='\\n', chunksize=None, tupleize_cols=None, date_format=None, doublequote=True, escapechar=None, decimal='.')` - [документация](https://pandas.pydata.org/pandas-docs/stable/generated/pandas.DataFrame.to_csv.html)\n",
    "\n",
    "Те сохраняет в ту папу, где ты сейчас (в той, откуда вызвал изначальный список)"
   ]
  },
  {
   "cell_type": "code",
   "execution_count": 100,
   "metadata": {
    "hidden": true
   },
   "outputs": [
    {
     "name": "stdout",
     "output_type": "stream",
     "text": [
      "Sqrt YYY\n",
      "0 \n",
      "1 ol\n",
      "9 ololol\n",
      "16 olololol\n",
      "25 ololololol\n",
      "36 olololololol\n",
      "64 olololololololol\n",
      "81 ololololololololol\n"
     ]
    }
   ],
   "source": [
    "!type C:\\Trash\\JupyterStash\\dt.csv"
   ]
  },
  {
   "cell_type": "markdown",
   "metadata": {
    "hidden": true
   },
   "source": [
    "----"
   ]
  },
  {
   "cell_type": "markdown",
   "metadata": {
    "hidden": true
   },
   "source": [
    "### copy DataFrame"
   ]
  },
  {
   "cell_type": "code",
   "execution_count": 63,
   "metadata": {
    "ExecuteTime": {
     "end_time": "2019-02-24T03:13:12.892433Z",
     "start_time": "2019-02-24T03:13:12.889426Z"
    },
    "hidden": true
   },
   "outputs": [],
   "source": [
    "# copy DataFrame\n",
    "# 1st way\n",
    "new_frame = frame[:]"
   ]
  },
  {
   "cell_type": "code",
   "execution_count": 64,
   "metadata": {
    "ExecuteTime": {
     "end_time": "2019-02-24T03:13:26.346293Z",
     "start_time": "2019-02-24T03:13:26.343295Z"
    },
    "hidden": true
   },
   "outputs": [],
   "source": [
    "# 2nd way\n",
    "new_frame = frame.copy()"
   ]
  },
  {
   "cell_type": "markdown",
   "metadata": {
    "heading_collapsed": true
   },
   "source": [
    "## Append, add and delete (drop)"
   ]
  },
  {
   "cell_type": "markdown",
   "metadata": {
    "hidden": true
   },
   "source": [
    "#### 1 способ: `df.append()`(новые строки) и конкетирование (новые стобцы)"
   ]
  },
  {
   "cell_type": "markdown",
   "metadata": {
    "hidden": true
   },
   "source": [
    "**Add row**"
   ]
  },
  {
   "cell_type": "code",
   "execution_count": 61,
   "metadata": {
    "hidden": true
   },
   "outputs": [],
   "source": [
    "new_line = {'Date': '2018-10-1', 'Transaction': '2', 'Item': 'whatever w/ tea'}"
   ]
  },
  {
   "cell_type": "code",
   "execution_count": 62,
   "metadata": {
    "hidden": true
   },
   "outputs": [],
   "source": [
    "fr=fr.append(new_line, ignore_index=True) "
   ]
  },
  {
   "cell_type": "markdown",
   "metadata": {
    "hidden": true
   },
   "source": [
    "`pd.append(other, ignore_index=False, verify_integrity=False, sort=None)` - [документация](https://pandas.pydata.org/pandas-docs/stable/generated/pandas.DataFrame.append.html)  \n",
    "`other` - присоединит *DataFrame or Series/dict-like object, or list of these*  \n",
    "`ignore_index` - True: проигнорирует индексы в DataFrame и просиединит в конец. False: присоединит в соответствии с инддексами"
   ]
  },
  {
   "cell_type": "code",
   "execution_count": 63,
   "metadata": {
    "hidden": true,
    "scrolled": false
   },
   "outputs": [
    {
     "data": {
      "text/html": [
       "<div>\n",
       "<style scoped>\n",
       "    .dataframe tbody tr th:only-of-type {\n",
       "        vertical-align: middle;\n",
       "    }\n",
       "\n",
       "    .dataframe tbody tr th {\n",
       "        vertical-align: top;\n",
       "    }\n",
       "\n",
       "    .dataframe thead th {\n",
       "        text-align: right;\n",
       "    }\n",
       "</style>\n",
       "<table border=\"1\" class=\"dataframe\">\n",
       "  <thead>\n",
       "    <tr style=\"text-align: right;\">\n",
       "      <th></th>\n",
       "      <th>Date</th>\n",
       "      <th>Time</th>\n",
       "      <th>Transaction</th>\n",
       "      <th>Item</th>\n",
       "    </tr>\n",
       "  </thead>\n",
       "  <tbody>\n",
       "    <tr>\n",
       "      <th>21289</th>\n",
       "      <td>2017-04-09</td>\n",
       "      <td>14:32:58</td>\n",
       "      <td>9682</td>\n",
       "      <td>Tea</td>\n",
       "    </tr>\n",
       "    <tr>\n",
       "      <th>21290</th>\n",
       "      <td>2017-04-09</td>\n",
       "      <td>14:57:06</td>\n",
       "      <td>9683</td>\n",
       "      <td>Coffee</td>\n",
       "    </tr>\n",
       "    <tr>\n",
       "      <th>21291</th>\n",
       "      <td>2017-04-09</td>\n",
       "      <td>14:57:06</td>\n",
       "      <td>9683</td>\n",
       "      <td>Pastry</td>\n",
       "    </tr>\n",
       "    <tr>\n",
       "      <th>21292</th>\n",
       "      <td>2017-04-09</td>\n",
       "      <td>15:04:24</td>\n",
       "      <td>9684</td>\n",
       "      <td>Smoothies</td>\n",
       "    </tr>\n",
       "    <tr>\n",
       "      <th>21293</th>\n",
       "      <td>2018-10-1</td>\n",
       "      <td>NaN</td>\n",
       "      <td>2</td>\n",
       "      <td>whatever w/ tea</td>\n",
       "    </tr>\n",
       "  </tbody>\n",
       "</table>\n",
       "</div>"
      ],
      "text/plain": [
       "             Date      Time Transaction             Item\n",
       "21289  2017-04-09  14:32:58        9682              Tea\n",
       "21290  2017-04-09  14:57:06        9683           Coffee\n",
       "21291  2017-04-09  14:57:06        9683           Pastry\n",
       "21292  2017-04-09  15:04:24        9684        Smoothies\n",
       "21293   2018-10-1       NaN           2  whatever w/ tea"
      ]
     },
     "execution_count": 63,
     "metadata": {},
     "output_type": "execute_result"
    }
   ],
   "source": [
    "fr.tail()  # NaN присвоится, если ничего не задано"
   ]
  },
  {
   "cell_type": "markdown",
   "metadata": {
    "hidden": true
   },
   "source": [
    "**Add column**"
   ]
  },
  {
   "cell_type": "code",
   "execution_count": 39,
   "metadata": {
    "ExecuteTime": {
     "end_time": "2019-09-06T00:42:56.403778Z",
     "start_time": "2019-09-06T00:42:56.344813Z"
    },
    "hidden": true
   },
   "outputs": [
    {
     "data": {
      "text/html": [
       "<div>\n",
       "<style scoped>\n",
       "    .dataframe tbody tr th:only-of-type {\n",
       "        vertical-align: middle;\n",
       "    }\n",
       "\n",
       "    .dataframe tbody tr th {\n",
       "        vertical-align: top;\n",
       "    }\n",
       "\n",
       "    .dataframe thead th {\n",
       "        text-align: right;\n",
       "    }\n",
       "</style>\n",
       "<table border=\"1\" class=\"dataframe\">\n",
       "  <thead>\n",
       "    <tr style=\"text-align: right;\">\n",
       "      <th></th>\n",
       "      <th>Sqrt</th>\n",
       "      <th>XXX</th>\n",
       "      <th>YYY</th>\n",
       "    </tr>\n",
       "  </thead>\n",
       "  <tbody>\n",
       "    <tr>\n",
       "      <th>0</th>\n",
       "      <td>0</td>\n",
       "      <td>a</td>\n",
       "      <td></td>\n",
       "    </tr>\n",
       "    <tr>\n",
       "      <th>1</th>\n",
       "      <td>1</td>\n",
       "      <td>a</td>\n",
       "      <td>ol</td>\n",
       "    </tr>\n",
       "    <tr>\n",
       "      <th>2</th>\n",
       "      <td>4</td>\n",
       "      <td>a</td>\n",
       "      <td>olol</td>\n",
       "    </tr>\n",
       "    <tr>\n",
       "      <th>3</th>\n",
       "      <td>9</td>\n",
       "      <td>a</td>\n",
       "      <td>ololol</td>\n",
       "    </tr>\n",
       "    <tr>\n",
       "      <th>4</th>\n",
       "      <td>16</td>\n",
       "      <td>a</td>\n",
       "      <td>olololol</td>\n",
       "    </tr>\n",
       "  </tbody>\n",
       "</table>\n",
       "</div>"
      ],
      "text/plain": [
       "   Sqrt XXX       YYY\n",
       "0     0   a          \n",
       "1     1   a        ol\n",
       "2     4   a      olol\n",
       "3     9   a    ololol\n",
       "4    16   a  olololol"
      ]
     },
     "execution_count": 39,
     "metadata": {},
     "output_type": "execute_result"
    }
   ],
   "source": [
    "new_col = ['ol'*x for x in range(10)]\n",
    "dt['YYY']=new_col\n",
    "dt.head()"
   ]
  },
  {
   "cell_type": "markdown",
   "metadata": {
    "hidden": true
   },
   "source": [
    "To add new column call ```dt['name'] = column```, здесь значение для column в list\n",
    "\n",
    "---"
   ]
  },
  {
   "cell_type": "markdown",
   "metadata": {
    "hidden": true
   },
   "source": [
    "Таким образом можно \"вырезать\" столбцы и создавать новые DataFrame"
   ]
  },
  {
   "cell_type": "code",
   "execution_count": 41,
   "metadata": {
    "ExecuteTime": {
     "end_time": "2019-09-06T00:45:42.065662Z",
     "start_time": "2019-09-06T00:45:42.056679Z"
    },
    "hidden": true,
    "scrolled": false
   },
   "outputs": [
    {
     "data": {
      "text/html": [
       "<div>\n",
       "<style scoped>\n",
       "    .dataframe tbody tr th:only-of-type {\n",
       "        vertical-align: middle;\n",
       "    }\n",
       "\n",
       "    .dataframe tbody tr th {\n",
       "        vertical-align: top;\n",
       "    }\n",
       "\n",
       "    .dataframe thead th {\n",
       "        text-align: right;\n",
       "    }\n",
       "</style>\n",
       "<table border=\"1\" class=\"dataframe\">\n",
       "  <thead>\n",
       "    <tr style=\"text-align: right;\">\n",
       "      <th></th>\n",
       "      <th>Sqrt</th>\n",
       "      <th>YYY</th>\n",
       "    </tr>\n",
       "  </thead>\n",
       "  <tbody>\n",
       "    <tr>\n",
       "      <th>0</th>\n",
       "      <td>0</td>\n",
       "      <td></td>\n",
       "    </tr>\n",
       "    <tr>\n",
       "      <th>1</th>\n",
       "      <td>1</td>\n",
       "      <td>ol</td>\n",
       "    </tr>\n",
       "    <tr>\n",
       "      <th>2</th>\n",
       "      <td>4</td>\n",
       "      <td>olol</td>\n",
       "    </tr>\n",
       "    <tr>\n",
       "      <th>3</th>\n",
       "      <td>9</td>\n",
       "      <td>ololol</td>\n",
       "    </tr>\n",
       "    <tr>\n",
       "      <th>4</th>\n",
       "      <td>16</td>\n",
       "      <td>olololol</td>\n",
       "    </tr>\n",
       "  </tbody>\n",
       "</table>\n",
       "</div>"
      ],
      "text/plain": [
       "   Sqrt       YYY\n",
       "0     0          \n",
       "1     1        ol\n",
       "2     4      olol\n",
       "3     9    ololol\n",
       "4    16  olololol"
      ]
     },
     "execution_count": 41,
     "metadata": {},
     "output_type": "execute_result"
    }
   ],
   "source": [
    "new_dt = dt[['Sqrt'] + ['YYY']] # те из стобцов Sqrt, XXX и YYY, мы вырезали Sqrt и YYY  \n",
    "new_dt.head()"
   ]
  },
  {
   "cell_type": "markdown",
   "metadata": {
    "hidden": true
   },
   "source": [
    "#### 2 способ: `df.insert()`"
   ]
  },
  {
   "cell_type": "code",
   "execution_count": 34,
   "metadata": {
    "ExecuteTime": {
     "end_time": "2019-09-06T00:35:17.879516Z",
     "start_time": "2019-09-06T00:35:17.809554Z"
    },
    "hidden": true
   },
   "outputs": [],
   "source": [
    "frame.insert(loc=(len(frame.columns)-1), column='Whats up', value=[i*2 for i in range(len(frame))])"
   ]
  },
  {
   "cell_type": "markdown",
   "metadata": {
    "hidden": true
   },
   "source": [
    "Вставляем колонку 'Whats up' со значениями `value` как предпоследнюю колонку `(len(frame.columns)-1)`"
   ]
  },
  {
   "cell_type": "code",
   "execution_count": 42,
   "metadata": {
    "ExecuteTime": {
     "end_time": "2019-09-06T00:54:42.286102Z",
     "start_time": "2019-09-06T00:54:42.251110Z"
    },
    "hidden": true
   },
   "outputs": [
    {
     "data": {
      "text/html": [
       "<div>\n",
       "<style scoped>\n",
       "    .dataframe tbody tr th:only-of-type {\n",
       "        vertical-align: middle;\n",
       "    }\n",
       "\n",
       "    .dataframe tbody tr th {\n",
       "        vertical-align: top;\n",
       "    }\n",
       "\n",
       "    .dataframe thead th {\n",
       "        text-align: right;\n",
       "    }\n",
       "</style>\n",
       "<table border=\"1\" class=\"dataframe\">\n",
       "  <thead>\n",
       "    <tr style=\"text-align: right;\">\n",
       "      <th></th>\n",
       "      <th>Total intl calls</th>\n",
       "      <th>Total intl charge</th>\n",
       "      <th>Customer service calls</th>\n",
       "      <th>Whats up</th>\n",
       "      <th>Churn</th>\n",
       "    </tr>\n",
       "  </thead>\n",
       "  <tbody>\n",
       "    <tr>\n",
       "      <th>0</th>\n",
       "      <td>3</td>\n",
       "      <td>2.70</td>\n",
       "      <td>1</td>\n",
       "      <td>0</td>\n",
       "      <td>False</td>\n",
       "    </tr>\n",
       "    <tr>\n",
       "      <th>1</th>\n",
       "      <td>3</td>\n",
       "      <td>3.70</td>\n",
       "      <td>1</td>\n",
       "      <td>2</td>\n",
       "      <td>False</td>\n",
       "    </tr>\n",
       "    <tr>\n",
       "      <th>2</th>\n",
       "      <td>5</td>\n",
       "      <td>3.29</td>\n",
       "      <td>0</td>\n",
       "      <td>4</td>\n",
       "      <td>False</td>\n",
       "    </tr>\n",
       "    <tr>\n",
       "      <th>3</th>\n",
       "      <td>7</td>\n",
       "      <td>1.78</td>\n",
       "      <td>2</td>\n",
       "      <td>6</td>\n",
       "      <td>False</td>\n",
       "    </tr>\n",
       "  </tbody>\n",
       "</table>\n",
       "</div>"
      ],
      "text/plain": [
       "   Total intl calls  Total intl charge  Customer service calls  Whats up  \\\n",
       "0                 3               2.70                       1         0   \n",
       "1                 3               3.70                       1         2   \n",
       "2                 5               3.29                       0         4   \n",
       "3                 7               1.78                       2         6   \n",
       "\n",
       "   Churn  \n",
       "0  False  \n",
       "1  False  \n",
       "2  False  \n",
       "3  False  "
      ]
     },
     "execution_count": 42,
     "metadata": {},
     "output_type": "execute_result"
    }
   ],
   "source": [
    "frame.loc[0:3,'Total intl calls':]  # срез последних нескольких стобцов"
   ]
  },
  {
   "cell_type": "markdown",
   "metadata": {
    "hidden": true
   },
   "source": [
    "```frame.insert(loc, column, value)``` - другой способ   \n",
    "`loc=` -  указываешь # индекс куда встравить (колонка)  \n",
    "`column` - имя столбца  \n",
    "`value` - Series, array, list - колонка которую вствить  "
   ]
  },
  {
   "cell_type": "markdown",
   "metadata": {
    "hidden": true
   },
   "source": [
    "#### Delete"
   ]
  },
  {
   "cell_type": "code",
   "execution_count": 44,
   "metadata": {
    "ExecuteTime": {
     "end_time": "2019-09-06T00:55:53.312573Z",
     "start_time": "2019-09-06T00:55:53.282589Z"
    },
    "hidden": true
   },
   "outputs": [],
   "source": [
    "dt.drop([2,7], axis=0, inplace = True)    # axis = 0   -  rows"
   ]
  },
  {
   "cell_type": "code",
   "execution_count": 43,
   "metadata": {
    "ExecuteTime": {
     "end_time": "2019-09-06T00:55:51.107174Z",
     "start_time": "2019-09-06T00:55:51.087172Z"
    },
    "hidden": true
   },
   "outputs": [],
   "source": [
    "dt.drop('XXX', axis=1, inplace = True)    # axis = 1   -  columns"
   ]
  },
  {
   "cell_type": "code",
   "execution_count": 46,
   "metadata": {
    "ExecuteTime": {
     "end_time": "2019-09-06T00:56:28.007494Z",
     "start_time": "2019-09-06T00:56:28.000507Z"
    },
    "hidden": true
   },
   "outputs": [
    {
     "data": {
      "text/html": [
       "<div>\n",
       "<style scoped>\n",
       "    .dataframe tbody tr th:only-of-type {\n",
       "        vertical-align: middle;\n",
       "    }\n",
       "\n",
       "    .dataframe tbody tr th {\n",
       "        vertical-align: top;\n",
       "    }\n",
       "\n",
       "    .dataframe thead th {\n",
       "        text-align: right;\n",
       "    }\n",
       "</style>\n",
       "<table border=\"1\" class=\"dataframe\">\n",
       "  <thead>\n",
       "    <tr style=\"text-align: right;\">\n",
       "      <th></th>\n",
       "      <th>Sqrt</th>\n",
       "      <th>YYY</th>\n",
       "    </tr>\n",
       "  </thead>\n",
       "  <tbody>\n",
       "    <tr>\n",
       "      <th>0</th>\n",
       "      <td>0</td>\n",
       "      <td></td>\n",
       "    </tr>\n",
       "    <tr>\n",
       "      <th>1</th>\n",
       "      <td>1</td>\n",
       "      <td>ol</td>\n",
       "    </tr>\n",
       "    <tr>\n",
       "      <th>3</th>\n",
       "      <td>9</td>\n",
       "      <td>ololol</td>\n",
       "    </tr>\n",
       "  </tbody>\n",
       "</table>\n",
       "</div>"
      ],
      "text/plain": [
       "   Sqrt     YYY\n",
       "0     0        \n",
       "1     1      ol\n",
       "3     9  ololol"
      ]
     },
     "execution_count": 46,
     "metadata": {},
     "output_type": "execute_result"
    }
   ],
   "source": [
    "dt.head(3)                               # row 2 (and 7) and column XXX were deleted"
   ]
  },
  {
   "cell_type": "markdown",
   "metadata": {
    "hidden": true
   },
   "source": [
    "`DataFrame.drop(labels=None, axis=0, index=None, columns=None, level=None, inplace=False, errors='raise')` - [документация](https://pandas.pydata.org/pandas-docs/stable/generated/pandas.DataFrame.drop.html)  \n",
    "`label` - list of targets(либо индексы ряда/рядов, либо названия столбца/столбцов для удаления)  \n",
    "`axis` - 0: for indexes (rows), 1: for columns.  \n",
    "`inpalce` - True: перепишет dataframe, False: только выведет результат, не перепишет  \n",
    "`index` & `columns` - альтернативная задача таргета (labels, axis=1 is equivalent to columns=labels)"
   ]
  },
  {
   "cell_type": "markdown",
   "metadata": {},
   "source": [
    "## Apply, map and replace"
   ]
  },
  {
   "cell_type": "markdown",
   "metadata": {},
   "source": [
    "#### Apply\n",
    "**Apply** - применяет функцию ко всем столбцам(дефолт) или строкам "
   ]
  },
  {
   "cell_type": "markdown",
   "metadata": {},
   "source": [
    "**Пример 1**"
   ]
  },
  {
   "cell_type": "code",
   "execution_count": 6,
   "metadata": {},
   "outputs": [],
   "source": [
    "other_frame.Date=frame.Date.apply(pd.to_datetime)  #datetime - это NumPy объекты нужун для удобной работы со временем"
   ]
  },
  {
   "cell_type": "code",
   "execution_count": 21,
   "metadata": {},
   "outputs": [
    {
     "data": {
      "text/plain": [
       "0   2018-11-22 09:58:11\n",
       "1   2018-11-22 10:05:34\n",
       "2   2018-11-22 10:05:34\n",
       "3   2018-11-22 10:07:57\n",
       "4   2018-11-22 10:07:57\n",
       "Name: Time, dtype: datetime64[ns]"
      ]
     },
     "execution_count": 21,
     "metadata": {},
     "output_type": "execute_result"
    }
   ],
   "source": [
    "other_frame.Time.head(5)"
   ]
  },
  {
   "cell_type": "markdown",
   "metadata": {},
   "source": [
    "`pd.apply(func, axis=0, broadcast=False, raw=False, reduce=None, args=(), **kwds)` - [документ](https://pandas.pydata.org/pandas-docs/version/0.17/generated/pandas.DataFrame.apply.html)  \n",
    "`axis=0` = apply to index, те к каждой колонке (default)  \n",
    "`axis=1` = apply to row, те к каждый строке "
   ]
  },
  {
   "cell_type": "markdown",
   "metadata": {},
   "source": [
    "**Пример 2**"
   ]
  },
  {
   "cell_type": "code",
   "execution_count": 48,
   "metadata": {
    "ExecuteTime": {
     "end_time": "2019-09-06T01:00:37.622285Z",
     "start_time": "2019-09-06T01:00:37.353377Z"
    }
   },
   "outputs": [
    {
     "data": {
      "text/plain": [
       "State                        WY\n",
       "Account length              243\n",
       "Area code                   510\n",
       "International plan          Yes\n",
       "Voice mail plan             Yes\n",
       "Number vmail messages        51\n",
       "Total day minutes         350.8\n",
       "Total day calls             165\n",
       "Total day charge          59.64\n",
       "Total eve minutes         363.7\n",
       "Total eve calls             170\n",
       "Total eve charge          30.91\n",
       "Total night minutes         395\n",
       "Total night calls           175\n",
       "Total night charge        17.77\n",
       "Total intl minutes           20\n",
       "Total intl calls             20\n",
       "Total intl charge           5.4\n",
       "Customer service calls        9\n",
       "Whats up                   6664\n",
       "Churn                      True\n",
       "dtype: object"
      ]
     },
     "execution_count": 48,
     "metadata": {},
     "output_type": "execute_result"
    }
   ],
   "source": [
    "frame.apply(np.max) "
   ]
  },
  {
   "cell_type": "markdown",
   "metadata": {},
   "source": [
    "**Пример 3**  \n",
    "Вывести инфо про все штаты, начинающиеся с W."
   ]
  },
  {
   "cell_type": "code",
   "execution_count": 53,
   "metadata": {
    "ExecuteTime": {
     "end_time": "2019-09-06T01:03:23.914381Z",
     "start_time": "2019-09-06T01:03:23.853417Z"
    }
   },
   "outputs": [
    {
     "data": {
      "text/html": [
       "<div>\n",
       "<style scoped>\n",
       "    .dataframe tbody tr th:only-of-type {\n",
       "        vertical-align: middle;\n",
       "    }\n",
       "\n",
       "    .dataframe tbody tr th {\n",
       "        vertical-align: top;\n",
       "    }\n",
       "\n",
       "    .dataframe thead th {\n",
       "        text-align: right;\n",
       "    }\n",
       "</style>\n",
       "<table border=\"1\" class=\"dataframe\">\n",
       "  <thead>\n",
       "    <tr style=\"text-align: right;\">\n",
       "      <th></th>\n",
       "      <th>State</th>\n",
       "      <th>Account length</th>\n",
       "      <th>Area code</th>\n",
       "      <th>International plan</th>\n",
       "      <th>Voice mail plan</th>\n",
       "      <th>Number vmail messages</th>\n",
       "      <th>Total day minutes</th>\n",
       "      <th>Total day calls</th>\n",
       "      <th>Total day charge</th>\n",
       "      <th>Total eve minutes</th>\n",
       "      <th>...</th>\n",
       "      <th>Total eve charge</th>\n",
       "      <th>Total night minutes</th>\n",
       "      <th>Total night calls</th>\n",
       "      <th>Total night charge</th>\n",
       "      <th>Total intl minutes</th>\n",
       "      <th>Total intl calls</th>\n",
       "      <th>Total intl charge</th>\n",
       "      <th>Customer service calls</th>\n",
       "      <th>Whats up</th>\n",
       "      <th>Churn</th>\n",
       "    </tr>\n",
       "  </thead>\n",
       "  <tbody>\n",
       "    <tr>\n",
       "      <th>9</th>\n",
       "      <td>WV</td>\n",
       "      <td>141</td>\n",
       "      <td>415</td>\n",
       "      <td>Yes</td>\n",
       "      <td>Yes</td>\n",
       "      <td>37</td>\n",
       "      <td>258.6</td>\n",
       "      <td>84</td>\n",
       "      <td>43.96</td>\n",
       "      <td>222.0</td>\n",
       "      <td>...</td>\n",
       "      <td>18.87</td>\n",
       "      <td>326.4</td>\n",
       "      <td>97</td>\n",
       "      <td>14.69</td>\n",
       "      <td>11.2</td>\n",
       "      <td>5</td>\n",
       "      <td>3.02</td>\n",
       "      <td>0</td>\n",
       "      <td>18</td>\n",
       "      <td>False</td>\n",
       "    </tr>\n",
       "    <tr>\n",
       "      <th>26</th>\n",
       "      <td>WY</td>\n",
       "      <td>57</td>\n",
       "      <td>408</td>\n",
       "      <td>No</td>\n",
       "      <td>Yes</td>\n",
       "      <td>39</td>\n",
       "      <td>213.0</td>\n",
       "      <td>115</td>\n",
       "      <td>36.21</td>\n",
       "      <td>191.1</td>\n",
       "      <td>...</td>\n",
       "      <td>16.24</td>\n",
       "      <td>182.7</td>\n",
       "      <td>115</td>\n",
       "      <td>8.22</td>\n",
       "      <td>9.5</td>\n",
       "      <td>3</td>\n",
       "      <td>2.57</td>\n",
       "      <td>0</td>\n",
       "      <td>52</td>\n",
       "      <td>False</td>\n",
       "    </tr>\n",
       "    <tr>\n",
       "      <th>44</th>\n",
       "      <td>WI</td>\n",
       "      <td>64</td>\n",
       "      <td>510</td>\n",
       "      <td>No</td>\n",
       "      <td>No</td>\n",
       "      <td>0</td>\n",
       "      <td>154.0</td>\n",
       "      <td>67</td>\n",
       "      <td>26.18</td>\n",
       "      <td>225.8</td>\n",
       "      <td>...</td>\n",
       "      <td>19.19</td>\n",
       "      <td>265.3</td>\n",
       "      <td>86</td>\n",
       "      <td>11.94</td>\n",
       "      <td>3.5</td>\n",
       "      <td>3</td>\n",
       "      <td>0.95</td>\n",
       "      <td>1</td>\n",
       "      <td>88</td>\n",
       "      <td>False</td>\n",
       "    </tr>\n",
       "    <tr>\n",
       "      <th>49</th>\n",
       "      <td>WY</td>\n",
       "      <td>97</td>\n",
       "      <td>415</td>\n",
       "      <td>No</td>\n",
       "      <td>Yes</td>\n",
       "      <td>24</td>\n",
       "      <td>133.2</td>\n",
       "      <td>135</td>\n",
       "      <td>22.64</td>\n",
       "      <td>217.2</td>\n",
       "      <td>...</td>\n",
       "      <td>18.46</td>\n",
       "      <td>70.6</td>\n",
       "      <td>79</td>\n",
       "      <td>3.18</td>\n",
       "      <td>11.0</td>\n",
       "      <td>3</td>\n",
       "      <td>2.97</td>\n",
       "      <td>1</td>\n",
       "      <td>98</td>\n",
       "      <td>False</td>\n",
       "    </tr>\n",
       "    <tr>\n",
       "      <th>54</th>\n",
       "      <td>WY</td>\n",
       "      <td>87</td>\n",
       "      <td>415</td>\n",
       "      <td>No</td>\n",
       "      <td>No</td>\n",
       "      <td>0</td>\n",
       "      <td>151.0</td>\n",
       "      <td>83</td>\n",
       "      <td>25.67</td>\n",
       "      <td>219.7</td>\n",
       "      <td>...</td>\n",
       "      <td>18.67</td>\n",
       "      <td>203.9</td>\n",
       "      <td>127</td>\n",
       "      <td>9.18</td>\n",
       "      <td>9.7</td>\n",
       "      <td>3</td>\n",
       "      <td>2.62</td>\n",
       "      <td>5</td>\n",
       "      <td>108</td>\n",
       "      <td>True</td>\n",
       "    </tr>\n",
       "  </tbody>\n",
       "</table>\n",
       "<p>5 rows × 21 columns</p>\n",
       "</div>"
      ],
      "text/plain": [
       "   State  Account length  Area code International plan Voice mail plan  \\\n",
       "9     WV             141        415                Yes             Yes   \n",
       "26    WY              57        408                 No             Yes   \n",
       "44    WI              64        510                 No              No   \n",
       "49    WY              97        415                 No             Yes   \n",
       "54    WY              87        415                 No              No   \n",
       "\n",
       "    Number vmail messages  Total day minutes  Total day calls  \\\n",
       "9                      37              258.6               84   \n",
       "26                     39              213.0              115   \n",
       "44                      0              154.0               67   \n",
       "49                     24              133.2              135   \n",
       "54                      0              151.0               83   \n",
       "\n",
       "    Total day charge  Total eve minutes  ...  Total eve charge  \\\n",
       "9              43.96              222.0  ...             18.87   \n",
       "26             36.21              191.1  ...             16.24   \n",
       "44             26.18              225.8  ...             19.19   \n",
       "49             22.64              217.2  ...             18.46   \n",
       "54             25.67              219.7  ...             18.67   \n",
       "\n",
       "    Total night minutes  Total night calls  Total night charge  \\\n",
       "9                 326.4                 97               14.69   \n",
       "26                182.7                115                8.22   \n",
       "44                265.3                 86               11.94   \n",
       "49                 70.6                 79                3.18   \n",
       "54                203.9                127                9.18   \n",
       "\n",
       "    Total intl minutes  Total intl calls  Total intl charge  \\\n",
       "9                 11.2                 5               3.02   \n",
       "26                 9.5                 3               2.57   \n",
       "44                 3.5                 3               0.95   \n",
       "49                11.0                 3               2.97   \n",
       "54                 9.7                 3               2.62   \n",
       "\n",
       "    Customer service calls  Whats up  Churn  \n",
       "9                        0        18  False  \n",
       "26                       0        52  False  \n",
       "44                       1        88  False  \n",
       "49                       1        98  False  \n",
       "54                       5       108   True  \n",
       "\n",
       "[5 rows x 21 columns]"
      ]
     },
     "execution_count": 53,
     "metadata": {},
     "output_type": "execute_result"
    }
   ],
   "source": [
    "frame[frame['State'].apply(lambda State: State[0] == 'W')].head()"
   ]
  },
  {
   "cell_type": "markdown",
   "metadata": {},
   "source": [
    "Объяснение: `frame['State'].apply(lambda State: State[0] == 'W')` возвращает Series, в котором True or False соответствуют lambda function (т.е. все штаты начинающиеся с W). Далее, основной frame вызывается через bool (т.е. `df[df['Smth'] == 0]` - логический срез по всем удовлетворяющим bool). Тогда `frame[Series(bool)]` вернет только те результаты, для которых bool - True.  "
   ]
  },
  {
   "cell_type": "code",
   "execution_count": 57,
   "metadata": {
    "ExecuteTime": {
     "end_time": "2019-09-06T01:41:54.439047Z",
     "start_time": "2019-09-06T01:41:54.431061Z"
    }
   },
   "outputs": [
    {
     "data": {
      "text/plain": [
       "pandas.core.series.Series"
      ]
     },
     "execution_count": 57,
     "metadata": {},
     "output_type": "execute_result"
    }
   ],
   "source": [
    "type(frame['State'].apply(lambda State: State[0] == 'W'))"
   ]
  },
  {
   "cell_type": "code",
   "execution_count": 56,
   "metadata": {
    "ExecuteTime": {
     "end_time": "2019-09-06T01:08:01.978305Z",
     "start_time": "2019-09-06T01:08:01.968313Z"
    }
   },
   "outputs": [
    {
     "data": {
      "text/plain": [
       "0    False\n",
       "1    False\n",
       "2    False\n",
       "3    False\n",
       "4    False\n",
       "Name: State, dtype: bool"
      ]
     },
     "execution_count": 56,
     "metadata": {},
     "output_type": "execute_result"
    }
   ],
   "source": [
    "frame['State'].apply(lambda State: State[0] == 'W').head()"
   ]
  },
  {
   "cell_type": "markdown",
   "metadata": {},
   "source": [
    "#### .applymap"
   ]
  },
  {
   "cell_type": "markdown",
   "metadata": {},
   "source": [
    "Summing up, `apply` works on a row / column basis of a DataFrame, `applymap` works element-wise on a DataFrame, and `map` works element-wise on a Series."
   ]
  },
  {
   "cell_type": "markdown",
   "metadata": {},
   "source": [
    "#### Map and replace\n",
    "**map** - заменяет old_value на new_value, переданные в функцию, **replace** - то же самое, только чуть другой синтаксис"
   ]
  },
  {
   "cell_type": "code",
   "execution_count": 58,
   "metadata": {
    "ExecuteTime": {
     "end_time": "2019-09-06T01:52:28.229546Z",
     "start_time": "2019-09-06T01:52:28.191550Z"
    }
   },
   "outputs": [],
   "source": [
    "new_items={'Yes': True , 'No' : False}\n",
    "frame['International plan']=frame['International plan'].map(new_items) \n",
    "# Заменит все Bread в столбце Item на WOW BREAD"
   ]
  },
  {
   "cell_type": "code",
   "execution_count": 60,
   "metadata": {
    "ExecuteTime": {
     "end_time": "2019-09-06T01:52:56.834282Z",
     "start_time": "2019-09-06T01:52:56.827285Z"
    }
   },
   "outputs": [
    {
     "data": {
      "text/plain": [
       "0    False\n",
       "1    False\n",
       "2    False\n",
       "Name: International plan, dtype: bool"
      ]
     },
     "execution_count": 60,
     "metadata": {},
     "output_type": "execute_result"
    }
   ],
   "source": [
    "frame['International plan'].head(3)"
   ]
  },
  {
   "cell_type": "markdown",
   "metadata": {},
   "source": [
    "`pd.map(arg, na_action=None)` - заменяет все значения заданые в `arg`по принципу `dict={old_value: new_value}`  \n",
    "`arg`- function, dict, or Series.  \n",
    "**правда, если в dict не указаны new_values для old_value, то их заменит на NaN** - т.е. если я не учел все old_values, то вместо них будет NaN. Поэтому иногда лучше испльзовать `.replace()`"
   ]
  },
  {
   "cell_type": "markdown",
   "metadata": {},
   "source": [
    "**None = NaN** когда хочешь убрать NaN values use `pd.replace({None : 0(or whatever)})`"
   ]
  },
  {
   "cell_type": "code",
   "execution_count": 63,
   "metadata": {
    "ExecuteTime": {
     "end_time": "2019-09-06T01:57:19.186901Z",
     "start_time": "2019-09-06T01:57:19.179904Z"
    }
   },
   "outputs": [
    {
     "data": {
      "text/plain": [
       "0    Kansas\n",
       "1        OH\n",
       "2        NJ\n",
       "3        OH\n",
       "4        OK\n",
       "Name: State, dtype: object"
      ]
     },
     "execution_count": 63,
     "metadata": {},
     "output_type": "execute_result"
    }
   ],
   "source": [
    "frame['State'].replace({'KS': 'Kansas'}).head()   # ничего не будет потеряно как в случаии с .map({old_value: new_value})"
   ]
  },
  {
   "cell_type": "markdown",
   "metadata": {},
   "source": [
    "`replace(to_replace=None, value=None, inplace=False, limit=None, regex=False, method='pad')` - [док](https://pandas.pydata.org/pandas-docs/stable/generated/pandas.DataFrame.replace.html)  \n",
    "`to_replace : str, regex, list, dict, Series, int, float, or None` - тут передали dict  \n",
    "Аналогично `pd.map`."
   ]
  },
  {
   "cell_type": "markdown",
   "metadata": {},
   "source": [
    "## Selection and cleaning"
   ]
  },
  {
   "cell_type": "markdown",
   "metadata": {},
   "source": [
    "### DataFrame to Numpy array"
   ]
  },
  {
   "cell_type": "markdown",
   "metadata": {},
   "source": [
    "Есть опция перевести DataFrame в NumPy: \n",
    "[Документация](https://pandas.pydata.org/pandas-docs/stable/reference/api/pandas.DataFrame.to_numpy.html#pandas.DataFrame.to_numpy)  \n",
    "`df.to_numpy()`  \n",
    "**NumPy arrays have one dtype for the entire array, while pandas DataFrames have one dtype per column**  \n",
    "\n",
    "Тогда можно будет использовать все прелести Numpy такие как операции над матрицами и линал. Например:\n",
    "`df.to_numpy().T` - Transposing data"
   ]
  },
  {
   "cell_type": "markdown",
   "metadata": {},
   "source": [
    "### Slicing "
   ]
  },
  {
   "cell_type": "markdown",
   "metadata": {},
   "source": [
    "**Simple (по строкам)**"
   ]
  },
  {
   "cell_type": "code",
   "execution_count": 64,
   "metadata": {
    "ExecuteTime": {
     "end_time": "2019-09-06T02:02:59.302332Z",
     "start_time": "2019-09-06T02:02:59.277350Z"
    }
   },
   "outputs": [
    {
     "data": {
      "text/html": [
       "<div>\n",
       "<style scoped>\n",
       "    .dataframe tbody tr th:only-of-type {\n",
       "        vertical-align: middle;\n",
       "    }\n",
       "\n",
       "    .dataframe tbody tr th {\n",
       "        vertical-align: top;\n",
       "    }\n",
       "\n",
       "    .dataframe thead th {\n",
       "        text-align: right;\n",
       "    }\n",
       "</style>\n",
       "<table border=\"1\" class=\"dataframe\">\n",
       "  <thead>\n",
       "    <tr style=\"text-align: right;\">\n",
       "      <th></th>\n",
       "      <th>State</th>\n",
       "      <th>Account length</th>\n",
       "      <th>Area code</th>\n",
       "      <th>International plan</th>\n",
       "      <th>Voice mail plan</th>\n",
       "      <th>Number vmail messages</th>\n",
       "      <th>Total day minutes</th>\n",
       "      <th>Total day calls</th>\n",
       "      <th>Total day charge</th>\n",
       "      <th>Total eve minutes</th>\n",
       "      <th>...</th>\n",
       "      <th>Total eve charge</th>\n",
       "      <th>Total night minutes</th>\n",
       "      <th>Total night calls</th>\n",
       "      <th>Total night charge</th>\n",
       "      <th>Total intl minutes</th>\n",
       "      <th>Total intl calls</th>\n",
       "      <th>Total intl charge</th>\n",
       "      <th>Customer service calls</th>\n",
       "      <th>Whats up</th>\n",
       "      <th>Churn</th>\n",
       "    </tr>\n",
       "  </thead>\n",
       "  <tbody>\n",
       "    <tr>\n",
       "      <th>0</th>\n",
       "      <td>KS</td>\n",
       "      <td>128</td>\n",
       "      <td>415</td>\n",
       "      <td>False</td>\n",
       "      <td>Yes</td>\n",
       "      <td>25</td>\n",
       "      <td>265.1</td>\n",
       "      <td>110</td>\n",
       "      <td>45.07</td>\n",
       "      <td>197.4</td>\n",
       "      <td>...</td>\n",
       "      <td>16.78</td>\n",
       "      <td>244.7</td>\n",
       "      <td>91</td>\n",
       "      <td>11.01</td>\n",
       "      <td>10.0</td>\n",
       "      <td>3</td>\n",
       "      <td>2.70</td>\n",
       "      <td>1</td>\n",
       "      <td>0</td>\n",
       "      <td>False</td>\n",
       "    </tr>\n",
       "    <tr>\n",
       "      <th>1</th>\n",
       "      <td>OH</td>\n",
       "      <td>107</td>\n",
       "      <td>415</td>\n",
       "      <td>False</td>\n",
       "      <td>Yes</td>\n",
       "      <td>26</td>\n",
       "      <td>161.6</td>\n",
       "      <td>123</td>\n",
       "      <td>27.47</td>\n",
       "      <td>195.5</td>\n",
       "      <td>...</td>\n",
       "      <td>16.62</td>\n",
       "      <td>254.4</td>\n",
       "      <td>103</td>\n",
       "      <td>11.45</td>\n",
       "      <td>13.7</td>\n",
       "      <td>3</td>\n",
       "      <td>3.70</td>\n",
       "      <td>1</td>\n",
       "      <td>2</td>\n",
       "      <td>False</td>\n",
       "    </tr>\n",
       "    <tr>\n",
       "      <th>2</th>\n",
       "      <td>NJ</td>\n",
       "      <td>137</td>\n",
       "      <td>415</td>\n",
       "      <td>False</td>\n",
       "      <td>No</td>\n",
       "      <td>0</td>\n",
       "      <td>243.4</td>\n",
       "      <td>114</td>\n",
       "      <td>41.38</td>\n",
       "      <td>121.2</td>\n",
       "      <td>...</td>\n",
       "      <td>10.30</td>\n",
       "      <td>162.6</td>\n",
       "      <td>104</td>\n",
       "      <td>7.32</td>\n",
       "      <td>12.2</td>\n",
       "      <td>5</td>\n",
       "      <td>3.29</td>\n",
       "      <td>0</td>\n",
       "      <td>4</td>\n",
       "      <td>False</td>\n",
       "    </tr>\n",
       "  </tbody>\n",
       "</table>\n",
       "<p>3 rows × 21 columns</p>\n",
       "</div>"
      ],
      "text/plain": [
       "  State  Account length  Area code  International plan Voice mail plan  \\\n",
       "0    KS             128        415               False             Yes   \n",
       "1    OH             107        415               False             Yes   \n",
       "2    NJ             137        415               False              No   \n",
       "\n",
       "   Number vmail messages  Total day minutes  Total day calls  \\\n",
       "0                     25              265.1              110   \n",
       "1                     26              161.6              123   \n",
       "2                      0              243.4              114   \n",
       "\n",
       "   Total day charge  Total eve minutes  ...  Total eve charge  \\\n",
       "0             45.07              197.4  ...             16.78   \n",
       "1             27.47              195.5  ...             16.62   \n",
       "2             41.38              121.2  ...             10.30   \n",
       "\n",
       "   Total night minutes  Total night calls  Total night charge  \\\n",
       "0                244.7                 91               11.01   \n",
       "1                254.4                103               11.45   \n",
       "2                162.6                104                7.32   \n",
       "\n",
       "   Total intl minutes  Total intl calls  Total intl charge  \\\n",
       "0                10.0                 3               2.70   \n",
       "1                13.7                 3               3.70   \n",
       "2                12.2                 5               3.29   \n",
       "\n",
       "   Customer service calls  Whats up  Churn  \n",
       "0                       1         0  False  \n",
       "1                       1         2  False  \n",
       "2                       0         4  False  \n",
       "\n",
       "[3 rows x 21 columns]"
      ]
     },
     "execution_count": 64,
     "metadata": {},
     "output_type": "execute_result"
    }
   ],
   "source": [
    "frame[:3]   # первые 3 строки"
   ]
  },
  {
   "cell_type": "code",
   "execution_count": 65,
   "metadata": {
    "ExecuteTime": {
     "end_time": "2019-09-06T02:03:01.682254Z",
     "start_time": "2019-09-06T02:03:01.657281Z"
    }
   },
   "outputs": [
    {
     "data": {
      "text/html": [
       "<div>\n",
       "<style scoped>\n",
       "    .dataframe tbody tr th:only-of-type {\n",
       "        vertical-align: middle;\n",
       "    }\n",
       "\n",
       "    .dataframe tbody tr th {\n",
       "        vertical-align: top;\n",
       "    }\n",
       "\n",
       "    .dataframe thead th {\n",
       "        text-align: right;\n",
       "    }\n",
       "</style>\n",
       "<table border=\"1\" class=\"dataframe\">\n",
       "  <thead>\n",
       "    <tr style=\"text-align: right;\">\n",
       "      <th></th>\n",
       "      <th>State</th>\n",
       "      <th>Account length</th>\n",
       "      <th>Area code</th>\n",
       "      <th>International plan</th>\n",
       "      <th>Voice mail plan</th>\n",
       "      <th>Number vmail messages</th>\n",
       "      <th>Total day minutes</th>\n",
       "      <th>Total day calls</th>\n",
       "      <th>Total day charge</th>\n",
       "      <th>Total eve minutes</th>\n",
       "      <th>...</th>\n",
       "      <th>Total eve charge</th>\n",
       "      <th>Total night minutes</th>\n",
       "      <th>Total night calls</th>\n",
       "      <th>Total night charge</th>\n",
       "      <th>Total intl minutes</th>\n",
       "      <th>Total intl calls</th>\n",
       "      <th>Total intl charge</th>\n",
       "      <th>Customer service calls</th>\n",
       "      <th>Whats up</th>\n",
       "      <th>Churn</th>\n",
       "    </tr>\n",
       "  </thead>\n",
       "  <tbody>\n",
       "    <tr>\n",
       "      <th>3330</th>\n",
       "      <td>RI</td>\n",
       "      <td>28</td>\n",
       "      <td>510</td>\n",
       "      <td>False</td>\n",
       "      <td>No</td>\n",
       "      <td>0</td>\n",
       "      <td>180.8</td>\n",
       "      <td>109</td>\n",
       "      <td>30.74</td>\n",
       "      <td>288.8</td>\n",
       "      <td>...</td>\n",
       "      <td>24.55</td>\n",
       "      <td>191.9</td>\n",
       "      <td>91</td>\n",
       "      <td>8.64</td>\n",
       "      <td>14.1</td>\n",
       "      <td>6</td>\n",
       "      <td>3.81</td>\n",
       "      <td>2</td>\n",
       "      <td>6660</td>\n",
       "      <td>False</td>\n",
       "    </tr>\n",
       "    <tr>\n",
       "      <th>3331</th>\n",
       "      <td>CT</td>\n",
       "      <td>184</td>\n",
       "      <td>510</td>\n",
       "      <td>True</td>\n",
       "      <td>No</td>\n",
       "      <td>0</td>\n",
       "      <td>213.8</td>\n",
       "      <td>105</td>\n",
       "      <td>36.35</td>\n",
       "      <td>159.6</td>\n",
       "      <td>...</td>\n",
       "      <td>13.57</td>\n",
       "      <td>139.2</td>\n",
       "      <td>137</td>\n",
       "      <td>6.26</td>\n",
       "      <td>5.0</td>\n",
       "      <td>10</td>\n",
       "      <td>1.35</td>\n",
       "      <td>2</td>\n",
       "      <td>6662</td>\n",
       "      <td>False</td>\n",
       "    </tr>\n",
       "    <tr>\n",
       "      <th>3332</th>\n",
       "      <td>TN</td>\n",
       "      <td>74</td>\n",
       "      <td>415</td>\n",
       "      <td>False</td>\n",
       "      <td>Yes</td>\n",
       "      <td>25</td>\n",
       "      <td>234.4</td>\n",
       "      <td>113</td>\n",
       "      <td>39.85</td>\n",
       "      <td>265.9</td>\n",
       "      <td>...</td>\n",
       "      <td>22.60</td>\n",
       "      <td>241.4</td>\n",
       "      <td>77</td>\n",
       "      <td>10.86</td>\n",
       "      <td>13.7</td>\n",
       "      <td>4</td>\n",
       "      <td>3.70</td>\n",
       "      <td>0</td>\n",
       "      <td>6664</td>\n",
       "      <td>False</td>\n",
       "    </tr>\n",
       "  </tbody>\n",
       "</table>\n",
       "<p>3 rows × 21 columns</p>\n",
       "</div>"
      ],
      "text/plain": [
       "     State  Account length  Area code  International plan Voice mail plan  \\\n",
       "3330    RI              28        510               False              No   \n",
       "3331    CT             184        510                True              No   \n",
       "3332    TN              74        415               False             Yes   \n",
       "\n",
       "      Number vmail messages  Total day minutes  Total day calls  \\\n",
       "3330                      0              180.8              109   \n",
       "3331                      0              213.8              105   \n",
       "3332                     25              234.4              113   \n",
       "\n",
       "      Total day charge  Total eve minutes  ...  Total eve charge  \\\n",
       "3330             30.74              288.8  ...             24.55   \n",
       "3331             36.35              159.6  ...             13.57   \n",
       "3332             39.85              265.9  ...             22.60   \n",
       "\n",
       "      Total night minutes  Total night calls  Total night charge  \\\n",
       "3330                191.9                 91                8.64   \n",
       "3331                139.2                137                6.26   \n",
       "3332                241.4                 77               10.86   \n",
       "\n",
       "      Total intl minutes  Total intl calls  Total intl charge  \\\n",
       "3330                14.1                 6               3.81   \n",
       "3331                 5.0                10               1.35   \n",
       "3332                13.7                 4               3.70   \n",
       "\n",
       "      Customer service calls  Whats up  Churn  \n",
       "3330                       2      6660  False  \n",
       "3331                       2      6662  False  \n",
       "3332                       0      6664  False  \n",
       "\n",
       "[3 rows x 21 columns]"
      ]
     },
     "execution_count": 65,
     "metadata": {},
     "output_type": "execute_result"
    }
   ],
   "source": [
    "frame[-3:]  # последние 3 строки (3 с конца)"
   ]
  },
  {
   "cell_type": "markdown",
   "metadata": {},
   "source": [
    "#### .loc() и .iloc()"
   ]
  },
  {
   "cell_type": "markdown",
   "metadata": {},
   "source": [
    "- `.loc()` - по именам (location)\n",
    "- `.iloc()` - по номерам (integer location)"
   ]
  },
  {
   "cell_type": "markdown",
   "metadata": {},
   "source": [
    "**.loc()**"
   ]
  },
  {
   "cell_type": "markdown",
   "metadata": {},
   "source": [
    "Если индексы именные:"
   ]
  },
  {
   "cell_type": "code",
   "execution_count": null,
   "metadata": {},
   "outputs": [],
   "source": [
    "frame.loc[['row1', 'row3', 'row8'], ['Date' , 'Time']]"
   ]
  },
  {
   "cell_type": "markdown",
   "metadata": {},
   "source": [
    "В случаии, если индексы не именные, а int, то названия индексов можно указывать цифрами:"
   ]
  },
  {
   "cell_type": "code",
   "execution_count": 6,
   "metadata": {},
   "outputs": [
    {
     "data": {
      "text/html": [
       "<div>\n",
       "<style scoped>\n",
       "    .dataframe tbody tr th:only-of-type {\n",
       "        vertical-align: middle;\n",
       "    }\n",
       "\n",
       "    .dataframe tbody tr th {\n",
       "        vertical-align: top;\n",
       "    }\n",
       "\n",
       "    .dataframe thead th {\n",
       "        text-align: right;\n",
       "    }\n",
       "</style>\n",
       "<table border=\"1\" class=\"dataframe\">\n",
       "  <thead>\n",
       "    <tr style=\"text-align: right;\">\n",
       "      <th></th>\n",
       "      <th>Date</th>\n",
       "      <th>Time</th>\n",
       "    </tr>\n",
       "  </thead>\n",
       "  <tbody>\n",
       "    <tr>\n",
       "      <th>2</th>\n",
       "      <td>2016-10-30</td>\n",
       "      <td>10:05:34</td>\n",
       "    </tr>\n",
       "    <tr>\n",
       "      <th>4</th>\n",
       "      <td>2016-10-30</td>\n",
       "      <td>10:07:57</td>\n",
       "    </tr>\n",
       "    <tr>\n",
       "      <th>7</th>\n",
       "      <td>2016-10-30</td>\n",
       "      <td>10:13:03</td>\n",
       "    </tr>\n",
       "  </tbody>\n",
       "</table>\n",
       "</div>"
      ],
      "text/plain": [
       "         Date      Time\n",
       "2  2016-10-30  10:05:34\n",
       "4  2016-10-30  10:07:57\n",
       "7  2016-10-30  10:13:03"
      ]
     },
     "execution_count": 6,
     "metadata": {},
     "output_type": "execute_result"
    }
   ],
   "source": [
    "frame.loc[[2,4,7], ['Date' , 'Time']]  "
   ]
  },
  {
   "cell_type": "markdown",
   "metadata": {},
   "source": [
    "`frame.loc[0:5, 'Date':'Time']` - выведет срез  \n",
    "`frame.loc[[2,4,7], ['Date' , 'Time']]` - выдаст указанные строки и столбцы"
   ]
  },
  {
   "cell_type": "markdown",
   "metadata": {},
   "source": [
    "Отбор по булевому столбцу (т.е. `pd.Series`):"
   ]
  },
  {
   "cell_type": "code",
   "execution_count": null,
   "metadata": {},
   "outputs": [],
   "source": [
    "df.loc[df['Survived'] == 1] # то же самое, что и df[df['Survived'] == 1]"
   ]
  },
  {
   "cell_type": "code",
   "execution_count": null,
   "metadata": {},
   "outputs": [],
   "source": [
    "my_stat.loc[my_stat['n_users'] < 0, 'n_users'] = mid #замена всех отрицательных значений в колонке n_users на mid"
   ]
  },
  {
   "cell_type": "markdown",
   "metadata": {},
   "source": [
    "**.iloc()**"
   ]
  },
  {
   "cell_type": "code",
   "execution_count": null,
   "metadata": {},
   "outputs": [],
   "source": [
    "frame.iloc[2,4,7] # вернет только строки 3, 5, 8 (считая от 0) и все столбцы"
   ]
  },
  {
   "cell_type": "code",
   "execution_count": null,
   "metadata": {},
   "outputs": [],
   "source": [
    "frame.iloc[[2,4,7], 0:2] # вернет только строки 3, 5, 8 (считая от 0) и 0:2 стобцы"
   ]
  },
  {
   "cell_type": "code",
   "execution_count": 7,
   "metadata": {},
   "outputs": [
    {
     "data": {
      "text/html": [
       "<div>\n",
       "<style scoped>\n",
       "    .dataframe tbody tr th:only-of-type {\n",
       "        vertical-align: middle;\n",
       "    }\n",
       "\n",
       "    .dataframe tbody tr th {\n",
       "        vertical-align: top;\n",
       "    }\n",
       "\n",
       "    .dataframe thead th {\n",
       "        text-align: right;\n",
       "    }\n",
       "</style>\n",
       "<table border=\"1\" class=\"dataframe\">\n",
       "  <thead>\n",
       "    <tr style=\"text-align: right;\">\n",
       "      <th></th>\n",
       "      <th>Date</th>\n",
       "      <th>Transaction</th>\n",
       "    </tr>\n",
       "  </thead>\n",
       "  <tbody>\n",
       "    <tr>\n",
       "      <th>2</th>\n",
       "      <td>2016-10-30</td>\n",
       "      <td>2</td>\n",
       "    </tr>\n",
       "    <tr>\n",
       "      <th>4</th>\n",
       "      <td>2016-10-30</td>\n",
       "      <td>3</td>\n",
       "    </tr>\n",
       "    <tr>\n",
       "      <th>7</th>\n",
       "      <td>2016-10-30</td>\n",
       "      <td>5</td>\n",
       "    </tr>\n",
       "  </tbody>\n",
       "</table>\n",
       "</div>"
      ],
      "text/plain": [
       "         Date  Transaction\n",
       "2  2016-10-30            2\n",
       "4  2016-10-30            3\n",
       "7  2016-10-30            5"
      ]
     },
     "execution_count": 7,
     "metadata": {},
     "output_type": "execute_result"
    }
   ],
   "source": [
    "frame.iloc[[2,4,7], [0,2]] # вернет только строки 3, 5, 8 (считая от 0) и 0:2 стобцы"
   ]
  },
  {
   "cell_type": "markdown",
   "metadata": {},
   "source": [
    "`pd.loc[[list_row indexes], [list_column names]]` - делает вырез из DataFrame  \n",
    "`pd.iloc[[list_row indexes], [list_column indexes]]` - аналогично, но columns задаются индексами, а не именем  \n",
    "`pd.ix[]` - объединяет iloc и loc, **но его упразднят в будущих версия**"
   ]
  },
  {
   "cell_type": "markdown",
   "metadata": {},
   "source": [
    "**Логический срез**  \n",
    "В логие может быть сколь угодно и/или:   `(...) & (...) | (...)`"
   ]
  },
  {
   "cell_type": "code",
   "execution_count": 79,
   "metadata": {
    "ExecuteTime": {
     "end_time": "2019-09-06T02:15:23.114660Z",
     "start_time": "2019-09-06T02:15:23.085675Z"
    }
   },
   "outputs": [
    {
     "data": {
      "text/html": [
       "<div>\n",
       "<style scoped>\n",
       "    .dataframe tbody tr th:only-of-type {\n",
       "        vertical-align: middle;\n",
       "    }\n",
       "\n",
       "    .dataframe tbody tr th {\n",
       "        vertical-align: top;\n",
       "    }\n",
       "\n",
       "    .dataframe thead th {\n",
       "        text-align: right;\n",
       "    }\n",
       "</style>\n",
       "<table border=\"1\" class=\"dataframe\">\n",
       "  <thead>\n",
       "    <tr style=\"text-align: right;\">\n",
       "      <th></th>\n",
       "      <th>State</th>\n",
       "      <th>Account length</th>\n",
       "      <th>Area code</th>\n",
       "      <th>International plan</th>\n",
       "      <th>Voice mail plan</th>\n",
       "      <th>Number vmail messages</th>\n",
       "      <th>Total day minutes</th>\n",
       "      <th>Total day calls</th>\n",
       "      <th>Total day charge</th>\n",
       "      <th>Total eve minutes</th>\n",
       "      <th>...</th>\n",
       "      <th>Total eve charge</th>\n",
       "      <th>Total night minutes</th>\n",
       "      <th>Total night calls</th>\n",
       "      <th>Total night charge</th>\n",
       "      <th>Total intl minutes</th>\n",
       "      <th>Total intl calls</th>\n",
       "      <th>Total intl charge</th>\n",
       "      <th>Customer service calls</th>\n",
       "      <th>Whats up</th>\n",
       "      <th>Churn</th>\n",
       "    </tr>\n",
       "  </thead>\n",
       "  <tbody>\n",
       "    <tr>\n",
       "      <th>0</th>\n",
       "      <td>KS</td>\n",
       "      <td>128</td>\n",
       "      <td>415</td>\n",
       "      <td>False</td>\n",
       "      <td>Yes</td>\n",
       "      <td>25</td>\n",
       "      <td>265.1</td>\n",
       "      <td>110</td>\n",
       "      <td>45.07</td>\n",
       "      <td>197.4</td>\n",
       "      <td>...</td>\n",
       "      <td>16.78</td>\n",
       "      <td>244.7</td>\n",
       "      <td>91</td>\n",
       "      <td>11.01</td>\n",
       "      <td>10.0</td>\n",
       "      <td>3</td>\n",
       "      <td>2.70</td>\n",
       "      <td>1</td>\n",
       "      <td>0</td>\n",
       "      <td>False</td>\n",
       "    </tr>\n",
       "    <tr>\n",
       "      <th>179</th>\n",
       "      <td>KS</td>\n",
       "      <td>70</td>\n",
       "      <td>408</td>\n",
       "      <td>False</td>\n",
       "      <td>No</td>\n",
       "      <td>0</td>\n",
       "      <td>232.1</td>\n",
       "      <td>122</td>\n",
       "      <td>39.46</td>\n",
       "      <td>292.3</td>\n",
       "      <td>...</td>\n",
       "      <td>24.85</td>\n",
       "      <td>201.2</td>\n",
       "      <td>112</td>\n",
       "      <td>9.05</td>\n",
       "      <td>0.0</td>\n",
       "      <td>0</td>\n",
       "      <td>0.00</td>\n",
       "      <td>3</td>\n",
       "      <td>358</td>\n",
       "      <td>False</td>\n",
       "    </tr>\n",
       "    <tr>\n",
       "      <th>258</th>\n",
       "      <td>KS</td>\n",
       "      <td>92</td>\n",
       "      <td>408</td>\n",
       "      <td>True</td>\n",
       "      <td>No</td>\n",
       "      <td>0</td>\n",
       "      <td>62.6</td>\n",
       "      <td>111</td>\n",
       "      <td>10.64</td>\n",
       "      <td>180.6</td>\n",
       "      <td>...</td>\n",
       "      <td>15.35</td>\n",
       "      <td>221.7</td>\n",
       "      <td>80</td>\n",
       "      <td>9.98</td>\n",
       "      <td>10.4</td>\n",
       "      <td>2</td>\n",
       "      <td>2.81</td>\n",
       "      <td>1</td>\n",
       "      <td>516</td>\n",
       "      <td>True</td>\n",
       "    </tr>\n",
       "    <tr>\n",
       "      <th>287</th>\n",
       "      <td>KS</td>\n",
       "      <td>137</td>\n",
       "      <td>408</td>\n",
       "      <td>False</td>\n",
       "      <td>No</td>\n",
       "      <td>0</td>\n",
       "      <td>205.9</td>\n",
       "      <td>88</td>\n",
       "      <td>35.00</td>\n",
       "      <td>209.3</td>\n",
       "      <td>...</td>\n",
       "      <td>17.79</td>\n",
       "      <td>289.9</td>\n",
       "      <td>84</td>\n",
       "      <td>13.05</td>\n",
       "      <td>14.5</td>\n",
       "      <td>4</td>\n",
       "      <td>3.92</td>\n",
       "      <td>2</td>\n",
       "      <td>574</td>\n",
       "      <td>False</td>\n",
       "    </tr>\n",
       "    <tr>\n",
       "      <th>368</th>\n",
       "      <td>KS</td>\n",
       "      <td>132</td>\n",
       "      <td>415</td>\n",
       "      <td>False</td>\n",
       "      <td>No</td>\n",
       "      <td>0</td>\n",
       "      <td>83.4</td>\n",
       "      <td>110</td>\n",
       "      <td>14.18</td>\n",
       "      <td>232.2</td>\n",
       "      <td>...</td>\n",
       "      <td>19.74</td>\n",
       "      <td>146.7</td>\n",
       "      <td>114</td>\n",
       "      <td>6.60</td>\n",
       "      <td>7.6</td>\n",
       "      <td>5</td>\n",
       "      <td>2.05</td>\n",
       "      <td>1</td>\n",
       "      <td>736</td>\n",
       "      <td>False</td>\n",
       "    </tr>\n",
       "  </tbody>\n",
       "</table>\n",
       "<p>5 rows × 21 columns</p>\n",
       "</div>"
      ],
      "text/plain": [
       "    State  Account length  Area code  International plan Voice mail plan  \\\n",
       "0      KS             128        415               False             Yes   \n",
       "179    KS              70        408               False              No   \n",
       "258    KS              92        408                True              No   \n",
       "287    KS             137        408               False              No   \n",
       "368    KS             132        415               False              No   \n",
       "\n",
       "     Number vmail messages  Total day minutes  Total day calls  \\\n",
       "0                       25              265.1              110   \n",
       "179                      0              232.1              122   \n",
       "258                      0               62.6              111   \n",
       "287                      0              205.9               88   \n",
       "368                      0               83.4              110   \n",
       "\n",
       "     Total day charge  Total eve minutes  ...  Total eve charge  \\\n",
       "0               45.07              197.4  ...             16.78   \n",
       "179             39.46              292.3  ...             24.85   \n",
       "258             10.64              180.6  ...             15.35   \n",
       "287             35.00              209.3  ...             17.79   \n",
       "368             14.18              232.2  ...             19.74   \n",
       "\n",
       "     Total night minutes  Total night calls  Total night charge  \\\n",
       "0                  244.7                 91               11.01   \n",
       "179                201.2                112                9.05   \n",
       "258                221.7                 80                9.98   \n",
       "287                289.9                 84               13.05   \n",
       "368                146.7                114                6.60   \n",
       "\n",
       "     Total intl minutes  Total intl calls  Total intl charge  \\\n",
       "0                  10.0                 3               2.70   \n",
       "179                 0.0                 0               0.00   \n",
       "258                10.4                 2               2.81   \n",
       "287                14.5                 4               3.92   \n",
       "368                 7.6                 5               2.05   \n",
       "\n",
       "     Customer service calls  Whats up  Churn  \n",
       "0                         1         0  False  \n",
       "179                       3       358  False  \n",
       "258                       1       516   True  \n",
       "287                       2       574  False  \n",
       "368                       1       736  False  \n",
       "\n",
       "[5 rows x 21 columns]"
      ]
     },
     "execution_count": 79,
     "metadata": {},
     "output_type": "execute_result"
    }
   ],
   "source": [
    "frame[frame['State'] == 'KS'].head(5)"
   ]
  },
  {
   "cell_type": "markdown",
   "metadata": {},
   "source": [
    "**df.at**  "
   ]
  },
  {
   "cell_type": "markdown",
   "metadata": {},
   "source": [
    "`frame.at[index(row) name(or #), 'column name']` - выводит значение 1го указаного элемента (по названиям)   \n",
    "`frame.iat[# of index(row), # of column]` - тоже самое, но по позиции (номерам)"
   ]
  },
  {
   "cell_type": "code",
   "execution_count": 80,
   "metadata": {
    "ExecuteTime": {
     "end_time": "2019-09-06T02:18:28.842285Z",
     "start_time": "2019-09-06T02:18:28.835290Z"
    }
   },
   "outputs": [
    {
     "data": {
      "text/plain": [
       "'NJ'"
      ]
     },
     "execution_count": 80,
     "metadata": {},
     "output_type": "execute_result"
    }
   ],
   "source": [
    "frame.at[2,'State']"
   ]
  },
  {
   "cell_type": "markdown",
   "metadata": {},
   "source": [
    "Так же можно использовать для точечного изменения"
   ]
  },
  {
   "cell_type": "code",
   "execution_count": 81,
   "metadata": {
    "ExecuteTime": {
     "end_time": "2019-09-06T02:18:56.900878Z",
     "start_time": "2019-09-06T02:18:56.885887Z"
    }
   },
   "outputs": [
    {
     "name": "stdout",
     "output_type": "stream",
     "text": [
      "My State\n"
     ]
    }
   ],
   "source": [
    "frame.at[2,'State'] = 'My State'\n",
    "print(frame.at[2,'State'])"
   ]
  },
  {
   "cell_type": "code",
   "execution_count": 85,
   "metadata": {
    "ExecuteTime": {
     "end_time": "2019-09-06T02:20:52.351256Z",
     "start_time": "2019-09-06T02:20:52.347262Z"
    }
   },
   "outputs": [
    {
     "data": {
      "text/plain": [
       "'My State'"
      ]
     },
     "execution_count": 85,
     "metadata": {},
     "output_type": "execute_result"
    }
   ],
   "source": [
    "frame.iat[2, 0]                     # column 'State' was called using its number (0)"
   ]
  },
  {
   "cell_type": "markdown",
   "metadata": {},
   "source": [
    "### .filter()"
   ]
  },
  {
   "cell_type": "markdown",
   "metadata": {},
   "source": [
    "`frame.filter(items=None, like=None, regex=None, axis=None)`\n",
    "\n",
    "Subset rows or columns of dataframe according to labels in the specified index. Note that this routine does not filter a dataframe on its contents. The filter is applied to the labels of the index.  \n",
    "\n",
    "- `axis = 0` - row (index). `axis = 1` - columns (default)\n",
    "- `item = ['name']` - list of full names search\n",
    "- `like = 'am'` - part name search (takes string)\n",
    "\n",
    "- `regex` - отбор по условию (некоторому выражению). Format - str"
   ]
  },
  {
   "cell_type": "code",
   "execution_count": 74,
   "metadata": {
    "ExecuteTime": {
     "end_time": "2019-09-06T02:09:01.976565Z",
     "start_time": "2019-09-06T02:09:01.965558Z"
    }
   },
   "outputs": [
    {
     "data": {
      "text/html": [
       "<div>\n",
       "<style scoped>\n",
       "    .dataframe tbody tr th:only-of-type {\n",
       "        vertical-align: middle;\n",
       "    }\n",
       "\n",
       "    .dataframe tbody tr th {\n",
       "        vertical-align: top;\n",
       "    }\n",
       "\n",
       "    .dataframe thead th {\n",
       "        text-align: right;\n",
       "    }\n",
       "</style>\n",
       "<table border=\"1\" class=\"dataframe\">\n",
       "  <thead>\n",
       "    <tr style=\"text-align: right;\">\n",
       "      <th></th>\n",
       "      <th>Total night minutes</th>\n",
       "      <th>Total eve charge</th>\n",
       "    </tr>\n",
       "  </thead>\n",
       "  <tbody>\n",
       "    <tr>\n",
       "      <th>0</th>\n",
       "      <td>244.7</td>\n",
       "      <td>16.78</td>\n",
       "    </tr>\n",
       "    <tr>\n",
       "      <th>1</th>\n",
       "      <td>254.4</td>\n",
       "      <td>16.62</td>\n",
       "    </tr>\n",
       "    <tr>\n",
       "      <th>2</th>\n",
       "      <td>162.6</td>\n",
       "      <td>10.30</td>\n",
       "    </tr>\n",
       "  </tbody>\n",
       "</table>\n",
       "</div>"
      ],
      "text/plain": [
       "   Total night minutes  Total eve charge\n",
       "0                244.7             16.78\n",
       "1                254.4             16.62\n",
       "2                162.6             10.30"
      ]
     },
     "execution_count": 74,
     "metadata": {},
     "output_type": "execute_result"
    }
   ],
   "source": [
    "frame.filter(items=['Total night minutes', 'Total eve charge']).head(3)       # ищет полное совпадение"
   ]
  },
  {
   "cell_type": "code",
   "execution_count": 76,
   "metadata": {
    "ExecuteTime": {
     "end_time": "2019-09-06T02:09:57.893059Z",
     "start_time": "2019-09-06T02:09:57.885053Z"
    }
   },
   "outputs": [
    {
     "data": {
      "text/html": [
       "<div>\n",
       "<style scoped>\n",
       "    .dataframe tbody tr th:only-of-type {\n",
       "        vertical-align: middle;\n",
       "    }\n",
       "\n",
       "    .dataframe tbody tr th {\n",
       "        vertical-align: top;\n",
       "    }\n",
       "\n",
       "    .dataframe thead th {\n",
       "        text-align: right;\n",
       "    }\n",
       "</style>\n",
       "<table border=\"1\" class=\"dataframe\">\n",
       "  <thead>\n",
       "    <tr style=\"text-align: right;\">\n",
       "      <th></th>\n",
       "      <th>Total night minutes</th>\n",
       "      <th>Total night calls</th>\n",
       "      <th>Total night charge</th>\n",
       "    </tr>\n",
       "  </thead>\n",
       "  <tbody>\n",
       "    <tr>\n",
       "      <th>0</th>\n",
       "      <td>244.7</td>\n",
       "      <td>91</td>\n",
       "      <td>11.01</td>\n",
       "    </tr>\n",
       "    <tr>\n",
       "      <th>1</th>\n",
       "      <td>254.4</td>\n",
       "      <td>103</td>\n",
       "      <td>11.45</td>\n",
       "    </tr>\n",
       "    <tr>\n",
       "      <th>2</th>\n",
       "      <td>162.6</td>\n",
       "      <td>104</td>\n",
       "      <td>7.32</td>\n",
       "    </tr>\n",
       "  </tbody>\n",
       "</table>\n",
       "</div>"
      ],
      "text/plain": [
       "   Total night minutes  Total night calls  Total night charge\n",
       "0                244.7                 91               11.01\n",
       "1                254.4                103               11.45\n",
       "2                162.6                104                7.32"
      ]
     },
     "execution_count": 76,
     "metadata": {},
     "output_type": "execute_result"
    }
   ],
   "source": [
    "frame.filter(like='night').head(3)                                           # ищет частичное совпадение"
   ]
  },
  {
   "cell_type": "markdown",
   "metadata": {},
   "source": [
    "### .query()"
   ]
  },
  {
   "cell_type": "markdown",
   "metadata": {},
   "source": [
    "`df.query('...')` - позволяет делать логический отбор значений заданный одной строкой. Например:\n",
    "```python\n",
    "frame[(frame['writing'] > 78)]\n",
    "```\n",
    "будет эквивалентно:\n",
    "```python\n",
    "frame.query('writing > 78')\n",
    "```"
   ]
  },
  {
   "cell_type": "code",
   "execution_count": null,
   "metadata": {},
   "outputs": [],
   "source": [
    " rame.query(\"writing > 78 & gender = 'female'\") # 'female' - это строковый тип, поэтому надо взять в ''"
   ]
  },
  {
   "cell_type": "markdown",
   "metadata": {},
   "source": [
    "будет эквивалетно"
   ]
  },
  {
   "cell_type": "code",
   "execution_count": null,
   "metadata": {},
   "outputs": [],
   "source": [
    "frame[(frame['writing'] > 78) & (frame['gender'] == 'female')]"
   ]
  },
  {
   "cell_type": "markdown",
   "metadata": {},
   "source": [
    "#### экранирование @"
   ]
  },
  {
   "cell_type": "markdown",
   "metadata": {},
   "source": [
    "Экранирование позволяет добавлять в строку переменную. В этом случаии, перед переменной ставиться `@` - символ экранирования. Например:"
   ]
  },
  {
   "cell_type": "code",
   "execution_count": null,
   "metadata": {},
   "outputs": [],
   "source": [
    "mean_score = frame['writing'].mean()\n",
    " rame.query(\"gender = 'female' & writing > @mean_score\") # внимание на @mean_score"
   ]
  },
  {
   "cell_type": "markdown",
   "metadata": {},
   "source": [
    "будет эквивалетно"
   ]
  },
  {
   "cell_type": "code",
   "execution_count": null,
   "metadata": {},
   "outputs": [],
   "source": [
    "mean_score = frame['writing'].mean()\n",
    "frame[(frame['writing'] > mean_score) & (frame['gender'] == 'female')]"
   ]
  },
  {
   "cell_type": "markdown",
   "metadata": {},
   "source": [
    "### Cleaning"
   ]
  },
  {
   "cell_type": "markdown",
   "metadata": {},
   "source": [
    "**df.fillna**  \n",
    "Заменяет все NaN на что-нибудь"
   ]
  },
  {
   "cell_type": "code",
   "execution_count": 29,
   "metadata": {},
   "outputs": [],
   "source": [
    "frame.fillna('aoaoa', inplace=True)   #заменит NaN на 'aoaoa'"
   ]
  },
  {
   "cell_type": "code",
   "execution_count": 9,
   "metadata": {},
   "outputs": [],
   "source": [
    "frame['Transaction']=frame['Transaction'].astype('int64')  #меняет тип колонки"
   ]
  },
  {
   "cell_type": "markdown",
   "metadata": {},
   "source": [
    "#### .factorize \n",
    "Возвращает уникальные элементы в Series и приписывает им номера(только уникальным) в соответсвии с порядком.   \n",
    "`pd.factorize(values, sort=False, order=None, na_sentinel=-1, size_hint=None)` \n",
    "- It assigns labels to values in provided array (Series)\n",
    "- Returns: (array of labels, idex(original array)\n",
    "- Label 0 is assigned to 1st value in index array"
   ]
  },
  {
   "cell_type": "code",
   "execution_count": 88,
   "metadata": {
    "ExecuteTime": {
     "end_time": "2019-09-06T02:22:19.154765Z",
     "start_time": "2019-09-06T02:22:19.145770Z"
    }
   },
   "outputs": [
    {
     "name": "stdout",
     "output_type": "stream",
     "text": [
      "[0 0 1 2 3 4 0]\n",
      "['b' 'a' 'vlad' 'c' '123']\n"
     ]
    }
   ],
   "source": [
    "labels, uniques = pd.factorize(['b', 'b', 'a', 'vlad', 'c', 123, 'b'])\n",
    "print(labels)\n",
    "print(uniques)"
   ]
  },
  {
   "cell_type": "code",
   "execution_count": 90,
   "metadata": {
    "ExecuteTime": {
     "end_time": "2019-09-06T02:26:15.595187Z",
     "start_time": "2019-09-06T02:26:15.550200Z"
    }
   },
   "outputs": [
    {
     "name": "stdout",
     "output_type": "stream",
     "text": [
      "[2 2 1 4 3 0 2]\n",
      "Index([123, 'a', 'b', 'c', 'vlad'], dtype='object')\n"
     ]
    }
   ],
   "source": [
    "test_frame = pd.Series(['b', 'b', 'a', 'vlad', 'c', 123, 'b'])\n",
    "labels, uniques = test_frame.factorize(['b', 'b', 'a', 'vlad', 'c', 123, 'b'])\n",
    "print(labels)\n",
    "print(uniques)"
   ]
  },
  {
   "cell_type": "markdown",
   "metadata": {},
   "source": [
    "## Sort and analyse"
   ]
  },
  {
   "cell_type": "markdown",
   "metadata": {},
   "source": [
    "#### Сортировка"
   ]
  },
  {
   "cell_type": "markdown",
   "metadata": {},
   "source": [
    "**.unique**"
   ]
  },
  {
   "cell_type": "code",
   "execution_count": 104,
   "metadata": {
    "ExecuteTime": {
     "end_time": "2019-09-06T02:42:58.540049Z",
     "start_time": "2019-09-06T02:42:58.535069Z"
    }
   },
   "outputs": [
    {
     "data": {
      "text/plain": [
       "array([415, 408, 510], dtype=int64)"
      ]
     },
     "execution_count": 104,
     "metadata": {},
     "output_type": "execute_result"
    }
   ],
   "source": [
    "# ищет уникальные объекты в столбце (возвращает numpy.ndarray)\n",
    "frame['Area code'].unique()"
   ]
  },
  {
   "cell_type": "code",
   "execution_count": 105,
   "metadata": {
    "ExecuteTime": {
     "end_time": "2019-09-06T02:43:12.883190Z",
     "start_time": "2019-09-06T02:43:12.879178Z"
    }
   },
   "outputs": [
    {
     "name": "stdout",
     "output_type": "stream",
     "text": [
      "['KS' 'OH' 'My State' 'OK' 'AL' 'MA' 'MO' 'LA' 'WV' 'IN' 'RI' 'IA' 'MT'\n",
      " 'NY' 'ID' 'VT' 'VA' 'TX' 'FL' 'CO' 'AZ' 'SC' 'NE' 'WY' 'HI' 'IL' 'NH'\n",
      " 'GA' 'AK' 'NJ' 'MD' 'AR' 'WI' 'OR' 'MI' 'DE' 'UT' 'CA' 'MN' 'SD' 'NC'\n",
      " 'WA' 'NM' 'NV' 'DC' 'KY' 'ME' 'MS' 'TN' 'PA' 'CT' 'ND']\n"
     ]
    }
   ],
   "source": [
    "print(frame['State'].unique())"
   ]
  },
  {
   "cell_type": "markdown",
   "metadata": {},
   "source": [
    "**.isin**"
   ]
  },
  {
   "cell_type": "markdown",
   "metadata": {},
   "source": [
    "```frame.isin(iterable, Series, DataFrame or dictionary)``` - проверяет если в DataFrame есть объекты из (...) и возвращает булевый DataFrame[True, False]. Если его всунуть в `frame[frame['State'].isin(lis)]` то выведет только строки с объектами из list, т.к. первый `frame[...]` автоматом проверяет булевость"
   ]
  },
  {
   "cell_type": "code",
   "execution_count": 106,
   "metadata": {
    "ExecuteTime": {
     "end_time": "2019-09-06T02:44:12.668884Z",
     "start_time": "2019-09-06T02:44:12.641886Z"
    }
   },
   "outputs": [
    {
     "data": {
      "text/html": [
       "<div>\n",
       "<style scoped>\n",
       "    .dataframe tbody tr th:only-of-type {\n",
       "        vertical-align: middle;\n",
       "    }\n",
       "\n",
       "    .dataframe tbody tr th {\n",
       "        vertical-align: top;\n",
       "    }\n",
       "\n",
       "    .dataframe thead th {\n",
       "        text-align: right;\n",
       "    }\n",
       "</style>\n",
       "<table border=\"1\" class=\"dataframe\">\n",
       "  <thead>\n",
       "    <tr style=\"text-align: right;\">\n",
       "      <th></th>\n",
       "      <th>State</th>\n",
       "      <th>Account length</th>\n",
       "      <th>Area code</th>\n",
       "      <th>International plan</th>\n",
       "      <th>Voice mail plan</th>\n",
       "      <th>Number vmail messages</th>\n",
       "      <th>Total day minutes</th>\n",
       "      <th>Total day calls</th>\n",
       "      <th>Total day charge</th>\n",
       "      <th>Total eve minutes</th>\n",
       "      <th>...</th>\n",
       "      <th>Total eve charge</th>\n",
       "      <th>Total night minutes</th>\n",
       "      <th>Total night calls</th>\n",
       "      <th>Total night charge</th>\n",
       "      <th>Total intl minutes</th>\n",
       "      <th>Total intl calls</th>\n",
       "      <th>Total intl charge</th>\n",
       "      <th>Customer service calls</th>\n",
       "      <th>Whats up</th>\n",
       "      <th>Churn</th>\n",
       "    </tr>\n",
       "  </thead>\n",
       "  <tbody>\n",
       "    <tr>\n",
       "      <th>1</th>\n",
       "      <td>OH</td>\n",
       "      <td>107</td>\n",
       "      <td>415</td>\n",
       "      <td>False</td>\n",
       "      <td>Yes</td>\n",
       "      <td>26</td>\n",
       "      <td>161.6</td>\n",
       "      <td>123</td>\n",
       "      <td>27.47</td>\n",
       "      <td>195.5</td>\n",
       "      <td>...</td>\n",
       "      <td>16.62</td>\n",
       "      <td>254.4</td>\n",
       "      <td>103</td>\n",
       "      <td>11.45</td>\n",
       "      <td>13.7</td>\n",
       "      <td>3</td>\n",
       "      <td>3.70</td>\n",
       "      <td>1</td>\n",
       "      <td>2</td>\n",
       "      <td>False</td>\n",
       "    </tr>\n",
       "    <tr>\n",
       "      <th>3</th>\n",
       "      <td>OH</td>\n",
       "      <td>84</td>\n",
       "      <td>408</td>\n",
       "      <td>True</td>\n",
       "      <td>No</td>\n",
       "      <td>0</td>\n",
       "      <td>299.4</td>\n",
       "      <td>71</td>\n",
       "      <td>50.90</td>\n",
       "      <td>61.9</td>\n",
       "      <td>...</td>\n",
       "      <td>5.26</td>\n",
       "      <td>196.9</td>\n",
       "      <td>89</td>\n",
       "      <td>8.86</td>\n",
       "      <td>6.6</td>\n",
       "      <td>7</td>\n",
       "      <td>1.78</td>\n",
       "      <td>2</td>\n",
       "      <td>6</td>\n",
       "      <td>False</td>\n",
       "    </tr>\n",
       "    <tr>\n",
       "      <th>64</th>\n",
       "      <td>NC</td>\n",
       "      <td>38</td>\n",
       "      <td>408</td>\n",
       "      <td>False</td>\n",
       "      <td>No</td>\n",
       "      <td>0</td>\n",
       "      <td>131.2</td>\n",
       "      <td>98</td>\n",
       "      <td>22.30</td>\n",
       "      <td>162.9</td>\n",
       "      <td>...</td>\n",
       "      <td>13.85</td>\n",
       "      <td>159.0</td>\n",
       "      <td>106</td>\n",
       "      <td>7.15</td>\n",
       "      <td>8.2</td>\n",
       "      <td>6</td>\n",
       "      <td>2.21</td>\n",
       "      <td>2</td>\n",
       "      <td>128</td>\n",
       "      <td>False</td>\n",
       "    </tr>\n",
       "    <tr>\n",
       "      <th>152</th>\n",
       "      <td>OH</td>\n",
       "      <td>65</td>\n",
       "      <td>408</td>\n",
       "      <td>False</td>\n",
       "      <td>No</td>\n",
       "      <td>0</td>\n",
       "      <td>187.9</td>\n",
       "      <td>116</td>\n",
       "      <td>31.94</td>\n",
       "      <td>157.6</td>\n",
       "      <td>...</td>\n",
       "      <td>13.40</td>\n",
       "      <td>227.3</td>\n",
       "      <td>86</td>\n",
       "      <td>10.23</td>\n",
       "      <td>7.5</td>\n",
       "      <td>6</td>\n",
       "      <td>2.03</td>\n",
       "      <td>1</td>\n",
       "      <td>304</td>\n",
       "      <td>False</td>\n",
       "    </tr>\n",
       "    <tr>\n",
       "      <th>156</th>\n",
       "      <td>OH</td>\n",
       "      <td>83</td>\n",
       "      <td>415</td>\n",
       "      <td>False</td>\n",
       "      <td>No</td>\n",
       "      <td>0</td>\n",
       "      <td>337.4</td>\n",
       "      <td>120</td>\n",
       "      <td>57.36</td>\n",
       "      <td>227.4</td>\n",
       "      <td>...</td>\n",
       "      <td>19.33</td>\n",
       "      <td>153.9</td>\n",
       "      <td>114</td>\n",
       "      <td>6.93</td>\n",
       "      <td>15.8</td>\n",
       "      <td>7</td>\n",
       "      <td>4.27</td>\n",
       "      <td>0</td>\n",
       "      <td>312</td>\n",
       "      <td>True</td>\n",
       "    </tr>\n",
       "  </tbody>\n",
       "</table>\n",
       "<p>5 rows × 21 columns</p>\n",
       "</div>"
      ],
      "text/plain": [
       "    State  Account length  Area code  International plan Voice mail plan  \\\n",
       "1      OH             107        415               False             Yes   \n",
       "3      OH              84        408                True              No   \n",
       "64     NC              38        408               False              No   \n",
       "152    OH              65        408               False              No   \n",
       "156    OH              83        415               False              No   \n",
       "\n",
       "     Number vmail messages  Total day minutes  Total day calls  \\\n",
       "1                       26              161.6              123   \n",
       "3                        0              299.4               71   \n",
       "64                       0              131.2               98   \n",
       "152                      0              187.9              116   \n",
       "156                      0              337.4              120   \n",
       "\n",
       "     Total day charge  Total eve minutes  ...  Total eve charge  \\\n",
       "1               27.47              195.5  ...             16.62   \n",
       "3               50.90               61.9  ...              5.26   \n",
       "64              22.30              162.9  ...             13.85   \n",
       "152             31.94              157.6  ...             13.40   \n",
       "156             57.36              227.4  ...             19.33   \n",
       "\n",
       "     Total night minutes  Total night calls  Total night charge  \\\n",
       "1                  254.4                103               11.45   \n",
       "3                  196.9                 89                8.86   \n",
       "64                 159.0                106                7.15   \n",
       "152                227.3                 86               10.23   \n",
       "156                153.9                114                6.93   \n",
       "\n",
       "     Total intl minutes  Total intl calls  Total intl charge  \\\n",
       "1                  13.7                 3               3.70   \n",
       "3                   6.6                 7               1.78   \n",
       "64                  8.2                 6               2.21   \n",
       "152                 7.5                 6               2.03   \n",
       "156                15.8                 7               4.27   \n",
       "\n",
       "     Customer service calls  Whats up  Churn  \n",
       "1                         1         2  False  \n",
       "3                         2         6  False  \n",
       "64                        2       128  False  \n",
       "152                       1       304  False  \n",
       "156                       0       312   True  \n",
       "\n",
       "[5 rows x 21 columns]"
      ]
     },
     "execution_count": 106,
     "metadata": {},
     "output_type": "execute_result"
    }
   ],
   "source": [
    "lis=['OH', 'NC']\n",
    "frame[frame['State'].isin(lis)].head(5)"
   ]
  },
  {
   "cell_type": "markdown",
   "metadata": {},
   "source": [
    "**.sort_values**"
   ]
  },
  {
   "cell_type": "code",
   "execution_count": 108,
   "metadata": {
    "ExecuteTime": {
     "end_time": "2019-09-06T02:48:27.325164Z",
     "start_time": "2019-09-06T02:48:27.295179Z"
    }
   },
   "outputs": [
    {
     "data": {
      "text/html": [
       "<div>\n",
       "<style scoped>\n",
       "    .dataframe tbody tr th:only-of-type {\n",
       "        vertical-align: middle;\n",
       "    }\n",
       "\n",
       "    .dataframe tbody tr th {\n",
       "        vertical-align: top;\n",
       "    }\n",
       "\n",
       "    .dataframe thead th {\n",
       "        text-align: right;\n",
       "    }\n",
       "</style>\n",
       "<table border=\"1\" class=\"dataframe\">\n",
       "  <thead>\n",
       "    <tr style=\"text-align: right;\">\n",
       "      <th></th>\n",
       "      <th>State</th>\n",
       "      <th>Account length</th>\n",
       "      <th>Area code</th>\n",
       "      <th>International plan</th>\n",
       "      <th>Voice mail plan</th>\n",
       "      <th>Number vmail messages</th>\n",
       "      <th>Total day minutes</th>\n",
       "      <th>Total day calls</th>\n",
       "      <th>Total day charge</th>\n",
       "      <th>Total eve minutes</th>\n",
       "      <th>...</th>\n",
       "      <th>Total eve charge</th>\n",
       "      <th>Total night minutes</th>\n",
       "      <th>Total night calls</th>\n",
       "      <th>Total night charge</th>\n",
       "      <th>Total intl minutes</th>\n",
       "      <th>Total intl calls</th>\n",
       "      <th>Total intl charge</th>\n",
       "      <th>Customer service calls</th>\n",
       "      <th>Whats up</th>\n",
       "      <th>Churn</th>\n",
       "    </tr>\n",
       "  </thead>\n",
       "  <tbody>\n",
       "    <tr>\n",
       "      <th>1260</th>\n",
       "      <td>AK</td>\n",
       "      <td>76</td>\n",
       "      <td>415</td>\n",
       "      <td>False</td>\n",
       "      <td>Yes</td>\n",
       "      <td>22</td>\n",
       "      <td>160.1</td>\n",
       "      <td>107</td>\n",
       "      <td>27.22</td>\n",
       "      <td>168.7</td>\n",
       "      <td>...</td>\n",
       "      <td>14.34</td>\n",
       "      <td>23.2</td>\n",
       "      <td>102</td>\n",
       "      <td>1.04</td>\n",
       "      <td>9.5</td>\n",
       "      <td>4</td>\n",
       "      <td>2.57</td>\n",
       "      <td>3</td>\n",
       "      <td>2520</td>\n",
       "      <td>False</td>\n",
       "    </tr>\n",
       "    <tr>\n",
       "      <th>1113</th>\n",
       "      <td>IA</td>\n",
       "      <td>152</td>\n",
       "      <td>415</td>\n",
       "      <td>False</td>\n",
       "      <td>No</td>\n",
       "      <td>0</td>\n",
       "      <td>206.3</td>\n",
       "      <td>98</td>\n",
       "      <td>35.07</td>\n",
       "      <td>292.8</td>\n",
       "      <td>...</td>\n",
       "      <td>24.89</td>\n",
       "      <td>43.7</td>\n",
       "      <td>121</td>\n",
       "      <td>1.97</td>\n",
       "      <td>10.6</td>\n",
       "      <td>4</td>\n",
       "      <td>2.86</td>\n",
       "      <td>1</td>\n",
       "      <td>2226</td>\n",
       "      <td>False</td>\n",
       "    </tr>\n",
       "    <tr>\n",
       "      <th>883</th>\n",
       "      <td>WY</td>\n",
       "      <td>42</td>\n",
       "      <td>408</td>\n",
       "      <td>False</td>\n",
       "      <td>No</td>\n",
       "      <td>0</td>\n",
       "      <td>146.3</td>\n",
       "      <td>84</td>\n",
       "      <td>24.87</td>\n",
       "      <td>255.9</td>\n",
       "      <td>...</td>\n",
       "      <td>21.75</td>\n",
       "      <td>45.0</td>\n",
       "      <td>117</td>\n",
       "      <td>2.03</td>\n",
       "      <td>8.0</td>\n",
       "      <td>12</td>\n",
       "      <td>2.16</td>\n",
       "      <td>1</td>\n",
       "      <td>1766</td>\n",
       "      <td>False</td>\n",
       "    </tr>\n",
       "    <tr>\n",
       "      <th>3247</th>\n",
       "      <td>OK</td>\n",
       "      <td>146</td>\n",
       "      <td>510</td>\n",
       "      <td>False</td>\n",
       "      <td>No</td>\n",
       "      <td>0</td>\n",
       "      <td>138.4</td>\n",
       "      <td>104</td>\n",
       "      <td>23.53</td>\n",
       "      <td>158.9</td>\n",
       "      <td>...</td>\n",
       "      <td>13.51</td>\n",
       "      <td>47.4</td>\n",
       "      <td>73</td>\n",
       "      <td>2.13</td>\n",
       "      <td>3.9</td>\n",
       "      <td>9</td>\n",
       "      <td>1.05</td>\n",
       "      <td>4</td>\n",
       "      <td>6494</td>\n",
       "      <td>True</td>\n",
       "    </tr>\n",
       "    <tr>\n",
       "      <th>2756</th>\n",
       "      <td>KS</td>\n",
       "      <td>123</td>\n",
       "      <td>415</td>\n",
       "      <td>False</td>\n",
       "      <td>No</td>\n",
       "      <td>0</td>\n",
       "      <td>140.0</td>\n",
       "      <td>106</td>\n",
       "      <td>23.80</td>\n",
       "      <td>153.7</td>\n",
       "      <td>...</td>\n",
       "      <td>13.06</td>\n",
       "      <td>50.1</td>\n",
       "      <td>87</td>\n",
       "      <td>2.25</td>\n",
       "      <td>12.5</td>\n",
       "      <td>1</td>\n",
       "      <td>3.38</td>\n",
       "      <td>2</td>\n",
       "      <td>5512</td>\n",
       "      <td>False</td>\n",
       "    </tr>\n",
       "  </tbody>\n",
       "</table>\n",
       "<p>5 rows × 21 columns</p>\n",
       "</div>"
      ],
      "text/plain": [
       "     State  Account length  Area code  International plan Voice mail plan  \\\n",
       "1260    AK              76        415               False             Yes   \n",
       "1113    IA             152        415               False              No   \n",
       "883     WY              42        408               False              No   \n",
       "3247    OK             146        510               False              No   \n",
       "2756    KS             123        415               False              No   \n",
       "\n",
       "      Number vmail messages  Total day minutes  Total day calls  \\\n",
       "1260                     22              160.1              107   \n",
       "1113                      0              206.3               98   \n",
       "883                       0              146.3               84   \n",
       "3247                      0              138.4              104   \n",
       "2756                      0              140.0              106   \n",
       "\n",
       "      Total day charge  Total eve minutes  ...  Total eve charge  \\\n",
       "1260             27.22              168.7  ...             14.34   \n",
       "1113             35.07              292.8  ...             24.89   \n",
       "883              24.87              255.9  ...             21.75   \n",
       "3247             23.53              158.9  ...             13.51   \n",
       "2756             23.80              153.7  ...             13.06   \n",
       "\n",
       "      Total night minutes  Total night calls  Total night charge  \\\n",
       "1260                 23.2                102                1.04   \n",
       "1113                 43.7                121                1.97   \n",
       "883                  45.0                117                2.03   \n",
       "3247                 47.4                 73                2.13   \n",
       "2756                 50.1                 87                2.25   \n",
       "\n",
       "      Total intl minutes  Total intl calls  Total intl charge  \\\n",
       "1260                 9.5                 4               2.57   \n",
       "1113                10.6                 4               2.86   \n",
       "883                  8.0                12               2.16   \n",
       "3247                 3.9                 9               1.05   \n",
       "2756                12.5                 1               3.38   \n",
       "\n",
       "      Customer service calls  Whats up  Churn  \n",
       "1260                       3      2520  False  \n",
       "1113                       1      2226  False  \n",
       "883                        1      1766  False  \n",
       "3247                       4      6494   True  \n",
       "2756                       2      5512  False  \n",
       "\n",
       "[5 rows x 21 columns]"
      ]
     },
     "execution_count": 108,
     "metadata": {},
     "output_type": "execute_result"
    }
   ],
   "source": [
    "frame.sort_values(by='Total night minutes', ascending='False').head(5)"
   ]
  },
  {
   "cell_type": "code",
   "execution_count": 122,
   "metadata": {
    "ExecuteTime": {
     "end_time": "2019-09-06T02:54:02.903065Z",
     "start_time": "2019-09-06T02:54:02.866072Z"
    }
   },
   "outputs": [
    {
     "data": {
      "text/html": [
       "<div>\n",
       "<style scoped>\n",
       "    .dataframe tbody tr th:only-of-type {\n",
       "        vertical-align: middle;\n",
       "    }\n",
       "\n",
       "    .dataframe tbody tr th {\n",
       "        vertical-align: top;\n",
       "    }\n",
       "\n",
       "    .dataframe thead th {\n",
       "        text-align: right;\n",
       "    }\n",
       "</style>\n",
       "<table border=\"1\" class=\"dataframe\">\n",
       "  <thead>\n",
       "    <tr style=\"text-align: right;\">\n",
       "      <th></th>\n",
       "      <th>State</th>\n",
       "      <th>Account length</th>\n",
       "      <th>Area code</th>\n",
       "      <th>International plan</th>\n",
       "      <th>Voice mail plan</th>\n",
       "      <th>Number vmail messages</th>\n",
       "      <th>Total day minutes</th>\n",
       "      <th>Total day calls</th>\n",
       "      <th>Total day charge</th>\n",
       "      <th>Total eve minutes</th>\n",
       "      <th>...</th>\n",
       "      <th>Total eve charge</th>\n",
       "      <th>Total night minutes</th>\n",
       "      <th>Total night calls</th>\n",
       "      <th>Total night charge</th>\n",
       "      <th>Total intl minutes</th>\n",
       "      <th>Total intl calls</th>\n",
       "      <th>Total intl charge</th>\n",
       "      <th>Customer service calls</th>\n",
       "      <th>Whats up</th>\n",
       "      <th>Churn</th>\n",
       "    </tr>\n",
       "  </thead>\n",
       "  <tbody>\n",
       "    <tr>\n",
       "      <th>343</th>\n",
       "      <td>IN</td>\n",
       "      <td>98</td>\n",
       "      <td>408</td>\n",
       "      <td>False</td>\n",
       "      <td>Yes</td>\n",
       "      <td>21</td>\n",
       "      <td>64.6</td>\n",
       "      <td>98</td>\n",
       "      <td>10.98</td>\n",
       "      <td>176.1</td>\n",
       "      <td>...</td>\n",
       "      <td>14.97</td>\n",
       "      <td>244.8</td>\n",
       "      <td>84</td>\n",
       "      <td>11.02</td>\n",
       "      <td>0.0</td>\n",
       "      <td>0</td>\n",
       "      <td>0.0</td>\n",
       "      <td>2</td>\n",
       "      <td>686</td>\n",
       "      <td>False</td>\n",
       "    </tr>\n",
       "    <tr>\n",
       "      <th>2513</th>\n",
       "      <td>NY</td>\n",
       "      <td>86</td>\n",
       "      <td>510</td>\n",
       "      <td>False</td>\n",
       "      <td>No</td>\n",
       "      <td>0</td>\n",
       "      <td>70.7</td>\n",
       "      <td>125</td>\n",
       "      <td>12.02</td>\n",
       "      <td>211.0</td>\n",
       "      <td>...</td>\n",
       "      <td>17.94</td>\n",
       "      <td>174.6</td>\n",
       "      <td>107</td>\n",
       "      <td>7.86</td>\n",
       "      <td>0.0</td>\n",
       "      <td>0</td>\n",
       "      <td>0.0</td>\n",
       "      <td>2</td>\n",
       "      <td>5026</td>\n",
       "      <td>False</td>\n",
       "    </tr>\n",
       "    <tr>\n",
       "      <th>1564</th>\n",
       "      <td>VT</td>\n",
       "      <td>137</td>\n",
       "      <td>510</td>\n",
       "      <td>False</td>\n",
       "      <td>No</td>\n",
       "      <td>0</td>\n",
       "      <td>97.5</td>\n",
       "      <td>95</td>\n",
       "      <td>16.58</td>\n",
       "      <td>195.8</td>\n",
       "      <td>...</td>\n",
       "      <td>16.64</td>\n",
       "      <td>288.8</td>\n",
       "      <td>78</td>\n",
       "      <td>13.00</td>\n",
       "      <td>0.0</td>\n",
       "      <td>0</td>\n",
       "      <td>0.0</td>\n",
       "      <td>1</td>\n",
       "      <td>3128</td>\n",
       "      <td>False</td>\n",
       "    </tr>\n",
       "    <tr>\n",
       "      <th>3290</th>\n",
       "      <td>CA</td>\n",
       "      <td>127</td>\n",
       "      <td>510</td>\n",
       "      <td>False</td>\n",
       "      <td>No</td>\n",
       "      <td>0</td>\n",
       "      <td>107.9</td>\n",
       "      <td>128</td>\n",
       "      <td>18.34</td>\n",
       "      <td>187.0</td>\n",
       "      <td>...</td>\n",
       "      <td>15.90</td>\n",
       "      <td>218.5</td>\n",
       "      <td>95</td>\n",
       "      <td>9.83</td>\n",
       "      <td>0.0</td>\n",
       "      <td>0</td>\n",
       "      <td>0.0</td>\n",
       "      <td>0</td>\n",
       "      <td>6580</td>\n",
       "      <td>False</td>\n",
       "    </tr>\n",
       "    <tr>\n",
       "      <th>712</th>\n",
       "      <td>MO</td>\n",
       "      <td>106</td>\n",
       "      <td>415</td>\n",
       "      <td>False</td>\n",
       "      <td>No</td>\n",
       "      <td>0</td>\n",
       "      <td>114.4</td>\n",
       "      <td>104</td>\n",
       "      <td>19.45</td>\n",
       "      <td>78.3</td>\n",
       "      <td>...</td>\n",
       "      <td>6.66</td>\n",
       "      <td>232.7</td>\n",
       "      <td>78</td>\n",
       "      <td>10.47</td>\n",
       "      <td>0.0</td>\n",
       "      <td>0</td>\n",
       "      <td>0.0</td>\n",
       "      <td>2</td>\n",
       "      <td>1424</td>\n",
       "      <td>False</td>\n",
       "    </tr>\n",
       "  </tbody>\n",
       "</table>\n",
       "<p>5 rows × 21 columns</p>\n",
       "</div>"
      ],
      "text/plain": [
       "     State  Account length  Area code  International plan Voice mail plan  \\\n",
       "343     IN              98        408               False             Yes   \n",
       "2513    NY              86        510               False              No   \n",
       "1564    VT             137        510               False              No   \n",
       "3290    CA             127        510               False              No   \n",
       "712     MO             106        415               False              No   \n",
       "\n",
       "      Number vmail messages  Total day minutes  Total day calls  \\\n",
       "343                      21               64.6               98   \n",
       "2513                      0               70.7              125   \n",
       "1564                      0               97.5               95   \n",
       "3290                      0              107.9              128   \n",
       "712                       0              114.4              104   \n",
       "\n",
       "      Total day charge  Total eve minutes  ...  Total eve charge  \\\n",
       "343              10.98              176.1  ...             14.97   \n",
       "2513             12.02              211.0  ...             17.94   \n",
       "1564             16.58              195.8  ...             16.64   \n",
       "3290             18.34              187.0  ...             15.90   \n",
       "712              19.45               78.3  ...              6.66   \n",
       "\n",
       "      Total night minutes  Total night calls  Total night charge  \\\n",
       "343                 244.8                 84               11.02   \n",
       "2513                174.6                107                7.86   \n",
       "1564                288.8                 78               13.00   \n",
       "3290                218.5                 95                9.83   \n",
       "712                 232.7                 78               10.47   \n",
       "\n",
       "      Total intl minutes  Total intl calls  Total intl charge  \\\n",
       "343                  0.0                 0                0.0   \n",
       "2513                 0.0                 0                0.0   \n",
       "1564                 0.0                 0                0.0   \n",
       "3290                 0.0                 0                0.0   \n",
       "712                  0.0                 0                0.0   \n",
       "\n",
       "      Customer service calls  Whats up  Churn  \n",
       "343                        2       686  False  \n",
       "2513                       2      5026  False  \n",
       "1564                       1      3128  False  \n",
       "3290                       0      6580  False  \n",
       "712                        2      1424  False  \n",
       "\n",
       "[5 rows x 21 columns]"
      ]
     },
     "execution_count": 122,
     "metadata": {},
     "output_type": "execute_result"
    }
   ],
   "source": [
    "frame.sort_values(by=['Total intl minutes', 'Total day minutes'], ascending=['True', 'False']).head(5)"
   ]
  },
  {
   "cell_type": "markdown",
   "metadata": {},
   "source": [
    "`sort_values(by, axis=0, ascending=True, inplace=False, kind='quicksort', na_position='last')` - [документ](https://pandas.pydata.org/pandas-docs/stable/generated/pandas.DataFrame.sort_values.html). Сортирует \"последовательно\" идя по `by=[list]` т.е. сперва по 1ому, потом по 2му (если это не противоречит 1му) и т.д.    \n",
    "`ascending` - по-возрастанию  \n",
    "\n",
    "---"
   ]
  },
  {
   "cell_type": "markdown",
   "metadata": {},
   "source": [
    "**.sort_index**"
   ]
  },
  {
   "cell_type": "code",
   "execution_count": 126,
   "metadata": {
    "ExecuteTime": {
     "end_time": "2019-09-06T02:55:41.466376Z",
     "start_time": "2019-09-06T02:55:41.440391Z"
    }
   },
   "outputs": [
    {
     "data": {
      "text/html": [
       "<div>\n",
       "<style scoped>\n",
       "    .dataframe tbody tr th:only-of-type {\n",
       "        vertical-align: middle;\n",
       "    }\n",
       "\n",
       "    .dataframe tbody tr th {\n",
       "        vertical-align: top;\n",
       "    }\n",
       "\n",
       "    .dataframe thead th {\n",
       "        text-align: right;\n",
       "    }\n",
       "</style>\n",
       "<table border=\"1\" class=\"dataframe\">\n",
       "  <thead>\n",
       "    <tr style=\"text-align: right;\">\n",
       "      <th></th>\n",
       "      <th>Account length</th>\n",
       "      <th>Area code</th>\n",
       "      <th>Churn</th>\n",
       "      <th>Customer service calls</th>\n",
       "      <th>International plan</th>\n",
       "      <th>Number vmail messages</th>\n",
       "      <th>State</th>\n",
       "      <th>Total day calls</th>\n",
       "      <th>Total day charge</th>\n",
       "      <th>Total day minutes</th>\n",
       "      <th>...</th>\n",
       "      <th>Total eve charge</th>\n",
       "      <th>Total eve minutes</th>\n",
       "      <th>Total intl calls</th>\n",
       "      <th>Total intl charge</th>\n",
       "      <th>Total intl minutes</th>\n",
       "      <th>Total night calls</th>\n",
       "      <th>Total night charge</th>\n",
       "      <th>Total night minutes</th>\n",
       "      <th>Voice mail plan</th>\n",
       "      <th>Whats up</th>\n",
       "    </tr>\n",
       "  </thead>\n",
       "  <tbody>\n",
       "    <tr>\n",
       "      <th>0</th>\n",
       "      <td>128</td>\n",
       "      <td>415</td>\n",
       "      <td>False</td>\n",
       "      <td>1</td>\n",
       "      <td>False</td>\n",
       "      <td>25</td>\n",
       "      <td>KS</td>\n",
       "      <td>110</td>\n",
       "      <td>45.07</td>\n",
       "      <td>265.1</td>\n",
       "      <td>...</td>\n",
       "      <td>16.78</td>\n",
       "      <td>197.4</td>\n",
       "      <td>3</td>\n",
       "      <td>2.70</td>\n",
       "      <td>10.0</td>\n",
       "      <td>91</td>\n",
       "      <td>11.01</td>\n",
       "      <td>244.7</td>\n",
       "      <td>Yes</td>\n",
       "      <td>0</td>\n",
       "    </tr>\n",
       "    <tr>\n",
       "      <th>1</th>\n",
       "      <td>107</td>\n",
       "      <td>415</td>\n",
       "      <td>False</td>\n",
       "      <td>1</td>\n",
       "      <td>False</td>\n",
       "      <td>26</td>\n",
       "      <td>OH</td>\n",
       "      <td>123</td>\n",
       "      <td>27.47</td>\n",
       "      <td>161.6</td>\n",
       "      <td>...</td>\n",
       "      <td>16.62</td>\n",
       "      <td>195.5</td>\n",
       "      <td>3</td>\n",
       "      <td>3.70</td>\n",
       "      <td>13.7</td>\n",
       "      <td>103</td>\n",
       "      <td>11.45</td>\n",
       "      <td>254.4</td>\n",
       "      <td>Yes</td>\n",
       "      <td>2</td>\n",
       "    </tr>\n",
       "    <tr>\n",
       "      <th>2</th>\n",
       "      <td>137</td>\n",
       "      <td>415</td>\n",
       "      <td>False</td>\n",
       "      <td>0</td>\n",
       "      <td>False</td>\n",
       "      <td>0</td>\n",
       "      <td>My State</td>\n",
       "      <td>114</td>\n",
       "      <td>41.38</td>\n",
       "      <td>243.4</td>\n",
       "      <td>...</td>\n",
       "      <td>10.30</td>\n",
       "      <td>121.2</td>\n",
       "      <td>5</td>\n",
       "      <td>3.29</td>\n",
       "      <td>12.2</td>\n",
       "      <td>104</td>\n",
       "      <td>7.32</td>\n",
       "      <td>162.6</td>\n",
       "      <td>No</td>\n",
       "      <td>4</td>\n",
       "    </tr>\n",
       "  </tbody>\n",
       "</table>\n",
       "<p>3 rows × 21 columns</p>\n",
       "</div>"
      ],
      "text/plain": [
       "   Account length  Area code  Churn  Customer service calls  \\\n",
       "0             128        415  False                       1   \n",
       "1             107        415  False                       1   \n",
       "2             137        415  False                       0   \n",
       "\n",
       "   International plan  Number vmail messages     State  Total day calls  \\\n",
       "0               False                     25        KS              110   \n",
       "1               False                     26        OH              123   \n",
       "2               False                      0  My State              114   \n",
       "\n",
       "   Total day charge  Total day minutes  ...  Total eve charge  \\\n",
       "0             45.07              265.1  ...             16.78   \n",
       "1             27.47              161.6  ...             16.62   \n",
       "2             41.38              243.4  ...             10.30   \n",
       "\n",
       "   Total eve minutes  Total intl calls  Total intl charge  Total intl minutes  \\\n",
       "0              197.4                 3               2.70                10.0   \n",
       "1              195.5                 3               3.70                13.7   \n",
       "2              121.2                 5               3.29                12.2   \n",
       "\n",
       "   Total night calls  Total night charge  Total night minutes  \\\n",
       "0                 91               11.01                244.7   \n",
       "1                103               11.45                254.4   \n",
       "2                104                7.32                162.6   \n",
       "\n",
       "   Voice mail plan Whats up  \n",
       "0              Yes        0  \n",
       "1              Yes        2  \n",
       "2               No        4  \n",
       "\n",
       "[3 rows x 21 columns]"
      ]
     },
     "execution_count": 126,
     "metadata": {},
     "output_type": "execute_result"
    }
   ],
   "source": [
    "#sort by the titles of rows or columns\n",
    "frame.sort_index(axis=1, ascending=True).head(3) #axis = 0 - row(index), axis = 1 columns"
   ]
  },
  {
   "cell_type": "code",
   "execution_count": 127,
   "metadata": {
    "ExecuteTime": {
     "end_time": "2019-09-06T02:55:44.923390Z",
     "start_time": "2019-09-06T02:55:44.898391Z"
    }
   },
   "outputs": [
    {
     "data": {
      "text/html": [
       "<div>\n",
       "<style scoped>\n",
       "    .dataframe tbody tr th:only-of-type {\n",
       "        vertical-align: middle;\n",
       "    }\n",
       "\n",
       "    .dataframe tbody tr th {\n",
       "        vertical-align: top;\n",
       "    }\n",
       "\n",
       "    .dataframe thead th {\n",
       "        text-align: right;\n",
       "    }\n",
       "</style>\n",
       "<table border=\"1\" class=\"dataframe\">\n",
       "  <thead>\n",
       "    <tr style=\"text-align: right;\">\n",
       "      <th></th>\n",
       "      <th>State</th>\n",
       "      <th>Account length</th>\n",
       "      <th>Area code</th>\n",
       "      <th>International plan</th>\n",
       "      <th>Voice mail plan</th>\n",
       "      <th>Number vmail messages</th>\n",
       "      <th>Total day minutes</th>\n",
       "      <th>Total day calls</th>\n",
       "      <th>Total day charge</th>\n",
       "      <th>Total eve minutes</th>\n",
       "      <th>...</th>\n",
       "      <th>Total eve charge</th>\n",
       "      <th>Total night minutes</th>\n",
       "      <th>Total night calls</th>\n",
       "      <th>Total night charge</th>\n",
       "      <th>Total intl minutes</th>\n",
       "      <th>Total intl calls</th>\n",
       "      <th>Total intl charge</th>\n",
       "      <th>Customer service calls</th>\n",
       "      <th>Whats up</th>\n",
       "      <th>Churn</th>\n",
       "    </tr>\n",
       "  </thead>\n",
       "  <tbody>\n",
       "    <tr>\n",
       "      <th>3332</th>\n",
       "      <td>TN</td>\n",
       "      <td>74</td>\n",
       "      <td>415</td>\n",
       "      <td>False</td>\n",
       "      <td>Yes</td>\n",
       "      <td>25</td>\n",
       "      <td>234.4</td>\n",
       "      <td>113</td>\n",
       "      <td>39.85</td>\n",
       "      <td>265.9</td>\n",
       "      <td>...</td>\n",
       "      <td>22.60</td>\n",
       "      <td>241.4</td>\n",
       "      <td>77</td>\n",
       "      <td>10.86</td>\n",
       "      <td>13.7</td>\n",
       "      <td>4</td>\n",
       "      <td>3.70</td>\n",
       "      <td>0</td>\n",
       "      <td>6664</td>\n",
       "      <td>False</td>\n",
       "    </tr>\n",
       "    <tr>\n",
       "      <th>3331</th>\n",
       "      <td>CT</td>\n",
       "      <td>184</td>\n",
       "      <td>510</td>\n",
       "      <td>True</td>\n",
       "      <td>No</td>\n",
       "      <td>0</td>\n",
       "      <td>213.8</td>\n",
       "      <td>105</td>\n",
       "      <td>36.35</td>\n",
       "      <td>159.6</td>\n",
       "      <td>...</td>\n",
       "      <td>13.57</td>\n",
       "      <td>139.2</td>\n",
       "      <td>137</td>\n",
       "      <td>6.26</td>\n",
       "      <td>5.0</td>\n",
       "      <td>10</td>\n",
       "      <td>1.35</td>\n",
       "      <td>2</td>\n",
       "      <td>6662</td>\n",
       "      <td>False</td>\n",
       "    </tr>\n",
       "    <tr>\n",
       "      <th>3330</th>\n",
       "      <td>RI</td>\n",
       "      <td>28</td>\n",
       "      <td>510</td>\n",
       "      <td>False</td>\n",
       "      <td>No</td>\n",
       "      <td>0</td>\n",
       "      <td>180.8</td>\n",
       "      <td>109</td>\n",
       "      <td>30.74</td>\n",
       "      <td>288.8</td>\n",
       "      <td>...</td>\n",
       "      <td>24.55</td>\n",
       "      <td>191.9</td>\n",
       "      <td>91</td>\n",
       "      <td>8.64</td>\n",
       "      <td>14.1</td>\n",
       "      <td>6</td>\n",
       "      <td>3.81</td>\n",
       "      <td>2</td>\n",
       "      <td>6660</td>\n",
       "      <td>False</td>\n",
       "    </tr>\n",
       "  </tbody>\n",
       "</table>\n",
       "<p>3 rows × 21 columns</p>\n",
       "</div>"
      ],
      "text/plain": [
       "     State  Account length  Area code  International plan Voice mail plan  \\\n",
       "3332    TN              74        415               False             Yes   \n",
       "3331    CT             184        510                True              No   \n",
       "3330    RI              28        510               False              No   \n",
       "\n",
       "      Number vmail messages  Total day minutes  Total day calls  \\\n",
       "3332                     25              234.4              113   \n",
       "3331                      0              213.8              105   \n",
       "3330                      0              180.8              109   \n",
       "\n",
       "      Total day charge  Total eve minutes  ...  Total eve charge  \\\n",
       "3332             39.85              265.9  ...             22.60   \n",
       "3331             36.35              159.6  ...             13.57   \n",
       "3330             30.74              288.8  ...             24.55   \n",
       "\n",
       "      Total night minutes  Total night calls  Total night charge  \\\n",
       "3332                241.4                 77               10.86   \n",
       "3331                139.2                137                6.26   \n",
       "3330                191.9                 91                8.64   \n",
       "\n",
       "      Total intl minutes  Total intl calls  Total intl charge  \\\n",
       "3332                13.7                 4               3.70   \n",
       "3331                 5.0                10               1.35   \n",
       "3330                14.1                 6               3.81   \n",
       "\n",
       "      Customer service calls  Whats up  Churn  \n",
       "3332                       0      6664  False  \n",
       "3331                       2      6662  False  \n",
       "3330                       2      6660  False  \n",
       "\n",
       "[3 rows x 21 columns]"
      ]
     },
     "execution_count": 127,
     "metadata": {},
     "output_type": "execute_result"
    }
   ],
   "source": [
    "frame.sort_index(axis=0, ascending=False).head(3) #axis = 0 - row(index), axis = 1 columns"
   ]
  },
  {
   "cell_type": "markdown",
   "metadata": {},
   "source": [
    "### Analysis"
   ]
  },
  {
   "cell_type": "markdown",
   "metadata": {},
   "source": [
    "**df.describe**"
   ]
  },
  {
   "cell_type": "code",
   "execution_count": 96,
   "metadata": {
    "ExecuteTime": {
     "end_time": "2019-09-06T02:38:25.527245Z",
     "start_time": "2019-09-06T02:38:25.419294Z"
    }
   },
   "outputs": [
    {
     "data": {
      "text/html": [
       "<div>\n",
       "<style scoped>\n",
       "    .dataframe tbody tr th:only-of-type {\n",
       "        vertical-align: middle;\n",
       "    }\n",
       "\n",
       "    .dataframe tbody tr th {\n",
       "        vertical-align: top;\n",
       "    }\n",
       "\n",
       "    .dataframe thead th {\n",
       "        text-align: right;\n",
       "    }\n",
       "</style>\n",
       "<table border=\"1\" class=\"dataframe\">\n",
       "  <thead>\n",
       "    <tr style=\"text-align: right;\">\n",
       "      <th></th>\n",
       "      <th>Account length</th>\n",
       "      <th>Area code</th>\n",
       "      <th>Number vmail messages</th>\n",
       "      <th>Total day minutes</th>\n",
       "      <th>Total day calls</th>\n",
       "      <th>Total day charge</th>\n",
       "      <th>Total eve minutes</th>\n",
       "      <th>Total eve calls</th>\n",
       "      <th>Total eve charge</th>\n",
       "      <th>Total night minutes</th>\n",
       "      <th>Total night calls</th>\n",
       "      <th>Total night charge</th>\n",
       "      <th>Total intl minutes</th>\n",
       "      <th>Total intl calls</th>\n",
       "      <th>Total intl charge</th>\n",
       "      <th>Customer service calls</th>\n",
       "      <th>Whats up</th>\n",
       "    </tr>\n",
       "  </thead>\n",
       "  <tbody>\n",
       "    <tr>\n",
       "      <th>count</th>\n",
       "      <td>3333.000000</td>\n",
       "      <td>3333.000000</td>\n",
       "      <td>3333.000000</td>\n",
       "      <td>3333.000000</td>\n",
       "      <td>3333.000000</td>\n",
       "      <td>3333.000000</td>\n",
       "      <td>3333.000000</td>\n",
       "      <td>3333.000000</td>\n",
       "      <td>3333.000000</td>\n",
       "      <td>3333.000000</td>\n",
       "      <td>3333.000000</td>\n",
       "      <td>3333.000000</td>\n",
       "      <td>3333.000000</td>\n",
       "      <td>3333.000000</td>\n",
       "      <td>3333.000000</td>\n",
       "      <td>3333.000000</td>\n",
       "      <td>3333.000000</td>\n",
       "    </tr>\n",
       "    <tr>\n",
       "      <th>mean</th>\n",
       "      <td>101.064806</td>\n",
       "      <td>437.182418</td>\n",
       "      <td>8.099010</td>\n",
       "      <td>179.775098</td>\n",
       "      <td>100.435644</td>\n",
       "      <td>30.562307</td>\n",
       "      <td>200.980348</td>\n",
       "      <td>100.114311</td>\n",
       "      <td>17.083540</td>\n",
       "      <td>200.872037</td>\n",
       "      <td>100.107711</td>\n",
       "      <td>9.039325</td>\n",
       "      <td>10.237294</td>\n",
       "      <td>4.479448</td>\n",
       "      <td>2.764581</td>\n",
       "      <td>1.562856</td>\n",
       "      <td>3332.000000</td>\n",
       "    </tr>\n",
       "    <tr>\n",
       "      <th>std</th>\n",
       "      <td>39.822106</td>\n",
       "      <td>42.371290</td>\n",
       "      <td>13.688365</td>\n",
       "      <td>54.467389</td>\n",
       "      <td>20.069084</td>\n",
       "      <td>9.259435</td>\n",
       "      <td>50.713844</td>\n",
       "      <td>19.922625</td>\n",
       "      <td>4.310668</td>\n",
       "      <td>50.573847</td>\n",
       "      <td>19.568609</td>\n",
       "      <td>2.275873</td>\n",
       "      <td>2.791840</td>\n",
       "      <td>2.461214</td>\n",
       "      <td>0.753773</td>\n",
       "      <td>1.315491</td>\n",
       "      <td>1924.597101</td>\n",
       "    </tr>\n",
       "    <tr>\n",
       "      <th>min</th>\n",
       "      <td>1.000000</td>\n",
       "      <td>408.000000</td>\n",
       "      <td>0.000000</td>\n",
       "      <td>0.000000</td>\n",
       "      <td>0.000000</td>\n",
       "      <td>0.000000</td>\n",
       "      <td>0.000000</td>\n",
       "      <td>0.000000</td>\n",
       "      <td>0.000000</td>\n",
       "      <td>23.200000</td>\n",
       "      <td>33.000000</td>\n",
       "      <td>1.040000</td>\n",
       "      <td>0.000000</td>\n",
       "      <td>0.000000</td>\n",
       "      <td>0.000000</td>\n",
       "      <td>0.000000</td>\n",
       "      <td>0.000000</td>\n",
       "    </tr>\n",
       "    <tr>\n",
       "      <th>25%</th>\n",
       "      <td>74.000000</td>\n",
       "      <td>408.000000</td>\n",
       "      <td>0.000000</td>\n",
       "      <td>143.700000</td>\n",
       "      <td>87.000000</td>\n",
       "      <td>24.430000</td>\n",
       "      <td>166.600000</td>\n",
       "      <td>87.000000</td>\n",
       "      <td>14.160000</td>\n",
       "      <td>167.000000</td>\n",
       "      <td>87.000000</td>\n",
       "      <td>7.520000</td>\n",
       "      <td>8.500000</td>\n",
       "      <td>3.000000</td>\n",
       "      <td>2.300000</td>\n",
       "      <td>1.000000</td>\n",
       "      <td>1666.000000</td>\n",
       "    </tr>\n",
       "    <tr>\n",
       "      <th>50%</th>\n",
       "      <td>101.000000</td>\n",
       "      <td>415.000000</td>\n",
       "      <td>0.000000</td>\n",
       "      <td>179.400000</td>\n",
       "      <td>101.000000</td>\n",
       "      <td>30.500000</td>\n",
       "      <td>201.400000</td>\n",
       "      <td>100.000000</td>\n",
       "      <td>17.120000</td>\n",
       "      <td>201.200000</td>\n",
       "      <td>100.000000</td>\n",
       "      <td>9.050000</td>\n",
       "      <td>10.300000</td>\n",
       "      <td>4.000000</td>\n",
       "      <td>2.780000</td>\n",
       "      <td>1.000000</td>\n",
       "      <td>3332.000000</td>\n",
       "    </tr>\n",
       "    <tr>\n",
       "      <th>75%</th>\n",
       "      <td>127.000000</td>\n",
       "      <td>510.000000</td>\n",
       "      <td>20.000000</td>\n",
       "      <td>216.400000</td>\n",
       "      <td>114.000000</td>\n",
       "      <td>36.790000</td>\n",
       "      <td>235.300000</td>\n",
       "      <td>114.000000</td>\n",
       "      <td>20.000000</td>\n",
       "      <td>235.300000</td>\n",
       "      <td>113.000000</td>\n",
       "      <td>10.590000</td>\n",
       "      <td>12.100000</td>\n",
       "      <td>6.000000</td>\n",
       "      <td>3.270000</td>\n",
       "      <td>2.000000</td>\n",
       "      <td>4998.000000</td>\n",
       "    </tr>\n",
       "    <tr>\n",
       "      <th>max</th>\n",
       "      <td>243.000000</td>\n",
       "      <td>510.000000</td>\n",
       "      <td>51.000000</td>\n",
       "      <td>350.800000</td>\n",
       "      <td>165.000000</td>\n",
       "      <td>59.640000</td>\n",
       "      <td>363.700000</td>\n",
       "      <td>170.000000</td>\n",
       "      <td>30.910000</td>\n",
       "      <td>395.000000</td>\n",
       "      <td>175.000000</td>\n",
       "      <td>17.770000</td>\n",
       "      <td>20.000000</td>\n",
       "      <td>20.000000</td>\n",
       "      <td>5.400000</td>\n",
       "      <td>9.000000</td>\n",
       "      <td>6664.000000</td>\n",
       "    </tr>\n",
       "  </tbody>\n",
       "</table>\n",
       "</div>"
      ],
      "text/plain": [
       "       Account length    Area code  Number vmail messages  Total day minutes  \\\n",
       "count     3333.000000  3333.000000            3333.000000        3333.000000   \n",
       "mean       101.064806   437.182418               8.099010         179.775098   \n",
       "std         39.822106    42.371290              13.688365          54.467389   \n",
       "min          1.000000   408.000000               0.000000           0.000000   \n",
       "25%         74.000000   408.000000               0.000000         143.700000   \n",
       "50%        101.000000   415.000000               0.000000         179.400000   \n",
       "75%        127.000000   510.000000              20.000000         216.400000   \n",
       "max        243.000000   510.000000              51.000000         350.800000   \n",
       "\n",
       "       Total day calls  Total day charge  Total eve minutes  Total eve calls  \\\n",
       "count      3333.000000       3333.000000        3333.000000      3333.000000   \n",
       "mean        100.435644         30.562307         200.980348       100.114311   \n",
       "std          20.069084          9.259435          50.713844        19.922625   \n",
       "min           0.000000          0.000000           0.000000         0.000000   \n",
       "25%          87.000000         24.430000         166.600000        87.000000   \n",
       "50%         101.000000         30.500000         201.400000       100.000000   \n",
       "75%         114.000000         36.790000         235.300000       114.000000   \n",
       "max         165.000000         59.640000         363.700000       170.000000   \n",
       "\n",
       "       Total eve charge  Total night minutes  Total night calls  \\\n",
       "count       3333.000000          3333.000000        3333.000000   \n",
       "mean          17.083540           200.872037         100.107711   \n",
       "std            4.310668            50.573847          19.568609   \n",
       "min            0.000000            23.200000          33.000000   \n",
       "25%           14.160000           167.000000          87.000000   \n",
       "50%           17.120000           201.200000         100.000000   \n",
       "75%           20.000000           235.300000         113.000000   \n",
       "max           30.910000           395.000000         175.000000   \n",
       "\n",
       "       Total night charge  Total intl minutes  Total intl calls  \\\n",
       "count         3333.000000         3333.000000       3333.000000   \n",
       "mean             9.039325           10.237294          4.479448   \n",
       "std              2.275873            2.791840          2.461214   \n",
       "min              1.040000            0.000000          0.000000   \n",
       "25%              7.520000            8.500000          3.000000   \n",
       "50%              9.050000           10.300000          4.000000   \n",
       "75%             10.590000           12.100000          6.000000   \n",
       "max             17.770000           20.000000         20.000000   \n",
       "\n",
       "       Total intl charge  Customer service calls     Whats up  \n",
       "count        3333.000000             3333.000000  3333.000000  \n",
       "mean            2.764581                1.562856  3332.000000  \n",
       "std             0.753773                1.315491  1924.597101  \n",
       "min             0.000000                0.000000     0.000000  \n",
       "25%             2.300000                1.000000  1666.000000  \n",
       "50%             2.780000                1.000000  3332.000000  \n",
       "75%             3.270000                2.000000  4998.000000  \n",
       "max             5.400000                9.000000  6664.000000  "
      ]
     },
     "execution_count": 96,
     "metadata": {},
     "output_type": "execute_result"
    }
   ],
   "source": [
    "frame.describe()                                 # by default gives statistics only for columns with numerical dtypes"
   ]
  },
  {
   "cell_type": "code",
   "execution_count": 97,
   "metadata": {
    "ExecuteTime": {
     "end_time": "2019-09-06T02:39:00.707707Z",
     "start_time": "2019-09-06T02:39:00.662734Z"
    },
    "scrolled": true
   },
   "outputs": [
    {
     "data": {
      "text/html": [
       "<div>\n",
       "<style scoped>\n",
       "    .dataframe tbody tr th:only-of-type {\n",
       "        vertical-align: middle;\n",
       "    }\n",
       "\n",
       "    .dataframe tbody tr th {\n",
       "        vertical-align: top;\n",
       "    }\n",
       "\n",
       "    .dataframe thead th {\n",
       "        text-align: right;\n",
       "    }\n",
       "</style>\n",
       "<table border=\"1\" class=\"dataframe\">\n",
       "  <thead>\n",
       "    <tr style=\"text-align: right;\">\n",
       "      <th></th>\n",
       "      <th>State</th>\n",
       "      <th>Account length</th>\n",
       "      <th>Area code</th>\n",
       "      <th>Voice mail plan</th>\n",
       "      <th>Number vmail messages</th>\n",
       "      <th>Total day calls</th>\n",
       "      <th>Total eve calls</th>\n",
       "      <th>Total night calls</th>\n",
       "      <th>Total intl calls</th>\n",
       "      <th>Customer service calls</th>\n",
       "      <th>Whats up</th>\n",
       "    </tr>\n",
       "  </thead>\n",
       "  <tbody>\n",
       "    <tr>\n",
       "      <th>count</th>\n",
       "      <td>3333</td>\n",
       "      <td>3333.000000</td>\n",
       "      <td>3333.000000</td>\n",
       "      <td>3333</td>\n",
       "      <td>3333.000000</td>\n",
       "      <td>3333.000000</td>\n",
       "      <td>3333.000000</td>\n",
       "      <td>3333.000000</td>\n",
       "      <td>3333.000000</td>\n",
       "      <td>3333.000000</td>\n",
       "      <td>3333.000000</td>\n",
       "    </tr>\n",
       "    <tr>\n",
       "      <th>unique</th>\n",
       "      <td>52</td>\n",
       "      <td>NaN</td>\n",
       "      <td>NaN</td>\n",
       "      <td>2</td>\n",
       "      <td>NaN</td>\n",
       "      <td>NaN</td>\n",
       "      <td>NaN</td>\n",
       "      <td>NaN</td>\n",
       "      <td>NaN</td>\n",
       "      <td>NaN</td>\n",
       "      <td>NaN</td>\n",
       "    </tr>\n",
       "    <tr>\n",
       "      <th>top</th>\n",
       "      <td>WV</td>\n",
       "      <td>NaN</td>\n",
       "      <td>NaN</td>\n",
       "      <td>No</td>\n",
       "      <td>NaN</td>\n",
       "      <td>NaN</td>\n",
       "      <td>NaN</td>\n",
       "      <td>NaN</td>\n",
       "      <td>NaN</td>\n",
       "      <td>NaN</td>\n",
       "      <td>NaN</td>\n",
       "    </tr>\n",
       "    <tr>\n",
       "      <th>freq</th>\n",
       "      <td>106</td>\n",
       "      <td>NaN</td>\n",
       "      <td>NaN</td>\n",
       "      <td>2411</td>\n",
       "      <td>NaN</td>\n",
       "      <td>NaN</td>\n",
       "      <td>NaN</td>\n",
       "      <td>NaN</td>\n",
       "      <td>NaN</td>\n",
       "      <td>NaN</td>\n",
       "      <td>NaN</td>\n",
       "    </tr>\n",
       "    <tr>\n",
       "      <th>mean</th>\n",
       "      <td>NaN</td>\n",
       "      <td>101.064806</td>\n",
       "      <td>437.182418</td>\n",
       "      <td>NaN</td>\n",
       "      <td>8.099010</td>\n",
       "      <td>100.435644</td>\n",
       "      <td>100.114311</td>\n",
       "      <td>100.107711</td>\n",
       "      <td>4.479448</td>\n",
       "      <td>1.562856</td>\n",
       "      <td>3332.000000</td>\n",
       "    </tr>\n",
       "    <tr>\n",
       "      <th>std</th>\n",
       "      <td>NaN</td>\n",
       "      <td>39.822106</td>\n",
       "      <td>42.371290</td>\n",
       "      <td>NaN</td>\n",
       "      <td>13.688365</td>\n",
       "      <td>20.069084</td>\n",
       "      <td>19.922625</td>\n",
       "      <td>19.568609</td>\n",
       "      <td>2.461214</td>\n",
       "      <td>1.315491</td>\n",
       "      <td>1924.597101</td>\n",
       "    </tr>\n",
       "    <tr>\n",
       "      <th>min</th>\n",
       "      <td>NaN</td>\n",
       "      <td>1.000000</td>\n",
       "      <td>408.000000</td>\n",
       "      <td>NaN</td>\n",
       "      <td>0.000000</td>\n",
       "      <td>0.000000</td>\n",
       "      <td>0.000000</td>\n",
       "      <td>33.000000</td>\n",
       "      <td>0.000000</td>\n",
       "      <td>0.000000</td>\n",
       "      <td>0.000000</td>\n",
       "    </tr>\n",
       "    <tr>\n",
       "      <th>25%</th>\n",
       "      <td>NaN</td>\n",
       "      <td>74.000000</td>\n",
       "      <td>408.000000</td>\n",
       "      <td>NaN</td>\n",
       "      <td>0.000000</td>\n",
       "      <td>87.000000</td>\n",
       "      <td>87.000000</td>\n",
       "      <td>87.000000</td>\n",
       "      <td>3.000000</td>\n",
       "      <td>1.000000</td>\n",
       "      <td>1666.000000</td>\n",
       "    </tr>\n",
       "    <tr>\n",
       "      <th>50%</th>\n",
       "      <td>NaN</td>\n",
       "      <td>101.000000</td>\n",
       "      <td>415.000000</td>\n",
       "      <td>NaN</td>\n",
       "      <td>0.000000</td>\n",
       "      <td>101.000000</td>\n",
       "      <td>100.000000</td>\n",
       "      <td>100.000000</td>\n",
       "      <td>4.000000</td>\n",
       "      <td>1.000000</td>\n",
       "      <td>3332.000000</td>\n",
       "    </tr>\n",
       "    <tr>\n",
       "      <th>75%</th>\n",
       "      <td>NaN</td>\n",
       "      <td>127.000000</td>\n",
       "      <td>510.000000</td>\n",
       "      <td>NaN</td>\n",
       "      <td>20.000000</td>\n",
       "      <td>114.000000</td>\n",
       "      <td>114.000000</td>\n",
       "      <td>113.000000</td>\n",
       "      <td>6.000000</td>\n",
       "      <td>2.000000</td>\n",
       "      <td>4998.000000</td>\n",
       "    </tr>\n",
       "    <tr>\n",
       "      <th>max</th>\n",
       "      <td>NaN</td>\n",
       "      <td>243.000000</td>\n",
       "      <td>510.000000</td>\n",
       "      <td>NaN</td>\n",
       "      <td>51.000000</td>\n",
       "      <td>165.000000</td>\n",
       "      <td>170.000000</td>\n",
       "      <td>175.000000</td>\n",
       "      <td>20.000000</td>\n",
       "      <td>9.000000</td>\n",
       "      <td>6664.000000</td>\n",
       "    </tr>\n",
       "  </tbody>\n",
       "</table>\n",
       "</div>"
      ],
      "text/plain": [
       "       State  Account length    Area code Voice mail plan  \\\n",
       "count   3333     3333.000000  3333.000000            3333   \n",
       "unique    52             NaN          NaN               2   \n",
       "top       WV             NaN          NaN              No   \n",
       "freq     106             NaN          NaN            2411   \n",
       "mean     NaN      101.064806   437.182418             NaN   \n",
       "std      NaN       39.822106    42.371290             NaN   \n",
       "min      NaN        1.000000   408.000000             NaN   \n",
       "25%      NaN       74.000000   408.000000             NaN   \n",
       "50%      NaN      101.000000   415.000000             NaN   \n",
       "75%      NaN      127.000000   510.000000             NaN   \n",
       "max      NaN      243.000000   510.000000             NaN   \n",
       "\n",
       "        Number vmail messages  Total day calls  Total eve calls  \\\n",
       "count             3333.000000      3333.000000      3333.000000   \n",
       "unique                    NaN              NaN              NaN   \n",
       "top                       NaN              NaN              NaN   \n",
       "freq                      NaN              NaN              NaN   \n",
       "mean                 8.099010       100.435644       100.114311   \n",
       "std                 13.688365        20.069084        19.922625   \n",
       "min                  0.000000         0.000000         0.000000   \n",
       "25%                  0.000000        87.000000        87.000000   \n",
       "50%                  0.000000       101.000000       100.000000   \n",
       "75%                 20.000000       114.000000       114.000000   \n",
       "max                 51.000000       165.000000       170.000000   \n",
       "\n",
       "        Total night calls  Total intl calls  Customer service calls  \\\n",
       "count         3333.000000       3333.000000             3333.000000   \n",
       "unique                NaN               NaN                     NaN   \n",
       "top                   NaN               NaN                     NaN   \n",
       "freq                  NaN               NaN                     NaN   \n",
       "mean           100.107711          4.479448                1.562856   \n",
       "std             19.568609          2.461214                1.315491   \n",
       "min             33.000000          0.000000                0.000000   \n",
       "25%             87.000000          3.000000                1.000000   \n",
       "50%            100.000000          4.000000                1.000000   \n",
       "75%            113.000000          6.000000                2.000000   \n",
       "max            175.000000         20.000000                9.000000   \n",
       "\n",
       "           Whats up  \n",
       "count   3333.000000  \n",
       "unique          NaN  \n",
       "top             NaN  \n",
       "freq            NaN  \n",
       "mean    3332.000000  \n",
       "std     1924.597101  \n",
       "min        0.000000  \n",
       "25%     1666.000000  \n",
       "50%     3332.000000  \n",
       "75%     4998.000000  \n",
       "max     6664.000000  "
      ]
     },
     "execution_count": 97,
     "metadata": {},
     "output_type": "execute_result"
    }
   ],
   "source": [
    "frame.describe(include=['object', 'int64'])     # can directly tell what types to consider"
   ]
  },
  {
   "cell_type": "markdown",
   "metadata": {},
   "source": [
    "Дает основную статистику по всем численным колонкам (default), по интструкции `include` добавит другие типы. `ibclude='all'` -включит все."
   ]
  },
  {
   "cell_type": "markdown",
   "metadata": {},
   "source": [
    "**min, max, mean**  \n",
    "Все доступно через Numpy"
   ]
  },
  {
   "cell_type": "code",
   "execution_count": 98,
   "metadata": {
    "ExecuteTime": {
     "end_time": "2019-09-06T02:39:47.568048Z",
     "start_time": "2019-09-06T02:39:47.563050Z"
    }
   },
   "outputs": [
    {
     "data": {
      "text/plain": [
       "100.43564356435644"
      ]
     },
     "execution_count": 98,
     "metadata": {},
     "output_type": "execute_result"
    }
   ],
   "source": [
    "frame['Total day calls'].mean()  #среднее. Через NumPY доступны стандартные .max и .min"
   ]
  },
  {
   "cell_type": "code",
   "execution_count": 100,
   "metadata": {
    "ExecuteTime": {
     "end_time": "2019-09-06T02:40:17.042360Z",
     "start_time": "2019-09-06T02:40:17.038376Z"
    }
   },
   "outputs": [
    {
     "name": "stdout",
     "output_type": "stream",
     "text": [
      "165\n",
      "0\n"
     ]
    }
   ],
   "source": [
    "print(frame['Total day calls'].max())\n",
    "print(frame['Total day calls'].min())"
   ]
  },
  {
   "cell_type": "markdown",
   "metadata": {},
   "source": [
    "**.count() и .value_counts()**"
   ]
  },
  {
   "cell_type": "markdown",
   "metadata": {},
   "source": [
    "`pd.count()` - считает общее кол-во объектов (удобнее использовать в `pd.groupby(sort_col)[apply_col].count()`)    \n",
    "`pd.value_counts()` - считает уникальные значения в колонках. Действует также на Series."
   ]
  },
  {
   "cell_type": "code",
   "execution_count": 92,
   "metadata": {
    "ExecuteTime": {
     "end_time": "2019-09-06T02:31:15.040960Z",
     "start_time": "2019-09-06T02:31:15.034974Z"
    }
   },
   "outputs": [
    {
     "data": {
      "text/plain": [
       "3333"
      ]
     },
     "execution_count": 92,
     "metadata": {},
     "output_type": "execute_result"
    }
   ],
   "source": [
    "frame['State'].count()"
   ]
  },
  {
   "cell_type": "code",
   "execution_count": 91,
   "metadata": {
    "ExecuteTime": {
     "end_time": "2019-09-06T02:30:57.697428Z",
     "start_time": "2019-09-06T02:30:57.135188Z"
    }
   },
   "outputs": [
    {
     "data": {
      "text/plain": [
       "WV    0.031803\n",
       "MN    0.025203\n",
       "NY    0.024902\n",
       "AL    0.024002\n",
       "WI    0.023402\n",
       "Name: State, dtype: float64"
      ]
     },
     "execution_count": 91,
     "metadata": {},
     "output_type": "execute_result"
    }
   ],
   "source": [
    "frame['State'].value_counts(normalize=True).head(5)"
   ]
  },
  {
   "cell_type": "markdown",
   "metadata": {},
   "source": [
    "___\n",
    "\n"
   ]
  },
  {
   "cell_type": "markdown",
   "metadata": {
    "heading_collapsed": true
   },
   "source": [
    "#### Корреляция: "
   ]
  },
  {
   "cell_type": "markdown",
   "metadata": {
    "hidden": true
   },
   "source": [
    "`DataFrame.corr(method='pearson', min_periods=1)`\n",
    "\n",
    "    Compute pairwise correlation of columns, excluding NA/null values.\n",
    "    Parameters:\t\n",
    "\n",
    "    method : {‘pearson’, ‘kendall’, ‘spearman’} or callable(=custom)\n",
    "\n",
    "            pearson : standard correlation coefficient\n",
    "            kendall : Kendall Tau correlation coefficient\n",
    "            spearman : Spearman rank correlation\n",
    "\n",
    "            callable(=custom): callable with input two 1d ndarrays\n",
    "                and returning a float .. versionadded:: 0.24.0\n",
    "\n",
    "    min_periods : int, optional\n",
    "\n",
    "        Minimum number of observations required per pair of columns to have a valid result. Currently only available for pearson and spearman correlation  \n",
    "        \n",
    " [Документация](https://pandas.pydata.org/pandas-docs/stable/reference/api/pandas.DataFrame.corr.html)"
   ]
  },
  {
   "cell_type": "code",
   "execution_count": 128,
   "metadata": {
    "ExecuteTime": {
     "end_time": "2019-09-06T02:57:46.279345Z",
     "start_time": "2019-09-06T02:57:31.884776Z"
    },
    "hidden": true
   },
   "outputs": [
    {
     "data": {
      "text/html": [
       "<div>\n",
       "<style scoped>\n",
       "    .dataframe tbody tr th:only-of-type {\n",
       "        vertical-align: middle;\n",
       "    }\n",
       "\n",
       "    .dataframe tbody tr th {\n",
       "        vertical-align: top;\n",
       "    }\n",
       "\n",
       "    .dataframe thead th {\n",
       "        text-align: right;\n",
       "    }\n",
       "</style>\n",
       "<table border=\"1\" class=\"dataframe\">\n",
       "  <thead>\n",
       "    <tr style=\"text-align: right;\">\n",
       "      <th></th>\n",
       "      <th>Account length</th>\n",
       "      <th>Area code</th>\n",
       "      <th>International plan</th>\n",
       "      <th>Number vmail messages</th>\n",
       "      <th>Total day minutes</th>\n",
       "      <th>Total day calls</th>\n",
       "      <th>Total day charge</th>\n",
       "      <th>Total eve minutes</th>\n",
       "      <th>Total eve calls</th>\n",
       "      <th>Total eve charge</th>\n",
       "      <th>Total night minutes</th>\n",
       "      <th>Total night calls</th>\n",
       "      <th>Total night charge</th>\n",
       "      <th>Total intl minutes</th>\n",
       "      <th>Total intl calls</th>\n",
       "      <th>Total intl charge</th>\n",
       "      <th>Customer service calls</th>\n",
       "      <th>Whats up</th>\n",
       "      <th>Churn</th>\n",
       "    </tr>\n",
       "  </thead>\n",
       "  <tbody>\n",
       "    <tr>\n",
       "      <th>Account length</th>\n",
       "      <td>1.000000</td>\n",
       "      <td>-0.013570</td>\n",
       "      <td>0.024206</td>\n",
       "      <td>0.002481</td>\n",
       "      <td>0.011916</td>\n",
       "      <td>0.022170</td>\n",
       "      <td>0.011916</td>\n",
       "      <td>-0.005317</td>\n",
       "      <td>0.012529</td>\n",
       "      <td>-0.005314</td>\n",
       "      <td>-0.008965</td>\n",
       "      <td>-0.004998</td>\n",
       "      <td>-0.008971</td>\n",
       "      <td>0.009908</td>\n",
       "      <td>0.019517</td>\n",
       "      <td>0.009908</td>\n",
       "      <td>-0.004341</td>\n",
       "      <td>0.026777</td>\n",
       "      <td>0.012770</td>\n",
       "    </tr>\n",
       "    <tr>\n",
       "      <th>Area code</th>\n",
       "      <td>-0.013570</td>\n",
       "      <td>1.000000</td>\n",
       "      <td>0.041769</td>\n",
       "      <td>0.009064</td>\n",
       "      <td>0.006386</td>\n",
       "      <td>-0.003099</td>\n",
       "      <td>0.006386</td>\n",
       "      <td>0.003842</td>\n",
       "      <td>-0.004065</td>\n",
       "      <td>0.003851</td>\n",
       "      <td>0.006581</td>\n",
       "      <td>0.019266</td>\n",
       "      <td>0.006570</td>\n",
       "      <td>0.002444</td>\n",
       "      <td>-0.004322</td>\n",
       "      <td>0.002444</td>\n",
       "      <td>0.027234</td>\n",
       "      <td>-0.005610</td>\n",
       "      <td>0.003090</td>\n",
       "    </tr>\n",
       "    <tr>\n",
       "      <th>International plan</th>\n",
       "      <td>0.024206</td>\n",
       "      <td>0.041769</td>\n",
       "      <td>1.000000</td>\n",
       "      <td>0.007321</td>\n",
       "      <td>0.040518</td>\n",
       "      <td>0.010726</td>\n",
       "      <td>0.040518</td>\n",
       "      <td>0.008498</td>\n",
       "      <td>0.003630</td>\n",
       "      <td>0.008510</td>\n",
       "      <td>-0.026429</td>\n",
       "      <td>0.007636</td>\n",
       "      <td>-0.026460</td>\n",
       "      <td>0.035982</td>\n",
       "      <td>0.006921</td>\n",
       "      <td>0.035982</td>\n",
       "      <td>-0.027438</td>\n",
       "      <td>-0.006294</td>\n",
       "      <td>0.259852</td>\n",
       "    </tr>\n",
       "    <tr>\n",
       "      <th>Number vmail messages</th>\n",
       "      <td>0.002481</td>\n",
       "      <td>0.009064</td>\n",
       "      <td>0.007321</td>\n",
       "      <td>1.000000</td>\n",
       "      <td>0.003088</td>\n",
       "      <td>-0.009573</td>\n",
       "      <td>0.003088</td>\n",
       "      <td>0.016107</td>\n",
       "      <td>-0.005383</td>\n",
       "      <td>0.016122</td>\n",
       "      <td>0.003718</td>\n",
       "      <td>0.008386</td>\n",
       "      <td>0.003710</td>\n",
       "      <td>-0.001264</td>\n",
       "      <td>0.005091</td>\n",
       "      <td>-0.001264</td>\n",
       "      <td>-0.016664</td>\n",
       "      <td>-0.011957</td>\n",
       "      <td>-0.089167</td>\n",
       "    </tr>\n",
       "    <tr>\n",
       "      <th>Total day minutes</th>\n",
       "      <td>0.011916</td>\n",
       "      <td>0.006386</td>\n",
       "      <td>0.040518</td>\n",
       "      <td>0.003088</td>\n",
       "      <td>1.000000</td>\n",
       "      <td>0.006333</td>\n",
       "      <td>1.000000</td>\n",
       "      <td>0.004203</td>\n",
       "      <td>0.011682</td>\n",
       "      <td>0.004190</td>\n",
       "      <td>-0.003928</td>\n",
       "      <td>0.015618</td>\n",
       "      <td>-0.003952</td>\n",
       "      <td>-0.010711</td>\n",
       "      <td>-0.000294</td>\n",
       "      <td>-0.010711</td>\n",
       "      <td>-0.011260</td>\n",
       "      <td>-0.016659</td>\n",
       "      <td>0.139415</td>\n",
       "    </tr>\n",
       "    <tr>\n",
       "      <th>Total day calls</th>\n",
       "      <td>0.022170</td>\n",
       "      <td>-0.003099</td>\n",
       "      <td>0.010726</td>\n",
       "      <td>-0.009573</td>\n",
       "      <td>0.006333</td>\n",
       "      <td>1.000000</td>\n",
       "      <td>0.006333</td>\n",
       "      <td>-0.009552</td>\n",
       "      <td>0.009253</td>\n",
       "      <td>-0.009556</td>\n",
       "      <td>0.012550</td>\n",
       "      <td>-0.012270</td>\n",
       "      <td>0.012532</td>\n",
       "      <td>0.010386</td>\n",
       "      <td>0.003019</td>\n",
       "      <td>0.010386</td>\n",
       "      <td>-0.015558</td>\n",
       "      <td>0.000334</td>\n",
       "      <td>0.021636</td>\n",
       "    </tr>\n",
       "    <tr>\n",
       "      <th>Total day charge</th>\n",
       "      <td>0.011916</td>\n",
       "      <td>0.006386</td>\n",
       "      <td>0.040518</td>\n",
       "      <td>0.003088</td>\n",
       "      <td>1.000000</td>\n",
       "      <td>0.006333</td>\n",
       "      <td>1.000000</td>\n",
       "      <td>0.004203</td>\n",
       "      <td>0.011682</td>\n",
       "      <td>0.004190</td>\n",
       "      <td>-0.003928</td>\n",
       "      <td>0.015618</td>\n",
       "      <td>-0.003952</td>\n",
       "      <td>-0.010711</td>\n",
       "      <td>-0.000294</td>\n",
       "      <td>-0.010711</td>\n",
       "      <td>-0.011260</td>\n",
       "      <td>-0.016659</td>\n",
       "      <td>0.139415</td>\n",
       "    </tr>\n",
       "    <tr>\n",
       "      <th>Total eve minutes</th>\n",
       "      <td>-0.005317</td>\n",
       "      <td>0.003842</td>\n",
       "      <td>0.008498</td>\n",
       "      <td>0.016107</td>\n",
       "      <td>0.004203</td>\n",
       "      <td>-0.009552</td>\n",
       "      <td>0.004203</td>\n",
       "      <td>1.000000</td>\n",
       "      <td>-0.006736</td>\n",
       "      <td>0.999919</td>\n",
       "      <td>-0.008775</td>\n",
       "      <td>0.002150</td>\n",
       "      <td>-0.008781</td>\n",
       "      <td>-0.002321</td>\n",
       "      <td>0.010241</td>\n",
       "      <td>-0.002321</td>\n",
       "      <td>-0.013060</td>\n",
       "      <td>0.005713</td>\n",
       "      <td>0.072366</td>\n",
       "    </tr>\n",
       "    <tr>\n",
       "      <th>Total eve calls</th>\n",
       "      <td>0.012529</td>\n",
       "      <td>-0.004065</td>\n",
       "      <td>0.003630</td>\n",
       "      <td>-0.005383</td>\n",
       "      <td>0.011682</td>\n",
       "      <td>0.009253</td>\n",
       "      <td>0.011682</td>\n",
       "      <td>-0.006736</td>\n",
       "      <td>1.000000</td>\n",
       "      <td>-0.006737</td>\n",
       "      <td>0.003291</td>\n",
       "      <td>0.003747</td>\n",
       "      <td>0.003311</td>\n",
       "      <td>-0.000095</td>\n",
       "      <td>0.010497</td>\n",
       "      <td>-0.000095</td>\n",
       "      <td>0.001911</td>\n",
       "      <td>0.001285</td>\n",
       "      <td>0.007055</td>\n",
       "    </tr>\n",
       "    <tr>\n",
       "      <th>Total eve charge</th>\n",
       "      <td>-0.005314</td>\n",
       "      <td>0.003851</td>\n",
       "      <td>0.008510</td>\n",
       "      <td>0.016122</td>\n",
       "      <td>0.004190</td>\n",
       "      <td>-0.009556</td>\n",
       "      <td>0.004190</td>\n",
       "      <td>0.999919</td>\n",
       "      <td>-0.006737</td>\n",
       "      <td>1.000000</td>\n",
       "      <td>-0.008779</td>\n",
       "      <td>0.002136</td>\n",
       "      <td>-0.008786</td>\n",
       "      <td>-0.002325</td>\n",
       "      <td>0.010249</td>\n",
       "      <td>-0.002325</td>\n",
       "      <td>-0.013055</td>\n",
       "      <td>0.005722</td>\n",
       "      <td>0.072363</td>\n",
       "    </tr>\n",
       "    <tr>\n",
       "      <th>Total night minutes</th>\n",
       "      <td>-0.008965</td>\n",
       "      <td>0.006581</td>\n",
       "      <td>-0.026429</td>\n",
       "      <td>0.003718</td>\n",
       "      <td>-0.003928</td>\n",
       "      <td>0.012550</td>\n",
       "      <td>-0.003928</td>\n",
       "      <td>-0.008775</td>\n",
       "      <td>0.003291</td>\n",
       "      <td>-0.008779</td>\n",
       "      <td>1.000000</td>\n",
       "      <td>0.005719</td>\n",
       "      <td>0.999625</td>\n",
       "      <td>-0.007103</td>\n",
       "      <td>0.000125</td>\n",
       "      <td>-0.007103</td>\n",
       "      <td>-0.009384</td>\n",
       "      <td>0.004308</td>\n",
       "      <td>0.028053</td>\n",
       "    </tr>\n",
       "    <tr>\n",
       "      <th>Total night calls</th>\n",
       "      <td>-0.004998</td>\n",
       "      <td>0.019266</td>\n",
       "      <td>0.007636</td>\n",
       "      <td>0.008386</td>\n",
       "      <td>0.015618</td>\n",
       "      <td>-0.012270</td>\n",
       "      <td>0.015618</td>\n",
       "      <td>0.002150</td>\n",
       "      <td>0.003747</td>\n",
       "      <td>0.002136</td>\n",
       "      <td>0.005719</td>\n",
       "      <td>1.000000</td>\n",
       "      <td>0.005694</td>\n",
       "      <td>-0.004441</td>\n",
       "      <td>-0.002253</td>\n",
       "      <td>-0.004441</td>\n",
       "      <td>-0.006056</td>\n",
       "      <td>-0.002645</td>\n",
       "      <td>0.003861</td>\n",
       "    </tr>\n",
       "    <tr>\n",
       "      <th>Total night charge</th>\n",
       "      <td>-0.008971</td>\n",
       "      <td>0.006570</td>\n",
       "      <td>-0.026460</td>\n",
       "      <td>0.003710</td>\n",
       "      <td>-0.003952</td>\n",
       "      <td>0.012532</td>\n",
       "      <td>-0.003952</td>\n",
       "      <td>-0.008781</td>\n",
       "      <td>0.003311</td>\n",
       "      <td>-0.008786</td>\n",
       "      <td>0.999625</td>\n",
       "      <td>0.005694</td>\n",
       "      <td>1.000000</td>\n",
       "      <td>-0.007097</td>\n",
       "      <td>0.000120</td>\n",
       "      <td>-0.007097</td>\n",
       "      <td>-0.009387</td>\n",
       "      <td>0.004366</td>\n",
       "      <td>0.028072</td>\n",
       "    </tr>\n",
       "    <tr>\n",
       "      <th>Total intl minutes</th>\n",
       "      <td>0.009908</td>\n",
       "      <td>0.002444</td>\n",
       "      <td>0.035982</td>\n",
       "      <td>-0.001264</td>\n",
       "      <td>-0.010711</td>\n",
       "      <td>0.010386</td>\n",
       "      <td>-0.010711</td>\n",
       "      <td>-0.002321</td>\n",
       "      <td>-0.000095</td>\n",
       "      <td>-0.002325</td>\n",
       "      <td>-0.007103</td>\n",
       "      <td>-0.004441</td>\n",
       "      <td>-0.007097</td>\n",
       "      <td>1.000000</td>\n",
       "      <td>0.012697</td>\n",
       "      <td>1.000000</td>\n",
       "      <td>-0.012870</td>\n",
       "      <td>0.009135</td>\n",
       "      <td>0.049948</td>\n",
       "    </tr>\n",
       "    <tr>\n",
       "      <th>Total intl calls</th>\n",
       "      <td>0.019517</td>\n",
       "      <td>-0.004322</td>\n",
       "      <td>0.006921</td>\n",
       "      <td>0.005091</td>\n",
       "      <td>-0.000294</td>\n",
       "      <td>0.003019</td>\n",
       "      <td>-0.000294</td>\n",
       "      <td>0.010241</td>\n",
       "      <td>0.010497</td>\n",
       "      <td>0.010249</td>\n",
       "      <td>0.000125</td>\n",
       "      <td>-0.002253</td>\n",
       "      <td>0.000120</td>\n",
       "      <td>0.012697</td>\n",
       "      <td>1.000000</td>\n",
       "      <td>0.012697</td>\n",
       "      <td>-0.000485</td>\n",
       "      <td>-0.005632</td>\n",
       "      <td>-0.064930</td>\n",
       "    </tr>\n",
       "    <tr>\n",
       "      <th>Total intl charge</th>\n",
       "      <td>0.009908</td>\n",
       "      <td>0.002444</td>\n",
       "      <td>0.035982</td>\n",
       "      <td>-0.001264</td>\n",
       "      <td>-0.010711</td>\n",
       "      <td>0.010386</td>\n",
       "      <td>-0.010711</td>\n",
       "      <td>-0.002321</td>\n",
       "      <td>-0.000095</td>\n",
       "      <td>-0.002325</td>\n",
       "      <td>-0.007103</td>\n",
       "      <td>-0.004441</td>\n",
       "      <td>-0.007097</td>\n",
       "      <td>1.000000</td>\n",
       "      <td>0.012697</td>\n",
       "      <td>1.000000</td>\n",
       "      <td>-0.012870</td>\n",
       "      <td>0.009135</td>\n",
       "      <td>0.049948</td>\n",
       "    </tr>\n",
       "    <tr>\n",
       "      <th>Customer service calls</th>\n",
       "      <td>-0.004341</td>\n",
       "      <td>0.027234</td>\n",
       "      <td>-0.027438</td>\n",
       "      <td>-0.016664</td>\n",
       "      <td>-0.011260</td>\n",
       "      <td>-0.015558</td>\n",
       "      <td>-0.011260</td>\n",
       "      <td>-0.013060</td>\n",
       "      <td>0.001911</td>\n",
       "      <td>-0.013055</td>\n",
       "      <td>-0.009384</td>\n",
       "      <td>-0.006056</td>\n",
       "      <td>-0.009387</td>\n",
       "      <td>-0.012870</td>\n",
       "      <td>-0.000485</td>\n",
       "      <td>-0.012870</td>\n",
       "      <td>1.000000</td>\n",
       "      <td>0.007088</td>\n",
       "      <td>0.123633</td>\n",
       "    </tr>\n",
       "    <tr>\n",
       "      <th>Whats up</th>\n",
       "      <td>0.026777</td>\n",
       "      <td>-0.005610</td>\n",
       "      <td>-0.006294</td>\n",
       "      <td>-0.011957</td>\n",
       "      <td>-0.016659</td>\n",
       "      <td>0.000334</td>\n",
       "      <td>-0.016659</td>\n",
       "      <td>0.005713</td>\n",
       "      <td>0.001285</td>\n",
       "      <td>0.005722</td>\n",
       "      <td>0.004308</td>\n",
       "      <td>-0.002645</td>\n",
       "      <td>0.004366</td>\n",
       "      <td>0.009135</td>\n",
       "      <td>-0.005632</td>\n",
       "      <td>0.009135</td>\n",
       "      <td>0.007088</td>\n",
       "      <td>1.000000</td>\n",
       "      <td>0.032854</td>\n",
       "    </tr>\n",
       "    <tr>\n",
       "      <th>Churn</th>\n",
       "      <td>0.012770</td>\n",
       "      <td>0.003090</td>\n",
       "      <td>0.259852</td>\n",
       "      <td>-0.089167</td>\n",
       "      <td>0.139415</td>\n",
       "      <td>0.021636</td>\n",
       "      <td>0.139415</td>\n",
       "      <td>0.072366</td>\n",
       "      <td>0.007055</td>\n",
       "      <td>0.072363</td>\n",
       "      <td>0.028053</td>\n",
       "      <td>0.003861</td>\n",
       "      <td>0.028072</td>\n",
       "      <td>0.049948</td>\n",
       "      <td>-0.064930</td>\n",
       "      <td>0.049948</td>\n",
       "      <td>0.123633</td>\n",
       "      <td>0.032854</td>\n",
       "      <td>1.000000</td>\n",
       "    </tr>\n",
       "  </tbody>\n",
       "</table>\n",
       "</div>"
      ],
      "text/plain": [
       "                        Account length  Area code  International plan  \\\n",
       "Account length                1.000000  -0.013570            0.024206   \n",
       "Area code                    -0.013570   1.000000            0.041769   \n",
       "International plan            0.024206   0.041769            1.000000   \n",
       "Number vmail messages         0.002481   0.009064            0.007321   \n",
       "Total day minutes             0.011916   0.006386            0.040518   \n",
       "Total day calls               0.022170  -0.003099            0.010726   \n",
       "Total day charge              0.011916   0.006386            0.040518   \n",
       "Total eve minutes            -0.005317   0.003842            0.008498   \n",
       "Total eve calls               0.012529  -0.004065            0.003630   \n",
       "Total eve charge             -0.005314   0.003851            0.008510   \n",
       "Total night minutes          -0.008965   0.006581           -0.026429   \n",
       "Total night calls            -0.004998   0.019266            0.007636   \n",
       "Total night charge           -0.008971   0.006570           -0.026460   \n",
       "Total intl minutes            0.009908   0.002444            0.035982   \n",
       "Total intl calls              0.019517  -0.004322            0.006921   \n",
       "Total intl charge             0.009908   0.002444            0.035982   \n",
       "Customer service calls       -0.004341   0.027234           -0.027438   \n",
       "Whats up                      0.026777  -0.005610           -0.006294   \n",
       "Churn                         0.012770   0.003090            0.259852   \n",
       "\n",
       "                        Number vmail messages  Total day minutes  \\\n",
       "Account length                       0.002481           0.011916   \n",
       "Area code                            0.009064           0.006386   \n",
       "International plan                   0.007321           0.040518   \n",
       "Number vmail messages                1.000000           0.003088   \n",
       "Total day minutes                    0.003088           1.000000   \n",
       "Total day calls                     -0.009573           0.006333   \n",
       "Total day charge                     0.003088           1.000000   \n",
       "Total eve minutes                    0.016107           0.004203   \n",
       "Total eve calls                     -0.005383           0.011682   \n",
       "Total eve charge                     0.016122           0.004190   \n",
       "Total night minutes                  0.003718          -0.003928   \n",
       "Total night calls                    0.008386           0.015618   \n",
       "Total night charge                   0.003710          -0.003952   \n",
       "Total intl minutes                  -0.001264          -0.010711   \n",
       "Total intl calls                     0.005091          -0.000294   \n",
       "Total intl charge                   -0.001264          -0.010711   \n",
       "Customer service calls              -0.016664          -0.011260   \n",
       "Whats up                            -0.011957          -0.016659   \n",
       "Churn                               -0.089167           0.139415   \n",
       "\n",
       "                        Total day calls  Total day charge  Total eve minutes  \\\n",
       "Account length                 0.022170          0.011916          -0.005317   \n",
       "Area code                     -0.003099          0.006386           0.003842   \n",
       "International plan             0.010726          0.040518           0.008498   \n",
       "Number vmail messages         -0.009573          0.003088           0.016107   \n",
       "Total day minutes              0.006333          1.000000           0.004203   \n",
       "Total day calls                1.000000          0.006333          -0.009552   \n",
       "Total day charge               0.006333          1.000000           0.004203   \n",
       "Total eve minutes             -0.009552          0.004203           1.000000   \n",
       "Total eve calls                0.009253          0.011682          -0.006736   \n",
       "Total eve charge              -0.009556          0.004190           0.999919   \n",
       "Total night minutes            0.012550         -0.003928          -0.008775   \n",
       "Total night calls             -0.012270          0.015618           0.002150   \n",
       "Total night charge             0.012532         -0.003952          -0.008781   \n",
       "Total intl minutes             0.010386         -0.010711          -0.002321   \n",
       "Total intl calls               0.003019         -0.000294           0.010241   \n",
       "Total intl charge              0.010386         -0.010711          -0.002321   \n",
       "Customer service calls        -0.015558         -0.011260          -0.013060   \n",
       "Whats up                       0.000334         -0.016659           0.005713   \n",
       "Churn                          0.021636          0.139415           0.072366   \n",
       "\n",
       "                        Total eve calls  Total eve charge  \\\n",
       "Account length                 0.012529         -0.005314   \n",
       "Area code                     -0.004065          0.003851   \n",
       "International plan             0.003630          0.008510   \n",
       "Number vmail messages         -0.005383          0.016122   \n",
       "Total day minutes              0.011682          0.004190   \n",
       "Total day calls                0.009253         -0.009556   \n",
       "Total day charge               0.011682          0.004190   \n",
       "Total eve minutes             -0.006736          0.999919   \n",
       "Total eve calls                1.000000         -0.006737   \n",
       "Total eve charge              -0.006737          1.000000   \n",
       "Total night minutes            0.003291         -0.008779   \n",
       "Total night calls              0.003747          0.002136   \n",
       "Total night charge             0.003311         -0.008786   \n",
       "Total intl minutes            -0.000095         -0.002325   \n",
       "Total intl calls               0.010497          0.010249   \n",
       "Total intl charge             -0.000095         -0.002325   \n",
       "Customer service calls         0.001911         -0.013055   \n",
       "Whats up                       0.001285          0.005722   \n",
       "Churn                          0.007055          0.072363   \n",
       "\n",
       "                        Total night minutes  Total night calls  \\\n",
       "Account length                    -0.008965          -0.004998   \n",
       "Area code                          0.006581           0.019266   \n",
       "International plan                -0.026429           0.007636   \n",
       "Number vmail messages              0.003718           0.008386   \n",
       "Total day minutes                 -0.003928           0.015618   \n",
       "Total day calls                    0.012550          -0.012270   \n",
       "Total day charge                  -0.003928           0.015618   \n",
       "Total eve minutes                 -0.008775           0.002150   \n",
       "Total eve calls                    0.003291           0.003747   \n",
       "Total eve charge                  -0.008779           0.002136   \n",
       "Total night minutes                1.000000           0.005719   \n",
       "Total night calls                  0.005719           1.000000   \n",
       "Total night charge                 0.999625           0.005694   \n",
       "Total intl minutes                -0.007103          -0.004441   \n",
       "Total intl calls                   0.000125          -0.002253   \n",
       "Total intl charge                 -0.007103          -0.004441   \n",
       "Customer service calls            -0.009384          -0.006056   \n",
       "Whats up                           0.004308          -0.002645   \n",
       "Churn                              0.028053           0.003861   \n",
       "\n",
       "                        Total night charge  Total intl minutes  \\\n",
       "Account length                   -0.008971            0.009908   \n",
       "Area code                         0.006570            0.002444   \n",
       "International plan               -0.026460            0.035982   \n",
       "Number vmail messages             0.003710           -0.001264   \n",
       "Total day minutes                -0.003952           -0.010711   \n",
       "Total day calls                   0.012532            0.010386   \n",
       "Total day charge                 -0.003952           -0.010711   \n",
       "Total eve minutes                -0.008781           -0.002321   \n",
       "Total eve calls                   0.003311           -0.000095   \n",
       "Total eve charge                 -0.008786           -0.002325   \n",
       "Total night minutes               0.999625           -0.007103   \n",
       "Total night calls                 0.005694           -0.004441   \n",
       "Total night charge                1.000000           -0.007097   \n",
       "Total intl minutes               -0.007097            1.000000   \n",
       "Total intl calls                  0.000120            0.012697   \n",
       "Total intl charge                -0.007097            1.000000   \n",
       "Customer service calls           -0.009387           -0.012870   \n",
       "Whats up                          0.004366            0.009135   \n",
       "Churn                             0.028072            0.049948   \n",
       "\n",
       "                        Total intl calls  Total intl charge  \\\n",
       "Account length                  0.019517           0.009908   \n",
       "Area code                      -0.004322           0.002444   \n",
       "International plan              0.006921           0.035982   \n",
       "Number vmail messages           0.005091          -0.001264   \n",
       "Total day minutes              -0.000294          -0.010711   \n",
       "Total day calls                 0.003019           0.010386   \n",
       "Total day charge               -0.000294          -0.010711   \n",
       "Total eve minutes               0.010241          -0.002321   \n",
       "Total eve calls                 0.010497          -0.000095   \n",
       "Total eve charge                0.010249          -0.002325   \n",
       "Total night minutes             0.000125          -0.007103   \n",
       "Total night calls              -0.002253          -0.004441   \n",
       "Total night charge              0.000120          -0.007097   \n",
       "Total intl minutes              0.012697           1.000000   \n",
       "Total intl calls                1.000000           0.012697   \n",
       "Total intl charge               0.012697           1.000000   \n",
       "Customer service calls         -0.000485          -0.012870   \n",
       "Whats up                       -0.005632           0.009135   \n",
       "Churn                          -0.064930           0.049948   \n",
       "\n",
       "                        Customer service calls  Whats up     Churn  \n",
       "Account length                       -0.004341  0.026777  0.012770  \n",
       "Area code                             0.027234 -0.005610  0.003090  \n",
       "International plan                   -0.027438 -0.006294  0.259852  \n",
       "Number vmail messages                -0.016664 -0.011957 -0.089167  \n",
       "Total day minutes                    -0.011260 -0.016659  0.139415  \n",
       "Total day calls                      -0.015558  0.000334  0.021636  \n",
       "Total day charge                     -0.011260 -0.016659  0.139415  \n",
       "Total eve minutes                    -0.013060  0.005713  0.072366  \n",
       "Total eve calls                       0.001911  0.001285  0.007055  \n",
       "Total eve charge                     -0.013055  0.005722  0.072363  \n",
       "Total night minutes                  -0.009384  0.004308  0.028053  \n",
       "Total night calls                    -0.006056 -0.002645  0.003861  \n",
       "Total night charge                   -0.009387  0.004366  0.028072  \n",
       "Total intl minutes                   -0.012870  0.009135  0.049948  \n",
       "Total intl calls                     -0.000485 -0.005632 -0.064930  \n",
       "Total intl charge                    -0.012870  0.009135  0.049948  \n",
       "Customer service calls                1.000000  0.007088  0.123633  \n",
       "Whats up                              0.007088  1.000000  0.032854  \n",
       "Churn                                 0.123633  0.032854  1.000000  "
      ]
     },
     "execution_count": 128,
     "metadata": {},
     "output_type": "execute_result"
    }
   ],
   "source": [
    "frame.corr(method='kendall')"
   ]
  },
  {
   "cell_type": "code",
   "execution_count": 129,
   "metadata": {
    "ExecuteTime": {
     "end_time": "2019-09-06T02:58:34.712987Z",
     "start_time": "2019-09-06T02:58:34.684015Z"
    },
    "hidden": true
   },
   "outputs": [
    {
     "data": {
      "text/html": [
       "<div>\n",
       "<style scoped>\n",
       "    .dataframe tbody tr th:only-of-type {\n",
       "        vertical-align: middle;\n",
       "    }\n",
       "\n",
       "    .dataframe tbody tr th {\n",
       "        vertical-align: top;\n",
       "    }\n",
       "\n",
       "    .dataframe thead th {\n",
       "        text-align: right;\n",
       "    }\n",
       "</style>\n",
       "<table border=\"1\" class=\"dataframe\">\n",
       "  <thead>\n",
       "    <tr style=\"text-align: right;\">\n",
       "      <th></th>\n",
       "      <th>dogs</th>\n",
       "      <th>cats</th>\n",
       "    </tr>\n",
       "  </thead>\n",
       "  <tbody>\n",
       "    <tr>\n",
       "      <th>0</th>\n",
       "      <td>0.2</td>\n",
       "      <td>0.3</td>\n",
       "    </tr>\n",
       "    <tr>\n",
       "      <th>1</th>\n",
       "      <td>0.0</td>\n",
       "      <td>0.6</td>\n",
       "    </tr>\n",
       "    <tr>\n",
       "      <th>2</th>\n",
       "      <td>0.6</td>\n",
       "      <td>0.0</td>\n",
       "    </tr>\n",
       "    <tr>\n",
       "      <th>3</th>\n",
       "      <td>0.2</td>\n",
       "      <td>0.1</td>\n",
       "    </tr>\n",
       "  </tbody>\n",
       "</table>\n",
       "</div>"
      ],
      "text/plain": [
       "   dogs  cats\n",
       "0   0.2   0.3\n",
       "1   0.0   0.6\n",
       "2   0.6   0.0\n",
       "3   0.2   0.1"
      ]
     },
     "execution_count": 129,
     "metadata": {},
     "output_type": "execute_result"
    }
   ],
   "source": [
    "df = pd.DataFrame([(.2, .3), (.0, .6), (.6, .0), (.2, .1)],\n",
    "                    columns=['dogs', 'cats'])\n",
    "df"
   ]
  },
  {
   "cell_type": "code",
   "execution_count": 131,
   "metadata": {
    "ExecuteTime": {
     "end_time": "2019-09-06T02:58:58.825460Z",
     "start_time": "2019-09-06T02:58:58.817477Z"
    },
    "hidden": true
   },
   "outputs": [
    {
     "data": {
      "text/html": [
       "<div>\n",
       "<style scoped>\n",
       "    .dataframe tbody tr th:only-of-type {\n",
       "        vertical-align: middle;\n",
       "    }\n",
       "\n",
       "    .dataframe tbody tr th {\n",
       "        vertical-align: top;\n",
       "    }\n",
       "\n",
       "    .dataframe thead th {\n",
       "        text-align: right;\n",
       "    }\n",
       "</style>\n",
       "<table border=\"1\" class=\"dataframe\">\n",
       "  <thead>\n",
       "    <tr style=\"text-align: right;\">\n",
       "      <th></th>\n",
       "      <th>dogs</th>\n",
       "      <th>cats</th>\n",
       "    </tr>\n",
       "  </thead>\n",
       "  <tbody>\n",
       "    <tr>\n",
       "      <th>dogs</th>\n",
       "      <td>1.000000</td>\n",
       "      <td>-0.851064</td>\n",
       "    </tr>\n",
       "    <tr>\n",
       "      <th>cats</th>\n",
       "      <td>-0.851064</td>\n",
       "      <td>1.000000</td>\n",
       "    </tr>\n",
       "  </tbody>\n",
       "</table>\n",
       "</div>"
      ],
      "text/plain": [
       "          dogs      cats\n",
       "dogs  1.000000 -0.851064\n",
       "cats -0.851064  1.000000"
      ]
     },
     "execution_count": 131,
     "metadata": {},
     "output_type": "execute_result"
    }
   ],
   "source": [
    "df.corr() # pearson is default"
   ]
  },
  {
   "cell_type": "markdown",
   "metadata": {},
   "source": [
    "##  Группироки данных"
   ]
  },
  {
   "cell_type": "markdown",
   "metadata": {},
   "source": [
    "### .crosstab\n",
    "Просто выводит таблицу по заданным index и column. На пересечении index*column выдается кол-во соответствующих элементов."
   ]
  },
  {
   "cell_type": "code",
   "execution_count": 24,
   "metadata": {
    "ExecuteTime": {
     "end_time": "2019-09-13T16:43:38.648408Z",
     "start_time": "2019-09-13T16:43:38.453777Z"
    }
   },
   "outputs": [
    {
     "data": {
      "text/html": [
       "<div>\n",
       "<style scoped>\n",
       "    .dataframe tbody tr th:only-of-type {\n",
       "        vertical-align: middle;\n",
       "    }\n",
       "\n",
       "    .dataframe tbody tr th {\n",
       "        vertical-align: top;\n",
       "    }\n",
       "\n",
       "    .dataframe thead th {\n",
       "        text-align: right;\n",
       "    }\n",
       "</style>\n",
       "<table border=\"1\" class=\"dataframe\">\n",
       "  <thead>\n",
       "    <tr style=\"text-align: right;\">\n",
       "      <th>Churn</th>\n",
       "      <th>False</th>\n",
       "      <th>True</th>\n",
       "      <th>All</th>\n",
       "    </tr>\n",
       "    <tr>\n",
       "      <th>State</th>\n",
       "      <th></th>\n",
       "      <th></th>\n",
       "      <th></th>\n",
       "    </tr>\n",
       "  </thead>\n",
       "  <tbody>\n",
       "    <tr>\n",
       "      <th>AK</th>\n",
       "      <td>0.014701</td>\n",
       "      <td>0.0009</td>\n",
       "      <td>0.015602</td>\n",
       "    </tr>\n",
       "    <tr>\n",
       "      <th>AL</th>\n",
       "      <td>0.021602</td>\n",
       "      <td>0.0024</td>\n",
       "      <td>0.024002</td>\n",
       "    </tr>\n",
       "    <tr>\n",
       "      <th>AR</th>\n",
       "      <td>0.013201</td>\n",
       "      <td>0.0033</td>\n",
       "      <td>0.016502</td>\n",
       "    </tr>\n",
       "    <tr>\n",
       "      <th>AZ</th>\n",
       "      <td>0.018002</td>\n",
       "      <td>0.0012</td>\n",
       "      <td>0.019202</td>\n",
       "    </tr>\n",
       "    <tr>\n",
       "      <th>CA</th>\n",
       "      <td>0.007501</td>\n",
       "      <td>0.0027</td>\n",
       "      <td>0.010201</td>\n",
       "    </tr>\n",
       "  </tbody>\n",
       "</table>\n",
       "</div>"
      ],
      "text/plain": [
       "Churn     False    True       All\n",
       "State                            \n",
       "AK     0.014701  0.0009  0.015602\n",
       "AL     0.021602  0.0024  0.024002\n",
       "AR     0.013201  0.0033  0.016502\n",
       "AZ     0.018002  0.0012  0.019202\n",
       "CA     0.007501  0.0027  0.010201"
      ]
     },
     "execution_count": 24,
     "metadata": {},
     "output_type": "execute_result"
    }
   ],
   "source": [
    "# таблица 1 по x, таблица 2 по y \n",
    "# margins - считает общее кол-во в колонке All\n",
    "pd.crosstab(frame['State'], frame['Churn'], normalize=True, margins=True).head() "
   ]
  },
  {
   "cell_type": "markdown",
   "metadata": {},
   "source": [
    "```pd.crosstab(frame[1] & frame[2] & frame[3], frame['other'])``` - объединить таблицу по многим признакам сразу.  \n",
    "- Объединяемые frame[1], frame[2] etc должны быть одного типа данных (поэтому ниже исп. `replace`)\n",
    "- Объединенные колонки просто просумируются: т.е. выдасться сумма значений соотвеветствующих элементов из этих колонок (в нашем случаии для каждного 'Customer service calls', выдается 'International plan' + 'Churn'"
   ]
  },
  {
   "cell_type": "code",
   "execution_count": 28,
   "metadata": {
    "ExecuteTime": {
     "end_time": "2019-09-13T16:46:25.733208Z",
     "start_time": "2019-09-13T16:46:25.380366Z"
    }
   },
   "outputs": [
    {
     "data": {
      "text/html": [
       "<div>\n",
       "<style scoped>\n",
       "    .dataframe tbody tr th:only-of-type {\n",
       "        vertical-align: middle;\n",
       "    }\n",
       "\n",
       "    .dataframe tbody tr th {\n",
       "        vertical-align: top;\n",
       "    }\n",
       "\n",
       "    .dataframe thead th {\n",
       "        text-align: right;\n",
       "    }\n",
       "</style>\n",
       "<table border=\"1\" class=\"dataframe\">\n",
       "  <thead>\n",
       "    <tr style=\"text-align: right;\">\n",
       "      <th>Customer service calls</th>\n",
       "      <th>0</th>\n",
       "      <th>1</th>\n",
       "      <th>2</th>\n",
       "      <th>3</th>\n",
       "      <th>4</th>\n",
       "      <th>5</th>\n",
       "      <th>6</th>\n",
       "      <th>7</th>\n",
       "      <th>8</th>\n",
       "      <th>9</th>\n",
       "      <th>All</th>\n",
       "    </tr>\n",
       "    <tr>\n",
       "      <th>row_0</th>\n",
       "      <th></th>\n",
       "      <th></th>\n",
       "      <th></th>\n",
       "      <th></th>\n",
       "      <th></th>\n",
       "      <th></th>\n",
       "      <th></th>\n",
       "      <th></th>\n",
       "      <th></th>\n",
       "      <th></th>\n",
       "      <th></th>\n",
       "    </tr>\n",
       "  </thead>\n",
       "  <tbody>\n",
       "    <tr>\n",
       "      <th>False</th>\n",
       "      <td>0.197420</td>\n",
       "      <td>0.342334</td>\n",
       "      <td>0.220522</td>\n",
       "      <td>0.124212</td>\n",
       "      <td>0.046205</td>\n",
       "      <td>0.018002</td>\n",
       "      <td>0.006601</td>\n",
       "      <td>0.0027</td>\n",
       "      <td>0.0006</td>\n",
       "      <td>0.0003</td>\n",
       "      <td>0.958896</td>\n",
       "    </tr>\n",
       "    <tr>\n",
       "      <th>True</th>\n",
       "      <td>0.011701</td>\n",
       "      <td>0.012001</td>\n",
       "      <td>0.007201</td>\n",
       "      <td>0.004500</td>\n",
       "      <td>0.003600</td>\n",
       "      <td>0.001800</td>\n",
       "      <td>0.000000</td>\n",
       "      <td>0.0000</td>\n",
       "      <td>0.0000</td>\n",
       "      <td>0.0003</td>\n",
       "      <td>0.041104</td>\n",
       "    </tr>\n",
       "    <tr>\n",
       "      <th>All</th>\n",
       "      <td>0.209121</td>\n",
       "      <td>0.354335</td>\n",
       "      <td>0.227723</td>\n",
       "      <td>0.128713</td>\n",
       "      <td>0.049805</td>\n",
       "      <td>0.019802</td>\n",
       "      <td>0.006601</td>\n",
       "      <td>0.0027</td>\n",
       "      <td>0.0006</td>\n",
       "      <td>0.0006</td>\n",
       "      <td>1.000000</td>\n",
       "    </tr>\n",
       "  </tbody>\n",
       "</table>\n",
       "</div>"
      ],
      "text/plain": [
       "Customer service calls         0         1         2         3         4  \\\n",
       "row_0                                                                      \n",
       "False                   0.197420  0.342334  0.220522  0.124212  0.046205   \n",
       "True                    0.011701  0.012001  0.007201  0.004500  0.003600   \n",
       "All                     0.209121  0.354335  0.227723  0.128713  0.049805   \n",
       "\n",
       "Customer service calls         5         6       7       8       9       All  \n",
       "row_0                                                                         \n",
       "False                   0.018002  0.006601  0.0027  0.0006  0.0003  0.958896  \n",
       "True                    0.001800  0.000000  0.0000  0.0000  0.0003  0.041104  \n",
       "All                     0.019802  0.006601  0.0027  0.0006  0.0006  1.000000  "
      ]
     },
     "execution_count": 28,
     "metadata": {},
     "output_type": "execute_result"
    }
   ],
   "source": [
    "frame = frame.replace({'Yes': True, 'No': False})\n",
    "pd.crosstab(frame['International plan'] & frame['Churn'], frame['Customer service calls'], normalize=True, margins=True).head(5) "
   ]
  },
  {
   "cell_type": "markdown",
   "metadata": {},
   "source": [
    "----"
   ]
  },
  {
   "cell_type": "markdown",
   "metadata": {},
   "source": [
    "### groupby"
   ]
  },
  {
   "cell_type": "markdown",
   "metadata": {},
   "source": [
    "`groupby` в падасе работает аналогично SQL запросу `GROUPBY`, т.е. происходить группировка по одной из колонок, а затем мы выбираем агрегирующую ф-цию.\n",
    "- агрегирующая ф-ция: `.agg(function)` или `.aggregate(function)` - это одно и то же: \"agg is an alias for aggregate. Use the alias\"."
   ]
  },
  {
   "cell_type": "markdown",
   "metadata": {},
   "source": [
    "В общем случае группировка данных в Pandas выглядит следующим образом:\n",
    "\n",
    "`df.groupby(by=grouping_columns)[columns_to_show].agg(function)`\n",
    "\n",
    "- К датафрейму применяется метод groupby, который группирует данные по `grouping_columns` – признаку или набору признаков.\n",
    "- Выбираем нужные нам столбцы `[columns_to_show]` (передаем list столбцов)\n",
    "- К полученным группам применяется одна или несколько функций (можно прям передать `list(func1, func2, etc))`. Если функция одна, то `.agg()` опускают и сразу пишут соответсвующую агрегирующую ф-цию (например, .describe()).\n",
    "- При этом, сформируется новый датафрейм, где сгруппированые признаки (то что передали в `groupby`) станут индексами.\n",
    "- `grouping_columns` могут быть как просто названиями колонок, так и `pd.Series`. Например, `pd.groupby(frame['Item'])` то же самое `pd.groupby(by = frame['Item'])` то же самое `pd.groupby('Item')`. Можно и так `frame[frame['Item'] == 'Alfajores']['Item']`."
   ]
  },
  {
   "cell_type": "markdown",
   "metadata": {},
   "source": [
    "`as_index = False` - параметр groupby. Если False, то сгруппированный признак выводится в первую колонку, а индексы - числа от 0 и далее. Особенно удобно, если не хочется иметь дело с multiindex."
   ]
  },
  {
   "cell_type": "markdown",
   "metadata": {
    "ExecuteTime": {
     "end_time": "2019-09-13T15:23:39.775281Z",
     "start_time": "2019-09-13T15:23:39.564086Z"
    }
   },
   "source": [
    "Метод `.groupby` очень пластичный. Ниже приведены примеры разных вызовов и использования."
   ]
  },
  {
   "cell_type": "code",
   "execution_count": 6,
   "metadata": {
    "ExecuteTime": {
     "end_time": "2019-09-13T15:25:00.359535Z",
     "start_time": "2019-09-13T15:25:00.196587Z"
    }
   },
   "outputs": [
    {
     "data": {
      "text/html": [
       "<div>\n",
       "<style scoped>\n",
       "    .dataframe tbody tr th:only-of-type {\n",
       "        vertical-align: middle;\n",
       "    }\n",
       "\n",
       "    .dataframe tbody tr th {\n",
       "        vertical-align: top;\n",
       "    }\n",
       "\n",
       "    .dataframe thead tr th {\n",
       "        text-align: left;\n",
       "    }\n",
       "\n",
       "    .dataframe thead tr:last-of-type th {\n",
       "        text-align: right;\n",
       "    }\n",
       "</style>\n",
       "<table border=\"1\" class=\"dataframe\">\n",
       "  <thead>\n",
       "    <tr>\n",
       "      <th></th>\n",
       "      <th colspan=\"2\" halign=\"left\">Total day minutes</th>\n",
       "      <th colspan=\"2\" halign=\"left\">Total night minutes</th>\n",
       "    </tr>\n",
       "    <tr>\n",
       "      <th></th>\n",
       "      <th>max</th>\n",
       "      <th>min</th>\n",
       "      <th>max</th>\n",
       "      <th>min</th>\n",
       "    </tr>\n",
       "    <tr>\n",
       "      <th>State</th>\n",
       "      <th></th>\n",
       "      <th></th>\n",
       "      <th></th>\n",
       "      <th></th>\n",
       "    </tr>\n",
       "  </thead>\n",
       "  <tbody>\n",
       "    <tr>\n",
       "      <th>AK</th>\n",
       "      <td>278.4</td>\n",
       "      <td>58.2</td>\n",
       "      <td>303.5</td>\n",
       "      <td>23.2</td>\n",
       "    </tr>\n",
       "    <tr>\n",
       "      <th>AL</th>\n",
       "      <td>308.0</td>\n",
       "      <td>68.7</td>\n",
       "      <td>287.6</td>\n",
       "      <td>94.1</td>\n",
       "    </tr>\n",
       "    <tr>\n",
       "      <th>AR</th>\n",
       "      <td>273.4</td>\n",
       "      <td>55.3</td>\n",
       "      <td>367.7</td>\n",
       "      <td>96.4</td>\n",
       "    </tr>\n",
       "    <tr>\n",
       "      <th>AZ</th>\n",
       "      <td>281.1</td>\n",
       "      <td>58.9</td>\n",
       "      <td>297.9</td>\n",
       "      <td>77.3</td>\n",
       "    </tr>\n",
       "    <tr>\n",
       "      <th>CA</th>\n",
       "      <td>280.0</td>\n",
       "      <td>92.8</td>\n",
       "      <td>345.8</td>\n",
       "      <td>71.1</td>\n",
       "    </tr>\n",
       "  </tbody>\n",
       "</table>\n",
       "</div>"
      ],
      "text/plain": [
       "      Total day minutes       Total night minutes      \n",
       "                    max   min                 max   min\n",
       "State                                                  \n",
       "AK                278.4  58.2               303.5  23.2\n",
       "AL                308.0  68.7               287.6  94.1\n",
       "AR                273.4  55.3               367.7  96.4\n",
       "AZ                281.1  58.9               297.9  77.3\n",
       "CA                280.0  92.8               345.8  71.1"
      ]
     },
     "execution_count": 6,
     "metadata": {},
     "output_type": "execute_result"
    }
   ],
   "source": [
    "frame.groupby('State')[['Total day minutes', 'Total night minutes']].agg(['max', 'min']).head()"
   ]
  },
  {
   "cell_type": "code",
   "execution_count": 8,
   "metadata": {
    "ExecuteTime": {
     "end_time": "2019-09-13T15:26:18.439097Z",
     "start_time": "2019-09-13T15:26:18.310772Z"
    }
   },
   "outputs": [
    {
     "data": {
      "text/html": [
       "<div>\n",
       "<style scoped>\n",
       "    .dataframe tbody tr th:only-of-type {\n",
       "        vertical-align: middle;\n",
       "    }\n",
       "\n",
       "    .dataframe tbody tr th {\n",
       "        vertical-align: top;\n",
       "    }\n",
       "\n",
       "    .dataframe thead th {\n",
       "        text-align: right;\n",
       "    }\n",
       "</style>\n",
       "<table border=\"1\" class=\"dataframe\">\n",
       "  <thead>\n",
       "    <tr style=\"text-align: right;\">\n",
       "      <th></th>\n",
       "      <th>count</th>\n",
       "      <th>mean</th>\n",
       "      <th>std</th>\n",
       "      <th>min</th>\n",
       "      <th>25%</th>\n",
       "      <th>50%</th>\n",
       "      <th>75%</th>\n",
       "      <th>max</th>\n",
       "    </tr>\n",
       "    <tr>\n",
       "      <th>International plan</th>\n",
       "      <th></th>\n",
       "      <th></th>\n",
       "      <th></th>\n",
       "      <th></th>\n",
       "      <th></th>\n",
       "      <th></th>\n",
       "      <th></th>\n",
       "      <th></th>\n",
       "    </tr>\n",
       "  </thead>\n",
       "  <tbody>\n",
       "    <tr>\n",
       "      <th>No</th>\n",
       "      <td>3010.0</td>\n",
       "      <td>4.465449</td>\n",
       "      <td>2.442486</td>\n",
       "      <td>0.0</td>\n",
       "      <td>3.0</td>\n",
       "      <td>4.0</td>\n",
       "      <td>6.0</td>\n",
       "      <td>19.0</td>\n",
       "    </tr>\n",
       "    <tr>\n",
       "      <th>Yes</th>\n",
       "      <td>323.0</td>\n",
       "      <td>4.609907</td>\n",
       "      <td>2.629768</td>\n",
       "      <td>1.0</td>\n",
       "      <td>3.0</td>\n",
       "      <td>4.0</td>\n",
       "      <td>6.0</td>\n",
       "      <td>20.0</td>\n",
       "    </tr>\n",
       "  </tbody>\n",
       "</table>\n",
       "</div>"
      ],
      "text/plain": [
       "                     count      mean       std  min  25%  50%  75%   max\n",
       "International plan                                                      \n",
       "No                  3010.0  4.465449  2.442486  0.0  3.0  4.0  6.0  19.0\n",
       "Yes                  323.0  4.609907  2.629768  1.0  3.0  4.0  6.0  20.0"
      ]
     },
     "execution_count": 8,
     "metadata": {},
     "output_type": "execute_result"
    }
   ],
   "source": [
    "frame.groupby(by='International plan')['Total intl calls'].describe()"
   ]
  },
  {
   "cell_type": "code",
   "execution_count": 9,
   "metadata": {
    "ExecuteTime": {
     "end_time": "2019-09-13T15:27:52.802780Z",
     "start_time": "2019-09-13T15:27:52.733459Z"
    }
   },
   "outputs": [
    {
     "data": {
      "text/html": [
       "<div>\n",
       "<style scoped>\n",
       "    .dataframe tbody tr th:only-of-type {\n",
       "        vertical-align: middle;\n",
       "    }\n",
       "\n",
       "    .dataframe tbody tr th {\n",
       "        vertical-align: top;\n",
       "    }\n",
       "\n",
       "    .dataframe thead tr th {\n",
       "        text-align: left;\n",
       "    }\n",
       "\n",
       "    .dataframe thead tr:last-of-type th {\n",
       "        text-align: right;\n",
       "    }\n",
       "</style>\n",
       "<table border=\"1\" class=\"dataframe\">\n",
       "  <thead>\n",
       "    <tr>\n",
       "      <th></th>\n",
       "      <th colspan=\"2\" halign=\"left\">Total day minutes</th>\n",
       "      <th colspan=\"2\" halign=\"left\">Total night minutes</th>\n",
       "    </tr>\n",
       "    <tr>\n",
       "      <th></th>\n",
       "      <th>amax</th>\n",
       "      <th>amin</th>\n",
       "      <th>amax</th>\n",
       "      <th>amin</th>\n",
       "    </tr>\n",
       "    <tr>\n",
       "      <th>State</th>\n",
       "      <th></th>\n",
       "      <th></th>\n",
       "      <th></th>\n",
       "      <th></th>\n",
       "    </tr>\n",
       "  </thead>\n",
       "  <tbody>\n",
       "    <tr>\n",
       "      <th>AK</th>\n",
       "      <td>278.4</td>\n",
       "      <td>58.2</td>\n",
       "      <td>303.5</td>\n",
       "      <td>23.2</td>\n",
       "    </tr>\n",
       "    <tr>\n",
       "      <th>AL</th>\n",
       "      <td>308.0</td>\n",
       "      <td>68.7</td>\n",
       "      <td>287.6</td>\n",
       "      <td>94.1</td>\n",
       "    </tr>\n",
       "    <tr>\n",
       "      <th>AR</th>\n",
       "      <td>273.4</td>\n",
       "      <td>55.3</td>\n",
       "      <td>367.7</td>\n",
       "      <td>96.4</td>\n",
       "    </tr>\n",
       "    <tr>\n",
       "      <th>AZ</th>\n",
       "      <td>281.1</td>\n",
       "      <td>58.9</td>\n",
       "      <td>297.9</td>\n",
       "      <td>77.3</td>\n",
       "    </tr>\n",
       "    <tr>\n",
       "      <th>CA</th>\n",
       "      <td>280.0</td>\n",
       "      <td>92.8</td>\n",
       "      <td>345.8</td>\n",
       "      <td>71.1</td>\n",
       "    </tr>\n",
       "  </tbody>\n",
       "</table>\n",
       "</div>"
      ],
      "text/plain": [
       "      Total day minutes       Total night minutes      \n",
       "                   amax  amin                amax  amin\n",
       "State                                                  \n",
       "AK                278.4  58.2               303.5  23.2\n",
       "AL                308.0  68.7               287.6  94.1\n",
       "AR                273.4  55.3               367.7  96.4\n",
       "AZ                281.1  58.9               297.9  77.3\n",
       "CA                280.0  92.8               345.8  71.1"
      ]
     },
     "execution_count": 9,
     "metadata": {},
     "output_type": "execute_result"
    }
   ],
   "source": [
    "# аналогично\n",
    "grouping = ['State']\n",
    "columns_to_show = ['Total day minutes', 'Total night minutes']\n",
    "fun=[np.max, np.min] #min and max - методы из numpy\n",
    "frame.groupby(by=grouping)[columns_to_show].agg(fun).head(5)"
   ]
  },
  {
   "cell_type": "code",
   "execution_count": 13,
   "metadata": {
    "ExecuteTime": {
     "end_time": "2019-09-13T15:30:11.362284Z",
     "start_time": "2019-09-13T15:30:11.333674Z"
    }
   },
   "outputs": [
    {
     "data": {
      "text/plain": [
       "Total day minutes  Total night minutes\n",
       "0.0                167.1                  4\n",
       "                   168.8                  1\n",
       "2.6                242.7                  3\n",
       "7.8                186.5                  2\n",
       "7.9                156.6                  0\n",
       "Name: Customer service calls, dtype: int64"
      ]
     },
     "execution_count": 13,
     "metadata": {},
     "output_type": "execute_result"
    }
   ],
   "source": [
    "# by = [col1, col2, ...] - оч удобно\n",
    "frame.groupby(by=['Total day minutes', 'Total night minutes'])['Customer service calls'].mean().head()"
   ]
  },
  {
   "cell_type": "code",
   "execution_count": 15,
   "metadata": {
    "ExecuteTime": {
     "end_time": "2019-09-13T15:31:12.594339Z",
     "start_time": "2019-09-13T15:31:12.533870Z"
    }
   },
   "outputs": [
    {
     "data": {
      "text/plain": [
       "State  Churn\n",
       "NC     False    57\n",
       "       True     11\n",
       "Name: International plan, dtype: int64"
      ]
     },
     "execution_count": 15,
     "metadata": {},
     "output_type": "execute_result"
    }
   ],
   "source": [
    "# те в by= передается не только названия колонок, но и столбец целиком (тут  логический отобор среди шатов)\n",
    "frame.groupby(by = [frame[frame['State'] == 'NC']['State'], 'Churn'])['International plan'].count().head()"
   ]
  },
  {
   "cell_type": "code",
   "execution_count": 4,
   "metadata": {
    "ExecuteTime": {
     "end_time": "2019-09-18T14:47:43.036940Z",
     "start_time": "2019-09-18T14:47:41.311921Z"
    }
   },
   "outputs": [
    {
     "data": {
      "text/plain": [
       "<matplotlib.axes._subplots.AxesSubplot at 0x7f17ea2459b0>"
      ]
     },
     "execution_count": 4,
     "metadata": {},
     "output_type": "execute_result"
    },
    {
     "data": {
      "image/png": "[encoded data removed]",
      "text/plain": [
       "<Figure size 432x288 with 1 Axes>"
      ]
     },
     "metadata": {
      "needs_background": "light"
     },
     "output_type": "display_data"
    }
   ],
   "source": [
    "# можно не указывать [columns_to_show]. Тогда функция будем применина ко всем столбцам (кроме by='column_of_interest')\n",
    "frame.groupby(by='State').max().plot()"
   ]
  },
  {
   "cell_type": "markdown",
   "metadata": {},
   "source": [
    "#### groupby несколько признаков, агрегирующая ф-ция"
   ]
  },
  {
   "cell_type": "markdown",
   "metadata": {},
   "source": [
    "Для того, что бы сгруппировать данные по нескольким переменным, используем список с нужными именами:\n",
    "```py\n",
    "df.groupby(['group_var_1', 'group_var_2']).count()\n",
    "```\n",
    "Обратите внимание, что при такой записи группирующие переменные станут индексами в итоговом dataframe, изучите справку по groupby, чтобы разобраться со всеми тонкостями группировки данных. Также функция `count()` применится ко всем колонкам, что не всегда является желанным результатом. Чтобы применить функцию только к нужной колонке в данных, можно использовать связку  `groupby()` + `agg()`: \n",
    "```py\n",
    "my_stat.groupby('group').agg({'n_users': 'count'})\n",
    "```"
   ]
  },
  {
   "cell_type": "markdown",
   "metadata": {},
   "source": [
    "#### groupby несколько признаков: multindex"
   ]
  },
  {
   "cell_type": "code",
   "execution_count": null,
   "metadata": {},
   "outputs": [],
   "source": [
    "frame.groupby(['Total day minutes', 'Total night minutes'])['Customer service calls'].mean()"
   ]
  },
  {
   "cell_type": "markdown",
   "metadata": {},
   "source": [
    "Такой запрос вернет датафрейм с **multiindex**: т.е. сложной структурой индекса, который задается кортежем те `(Total day minutes, Total night minutes)`.   \n",
    "Чтобы вызвать конкретную строку, вместо простого указания индекса надо указывать кортеж:\n",
    "```python \n",
    "multi_df = frame.groupby(['gender', 'race'])['Customer service calls'].mean()\n",
    "multi_df.loc[('female', 'Group A')]\n",
    "```\n",
    "запрос вернет конкретную строку на пересечении индексов 'female' и 'Group A'"
   ]
  },
  {
   "cell_type": "markdown",
   "metadata": {},
   "source": [
    "----"
   ]
  },
  {
   "cell_type": "markdown",
   "metadata": {},
   "source": [
    "### Сводные таблицы (pd.pivot_table)"
   ]
  },
  {
   "cell_type": "markdown",
   "metadata": {},
   "source": [
    "По сути это тоже самое, что и groupby (другой чутка синтаксис)"
   ]
  },
  {
   "cell_type": "markdown",
   "metadata": {},
   "source": [
    "```frame.pivot_table([value1, vlaue2, ...], [index], aggfunc=...)``` где  \n",
    "`[value1, ...]` -  группы над которыми совершают действие  \n",
    "`[index]` -  группа по которой вывести даныые  \n",
    "`aggfunc=...` -  какое действиe: наприм aggfunc=np.sum  **Не всегда работает так. Тогда надо писать *aggfunc='mean'***"
   ]
  },
  {
   "cell_type": "code",
   "execution_count": 22,
   "metadata": {
    "ExecuteTime": {
     "end_time": "2019-09-13T16:39:07.407476Z",
     "start_time": "2019-09-13T16:39:07.364275Z"
    }
   },
   "outputs": [
    {
     "data": {
      "text/html": [
       "<div>\n",
       "<style scoped>\n",
       "    .dataframe tbody tr th:only-of-type {\n",
       "        vertical-align: middle;\n",
       "    }\n",
       "\n",
       "    .dataframe tbody tr th {\n",
       "        vertical-align: top;\n",
       "    }\n",
       "\n",
       "    .dataframe thead th {\n",
       "        text-align: right;\n",
       "    }\n",
       "</style>\n",
       "<table border=\"1\" class=\"dataframe\">\n",
       "  <thead>\n",
       "    <tr style=\"text-align: right;\">\n",
       "      <th></th>\n",
       "      <th>Total day minutes</th>\n",
       "      <th>Total night minutes</th>\n",
       "    </tr>\n",
       "    <tr>\n",
       "      <th>Customer service calls</th>\n",
       "      <th></th>\n",
       "      <th></th>\n",
       "    </tr>\n",
       "  </thead>\n",
       "  <tbody>\n",
       "    <tr>\n",
       "      <th>0</th>\n",
       "      <td>126739.3</td>\n",
       "      <td>140946.9</td>\n",
       "    </tr>\n",
       "    <tr>\n",
       "      <th>1</th>\n",
       "      <td>211936.3</td>\n",
       "      <td>236393.6</td>\n",
       "    </tr>\n",
       "    <tr>\n",
       "      <th>2</th>\n",
       "      <td>134156.1</td>\n",
       "      <td>152518.0</td>\n",
       "    </tr>\n",
       "    <tr>\n",
       "      <th>3</th>\n",
       "      <td>78642.8</td>\n",
       "      <td>86780.0</td>\n",
       "    </tr>\n",
       "    <tr>\n",
       "      <th>4</th>\n",
       "      <td>30589.2</td>\n",
       "      <td>33050.7</td>\n",
       "    </tr>\n",
       "  </tbody>\n",
       "</table>\n",
       "</div>"
      ],
      "text/plain": [
       "                        Total day minutes  Total night minutes\n",
       "Customer service calls                                        \n",
       "0                                126739.3             140946.9\n",
       "1                                211936.3             236393.6\n",
       "2                                134156.1             152518.0\n",
       "3                                 78642.8              86780.0\n",
       "4                                 30589.2              33050.7"
      ]
     },
     "execution_count": 22,
     "metadata": {},
     "output_type": "execute_result"
    }
   ],
   "source": [
    "frame.pivot_table(['Total day minutes', 'Total night minutes'], ['Customer service calls'], aggfunc=sum).head()"
   ]
  },
  {
   "cell_type": "markdown",
   "metadata": {},
   "source": [
    "`index` - то что будет по row  \n",
    "`columns` - то что будет по колонкам  \n",
    "`values` - численный тип. Сответствует их пересечанию  \n",
    "`aggfunc` - функция которую применить на values\n"
   ]
  },
  {
   "cell_type": "code",
   "execution_count": 21,
   "metadata": {
    "ExecuteTime": {
     "end_time": "2019-09-13T16:38:50.642428Z",
     "start_time": "2019-09-13T16:38:50.578058Z"
    }
   },
   "outputs": [
    {
     "data": {
      "text/html": [
       "<div>\n",
       "<style scoped>\n",
       "    .dataframe tbody tr th:only-of-type {\n",
       "        vertical-align: middle;\n",
       "    }\n",
       "\n",
       "    .dataframe tbody tr th {\n",
       "        vertical-align: top;\n",
       "    }\n",
       "\n",
       "    .dataframe thead th {\n",
       "        text-align: right;\n",
       "    }\n",
       "</style>\n",
       "<table border=\"1\" class=\"dataframe\">\n",
       "  <thead>\n",
       "    <tr style=\"text-align: right;\">\n",
       "      <th>International plan</th>\n",
       "      <th>No</th>\n",
       "      <th>Yes</th>\n",
       "    </tr>\n",
       "    <tr>\n",
       "      <th>Churn</th>\n",
       "      <th></th>\n",
       "      <th></th>\n",
       "    </tr>\n",
       "  </thead>\n",
       "  <tbody>\n",
       "    <tr>\n",
       "      <th>False</th>\n",
       "      <td>1.456081</td>\n",
       "      <td>1.360215</td>\n",
       "    </tr>\n",
       "    <tr>\n",
       "      <th>True</th>\n",
       "      <td>2.476879</td>\n",
       "      <td>1.605839</td>\n",
       "    </tr>\n",
       "  </tbody>\n",
       "</table>\n",
       "</div>"
      ],
      "text/plain": [
       "International plan        No       Yes\n",
       "Churn                                 \n",
       "False               1.456081  1.360215\n",
       "True                2.476879  1.605839"
      ]
     },
     "execution_count": 21,
     "metadata": {},
     "output_type": "execute_result"
    }
   ],
   "source": [
    "frame.pivot_table(index = 'Churn',\n",
    "                  columns = 'International plan',\n",
    "                  values = 'Customer service calls',\n",
    "                  aggfunc=np.mean).head(5)"
   ]
  },
  {
   "cell_type": "markdown",
   "metadata": {},
   "source": [
    "## numpy"
   ]
  },
  {
   "cell_type": "markdown",
   "metadata": {},
   "source": [
    "Numpy можно применить, чтобы произвести некоторые действия на колонку целиком. Например:\n",
    "```python\n",
    "col = pd.Series[i for i in range(111)] # создали pd.Series колонку по наростающим числам\n",
    "log_col = np.log(col) # взяли log от каждого значения колонки\n",
    "```"
   ]
  }
 ],
 "metadata": {
  "kernelspec": {
   "display_name": "Python 3 (ipykernel)",
   "language": "python",
   "name": "python3"
  },
  "language_info": {
   "codemirror_mode": {
    "name": "ipython",
    "version": 3
   },
   "file_extension": ".py",
   "mimetype": "text/x-python",
   "name": "python",
   "nbconvert_exporter": "python",
   "pygments_lexer": "ipython3",
   "version": "3.9.7"
  }
 },
 "nbformat": 4,
 "nbformat_minor": 2
}
