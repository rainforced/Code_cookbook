{
 "cells": [
  {
   "cell_type": "markdown",
   "metadata": {
    "heading_collapsed": true
   },
   "source": [
    "# Общие функции\n",
    "- тернарный оператор\n",
    "- input(), sorted(), in, len(), del, dir()\n",
    "- sum(), max(), min()"
   ]
  },
  {
   "cell_type": "markdown",
   "metadata": {
    "hidden": true
   },
   "source": [
    "## Тернарный оператор"
   ]
  },
  {
   "cell_type": "markdown",
   "metadata": {
    "hidden": true
   },
   "source": [
    "**Тернарный оператор**: оператор витвления в одну строку.    \n",
    "condition_if_true *if* condition *else* condition_if_false"
   ]
  },
  {
   "cell_type": "code",
   "execution_count": 8,
   "metadata": {
    "ExecuteTime": {
     "end_time": "2021-07-06T13:00:51.799809Z",
     "start_time": "2021-07-06T13:00:51.782823Z"
    },
    "hidden": true
   },
   "outputs": [
    {
     "name": "stdout",
     "output_type": "stream",
     "text": [
      "nice\n"
     ]
    }
   ],
   "source": [
    "is_nice = True\n",
    "state = \"nice\" if is_nice else \"not nice\"\n",
    "print(state)"
   ]
  },
  {
   "cell_type": "markdown",
   "metadata": {
    "hidden": true
   },
   "source": [
    "## Операторы общего назначения"
   ]
  },
  {
   "cell_type": "markdown",
   "metadata": {
    "hidden": true
   },
   "source": [
    "- `input(опциональное сообщение пользователю)` - принимает строку введенную пользователем.\n",
    "- `sorted(объект)` – сортирует объекты одного типа по признаку (алфавит, величина и тд). `sorted(x, reverse = True)`\n",
    "- `in` -  логический оператор проверки наличия элемента (любого) в объекте.\n",
    "- `len(oбъект)` – длинна объекта. Работает для всех кроме числовых.\n",
    "- `del объект` – удаляет указаный объект. Например, del my_list[index] \n",
    "- `sum()` - сумирует элементы итерируемого объекта \n",
    "- `max()` и `min()` - ищет max и min значения массива"
   ]
  },
  {
   "cell_type": "markdown",
   "metadata": {
    "hidden": true
   },
   "source": [
    "- `dir(объект)` – выводит список методов соответсвующих объекту.  \n",
    "Причем:\n",
    "`‘method’` - стандартынй метод, может быть вызван через .method().\n",
    "`__method__` - magic method"
   ]
  },
  {
   "cell_type": "markdown",
   "metadata": {
    "hidden": true
   },
   "source": [
    "### dir()"
   ]
  },
  {
   "cell_type": "markdown",
   "metadata": {
    "hidden": true
   },
   "source": [
    "`dir()` возвращает список всех методов, которыми обладает данный объект. "
   ]
  },
  {
   "cell_type": "code",
   "execution_count": 4,
   "metadata": {
    "ExecuteTime": {
     "end_time": "2021-07-10T16:51:56.359804Z",
     "start_time": "2021-07-10T16:51:56.341796Z"
    },
    "hidden": true
   },
   "outputs": [
    {
     "data": {
      "text/plain": [
       "['__abs__', '__add__', '__and__', '__bool__', '__ceil__']"
      ]
     },
     "execution_count": 4,
     "metadata": {},
     "output_type": "execute_result"
    }
   ],
   "source": [
    "# например, объект типа int\n",
    "a = 1\n",
    "dir(a)[:5] # выведем только первые 5 методов"
   ]
  },
  {
   "cell_type": "code",
   "execution_count": 8,
   "metadata": {
    "ExecuteTime": {
     "end_time": "2021-07-10T16:53:35.614415Z",
     "start_time": "2021-07-10T16:53:35.607420Z"
    },
    "hidden": true
   },
   "outputs": [
    {
     "data": {
      "text/plain": [
       "['__annotations__', '__call__', '__class__', '__closure__', '__code__']"
      ]
     },
     "execution_count": 8,
     "metadata": {},
     "output_type": "execute_result"
    }
   ],
   "source": [
    "# ф-ции - это тоже объекты в питоне, поэтому у них есть свои методы\n",
    "def test_funct():\n",
    "    pass\n",
    "\n",
    "dir(test_funct)[:5] # выведем только первые 5 методов"
   ]
  },
  {
   "cell_type": "markdown",
   "metadata": {
    "hidden": true
   },
   "source": [
    "### len()"
   ]
  },
  {
   "cell_type": "markdown",
   "metadata": {
    "hidden": true
   },
   "source": [
    "Источник: [stackoverflow](https://ru.stackoverflow.com/questions/695218/python-len-%D0%B8-len-%D0%B2-%D1%87%D0%B5%D0%BC-%D1%80%D0%B0%D0%B7%D0%BD%D0%B8%D1%86%D0%B0)"
   ]
  },
  {
   "cell_type": "markdown",
   "metadata": {
    "hidden": true
   },
   "source": [
    "Все типы данных/объекты в питоне - это объекты (основанные на Си - стуктурах). У всех объектов под капотом определена переменная хранящая в себе кол-во элементов. Операция `len()` возвращает значение этой переменной. Доступ к этой переменной осуществляется за константное время, поэтому время выполнения оперции `len()` - константное и не зависит от типа объекта."
   ]
  },
  {
   "cell_type": "markdown",
   "metadata": {
    "hidden": true
   },
   "source": [
    "**Вызов len() для встроенных объектов**    \n",
    "Для встроенных классов (list, dict, tuple, ...) функция `len(x)` не вызывает `x.__len__()`, а напрямую вызывает функцию `x->tp_as_sequence->sq_length(x)` (реализована на С). Для остальных классов функция `len(x)` вызывает `x.__len__()`.    \n",
    "При этом, у встроенных типов определен оператор `__len__()`, однако способ по-умолчанию (указанный выше) - немного быстрее. "
   ]
  },
  {
   "cell_type": "markdown",
   "metadata": {
    "hidden": true
   },
   "source": [
    "**len() - это магический метод**    \n",
    "`__len__` - это магический метод, который реализует `len` операцию. Как и любой другой специальный метод, он вызывается специальным образом (должен быть определён в самом классе), то есть `len(x)` не всегда эквивалентно `x.__len__()` (мало ли как эту операцию определил автор данного класса).     \n",
    "\n",
    "Дополнительно, значения `len()` ограничены `sys.maxsize` (число определенное как максимум для int в питоне: 9223372036854775808)"
   ]
  },
  {
   "cell_type": "markdown",
   "metadata": {
    "heading_collapsed": true
   },
   "source": [
    "# Decorators"
   ]
  },
  {
   "cell_type": "markdown",
   "metadata": {
    "hidden": true
   },
   "source": [
    "Хорошее объяснение декораторов: [GitHub: The best explanation of Python decorators I’ve ever seen.](https://gist.github.com/Zearin/2f40b7b9cfc51132851a); оно же на [StackOverflow: How to make function decorators and chain them together?](https://stackoverflow.com/questions/739654/how-to-make-function-decorators-and-chain-them-together#answer-739665)"
   ]
  },
  {
   "cell_type": "markdown",
   "metadata": {
    "hidden": true
   },
   "source": [
    "**Decorator** - это функция, которая принимает функцию и возвращает функцию. В процессе она может исполнить какой-то код до/после вызова переданной ф-ции.\n",
    "- `@calculate_time` - аналогично записи: `factorial = calculate_time(factorial)`.  "
   ]
  },
  {
   "cell_type": "markdown",
   "metadata": {
    "hidden": true
   },
   "source": [
    "Например, декоратор измеряющий время выполнения программы:"
   ]
  },
  {
   "cell_type": "code",
   "execution_count": 6,
   "metadata": {
    "ExecuteTime": {
     "end_time": "2021-07-14T20:01:59.940499Z",
     "start_time": "2021-07-14T20:01:59.930505Z"
    },
    "hidden": true
   },
   "outputs": [
    {
     "name": "stdout",
     "output_type": "stream",
     "text": [
      "3628800\n",
      "Total time taken in : factorial  0.00000000000000000000\n"
     ]
    }
   ],
   "source": [
    "import time \n",
    "import math\n",
    "\n",
    "# decorator to calculate duration \n",
    "# taken by any function. \n",
    "def calculate_time(func): \n",
    "    def wrapper(*args, **kwargs): \n",
    "        # storing time before function execution \n",
    "        begin = time.time() \n",
    "          \n",
    "        func(*args, **kwargs) \n",
    "  \n",
    "        # storing time after function execution \n",
    "        end = time.time() \n",
    "        print(f\"Total time taken in : {func.__name__} {end - begin: .20f}\") # до 20 знаков\n",
    "  \n",
    "    return wrapper \n",
    " \n",
    "@calculate_time # аналогично записи: factorial = calculate_time(factorial)\n",
    "def factorial(num):  \n",
    "    print(math.factorial(num)) \n",
    "    \n",
    "factorial(10) "
   ]
  },
  {
   "cell_type": "markdown",
   "metadata": {
    "hidden": true
   },
   "source": [
    "## Decorators and arguments"
   ]
  },
  {
   "cell_type": "markdown",
   "metadata": {
    "hidden": true
   },
   "source": [
    "### Decorator for a function with arguments"
   ]
  },
  {
   "cell_type": "markdown",
   "metadata": {
    "hidden": true
   },
   "source": [
    "Декоратор должден принмать только ф-цию в качестве аргумента. Однако, внутренняя ф-ция `wrapper`, которую декоратор возвращает, может принимать сколько угодно параметров."
   ]
  },
  {
   "cell_type": "code",
   "execution_count": 4,
   "metadata": {
    "ExecuteTime": {
     "end_time": "2021-07-16T18:02:12.204941Z",
     "start_time": "2021-07-16T18:02:12.192937Z"
    },
    "hidden": true
   },
   "outputs": [
    {
     "name": "stdout",
     "output_type": "stream",
     "text": [
      "I got args! Look: Peter Venkman\n",
      "My name is Peter Venkman\n"
     ]
    }
   ],
   "source": [
    "def a_decorator_passing_arguments(funct):\n",
    "    def a_wrapper_accepting_arguments(arg1, arg2):\n",
    "        print('I got args! Look:', arg1, arg2)\n",
    "        funct(arg1, arg2)\n",
    "    return a_wrapper_accepting_arguments\n",
    "\n",
    "# Since when you are calling the function returned by the decorator, you are\n",
    "# calling the wrapper, passing arguments to the wrapper will let it pass them to \n",
    "# the decorated function\n",
    "\n",
    "@a_decorator_passing_arguments \n",
    "# Это равносильно: print_full_name = a_decorator_passing_arguments(print_full_name(first_name, last_name))\n",
    "# или то же самое: print_full_name = a_wrapper_accepting_arguments(first_name, last_name)\n",
    "def print_full_name(first_name, last_name):\n",
    "    print('My name is', first_name, last_name)\n",
    "    \n",
    "print_full_name('Peter', 'Venkman')"
   ]
  },
  {
   "cell_type": "markdown",
   "metadata": {
    "hidden": true
   },
   "source": [
    "### Decorator accepting arguments"
   ]
  },
  {
   "cell_type": "markdown",
   "metadata": {
    "hidden": true
   },
   "source": [
    "Декоратор может принимать только ф-цию в качестве аргумента, иначе это не декоратор. Однако, если нам надо каким-то образом передать аргументы в декоратор, то можно использовать ф-цию обертку, в которой объявлен декоратор. Она будет принимать нужные аргументы, а возвращать декоратор."
   ]
  },
  {
   "cell_type": "code",
   "execution_count": 14,
   "metadata": {
    "ExecuteTime": {
     "end_time": "2021-07-16T18:14:53.274313Z",
     "start_time": "2021-07-16T18:14:53.256159Z"
    },
    "hidden": true
   },
   "outputs": [
    {
     "name": "stdout",
     "output_type": "stream",
     "text": [
      "21\n"
     ]
    }
   ],
   "source": [
    "def top_lvl_wrapped(filename):\n",
    "    def decorator(func):\n",
    "        def low_lvl_wrapped(*args, **kwargs):\n",
    "            result = func(*args, **kwargs)\n",
    "            with open(filename, 'w') as f:\n",
    "                f.write(str(result))\n",
    "            return result\n",
    "        return low_lvl_wrapped\n",
    "    return decorator\n",
    "\n",
    "@top_lvl_wrapped('new_log.txt') #  @top_lvl_wrapped(arg) -> @decorator\n",
    "def summator(num_list):\n",
    "    return sum(num_list)\n",
    "\n",
    "# без синтаксического сахара:\n",
    "# summator = top_lvl_wrapped('log.txt')(summator)\n",
    "summator([1, 2, 3, 4, 5, 6])\n",
    "\n",
    "# проверим что все действительно записалось в файл\n",
    "with open('new_log.txt', 'r') as f: \n",
    "    print(f.read())"
   ]
  },
  {
   "cell_type": "markdown",
   "metadata": {
    "hidden": true
   },
   "source": [
    "- `top_lvl_wrapped(args)` - это верхняя обертка над декоратором, которая принимает нужные аргументы. Она возвращает сам декоратор. Таким образом, при выполнении операции`@top_lvl_wrapped(args)` :\n",
    "    1. Сначала происходит вызов `top_lvl_wrapped(args)`, которая возвращает `decorator`, \n",
    "    2. Потом выполняется операция `@decorator` по обычным правилам (т.е. заменяя вызов `summator = decorator(summator(other_args))`).\n",
    "    3. Итого, `@top_lvl_wrapped(args) -> @decorator -> summator = decorator(summator(other_args))`.     \n",
    "    \n",
    "\n",
    "- Ф-ция `decorator(funct)` - обычный декоратор. Соответсвенно, опреция `@decorator` выполняется как обычно."
   ]
  },
  {
   "cell_type": "markdown",
   "metadata": {
    "hidden": true
   },
   "source": [
    "## Decorator chaining (последовательное применение декораторов)"
   ]
  },
  {
   "cell_type": "markdown",
   "metadata": {
    "hidden": true
   },
   "source": [
    "Можно последовательно применять декораторы. Они будут работать последовательно, в том порядке в каком вызваны. Например:"
   ]
  },
  {
   "cell_type": "code",
   "execution_count": 2,
   "metadata": {
    "ExecuteTime": {
     "end_time": "2021-07-17T09:33:03.692985Z",
     "start_time": "2021-07-17T09:33:03.674002Z"
    },
    "hidden": true
   },
   "outputs": [
    {
     "name": "stdout",
     "output_type": "stream",
     "text": [
      "<b><i>hello world</i></b>\n"
     ]
    }
   ],
   "source": [
    "def bold(func):\n",
    "    def wrapped():\n",
    "        return \"<b>\" + func() + \"</b>\"\n",
    "    return wrapped\n",
    "\n",
    "def italic(func):\n",
    "    def wrapped():\n",
    "        return \"<i>\" + func() + \"</i>\"\n",
    "    return wrapped\n",
    "\n",
    "@bold # вызывается первым\n",
    "@italic # вызывается вторым\n",
    "def hello():\n",
    "    return \"hello world\"\n",
    "\n",
    "# hello = bold(italic(hello))\n",
    "print(hello())"
   ]
  },
  {
   "cell_type": "markdown",
   "metadata": {
    "hidden": true
   },
   "source": [
    "## functools (библиотека)"
   ]
  },
  {
   "cell_type": "markdown",
   "metadata": {
    "hidden": true
   },
   "source": [
    "Полезные декораторы из `functools`:\n",
    "- `@functools.lru_cache(maxsize=None)` - кэширующий декоратор.\n",
    "- `@functools.wraps(func)` - декоратор, заменяющий имена декорируемой ф-ции (см. пример)."
   ]
  },
  {
   "cell_type": "markdown",
   "metadata": {
    "hidden": true
   },
   "source": [
    "### `@functools.wraps(func)`"
   ]
  },
  {
   "cell_type": "markdown",
   "metadata": {
    "hidden": true
   },
   "source": [
    "Если посмотерть имя ф-ции возвращенной из декоратора (wrapper), то оно будет именно тем, что указано внутри декоратора. В некоторых случаях мы хотим, чтобы имя ф-ции переданной в декоратор осталось прежним:"
   ]
  },
  {
   "cell_type": "code",
   "execution_count": 12,
   "metadata": {
    "ExecuteTime": {
     "end_time": "2021-07-14T20:16:03.429288Z",
     "start_time": "2021-07-14T20:16:03.419279Z"
    },
    "hidden": true
   },
   "outputs": [
    {
     "name": "stdout",
     "output_type": "stream",
     "text": [
      "I'm going to return wrapped funct\n",
      "На самом деле эта ф-ция - wrapped\n"
     ]
    }
   ],
   "source": [
    "# после вызова декоратора вместо call_decorator будет wrapped\n",
    "import functools\n",
    "\n",
    "def dumb_decoretor(funct):\n",
    "    print(\"I'm going to return wrapped funct\")\n",
    "    def wrapped():\n",
    "        pass\n",
    "    return wrapped\n",
    "\n",
    "@dumb_decoretor\n",
    "def call_decorator():\n",
    "    pass\n",
    "\n",
    "print(\"На самом деле эта ф-ция - {}\".format(call_decorator.__name__))"
   ]
  },
  {
   "cell_type": "code",
   "execution_count": 13,
   "metadata": {
    "ExecuteTime": {
     "end_time": "2021-07-14T20:16:53.041419Z",
     "start_time": "2021-07-14T20:16:53.036422Z"
    },
    "hidden": true,
    "scrolled": true
   },
   "outputs": [
    {
     "name": "stdout",
     "output_type": "stream",
     "text": [
      "I'm going to return wrapped funct\n",
      "На самом деле эта ф-ция - call_decorator\n"
     ]
    }
   ],
   "source": [
    "# теперь после вызова декоратора call_decorator останется call_decorator\n",
    "import functools\n",
    "\n",
    "def dumb_decoretor(funct):\n",
    "    print(\"I'm going to return wrapped funct\")\n",
    "    @functools.wraps(funct) #вызовем декоратор для переименований\n",
    "    def wrapped():\n",
    "        pass\n",
    "    return wrapped\n",
    "\n",
    "@dumb_decoretor\n",
    "def call_decorator():\n",
    "    pass\n",
    "\n",
    "print(\"На самом деле эта ф-ция - {}\".format(call_decorator.__name__))"
   ]
  },
  {
   "cell_type": "markdown",
   "metadata": {},
   "source": [
    "# Итерируемые объекты (Iterables and  Iterators)\n",
    "- Generators\n",
    "- Nested lists\n",
    "  - Перебор по несколько элементов: `for x, y in my_object`\n",
    "- for .. in ..\n",
    "    - enumerate()"
   ]
  },
  {
   "cell_type": "markdown",
   "metadata": {},
   "source": [
    "**Iterables** - итерабельные объекты   \n",
    "**Iterators** - функции, которые итерируют   "
   ]
  },
  {
   "cell_type": "markdown",
   "metadata": {
    "heading_collapsed": true
   },
   "source": [
    "## Generators\n",
    "\n",
    "Generators are iterators, a kind of iterable **you can only iterate over once**. Generators do not store all the values in memory, they generate the values on the fly:"
   ]
  },
  {
   "cell_type": "markdown",
   "metadata": {
    "hidden": true
   },
   "source": [
    "### Генераторы под капотом"
   ]
  },
  {
   "cell_type": "markdown",
   "metadata": {
    "hidden": true
   },
   "source": [
    "Простейший генератор - это функция в которой есть оператор `yield`. Этот оператор возвращает результат, но не прерывает функцию. Каждый раз, когда выполняется `yield`, возвращается значение. Когда мы просим следующий элемент, выполнение функции возвращается к последнему моменту, после чего она продолжает исполняться."
   ]
  },
  {
   "cell_type": "code",
   "execution_count": 7,
   "metadata": {
    "ExecuteTime": {
     "end_time": "2021-07-17T09:41:52.471844Z",
     "start_time": "2021-07-17T09:41:52.465848Z"
    },
    "hidden": true
   },
   "outputs": [
    {
     "name": "stdout",
     "output_type": "stream",
     "text": [
      "0\n",
      "2\n",
      "4\n",
      "6\n",
      "8\n"
     ]
    }
   ],
   "source": [
    "def even_range(start, end):\n",
    "    current = start\n",
    "    while current < end:\n",
    "        yield current # <- возвращает значение\n",
    "        current += 2  # <- отсюда начниается повторный вызов ф-ции \n",
    "    \n",
    "for number in even_range(0, 10):\n",
    "    print(number)"
   ]
  },
  {
   "cell_type": "markdown",
   "metadata": {
    "hidden": true
   },
   "source": [
    "- В помощью ф-ции **`next()`** можно последовательно итерировать генератор пошагово.\n",
    "- Когда ф-ция образующая генератор достигает условия выхода (в нашем примере: `while current < end`), то срабатывает исключение **`StopIteration`**."
   ]
  },
  {
   "cell_type": "code",
   "execution_count": 12,
   "metadata": {
    "ExecuteTime": {
     "end_time": "2021-07-17T09:44:19.034270Z",
     "start_time": "2021-07-17T09:44:19.014289Z"
    },
    "hidden": true
   },
   "outputs": [
    {
     "name": "stdout",
     "output_type": "stream",
     "text": [
      "0\n",
      "2\n",
      "4\n"
     ]
    },
    {
     "ename": "StopIteration",
     "evalue": "",
     "output_type": "error",
     "traceback": [
      "\u001b[1;31m---------------------------------------------------------------------------\u001b[0m",
      "\u001b[1;31mStopIteration\u001b[0m                             Traceback (most recent call last)",
      "\u001b[1;32m<ipython-input-12-1e71fe8f94e7>\u001b[0m in \u001b[0;36m<module>\u001b[1;34m\u001b[0m\n\u001b[0;32m      3\u001b[0m \u001b[0mprint\u001b[0m\u001b[1;33m(\u001b[0m\u001b[0mnext\u001b[0m\u001b[1;33m(\u001b[0m\u001b[0mrange_generator\u001b[0m\u001b[1;33m)\u001b[0m\u001b[1;33m)\u001b[0m \u001b[1;31m# 2\u001b[0m\u001b[1;33m\u001b[0m\u001b[1;33m\u001b[0m\u001b[0m\n\u001b[0;32m      4\u001b[0m \u001b[0mprint\u001b[0m\u001b[1;33m(\u001b[0m\u001b[0mnext\u001b[0m\u001b[1;33m(\u001b[0m\u001b[0mrange_generator\u001b[0m\u001b[1;33m)\u001b[0m\u001b[1;33m)\u001b[0m \u001b[1;31m# 4\u001b[0m\u001b[1;33m\u001b[0m\u001b[1;33m\u001b[0m\u001b[0m\n\u001b[1;32m----> 5\u001b[1;33m \u001b[0mprint\u001b[0m\u001b[1;33m(\u001b[0m\u001b[0mnext\u001b[0m\u001b[1;33m(\u001b[0m\u001b[0mrange_generator\u001b[0m\u001b[1;33m)\u001b[0m\u001b[1;33m)\u001b[0m \u001b[1;31m#\u001b[0m\u001b[1;33m\u001b[0m\u001b[1;33m\u001b[0m\u001b[0m\n\u001b[0m",
      "\u001b[1;31mStopIteration\u001b[0m: "
     ]
    }
   ],
   "source": [
    "range_generator = even_range(0, 5)\n",
    "print(next(range_generator)) # 0\n",
    "print(next(range_generator)) # 2\n",
    "print(next(range_generator)) # 4\n",
    "print(next(range_generator)) # StopIteration"
   ]
  },
  {
   "cell_type": "markdown",
   "metadata": {
    "hidden": true
   },
   "source": [
    "### Generator comprehension"
   ]
  },
  {
   "cell_type": "code",
   "execution_count": 30,
   "metadata": {
    "ExecuteTime": {
     "end_time": "2019-03-20T01:32:18.794886Z",
     "start_time": "2019-03-20T01:32:18.789894Z"
    },
    "hidden": true
   },
   "outputs": [
    {
     "name": "stdout",
     "output_type": "stream",
     "text": [
      "0-1-4-"
     ]
    }
   ],
   "source": [
    "mygenerator = (x*x for x in range(3))\n",
    "for i in mygenerator:\n",
    "    print(i, end = '-')\n",
    "#2nd time will not perform\n",
    "for j in mygenerator:\n",
    "    print(j, ', ')"
   ]
  },
  {
   "cell_type": "markdown",
   "metadata": {
    "hidden": true
   },
   "source": [
    "It is the same as **list comprehension** except you used `()` instead of `[]`. BUT, you cannot perform `for i in mygenerator` a second time since generators can only be used once."
   ]
  },
  {
   "cell_type": "code",
   "execution_count": 5,
   "metadata": {
    "ExecuteTime": {
     "end_time": "2021-07-17T09:36:59.877429Z",
     "start_time": "2021-07-17T09:36:59.863444Z"
    },
    "hidden": true
   },
   "outputs": [
    {
     "name": "stdout",
     "output_type": "stream",
     "text": [
      "0-0/2/4/6/8/2-0/2/4/6/8/4-0/2/4/6/8/6-0/2/4/6/8/8-0/2/4/6/8/\n",
      "\n",
      "0-2/4/6/8/"
     ]
    }
   ],
   "source": [
    "# list comprehension\n",
    "doubles1 = [2 * n for n in range(5)]\n",
    "# same as the list comprehension above\n",
    "doubles2 = (2 * n for n in range(5))\n",
    "for i in doubles1:\n",
    "    print(i, end = '-')\n",
    "    for j in doubles1:\n",
    "        print(j, end = '/')\n",
    "print('\\n')\n",
    "#will print only once\n",
    "for i in doubles2:\n",
    "    print(i, end = '-')\n",
    "    for j in doubles2:\n",
    "        print(j, end = '/')       "
   ]
  },
  {
   "cell_type": "markdown",
   "metadata": {
    "hidden": true
   },
   "source": [
    "По сути:  `doubles = [2 * n for n in range(5)]` == `doubles = list(2 * n for n in range(5))`   "
   ]
  },
  {
   "cell_type": "markdown",
   "metadata": {
    "hidden": true
   },
   "source": [
    "### Передача генератору значения"
   ]
  },
  {
   "cell_type": "markdown",
   "metadata": {
    "hidden": true
   },
   "source": [
    "Еще одна важная особенность генераторов - это возможность передавать генератору какие-то значения. Эта особенность активно используется в асинхронном программировании."
   ]
  },
  {
   "cell_type": "markdown",
   "metadata": {
    "hidden": true
   },
   "source": [
    "Например, определим генератор `accumulator`, который хранит общее количество данных и в бесконечном цикле получает с помощью оператора `yield` значение. На первой итерации генератор возвращает начально значение `total`. После этого мы можем послать данные в генератор с помощью метода генератора **`send`**. Поскольку генератор остановил исполнение в некоторой точке, мы можем послать в эту точку значение, которое запишется в `value`. Далее, если `value` не было передано, генератор выходит из цикла, иначе прибавляем его к `total`."
   ]
  },
  {
   "cell_type": "code",
   "execution_count": 13,
   "metadata": {
    "ExecuteTime": {
     "end_time": "2021-07-17T09:59:33.749463Z",
     "start_time": "2021-07-17T09:59:33.733472Z"
    },
    "hidden": true
   },
   "outputs": [
    {
     "data": {
      "text/plain": [
       "0"
      ]
     },
     "execution_count": 13,
     "metadata": {},
     "output_type": "execute_result"
    }
   ],
   "source": [
    "def accumulator():\n",
    "    total = 0\n",
    "    while True:\n",
    "        value = yield total\n",
    "        print('Got: {}'.format(value))\n",
    "        \n",
    "        if not value: break\n",
    "        total += value\n",
    "        \n",
    "generator = accumulator()\n",
    "\n",
    "next(generator)"
   ]
  },
  {
   "cell_type": "code",
   "execution_count": 14,
   "metadata": {
    "ExecuteTime": {
     "end_time": "2021-07-17T09:59:43.248079Z",
     "start_time": "2021-07-17T09:59:43.242070Z"
    },
    "hidden": true
   },
   "outputs": [
    {
     "name": "stdout",
     "output_type": "stream",
     "text": [
      "Got: 1\n",
      "Accumulated: 1\n"
     ]
    }
   ],
   "source": [
    "print('Accumulated: {}'.format(generator.send(1)))"
   ]
  },
  {
   "cell_type": "code",
   "execution_count": 15,
   "metadata": {
    "ExecuteTime": {
     "end_time": "2021-07-17T09:59:50.179797Z",
     "start_time": "2021-07-17T09:59:50.168789Z"
    },
    "hidden": true
   },
   "outputs": [
    {
     "name": "stdout",
     "output_type": "stream",
     "text": [
      "Got: 3\n",
      "Accumulated: 4\n"
     ]
    }
   ],
   "source": [
    "print('Accumulated: {}'.format(generator.send(3)))"
   ]
  },
  {
   "cell_type": "code",
   "execution_count": 16,
   "metadata": {
    "ExecuteTime": {
     "end_time": "2021-07-17T10:00:01.465778Z",
     "start_time": "2021-07-17T10:00:01.457797Z"
    },
    "hidden": true
   },
   "outputs": [
    {
     "name": "stdout",
     "output_type": "stream",
     "text": [
      "Got: 2\n",
      "Accumulated: 6\n"
     ]
    }
   ],
   "source": [
    "print('Accumulated: {}'.format(generator.send(2)))"
   ]
  },
  {
   "cell_type": "markdown",
   "metadata": {
    "hidden": true
   },
   "source": [
    "### Когда применять вместо обычного списка"
   ]
  },
  {
   "cell_type": "markdown",
   "metadata": {
    "hidden": true
   },
   "source": [
    "- Списки хранят весь массив данных целиком. Если данных очень много, то это занимает очень много памяти. Генераторы не хранят данные в памяти. Поэтому выгодно их использовать в случаи генерации больших данных.\n",
    "- Генераторы идеально подходят для чтения большого количества больших файлов, поскольку они выдают данные по одному фрагменту за раз, независимо от размера входного потока. Они также могут привести к более чистому коду путем разделения процесса итерации на более мелкие компоненты."
   ]
  },
  {
   "cell_type": "markdown",
   "metadata": {
    "heading_collapsed": true
   },
   "source": [
    "## Nested lists \n",
    "Несколько элеметов итерации внутри объекта. \n",
    "- Если перебор однокртаный (`for x in my_object:`), то и итерация идет по-элементно (т.е. элеметы одержащтеся непосредтсяенно в объекте"
   ]
  },
  {
   "cell_type": "code",
   "execution_count": 35,
   "metadata": {
    "ExecuteTime": {
     "end_time": "2019-01-30T23:15:01.037317Z",
     "start_time": "2019-01-30T23:15:00.992099Z"
    },
    "hidden": true
   },
   "outputs": [
    {
     "name": "stdout",
     "output_type": "stream",
     "text": [
      "\n",
      "1st:  (1, 2, 3)\n",
      "\n",
      "1st:  ('a', 'b', 'c')\n",
      "\n",
      "1st:  (1.4, 12.5, 235.3)\n"
     ]
    }
   ],
   "source": [
    "some_list=[(1,2,3), ('a', 'b', 'c'), (1.4,12.5,235.3)]\n",
    "for x in some_list:\n",
    "    print(\"\\n1st: \", x)      "
   ]
  },
  {
   "cell_type": "markdown",
   "metadata": {
    "hidden": true
   },
   "source": [
    "- Если перебор по нескольким переменным (напр., `for x, y in my_object:`), то итерация идет по подэлементам (т.е. элеметы одержащтеся в подлеменнтах в износальном объекте  \n",
    "\n",
    " При этом, подобъекты дожны быть строго одного размера, соответсвующего кол-ву перебораэементов. Так в следующем примере, перебор идет по `x, y, z` (размер 3) и подобъекты `(1,2,3)`, `('a', 'b', 'c')`, `(1.4,12.5,235.3)` (тоже размер 3 каждый). Если рамеры хотябы одного подобъекта будут отличаться от рамера перебора, то будет ошибка.  \n",
    " В этом случаии, за цикл перебора проходится один подобъект (полностью), затем другой и т.д. "
   ]
  },
  {
   "cell_type": "code",
   "execution_count": 40,
   "metadata": {
    "ExecuteTime": {
     "end_time": "2019-01-30T23:16:56.891572Z",
     "start_time": "2019-01-30T23:16:56.839065Z"
    },
    "hidden": true
   },
   "outputs": [
    {
     "name": "stdout",
     "output_type": "stream",
     "text": [
      "\n",
      "1st:  1\n",
      "2nd:  2\n",
      "3rd:  3\n",
      "\n",
      "1st:  a\n",
      "2nd:  b\n",
      "3rd:  c\n",
      "\n",
      "1st:  1.4\n",
      "2nd:  12.5\n",
      "3rd:  235.3\n"
     ]
    }
   ],
   "source": [
    "some_list=[(1,2,3), ('a', 'b', 'c'), (1.4,12.5,235.3)]\n",
    "for x, y, z in some_list:\n",
    "    print(\"\\n1st: \", x)      # в x сохраняется key при проходке по классу dict_items\n",
    "    print(\"2nd: \", y) \n",
    "    print(\"3rd: \", z )"
   ]
  },
  {
   "cell_type": "code",
   "execution_count": 25,
   "metadata": {
    "ExecuteTime": {
     "end_time": "2019-06-20T22:06:36.947124Z",
     "start_time": "2019-06-20T22:06:36.908122Z"
    },
    "hidden": true
   },
   "outputs": [
    {
     "ename": "ValueError",
     "evalue": "too many values to unpack (expected 3)",
     "output_type": "error",
     "traceback": [
      "\u001b[1;31m---------------------------------------------------------------------------\u001b[0m",
      "\u001b[1;31mValueError\u001b[0m                                Traceback (most recent call last)",
      "\u001b[1;32m<ipython-input-25-c60db09a0d2c>\u001b[0m in \u001b[0;36m<module>\u001b[1;34m()\u001b[0m\n\u001b[0;32m      1\u001b[0m \u001b[0msome_list\u001b[0m\u001b[1;33m=\u001b[0m\u001b[1;33m[\u001b[0m\u001b[1;33m(\u001b[0m\u001b[1;36m1\u001b[0m\u001b[1;33m,\u001b[0m\u001b[1;36m2\u001b[0m\u001b[1;33m,\u001b[0m\u001b[1;36m3\u001b[0m\u001b[1;33m,\u001b[0m \u001b[1;36m4\u001b[0m\u001b[1;33m,\u001b[0m\u001b[1;36m5\u001b[0m\u001b[1;33m,\u001b[0m\u001b[1;36m6\u001b[0m\u001b[1;33m)\u001b[0m\u001b[1;33m,\u001b[0m \u001b[1;33m(\u001b[0m\u001b[1;34m'a'\u001b[0m\u001b[1;33m,\u001b[0m \u001b[1;34m'b'\u001b[0m\u001b[1;33m,\u001b[0m \u001b[1;34m'c'\u001b[0m\u001b[1;33m,\u001b[0m \u001b[1;34m'd'\u001b[0m\u001b[1;33m,\u001b[0m \u001b[1;34m'e'\u001b[0m\u001b[1;33m,\u001b[0m \u001b[1;34m'g'\u001b[0m\u001b[1;33m)\u001b[0m\u001b[1;33m]\u001b[0m\u001b[1;33m\u001b[0m\u001b[0m\n\u001b[1;32m----> 2\u001b[1;33m \u001b[1;32mfor\u001b[0m \u001b[0mx\u001b[0m\u001b[1;33m,\u001b[0m \u001b[0my\u001b[0m\u001b[1;33m,\u001b[0m \u001b[0mz\u001b[0m \u001b[1;32min\u001b[0m \u001b[0msome_list\u001b[0m\u001b[1;33m:\u001b[0m\u001b[1;33m\u001b[0m\u001b[0m\n\u001b[0m\u001b[0;32m      3\u001b[0m     \u001b[0mprint\u001b[0m\u001b[1;33m(\u001b[0m\u001b[1;34m\"\\n1st: \"\u001b[0m\u001b[1;33m,\u001b[0m \u001b[0mx\u001b[0m\u001b[1;33m)\u001b[0m\u001b[1;33m\u001b[0m\u001b[0m\n\u001b[0;32m      4\u001b[0m     \u001b[0mprint\u001b[0m\u001b[1;33m(\u001b[0m\u001b[1;34m\"2nd: \"\u001b[0m\u001b[1;33m,\u001b[0m \u001b[0my\u001b[0m\u001b[1;33m)\u001b[0m\u001b[1;33m\u001b[0m\u001b[0m\n\u001b[0;32m      5\u001b[0m     \u001b[0mprint\u001b[0m\u001b[1;33m(\u001b[0m\u001b[1;34m\"3rd: \"\u001b[0m\u001b[1;33m,\u001b[0m \u001b[0mz\u001b[0m \u001b[1;33m)\u001b[0m\u001b[1;33m\u001b[0m\u001b[0m\n",
      "\u001b[1;31mValueError\u001b[0m: too many values to unpack (expected 3)"
     ]
    }
   ],
   "source": [
    "some_list=[(1,2,3, 4,5,6), ('a', 'b', 'c', 'd', 'e', 'g')]\n",
    "for x, y, z in some_list:\n",
    "    print(\"\\n1st: \", x)      \n",
    "    print(\"2nd: \", y) \n",
    "    print(\"3rd: \", z )"
   ]
  },
  {
   "cell_type": "markdown",
   "metadata": {
    "ExecuteTime": {
     "end_time": "2019-02-01T18:51:06.338010Z",
     "start_time": "2019-02-01T18:51:06.327362Z"
    }
   },
   "source": [
    "## Цикл `for ... in ...`\n",
    "`for ... in ...` –  итерация, которая работает только для итеративных объектов (т.е. str, tuple, list,  dictionary и set). \n",
    "\n",
    "---\n",
    "Фичи:\n",
    "- `break` and `continue` – работают так же как и в других телах функций и циклов\n",
    "-  Не применим к числам, но можено перевести их в str (`srt(#)`)\n",
    "- `assert <condition>, <error message>` - если True, продолжает выполнение программы. Если Flase, то программа останавливается с `AssetionErrror` \n",
    "- `for _ in range(#)` – ‘_’ используется когда не важна переменная (она не используется и нужно просто сделать итерацию/цикл # раз).\n",
    "- else` – входит в цикл. Действует, когда цикл закончен"
   ]
  },
  {
   "cell_type": "code",
   "execution_count": 4,
   "metadata": {
    "ExecuteTime": {
     "end_time": "2019-02-10T23:46:38.795420Z",
     "start_time": "2019-02-10T23:46:38.771688Z"
    }
   },
   "outputs": [
    {
     "name": "stdout",
     "output_type": "stream",
     "text": [
      "0 1 2 3 4 5 \n",
      "Finally finished!\n"
     ]
    }
   ],
   "source": [
    "for x in range(6):\n",
    "  print(x, end=' ')\n",
    "else:\n",
    "  print(\"\\nFinally finished!\")"
   ]
  },
  {
   "cell_type": "markdown",
   "metadata": {},
   "source": [
    "### enumerate"
   ]
  },
  {
   "cell_type": "markdown",
   "metadata": {},
   "source": [
    "`enumerate()` – функция, будет выводить соответствующий номер при итерации: "
   ]
  },
  {
   "cell_type": "code",
   "execution_count": 9,
   "metadata": {
    "ExecuteTime": {
     "end_time": "2019-02-01T18:56:00.897698Z",
     "start_time": "2019-02-01T18:56:00.887244Z"
    }
   },
   "outputs": [
    {
     "name": "stdout",
     "output_type": "stream",
     "text": [
      "(0, 'a')\n",
      "(1, 'b')\n",
      "(2, 'c')\n"
     ]
    }
   ],
   "source": [
    "for i in enumerate(('a','b','c')): \n",
    "    print(i)\n"
   ]
  },
  {
   "cell_type": "markdown",
   "metadata": {},
   "source": [
    "- Полезный модуль `collections` для работы с итерируемыми объектами/коллекциями:  \n",
    "`OrderedDict()`- ф-ция сортирует dict по послед. внесения"
   ]
  },
  {
   "cell_type": "markdown",
   "metadata": {},
   "source": [
    "## Собственные итерабельные объекты"
   ]
  },
  {
   "cell_type": "markdown",
   "metadata": {},
   "source": [
    "Чтобы создать собственный итерабельный объект, нужно определить для него 2 магических метода: `__iter__` и `__next__`."
   ]
  },
  {
   "cell_type": "code",
   "execution_count": 1,
   "metadata": {
    "ExecuteTime": {
     "end_time": "2021-09-20T14:39:41.223392Z",
     "start_time": "2021-09-20T14:39:41.200819Z"
    }
   },
   "outputs": [
    {
     "name": "stdout",
     "output_type": "stream",
     "text": [
      "1\n",
      "4\n",
      "9\n"
     ]
    }
   ],
   "source": [
    "class SquareIterator:\n",
    "    def __init__(self, start, end):\n",
    "        self.current = start\n",
    "        self.end = end\n",
    "    \n",
    "    def __iter__(self):\n",
    "        return self\n",
    "    \n",
    "    def __next__(self):\n",
    "        if self.current >= self.end:\n",
    "            raise StopIteration\n",
    "        \n",
    "        result = self.current ** 2\n",
    "        self.current += 1\n",
    "        return result\n",
    "\n",
    "for num in SquareIterator(1, 4):\n",
    "    print(num)"
   ]
  },
  {
   "cell_type": "markdown",
   "metadata": {},
   "source": [
    "- `__iter__` - метод-инициализатор. Вызывается 1 раз, в перед началом цикла.\n",
    "- `__next__` - метод, возвращающий результат итерации на каждом шагу. "
   ]
  },
  {
   "cell_type": "markdown",
   "metadata": {},
   "source": [
    "### `__iter__`"
   ]
  },
  {
   "cell_type": "markdown",
   "metadata": {},
   "source": [
    "`__iter__(self)` - это метод-инициализатор. Он вызывается, когда интерпретатор видит команду `for <i> in <obj>`, где `<obj>` - это итерабельный объект. Метод `__iter__` возвращает некоторый итерабельный объект, по которому и будет происходить итерация.   \n",
    "\n",
    "Сюда, например, можно поставить аргументы нужные для счетчика:"
   ]
  },
  {
   "cell_type": "code",
   "execution_count": 5,
   "metadata": {
    "ExecuteTime": {
     "end_time": "2021-09-20T15:00:00.515311Z",
     "start_time": "2021-09-20T15:00:00.496152Z"
    }
   },
   "outputs": [
    {
     "name": "stdout",
     "output_type": "stream",
     "text": [
      "False\n",
      "True\n"
     ]
    }
   ],
   "source": [
    "class ListIterator:\n",
    "    def __init__(self, in_list):\n",
    "        self.__list = in_list\n",
    "\n",
    "    def __iter__(self):\n",
    "        self.current = 0\n",
    "        self.end = len(self.__list)\n",
    "        return self\n",
    "    \n",
    "    def __next__(self):\n",
    "        if self.current >= self.end:\n",
    "            raise StopIteration\n",
    "        else:\n",
    "            result = self.__list[self.current]\n",
    "            self.current += 1\n",
    "            return result\n",
    "        \n",
    "test = ListIterator([1, 2, 3, 4])\n",
    "print(hasattr(test, 'current')) #проверяет есть ли такой атрибут\n",
    "for _ in test:\n",
    "    pass\n",
    "\n",
    "print(hasattr(test, 'current')) #проверяет есть ли такой атрибут"
   ]
  },
  {
   "cell_type": "markdown",
   "metadata": {},
   "source": [
    "До вызова `for _ in test` атрибутов `self.current` и `self.end` не существовало. Если бы мы не вызвали оператор `for`, то они и не были бы созданы."
   ]
  },
  {
   "cell_type": "markdown",
   "metadata": {},
   "source": [
    "----"
   ]
  },
  {
   "cell_type": "markdown",
   "metadata": {},
   "source": [
    "#### Вложенные итераторы для вложенных циклов"
   ]
  },
  {
   "cell_type": "markdown",
   "metadata": {},
   "source": [
    "Если сам объект и является итератором, то `__iter__` может просто возвращать себя. Иногда делают специальный итерабельный служебный класс, который возвращается `__iter__`. \n",
    "\n",
    "ННапример, тут у нас есть класс для обработки изображения. Надо, чтобы мы могли итерироваться по x и y направлениям. Для этого мы создаем 2 сцепленных служебных итератора. Так цепочка вызовов получается `Image -> YIterator -> XIterator`."
   ]
  },
  {
   "cell_type": "code",
   "execution_count": 29,
   "metadata": {
    "ExecuteTime": {
     "end_time": "2021-09-20T15:40:18.490176Z",
     "start_time": "2021-09-20T15:40:18.467134Z"
    }
   },
   "outputs": [
    {
     "name": "stdout",
     "output_type": "stream",
     "text": [
      "(1) (2) (3) (4) (5) \n",
      "\n",
      "(6) (7) (8) (9) (10) \n",
      "\n"
     ]
    }
   ],
   "source": [
    "class YIterator():\n",
    "    def __init__(self, img):\n",
    "        self.current = 0\n",
    "        self.end = len(img.pixels)\n",
    "    \n",
    "    def __iter__(self):\n",
    "        return self\n",
    "    \n",
    "    def __next__(self):\n",
    "        if self.current >= self.end:\n",
    "            raise StopIteration\n",
    "        else:\n",
    "            self.current += 1\n",
    "            return XIterator(img, self.current - 1)\n",
    "\n",
    "class XIterator():\n",
    "    def __init__(self, img, y):\n",
    "        self.current = 0\n",
    "        self.end = len(img.pixels[0])\n",
    "        self.__y = y #нужно, чтоб __next__ знал значение y\n",
    "    \n",
    "    def __iter__(self):\n",
    "        return self\n",
    "    \n",
    "    def __next__(self):\n",
    "        if self.current >= self.end:\n",
    "            raise StopIteration\n",
    "        else:\n",
    "            self.current += 1\n",
    "            return img.return_pixel(self.current-1, self.__y)\n",
    "    \n",
    "class Image():\n",
    "    def __init__(self, in_list:list):\n",
    "        self.pixels = in_list\n",
    "    \n",
    "    def __iter__(self):\n",
    "        return YIterator(self)\n",
    "    \n",
    "    def return_pixel(self, x, y):\n",
    "        return self.pixels[y][x]\n",
    "    \n",
    "img = Image([[1,2,3,4,5],\n",
    "            [6,7,8,9,10]])\n",
    "\n",
    "for row in img:\n",
    "    for pixel in row:\n",
    "        print(\"({})\".format(pixel), end=\" \")\n",
    "    print(\"\\n\")"
   ]
  },
  {
   "cell_type": "markdown",
   "metadata": {},
   "source": [
    "### `__next__`"
   ]
  },
  {
   "cell_type": "markdown",
   "metadata": {},
   "source": [
    "`__next__(self)` - это метод, возвращающий некий результ на каждой итерации. Результат записывается в переменную `<i>`. У `__next__` всегда должн быть счетчик и условие терминации.\n",
    "\n",
    "```python        \n",
    "if self.current >= self.end: #счетчик \n",
    "    raise StopIteration      #условие терминации\n",
    "```\n",
    "Цикл останавливается, когда вызывается исключение `StopIteration` - это условие терминации. Поэтому оно всегда должно быть!"
   ]
  }
 ],
 "metadata": {
  "kernelspec": {
   "display_name": "Python 3",
   "language": "python",
   "name": "python3"
  },
  "language_info": {
   "codemirror_mode": {
    "name": "ipython",
    "version": 3
   },
   "file_extension": ".py",
   "mimetype": "text/x-python",
   "name": "python",
   "nbconvert_exporter": "python",
   "pygments_lexer": "ipython3",
   "version": "3.7.6"
  },
  "toc": {
   "base_numbering": 1,
   "nav_menu": {},
   "number_sections": true,
   "sideBar": true,
   "skip_h1_title": false,
   "title_cell": "Table of Contents",
   "title_sidebar": "Contents",
   "toc_cell": false,
   "toc_position": {},
   "toc_section_display": true,
   "toc_window_display": false
  }
 },
 "nbformat": 4,
 "nbformat_minor": 4
}
