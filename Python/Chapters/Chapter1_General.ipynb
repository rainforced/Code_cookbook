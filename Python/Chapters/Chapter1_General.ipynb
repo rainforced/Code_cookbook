{
 "cells": [
  {
   "cell_type": "markdown",
   "metadata": {
    "heading_collapsed": true
   },
   "source": [
    "# Python Zen"
   ]
  },
  {
   "cell_type": "code",
   "execution_count": 1,
   "metadata": {
    "ExecuteTime": {
     "end_time": "2021-08-27T10:16:09.286674Z",
     "start_time": "2021-08-27T10:16:09.269554Z"
    },
    "hidden": true,
    "scrolled": true
   },
   "outputs": [
    {
     "name": "stdout",
     "output_type": "stream",
     "text": [
      "The Zen of Python, by Tim Peters\n",
      "\n",
      "Beautiful is better than ugly.\n",
      "Explicit is better than implicit.\n",
      "Simple is better than complex.\n",
      "Complex is better than complicated.\n",
      "Flat is better than nested.\n",
      "Sparse is better than dense.\n",
      "Readability counts.\n",
      "Special cases aren't special enough to break the rules.\n",
      "Although practicality beats purity.\n",
      "Errors should never pass silently.\n",
      "Unless explicitly silenced.\n",
      "In the face of ambiguity, refuse the temptation to guess.\n",
      "There should be one-- and preferably only one --obvious way to do it.\n",
      "Although that way may not be obvious at first unless you're Dutch.\n",
      "Now is better than never.\n",
      "Although never is often better than *right* now.\n",
      "If the implementation is hard to explain, it's a bad idea.\n",
      "If the implementation is easy to explain, it may be a good idea.\n",
      "Namespaces are one honking great idea -- let's do more of those!\n"
     ]
    }
   ],
   "source": [
    "import this"
   ]
  },
  {
   "cell_type": "code",
   "execution_count": 28,
   "metadata": {
    "hidden": true
   },
   "outputs": [],
   "source": [
    "import sys    # нужно для sys.getsizeof(объект) - чтобы сравнивать размеры в памяти"
   ]
  },
  {
   "cell_type": "markdown",
   "metadata": {
    "heading_collapsed": true
   },
   "source": [
    "# Основные понятие\n",
    "- Приоритеты операций\n",
    "- Динамическая типизация\n",
    "- Объекты\n",
    "- None\n",
    "- Time complexity\n",
    "- Refactoring\n",
    "- ОПП: наследование, инкапсуляция, полиморфизм"
   ]
  },
  {
   "cell_type": "markdown",
   "metadata": {
    "hidden": true
   },
   "source": [
    "**Приоритеты операций**: ветвление (строчное) < логика: or < and > in/is/not < сравнения < =/!=  < битовые < математика < индексация < cрезы < функции < генераторы списков"
   ]
  },
  {
   "cell_type": "markdown",
   "metadata": {
    "hidden": true
   },
   "source": [
    "**Динамическая типизация** - автоматическое связывание переменной (иначе называется ссылка) и объекта. Т.е. объявляя операцию присвоения (напр., a=3), python (концептуально) делает 3 действия: \n",
    "- Создается объект в памяти (напр., цел. число 3). Объект имеет тип данных.\n",
    "- Создается переменная (перемен. a). Не имеет типа, по сути является ссылкой на объект.\n",
    "- Переменной дается ссылка на объект определенного типа.\n",
    "\n",
    "Нужно это для полиморфизма python. Это дает языку гибкость с написания сценария (часто устраняет необходимость писать код в расчете на определенный тип данных).   \n",
    "\n",
    "---\n",
    "Фичи:\n",
    "- Так операция присвоения передает ссылку, поэтому вызов переменной без присвоенного значения = ошибка.\n",
    "- Повторное присвоение переменно какого-либо объекта просто передаст новую ссылку -> не имеет значение какие типы данных были у первого и второго объектов (до и после).\n",
    "- Каждый раз обращаясь к переменной/ссылке, python обращается к объекту переходя по его ссылке.\n",
    "- Переменную также называют ссылкой. \n",
    "- Каждое новое действие (напр., мат. операция) создает в памяти новый объект (даже если не было операции присвоения -> нет ссылки на этот объект). Однако, если такой объект уже был создан (напр., цел.число 3), то python просто обратиться у нему (т.е. один объект может иметь много ссылок на себя). Если на него нет ссылок, то объект удаляется автоматически, чтобы не тратить память.\n"
   ]
  },
  {
   "cell_type": "markdown",
   "metadata": {
    "hidden": true
   },
   "source": [
    "**Объекты** - элементы памяти, выделенные под определенный тип данных. Каждый объект хранит в себе: 1. описатель типа; 2. счетчик ссылок.  \n",
    "\n",
    "Пример: Цел. числ. 3: создается объект который содержит 1. указатель в памяти на int 3 (значение); 2. указатель на тип int (описатель типа, те в памяти создается объект int и на него ссылаются все int в программе); 3. Счетчик ссылок=1  \n",
    "\n",
    "---\n",
    "Фичи:\n",
    "- Когда счетчик ссылок равен 0, интерпретатор python включает garbage collection: удаляет объект и высвобождает память. Объект не будет удален, пока на него ссылается ссылается хотя бы одна переменная.\n",
    "- При компиляции (.pyc) создаются популярные объекты, на которые часто ссылаются (напр., 0)\n",
    "- Если сказано, что объект не именяем - это значит, что *его элемет не может быть переписан*. Это не значит, что сам объекты не может менять размер (напр., с помощью методов)\n"
   ]
  },
  {
   "cell_type": "markdown",
   "metadata": {
    "hidden": true
   },
   "source": [
    "**None** - пустой тип данных. Вывоводится, когда у функции нет `return`. Или используется `assert` "
   ]
  },
  {
   "cell_type": "markdown",
   "metadata": {
    "hidden": true
   },
   "source": [
    "**Time complexity** [for python objects](https://wiki.python.org/moin/TimeComplexity)"
   ]
  },
  {
   "cell_type": "markdown",
   "metadata": {
    "hidden": true
   },
   "source": [
    "**Code refactoring** - процесс разбиения существующего кода на более удобные фунциональные блоки (функции, классы и т.д.), не меняя при этом внутреннюю работу программы. Т.е. это оптимизация кода. "
   ]
  },
  {
   "cell_type": "markdown",
   "metadata": {
    "hidden": true
   },
   "source": [
    "Класс реализуются на основе уже существующих объектов (в тч классов) – принцип **Наследования**. То что все функции внутри класса, скрыты отглаз и реализованы как методы – **Инкапсуляция**. **Полиморфизм** (способность применять одинаковые методы на разных классах) – прямое следствие наследования в классах.   "
   ]
  },
  {
   "cell_type": "markdown",
   "metadata": {},
   "source": [
    "# Объектная структура Питона"
   ]
  },
  {
   "cell_type": "markdown",
   "metadata": {},
   "source": [
    "Как известно, все в питоне является объектом. \n",
    "- В интерпретаторе CPython все реализовано через структуры (`struct`).\n",
    "- Любой объект (в т.ч. типы данных, ф-ции и т.д.) реализованны через наследования от более базового типа. \n",
    "- Под капотом любого объекта в питоне лежит одна из 2х базовых структур: `PyObject` (для неизменяемых объектов) и `PyVarObject` (для изменяемых объектов)."
   ]
  },
  {
   "cell_type": "markdown",
   "metadata": {},
   "source": [
    "## PyObject\n",
    "Стуктура для неизменяемых объектов.\n",
    "```c\n",
    "typedef struct _object {\n",
    "    Py_ssize_t ob_refcnt;\n",
    "    struct _typeobject *ob_type;\n",
    "} PyObject;\n",
    "```\n",
    "У этой структуры 2 поля:\n",
    "- `ob_refcnt` - счетчик ссылок. Он следит за кол-вом ссылок на данных объект. Когда он будет = 0, garbage collector удалит этот объект.\n",
    "- `*ob_type` - указатель на тип объекта."
   ]
  },
  {
   "cell_type": "markdown",
   "metadata": {},
   "source": [
    "## PyVarObject\n",
    "Стуктура для изменяемых объектов.\n",
    "```c\n",
    "typedef struct {\n",
    "    PyObject ob_base;\n",
    "    Py_ssize_t ob_size; // Кол-во элементов в переменной части\n",
    "} PyVarObject;\n",
    "```\n",
    "- `ob_base` - объект типа PyObject (т.к. у каждого объекта в питоне есть счетчик ссылок и указатель на тип объекта.)\n",
    "- `ob_size` - счетчик элементов данного объекта. Причем, это намер имеено элементов (т.е. у списка, например, этот номер равен кол-ву элементов списка)."
   ]
  }
 ],
 "metadata": {
  "kernelspec": {
   "display_name": "Python 3",
   "language": "python",
   "name": "python3"
  },
  "language_info": {
   "codemirror_mode": {
    "name": "ipython",
    "version": 3
   },
   "file_extension": ".py",
   "mimetype": "text/x-python",
   "name": "python",
   "nbconvert_exporter": "python",
   "pygments_lexer": "ipython3",
   "version": "3.7.6"
  },
  "toc": {
   "base_numbering": 1,
   "nav_menu": {},
   "number_sections": true,
   "sideBar": true,
   "skip_h1_title": false,
   "title_cell": "Table of Contents",
   "title_sidebar": "Contents",
   "toc_cell": false,
   "toc_position": {},
   "toc_section_display": true,
   "toc_window_display": false
  }
 },
 "nbformat": 4,
 "nbformat_minor": 4
}
