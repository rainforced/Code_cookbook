{
 "cells": [
  {
   "cell_type": "code",
   "execution_count": 1,
   "metadata": {
    "ExecuteTime": {
     "end_time": "2019-09-25T01:04:19.438187Z",
     "start_time": "2019-09-25T01:04:10.840973Z"
    }
   },
   "outputs": [],
   "source": [
    "import numpy as np\n",
    "from matplotlib import pyplot as plt"
   ]
  },
  {
   "cell_type": "markdown",
   "metadata": {},
   "source": [
    "## Basics"
   ]
  },
  {
   "cell_type": "markdown",
   "metadata": {},
   "source": [
    "### New matrix"
   ]
  },
  {
   "cell_type": "code",
   "execution_count": 2,
   "metadata": {
    "ExecuteTime": {
     "end_time": "2019-08-29T15:42:18.731091Z",
     "start_time": "2019-08-29T15:42:18.728092Z"
    }
   },
   "outputs": [],
   "source": [
    "new_array = np.array([[0, 1],\n",
    "                      [10, 3],\n",
    "                      [400, 23]])"
   ]
  },
  {
   "cell_type": "code",
   "execution_count": 3,
   "metadata": {
    "ExecuteTime": {
     "end_time": "2019-08-29T15:44:50.810220Z",
     "start_time": "2019-08-29T15:44:50.806223Z"
    }
   },
   "outputs": [],
   "source": [
    "#1D\n",
    "list_num = [1, 2, 43, 5]\n",
    "another_array = np.array(list_num)     #можно создать матрицу, передав ей список\n",
    "\n",
    "#2D\n",
    "list_num2 = [[1, 2], [43, 5]]\n",
    "yet_another_array = np.array(list_num2) #можно создать матрицу, передав ей список списков "
   ]
  },
  {
   "cell_type": "code",
   "execution_count": 35,
   "metadata": {
    "ExecuteTime": {
     "end_time": "2019-08-29T16:23:56.083241Z",
     "start_time": "2019-08-29T16:23:56.079241Z"
    }
   },
   "outputs": [
    {
     "name": "stdout",
     "output_type": "stream",
     "text": [
      "(4,) (2, 2)\n"
     ]
    }
   ],
   "source": [
    "#shape\n",
    "print(another_array.shape, yet_another_array.shape)"
   ]
  },
  {
   "cell_type": "markdown",
   "metadata": {},
   "source": [
    "#### Special matrixes"
   ]
  },
  {
   "cell_type": "code",
   "execution_count": 6,
   "metadata": {},
   "outputs": [],
   "source": [
    "empt_mtrx = np.empty([2,3])      #создает матрицу с случайным наполением"
   ]
  },
  {
   "cell_type": "code",
   "execution_count": 7,
   "metadata": {},
   "outputs": [],
   "source": [
    "zeros_mtrx = np.zeros([2,3])     #создает матрицу заполниную нулями "
   ]
  },
  {
   "cell_type": "code",
   "execution_count": 8,
   "metadata": {},
   "outputs": [],
   "source": [
    "ones_mtrx = np.ones([2,3])       #создает матрицу заполниную единицами"
   ]
  },
  {
   "cell_type": "markdown",
   "metadata": {
    "heading_collapsed": true
   },
   "source": [
    "#### Properties"
   ]
  },
  {
   "cell_type": "code",
   "execution_count": 3,
   "metadata": {
    "ExecuteTime": {
     "end_time": "2019-03-08T04:34:53.817460Z",
     "start_time": "2019-03-08T04:34:53.813464Z"
    },
    "hidden": true
   },
   "outputs": [
    {
     "data": {
      "text/plain": [
       "(3, 2)"
      ]
     },
     "execution_count": 3,
     "metadata": {},
     "output_type": "execute_result"
    }
   ],
   "source": [
    "new_array.shape   #(rows, columns)"
   ]
  },
  {
   "cell_type": "code",
   "execution_count": 4,
   "metadata": {
    "hidden": true
   },
   "outputs": [
    {
     "data": {
      "text/plain": [
       "dtype('int32')"
      ]
     },
     "execution_count": 4,
     "metadata": {},
     "output_type": "execute_result"
    }
   ],
   "source": [
    "new_array.dtype   "
   ]
  },
  {
   "cell_type": "markdown",
   "metadata": {
    "heading_collapsed": true
   },
   "source": [
    "#### Indexing\n",
    "- Положительное и отрицательное индексирование\n",
    "- 2D индексирование. Вызов целого ряда"
   ]
  },
  {
   "cell_type": "code",
   "execution_count": 36,
   "metadata": {
    "hidden": true
   },
   "outputs": [
    {
     "name": "stdout",
     "output_type": "stream",
     "text": [
      "[ 1  2 43  5]\n",
      "[[ 1  2]\n",
      " [43  5]] \n",
      "\n",
      "1 43 \n",
      "\n",
      "2 5\n",
      "2 5\n"
     ]
    }
   ],
   "source": [
    "#Одномерное и многомерное индексирование\n",
    "print(another_array)\n",
    "print(yet_another_array, '\\n')\n",
    "\n",
    "print(another_array[0], another_array[2], '\\n')   #обычно как и дургих массивов\n",
    "\n",
    "print(yet_another_array[0][1], yet_another_array[1][1])  #для 2D, сначала строку, потом стобец. Все как в линале\n",
    "print(yet_another_array[0, 1], yet_another_array[1, 1])  #аналогично nD-array можно вызвать через список"
   ]
  },
  {
   "cell_type": "code",
   "execution_count": 37,
   "metadata": {
    "hidden": true
   },
   "outputs": [
    {
     "name": "stdout",
     "output_type": "stream",
     "text": [
      "[1 2]\n"
     ]
    }
   ],
   "source": [
    "#Вызвать целый ряд\n",
    "print(yet_another_array[0, ])   #надо оставить пустым соответствующий индекс "
   ]
  },
  {
   "cell_type": "code",
   "execution_count": 29,
   "metadata": {
    "hidden": true
   },
   "outputs": [
    {
     "name": "stdout",
     "output_type": "stream",
     "text": [
      "5\n"
     ]
    }
   ],
   "source": [
    "print(another_array[-1])   #отрицательные индексы ведут отсчет с конца"
   ]
  },
  {
   "cell_type": "markdown",
   "metadata": {},
   "source": [
    "#### Slicing \n",
    "- Работает как для положительнного, так и для отрицательного индексирования (от конца)"
   ]
  },
  {
   "cell_type": "code",
   "execution_count": 31,
   "metadata": {
    "ExecuteTime": {
     "end_time": "2019-08-29T16:16:51.665952Z",
     "start_time": "2019-08-29T16:16:51.660952Z"
    }
   },
   "outputs": [
    {
     "name": "stdout",
     "output_type": "stream",
     "text": [
      "[ 2 43]\n",
      "[ 1  2 43  5]\n"
     ]
    }
   ],
   "source": [
    "# 1D slicing [start:stop]    //stop не включен\n",
    "print(another_array[1:3])\n",
    "print(another_array[:])     #целиком"
   ]
  },
  {
   "cell_type": "code",
   "execution_count": 8,
   "metadata": {
    "ExecuteTime": {
     "end_time": "2019-09-25T01:06:50.852359Z",
     "start_time": "2019-09-25T01:06:50.845361Z"
    }
   },
   "outputs": [
    {
     "name": "stdout",
     "output_type": "stream",
     "text": [
      "[[11 22]\n",
      " [44 55]\n",
      " [77 88]]\n",
      "\n",
      " [33 66 99]\n",
      "\n",
      " [[11 22 33]\n",
      " [44 55 66]]\n"
     ]
    }
   ],
   "source": [
    "# 2D slicing\n",
    "data = np.array([[11, 22, 33],\n",
    "              [44, 55, 66],\n",
    "              [77, 88, 99]])\n",
    "# separate data\n",
    "X, y = data[:, :-1], data[:, -1]\n",
    "also = data[:2]\n",
    "print(X)                   #все ряды, и все столбцы кроме послднего\n",
    "print('\\n', y)                   #все ряды, только последний столбец\n",
    "print('\\n', also)          #первые 2 строки"
   ]
  },
  {
   "cell_type": "markdown",
   "metadata": {},
   "source": [
    "- `data[:, :]` первое двоеточие - это срез по **рядам**, а второе двоеточие - срез по **столбцам** т.е. запись `data[:-1,0]` -выедет все ряды и только 2й стобец (т.к. счет с 0). \n",
    "- При этом, срез возвращает новый array, т.е. `data[:-1,0]` вренет соотв. обрезанный стобец"
   ]
  },
  {
   "cell_type": "code",
   "execution_count": 20,
   "metadata": {
    "ExecuteTime": {
     "end_time": "2019-08-29T15:51:41.415882Z",
     "start_time": "2019-08-29T15:51:41.409885Z"
    }
   },
   "outputs": [
    {
     "data": {
      "text/plain": [
       "array([11, 44])"
      ]
     },
     "execution_count": 20,
     "metadata": {},
     "output_type": "execute_result"
    }
   ],
   "source": [
    "data[:-1,0]  # выведет все строки от 1й до предпоследней, и только 1й стобец"
   ]
  },
  {
   "cell_type": "code",
   "execution_count": 30,
   "metadata": {
    "ExecuteTime": {
     "end_time": "2019-08-29T16:16:16.304110Z",
     "start_time": "2019-08-29T16:16:16.298111Z"
    }
   },
   "outputs": [
    {
     "name": "stdout",
     "output_type": "stream",
     "text": [
      "[[11 22 33]\n",
      " [44 55 66]]\n",
      "[[77 88 99]]\n"
     ]
    }
   ],
   "source": [
    "# train and test sets\n",
    "data = np.array([\n",
    "[11, 22, 33],\n",
    "[44, 55, 66],\n",
    "[77, 88, 99]])\n",
    "# separate data\n",
    "split = 2\n",
    "train,test = data[:split,:],data[split:,:]   \n",
    "print(train)   # train set первые две строки\n",
    "print(test)    # test set последняя строка"
   ]
  },
  {
   "cell_type": "markdown",
   "metadata": {},
   "source": [
    "#### Broadcasting\n",
    "Numpy может сам достроить векторы до нужного размера, если арифметика для них невозможна. "
   ]
  },
  {
   "cell_type": "code",
   "execution_count": 50,
   "metadata": {
    "ExecuteTime": {
     "end_time": "2019-08-29T19:01:57.697792Z",
     "start_time": "2019-08-29T19:01:57.689809Z"
    }
   },
   "outputs": [
    {
     "name": "stdout",
     "output_type": "stream",
     "text": [
      "[3 4 5 6]\n",
      "[[ 3  4  5  6]\n",
      " [ 7  8  9 10]]\n",
      "[[2 4 6]\n",
      " [2 4 6]]\n"
     ]
    }
   ],
   "source": [
    "a = np.array([1, 2, 3, 4])\n",
    "b = 2  # достроит до [2,2,2,2]\n",
    "print(a+b)\n",
    "\n",
    "a = np.array([[1, 2, 3, 4], \n",
    "              [5, 6, 7, 8]])\n",
    "b = 2  # достроит до [[2,2,2,2], [2,2,2,2]]\n",
    "print(a+b)\n",
    "\n",
    "a = np.array([[1, 2, 3],\n",
    "           [1, 2, 3]])\n",
    "b = np.array([1, 2, 3])   # достроит до [[1, 2, 3], [1, 2, 3]]\n",
    "print(a+b)"
   ]
  },
  {
   "cell_type": "markdown",
   "metadata": {},
   "source": [
    "### Stack and concatenate"
   ]
  },
  {
   "cell_type": "code",
   "execution_count": 14,
   "metadata": {},
   "outputs": [
    {
     "name": "stdout",
     "output_type": "stream",
     "text": [
      "[[1 2 3]\n",
      " [4 5 6]]\n",
      "[1 2 3 4 5 6]\n"
     ]
    }
   ],
   "source": [
    "# 2D\n",
    "mtrx1 = np.array([1, 2, 3])\n",
    "mtrx2 = np.array([4, 5, 6])\n",
    "\n",
    "vmtrx = np.vstack((mtrx1, mtrx2))  #vertical stack (добавляет как следующий ряды)\n",
    "hmtrx = np.hstack((mtrx1, mtrx2))  #horizontal stack/concatenate (то есть добавляет в ряд)\n",
    "\n",
    "print(vmtrx)\n",
    "print(hmtrx)"
   ]
  },
  {
   "cell_type": "code",
   "execution_count": 15,
   "metadata": {},
   "outputs": [
    {
     "name": "stdout",
     "output_type": "stream",
     "text": [
      "[[ 1  2  3]\n",
      " [ 4  5  6]\n",
      " [ 7  8  9]\n",
      " [10 11 12]]\n",
      "[[ 1  2  3  7  8  9]\n",
      " [ 4  5  6 10 11 12]]\n"
     ]
    }
   ],
   "source": [
    "# 3D\n",
    "mtrx1 = np.array([[1, 2, 3],\n",
    "                 [4, 5, 6]])\n",
    "mtrx2 = np.array([[7, 8, 9],\n",
    "                 [10, 11, 12]])\n",
    "\n",
    "vmtrx = np.vstack((mtrx1, mtrx2))  #vertical stack (добавляет как следующий ряды)\n",
    "hmtrx = np.hstack((mtrx1, mtrx2))  #horizontal stack/concatenate (то есть добавляет в ряд) !для соответствующих рядов\n",
    "\n",
    "print(vmtrx)\n",
    "print(hmtrx)"
   ]
  },
  {
   "cell_type": "code",
   "execution_count": 23,
   "metadata": {
    "ExecuteTime": {
     "end_time": "2019-08-29T16:00:12.405475Z",
     "start_time": "2019-08-29T16:00:12.394477Z"
    }
   },
   "outputs": [
    {
     "name": "stdout",
     "output_type": "stream",
     "text": [
      "[[ 1  2  3]\n",
      " [ 7  8  9]\n",
      " [10 11 12]]\n"
     ]
    },
    {
     "ename": "ValueError",
     "evalue": "all the input arrays must have same number of dimensions",
     "output_type": "error",
     "traceback": [
      "\u001b[1;31m---------------------------------------------------------------------------\u001b[0m",
      "\u001b[1;31mValueError\u001b[0m                                Traceback (most recent call last)",
      "\u001b[1;32m<ipython-input-23-f4633e32f18a>\u001b[0m in \u001b[0;36m<module>\u001b[1;34m\u001b[0m\n\u001b[0;32m      5\u001b[0m \u001b[0mvmtrx\u001b[0m \u001b[1;33m=\u001b[0m \u001b[0mnp\u001b[0m\u001b[1;33m.\u001b[0m\u001b[0mvstack\u001b[0m\u001b[1;33m(\u001b[0m\u001b[1;33m(\u001b[0m\u001b[0mmtrx1\u001b[0m\u001b[1;33m,\u001b[0m \u001b[0mmtrx2\u001b[0m\u001b[1;33m)\u001b[0m\u001b[1;33m)\u001b[0m  \u001b[1;31m# vertical stack (добавляет как следующий ряды): все сработает хорошо\u001b[0m\u001b[1;33m\u001b[0m\u001b[1;33m\u001b[0m\u001b[0m\n\u001b[0;32m      6\u001b[0m \u001b[0mprint\u001b[0m\u001b[1;33m(\u001b[0m\u001b[0mvmtrx\u001b[0m\u001b[1;33m)\u001b[0m\u001b[1;33m\u001b[0m\u001b[1;33m\u001b[0m\u001b[0m\n\u001b[1;32m----> 7\u001b[1;33m \u001b[0mhmtrx\u001b[0m \u001b[1;33m=\u001b[0m \u001b[0mnp\u001b[0m\u001b[1;33m.\u001b[0m\u001b[0mhstack\u001b[0m\u001b[1;33m(\u001b[0m\u001b[1;33m(\u001b[0m\u001b[0mmtrx1\u001b[0m\u001b[1;33m,\u001b[0m \u001b[0mmtrx2\u001b[0m\u001b[1;33m)\u001b[0m\u001b[1;33m)\u001b[0m  \u001b[1;31m# horizontal stack будет ругаться, т.к. не сходятся размерности\u001b[0m\u001b[1;33m\u001b[0m\u001b[1;33m\u001b[0m\u001b[0m\n\u001b[0m\u001b[0;32m      8\u001b[0m \u001b[0mprint\u001b[0m\u001b[1;33m(\u001b[0m\u001b[0mhmtrx\u001b[0m\u001b[1;33m)\u001b[0m\u001b[1;33m\u001b[0m\u001b[1;33m\u001b[0m\u001b[0m\n",
      "\u001b[1;32m~\\Anaconda3\\lib\\site-packages\\numpy\\core\\shape_base.py\u001b[0m in \u001b[0;36mhstack\u001b[1;34m(tup)\u001b[0m\n\u001b[0;32m    336\u001b[0m     \u001b[1;31m# As a special case, dimension 0 of 1-dimensional arrays is \"horizontal\"\u001b[0m\u001b[1;33m\u001b[0m\u001b[1;33m\u001b[0m\u001b[1;33m\u001b[0m\u001b[0m\n\u001b[0;32m    337\u001b[0m     \u001b[1;32mif\u001b[0m \u001b[0marrs\u001b[0m \u001b[1;32mand\u001b[0m \u001b[0marrs\u001b[0m\u001b[1;33m[\u001b[0m\u001b[1;36m0\u001b[0m\u001b[1;33m]\u001b[0m\u001b[1;33m.\u001b[0m\u001b[0mndim\u001b[0m \u001b[1;33m==\u001b[0m \u001b[1;36m1\u001b[0m\u001b[1;33m:\u001b[0m\u001b[1;33m\u001b[0m\u001b[1;33m\u001b[0m\u001b[0m\n\u001b[1;32m--> 338\u001b[1;33m         \u001b[1;32mreturn\u001b[0m \u001b[0m_nx\u001b[0m\u001b[1;33m.\u001b[0m\u001b[0mconcatenate\u001b[0m\u001b[1;33m(\u001b[0m\u001b[0marrs\u001b[0m\u001b[1;33m,\u001b[0m \u001b[1;36m0\u001b[0m\u001b[1;33m)\u001b[0m\u001b[1;33m\u001b[0m\u001b[1;33m\u001b[0m\u001b[0m\n\u001b[0m\u001b[0;32m    339\u001b[0m     \u001b[1;32melse\u001b[0m\u001b[1;33m:\u001b[0m\u001b[1;33m\u001b[0m\u001b[1;33m\u001b[0m\u001b[0m\n\u001b[0;32m    340\u001b[0m         \u001b[1;32mreturn\u001b[0m \u001b[0m_nx\u001b[0m\u001b[1;33m.\u001b[0m\u001b[0mconcatenate\u001b[0m\u001b[1;33m(\u001b[0m\u001b[0marrs\u001b[0m\u001b[1;33m,\u001b[0m \u001b[1;36m1\u001b[0m\u001b[1;33m)\u001b[0m\u001b[1;33m\u001b[0m\u001b[1;33m\u001b[0m\u001b[0m\n",
      "\u001b[1;31mValueError\u001b[0m: all the input arrays must have same number of dimensions"
     ]
    }
   ],
   "source": [
    "# 2D и 3D\n",
    "mtrx1 = np.array([1, 2, 3])\n",
    "mtrx2 = np.array([[7, 8, 9],\n",
    "                 [10, 11, 12]])\n",
    "vmtrx = np.vstack((mtrx1, mtrx2))  # vertical stack (добавляет как следующий ряды): все сработает хорошо\n",
    "print(vmtrx)\n",
    "hmtrx = np.hstack((mtrx1, mtrx2))  # horizontal stack будет ругаться, т.к. не сходятся размерности \n",
    "print(hmtrx)"
   ]
  },
  {
   "cell_type": "markdown",
   "metadata": {},
   "source": [
    "`np.r_[]` - класс, который совмещает несколько матриц в одну: *одну под другой*"
   ]
  },
  {
   "cell_type": "code",
   "execution_count": 13,
   "metadata": {
    "ExecuteTime": {
     "end_time": "2019-09-25T01:17:18.873605Z",
     "start_time": "2019-09-25T01:17:18.867608Z"
    }
   },
   "outputs": [
    {
     "name": "stdout",
     "output_type": "stream",
     "text": [
      "[[ 1.  3.  1.]\n",
      " [ 1.  1. -1.]\n",
      " [ 3. 11.  6.]\n",
      " [ 0.  0.  0.]\n",
      " [ 0.  0.  0.]\n",
      " [ 0.  0.  0.]]\n"
     ]
    }
   ],
   "source": [
    "a = np.array([[1, 3,  1],\n",
    "     [1, 1, -1],\n",
    "     [3, 11, 6]])\n",
    "c = np.r_[a, np.zeros((3,3))]\n",
    "print(c)"
   ]
  },
  {
   "cell_type": "markdown",
   "metadata": {},
   "source": [
    "`np.r_[]` - класс, который совмещает несколько матриц в одну: *одну рядом с другой*"
   ]
  },
  {
   "cell_type": "code",
   "execution_count": 14,
   "metadata": {
    "ExecuteTime": {
     "end_time": "2019-09-25T01:37:35.835884Z",
     "start_time": "2019-09-25T01:37:35.830887Z"
    }
   },
   "outputs": [
    {
     "name": "stdout",
     "output_type": "stream",
     "text": [
      "[[ 1.  3.  1.  0.  0.  0.]\n",
      " [ 1.  1. -1.  0.  0.  0.]\n",
      " [ 3. 11.  6.  0.  0.  0.]]\n"
     ]
    }
   ],
   "source": [
    "a = np.array([[1, 3,  1],\n",
    "     [1, 1, -1],\n",
    "     [3, 11, 6]])\n",
    "c = np.c_[a, np.zeros((3,3))]\n",
    "print(c)"
   ]
  },
  {
   "cell_type": "markdown",
   "metadata": {
    "heading_collapsed": true
   },
   "source": [
    "### reshape and ravel"
   ]
  },
  {
   "cell_type": "markdown",
   "metadata": {
    "hidden": true
   },
   "source": [
    "#### np.ravel()"
   ]
  },
  {
   "cell_type": "code",
   "execution_count": 18,
   "metadata": {
    "ExecuteTime": {
     "end_time": "2019-03-08T05:18:24.309999Z",
     "start_time": "2019-03-08T05:18:24.304988Z"
    },
    "hidden": true
   },
   "outputs": [
    {
     "name": "stdout",
     "output_type": "stream",
     "text": [
      "[  0   1  10   3 400  23]\n",
      "[  0   1  10   3 400  23]\n",
      "[  0  10 400   1   3  23]\n",
      "[  0   1  10   3 400  23]\n"
     ]
    }
   ],
   "source": [
    "new_array = np.array([[0, 1],\n",
    "                      [10, 3],\n",
    "                      [400, 23]])\n",
    "print(new_array.ravel())           # order='C' - default\n",
    "print(new_array.ravel(order='C'))\n",
    "print(new_array.ravel(order='F'))\n",
    "print(new_array.ravel(order='A'))"
   ]
  },
  {
   "cell_type": "markdown",
   "metadata": {
    "hidden": true
   },
   "source": [
    "`np.ravel(a, order='C')` - \"выпрямляет матрицу\" т.е. из n-D, делает ее 1-D (строкой)   \n",
    "- **a** - матрица для \"выпрямления\"\n",
    "- **order** \n",
    "    - $C-[row1, row2, ..]$, \n",
    "    - $F-[column1, column2, ..]$\n",
    "    - $A-?$ вроде тоже $[row1, row2, ..]$    "
   ]
  },
  {
   "cell_type": "markdown",
   "metadata": {
    "hidden": true
   },
   "source": [
    "#### np.reshape() "
   ]
  },
  {
   "cell_type": "code",
   "execution_count": 34,
   "metadata": {
    "ExecuteTime": {
     "end_time": "2019-03-08T05:24:34.198653Z",
     "start_time": "2019-03-08T05:24:34.194659Z"
    },
    "hidden": true
   },
   "outputs": [
    {
     "name": "stdout",
     "output_type": "stream",
     "text": [
      "[[  0]\n",
      " [  1]\n",
      " [ 10]\n",
      " [  3]\n",
      " [400]\n",
      " [ 23]] \n",
      "\n",
      "[[  0   1]\n",
      " [ 10   3]\n",
      " [400  23]] \n",
      "\n",
      "[[  0   1  10]\n",
      " [  3 400  23]]\n"
     ]
    }
   ],
   "source": [
    "reshaped_array = new_array.reshape((6, 1))\n",
    "print(reshaped_array, '\\n')\n",
    "print(reshaped_array.reshape((3, 2)), '\\n')\n",
    "print(reshaped_array.reshape((2, 3)))"
   ]
  },
  {
   "cell_type": "markdown",
   "metadata": {
    "hidden": true
   },
   "source": [
    "` numpy.reshape(a, newshape, order='C')`  \n",
    "\n",
    "- $a$ - Array to be reshaped (или, если вызыватеся как метод, то это будет array на котором reshape вызван.   \n",
    "- $newshape$ - int or tuple of ints. $(rows, columns)$  The new shape should be compatible with the original shape. If an integer, then the result will be a 1-D array of that length. One shape dimension can be -1. In this case, the value is inferred from the length of the array and remaining dimensions.   \n",
    "\n",
    "Т.е. он идет по old row 1 и считает индекc, дошел до конца new row 2 (т.е. до послднего индекса) и обрезал. Если len(old row) < len(new row), то перейдет на old row 2 и продолжит считать индекс в строке."
   ]
  },
  {
   "cell_type": "markdown",
   "metadata": {
    "hidden": true
   },
   "source": [
    "**Changing dimetions for algorithms**  \n",
    "Иногда надо явно передать матрицу определнной размероности. Так 1D array не соответсвует строке т.к. это (n,). Чтобы сделать ее  строкой в представлении numpy (т.е. (1, n)), надо `np.reshape(a, (1, n))`. Так же это нужно для транспонирования матрицы (n, 1) "
   ]
  },
  {
   "cell_type": "code",
   "execution_count": 40,
   "metadata": {
    "ExecuteTime": {
     "end_time": "2019-08-29T16:29:16.386447Z",
     "start_time": "2019-08-29T16:29:16.380440Z"
    },
    "hidden": true
   },
   "outputs": [
    {
     "name": "stdout",
     "output_type": "stream",
     "text": [
      "(5,) [11 22 33 44 55]\n",
      "(5, 1) [[11]\n",
      " [22]\n",
      " [33]\n",
      " [44]\n",
      " [55]]\n",
      "(1, 5) [[11 22 33 44 55]]\n"
     ]
    }
   ],
   "source": [
    "# Просто 1D array\n",
    "data = np.array([11, 22, 33, 44, 55])\n",
    "print(data.shape, data)\n",
    "# Transpose (Из него сделали стобец)\n",
    "data = data.reshape((data.shape[0], 1))\n",
    "print(data.shape, data)\n",
    "# А теперь это матрица 1х5 (т.е. технически это 2D array)\n",
    "data = data.reshape((1, 5))\n",
    "print(data.shape, data)"
   ]
  },
  {
   "cell_type": "markdown",
   "metadata": {},
   "source": [
    "### meshgrid() и arange()"
   ]
  },
  {
   "cell_type": "code",
   "execution_count": 33,
   "metadata": {
    "ExecuteTime": {
     "end_time": "2019-08-29T16:22:45.804970Z",
     "start_time": "2019-08-29T16:22:44.960620Z"
    },
    "scrolled": true
   },
   "outputs": [
    {
     "data": {
      "text/plain": [
       "[<matplotlib.lines.Line2D at 0x24b64175be0>,\n",
       " <matplotlib.lines.Line2D at 0x24b64175d68>,\n",
       " <matplotlib.lines.Line2D at 0x24b64175e80>,\n",
       " <matplotlib.lines.Line2D at 0x24b64175fd0>,\n",
       " <matplotlib.lines.Line2D at 0x24b64187160>]"
      ]
     },
     "execution_count": 33,
     "metadata": {},
     "output_type": "execute_result"
    },
    {
     "data": {
      "image/png": "[encoded data removed]",
      "text/plain": [
       "<Figure size 432x288 with 1 Axes>"
      ]
     },
     "metadata": {
      "needs_background": "light"
     },
     "output_type": "display_data"
    }
   ],
   "source": [
    "xvalues = np.arange(0, 5)  \n",
    "yvalues = np.array([0, 1, 2, 3, 4])\n",
    "\n",
    "xx, yy = np.meshgrid(xvalues, yvalues)\n",
    "\n",
    "plt.plot(xx, yy, marker='.', color='k', linestyle='none')"
   ]
  },
  {
   "cell_type": "markdown",
   "metadata": {},
   "source": [
    "**arange**  \n",
    "`numpy.arange([start,] stop, [step,] dtype=None)` - Return evenly spaced values within a given interval. Values are generated within the half-open interval [start, stop). Эквивалентно: `np.arange(0, 5) = np.array([0, 1, 2, 3, 4])`  \n",
    "\n",
    "**meshgrid**  \n",
    "`xx, yy = np.meshgrid(x, y)` The purpose of meshgrid is to create a rectangular grid out of an array of x values and an array of y values. [Тут очень хорошо про meshgrid](https://stackoverflow.com/questions/36013063/what-is-the-purpose-of-meshgrid-in-python-numpy)   \n",
    "![meshgird_суть](https://i.stack.imgur.com/8Mbig.png)  \n",
    "Так же meshgrid используют, чтобы равномерно задать распределение значений x и y на плоскости, например, чтобы задать значение функции на 2D  "
   ]
  },
  {
   "cell_type": "markdown",
   "metadata": {},
   "source": [
    "## Distributions"
   ]
  },
  {
   "cell_type": "markdown",
   "metadata": {},
   "source": [
    "#### np.linspace"
   ]
  },
  {
   "cell_type": "markdown",
   "metadata": {},
   "source": [
    "Возвращает равномерно распределенный array"
   ]
  },
  {
   "cell_type": "code",
   "execution_count": 4,
   "metadata": {
    "ExecuteTime": {
     "end_time": "2019-09-18T14:22:11.099506Z",
     "start_time": "2019-09-18T14:22:11.092817Z"
    }
   },
   "outputs": [],
   "source": [
    "x = np.linspace(0, 2*np.pi, 400)"
   ]
  },
  {
   "cell_type": "markdown",
   "metadata": {},
   "source": [
    "**unifirm distibution**  \n",
    "`numpy.random.rand(rows, columns)` - Create an array of the given shape and populate it with random samples from a uniform distribution over [0, 1).\n",
    "Shape: 1D, 2D (row, column), ..., nD"
   ]
  },
  {
   "cell_type": "code",
   "execution_count": 12,
   "metadata": {
    "ExecuteTime": {
     "end_time": "2019-03-09T03:42:02.592090Z",
     "start_time": "2019-03-09T03:42:02.587093Z"
    },
    "scrolled": false
   },
   "outputs": [
    {
     "name": "stdout",
     "output_type": "stream",
     "text": [
      "[[0.19738781 0.29337729]\n",
      " [0.46973807 0.65326816]\n",
      " [0.46123791 0.74089944]]\n"
     ]
    }
   ],
   "source": [
    "uniform_array = np.random.rand(3,2)                \n",
    "print(uniform_array)"
   ]
  },
  {
   "cell_type": "markdown",
   "metadata": {},
   "source": [
    "___"
   ]
  },
  {
   "cell_type": "code",
   "execution_count": 10,
   "metadata": {
    "ExecuteTime": {
     "end_time": "2019-03-08T02:24:04.847558Z",
     "start_time": "2019-03-08T02:24:04.844581Z"
    }
   },
   "outputs": [],
   "source": [
    "np.seed = 7  #ставим зерно для рандомизации\n",
    "norm_array = np.random.normal(size=(100, 2))"
   ]
  },
  {
   "cell_type": "markdown",
   "metadata": {},
   "source": [
    "**normal distribution**  \n",
    "`np.random.normal(loc, standard deviation ,size)` - default loc = 0 - это где лежит среднее значение распределения"
   ]
  },
  {
   "cell_type": "code",
   "execution_count": 14,
   "metadata": {
    "ExecuteTime": {
     "end_time": "2019-03-08T02:25:41.054145Z",
     "start_time": "2019-03-08T02:25:40.942228Z"
    },
    "scrolled": true
   },
   "outputs": [
    {
     "data": {
      "text/plain": [
       "<matplotlib.collections.PathCollection at 0x26356991ac8>"
      ]
     },
     "execution_count": 14,
     "metadata": {},
     "output_type": "execute_result"
    },
    {
     "data": {
      "image/png": "[encoded data removed]",
      "text/plain": [
       "<Figure size 432x288 with 1 Axes>"
      ]
     },
     "metadata": {
      "needs_background": "light"
     },
     "output_type": "display_data"
    }
   ],
   "source": [
    "plt.scatter(norm_array[:, 0], norm_array[:, 1])"
   ]
  },
  {
   "cell_type": "markdown",
   "metadata": {},
   "source": [
    "## Linear algebra"
   ]
  },
  {
   "cell_type": "markdown",
   "metadata": {},
   "source": [
    "Реализуется через  методы `np.linalg.` "
   ]
  },
  {
   "cell_type": "markdown",
   "metadata": {},
   "source": [
    "### Basic linear algebra"
   ]
  },
  {
   "cell_type": "markdown",
   "metadata": {
    "heading_collapsed": true
   },
   "source": [
    "#### Векторы"
   ]
  },
  {
   "cell_type": "markdown",
   "metadata": {
    "hidden": true
   },
   "source": [
    "**Сложение, вычитание, скалярное произведение и умножение на скаляр**"
   ]
  },
  {
   "cell_type": "code",
   "execution_count": 64,
   "metadata": {
    "ExecuteTime": {
     "end_time": "2019-08-29T19:41:12.915310Z",
     "start_time": "2019-08-29T19:41:12.909314Z"
    },
    "hidden": true
   },
   "outputs": [
    {
     "name": "stdout",
     "output_type": "stream",
     "text": [
      "+:\n",
      " [5 7 9]\n",
      "-:\n",
      " [-3 -3 -3]\n",
      "Умножение на скаляр:\n",
      " [2 4 6]\n"
     ]
    }
   ],
   "source": [
    "a = np.array([1, 2, 3])\n",
    "b = np.array([4, 5, 6])\n",
    "c = 2\n",
    "print(\"+:\\n\", a+b)\n",
    "print(\"-:\\n\", a-b)\n",
    "print(\"Умножение на скаляр:\\n\", a*c)"
   ]
  },
  {
   "cell_type": "markdown",
   "metadata": {
    "hidden": true
   },
   "source": [
    "**По-координатное умножение и деление**\n",
    "- Умножение $[x_1*x_2, y_1*y_2, z_1*z_2]$ \n",
    "- Деление $[x_1/x_2, y_1/y_2, z_1/z_2]$ "
   ]
  },
  {
   "cell_type": "code",
   "execution_count": 62,
   "metadata": {
    "ExecuteTime": {
     "end_time": "2019-08-29T19:36:27.262096Z",
     "start_time": "2019-08-29T19:36:27.258097Z"
    },
    "hidden": true
   },
   "outputs": [
    {
     "name": "stdout",
     "output_type": "stream",
     "text": [
      "Покоординатное произведение:\n",
      " [ 4 10 18]\n",
      "Покоординатное деление:\n",
      " [0.25 0.4  0.5 ]\n"
     ]
    }
   ],
   "source": [
    "print(\"Покоординатное произведение:\\n\", a*b)\n",
    "print(\"Покоординатное деление:\\n\", a/b)"
   ]
  },
  {
   "cell_type": "markdown",
   "metadata": {
    "hidden": true
   },
   "source": [
    "**Скалярное произведение (dot product)**"
   ]
  },
  {
   "cell_type": "code",
   "execution_count": 67,
   "metadata": {
    "ExecuteTime": {
     "end_time": "2019-08-29T19:41:31.759128Z",
     "start_time": "2019-08-29T19:41:31.756116Z"
    },
    "hidden": true
   },
   "outputs": [
    {
     "name": "stdout",
     "output_type": "stream",
     "text": [
      "32\n"
     ]
    }
   ],
   "source": [
    "n = a.dot(b)\n",
    "print(n)"
   ]
  },
  {
   "cell_type": "markdown",
   "metadata": {
    "hidden": true
   },
   "source": [
    "**Вектороное произведение (Сross product : (a x b))**"
   ]
  },
  {
   "cell_type": "code",
   "execution_count": 68,
   "metadata": {
    "ExecuteTime": {
     "end_time": "2019-08-29T19:41:37.508317Z",
     "start_time": "2019-08-29T19:41:37.504319Z"
    },
    "hidden": true
   },
   "outputs": [
    {
     "name": "stdout",
     "output_type": "stream",
     "text": [
      "[-3  6 -3]\n"
     ]
    }
   ],
   "source": [
    "n = np.cross(a, b)\n",
    "print(n)"
   ]
  },
  {
   "cell_type": "code",
   "execution_count": 70,
   "metadata": {
    "ExecuteTime": {
     "end_time": "2019-08-29T19:53:16.428321Z",
     "start_time": "2019-08-29T19:53:16.423322Z"
    },
    "hidden": true
   },
   "outputs": [
    {
     "name": "stdout",
     "output_type": "stream",
     "text": [
      "[[ -6  12  -6]\n",
      " [  0   0   0]\n",
      " [  6 -12   6]]\n"
     ]
    }
   ],
   "source": [
    "# Каждый ряд рассматривается как вектор и для них по-парно ищется cross product\n",
    "x = np.array([[1,2,3], [4,5,6], [7, 8, 9]])\n",
    "y = np.array([[7, 8, 9], [4,5,6], [1,2,3]])\n",
    "print(np.cross(x, y))"
   ]
  },
  {
   "cell_type": "markdown",
   "metadata": {
    "hidden": true
   },
   "source": [
    "**Нормы**  \n",
    "- `numpy.linalg.norm(vector, norm_type)`, $L^2$ is by default \n",
    "- Пусть есть вектор $V = {a_1, a_2, a_3}$. Длинна вккторас оцениваются с помощью нормы. Среди популярных норм:\n",
    "    - $L^{1} = ||V||_1 = |a_1| + |a_2| + |a_3|$                (taxicab norm)\n",
    "    - $L^{2} = ||V||_2 = \\sqrt{|a_1|^2 + |a_2|^2 + |a_3|^2}$   (Euclidean norm) \n",
    "    - $L^{inf} = ||V||_{inf} = max(|a_1| + |a_2| + |a_3|)$       (maximum norm, равна максимальной координате)"
   ]
  },
  {
   "cell_type": "code",
   "execution_count": 78,
   "metadata": {
    "ExecuteTime": {
     "end_time": "2019-08-29T20:46:47.453204Z",
     "start_time": "2019-08-29T20:46:47.448207Z"
    },
    "hidden": true
   },
   "outputs": [
    {
     "name": "stdout",
     "output_type": "stream",
     "text": [
      "6.0\n",
      "3.7416573867739413\n"
     ]
    }
   ],
   "source": [
    "v = np.array([1,2,3])\n",
    "print(np.linalg.norm(v, 1))  # L1\n",
    "print(np.linalg.norm(v))     # L2, указывать не надо т.к. default"
   ]
  },
  {
   "cell_type": "code",
   "execution_count": 77,
   "metadata": {
    "ExecuteTime": {
     "end_time": "2019-08-29T20:46:15.073864Z",
     "start_time": "2019-08-29T20:46:15.068884Z"
    },
    "hidden": true
   },
   "outputs": [
    {
     "name": "stdout",
     "output_type": "stream",
     "text": [
      "3.0\n"
     ]
    }
   ],
   "source": [
    "from math import inf # need to import infinity object\n",
    "\n",
    "v = np.array([1,2,3])\n",
    "print(np.linalg.norm(v, inf))"
   ]
  },
  {
   "cell_type": "markdown",
   "metadata": {},
   "source": [
    "#### Матрицы"
   ]
  },
  {
   "cell_type": "markdown",
   "metadata": {},
   "source": [
    "**Сложение, вычитание и умножение на скаляр**"
   ]
  },
  {
   "cell_type": "code",
   "execution_count": 81,
   "metadata": {
    "ExecuteTime": {
     "end_time": "2019-08-29T20:51:40.031752Z",
     "start_time": "2019-08-29T20:51:40.025765Z"
    }
   },
   "outputs": [
    {
     "name": "stdout",
     "output_type": "stream",
     "text": [
      "+:\n",
      " [[ 2  4  6]\n",
      " [ 8 10 12]]\n",
      "-:\n",
      " [[0 0 0]\n",
      " [0 0 0]]\n",
      "Скаляр:\n",
      " [[ 2  4  6]\n",
      " [ 8 10 12]]\n"
     ]
    }
   ],
   "source": [
    "A = np.array([[1, 2, 3],\n",
    "              [4, 5, 6]])\n",
    "B = np.array([[1, 2, 3],\n",
    "              [4, 5, 6]])\n",
    "с = 2\n",
    "print(\"+:\\n\", A+B)\n",
    "print(\"-:\\n\", A-B)\n",
    "print(\"Скаляр:\\n\", A*с)"
   ]
  },
  {
   "cell_type": "markdown",
   "metadata": {},
   "source": [
    "**По-элементное умножение (Hadamard Product) и деление**"
   ]
  },
  {
   "cell_type": "code",
   "execution_count": 83,
   "metadata": {
    "ExecuteTime": {
     "end_time": "2019-08-29T20:52:42.765882Z",
     "start_time": "2019-08-29T20:52:42.760884Z"
    }
   },
   "outputs": [
    {
     "name": "stdout",
     "output_type": "stream",
     "text": [
      "Умножение(Hadamard Product):\n",
      " [[ 1  4  9]\n",
      " [16 25 36]]\n",
      "Деление:\n",
      " [[1. 1. 1.]\n",
      " [1. 1. 1.]]\n"
     ]
    }
   ],
   "source": [
    "print(\"Умножение(Hadamard Product):\\n\", A*B)\n",
    "print(\"Деление:\\n\", A/B)"
   ]
  },
  {
   "cell_type": "markdown",
   "metadata": {},
   "source": [
    "**Перемножение матриц и векторов**\n",
    "- Через `np.dot()`\n",
    "- Через `@` (в python 3.5 с страше)"
   ]
  },
  {
   "cell_type": "code",
   "execution_count": 3,
   "metadata": {
    "ExecuteTime": {
     "end_time": "2019-08-30T16:43:34.443108Z",
     "start_time": "2019-08-30T16:43:34.435114Z"
    }
   },
   "outputs": [
    {
     "name": "stdout",
     "output_type": "stream",
     "text": [
      "[[ 7 10]\n",
      " [15 22]\n",
      " [23 34]]\n",
      "[[ 7 10]\n",
      " [15 22]\n",
      " [23 34]] \n",
      "\n",
      "[[ 5]\n",
      " [11]\n",
      " [17]]\n",
      "[[ 5]\n",
      " [11]\n",
      " [17]]\n"
     ]
    }
   ],
   "source": [
    "A = np.array([[1, 2],\n",
    "           [3, 4],\n",
    "           [5, 6]])\n",
    "B = np.array([[1, 2],\n",
    "           [3, 4]])\n",
    "C = np.array([[1],\n",
    "              [2]])\n",
    "# матрица * матрица \n",
    "print(A.dot(B))\n",
    "print(A@B, \"\\n\")\n",
    "# матрица вектор\n",
    "print(A.dot(C))\n",
    "print(A@C)"
   ]
  },
  {
   "cell_type": "markdown",
   "metadata": {},
   "source": [
    "**Диагональная матрица**  \n",
    "`np.diag(a)` - если 1)a - 1D, то создаст диагональную матрицу на ее основе. 2) Если a - матрица, то извлечет из нее диагональ в виделе 1D вектора"
   ]
  },
  {
   "cell_type": "code",
   "execution_count": 101,
   "metadata": {
    "ExecuteTime": {
     "end_time": "2019-08-29T21:14:34.221093Z",
     "start_time": "2019-08-29T21:14:34.214109Z"
    }
   },
   "outputs": [
    {
     "name": "stdout",
     "output_type": "stream",
     "text": [
      "[ 1  4 11]\n",
      "[[ 1  0  0]\n",
      " [ 0  4  0]\n",
      " [ 0  0 11]]\n"
     ]
    }
   ],
   "source": [
    "d = np.diag(A)\n",
    "print(d)\n",
    "D = np.diag(d)\n",
    "print(D)"
   ]
  },
  {
   "cell_type": "markdown",
   "metadata": {},
   "source": [
    "**Единичная матрица (identity)**   "
   ]
  },
  {
   "cell_type": "code",
   "execution_count": 102,
   "metadata": {
    "ExecuteTime": {
     "end_time": "2019-08-29T21:17:54.675527Z",
     "start_time": "2019-08-29T21:17:54.670531Z"
    }
   },
   "outputs": [
    {
     "name": "stdout",
     "output_type": "stream",
     "text": [
      "[[1. 0. 0.]\n",
      " [0. 1. 0.]\n",
      " [0. 0. 1.]]\n"
     ]
    }
   ],
   "source": [
    "I = np.identity(3)\n",
    "print(I)"
   ]
  },
  {
   "cell_type": "markdown",
   "metadata": {},
   "source": [
    "**Транспонирование(transpose) и Обратная(inverse)**  \n",
    "- `np.T`- transpose\n",
    "- `np.linalg.inv(A)` - inverse"
   ]
  },
  {
   "cell_type": "code",
   "execution_count": 2,
   "metadata": {
    "ExecuteTime": {
     "end_time": "2019-08-30T16:43:28.098132Z",
     "start_time": "2019-08-30T16:43:27.770790Z"
    }
   },
   "outputs": [
    {
     "name": "stdout",
     "output_type": "stream",
     "text": [
      "Transpose: \n",
      " [[1 3]\n",
      " [2 4]] \n",
      "\n",
      "Inverse: \n",
      " [[-2.   1. ]\n",
      " [ 1.5 -0.5]]\n"
     ]
    }
   ],
   "source": [
    "A = np.array([[1,2],\n",
    "              [3,4]])\n",
    "print(\"Transpose: \\n\", A.T, \"\\n\")\n",
    "print(\"Inverse: \\n\", np.linalg.inv(A))"
   ]
  },
  {
   "cell_type": "markdown",
   "metadata": {},
   "source": [
    "Хотя $A*A^{-1} = I$, из-за плавающей точки, значения не будут строго равны 0 и 1"
   ]
  },
  {
   "cell_type": "code",
   "execution_count": 112,
   "metadata": {
    "ExecuteTime": {
     "end_time": "2019-08-29T21:38:12.805076Z",
     "start_time": "2019-08-29T21:38:12.802077Z"
    }
   },
   "outputs": [
    {
     "name": "stdout",
     "output_type": "stream",
     "text": [
      "[[1.00000000e+00 1.11022302e-16]\n",
      " [0.00000000e+00 1.00000000e+00]]\n"
     ]
    }
   ],
   "source": [
    "print(A.dot(np.linalg.inv(A)))"
   ]
  },
  {
   "cell_type": "markdown",
   "metadata": {},
   "source": [
    "**Пример ортогональной матрицы (Q)**  \n",
    "Для ортогональной матрицы верно: $Q*Q^T = I = Q*Q^{-1}$"
   ]
  },
  {
   "cell_type": "code",
   "execution_count": 111,
   "metadata": {
    "ExecuteTime": {
     "end_time": "2019-08-29T21:36:09.951323Z",
     "start_time": "2019-08-29T21:36:09.919363Z"
    }
   },
   "outputs": [
    {
     "name": "stdout",
     "output_type": "stream",
     "text": [
      "[[1 0 0 0]\n",
      " [0 1 0 0]\n",
      " [0 0 1 0]\n",
      " [0 0 0 1]] \n",
      "\n",
      "[[1. 0. 0. 0.]\n",
      " [0. 1. 0. 0.]\n",
      " [0. 0. 1. 0.]\n",
      " [0. 0. 0. 1.]]\n"
     ]
    }
   ],
   "source": [
    "Q = np.array([[0,0,0,1],\n",
    "             [0,0,1,0], \n",
    "             [1,0,0,0],\n",
    "             [0,1,0,0]])\n",
    "print(Q.dot(Q.T), \"\\n\")\n",
    "print(Q.dot(np.linalg.inv(Q)))"
   ]
  },
  {
   "cell_type": "markdown",
   "metadata": {},
   "source": [
    "**Trace (tr(A)), determinant (det(A)) and rank(A)**"
   ]
  },
  {
   "cell_type": "code",
   "execution_count": 5,
   "metadata": {
    "ExecuteTime": {
     "end_time": "2019-08-30T16:46:02.410881Z",
     "start_time": "2019-08-30T16:46:01.764193Z"
    }
   },
   "outputs": [
    {
     "name": "stdout",
     "output_type": "stream",
     "text": [
      "15\n",
      "-9.51619735392994e-16\n",
      "2\n"
     ]
    }
   ],
   "source": [
    "A = np.array([[1, 2, 3],\n",
    "              [4, 5, 6],\n",
    "              [7,8,9]])\n",
    "print(np.trace(A))\n",
    "print(np.linalg.det(A))\n",
    "print(np.linalg.matrix_rank(A))"
   ]
  },
  {
   "cell_type": "markdown",
   "metadata": {
    "heading_collapsed": true
   },
   "source": [
    "#### Sparse matrixes"
   ]
  },
  {
   "cell_type": "markdown",
   "metadata": {
    "hidden": true
   },
   "source": [
    "**Sparce matrixes** - матрицы, в которых много нулей. Параметр оценки: $sparsity = \\frac{num zeros elements}{total num elements}$  \n",
    "**Dense matrixes** - матрицы с малым кол-во нулей.  \n",
    "Важно их разделять т.к. операции над матрицами обычно $O(n^3)$ от кол-ва элементов. Поэтому очень больщие sparese matrixes удобно сжать в более компактый формат.  \n",
    "___\n",
    "\n",
    "**Compressed Sparse Row Format (CSR)** - sparece matrix форматируется в три 1D матрицы (а точнее вектора):  \n",
    "1. A: array A contains all the nonzero elements (size = num of nonzero elements, путь будет m) \n",
    "2. IA: array IA is of length m + 1. It is defined by this recursive definition:\n",
    "    1. IA[0] = 0\n",
    "    2. IA[i] = IA[i-1] + (кол-во ненулевых элементов в (i-1)ом ряду)\n",
    "    3. IA[m+1] = total number of nonzero elements\n",
    "3. JA: array JA contains the column index of each element of A  \n",
    "потом эти три массива последовательно \"разматываюстя\" в несжатую матрицу. Пример на [wiki](https://en.wikipedia.org/wiki/Sparse_matrix#Compressed_sparse_row_(CSR,_CRS_or_Yale_format))"
   ]
  },
  {
   "cell_type": "code",
   "execution_count": 10,
   "metadata": {
    "ExecuteTime": {
     "end_time": "2019-08-30T19:56:03.936889Z",
     "start_time": "2019-08-30T19:56:03.931898Z"
    },
    "hidden": true
   },
   "outputs": [
    {
     "name": "stdout",
     "output_type": "stream",
     "text": [
      "  (0, 0)\t1\n",
      "  (0, 3)\t1\n",
      "  (1, 2)\t2\n",
      "  (1, 4)\t7\n",
      "  (1, 5)\t1\n",
      "  (2, 3)\t2\n",
      "  (2, 5)\t10 \n",
      "\n",
      "[[ 1  0  0  1  0  0]\n",
      " [ 0  0  2  0  7  1]\n",
      " [ 0  0  0  2  0 10]]\n"
     ]
    }
   ],
   "source": [
    "# need scipy to work w/ CSR\n",
    "from scipy.sparse import csr_matrix\n",
    "\n",
    "A = np.array([\n",
    "[1, 0, 0, 1, 0, 0],\n",
    "[0, 0, 2, 0, 7, 1],\n",
    "[0, 0, 0, 2, 0, 10]])\n",
    "# convert to sparse matrix (CSR method)\n",
    "S = csr_matrix(A)\n",
    "print(S, \"\\n\")\n",
    "# reconstruct back to dense matrix\n",
    "B = S.todense()\n",
    "print(B)"
   ]
  },
  {
   "cell_type": "markdown",
   "metadata": {
    "hidden": true
   },
   "source": [
    "Тут это реализованно через словари: {nonzero element: (row, col)}"
   ]
  },
  {
   "cell_type": "markdown",
   "metadata": {
    "heading_collapsed": true
   },
   "source": [
    "#### Тензоры"
   ]
  },
  {
   "cell_type": "markdown",
   "metadata": {
    "hidden": true
   },
   "source": [
    "**Тензор** - (упрощенное) многомерная матрица. Вектор - тензор 1го порядка, матрица (2D) - 2го. Матиматика похожа: "
   ]
  },
  {
   "cell_type": "code",
   "execution_count": 14,
   "metadata": {
    "ExecuteTime": {
     "end_time": "2019-08-30T20:23:08.885249Z",
     "start_time": "2019-08-30T20:23:08.876265Z"
    },
    "hidden": true
   },
   "outputs": [
    {
     "name": "stdout",
     "output_type": "stream",
     "text": [
      "+:\n",
      " [[[ 2  4  6]\n",
      "  [ 8 10 12]\n",
      "  [14 16 18]]\n",
      "\n",
      " [[22 24 26]\n",
      "  [28 30 32]\n",
      "  [34 36 38]]\n",
      "\n",
      " [[42 44 46]\n",
      "  [48 50 52]\n",
      "  [54 56 58]]]\n",
      "-:\n",
      " [[[0 0 0]\n",
      "  [0 0 0]\n",
      "  [0 0 0]]\n",
      "\n",
      " [[0 0 0]\n",
      "  [0 0 0]\n",
      "  [0 0 0]]\n",
      "\n",
      " [[0 0 0]\n",
      "  [0 0 0]\n",
      "  [0 0 0]]]\n",
      "Умножение на скаляр:\n",
      " [[[ 2  4  6]\n",
      "  [ 8 10 12]\n",
      "  [14 16 18]]\n",
      "\n",
      " [[22 24 26]\n",
      "  [28 30 32]\n",
      "  [34 36 38]]\n",
      "\n",
      " [[42 44 46]\n",
      "  [48 50 52]\n",
      "  [54 56 58]]]\n",
      "Поэлементое умножение(Hadamard Product):\n",
      " [[[  1   4   9]\n",
      "  [ 16  25  36]\n",
      "  [ 49  64  81]]\n",
      "\n",
      " [[121 144 169]\n",
      "  [196 225 256]\n",
      "  [289 324 361]]\n",
      "\n",
      " [[441 484 529]\n",
      "  [576 625 676]\n",
      "  [729 784 841]]]\n",
      "Поэлементое деление:\n",
      " [[[1. 1. 1.]\n",
      "  [1. 1. 1.]\n",
      "  [1. 1. 1.]]\n",
      "\n",
      " [[1. 1. 1.]\n",
      "  [1. 1. 1.]\n",
      "  [1. 1. 1.]]\n",
      "\n",
      " [[1. 1. 1.]\n",
      "  [1. 1. 1.]\n",
      "  [1. 1. 1.]]]\n"
     ]
    }
   ],
   "source": [
    "A = np.array([\n",
    "[[1,2,3], [4,5,6], [7,8,9]],\n",
    "[[11,12,13], [14,15,16], [17,18,19]],\n",
    "[[21,22,23], [24,25,26], [27,28,29]]])\n",
    "B = np.array([\n",
    "[[1,2,3], [4,5,6], [7,8,9]],\n",
    "[[11,12,13], [14,15,16], [17,18,19]],\n",
    "[[21,22,23], [24,25,26], [27,28,29]]])\n",
    "c = 2\n",
    "print(\"+:\\n\", A+B)\n",
    "print(\"-:\\n\", A-B)\n",
    "print(\"Умножение на скаляр:\\n\", A*c)\n",
    "print(\"Поэлементое умножение(Hadamard Product):\\n\", A*B)\n",
    "print(\"Поэлементое деление:\\n\", A/B)"
   ]
  },
  {
   "cell_type": "markdown",
   "metadata": {
    "hidden": true
   },
   "source": [
    "**Tensorproduct**  \n",
    "Обозначается и считается следующим образом:\n",
    "![Tensorproduct](https://wikimedia.org/api/rest_v1/media/math/render/svg/5897f64a9e62966f62077cdafad5be0fca0c8c1c)\n",
    "- Аналогичным образом может быть выполнен для векторов и матриц\n",
    "- Получейнный тезвор будет размера dim(A)+dim(B)"
   ]
  },
  {
   "cell_type": "code",
   "execution_count": 17,
   "metadata": {
    "ExecuteTime": {
     "end_time": "2019-08-30T20:37:56.370200Z",
     "start_time": "2019-08-30T20:37:56.363204Z"
    },
    "hidden": true
   },
   "outputs": [
    {
     "name": "stdout",
     "output_type": "stream",
     "text": [
      "(3, 3, 3, 3, 3, 3) \n",
      " [[[[[[  1   2   3]\n",
      "     [  4   5   6]\n",
      "     [  7   8   9]]\n",
      "\n",
      "    [[ 11  12  13]\n",
      "     [ 14  15  16]\n",
      "     [ 17  18  19]]\n",
      "\n",
      "    [[ 21  22  23]\n",
      "     [ 24  25  26]\n",
      "     [ 27  28  29]]]\n",
      "\n",
      "\n",
      "   [[[  2   4   6]\n",
      "     [  8  10  12]\n",
      "     [ 14  16  18]]\n",
      "\n",
      "    [[ 22  24  26]\n",
      "     [ 28  30  32]\n",
      "     [ 34  36  38]]\n",
      "\n",
      "    [[ 42  44  46]\n",
      "     [ 48  50  52]\n",
      "     [ 54  56  58]]]\n",
      "\n",
      "\n",
      "   [[[  3   6   9]\n",
      "     [ 12  15  18]\n",
      "     [ 21  24  27]]\n",
      "\n",
      "    [[ 33  36  39]\n",
      "     [ 42  45  48]\n",
      "     [ 51  54  57]]\n",
      "\n",
      "    [[ 63  66  69]\n",
      "     [ 72  75  78]\n",
      "     [ 81  84  87]]]]\n",
      "\n",
      "\n",
      "\n",
      "  [[[[  4   8  12]\n",
      "     [ 16  20  24]\n",
      "     [ 28  32  36]]\n",
      "\n",
      "    [[ 44  48  52]\n",
      "     [ 56  60  64]\n",
      "     [ 68  72  76]]\n",
      "\n",
      "    [[ 84  88  92]\n",
      "     [ 96 100 104]\n",
      "     [108 112 116]]]\n",
      "\n",
      "\n",
      "   [[[  5  10  15]\n",
      "     [ 20  25  30]\n",
      "     [ 35  40  45]]\n",
      "\n",
      "    [[ 55  60  65]\n",
      "     [ 70  75  80]\n",
      "     [ 85  90  95]]\n",
      "\n",
      "    [[105 110 115]\n",
      "     [120 125 130]\n",
      "     [135 140 145]]]\n",
      "\n",
      "\n",
      "   [[[  6  12  18]\n",
      "     [ 24  30  36]\n",
      "     [ 42  48  54]]\n",
      "\n",
      "    [[ 66  72  78]\n",
      "     [ 84  90  96]\n",
      "     [102 108 114]]\n",
      "\n",
      "    [[126 132 138]\n",
      "     [144 150 156]\n",
      "     [162 168 174]]]]\n",
      "\n",
      "\n",
      "\n",
      "  [[[[  7  14  21]\n",
      "     [ 28  35  42]\n",
      "     [ 49  56  63]]\n",
      "\n",
      "    [[ 77  84  91]\n",
      "     [ 98 105 112]\n",
      "     [119 126 133]]\n",
      "\n",
      "    [[147 154 161]\n",
      "     [168 175 182]\n",
      "     [189 196 203]]]\n",
      "\n",
      "\n",
      "   [[[  8  16  24]\n",
      "     [ 32  40  48]\n",
      "     [ 56  64  72]]\n",
      "\n",
      "    [[ 88  96 104]\n",
      "     [112 120 128]\n",
      "     [136 144 152]]\n",
      "\n",
      "    [[168 176 184]\n",
      "     [192 200 208]\n",
      "     [216 224 232]]]\n",
      "\n",
      "\n",
      "   [[[  9  18  27]\n",
      "     [ 36  45  54]\n",
      "     [ 63  72  81]]\n",
      "\n",
      "    [[ 99 108 117]\n",
      "     [126 135 144]\n",
      "     [153 162 171]]\n",
      "\n",
      "    [[189 198 207]\n",
      "     [216 225 234]\n",
      "     [243 252 261]]]]]\n",
      "\n",
      "\n",
      "\n",
      "\n",
      " [[[[[ 11  22  33]\n",
      "     [ 44  55  66]\n",
      "     [ 77  88  99]]\n",
      "\n",
      "    [[121 132 143]\n",
      "     [154 165 176]\n",
      "     [187 198 209]]\n",
      "\n",
      "    [[231 242 253]\n",
      "     [264 275 286]\n",
      "     [297 308 319]]]\n",
      "\n",
      "\n",
      "   [[[ 12  24  36]\n",
      "     [ 48  60  72]\n",
      "     [ 84  96 108]]\n",
      "\n",
      "    [[132 144 156]\n",
      "     [168 180 192]\n",
      "     [204 216 228]]\n",
      "\n",
      "    [[252 264 276]\n",
      "     [288 300 312]\n",
      "     [324 336 348]]]\n",
      "\n",
      "\n",
      "   [[[ 13  26  39]\n",
      "     [ 52  65  78]\n",
      "     [ 91 104 117]]\n",
      "\n",
      "    [[143 156 169]\n",
      "     [182 195 208]\n",
      "     [221 234 247]]\n",
      "\n",
      "    [[273 286 299]\n",
      "     [312 325 338]\n",
      "     [351 364 377]]]]\n",
      "\n",
      "\n",
      "\n",
      "  [[[[ 14  28  42]\n",
      "     [ 56  70  84]\n",
      "     [ 98 112 126]]\n",
      "\n",
      "    [[154 168 182]\n",
      "     [196 210 224]\n",
      "     [238 252 266]]\n",
      "\n",
      "    [[294 308 322]\n",
      "     [336 350 364]\n",
      "     [378 392 406]]]\n",
      "\n",
      "\n",
      "   [[[ 15  30  45]\n",
      "     [ 60  75  90]\n",
      "     [105 120 135]]\n",
      "\n",
      "    [[165 180 195]\n",
      "     [210 225 240]\n",
      "     [255 270 285]]\n",
      "\n",
      "    [[315 330 345]\n",
      "     [360 375 390]\n",
      "     [405 420 435]]]\n",
      "\n",
      "\n",
      "   [[[ 16  32  48]\n",
      "     [ 64  80  96]\n",
      "     [112 128 144]]\n",
      "\n",
      "    [[176 192 208]\n",
      "     [224 240 256]\n",
      "     [272 288 304]]\n",
      "\n",
      "    [[336 352 368]\n",
      "     [384 400 416]\n",
      "     [432 448 464]]]]\n",
      "\n",
      "\n",
      "\n",
      "  [[[[ 17  34  51]\n",
      "     [ 68  85 102]\n",
      "     [119 136 153]]\n",
      "\n",
      "    [[187 204 221]\n",
      "     [238 255 272]\n",
      "     [289 306 323]]\n",
      "\n",
      "    [[357 374 391]\n",
      "     [408 425 442]\n",
      "     [459 476 493]]]\n",
      "\n",
      "\n",
      "   [[[ 18  36  54]\n",
      "     [ 72  90 108]\n",
      "     [126 144 162]]\n",
      "\n",
      "    [[198 216 234]\n",
      "     [252 270 288]\n",
      "     [306 324 342]]\n",
      "\n",
      "    [[378 396 414]\n",
      "     [432 450 468]\n",
      "     [486 504 522]]]\n",
      "\n",
      "\n",
      "   [[[ 19  38  57]\n",
      "     [ 76  95 114]\n",
      "     [133 152 171]]\n",
      "\n",
      "    [[209 228 247]\n",
      "     [266 285 304]\n",
      "     [323 342 361]]\n",
      "\n",
      "    [[399 418 437]\n",
      "     [456 475 494]\n",
      "     [513 532 551]]]]]\n",
      "\n",
      "\n",
      "\n",
      "\n",
      " [[[[[ 21  42  63]\n",
      "     [ 84 105 126]\n",
      "     [147 168 189]]\n",
      "\n",
      "    [[231 252 273]\n",
      "     [294 315 336]\n",
      "     [357 378 399]]\n",
      "\n",
      "    [[441 462 483]\n",
      "     [504 525 546]\n",
      "     [567 588 609]]]\n",
      "\n",
      "\n",
      "   [[[ 22  44  66]\n",
      "     [ 88 110 132]\n",
      "     [154 176 198]]\n",
      "\n",
      "    [[242 264 286]\n",
      "     [308 330 352]\n",
      "     [374 396 418]]\n",
      "\n",
      "    [[462 484 506]\n",
      "     [528 550 572]\n",
      "     [594 616 638]]]\n",
      "\n",
      "\n",
      "   [[[ 23  46  69]\n",
      "     [ 92 115 138]\n",
      "     [161 184 207]]\n",
      "\n",
      "    [[253 276 299]\n",
      "     [322 345 368]\n",
      "     [391 414 437]]\n",
      "\n",
      "    [[483 506 529]\n",
      "     [552 575 598]\n",
      "     [621 644 667]]]]\n",
      "\n",
      "\n",
      "\n",
      "  [[[[ 24  48  72]\n",
      "     [ 96 120 144]\n",
      "     [168 192 216]]\n",
      "\n",
      "    [[264 288 312]\n",
      "     [336 360 384]\n",
      "     [408 432 456]]\n",
      "\n",
      "    [[504 528 552]\n",
      "     [576 600 624]\n",
      "     [648 672 696]]]\n",
      "\n",
      "\n",
      "   [[[ 25  50  75]\n",
      "     [100 125 150]\n",
      "     [175 200 225]]\n",
      "\n",
      "    [[275 300 325]\n",
      "     [350 375 400]\n",
      "     [425 450 475]]\n",
      "\n",
      "    [[525 550 575]\n",
      "     [600 625 650]\n",
      "     [675 700 725]]]\n",
      "\n",
      "\n",
      "   [[[ 26  52  78]\n",
      "     [104 130 156]\n",
      "     [182 208 234]]\n",
      "\n",
      "    [[286 312 338]\n",
      "     [364 390 416]\n",
      "     [442 468 494]]\n",
      "\n",
      "    [[546 572 598]\n",
      "     [624 650 676]\n",
      "     [702 728 754]]]]\n",
      "\n",
      "\n",
      "\n",
      "  [[[[ 27  54  81]\n",
      "     [108 135 162]\n",
      "     [189 216 243]]\n",
      "\n",
      "    [[297 324 351]\n",
      "     [378 405 432]\n",
      "     [459 486 513]]\n",
      "\n",
      "    [[567 594 621]\n",
      "     [648 675 702]\n",
      "     [729 756 783]]]\n",
      "\n",
      "\n",
      "   [[[ 28  56  84]\n",
      "     [112 140 168]\n",
      "     [196 224 252]]\n",
      "\n",
      "    [[308 336 364]\n",
      "     [392 420 448]\n",
      "     [476 504 532]]\n",
      "\n",
      "    [[588 616 644]\n",
      "     [672 700 728]\n",
      "     [756 784 812]]]\n",
      "\n",
      "\n",
      "   [[[ 29  58  87]\n",
      "     [116 145 174]\n",
      "     [203 232 261]]\n",
      "\n",
      "    [[319 348 377]\n",
      "     [406 435 464]\n",
      "     [493 522 551]]\n",
      "\n",
      "    [[609 638 667]\n",
      "     [696 725 754]\n",
      "     [783 812 841]]]]]]\n"
     ]
    }
   ],
   "source": [
    "C = np.tensordot(A, B, axes=0)\n",
    "print(C.shape, \"\\n\", C)"
   ]
  },
  {
   "cell_type": "markdown",
   "metadata": {},
   "source": [
    "#### Ax=b"
   ]
  },
  {
   "cell_type": "markdown",
   "metadata": {},
   "source": [
    "**Lower ($L$) and upper ($U$) triangular**"
   ]
  },
  {
   "cell_type": "code",
   "execution_count": 99,
   "metadata": {
    "ExecuteTime": {
     "end_time": "2019-08-29T21:11:41.165791Z",
     "start_time": "2019-08-29T21:11:41.153798Z"
    }
   },
   "outputs": [
    {
     "name": "stdout",
     "output_type": "stream",
     "text": [
      "L:\n",
      " [[ 1  0  0  0]\n",
      " [ 0  4  0  0]\n",
      " [ 2 -2 11  0]] \n",
      "\n",
      "U:\n",
      " [[ 1  5  7  9]\n",
      " [ 0  4  1  7]\n",
      " [ 0  0 11 -3]]\n"
     ]
    }
   ],
   "source": [
    "A = np.array([[1,5,7,9],\n",
    "              [0,4,1,7],\n",
    "              [2,-2,11,-3]])\n",
    "lower = np.tril(A)\n",
    "print(\"L:\\n\", lower,\"\\n\")\n",
    "\n",
    "upper = np.triu(A)\n",
    "print(\"U:\\n\",upper)"
   ]
  },
  {
   "cell_type": "markdown",
   "metadata": {},
   "source": [
    "**Решение Ax=b (СЛАУ)**"
   ]
  },
  {
   "cell_type": "code",
   "execution_count": 94,
   "metadata": {
    "ExecuteTime": {
     "end_time": "2019-08-29T21:05:48.721292Z",
     "start_time": "2019-08-29T21:05:48.714295Z"
    }
   },
   "outputs": [
    {
     "name": "stdout",
     "output_type": "stream",
     "text": [
      "[-3.00000000e+00  4.00000000e+00  5.92118946e-16]\n"
     ]
    }
   ],
   "source": [
    "A = np.array([[1, 3,  1],\n",
    "              [1, 1, -1],\n",
    "              [3, 11, 6]])\n",
    "b = np.array([9, 1, 35])\n",
    "print(np.linalg.solve(A, b))"
   ]
  },
  {
   "cell_type": "markdown",
   "metadata": {},
   "source": [
    "**Factorizations**\n",
    "1. PA = LU\n",
    "2. A = QR\n",
    "3. A = L*L.T (Cholesky)"
   ]
  },
  {
   "cell_type": "code",
   "execution_count": 8,
   "metadata": {
    "ExecuteTime": {
     "end_time": "2019-09-03T13:51:03.054708Z",
     "start_time": "2019-09-03T13:51:03.047730Z"
    }
   },
   "outputs": [
    {
     "name": "stdout",
     "output_type": "stream",
     "text": [
      "[[0. 1. 0.]\n",
      " [0. 0. 1.]\n",
      " [1. 0. 0.]] \n",
      "\n",
      "[[1.         0.         0.        ]\n",
      " [0.14285714 1.         0.        ]\n",
      " [0.57142857 0.5        1.        ]] \n",
      "\n",
      "[[ 7.00000000e+00  8.00000000e+00  9.00000000e+00]\n",
      " [ 0.00000000e+00  8.57142857e-01  1.71428571e+00]\n",
      " [ 0.00000000e+00  0.00000000e+00 -1.58603289e-16]]\n"
     ]
    }
   ],
   "source": [
    "#PA = LU\n",
    "from scipy.linalg import lu\n",
    "\n",
    "A = np.array([[1, 2, 3],\n",
    "           [4, 5, 6],\n",
    "           [7, 8, 9]])\n",
    "P, L, U = lu(A)\n",
    "print(P, \"\\n\")\n",
    "print(L, \"\\n\")\n",
    "print(U)"
   ]
  },
  {
   "cell_type": "code",
   "execution_count": 9,
   "metadata": {
    "ExecuteTime": {
     "end_time": "2019-09-03T13:52:28.719570Z",
     "start_time": "2019-09-03T13:52:28.534210Z"
    }
   },
   "outputs": [
    {
     "name": "stdout",
     "output_type": "stream",
     "text": [
      "[[-0.12309149  0.90453403  0.40824829]\n",
      " [-0.49236596  0.30151134 -0.81649658]\n",
      " [-0.86164044 -0.30151134  0.40824829]]\n",
      "[[-8.12403840e+00 -9.60113630e+00 -1.10782342e+01]\n",
      " [ 0.00000000e+00  9.04534034e-01  1.80906807e+00]\n",
      " [ 0.00000000e+00  0.00000000e+00 -1.11164740e-15]]\n"
     ]
    }
   ],
   "source": [
    "# A = QR\n",
    "from numpy.linalg import qr\n",
    "\n",
    "Q, R = qr(A, 'complete')\n",
    "print(Q)\n",
    "print(R)\n",
    "# reconstruct"
   ]
  },
  {
   "cell_type": "code",
   "execution_count": 13,
   "metadata": {
    "ExecuteTime": {
     "end_time": "2019-09-03T13:53:58.359492Z",
     "start_time": "2019-09-03T13:53:58.354495Z"
    }
   },
   "outputs": [
    {
     "name": "stdout",
     "output_type": "stream",
     "text": [
      "[[1.41421356 0.         0.        ]\n",
      " [0.70710678 1.22474487 0.        ]\n",
      " [0.70710678 0.40824829 1.15470054]]\n"
     ]
    }
   ],
   "source": [
    "# A = L*L.T (Cholesky)\n",
    "from numpy.linalg import cholesky\n",
    "\n",
    "A = np.array([[2, 1, 1],\n",
    "           [1, 2, 1],\n",
    "           [1, 1, 2]])\n",
    "L = cholesky(A)\n",
    "print(L)"
   ]
  },
  {
   "cell_type": "markdown",
   "metadata": {},
   "source": [
    "**(Almost) Never solve $A^{-1}b$**  \n",
    "instead solve $Ax = b$, as it's easier and faster algorithms. Most of large matrixes are sparse and can be optimised."
   ]
  },
  {
   "cell_type": "markdown",
   "metadata": {},
   "source": [
    "## Other things"
   ]
  },
  {
   "cell_type": "markdown",
   "metadata": {},
   "source": [
    "**Large matrixes**  \n",
    "Even $10^4x10^4$ matrix is small enough (11.5 s to slove Ax=b)"
   ]
  },
  {
   "cell_type": "code",
   "execution_count": 20,
   "metadata": {
    "ExecuteTime": {
     "end_time": "2019-09-03T14:01:43.553478Z",
     "start_time": "2019-09-03T14:01:32.055632Z"
    }
   },
   "outputs": [
    {
     "name": "stdout",
     "output_type": "stream",
     "text": [
      "[[ 0.60754476]\n",
      " [-0.14494203]\n",
      " [-0.11665349]\n",
      " ...\n",
      " [-0.30084624]\n",
      " [ 0.30696494]\n",
      " [ 0.76915892]]\n"
     ]
    }
   ],
   "source": [
    "np.seed = 7  #ставим зерно для рандомизации\n",
    "Ahuge = np.random.normal(size=(10000, 10000))\n",
    "bhuge = np.random.normal(size=(10000, 1))\n",
    "print(np.linalg.solve(Ahuge, bhuge))"
   ]
  }
 ],
 "metadata": {
  "kernelspec": {
   "display_name": "Python 3",
   "language": "python",
   "name": "python3"
  },
  "language_info": {
   "codemirror_mode": {
    "name": "ipython",
    "version": 3
   },
   "file_extension": ".py",
   "mimetype": "text/x-python",
   "name": "python",
   "nbconvert_exporter": "python",
   "pygments_lexer": "ipython3",
   "version": "3.7.3"
  }
 },
 "nbformat": 4,
 "nbformat_minor": 2
}
