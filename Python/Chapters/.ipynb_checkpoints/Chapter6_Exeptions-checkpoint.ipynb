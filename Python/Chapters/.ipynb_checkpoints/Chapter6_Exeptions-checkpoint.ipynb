{
 "cells": [
  {
   "cell_type": "markdown",
   "metadata": {},
   "source": [
    "# Exeptions\n",
    "- exceptions\n",
    "  - raise\n",
    "  - assert\n",
    "- `try`, `except`, `else`"
   ]
  },
  {
   "cell_type": "markdown",
   "metadata": {},
   "source": [
    "**Exeptions** - ошибки выдаваемые при работе программы. Наиболее частые исключения:  \n",
    "- *ArithmeticError* - Raised when numeric calculations fails\n",
    "- *FloatingPointError* - Raised when a floating point calculation fails\n",
    "- *ZeroDivisionError* -\tRaised when division or modulo by zero takes place for all numeric types\n",
    "- *AssertionError* - Raised when Assert statement fails   \n",
    "- *FileNotFoundError* - Ошибка возникающая, если при открытии файл был не найден в данной деректории(неправильное имя или неправильный путь).\n",
    "\n",
    "- И другие. См [тут](https://www.datacamp.com/community/tutorials/exception-handling-python) "
   ]
  },
  {
   "cell_type": "markdown",
   "metadata": {},
   "source": [
    "`raise NotImplementedError` - используется как флаг для недоделанного/пустого метода. Т.е. либо 1) этот метод должен быть переписан в child class (если он не переписан, то вызовем индикатор и вспомним, что надо переписать), либо 2) просто маркера, что тут недоделанный класс "
   ]
  },
  {
   "cell_type": "markdown",
   "metadata": {},
   "source": [
    "**Handling exceptions**  \n",
    "```\n",
    "try:\n",
    "    answer = int(first_number) / int(second_number)\n",
    "except ZeroDivisionError:\n",
    "    print(\"You can't divide by 0!\")\n",
    "except TypeError:\n",
    "    print(\"You can't divide char type!\")\n",
    "else:\n",
    "    print(answer)\n",
    "```\n",
    "\n",
    "- `try:` - блок в котором пишется код, потенциально вызывающий исключение\n",
    "- `except ExcepetionType:` - часть кода выполняемая при исловии конкретного исключения ExceptionType. После этого программа не останавливается, а переходит к блоку следующему за *Exeption Handling*\n",
    "  - `except:` - все возможнные исключения разом. Используется в конце, т.е. после всех `except ExcepetionType:` т.к. программа проверяте условия последовательно. \n",
    "  - Можно использовать несколько типов сразу: `except (RuntimeError, TypeError, NameError):`\n",
    "  - `except ExcepetionType as smth:` - сохранит в smth описание исключения. *То же самое сообщение, что было бы без этого блока.*\n",
    "  - Можно поставть, например, команду `pass`. Тогда exception просто проигнорируеся молча.\n",
    "- `else:` - (опциональная часть) эта часть выполнится, если выполнистся `try` и не вызовет никаких exception. "
   ]
  },
  {
   "cell_type": "code",
   "execution_count": 15,
   "metadata": {
    "ExecuteTime": {
     "end_time": "2019-06-21T16:50:39.150847Z",
     "start_time": "2019-06-21T16:50:39.143846Z"
    }
   },
   "outputs": [
    {
     "name": "stdout",
     "output_type": "stream",
     "text": [
      "You can't divide char type!\n",
      " unsupported operand type(s) for /: 'str' and 'int'\n",
      "<class 'TypeError'>\n"
     ]
    }
   ],
   "source": [
    "first_number, second_number = 'a', 0\n",
    "try:\n",
    "    answer = first_number / second_number\n",
    "except ZeroDivisionError:\n",
    "    print(\"You can't divide by 0!\")\n",
    "except TypeError as wtf:\n",
    "    print(\"You can't divide char type!\\n\", wtf)\n",
    "    print(type(wtf))\n",
    "else:\n",
    "    print(answer)"
   ]
  },
  {
   "cell_type": "markdown",
   "metadata": {},
   "source": [
    "---\n",
    "\n",
    "**raise ExcepetionType:** - позволяет вызвать исключение"
   ]
  },
  {
   "cell_type": "code",
   "execution_count": 16,
   "metadata": {
    "ExecuteTime": {
     "end_time": "2019-06-21T16:52:30.390209Z",
     "start_time": "2019-06-21T16:52:30.377209Z"
    }
   },
   "outputs": [
    {
     "ename": "NameError",
     "evalue": "HiThere",
     "output_type": "error",
     "traceback": [
      "\u001b[1;31m---------------------------------------------------------------------------\u001b[0m",
      "\u001b[1;31mNameError\u001b[0m                                 Traceback (most recent call last)",
      "\u001b[1;32m<ipython-input-16-72c183edb298>\u001b[0m in \u001b[0;36m<module>\u001b[1;34m()\u001b[0m\n\u001b[1;32m----> 1\u001b[1;33m \u001b[1;32mraise\u001b[0m \u001b[0mNameError\u001b[0m\u001b[1;33m(\u001b[0m\u001b[1;34m'HiThere'\u001b[0m\u001b[1;33m)\u001b[0m\u001b[1;33m\u001b[0m\u001b[0m\n\u001b[0m",
      "\u001b[1;31mNameError\u001b[0m: HiThere"
     ]
    }
   ],
   "source": [
    "raise NameError('HiThere')"
   ]
  },
  {
   "cell_type": "code",
   "execution_count": 19,
   "metadata": {
    "ExecuteTime": {
     "end_time": "2019-06-21T16:55:18.780841Z",
     "start_time": "2019-06-21T16:55:18.765840Z"
    }
   },
   "outputs": [
    {
     "ename": "Exception",
     "evalue": "Just for fun",
     "output_type": "error",
     "traceback": [
      "\u001b[1;31m---------------------------------------------------------------------------\u001b[0m",
      "\u001b[1;31mException\u001b[0m                                 Traceback (most recent call last)",
      "\u001b[1;32m<ipython-input-19-e73eee84177e>\u001b[0m in \u001b[0;36m<module>\u001b[1;34m()\u001b[0m\n\u001b[1;32m----> 1\u001b[1;33m \u001b[1;32mraise\u001b[0m \u001b[0mException\u001b[0m\u001b[1;33m(\u001b[0m\u001b[1;34m'Just for fun'\u001b[0m\u001b[1;33m)\u001b[0m\u001b[1;33m\u001b[0m\u001b[0m\n\u001b[0m",
      "\u001b[1;31mException\u001b[0m: Just for fun"
     ]
    }
   ],
   "source": [
    "raise Exception('Just for fun')"
   ]
  },
  {
   "cell_type": "markdown",
   "metadata": {
    "ExecuteTime": {
     "end_time": "2019-06-21T16:54:27.629915Z",
     "start_time": "2019-06-21T16:54:27.613914Z"
    }
   },
   "source": [
    "---\n",
    "**assert *condition*, *error message*** -  проверяет *condition*. Если True, то программа выполняется далее. Если False, то вызывается AssertionError с *error message*"
   ]
  },
  {
   "cell_type": "code",
   "execution_count": 21,
   "metadata": {
    "ExecuteTime": {
     "end_time": "2019-06-21T17:01:51.666313Z",
     "start_time": "2019-06-21T17:01:51.656312Z"
    }
   },
   "outputs": [
    {
     "ename": "AssertionError",
     "evalue": "Just for fun",
     "output_type": "error",
     "traceback": [
      "\u001b[1;31m---------------------------------------------------------------------------\u001b[0m",
      "\u001b[1;31mAssertionError\u001b[0m                            Traceback (most recent call last)",
      "\u001b[1;32m<ipython-input-21-92cf3416bb4c>\u001b[0m in \u001b[0;36m<module>\u001b[1;34m()\u001b[0m\n\u001b[0;32m      1\u001b[0m \u001b[0msmth\u001b[0m \u001b[1;33m=\u001b[0m \u001b[1;34m''\u001b[0m\u001b[1;33m\u001b[0m\u001b[0m\n\u001b[1;32m----> 2\u001b[1;33m \u001b[1;32massert\u001b[0m \u001b[0mlen\u001b[0m\u001b[1;33m(\u001b[0m\u001b[0msmth\u001b[0m\u001b[1;33m)\u001b[0m \u001b[1;33m!=\u001b[0m \u001b[1;36m0\u001b[0m\u001b[1;33m,\u001b[0m \u001b[1;34m'Just for fun'\u001b[0m\u001b[1;33m\u001b[0m\u001b[0m\n\u001b[0m",
      "\u001b[1;31mAssertionError\u001b[0m: Just for fun"
     ]
    }
   ],
   "source": [
    "smth = ''\n",
    "assert len(smth) != 0, 'Just for fun'"
   ]
  },
  {
   "cell_type": "markdown",
   "metadata": {},
   "source": [
    "---\n",
    "\n",
    "**Exception is a class**. Можно создавать свои собственные исключения на основе классов."
   ]
  },
  {
   "cell_type": "code",
   "execution_count": 20,
   "metadata": {
    "ExecuteTime": {
     "end_time": "2019-06-21T16:59:21.433720Z",
     "start_time": "2019-06-21T16:59:21.424719Z"
    }
   },
   "outputs": [],
   "source": [
    "class Error(Exception):\n",
    "    \"\"\"Base class for exceptions in this module.\"\"\"\n",
    "    pass\n",
    "\n",
    "class InputError(Error):\n",
    "    \"\"\"Exception raised for errors in the input.\n",
    "\n",
    "    Attributes:\n",
    "        expression -- input expression in which the error occurred\n",
    "        message -- explanation of the error\n",
    "    \"\"\"\n",
    "\n",
    "    def __init__(self, expression, message):\n",
    "        self.expression = expression\n",
    "        self.message = message\n",
    "\n",
    "class TransitionError(Error):\n",
    "    \"\"\"Raised when an operation attempts a state transition that's not\n",
    "    allowed.\n",
    "\n",
    "    Attributes:\n",
    "        previous -- state at beginning of transition\n",
    "        next -- attempted new state\n",
    "        message -- explanation of why the specific transition is not allowed\n",
    "    \"\"\"\n",
    "\n",
    "    def __init__(self, previous, next, message):\n",
    "        self.previous = previous\n",
    "        self.next = next\n",
    "        self.message = message"
   ]
  }
 ],
 "metadata": {
  "kernelspec": {
   "display_name": "Python 3",
   "language": "python",
   "name": "python3"
  },
  "language_info": {
   "codemirror_mode": {
    "name": "ipython",
    "version": 3
   },
   "file_extension": ".py",
   "mimetype": "text/x-python",
   "name": "python",
   "nbconvert_exporter": "python",
   "pygments_lexer": "ipython3",
   "version": "3.7.6"
  },
  "toc": {
   "base_numbering": 1,
   "nav_menu": {},
   "number_sections": true,
   "sideBar": true,
   "skip_h1_title": false,
   "title_cell": "Table of Contents",
   "title_sidebar": "Contents",
   "toc_cell": false,
   "toc_position": {},
   "toc_section_display": true,
   "toc_window_display": false
  }
 },
 "nbformat": 4,
 "nbformat_minor": 4
}
