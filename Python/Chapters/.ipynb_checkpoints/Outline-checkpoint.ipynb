{
 "cells": [
  {
   "cell_type": "markdown",
   "metadata": {},
   "source": [
    "Based on: Eric Matthes \"Python Crash Course\", MIT 6.00SC and other sourses"
   ]
  },
  {
   "cell_type": "markdown",
   "metadata": {
    "heading_collapsed": true
   },
   "source": [
    "# Файлы\n",
    "- Модули\n",
    "- Чтение и запись в файл\n",
    "- JSON"
   ]
  },
  {
   "cell_type": "markdown",
   "metadata": {
    "hidden": true
   },
   "source": [
    "## Модули"
   ]
  },
  {
   "cell_type": "markdown",
   "metadata": {
    "hidden": true
   },
   "source": [
    "Любой файл сохраненный как .py может быть импортирован как модуль.   \n",
    "- `import azaza` - импортирует все из модуля. Вызов: `azaza.funct()`\n",
    "- `from azaza import funct` - имопртирует только funct. Вызов: `funct()`. `from azaza import funct as fff` - тоже самое, только с переименованием.\n",
    "- `from azaza import *` - импортирует все из модуля. Вызов: `funct()`. Тк может случиться пересечением с другими именами из разных модулей, этот способ нежелателен."
   ]
  },
  {
   "cell_type": "markdown",
   "metadata": {
    "hidden": true
   },
   "source": [
    "## Пакеты "
   ]
  },
  {
   "cell_type": "markdown",
   "metadata": {
    "hidden": true
   },
   "source": [
    "Пакеты в питоне - это набор `.py` файлов, объединенный в один пакет. \n",
    "1. Набор файлов храниться в отдельной папке (которая называется так же, как называеся пакет).\n",
    "2. У каждого пакета есть файл `__init__.py`."
   ]
  },
  {
   "cell_type": "markdown",
   "metadata": {
    "hidden": true
   },
   "source": [
    "Пусть например, в пакете `mypackage` есть модуль `mymodule`, а в нем ф-ция `myfunct`. Тогда чтобы импортировать ф-цию нужно выполнить команду:      \n",
    "```python\n",
    "from mypackage.mymodule import myfunct\n",
    "```"
   ]
  },
  {
   "cell_type": "markdown",
   "metadata": {
    "hidden": true
   },
   "source": [
    "### `__init__.py`"
   ]
  },
  {
   "cell_type": "markdown",
   "metadata": {
    "hidden": true
   },
   "source": [
    "1. Файл нужен, чтобы интерпритатор понял, что это пакет.\n",
    "2. При импорте файла, **__init__.py** выполняется первым. Код внутри файла выполняется сразу при импорте. Например, \n",
    "```python\n",
    "# ВНУТРИ mypackage/__init__.py\n",
    "import mymodule  # gри импорте mypackage, выполниться эта инструкция, поэтому не надо \n",
    "                 # будет писать from mypackage.mymodule import myfunct\n",
    "print(\"Файл успешно импортирован\") # при импорте mypackage, строка будет выведена на экран\n",
    "```\n",
    "3. Обычно файл созадется пустым, если не требуется, что опреденный код был выполнен. "
   ]
  },
  {
   "cell_type": "markdown",
   "metadata": {
    "hidden": true
   },
   "source": [
    "### `if __name__ == \"__main__\":`"
   ]
  },
  {
   "cell_type": "markdown",
   "metadata": {
    "hidden": true
   },
   "source": [
    "```python \n",
    "# code block 1\n",
    "if __name__ == \"__main__\":\n",
    "    # code block 2\n",
    "```\n",
    "Эта конструкция разбивает файл на части - блок 1 и блок 2:\n",
    "- Блок 1 будет выполнен в любом случаи.\n",
    "- Блок 2 будет выполнен только, есть файл запускается напрямую, а не импортируется.\n",
    "Для каждого файла, интерпритатор создает переменную `__name__`, которой присуждается значение `__main__` (если файл запущен напрямую) или `module/script` (если он импортируется)."
   ]
  },
  {
   "cell_type": "markdown",
   "metadata": {
    "hidden": true
   },
   "source": [
    "## Чтение и запись в файл"
   ]
  },
  {
   "cell_type": "markdown",
   "metadata": {
    "hidden": true
   },
   "source": [
    "`strrr = open(r'file path.txt')` - отктрое файл и свяжет его с переменной strr, но не закроет его сам.  \n",
    "`close(r'file path.txt')` - закроет файл. В стандартном случаи это моветон тк ведет к ошибкам.   \n",
    "\n",
    "----\n",
    "Поэтому есть спец. конструкци (функция) :`with open(r'file path.txt') as file_name:`, которая открывает и закрывает файл, когда тело функции завершено. При том `file_name` - это генератор, т.е. он читается только один раз.\n",
    "- `open(r'file path.txt')` - указывается полный путь.\n",
    "- `open('file name.txt')` - только имя, если файл в той же папке."
   ]
  },
  {
   "cell_type": "markdown",
   "metadata": {
    "hidden": true
   },
   "source": [
    "### Целиком (сохранить в str)"
   ]
  },
  {
   "cell_type": "code",
   "execution_count": 29,
   "metadata": {
    "ExecuteTime": {
     "end_time": "2019-02-21T02:30:03.116115Z",
     "start_time": "2019-02-21T02:30:03.111118Z"
    },
    "hidden": true
   },
   "outputs": [
    {
     "name": "stdout",
     "output_type": "stream",
     "text": [
      "Run the code without making any modifications to it, \n",
      "in order to ensure that everything is set up correctly. \n",
      "The code that we have given you loads a list of words from a file\n"
     ]
    }
   ],
   "source": [
    "with open(r'C:\\Users\\Vlad is love\\JupyterStash\\stash\\Python_book_test.txt') as words_file:\n",
    "    word_list = words_file.read()\n",
    "    print(word_list.rstrip())"
   ]
  },
  {
   "cell_type": "markdown",
   "metadata": {
    "hidden": true
   },
   "source": [
    "`words_file.read()` - прочитает файл целиком и передаст содержимое в виде строки. В ранних версиях в конце он добавлял пустую строку. Чтобы ее убрать просто вызови `word_list.rstrip()` - отрежит все пробелы справа"
   ]
  },
  {
   "cell_type": "markdown",
   "metadata": {
    "hidden": true
   },
   "source": [
    "### Целиком (сохранить в list)"
   ]
  },
  {
   "cell_type": "code",
   "execution_count": 39,
   "metadata": {
    "ExecuteTime": {
     "end_time": "2019-02-21T02:38:40.832767Z",
     "start_time": "2019-02-21T02:38:40.827769Z"
    },
    "hidden": true
   },
   "outputs": [
    {
     "name": "stdout",
     "output_type": "stream",
     "text": [
      "Run the code without making any modifications to it, -> Here:\n",
      "in order to ensure that everything is set up correctly. -> Here:\n",
      "The code that we have given you loads a list of words from a file -> Here:\n"
     ]
    }
   ],
   "source": [
    "with open(r'C:\\Users\\Vlad is love\\JupyterStash\\stash\\Python_book_test.txt') as words_file:\n",
    "    word_list = words_file.readlines()\n",
    "\n",
    "for line in word_list:\n",
    "    print(line.rstrip(), '-> Here:')"
   ]
  },
  {
   "cell_type": "markdown",
   "metadata": {
    "hidden": true
   },
   "source": [
    "### Построчно\n",
    "`open()` возвращает итерабельный (по строчкам) класс `words_file`. "
   ]
  },
  {
   "cell_type": "code",
   "execution_count": 34,
   "metadata": {
    "ExecuteTime": {
     "end_time": "2019-02-21T02:33:07.711687Z",
     "start_time": "2019-02-21T02:33:07.707704Z"
    },
    "hidden": true
   },
   "outputs": [
    {
     "name": "stdout",
     "output_type": "stream",
     "text": [
      "<class '_io.TextIOWrapper'>\n",
      "<class 'str'>\n"
     ]
    }
   ],
   "source": [
    "print(type(words_file))\n",
    "print(type(word_list))"
   ]
  },
  {
   "cell_type": "code",
   "execution_count": 32,
   "metadata": {
    "ExecuteTime": {
     "end_time": "2019-02-21T02:32:40.346687Z",
     "start_time": "2019-02-21T02:32:40.342689Z"
    },
    "hidden": true,
    "scrolled": true
   },
   "outputs": [
    {
     "name": "stdout",
     "output_type": "stream",
     "text": [
      "Run the code without making any modifications to it, \n",
      "\n",
      "in order to ensure that everything is set up correctly. \n",
      "\n",
      "The code that we have given you loads a list of words from a file\n"
     ]
    }
   ],
   "source": [
    "with open(r'C:\\Users\\Vlad is love\\JupyterStash\\stash\\Python_book_test.txt') as words_file:\n",
    "    for line in words_file:\n",
    "        print(line)"
   ]
  },
  {
   "cell_type": "markdown",
   "metadata": {
    "hidden": true
   },
   "source": [
    "Итерируя и читая по строчно, после каждой строки будет добавляться пустая строка"
   ]
  },
  {
   "cell_type": "code",
   "execution_count": 33,
   "metadata": {
    "ExecuteTime": {
     "end_time": "2019-02-21T02:32:44.253086Z",
     "start_time": "2019-02-21T02:32:44.248107Z"
    },
    "hidden": true
   },
   "outputs": [
    {
     "name": "stdout",
     "output_type": "stream",
     "text": [
      "Run the code without making any modifications to it,\n",
      "in order to ensure that everything is set up correctly.\n",
      "The code that we have given you loads a list of words from a file\n"
     ]
    }
   ],
   "source": [
    "with open(r'C:\\Users\\Vlad is love\\JupyterStash\\stash\\Python_book_test.txt') as words_file:\n",
    "    for line in words_file:\n",
    "        print(line.rstrip())"
   ]
  },
  {
   "cell_type": "markdown",
   "metadata": {
    "hidden": true
   },
   "source": [
    "### with open('path', '*how*')\n",
    "It can be opened in read mode (default) (`'r'`), write mode (`'w'`), append mode (`'a'`), or a mode that allows you to read and write to the file (`'r+'`).  \n",
    "**When existing file is opeend in write mode `'w'`, it overwrites it**. So, if want to add lines to existing file, use append mode `'a'`, it will add lines at the end.  \n",
    "To write a line use: `word_file.write(\"any stirng\")`. Write method can only take `str`, so need to format any other type.  "
   ]
  },
  {
   "cell_type": "markdown",
   "metadata": {
    "hidden": true
   },
   "source": [
    "## JSON\n",
    "- Запить, чтение  \n",
    " \n",
    "**JSON (JavaScript Object Notation)** - популярный формат хранения данных. Используется как общепринятый формат. "
   ]
  },
  {
   "cell_type": "markdown",
   "metadata": {
    "hidden": true
   },
   "source": [
    "**Запись** "
   ]
  },
  {
   "cell_type": "code",
   "execution_count": 23,
   "metadata": {
    "ExecuteTime": {
     "end_time": "2019-06-21T17:21:03.957220Z",
     "start_time": "2019-06-21T17:21:03.952219Z"
    },
    "hidden": true
   },
   "outputs": [],
   "source": [
    "import json\n",
    "\n",
    "num_test = [1,2,34,52435,345,4]\n",
    "\n",
    "file_name = 'num_test.json'          #принято явно указывать .json в имении, чтобы легче было понять, что формат json\n",
    "with open(file_name, 'w') as f_obj:\n",
    "    json.dump(num_test, f_obj)"
   ]
  },
  {
   "cell_type": "code",
   "execution_count": 25,
   "metadata": {
    "ExecuteTime": {
     "end_time": "2019-06-21T17:22:12.662149Z",
     "start_time": "2019-06-21T17:22:12.657149Z"
    },
    "hidden": true
   },
   "outputs": [
    {
     "name": "stdout",
     "output_type": "stream",
     "text": [
      "[1, 2, 34, 52435, 345, 4]\n"
     ]
    }
   ],
   "source": [
    "with open('num_test.json') as f_obj:\n",
    "    numbers = json.load(f_obj)\n",
    "\n",
    "print(numbers)        "
   ]
  },
  {
   "cell_type": "markdown",
   "metadata": {
    "hidden": true
   },
   "source": [
    "`json.dump(text, f_obj)` - используется для записи текста. Нужно открыть файл в write mode ('w'). `text` - сохраняемый текст, `f_obj` - файл в который сохраняем (не имя, а именно файл)"
   ]
  },
  {
   "cell_type": "markdown",
   "metadata": {
    "hidden": true
   },
   "source": [
    "**Чтение**"
   ]
  },
  {
   "cell_type": "code",
   "execution_count": 24,
   "metadata": {
    "ExecuteTime": {
     "end_time": "2019-06-21T17:21:54.124089Z",
     "start_time": "2019-06-21T17:21:54.119089Z"
    },
    "hidden": true
   },
   "outputs": [
    {
     "name": "stdout",
     "output_type": "stream",
     "text": [
      "[1, 2, 34, 52435, 345, 4]\n"
     ]
    }
   ],
   "source": [
    "with open('num_test.json') as f_obj:\n",
    "    numbers = json.load(f_obj)\n",
    "\n",
    "print(numbers)        "
   ]
  },
  {
   "cell_type": "markdown",
   "metadata": {
    "hidden": true
   },
   "source": [
    "`json.load(f_obj)` - читает файл. `f_obj` - файл, из которго читают."
   ]
  }
 ],
 "metadata": {
  "kernelspec": {
   "display_name": "Python 3",
   "language": "python",
   "name": "python3"
  },
  "language_info": {
   "codemirror_mode": {
    "name": "ipython",
    "version": 3
   },
   "file_extension": ".py",
   "mimetype": "text/x-python",
   "name": "python",
   "nbconvert_exporter": "python",
   "pygments_lexer": "ipython3",
   "version": "3.7.6"
  },
  "toc": {
   "base_numbering": 1,
   "nav_menu": {},
   "number_sections": true,
   "sideBar": true,
   "skip_h1_title": false,
   "title_cell": "Table of Contents",
   "title_sidebar": "Contents",
   "toc_cell": false,
   "toc_position": {},
   "toc_section_display": true,
   "toc_window_display": false
  }
 },
 "nbformat": 4,
 "nbformat_minor": 2
}
