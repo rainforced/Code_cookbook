{
 "cells": [
  {
   "cell_type": "markdown",
   "id": "98e6bda4",
   "metadata": {},
   "source": [
    "# ChapterX_Statistics"
   ]
  },
  {
   "cell_type": "markdown",
   "id": "e80de566",
   "metadata": {},
   "source": [
    "**Полезные ссылки для работы со статистикой**    \n",
    "- [Нормальное распределение: z-таблицы, расчеты и тд](https://gallery.shinyapps.io/dist_calc/) - калькулятор\n",
    "- [Центральная предельная теорема](https://gallery.shinyapps.io/CLT_mean/) - калькулятор"
   ]
  },
  {
   "cell_type": "markdown",
   "id": "c74ab750",
   "metadata": {},
   "source": [
    "## Меры центральной тенденции"
   ]
  },
  {
   "cell_type": "code",
   "execution_count": 1,
   "id": "866a69af",
   "metadata": {},
   "outputs": [
    {
     "name": "stdout",
     "output_type": "stream",
     "text": [
      "ModeResult(mode=array([172]), count=array([4]))\n",
      "170.5\n",
      "170.4\n"
     ]
    }
   ],
   "source": [
    "from scipy import stats\n",
    "import numpy as np\n",
    "\n",
    "a = np.array([185, 175, 170, 169, 171, 175, 157, 172, 170, 172, 167, 173, 168, 167, 166,\n",
    "              167, 169, 172, 177, 178, 165, 161, 179, 159, 164, 178, 172, 170, 173, 171])\n",
    "# как искать моду\n",
    "m = stats.mode(a)\n",
    "print(m)\n",
    "# как искать медиану\n",
    "m = np.median(a)\n",
    "print(m)\n",
    "# как искать среднее значение\n",
    "m = np.mean(a)\n",
    "print(m)"
   ]
  },
  {
   "cell_type": "markdown",
   "id": "eb3ce62f",
   "metadata": {},
   "source": [
    "## Меры изменчивости"
   ]
  },
  {
   "cell_type": "code",
   "execution_count": 3,
   "id": "bf74ac94",
   "metadata": {},
   "outputs": [
    {
     "name": "stdout",
     "output_type": "stream",
     "text": [
      "5.902541825349482\n"
     ]
    }
   ],
   "source": [
    "import numpy as np\n",
    "\n",
    "a = np.array([185, 175, 170, 169, 171, 175, 157, 172, 170, 172, 167, 173, 168, 167, 166,\n",
    "              167, 169, 172, 177, 178, 165, 161, 179, 159, 164, 178, 172, 170, 173, 171])\n",
    "# как искать стандартное отлонение\n",
    "sd = np.std(a)\n",
    "print(sd) #"
   ]
  },
  {
   "cell_type": "markdown",
   "id": "62f4cf56",
   "metadata": {},
   "source": [
    "Надо учитывать, что тут дисперсия считается как для генеральной совокупности (ГС) - т.е. усредняется по *n*. Для выборки из ГС, надо усреднять по *n-1*."
   ]
  }
 ],
 "metadata": {
  "kernelspec": {
   "display_name": "Python 3 (ipykernel)",
   "language": "python",
   "name": "python3"
  },
  "language_info": {
   "codemirror_mode": {
    "name": "ipython",
    "version": 3
   },
   "file_extension": ".py",
   "mimetype": "text/x-python",
   "name": "python",
   "nbconvert_exporter": "python",
   "pygments_lexer": "ipython3",
   "version": "3.9.7"
  }
 },
 "nbformat": 4,
 "nbformat_minor": 5
}
