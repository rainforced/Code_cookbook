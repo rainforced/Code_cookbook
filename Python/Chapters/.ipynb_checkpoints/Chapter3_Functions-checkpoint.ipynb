{
 "cells": [
  {
   "cell_type": "markdown",
   "metadata": {},
   "source": [
    "# Функции \n",
    "- Общий вид и аргументы\n",
    "- Передача аргументов (by assigment) и локальность\n",
    "- yield\n",
    "- lamda funct\n",
    "  - fillter(), map(), reduce()\n",
    "- decorators"
   ]
  },
  {
   "cell_type": "markdown",
   "metadata": {
    "heading_collapsed": true
   },
   "source": [
    "## Общий вид и аргументы\n",
    "- Пример: сортировка слиянием "
   ]
  },
  {
   "cell_type": "code",
   "execution_count": 15,
   "metadata": {
    "ExecuteTime": {
     "end_time": "2021-07-10T18:35:41.603425Z",
     "start_time": "2021-07-10T18:35:41.582443Z"
    },
    "hidden": true
   },
   "outputs": [],
   "source": [
    "def merge(left, right, lt):\n",
    "\n",
    "    \"\"\"Assumes left and right are sorted lists.\n",
    "     lt defines an ordering on the elements of the lists.\n",
    "     Returns a new sorted(by lt) list containing the same elements\n",
    "     as (left + right) would contain.\"\"\"\n",
    "    \n",
    "    result = []\n",
    "    i,j = 0, 0\n",
    "    while i < len(left) and j < len(right):\n",
    "        if lt(left[i], right[j]):\n",
    "            result.append(left[i])\n",
    "            i += 1\n",
    "        else:\n",
    "            result.append(right[j])\n",
    "            j += 1\n",
    "    while (i < len(left)):\n",
    "        result.append(left[i])\n",
    "        i += 1\n",
    "    while (j < len(right)):\n",
    "        result.append(right[j])\n",
    "        j += 1\n",
    "        \n",
    "    return result"
   ]
  },
  {
   "cell_type": "markdown",
   "metadata": {
    "hidden": true
   },
   "source": [
    "### Позиция аргументов\n",
    "`def merge(left, right, lt)` - *Positional arg*. Порядок аргументов имеет значение. Т.е. вызов `merge(1, 5, 0.1)` идет строго по позициям. Можно вызвать ф-цию, явно передовая аргументы(*Key arg*). В этом случаи порядок не имеет значения: `merge(right = 5, lt = 0.1, right = 1)`"
   ]
  },
  {
   "cell_type": "markdown",
   "metadata": {
    "hidden": true
   },
   "source": [
    "### Дефолтные значения\n",
    "`def merge(left, right, lt = 0.1)` - можно выставить дефолтное значение для аргумента, тогда вызов: `merge(1, 5)`. Можно переписать дефолтное значение. `def merge(left, right, lt = '')` - можно задать пустое дефолтное значение.  \n",
    "\n",
    "С дефолтными заничениями надо быть аккуратнее. Стоит задавать только *неизменяемые* дефолтные значения. Проблемы могут начтаься, если задачть изменяемые дефолтные значения. Например:"
   ]
  },
  {
   "cell_type": "code",
   "execution_count": 22,
   "metadata": {
    "ExecuteTime": {
     "end_time": "2021-07-10T18:53:41.044718Z",
     "start_time": "2021-07-10T18:53:41.038722Z"
    },
    "hidden": true
   },
   "outputs": [
    {
     "name": "stdout",
     "output_type": "stream",
     "text": [
      "[1, 1]\n",
      "[1]\n",
      "[1, 1]\n",
      "([1, 1],)\n"
     ]
    }
   ],
   "source": [
    "def append_one(iterable=[]):\n",
    "    iterable.append(1)\n",
    "    return iterable\n",
    "\n",
    "# все хорошо тут\n",
    "print(append_one([1])) # ожидаем [1, 1]\n",
    "# а тут начнуться проблемы\n",
    "print(append_one()) # получим [1,1]\n",
    "print(append_one()) # ожидаем [1], а получим [1,1]\n",
    "print(append_one.__defaults__)"
   ]
  },
  {
   "cell_type": "markdown",
   "metadata": {
    "hidden": true
   },
   "source": [
    "Почему так происходит? При определении функции, когда интерпретатор Python-а проходит по файлу с кодом, определяется связь между именем функции и дефолтными значениями. Таким образом, каждой функции сопоставляется `tuple` с дефолтными значениями. Мы не можем менять этот `tuple`, но можем менять его элементы, если они являются изменяемыми типами.    \n",
    "\n",
    "В этом примере, `tuple` состоит из `iterabel = []`. При каждом новом вызове, где применяются дефолтные значения, интерпритатор обращается к этому (одному и тому же) `tuple`. `iterable` меняется при вызове ф-ции, и изменения сохраняются."
   ]
  },
  {
   "cell_type": "markdown",
   "metadata": {
    "hidden": true
   },
   "source": [
    "### Произвольное кол-во аргументов\n",
    "- `def merge(left, right, *lt)`  - *Arbitrary num of arg*. Через инструкцию `*lt` можно передавать произвольное кол-во аргументов. Они сохраняются в один tuple `lt`. Сперва ф-ция просматривает переданные позиционные и явные аргументы, поэтому эта инструкция должна быть всегда в конце. \n",
    "- `def merge(left, right, **lt)` - *Arbitrary num of dict arg*. С помощью инструкции `**lt` передается произвольное кол-во пар key = value (т.е. элементов dict). См пример:"
   ]
  },
  {
   "cell_type": "code",
   "execution_count": 22,
   "metadata": {
    "ExecuteTime": {
     "end_time": "2021-07-17T10:15:18.910117Z",
     "start_time": "2021-07-17T10:15:18.899126Z"
    },
    "hidden": true
   },
   "outputs": [
    {
     "name": "stdout",
     "output_type": "stream",
     "text": [
      "1 2\n",
      "3\n",
      "5\n"
     ]
    }
   ],
   "source": [
    "def print_a(a, b, *args):\n",
    "    print(a, b)\n",
    "    for i in args:\n",
    "        print(i)\n",
    "        \n",
    "print_a(1, 2, 3, 5)"
   ]
  },
  {
   "cell_type": "markdown",
   "metadata": {
    "ExecuteTime": {
     "end_time": "2021-07-17T10:14:45.409492Z",
     "start_time": "2021-07-17T10:14:45.390503Z"
    },
    "hidden": true
   },
   "source": [
    "Ф-ция обрабатывает сначала все позиционные и явные аргументы (напр., `a = 1`), а все что не поместилось отправляет в `tuple args`. "
   ]
  },
  {
   "cell_type": "code",
   "execution_count": 26,
   "metadata": {
    "ExecuteTime": {
     "end_time": "2021-07-17T10:19:17.727744Z",
     "start_time": "2021-07-17T10:19:17.711753Z"
    },
    "hidden": true
   },
   "outputs": [
    {
     "name": "stdout",
     "output_type": "stream",
     "text": [
      "1 2\n",
      "c 3\n",
      "d 5\n"
     ]
    }
   ],
   "source": [
    "def print_a(a, b, **kwargs):\n",
    "    print(a, b)\n",
    "    for key in kwargs:\n",
    "        print(key, kwargs[key])\n",
    "        \n",
    "print_a(1, 2, c = 3, d = 5)"
   ]
  },
  {
   "cell_type": "markdown",
   "metadata": {
    "hidden": true
   },
   "source": [
    "Ф-ция обрабатывает сначала все позиционные и явные аргументы (например, `a = 1`). Остальные данные должны подаваться как явные (например, `c = 3`) или быть распаковыны из словаря, иначе будет ошибка. "
   ]
  },
  {
   "cell_type": "code",
   "execution_count": 27,
   "metadata": {
    "ExecuteTime": {
     "end_time": "2021-07-17T10:21:21.853516Z",
     "start_time": "2021-07-17T10:21:21.842529Z"
    },
    "hidden": true
   },
   "outputs": [
    {
     "name": "stdout",
     "output_type": "stream",
     "text": [
      "1 2\n",
      "c 3\n",
      "d 5\n"
     ]
    }
   ],
   "source": [
    "def print_a(a, b, **kwargs):\n",
    "    print(a, b)\n",
    "    for key in kwargs:\n",
    "        print(key, kwargs[key])\n",
    "        \n",
    "print_a(1, 2, c = 3, d = 5)"
   ]
  },
  {
   "cell_type": "markdown",
   "metadata": {
    "hidden": true
   },
   "source": [
    "Еще пример:"
   ]
  },
  {
   "cell_type": "code",
   "execution_count": 8,
   "metadata": {
    "ExecuteTime": {
     "end_time": "2019-06-20T20:58:11.532308Z",
     "start_time": "2019-06-20T20:58:11.505307Z"
    },
    "hidden": true
   },
   "outputs": [
    {
     "name": "stdout",
     "output_type": "stream",
     "text": [
      "{'first_name': 'albert', 'last_name': 'einstein', 'location': 'princeton', 'field': 'physics'}\n"
     ]
    }
   ],
   "source": [
    "def build_profile(first, last, **user_info):\n",
    "    \"\"\"Build a dictionary containing everything we know about a user.\"\"\" \n",
    "    profile = {}\n",
    "    profile['first_name'] = first \n",
    "    profile['last_name'] = last\n",
    "    for key, value in user_info.items():\n",
    "        profile[key] = value \n",
    "    return profile\n",
    "\n",
    "user_profile = build_profile('albert', 'einstein', location='princeton', field='physics')\n",
    "print(user_profile)"
   ]
  },
  {
   "cell_type": "markdown",
   "metadata": {
    "hidden": true
   },
   "source": [
    "### Функции в качестве аргументов\n",
    "Т.к. ф-ции - это полноценные объекты, то аргументом ф-ции может быть другая функция. Например, тут `lt = lambda x,y: x < y` - это аргумент:"
   ]
  },
  {
   "cell_type": "code",
   "execution_count": 16,
   "metadata": {
    "ExecuteTime": {
     "end_time": "2021-07-10T18:35:45.669146Z",
     "start_time": "2021-07-10T18:35:45.660158Z"
    },
    "hidden": true
   },
   "outputs": [
    {
     "name": "stdout",
     "output_type": "stream",
     "text": [
      "Sorted list = [0, 4, 5, 17, 29, 35, 58]\n",
      "Sorted list = [1.0, 1.0, 2.0, 2.25, 12.0, 19.125, 23.0, 24.5]\n"
     ]
    }
   ],
   "source": [
    "def sort(L, lt = lambda x,y: x < y):\n",
    "    \"\"\"Returns a new sorted list containing the same elements as L\"\"\"\n",
    "    if len(L) < 2:\n",
    "        return L[:]\n",
    "    else:\n",
    "        middle = int(len(L)/2)\n",
    "        left = sort(L[:middle], lt)\n",
    "        right = sort(L[middle:], lt)\n",
    "        return merge(left, right, lt)\n",
    "    \n",
    "L = [35, 4, 5, 29, 17, 58, 0]\n",
    "newL = sort(L)                                 #вызвали ф-цию с дефолтным lt\n",
    "print('Sorted list =', newL)\n",
    "L = [1.0, 2.25, 24.5, 12.0, 2.0, 23.0, 19.125, 1.0]\n",
    "newL = sort(L, float.__lt__)                   #вызвали ф-цию lt = float.__lt__ те стандартным сравнением для float\n",
    "print('Sorted list =', newL)               "
   ]
  },
  {
   "cell_type": "markdown",
   "metadata": {
    "hidden": true
   },
   "source": [
    "### Явная аннотация типа аргумента"
   ]
  },
  {
   "cell_type": "markdown",
   "metadata": {
    "hidden": true
   },
   "source": [
    "Хотя питон - это язык с динамической типизаций, можно явно указать какие типы данных должна принимать и возвращать ф-ция.\n",
    "- `funct(x: int)` - явное указание типа принимаемого значения.\n",
    "- `funct(...) -> int` - явное указание типа возвращаемого значения. \n",
    "\n",
    "На самом деле, ф-ция все равно будет работать с другими типами данных. Этот синтаксис нужен, чтобы другие людям было легче читать твой код."
   ]
  },
  {
   "cell_type": "code",
   "execution_count": 28,
   "metadata": {
    "ExecuteTime": {
     "end_time": "2021-07-17T10:27:03.827695Z",
     "start_time": "2021-07-17T10:27:03.818705Z"
    },
    "hidden": true
   },
   "outputs": [
    {
     "name": "stdout",
     "output_type": "stream",
     "text": [
      "21\n",
      "still works\n"
     ]
    }
   ],
   "source": [
    "def add(x: int, y: int) -> int: # явная аннотация аргумента и возвращаемого значения\n",
    "    return x + y\n",
    "\n",
    "print(add(10, 11))\n",
    "print(add('still ', 'works')) # все равно будет работать (и не вызовет ошибки)"
   ]
  },
  {
   "cell_type": "markdown",
   "metadata": {
    "ExecuteTime": {
     "end_time": "2021-07-10T18:37:28.652937Z",
     "start_time": "2021-07-10T18:37:28.642923Z"
    },
    "hidden": true
   },
   "source": [
    "### Общий вид аргументов ф-ции и их расположение "
   ]
  },
  {
   "cell_type": "markdown",
   "metadata": {
    "hidden": true
   },
   "source": [
    "```python\n",
    "def function_name([pos_arg_1 [, ...]]\n",
    "                  [pos_arg_with_def_1 = def_val_1 [, ...]]\n",
    "                  [*pos_args,\n",
    "                  [keyword_only_args,]]\n",
    "                  [**kw_args]):\n",
    "    pass\n",
    "```\n",
    "- `pos_arg` - позиционные аргументы.\n",
    "- `pos_arg_with_def` - аргументы по-умолчанию.\n",
    "- `*pos_args` - неограниченное кол-во аргументов записываемое в кортеж.\n",
    "- `keyword_only_args` - аргументы, которые требуют явного вызова (например, `d = 10`), иначе будет ошибка. Используется крайне редко.\n",
    "- `**kw_args` - неограниченное кол-во аргументов записываемое в словарь.\n",
    "\n",
    "Например:\n",
    "```python\n",
    "my_print(a, b=10, *args, d, **kwargs):\n",
    "    pass\n",
    "\n",
    "my_print(10, d = 1) \n",
    "```\n",
    "Тут обязательно задать 2 аргумента: a и d. Причем, d должен быть указан явно."
   ]
  },
  {
   "cell_type": "markdown",
   "metadata": {
    "heading_collapsed": true
   },
   "source": [
    "## Распаковка (unpack) кортежей, списков и словарей"
   ]
  },
  {
   "cell_type": "markdown",
   "metadata": {
    "hidden": true
   },
   "source": [
    "Итерабельные контейнеры (кортежи, списки и словари) можно распаковывать (**unpacking**) в последовательности независимых объектов.    \n",
    "\n",
    "В общем случаии, распаковка делается с помощью операторов:\n",
    "- `*tuple`, `*list` - для кортежей и списков.\n",
    "- `**dict` - для словарей. "
   ]
  },
  {
   "cell_type": "markdown",
   "metadata": {
    "hidden": true
   },
   "source": [
    "### Для функций\n",
    "В случаии ф-ций это может понадобиться, когда:\n",
    "1. Кол-во прередаваемых значений неизвесно.\n",
    "2. Кол-во прередаваемых значений неизвестно (пытаемся передать больше, чем принимает ф-ция).\n",
    "3. Кол-во прередаваемых значений известно, но мы хотим передать передать контейнер поэлементно, а не целиком."
   ]
  },
  {
   "cell_type": "code",
   "execution_count": 66,
   "metadata": {
    "ExecuteTime": {
     "end_time": "2021-07-10T19:44:35.332822Z",
     "start_time": "2021-07-10T19:44:35.327830Z"
    },
    "hidden": true
   },
   "outputs": [
    {
     "name": "stdout",
     "output_type": "stream",
     "text": [
      "'0': ['a', 'b']\n",
      "'1': 1\n",
      "'2': 2\n"
     ]
    }
   ],
   "source": [
    "# 1. Кол-во прередаваемых значений неизвестно\n",
    "def test_funct(*a):\n",
    "    for num, i in enumerate(a):\n",
    "        print(\"'{}': {}\".format(num, i))\n",
    "\n",
    "t = (['a','b'], 1, 2) # передаем 3 значения\n",
    "test_funct(*t)"
   ]
  },
  {
   "cell_type": "code",
   "execution_count": 73,
   "metadata": {
    "ExecuteTime": {
     "end_time": "2021-07-10T19:52:56.295525Z",
     "start_time": "2021-07-10T19:52:56.285532Z"
    },
    "hidden": true
   },
   "outputs": [
    {
     "name": "stdout",
     "output_type": "stream",
     "text": [
      "'a': a \n",
      "'b': b\n",
      "'c': (1, 2)\n"
     ]
    }
   ],
   "source": [
    "# 2. Кол-во прередаваемых значений неизвестно (пытаемся передать больше, чем принимает ф-ция)\n",
    "def test_funct(a, b, *c):\n",
    "    print(\"'a': \" +str(a) + \" \\n'b': \" +str(b) + \"\\n'c': \" +str(c))\n",
    "\n",
    "t = ('a','b', 1, 2) # передаем 4 значения\n",
    "test_funct(*t)"
   ]
  },
  {
   "cell_type": "code",
   "execution_count": 71,
   "metadata": {
    "ExecuteTime": {
     "end_time": "2021-07-10T19:52:27.735075Z",
     "start_time": "2021-07-10T19:52:27.729099Z"
    },
    "hidden": true
   },
   "outputs": [
    {
     "name": "stdout",
     "output_type": "stream",
     "text": [
      "['a', 'b']\n",
      "1\n",
      "2\n"
     ]
    }
   ],
   "source": [
    "# 3. Кол-во прередаваемых значений известно, но мы хотим передать передать контейнер поэлементно, а не целиком.\n",
    "def test_funct(a, b, c):\n",
    "    print(\"'a': \" +str(a) + \" \\n'b': \" +str(b) + \"\\n'c': \" +str(c))\n",
    "\n",
    "t = (['a','b'], 1, 2) \n",
    "test_funct(*t) # не хотим, чтобы t передавался целиком, как тип tuple"
   ]
  },
  {
   "cell_type": "markdown",
   "metadata": {
    "hidden": true
   },
   "source": [
    "### При присвоении (star assigment)\n",
    "Присвоение с помощью оператора `*` также называют **star assigment**.    \n",
    "\n",
    "Обычно, если кол-во переменных для присвоения равно кол-ву элементов контейнера, то интерпретатор автоматически распаковывает его:"
   ]
  },
  {
   "cell_type": "code",
   "execution_count": 75,
   "metadata": {
    "ExecuteTime": {
     "end_time": "2021-07-10T19:53:44.539975Z",
     "start_time": "2021-07-10T19:53:44.528991Z"
    },
    "hidden": true
   },
   "outputs": [
    {
     "name": "stdout",
     "output_type": "stream",
     "text": [
      "'a': ['a', 'b'] \n",
      "'b': 1\n",
      "'c': 2\n"
     ]
    }
   ],
   "source": [
    "t = (['a','b'], 1, 2)\n",
    "a, b, c = t\n",
    "\n",
    "print(\"'a': \" +str(a) + \" \\n'b': \" +str(b) + \"\\n'c': \" +str(c))"
   ]
  },
  {
   "cell_type": "markdown",
   "metadata": {
    "hidden": true
   },
   "source": [
    "Проблемы начнутся, если кол-во принимающих элементов меньше, чем кол-во элементов контейнера:"
   ]
  },
  {
   "cell_type": "code",
   "execution_count": 76,
   "metadata": {
    "ExecuteTime": {
     "end_time": "2021-07-10T19:54:40.442354Z",
     "start_time": "2021-07-10T19:54:40.426344Z"
    },
    "hidden": true
   },
   "outputs": [
    {
     "ename": "ValueError",
     "evalue": "too many values to unpack (expected 2)",
     "output_type": "error",
     "traceback": [
      "\u001b[1;31m---------------------------------------------------------------------------\u001b[0m",
      "\u001b[1;31mValueError\u001b[0m                                Traceback (most recent call last)",
      "\u001b[1;32m<ipython-input-76-4c7ab05a59ae>\u001b[0m in \u001b[0;36m<module>\u001b[1;34m\u001b[0m\n\u001b[0;32m      1\u001b[0m \u001b[0mt\u001b[0m \u001b[1;33m=\u001b[0m \u001b[1;33m(\u001b[0m\u001b[1;33m[\u001b[0m\u001b[1;34m'a'\u001b[0m\u001b[1;33m,\u001b[0m\u001b[1;34m'b'\u001b[0m\u001b[1;33m]\u001b[0m\u001b[1;33m,\u001b[0m \u001b[1;36m1\u001b[0m\u001b[1;33m,\u001b[0m \u001b[1;36m2\u001b[0m\u001b[1;33m)\u001b[0m\u001b[1;33m\u001b[0m\u001b[1;33m\u001b[0m\u001b[0m\n\u001b[1;32m----> 2\u001b[1;33m \u001b[0ma\u001b[0m\u001b[1;33m,\u001b[0m \u001b[0mb\u001b[0m \u001b[1;33m=\u001b[0m \u001b[0mt\u001b[0m\u001b[1;33m\u001b[0m\u001b[1;33m\u001b[0m\u001b[0m\n\u001b[0m\u001b[0;32m      3\u001b[0m \u001b[1;33m\u001b[0m\u001b[0m\n\u001b[0;32m      4\u001b[0m \u001b[0mprint\u001b[0m\u001b[1;33m(\u001b[0m\u001b[1;34m\"'a': \"\u001b[0m \u001b[1;33m+\u001b[0m\u001b[0mstr\u001b[0m\u001b[1;33m(\u001b[0m\u001b[0ma\u001b[0m\u001b[1;33m)\u001b[0m \u001b[1;33m+\u001b[0m \u001b[1;34m\" \\n'b': \"\u001b[0m \u001b[1;33m+\u001b[0m\u001b[0mstr\u001b[0m\u001b[1;33m(\u001b[0m\u001b[0mb\u001b[0m\u001b[1;33m)\u001b[0m\u001b[1;33m)\u001b[0m\u001b[1;33m\u001b[0m\u001b[1;33m\u001b[0m\u001b[0m\n",
      "\u001b[1;31mValueError\u001b[0m: too many values to unpack (expected 2)"
     ]
    }
   ],
   "source": [
    "t = (['a','b'], 1, 2)\n",
    "a, b = t\n",
    "\n",
    "print(\"'a': \" +str(a) + \" \\n'b': \" +str(b))"
   ]
  },
  {
   "cell_type": "markdown",
   "metadata": {
    "hidden": true
   },
   "source": [
    "В этом случаии, можно распаковать все, что \"непоместилось\" в одну из переменных (причем в любую, не обязательно последнюю):"
   ]
  },
  {
   "cell_type": "code",
   "execution_count": 78,
   "metadata": {
    "ExecuteTime": {
     "end_time": "2021-07-10T19:56:05.243594Z",
     "start_time": "2021-07-10T19:56:05.226593Z"
    },
    "hidden": true
   },
   "outputs": [
    {
     "name": "stdout",
     "output_type": "stream",
     "text": [
      "'a': ['a', 'b'] \n",
      "'b': 1\n",
      "'c': 2\n",
      "\n",
      "'a': a \n",
      "'b': ['b', 1]\n",
      "'c': 2\n",
      "\n",
      "'a': a \n",
      "'b': b\n",
      "'c': [1, 2]\n"
     ]
    }
   ],
   "source": [
    "t = ('a','b', 1, 2)\n",
    "\n",
    "*a, b, c = t\n",
    "print(\"'a': \" +str(a) + \" \\n'b': \" +str(b) + \"\\n'c': \" +str(c), end = \"\\n\\n\")\n",
    "\n",
    "a, *b, c = t\n",
    "print(\"'a': \" +str(a) + \" \\n'b': \" +str(b) + \"\\n'c': \" +str(c), end = \"\\n\\n\")\n",
    "\n",
    "a, b, *c = t\n",
    "\n",
    "print(\"'a': \" +str(a) + \" \\n'b': \" +str(b) + \"\\n'c': \" +str(c))"
   ]
  },
  {
   "cell_type": "markdown",
   "metadata": {
    "hidden": true
   },
   "source": [
    "### Пример для словаря"
   ]
  },
  {
   "cell_type": "markdown",
   "metadata": {
    "hidden": true
   },
   "source": [
    "Словарь автоматически расспаковывает в список ключей. А дальше присвоение идет про принципу списка:"
   ]
  },
  {
   "cell_type": "code",
   "execution_count": 105,
   "metadata": {
    "ExecuteTime": {
     "end_time": "2021-07-10T20:08:55.873626Z",
     "start_time": "2021-07-10T20:08:55.856640Z"
    },
    "hidden": true
   },
   "outputs": [
    {
     "name": "stdout",
     "output_type": "stream",
     "text": [
      "'a': a \n",
      "'b': b\n",
      "'c': c\n",
      "\n",
      "'a': ['a', 'b'] \n",
      "'b': c\n"
     ]
    }
   ],
   "source": [
    "my_dict = {'a':1, 'b':2, 'c':3}\n",
    "\n",
    "a, b, c = my_dict # распаковывается автоматически в ключи\n",
    "print(\"'a': \" +str(a) + \" \\n'b': \" +str(b) + \"\\n'c': \" +str(c), end=\"\\n\\n\")\n",
    "\n",
    "*a, b = my_dict # распаковывается автоматически в ключи\n",
    "print(\"'a': \" +str(a) + \" \\n'b': \" +str(b))"
   ]
  },
  {
   "cell_type": "markdown",
   "metadata": {
    "hidden": true
   },
   "source": [
    "Оператор распаковки `**dir` работает только в случаии, когда мы хотим распаковать словарь для передачи его в функцию."
   ]
  },
  {
   "cell_type": "code",
   "execution_count": 106,
   "metadata": {
    "ExecuteTime": {
     "end_time": "2021-07-10T20:09:28.666323Z",
     "start_time": "2021-07-10T20:09:28.650314Z"
    },
    "hidden": true
   },
   "outputs": [
    {
     "name": "stdout",
     "output_type": "stream",
     "text": [
      "'a': 1\n",
      "'b': 2\n",
      "'c': 3\n"
     ]
    }
   ],
   "source": [
    "my_dict = {'a':1, 'b':2, 'c':3}\n",
    "\n",
    "def test_funct(**a):\n",
    "    for key, value in a.items():\n",
    "        print(\"'{}': {}\".format(key, value))\n",
    "\n",
    "test_funct(**my_dict)"
   ]
  },
  {
   "cell_type": "markdown",
   "metadata": {
    "hidden": true
   },
   "source": [
    "### Распаковка в `_`\n",
    "Если нас не интересует один из элементов в последовательности, то его можно распаковать в пустой `_` (placeholder)."
   ]
  },
  {
   "cell_type": "code",
   "execution_count": 81,
   "metadata": {
    "ExecuteTime": {
     "end_time": "2021-07-10T19:59:01.206821Z",
     "start_time": "2021-07-10T19:59:01.198827Z"
    },
    "hidden": true
   },
   "outputs": [
    {
     "name": "stdout",
     "output_type": "stream",
     "text": [
      "'a': a \n",
      "'b': 1\n",
      "\n",
      "'a': a\n",
      "'c': 2\n"
     ]
    }
   ],
   "source": [
    "t = ('a', 1, 2)\n",
    "\n",
    "a, b, _ = t\n",
    "print(\"'a': \" +str(a) + \" \\n'b': \" +str(b), end =\"\\n\\n\")\n",
    "\n",
    "a, _, c = t\n",
    "print(\"'a': \" +str(a) + \"\\n'c': \" +str(c))"
   ]
  },
  {
   "cell_type": "markdown",
   "metadata": {
    "hidden": true
   },
   "source": [
    "Более того, в placeholder можно распаковать сколько угодно ненужных элементов в помощью команды `*`: "
   ]
  },
  {
   "cell_type": "code",
   "execution_count": 83,
   "metadata": {
    "ExecuteTime": {
     "end_time": "2021-07-10T20:00:37.694288Z",
     "start_time": "2021-07-10T20:00:37.682285Z"
    },
    "hidden": true
   },
   "outputs": [
    {
     "name": "stdout",
     "output_type": "stream",
     "text": [
      "'a': ['a', 'b'] \n",
      "'b': 1\n",
      "\n",
      "'a': ['a', 'b']\n",
      "'c': 2\n"
     ]
    }
   ],
   "source": [
    "t = (['a', 'b'], 1, 2)\n",
    "\n",
    "a, b, *_ = t\n",
    "print(\"'a': \" +str(a) + \" \\n'b': \" +str(b), end =\"\\n\\n\")\n",
    "\n",
    "a, *_, c = t\n",
    "print(\"'a': \" +str(a) + \"\\n'c': \" +str(c))"
   ]
  },
  {
   "cell_type": "markdown",
   "metadata": {
    "heading_collapsed": true
   },
   "source": [
    "## Передача аргументов (by assigment) и локальность"
   ]
  },
  {
   "cell_type": "markdown",
   "metadata": {
    "hidden": true
   },
   "source": [
    "Reference: [stackoverflow](https://stackoverflow.com/questions/986006/how-do-i-pass-a-variable-by-reference)"
   ]
  },
  {
   "cell_type": "markdown",
   "metadata": {
    "hidden": true
   },
   "source": [
    "In python arguments are passed **by assignment**. That means:    \n",
    "the parameter passed *as a reference to an object*, but *the reference is passed by value*.   \n",
    "\n",
    "So:\n",
    "\n",
    "- If you pass a *mutable object* into a method, the method gets a reference to that same object and you can mutate it to your heart's delight, but if you rebind the reference in the method, the outer scope will know nothing about it, and after you're done, the outer reference will still point at the original object.\n",
    "- If you pass an *immutable object* to a method, you still can't rebind the outer reference, and you can't even mutate the object."
   ]
  },
  {
   "cell_type": "markdown",
   "metadata": {
    "hidden": true
   },
   "source": [
    "Example of a **mutable** object"
   ]
  },
  {
   "cell_type": "code",
   "execution_count": 2,
   "metadata": {
    "ExecuteTime": {
     "end_time": "2021-06-24T19:19:00.798120Z",
     "start_time": "2021-06-24T19:19:00.792773Z"
    },
    "hidden": true
   },
   "outputs": [
    {
     "name": "stdout",
     "output_type": "stream",
     "text": [
      "before, outer_list = [1, 2, 3]\n",
      "got:  [1, 2, 3]\n",
      "changed to:  [1, 2, 3, 4]\n",
      "after, outer_list = [1, 2, 3, 4]\n"
     ]
    }
   ],
   "source": [
    "# после выхода из функции, ссылка по прежнему указывает на тот же объект\n",
    "def try_to_change_list_contents(the_list):\n",
    "    print('got: ', the_list)\n",
    "    the_list.append(4)\n",
    "    print('changed to: ', the_list)\n",
    "\n",
    "outer_list = [1, 2, 3]\n",
    "\n",
    "print('before, outer_list =', outer_list)\n",
    "try_to_change_list_contents(outer_list)\n",
    "print('after, outer_list =', outer_list)"
   ]
  },
  {
   "cell_type": "code",
   "execution_count": 4,
   "metadata": {
    "ExecuteTime": {
     "end_time": "2021-06-24T19:20:58.364189Z",
     "start_time": "2021-06-24T19:20:58.345373Z"
    },
    "hidden": true
   },
   "outputs": [
    {
     "name": "stdout",
     "output_type": "stream",
     "text": [
      "before, outer_list = [1, 2, 3]\n",
      "got:  [1, 2, 3]\n",
      "changed to:  ['and', 'we', 'can', 'not', 'lie']\n",
      "after, outer_list = [1, 2, 3]\n"
     ]
    }
   ],
   "source": [
    "# внути функции, мы переписали ссылку -> две ссылки и два отдельных объекта\n",
    "def try_to_change_list_contents(the_list):\n",
    "    print('got: ', the_list)\n",
    "    the_list = ['and', 'we', 'can', 'not', 'lie'] # теперь у нас 2 разных списка\n",
    "    print('changed to: ', the_list)\n",
    "\n",
    "outer_list = [1, 2, 3]\n",
    "\n",
    "print('before, outer_list =', outer_list)\n",
    "try_to_change_list_contents(outer_list)\n",
    "print('after, outer_list =', outer_list)"
   ]
  },
  {
   "cell_type": "markdown",
   "metadata": {
    "hidden": true
   },
   "source": [
    "Example of a **immutable** object"
   ]
  },
  {
   "cell_type": "code",
   "execution_count": 5,
   "metadata": {
    "ExecuteTime": {
     "end_time": "2021-06-24T19:21:50.498370Z",
     "start_time": "2021-06-24T19:21:50.490784Z"
    },
    "hidden": true
   },
   "outputs": [
    {
     "name": "stdout",
     "output_type": "stream",
     "text": [
      "before, outer_string = It was many and many a year ago\n",
      "got It was many and many a year ago\n",
      "set to In a kingdom by the sea\n",
      "after, outer_string = It was many and many a year ago\n"
     ]
    }
   ],
   "source": [
    "def try_to_change_string_reference(the_string):\n",
    "    print('got', the_string)\n",
    "    the_string = 'In a kingdom by the sea'\n",
    "    print('set to', the_string)\n",
    "\n",
    "outer_string = 'It was many and many a year ago'\n",
    "\n",
    "print('before, outer_string =', outer_string)\n",
    "try_to_change_string_reference(outer_string)\n",
    "print('after, outer_string =', outer_string)"
   ]
  },
  {
   "cell_type": "markdown",
   "metadata": {
    "hidden": true
   },
   "source": [
    "### Локальность"
   ]
  },
  {
   "cell_type": "code",
   "execution_count": 6,
   "metadata": {
    "ExecuteTime": {
     "end_time": "2021-06-24T19:25:28.807250Z",
     "start_time": "2021-06-24T19:25:28.731436Z"
    },
    "hidden": true
   },
   "outputs": [
    {
     "ename": "NameError",
     "evalue": "name 'the_list' is not defined",
     "output_type": "error",
     "traceback": [
      "\u001b[1;31m---------------------------------------------------------------------------\u001b[0m",
      "\u001b[1;31mNameError\u001b[0m                                 Traceback (most recent call last)",
      "\u001b[1;32m<ipython-input-6-a2c5dd40623f>\u001b[0m in \u001b[0;36m<module>\u001b[1;34m\u001b[0m\n\u001b[0;32m      5\u001b[0m     \u001b[0mthe_list\u001b[0m \u001b[1;33m=\u001b[0m \u001b[1;33m[\u001b[0m\u001b[1;34m'and'\u001b[0m\u001b[1;33m,\u001b[0m \u001b[1;34m'we'\u001b[0m\u001b[1;33m,\u001b[0m \u001b[1;34m'can'\u001b[0m\u001b[1;33m,\u001b[0m \u001b[1;34m'not'\u001b[0m\u001b[1;33m,\u001b[0m \u001b[1;34m'lie'\u001b[0m\u001b[1;33m]\u001b[0m\u001b[1;33m\u001b[0m\u001b[1;33m\u001b[0m\u001b[0m\n\u001b[0;32m      6\u001b[0m \u001b[1;33m\u001b[0m\u001b[0m\n\u001b[1;32m----> 7\u001b[1;33m \u001b[0mprint\u001b[0m\u001b[1;33m(\u001b[0m\u001b[0mthe_list\u001b[0m\u001b[1;33m)\u001b[0m\u001b[1;33m\u001b[0m\u001b[1;33m\u001b[0m\u001b[0m\n\u001b[0m",
      "\u001b[1;31mNameError\u001b[0m: name 'the_list' is not defined"
     ]
    }
   ],
   "source": [
    "# the_list создан внутри ф-ции -> это локальный объект. Вне ф-ции он не существует.\n",
    "def make_a_list():\n",
    "    the_list = ['and', 'we', 'can', 'not', 'lie']\n",
    "\n",
    "print(the_list)"
   ]
  },
  {
   "cell_type": "code",
   "execution_count": 11,
   "metadata": {
    "ExecuteTime": {
     "end_time": "2021-06-24T19:30:25.548541Z",
     "start_time": "2021-06-24T19:30:25.541527Z"
    },
    "hidden": true
   },
   "outputs": [
    {
     "name": "stdout",
     "output_type": "stream",
     "text": [
      "['and', 'we', 'can', 'not', 'lie', 'aaaaa']\n"
     ]
    }
   ],
   "source": [
    "# the_list создан вну ф-ции -> это глобальный объект, переданный по ссылке в ф-цию.\n",
    "# Изменение объекта сохраняется после выхода из ф-ции\n",
    "the_list = ['and', 'we', 'can', 'not', 'lie']\n",
    "def change_the_list(the_list):\n",
    "    the_list.append('aaaaa')\n",
    "    \n",
    "change_the_list(the_list)\n",
    "print(the_list)"
   ]
  },
  {
   "cell_type": "code",
   "execution_count": 12,
   "metadata": {
    "ExecuteTime": {
     "end_time": "2021-06-24T19:31:19.057712Z",
     "start_time": "2021-06-24T19:31:19.053704Z"
    },
    "hidden": true
   },
   "outputs": [
    {
     "name": "stdout",
     "output_type": "stream",
     "text": [
      "['and', 'we', 'can', 'not', 'lie']\n"
     ]
    }
   ],
   "source": [
    "# the_list создан внутри ф-ции, но ссылка на него возвращена ф-цией\n",
    "def make_a_list():\n",
    "    the_list = ['and', 'we', 'can', 'not', 'lie'] \n",
    "    return the_list\n",
    "\n",
    "print(make_a_list())"
   ]
  },
  {
   "cell_type": "markdown",
   "metadata": {
    "heading_collapsed": true
   },
   "source": [
    "## Functions are objects"
   ]
  },
  {
   "cell_type": "markdown",
   "metadata": {
    "hidden": true
   },
   "source": [
    "**Функции - это полноценные объекты**. Это значит, что:\n",
    "- Функции можно передавать и возвращать в/из других ф-ций. \n",
    "- Ф-цию можно присвоить некоторой переменной и использовать ее для вызова этой ф-ции.  \n",
    "- Ф-ции можно определять внутри других ф-ций."
   ]
  },
  {
   "cell_type": "code",
   "execution_count": 1,
   "metadata": {
    "ExecuteTime": {
     "end_time": "2021-07-14T19:01:04.857563Z",
     "start_time": "2021-07-14T19:01:04.850568Z"
    },
    "hidden": true
   },
   "outputs": [
    {
     "name": "stdout",
     "output_type": "stream",
     "text": [
      "I'm Moana of Motunui!\n"
     ]
    }
   ],
   "source": [
    "def caller(func, params): # принимает и возвращает ф-цию\n",
    "    return func(*params)\n",
    "\n",
    "def printer(name, origin):\n",
    "    print('I\\'m {} of {}!'.format(name, origin))\n",
    "\n",
    "caller(printer, ['Moana', 'Motunui'])"
   ]
  },
  {
   "cell_type": "code",
   "execution_count": 17,
   "metadata": {
    "ExecuteTime": {
     "end_time": "2021-07-14T19:18:57.694469Z",
     "start_time": "2021-07-14T19:18:57.673469Z"
    },
    "hidden": true
   },
   "outputs": [
    {
     "name": "stdout",
     "output_type": "stream",
     "text": [
      "Ф-ция - это объект. Проверим это: <function getTalk.<locals>.shout at 0x000001F47D5E5288>\n",
      "Вызовем ф-цию (с дефолтным параметром): YES!\n",
      "Вызовем ф-цию напрямую (через 2 скобки): yes...\n",
      "На самом деле это ф-ция: shout\n"
     ]
    }
   ],
   "source": [
    "def getTalk(kind='shout'):\n",
    "    # We can define functions on the fly\n",
    "    def shout(word='yes'):\n",
    "        return word.upper() + '!'\n",
    "\n",
    "    def whisper(word='yes'):\n",
    "        return word.lower() + '...'\n",
    "\n",
    "    if kind == 'shout':\n",
    "        # We don’t use '()'. We are not calling the function;\n",
    "        # instead, we’re returning the function object\n",
    "        return shout  \n",
    "    else:\n",
    "        return whisper\n",
    "    \n",
    "talk = getTalk() # присвоим ф-цию новой переменной. \n",
    "                 # Важно, что тут ф-ция присвоена с дефолтным параметром т.е. (kind='shout')\n",
    "\n",
    "print(\"Ф-ция - это объект. Проверим это: {}\".format(talk))\n",
    "\n",
    "print(\"Вызовем ф-цию (с дефолтным параметром): {}\".format(talk()))\n",
    "print(\"Вызовем ф-цию напрямую (через 2 скобки): {}\".format(getTalk('whisper')()))\n",
    "\n",
    "# При этом переменная лишь ссылается на другую ф-цию (т.е. объект)\n",
    "print(\"На самом деле это ф-ция: {}\".format(talk.__name__))"
   ]
  },
  {
   "cell_type": "markdown",
   "metadata": {
    "heading_collapsed": true
   },
   "source": [
    "## map(), filtter() and functools.reduce()"
   ]
  },
  {
   "cell_type": "markdown",
   "metadata": {
    "hidden": true
   },
   "source": [
    "`map()` и `filtter()` - специальные ф-ции, которые принимают ф-цию и применяют ее к переданной последовательности. Возвращают последовательность результатов применения переданной ф-ции к каждому элементу последовательности."
   ]
  },
  {
   "cell_type": "markdown",
   "metadata": {
    "hidden": true
   },
   "source": [
    "### map()"
   ]
  },
  {
   "cell_type": "markdown",
   "metadata": {
    "hidden": true
   },
   "source": [
    "`map(funct, iterable)` - применяет `funct` к каждому элементу `iterable`. Возвращает итерабельный объект `map object`.\n",
    "- `funct` передается как объект (т.е. без вызова - `funct()`).\n",
    "- `list(map(funct, iterable))` - удобно перевести `map object` в один из более удобных итерабельных типов данных, например, list."
   ]
  },
  {
   "cell_type": "code",
   "execution_count": 18,
   "metadata": {
    "ExecuteTime": {
     "end_time": "2021-07-14T19:28:53.600637Z",
     "start_time": "2021-07-14T19:28:53.593642Z"
    },
    "hidden": true
   },
   "outputs": [
    {
     "name": "stdout",
     "output_type": "stream",
     "text": [
      "[0, 1, 4, 9, 16]\n"
     ]
    }
   ],
   "source": [
    "def squarify(a):\n",
    "    return a ** 2\n",
    "\n",
    "square_list = list(map(squarify, range(5))) \n",
    "print(square_list) "
   ]
  },
  {
   "cell_type": "markdown",
   "metadata": {
    "hidden": true
   },
   "source": [
    "В принципе, операция выше может быть реализована так:"
   ]
  },
  {
   "cell_type": "code",
   "execution_count": 19,
   "metadata": {
    "ExecuteTime": {
     "end_time": "2021-07-14T19:32:43.491976Z",
     "start_time": "2021-07-14T19:32:43.482982Z"
    },
    "hidden": true,
    "scrolled": true
   },
   "outputs": [
    {
     "name": "stdout",
     "output_type": "stream",
     "text": [
      "[0, 1, 4, 9, 16]\n"
     ]
    }
   ],
   "source": [
    "squared_list = []\n",
    "for number in range(5):\n",
    "    squared_list.append(squarify(number))\n",
    "\n",
    "print(squared_list)"
   ]
  },
  {
   "cell_type": "markdown",
   "metadata": {
    "hidden": true
   },
   "source": [
    "### filtter()"
   ]
  },
  {
   "cell_type": "markdown",
   "metadata": {
    "hidden": true
   },
   "source": [
    "`filtter(funct, iterable)` - позволяет фильтровать по какому-то предикату (`funct`) итерабельный объект. Она принимает на вход функцию-условие и сам итерабельный объект.применяет `funct` к каждому элементу `iterable`. Возвращает итерабельный объект `filter object `.\n",
    "- `funct` передается как объект (т.е. без вызова - `funct()`).\n",
    "- `list(filtter(funct, iterable))` - удобно перевести `filter object` в один из более удобных итерабельных типов данных, например, list."
   ]
  },
  {
   "cell_type": "code",
   "execution_count": 24,
   "metadata": {
    "ExecuteTime": {
     "end_time": "2021-07-14T19:37:52.801124Z",
     "start_time": "2021-07-14T19:37:52.795128Z"
    },
    "hidden": true
   },
   "outputs": [
    {
     "name": "stdout",
     "output_type": "stream",
     "text": [
      "[1, 2]\n",
      "<filter object at 0x000001F47D5CFB88>\n"
     ]
    }
   ],
   "source": [
    "def is_positive(a):\n",
    "    return a > 0\n",
    "\n",
    "print(list(filter(is_positive, range(-2, 3))))\n",
    "print(filter(is_positive, range(-2, 3)))"
   ]
  },
  {
   "cell_type": "markdown",
   "metadata": {
    "hidden": true
   },
   "source": [
    "То же самое, только с использованием **lambda** ф-ции:"
   ]
  },
  {
   "cell_type": "code",
   "execution_count": 25,
   "metadata": {
    "ExecuteTime": {
     "end_time": "2021-07-14T19:39:04.153080Z",
     "start_time": "2021-07-14T19:39:04.138093Z"
    },
    "hidden": true,
    "scrolled": true
   },
   "outputs": [
    {
     "data": {
      "text/plain": [
       "[1, 2]"
      ]
     },
     "execution_count": 25,
     "metadata": {},
     "output_type": "execute_result"
    }
   ],
   "source": [
    "list(filter(lambda x: x > 0, range(-2, 3)))"
   ]
  },
  {
   "cell_type": "markdown",
   "metadata": {
    "hidden": true
   },
   "source": [
    "### functools.reduce()"
   ]
  },
  {
   "cell_type": "markdown",
   "metadata": {
    "hidden": true
   },
   "source": [
    "**reduce(funct, list)** - делает последовательные попарные действия из lambda. Импортируется из библиотеки `functools`"
   ]
  },
  {
   "cell_type": "code",
   "execution_count": 15,
   "metadata": {
    "ExecuteTime": {
     "end_time": "2021-07-14T20:19:38.753473Z",
     "start_time": "2021-07-14T20:19:38.740466Z"
    },
    "hidden": true
   },
   "outputs": [
    {
     "name": "stdout",
     "output_type": "stream",
     "text": [
      "193\n"
     ]
    }
   ],
   "source": [
    "from functools import reduce\n",
    "\n",
    "li = [5, 8, 10, 20, 50, 100] \n",
    "sum = reduce((lambda x, y: x + y), li) \n",
    "print (sum) \n",
    "\n",
    "#Попарное сложение: (((((5+8)+10)+20)+50)+100)"
   ]
  },
  {
   "cell_type": "code",
   "execution_count": 16,
   "metadata": {
    "ExecuteTime": {
     "end_time": "2021-07-14T20:19:40.180592Z",
     "start_time": "2021-07-14T20:19:40.174610Z"
    },
    "hidden": true
   },
   "outputs": [
    {
     "name": "stdout",
     "output_type": "stream",
     "text": [
      "15625\n"
     ]
    }
   ],
   "source": [
    "from functools import reduce\n",
    "\n",
    "li = [5, 2, 3] \n",
    "sum = reduce((lambda x, y: x**y), li) \n",
    "print (sum) \n",
    "\n",
    "# (5**2)**3"
   ]
  },
  {
   "cell_type": "markdown",
   "metadata": {
    "heading_collapsed": true
   },
   "source": [
    "## Yield"
   ]
  },
  {
   "cell_type": "markdown",
   "metadata": {
    "hidden": true
   },
   "source": [
    "**yield** is a generator. Generator is a iterable object that can be run *once* (it's never stored in the memory).  \n",
    "Yield работает так же как и return, но при return функция возвращает значение и обрывается. В yield, функция вернет и продолжит код внутри функции до ее конца. Так если yield в loop, то он будет гоняться пока не дойдет то терминации loop. При этом yield возвращает генератор:"
   ]
  },
  {
   "cell_type": "code",
   "execution_count": 39,
   "metadata": {
    "ExecuteTime": {
     "end_time": "2019-03-20T01:39:39.328030Z",
     "start_time": "2019-03-20T01:39:39.325014Z"
    },
    "hidden": true
   },
   "outputs": [],
   "source": [
    " def exmpl(n):\n",
    "        indx = 0\n",
    "        while indx < n:\n",
    "            if indx%2 == 0:\n",
    "                yield str(indx) + 'vaaasya'\n",
    "            indx += 1"
   ]
  },
  {
   "cell_type": "code",
   "execution_count": 43,
   "metadata": {
    "ExecuteTime": {
     "end_time": "2019-03-20T01:40:47.392074Z",
     "start_time": "2019-03-20T01:40:47.388095Z"
    },
    "hidden": true
   },
   "outputs": [
    {
     "name": "stdout",
     "output_type": "stream",
     "text": [
      "<generator object exmpl at 0x0000023E56B869A8> \n",
      "\n",
      "0vaaasya 2vaaasya 4vaaasya 6vaaasya 8vaaasya "
     ]
    }
   ],
   "source": [
    "gg=exmpl(10)\n",
    "print(gg, '\\n')\n",
    "for i in gg:\n",
    "    print(i, end = ' ')\n",
    "#это генератор, поэтому второй раз не проитерируется\n",
    "for i in gg:\n",
    "    print(i, end = ',')"
   ]
  },
  {
   "cell_type": "markdown",
   "metadata": {
    "hidden": true
   },
   "source": [
    "*Генератор* - это как list, но вывести его можно только с помощью **Iterators** и один раз"
   ]
  },
  {
   "cell_type": "markdown",
   "metadata": {},
   "source": [
    "## lambda (Anonymous Functions)"
   ]
  },
  {
   "cell_type": "markdown",
   "metadata": {},
   "source": [
    "`lambda arguments: expression`  \n",
    "This function can have any number of arguments but only one expression, which is evaluated and returned."
   ]
  },
  {
   "cell_type": "code",
   "execution_count": 5,
   "metadata": {
    "ExecuteTime": {
     "end_time": "2019-06-20T20:06:13.857808Z",
     "start_time": "2019-06-20T20:06:13.851808Z"
    },
    "scrolled": true
   },
   "outputs": [
    {
     "name": "stdout",
     "output_type": "stream",
     "text": [
      "75\n"
     ]
    }
   ],
   "source": [
    "g = lambda x, y, z: x*y*z \n",
    "print(g(5, 3, 5)) "
   ]
  },
  {
   "cell_type": "markdown",
   "metadata": {},
   "source": [
    "# Функторы и замыкания ф-ций"
   ]
  },
  {
   "cell_type": "markdown",
   "metadata": {},
   "source": [
    "**Функторы** – это объекты классов, которые можно выполнять как функции.     \n",
    "\n",
    "Порядок срабатывания ф-ций при использовании `()`:\n",
    "1. При инициализации вызывается `__init__`.\n",
    "2. При использовании `()` вызывается `__call__`."
   ]
  },
  {
   "cell_type": "markdown",
   "metadata": {},
   "source": [
    "Ниже приведен пример функтора, который обрезает символы указанные при инициализации:"
   ]
  },
  {
   "cell_type": "code",
   "execution_count": 1,
   "metadata": {
    "ExecuteTime": {
     "end_time": "2021-09-10T19:03:16.048429Z",
     "start_time": "2021-09-10T19:03:16.041430Z"
    }
   },
   "outputs": [],
   "source": [
    "class StripChars:\n",
    "    def __init__(self, chars):\n",
    "        self.__chars = chars\n",
    " \n",
    "    def __call__(self, *args, **kwargs):\n",
    "        if not isinstance(args[0], str):\n",
    "            raise ValueError(\"Аргумент должен быть строкой\")\n",
    " \n",
    "        return args[0].strip(self.__chars)"
   ]
  },
  {
   "cell_type": "code",
   "execution_count": 3,
   "metadata": {
    "ExecuteTime": {
     "end_time": "2021-09-10T19:10:33.567825Z",
     "start_time": "2021-09-10T19:10:33.551840Z"
    }
   },
   "outputs": [
    {
     "name": "stdout",
     "output_type": "stream",
     "text": [
      "Hello World\n"
     ]
    }
   ],
   "source": [
    "s1 = StripChars(\"?:!.; \") # вызывается __init__ \n",
    "print( s1(\" Hello World! \") ) #вызывается __call__"
   ]
  },
  {
   "cell_type": "markdown",
   "metadata": {},
   "source": [
    "**Замыкание ф-ции** - создание ф-ции, внутри которой создается еще одна ф-ция. Внешняя ф-ция возвращает ссылку на внутренюю.\n",
    "\n",
    "Ниже пример замкнутой ф-ции, делающей то же самое, что и функтор выше:"
   ]
  },
  {
   "cell_type": "code",
   "execution_count": 4,
   "metadata": {
    "ExecuteTime": {
     "end_time": "2021-09-10T19:15:31.449171Z",
     "start_time": "2021-09-10T19:15:31.439196Z"
    }
   },
   "outputs": [],
   "source": [
    "def StripChars(chars):\n",
    "    def stringStrip(string):\n",
    "        if not isinstance(string, str):\n",
    "            raise ValueError(\"Аргумент должен быть строкой\")\n",
    " \n",
    "        return string.strip(chars)\n",
    "    return stringStrip"
   ]
  },
  {
   "cell_type": "code",
   "execution_count": 5,
   "metadata": {
    "ExecuteTime": {
     "end_time": "2021-09-10T19:15:42.036532Z",
     "start_time": "2021-09-10T19:15:42.027537Z"
    }
   },
   "outputs": [
    {
     "name": "stdout",
     "output_type": "stream",
     "text": [
      "Hello World\n"
     ]
    }
   ],
   "source": [
    "s1 = StripChars(\"?:!.; \") # возвращается stringStrip т.е. s1 = stringStrip\n",
    "print( s1(\" Hello World! \") ) #вызывется stringStrip(\" Hello World! \") т.к. s1 = stringStrip"
   ]
  }
 ],
 "metadata": {
  "kernelspec": {
   "display_name": "Python 3",
   "language": "python",
   "name": "python3"
  },
  "language_info": {
   "codemirror_mode": {
    "name": "ipython",
    "version": 3
   },
   "file_extension": ".py",
   "mimetype": "text/x-python",
   "name": "python",
   "nbconvert_exporter": "python",
   "pygments_lexer": "ipython3",
   "version": "3.7.6"
  },
  "toc": {
   "base_numbering": 1,
   "nav_menu": {},
   "number_sections": true,
   "sideBar": true,
   "skip_h1_title": false,
   "title_cell": "Table of Contents",
   "title_sidebar": "Contents",
   "toc_cell": false,
   "toc_position": {},
   "toc_section_display": true,
   "toc_window_display": false
  }
 },
 "nbformat": 4,
 "nbformat_minor": 4
}
