{
 "cells": [
  {
   "cell_type": "markdown",
   "metadata": {
    "heading_collapsed": true
   },
   "source": [
    "# Числа\n",
    "- Scalar types\n",
    "- Виды стандартные: bool, flat, complex, n-ичные системы\\\n",
    "- Виды пакетов: decimal, fraction\n",
    "- Пакеты math, random\n",
    "- Формат вывода числа"
   ]
  },
  {
   "cell_type": "markdown",
   "metadata": {
    "hidden": true
   },
   "source": [
    "**Scalar type** т.е. неизменяемый  \n",
    "На основе числового типа реализованы:\n",
    "1.\tВ стандартной библиотеке: \n",
    "    - логика (**bool**)\n",
    "    - вещественные (**float**) ((#).as_integer_ratio()-метод float, возвращ. fraction)\n",
    "    - комплексные (**complex**) (#+#j or complex(re, im))\n",
    "    - 2(0b# or 0B#)-, 6-, 8(0o# or 0O#)-, 16(0x# or 0X#)-ичыне системы исчисл. (0x-приставка #-число). int(#, base)  \n",
    "\n",
    "\n",
    "2.\tВ добавочных пакетах:\n",
    "    - Decimal (с фикс. точностью: в тч помогает не потерять n-тое число после запятой)\n",
    "    - fraction(#1, #2) – рацион. Дробь*  \n",
    "\n",
    "*В python 2.X и 3.X сильно отличается деление / (в 2.Х: “классическое” - результата усекается при делении целых чисел (math.floor) и сохраняется при делении вещественных чисел). В 3.x результатом  любого деления (даже int/int) является float\n",
    "\n",
    "---\n",
    "Фичи:\n",
    "- 1e-5 – возможность юзать e-# формат\n",
    "- Числа игнорируют нижн. подчерк. ( _ ) -> используется для читаемости чисел:"
   ]
  },
  {
   "cell_type": "code",
   "execution_count": 1,
   "metadata": {
    "hidden": true
   },
   "outputs": [
    {
     "name": "stdout",
     "output_type": "stream",
     "text": [
      "100000.000001\n"
     ]
    }
   ],
   "source": [
    "num = 100_000.000_001\n",
    "print(num)"
   ]
  },
  {
   "cell_type": "markdown",
   "metadata": {
    "hidden": true
   },
   "source": [
    "`min()`, `max()`, `sum()` – функции для чисел, list, set, tuple. Т.е. везде, где они имеют смысл, и тип позволяет сортировку"
   ]
  },
  {
   "cell_type": "markdown",
   "metadata": {
    "hidden": true
   },
   "source": [
    "## Логика\n",
    "- Для чисел исп. стандартные знаки: `=`, `!=`, `>`, `<` , `&`, `||`\n",
    "- Для строк: `not`, `and`, `or`. Наверно потому, что так красиво"
   ]
  },
  {
   "cell_type": "markdown",
   "metadata": {
    "hidden": true
   },
   "source": [
    "## Import math\n",
    "- `math.floor(#)` – округляет вниз\n",
    "- `math.trunc(#)` – отбрасывают дробную часть. Так же делает int(#)\n",
    "- `math.pi, math.e` – спец знаки и функции\n"
   ]
  },
  {
   "cell_type": "markdown",
   "metadata": {
    "hidden": true
   },
   "source": [
    "\n",
    "- `round(#)` – Является встроенной функцией (не нужен `import math`). C 3.Х нормальное округление, но есть проблемы с float (см lect 7)\n"
   ]
  },
  {
   "cell_type": "code",
   "execution_count": 4,
   "metadata": {
    "ExecuteTime": {
     "end_time": "2019-02-19T01:39:32.021039Z",
     "start_time": "2019-02-19T01:39:32.016041Z"
    },
    "hidden": true
   },
   "outputs": [
    {
     "name": "stdout",
     "output_type": "stream",
     "text": [
      "2.67\n",
      "2.67\n",
      "2.68\n"
     ]
    }
   ],
   "source": [
    "print(round(2.665, 2))\n",
    "# cannot be represented exactly as float\n",
    "print(round(2.675, 2))\n",
    "print(round(2.676, 2))"
   ]
  },
  {
   "cell_type": "markdown",
   "metadata": {
    "hidden": true
   },
   "source": [
    "## Import random   "
   ]
  },
  {
   "cell_type": "markdown",
   "metadata": {
    "hidden": true
   },
   "source": [
    "`random.random()` – случайное число от 0 до 1  \n",
    "`random.randint(1, 10)` - The function randint() returns an integer in the range you provide   \n",
    "`random.choice(lsit)` - Generates a random sample from a given 1-D array"
   ]
  },
  {
   "cell_type": "markdown",
   "metadata": {
    "hidden": true
   },
   "source": [
    "## Format  \n",
    "`n='%.2f' % (#)` – округление до 2го значка после запятой. Возвращает строковый тип. Т.е. вполне базовая подстановка `'%.x' % (#)`"
   ]
  },
  {
   "cell_type": "code",
   "execution_count": 2,
   "metadata": {
    "hidden": true
   },
   "outputs": [
    {
     "name": "stdout",
     "output_type": "stream",
     "text": [
      "0.667\n"
     ]
    }
   ],
   "source": [
    "a = 2 / 3\n",
    "print(f\"{a:.3f}\")"
   ]
  },
  {
   "cell_type": "code",
   "execution_count": 3,
   "metadata": {
    "hidden": true
   },
   "outputs": [
    {
     "data": {
      "text/plain": [
       "'0.26'"
      ]
     },
     "execution_count": 3,
     "metadata": {},
     "output_type": "execute_result"
    }
   ],
   "source": [
    "'%.2f' % (6/23)"
   ]
  },
  {
   "cell_type": "code",
   "execution_count": 3,
   "metadata": {
    "hidden": true
   },
   "outputs": [
    {
     "data": {
      "text/plain": [
       "0.26"
      ]
     },
     "execution_count": 3,
     "metadata": {},
     "output_type": "execute_result"
    }
   ],
   "source": [
    "float('%.2f' % (6/23))"
   ]
  },
  {
   "cell_type": "markdown",
   "metadata": {
    "hidden": true
   },
   "source": [
    "## float"
   ]
  },
  {
   "cell_type": "code",
   "execution_count": 5,
   "metadata": {
    "ExecuteTime": {
     "end_time": "2019-02-20T03:16:51.823860Z",
     "start_time": "2019-02-20T03:16:51.818881Z"
    },
    "hidden": true
   },
   "outputs": [
    {
     "name": "stdout",
     "output_type": "stream",
     "text": [
      "Help on wrapper_descriptor:\n",
      "\n",
      "__gt__(self, value, /)\n",
      "    Return self>value.\n",
      "\n"
     ]
    },
    {
     "data": {
      "text/plain": [
       "True"
      ]
     },
     "execution_count": 5,
     "metadata": {},
     "output_type": "execute_result"
    }
   ],
   "source": [
    "help(float.__gt__) # сравнивает с value, return bool\n",
    "19.2.__gt__(9)"
   ]
  },
  {
   "cell_type": "markdown",
   "metadata": {
    "heading_collapsed": true
   },
   "source": [
    "# Строки\n",
    "- Scalar type\n",
    "- Отображение символов \n",
    "- Длинные строки\n",
    "- Строки как итерируемые объекты: cрезы и `in`\n",
    "- Форматирование (3 способа)\n",
    "- Методы\n",
    "- Размер строки"
   ]
  },
  {
   "cell_type": "markdown",
   "metadata": {
    "hidden": true
   },
   "source": [
    "**Scalar type** - т.е. неизменяемый.\n",
    "Итерируемый тип данных. По сути символьный array, имеет индексы и тд.   \n",
    "Типа char тут нет: `a` - это str."
   ]
  },
  {
   "cell_type": "code",
   "execution_count": 109,
   "metadata": {
    "hidden": true
   },
   "outputs": [
    {
     "name": "stdout",
     "output_type": "stream",
     "text": [
      "a\n"
     ]
    }
   ],
   "source": [
    "i = 'asasd'\n",
    "print(i[0])\n",
    "#i[0] = '1'      т.к. scalar type -  поэтому операция нелегальна"
   ]
  },
  {
   "cell_type": "markdown",
   "metadata": {
    "hidden": true
   },
   "source": [
    "## Символы"
   ]
  },
  {
   "cell_type": "code",
   "execution_count": 12,
   "metadata": {
    "hidden": true
   },
   "outputs": [
    {
     "data": {
      "text/plain": [
       "'\"Python\" на \\\\Coursera\\\\'"
      ]
     },
     "execution_count": 12,
     "metadata": {},
     "output_type": "execute_result"
    }
   ],
   "source": [
    "\"\\\"Python\\\" на \\\\Coursera\\\\\"  # В 3.x cимволы в строке пишутся через \\"
   ]
  },
  {
   "cell_type": "code",
   "execution_count": 13,
   "metadata": {
    "hidden": true
   },
   "outputs": [
    {
     "data": {
      "text/plain": [
       "'Файл на диске c:\\\\\\\\'"
      ]
     },
     "execution_count": 13,
     "metadata": {},
     "output_type": "execute_result"
    }
   ],
   "source": [
    "r\"Файл на диске c:\\\\\"  # Сырые строки через r\"...\""
   ]
  },
  {
   "cell_type": "markdown",
   "metadata": {
    "hidden": true
   },
   "source": [
    "*Что-то странное тут с \\ "
   ]
  },
  {
   "cell_type": "markdown",
   "metadata": {
    "hidden": true
   },
   "source": [
    "## Длинные строки"
   ]
  },
  {
   "cell_type": "code",
   "execution_count": 6,
   "metadata": {
    "ExecuteTime": {
     "end_time": "2021-07-06T12:56:12.793025Z",
     "start_time": "2021-07-06T12:56:12.774034Z"
    },
    "hidden": true
   },
   "outputs": [
    {
     "name": "stdout",
     "output_type": "stream",
     "text": [
      "Perl — это тот язык, который одинаково выглядит как до, так и после RSA шифрования.\n"
     ]
    }
   ],
   "source": [
    "a = \"Perl — это тот язык, который одинаково \\\n",
    "выглядит как до, так и после RSA шифрования.\" \n",
    "print(a)   \n"
   ]
  },
  {
   "cell_type": "code",
   "execution_count": 25,
   "metadata": {
    "hidden": true
   },
   "outputs": [
    {
     "name": "stdout",
     "output_type": "stream",
     "text": [
      "Perl — это тот язык, который одинаково выглядит как до, так и после RSA шифрования.\n"
     ]
    }
   ],
   "source": [
    "example =\"\"\"Есть всего два типа языков программирования: те, на которые \n",
    "       люди всё время ругаются, и те, которые никто не использует.\"\"\"\n",
    "print(a) # второй способ, через \"\"\"...\"\"\". При этом, нет проблем с pep8"
   ]
  },
  {
   "cell_type": "markdown",
   "metadata": {
    "hidden": true
   },
   "source": [
    "## Строки как итерируемые объекты: cрезы и `in`"
   ]
  },
  {
   "cell_type": "markdown",
   "metadata": {
    "hidden": true
   },
   "source": [
    "**Срезы**\n",
    "- Применяются для любых итерируемых объектов\n",
    "- `example[start:stop:step]` \n",
    "- Если шаг попущен: [1:10] то он по стандарту 1. Если опушен start или stop: [:10] or [2:] то начало или конец массива."
   ]
  },
  {
   "cell_type": "code",
   "execution_count": 28,
   "metadata": {
    "hidden": true
   },
   "outputs": [
    {
     "name": "stdout",
     "output_type": "stream",
     "text": [
      "оскв\n",
      "авксоМ\n"
     ]
    }
   ],
   "source": [
    "example_string = \"Москва\" \n",
    "print(example_string[1:5])\n",
    "print(example_string[::-1])"
   ]
  },
  {
   "cell_type": "markdown",
   "metadata": {
    "hidden": true
   },
   "source": [
    "**in**\n",
    "- Применяются для любых итерируемых объектов\n",
    "- `'a' in 'str'` - проверяет наличие 'a' в строке 'str' и выдает True or False"
   ]
  },
  {
   "cell_type": "code",
   "execution_count": 1,
   "metadata": {
    "ExecuteTime": {
     "end_time": "2019-03-27T02:19:55.609409Z",
     "start_time": "2019-03-27T02:19:55.575969Z"
    },
    "hidden": true
   },
   "outputs": [
    {
     "name": "stdout",
     "output_type": "stream",
     "text": [
      "True\n",
      "False\n",
      "True\n"
     ]
    }
   ],
   "source": [
    "print('o' in 'Moscow')\n",
    "print('a' in 'Moscow')\n",
    "print('ever' in 'Moscow never sleep')"
   ]
  },
  {
   "cell_type": "markdown",
   "metadata": {
    "hidden": true
   },
   "source": [
    "## Форматирование"
   ]
  },
  {
   "cell_type": "markdown",
   "metadata": {
    "hidden": true
   },
   "source": [
    "**Первый способ:** `\"%s\"` ->  `%(\"...\")`"
   ]
  },
  {
   "cell_type": "code",
   "execution_count": 5,
   "metadata": {
    "hidden": true
   },
   "outputs": [
    {
     "data": {
      "text/plain": [
       "'Лень — главное достоинство программиста. (Larry Wall)'"
      ]
     },
     "execution_count": 5,
     "metadata": {},
     "output_type": "execute_result"
    }
   ],
   "source": [
    "template = \"%s — главное достоинство программиста. (%s)\"\n",
    "template % (\"Лень\", \"Larry Wall\")"
   ]
  },
  {
   "cell_type": "markdown",
   "metadata": {
    "hidden": true
   },
   "source": [
    "**Второй способ:** `str.format()`"
   ]
  },
  {
   "cell_type": "code",
   "execution_count": 7,
   "metadata": {
    "hidden": true
   },
   "outputs": [
    {
     "data": {
      "text/plain": [
       "'Цифры не лгут, но лжецы пользуются формулами. (Robert A. Heinlein)'"
      ]
     },
     "execution_count": 7,
     "metadata": {},
     "output_type": "execute_result"
    }
   ],
   "source": [
    "\"{} не лгут, но {} пользуются формулами. ({})\".format(\"Цифры\", \"лжецы\", \"Robert A. Heinlein\")"
   ]
  },
  {
   "cell_type": "markdown",
   "metadata": {
    "hidden": true
   },
   "source": [
    "**Третий способ:** f строки (версии > 3.6)"
   ]
  },
  {
   "cell_type": "code",
   "execution_count": 8,
   "metadata": {
    "hidden": true
   },
   "outputs": [
    {
     "data": {
      "text/plain": [
       "'Преждевременная оптимизация — корень всех зол. (Donald Knuth)'"
      ]
     },
     "execution_count": 8,
     "metadata": {},
     "output_type": "execute_result"
    }
   ],
   "source": [
    "subject = \"оптимизация\"\n",
    "author = \"Donald Knuth\"\n",
    "f\"Преждевременная {subject} — корень всех зол. ({author})\""
   ]
  },
  {
   "cell_type": "markdown",
   "metadata": {
    "hidden": true
   },
   "source": [
    "**Модификаторы форматирования**: специальная конструкция форматированных строк. Формат записи `f\"...{}..`, где в кавычках указывается любой объект или выражение. "
   ]
  },
  {
   "cell_type": "code",
   "execution_count": 5,
   "metadata": {
    "ExecuteTime": {
     "end_time": "2021-07-06T12:38:00.919667Z",
     "start_time": "2021-07-06T12:38:00.906660Z"
    },
    "hidden": true
   },
   "outputs": [
    {
     "name": "stdout",
     "output_type": "stream",
     "text": [
      "Binary: 0b1000\n",
      "0.6666666666666666\n",
      "0.667\n",
      "Вычестим число прямо в строке  1.5\n",
      "Привет, Вася!\n"
     ]
    }
   ],
   "source": [
    "# Двоичная запись\n",
    "num = 8\n",
    "print(f\"Binary: {num:#b}\") # число будет выводиться в двоичном представлении\n",
    "\n",
    "# Форматирование вывода до определнного знака\n",
    "num = 2 / 3\n",
    "print(num)\n",
    "print(f\"{num:.3f}\") # выводим число с точностью до 3-го знака\n",
    "\n",
    "# Вычисление выражения прямо в строке\n",
    "print(f\"Вычестим число прямо в строке {3/2: .1f}\")\n",
    "\n",
    "# Вставляем строковый объект (а вообще можно вставить любой объект)\n",
    "name = \"Вася\"\n",
    "print(f\"Привет, {name}!\")"
   ]
  },
  {
   "cell_type": "markdown",
   "metadata": {
    "hidden": true
   },
   "source": [
    "## Методы (некторые)"
   ]
  },
  {
   "cell_type": "code",
   "execution_count": 9,
   "metadata": {
    "hidden": true
   },
   "outputs": [
    {
     "data": {
      "text/plain": [
       "False"
      ]
     },
     "execution_count": 9,
     "metadata": {},
     "output_type": "execute_result"
    }
   ],
   "source": [
    "\"Example\".isdigit() # метод возвращает 1 если строка состоит из цифр(полностью), 0 если нет"
   ]
  },
  {
   "cell_type": "code",
   "execution_count": 12,
   "metadata": {
    "hidden": true
   },
   "outputs": [
    {
     "name": "stdout",
     "output_type": "stream",
     "text": [
      "EXAMPLE\n",
      "example\n",
      "Example\n",
      "Example\n"
     ]
    }
   ],
   "source": [
    "print(\"ExAmPlE\".upper())  \n",
    "print(\"ExAmPlE\".lower())\n",
    "print(\"ExAmPlE\".capitalize())\n",
    "print(\"ExAmPlE\".title()) "
   ]
  },
  {
   "cell_type": "code",
   "execution_count": 14,
   "metadata": {
    "hidden": true
   },
   "outputs": [
    {
     "data": {
      "text/plain": [
       "1"
      ]
     },
     "execution_count": 14,
     "metadata": {},
     "output_type": "execute_result"
    }
   ],
   "source": [
    "\"Example\".count('a') #считает количество 'a' в строке"
   ]
  },
  {
   "cell_type": "code",
   "execution_count": 16,
   "metadata": {
    "hidden": true
   },
   "outputs": [
    {
     "data": {
      "text/plain": [
       "2"
      ]
     },
     "execution_count": 16,
     "metadata": {},
     "output_type": "execute_result"
    }
   ],
   "source": [
    "\"Example\".find('a') #ищет 'a' в строке и возвращает индекс. Можно 'aaa' (т.к. 'a' - str и 'aaa' - str)"
   ]
  },
  {
   "cell_type": "code",
   "execution_count": 3,
   "metadata": {
    "ExecuteTime": {
     "end_time": "2019-03-19T01:15:05.676343Z",
     "start_time": "2019-03-19T01:15:05.668351Z"
    },
    "hidden": true
   },
   "outputs": [
    {
     "data": {
      "text/plain": [
       "2"
      ]
     },
     "execution_count": 3,
     "metadata": {},
     "output_type": "execute_result"
    }
   ],
   "source": [
    "\"Example odcs aaaa\".index('a')    #индекс первого совпадения с подстракой"
   ]
  },
  {
   "cell_type": "code",
   "execution_count": 5,
   "metadata": {
    "ExecuteTime": {
     "end_time": "2019-03-19T01:16:11.252000Z",
     "start_time": "2019-03-19T01:16:11.247989Z"
    },
    "hidden": true
   },
   "outputs": [
    {
     "data": {
      "text/plain": [
       "16"
      ]
     },
     "execution_count": 5,
     "metadata": {},
     "output_type": "execute_result"
    }
   ],
   "source": [
    "\"Example odcs aaaa\".rindex('a')  #индекс последнего совпадения с подстракой"
   ]
  },
  {
   "cell_type": "code",
   "execution_count": 114,
   "metadata": {
    "hidden": true
   },
   "outputs": [
    {
     "name": "stdout",
     "output_type": "stream",
     "text": [
      "XxamplX\n",
      "Xxample\n"
     ]
    }
   ],
   "source": [
    "print(\"example\".replace('e', 'X'))\n",
    "print(\"example\".replace('e', 'X', 1))   # replace(old_str1, new_str2, #of changes))"
   ]
  },
  {
   "cell_type": "code",
   "execution_count": 50,
   "metadata": {
    "ExecuteTime": {
     "end_time": "2019-02-21T04:51:18.909853Z",
     "start_time": "2019-02-21T04:51:18.904858Z"
    },
    "hidden": true
   },
   "outputs": [
    {
     "name": "stdout",
     "output_type": "stream",
     "text": [
      "Examp le\n",
      "  Examp le\n",
      "Examp le   \n"
     ]
    }
   ],
   "source": [
    "print(\"  Examp le !!  \".strip(\" !@#$%^&*()-_+={}[]|\\:;'<>?,./\\\"\")) # уберет перчисленые знаки с обеих сторон, пробел по дефолту\n",
    "print(\"  Examp le   \".rstrip()) # уберет пробелы справа\n",
    "print(\"  Examp le   \".lstrip()) # и слева"
   ]
  },
  {
   "cell_type": "code",
   "execution_count": 44,
   "metadata": {
    "ExecuteTime": {
     "end_time": "2019-02-21T02:44:15.580282Z",
     "start_time": "2019-02-21T02:44:15.576283Z"
    },
    "hidden": true
   },
   "outputs": [
    {
     "name": "stdout",
     "output_type": "stream",
     "text": [
      "I really like cats\n",
      "I---really---like---dogs\n"
     ]
    }
   ],
   "source": [
    "print(\"I really like dogs\".replace('dog', 'cat')) # меняет str1, на str2\n",
    "print(\"I really like dogs\".replace(' ', '---'))"
   ]
  },
  {
   "cell_type": "code",
   "execution_count": 48,
   "metadata": {
    "ExecuteTime": {
     "end_time": "2019-02-21T02:56:43.369931Z",
     "start_time": "2019-02-21T02:56:43.366929Z"
    },
    "hidden": true
   },
   "outputs": [
    {
     "name": "stdout",
     "output_type": "stream",
     "text": [
      "<class 'list'>\n",
      "['I', 'really', 'like']\n"
     ]
    }
   ],
   "source": [
    "new_list = \"I really like dogs\".split()  # возвращает лист из слов разделенных пробелом\n",
    "print(type(new_list), new_list[0:3], sep = '\\n')"
   ]
  },
  {
   "cell_type": "markdown",
   "metadata": {
    "hidden": true
   },
   "source": [
    "## Размер"
   ]
  },
  {
   "cell_type": "code",
   "execution_count": 31,
   "metadata": {
    "hidden": true
   },
   "outputs": [
    {
     "data": {
      "text/plain": [
       "29"
      ]
     },
     "execution_count": 31,
     "metadata": {},
     "output_type": "execute_result"
    }
   ],
   "source": [
    " sys.getsizeof('Vlad')   # bytes"
   ]
  },
  {
   "cell_type": "markdown",
   "metadata": {},
   "source": [
    "# list (Списки)\n",
    "- Спискок(list) - это массив, который хранит объекты любого типа\n",
    "- Инициалиазация нового списка\n",
    "- Выход за границы списка\n",
    "- Конкатенация и умножение\n",
    "- Срезы (slice)\n",
    "- Структура списков\n",
    "- Генератор списков (List comprehensions)\n",
    "- Методы для работы с списками"
   ]
  },
  {
   "cell_type": "markdown",
   "metadata": {},
   "source": [
    "**Списки(list)**: массив, который хранит объекты любого типа (даже другой list).\n",
    "1. Для него важен порядок: т.е. элементы индексируются\n",
    "2. Сам list изменяем (напр., его элементы переписываются: n[1]=n[1]+2). По сути это список адресов объектов . Поэтому изменяя элемент, мы просто присуждаем данному элемету list[i] адрес нового объекта.  \n",
    "\n",
    "Нужен для: для хранения элементов, объединенных каким-либо признаком (один признак != один тип). В случае, если изменение элементов и/или расширение списка не предполагается, следует использовать неизменяемый аналог - tuple. Если не важна последовательность -  set.  \n",
    "\n",
    "--- \n",
    "\n",
    "Фичи:\n",
    "1. Отсчет идет от 0\n",
    "2. Итерабельны:\n",
    "    - Вызов элемента с минусом(-) = отсчет с конца: `list[-1]` – вызовет последний элемент.\n",
    "    - `For i in list[start:stop:step]`: - slicing in for \n",
    "    - Новое присвоение идет через срезы: `new_list=old_list[:]` – тогда получим 2 независимых списка. Если: `new_list=old_list` -то они указывают на 1 список.\n",
    "    - Так же работает оператор `in`\n",
    "    - Чтобы получить список только из уникальных объектов, надо сначала перевести в set, а потом назад в list: `unique_list = list(set(not_unique_list))`"
   ]
  },
  {
   "cell_type": "markdown",
   "metadata": {
    "heading_collapsed": true
   },
   "source": [
    "## Инициализация нового списка"
   ]
  },
  {
   "cell_type": "code",
   "execution_count": 26,
   "metadata": {
    "ExecuteTime": {
     "end_time": "2021-07-10T17:38:40.260482Z",
     "start_time": "2021-07-10T17:38:40.247500Z"
    },
    "hidden": true
   },
   "outputs": [],
   "source": [
    "my_list = [] # Создание пустого списка с помощью литерала списка\n",
    "my_list = list() # Создание пустого списка с помощью встроенной функции\n",
    "my_list = [1,2,['a','b'],4,5] # Инициализация списка"
   ]
  },
  {
   "cell_type": "code",
   "execution_count": 28,
   "metadata": {
    "ExecuteTime": {
     "end_time": "2021-07-10T17:39:24.827064Z",
     "start_time": "2021-07-10T17:39:24.822056Z"
    },
    "hidden": true
   },
   "outputs": [],
   "source": [
    "# или с помощью среза\n",
    "my_list = [1,2,['a','b'],4,5] # Инициализация списка\n",
    "new_list = my_list[:] # создается новый независимый список"
   ]
  },
  {
   "cell_type": "markdown",
   "metadata": {
    "heading_collapsed": true
   },
   "source": [
    "## Выход за границы списка"
   ]
  },
  {
   "cell_type": "markdown",
   "metadata": {
    "hidden": true
   },
   "source": [
    "Чтобы \"завернуть\" список по-кругу (те выйдя за его границы, пойти сначала) можно его индексировать так: `my_list[i % len(my_list)]` - т.е. индексировать остатком от деления."
   ]
  },
  {
   "cell_type": "code",
   "execution_count": 11,
   "metadata": {
    "ExecuteTime": {
     "end_time": "2021-06-22T13:15:31.531986Z",
     "start_time": "2021-06-22T13:15:31.514674Z"
    },
    "hidden": true
   },
   "outputs": [
    {
     "name": "stdout",
     "output_type": "stream",
     "text": [
      "0 i:  1\n",
      "1 i:  2\n",
      "2 i:  3\n",
      "Вне границ списка -> завернулись по кругу\n",
      "3 i:  1\n",
      "Вне границ списка -> завернулись по кругу\n",
      "4 i:  2\n"
     ]
    }
   ],
   "source": [
    "my_list = [1,2,3]\n",
    "for i in range(len(my_list) + 2):\n",
    "    if i >= len(my_list):\n",
    "        print(\"Вне границ списка -> завернулись по кругу\")\n",
    "    print(str(i) + \" i: \", end = ' ')\n",
    "    print(my_list[i%len(my_list)]) # так он сможет "
   ]
  },
  {
   "cell_type": "markdown",
   "metadata": {
    "heading_collapsed": true
   },
   "source": [
    "## Конкатенация и умножение"
   ]
  },
  {
   "cell_type": "markdown",
   "metadata": {
    "hidden": true
   },
   "source": [
    "Python построен на полиморфизме базовых типов данных. Поэтому тут нативно реализованы конкатенация и умножение списков."
   ]
  },
  {
   "cell_type": "code",
   "execution_count": 1,
   "metadata": {
    "ExecuteTime": {
     "end_time": "2021-06-21T11:33:57.569386Z",
     "start_time": "2021-06-21T11:33:57.553388Z"
    },
    "hidden": true
   },
   "outputs": [
    {
     "name": "stdout",
     "output_type": "stream",
     "text": [
      "[1, 2, 3, 5, 6, 'a']\n"
     ]
    }
   ],
   "source": [
    "# конкатенация\n",
    "one = [1,2,3]\n",
    "two = [5,6, 'a']\n",
    "print(one + two)"
   ]
  },
  {
   "cell_type": "code",
   "execution_count": 5,
   "metadata": {
    "ExecuteTime": {
     "end_time": "2021-06-21T11:35:49.955487Z",
     "start_time": "2021-06-21T11:35:49.946511Z"
    },
    "hidden": true
   },
   "outputs": [
    {
     "name": "stdout",
     "output_type": "stream",
     "text": [
      "[1, 2, 3, 1, 2, 3, 1, 2, 3]\n"
     ]
    }
   ],
   "source": [
    "# умножение\n",
    "one = [1,2,3]\n",
    "print(one*3) # создает новый list, в котором изначальный list копируется *X раз"
   ]
  },
  {
   "cell_type": "code",
   "execution_count": 6,
   "metadata": {
    "ExecuteTime": {
     "end_time": "2021-06-21T11:36:14.054654Z",
     "start_time": "2021-06-21T11:36:14.049657Z"
    },
    "hidden": true
   },
   "outputs": [
    {
     "name": "stdout",
     "output_type": "stream",
     "text": [
      "[0, 0, 0, 0, 0]\n"
     ]
    }
   ],
   "source": [
    "zeros  = [0]*5\n",
    "print(zeros) # так удобно задавать пустые списки"
   ]
  },
  {
   "cell_type": "markdown",
   "metadata": {
    "hidden": true
   },
   "source": [
    "**Разложение строк при добавлении их к списку**"
   ]
  },
  {
   "cell_type": "code",
   "execution_count": 31,
   "metadata": {
    "ExecuteTime": {
     "end_time": "2021-07-10T17:45:06.825170Z",
     "start_time": "2021-07-10T17:45:06.813164Z"
    },
    "hidden": true
   },
   "outputs": [
    {
     "name": "stdout",
     "output_type": "stream",
     "text": [
      "[1, 2, 3, 'a', 'b', 'c']\n",
      "[1, 2, 3, 'a', 'b', 'c', 'd', 'e', 'f']\n"
     ]
    }
   ],
   "source": [
    "one = [1,2,3]\n",
    "one += ['a','b','c']\n",
    "print(one)\n",
    "one += 'def'\n",
    "print(one)"
   ]
  },
  {
   "cell_type": "markdown",
   "metadata": {
    "heading_collapsed": true
   },
   "source": [
    "## Срезы (slice)"
   ]
  },
  {
   "cell_type": "code",
   "execution_count": 99,
   "metadata": {
    "hidden": true
   },
   "outputs": [
    {
     "name": "stdout",
     "output_type": "stream",
     "text": [
      "[49, 121, 169, 289, 361, 529]\n",
      "[1, 25, 49, 121, 169, 289, 361, 529]\n",
      "[1, 25, 49, 121, 169, 289, 361]\n"
     ]
    }
   ],
   "source": [
    "print(my_list[2:])  # срез со 2го до конца\n",
    "print(my_list[:])   # полный срез\n",
    "print(my_list[:-1]) # срез с начала, до -1го элемента с конца"
   ]
  },
  {
   "cell_type": "code",
   "execution_count": 1,
   "metadata": {
    "hidden": true
   },
   "outputs": [
    {
     "data": {
      "text/plain": [
       "True"
      ]
     },
     "execution_count": 1,
     "metadata": {},
     "output_type": "execute_result"
    }
   ],
   "source": [
    "horsemen = ['war', 'famine', 'pestilence', 'death'] \n",
    "'pestilence' in horsemen "
   ]
  },
  {
   "cell_type": "markdown",
   "metadata": {
    "hidden": true
   },
   "source": [
    "**Срез создает новый список**. Таким образом можно копировать списки."
   ]
  },
  {
   "cell_type": "code",
   "execution_count": 30,
   "metadata": {
    "ExecuteTime": {
     "end_time": "2021-07-10T17:42:29.694286Z",
     "start_time": "2021-07-10T17:42:29.684292Z"
    },
    "hidden": true
   },
   "outputs": [],
   "source": [
    "my_list = [1,2,3,5] # новый список\n",
    "new_list = my_list[1:3] # тоже новый список\n",
    "another_new_list = my_list[:] # и еще один новый список (полная копия старого)"
   ]
  },
  {
   "cell_type": "markdown",
   "metadata": {},
   "source": [
    "## Важное: структура списков"
   ]
  },
  {
   "cell_type": "markdown",
   "metadata": {},
   "source": [
    "Список содержит ссылки на разные объекты (включая другие списки: т.е. ссылку список ссылок). Надо различать, название (переменную) и объект."
   ]
  },
  {
   "cell_type": "code",
   "execution_count": 1,
   "metadata": {},
   "outputs": [
    {
     "name": "stdout",
     "output_type": "stream",
     "text": [
      "[1, 2, 3]\n",
      "['aa', [1, 2, 3]]\n"
     ]
    }
   ],
   "source": [
    "L1 = [1,2,3]\n",
    "L2= ['aa', L1]\n",
    "print(L1, L2, sep= '\\n')"
   ]
  },
  {
   "cell_type": "code",
   "execution_count": 3,
   "metadata": {},
   "outputs": [
    {
     "name": "stdout",
     "output_type": "stream",
     "text": [
      "[1, 2, 3, 4]\n"
     ]
    }
   ],
   "source": [
    "L2[1].append(4)\n",
    "print(L1)"
   ]
  },
  {
   "cell_type": "code",
   "execution_count": 4,
   "metadata": {},
   "outputs": [
    {
     "name": "stdout",
     "output_type": "stream",
     "text": [
      "['asa', 'zaz']\n",
      "['aa', [1, 2, 3, 4]]\n"
     ]
    }
   ],
   "source": [
    "L1=['asa', 'zaz']\n",
    "print(L1, L2, sep= '\\n')"
   ]
  },
  {
   "cell_type": "markdown",
   "metadata": {},
   "source": [
    "Тут переменная `L1` была приписана к списку `[1, 2, 3, 4]`, а затем была присвоена списку `['asa', 'zaz']` (это два разных списка). Поэтому, при вызове ` L2 `, выводится список `['aa', [1, 2, 3, 4]]`, сордержащий `[1, 2, 3, 4]` (уже не привязанный к `L1`, но все еще остающийся в памяти т.к. на него еще делает ссылку `L2`). Теперь любые действия над `L1` не повлекут изменений в `[1, 2, 3, 4]`.  \n",
    "По факту, в этом коде в памяти записаны: 3 списка (и соответсвенно, все их внутренние объекты int и str) и 2 переменные."
   ]
  },
  {
   "cell_type": "code",
   "execution_count": 5,
   "metadata": {},
   "outputs": [
    {
     "name": "stdout",
     "output_type": "stream",
     "text": [
      "[1, 2, 3]\n",
      "['aa', [1, 2, 3]]\n",
      "[1, 'BBB']\n",
      "['aa', [1, 'BBB']]\n"
     ]
    }
   ],
   "source": [
    "L1 = [1,2,3]                                     # создадим все по новой\n",
    "L2= ['aa', L1]\n",
    "print(L1, L2, sep= '\\n')\n",
    "\n",
    "L1[1]='BBB'                                     # меняем элементы списка [1,2,3], к который привязан к L1 \n",
    "L1.pop() \n",
    "print(L1, L2, sep= '\\n')"
   ]
  },
  {
   "cell_type": "markdown",
   "metadata": {},
   "source": [
    "Тут, в отличии от случая выше, переменная `L1` так и осталась привязана к тому же списку. Поэтому, изменения элементов списка, меняют и то, что выводит `L1` и `L2` (который по-прежнему ссылатеся на список приязанный к `L1`).  \n",
    "По факту, в этом коде в памяти записаны: 2 списка (и соответсвенно, все их внутренние объекты int и str) и 2 переменные соответсвующие этим спискам."
   ]
  },
  {
   "cell_type": "markdown",
   "metadata": {},
   "source": [
    "## Вывести список на экран"
   ]
  },
  {
   "cell_type": "markdown",
   "metadata": {},
   "source": [
    "Для печати списков удобно использовать распаковку (**unpacking**) списка в элементы: `print(*my_list)`. По дефолту, элементы разделены пробелом, однако используя параметр `sep = ''` можно указать нужный разделитель."
   ]
  },
  {
   "cell_type": "code",
   "execution_count": 1,
   "metadata": {
    "ExecuteTime": {
     "end_time": "2021-06-22T11:27:40.153530Z",
     "start_time": "2021-06-22T11:27:40.145554Z"
    }
   },
   "outputs": [
    {
     "name": "stdout",
     "output_type": "stream",
     "text": [
      "1 2 3 4 5\n",
      "printing lists separated by commas\n",
      "1, 2, 3, 4, 5\n",
      "printing lists in new line\n",
      "1\n",
      "2\n",
      "3\n",
      "4\n",
      "5\n"
     ]
    }
   ],
   "source": [
    "# Python program to print list\n",
    "# without using loop\n",
    "  \n",
    "a = [1, 2, 3, 4, 5]\n",
    "  \n",
    "# printing the list using * operator separated \n",
    "# by space \n",
    "print(*a)\n",
    "  \n",
    "# printing the list using * and sep operator\n",
    "print(\"printing lists separated by commas\")\n",
    "  \n",
    "print(*a, sep = \", \") \n",
    "  \n",
    "# print in new line\n",
    "print(\"printing lists in new line\")\n",
    "  \n",
    "print(*a, sep = \"\\n\")"
   ]
  },
  {
   "cell_type": "markdown",
   "metadata": {},
   "source": [
    "## Генератор списков (List comprehensions)\n",
    "Общая форма `list=[функция for … in … условие(опционально)]`"
   ]
  },
  {
   "cell_type": "code",
   "execution_count": 19,
   "metadata": {
    "ExecuteTime": {
     "end_time": "2021-07-10T17:28:16.389543Z",
     "start_time": "2021-07-10T17:28:16.384547Z"
    }
   },
   "outputs": [],
   "source": [
    "my_list = [x**2 for x in range(1, 25, 2) if x % 3 != 0]"
   ]
  },
  {
   "cell_type": "code",
   "execution_count": 13,
   "metadata": {
    "ExecuteTime": {
     "end_time": "2021-07-10T17:27:04.305845Z",
     "start_time": "2021-07-10T17:26:57.998154Z"
    }
   },
   "outputs": [
    {
     "name": "stdout",
     "output_type": "stream",
     "text": [
      "1 2 3 5\n",
      "11\n"
     ]
    }
   ],
   "source": [
    "# пример суммирование веденных чисел через split\n",
    "print(sum(int(i) for i in input().split()))"
   ]
  },
  {
   "cell_type": "markdown",
   "metadata": {},
   "source": [
    "## Методы"
   ]
  },
  {
   "cell_type": "code",
   "execution_count": 10,
   "metadata": {
    "ExecuteTime": {
     "end_time": "2021-06-21T11:40:21.466470Z",
     "start_time": "2021-06-21T11:40:12.618020Z"
    }
   },
   "outputs": [
    {
     "name": "stdout",
     "output_type": "stream",
     "text": [
      "1 ale 22\n",
      "['1', 'ale', '22']\n"
     ]
    }
   ],
   "source": [
    "# split - разбивает строку в список по пробелам\n",
    "input_list = input().split() # Вернет список из потока, разбитый по пробелам\n",
    "print(input_list)"
   ]
  },
  {
   "cell_type": "markdown",
   "metadata": {},
   "source": [
    "### Добавление элементов"
   ]
  },
  {
   "cell_type": "markdown",
   "metadata": {},
   "source": [
    "**.append() vs .extend**    \n",
    "- `.append(x)` - добавит x в конец, как он есть.\n",
    "- `.extend(x)` - разобьет x на отдельные элементы и добавит их в конец."
   ]
  },
  {
   "cell_type": "code",
   "execution_count": 23,
   "metadata": {
    "ExecuteTime": {
     "end_time": "2021-07-10T17:32:10.337359Z",
     "start_time": "2021-07-10T17:32:10.331381Z"
    }
   },
   "outputs": [
    {
     "name": "stdout",
     "output_type": "stream",
     "text": [
      "[1, 2, 4, 5, 2]\n",
      "[1, 2, 4, 5, 2, ['a', 'b', 2]]\n"
     ]
    }
   ],
   "source": [
    "my_list = [1,2,4,5]\n",
    "my_list.append(2) # добавляет x в конец списка\n",
    "print(my_list)\n",
    "\n",
    "my_list.append(['a','b',2]) # добавляет весь список в конец списка\n",
    "print(my_list)"
   ]
  },
  {
   "cell_type": "code",
   "execution_count": 24,
   "metadata": {
    "ExecuteTime": {
     "end_time": "2021-07-10T17:32:13.145920Z",
     "start_time": "2021-07-10T17:32:13.142905Z"
    }
   },
   "outputs": [
    {
     "name": "stdout",
     "output_type": "stream",
     "text": [
      "[1, 2, 4, 5, 2, ['a', 'b', 2], 111, 22, 4]\n"
     ]
    }
   ],
   "source": [
    "new_list = [111,22,4]\n",
    "my_list.extend(new_list) # добавляет элементы списка x к концу списка my_list\n",
    "print(my_list)"
   ]
  },
  {
   "cell_type": "code",
   "execution_count": 31,
   "metadata": {},
   "outputs": [],
   "source": [
    "my_list.insert(3, 'azaza') # my_list.insert(index, x) вставляет x на заданную позицию"
   ]
  },
  {
   "cell_type": "markdown",
   "metadata": {},
   "source": [
    "### Copy(), count(), index()"
   ]
  },
  {
   "cell_type": "code",
   "execution_count": 24,
   "metadata": {},
   "outputs": [],
   "source": [
    "new_list=my_list.copy() # возвращает копию списка my_list"
   ]
  },
  {
   "cell_type": "code",
   "execution_count": 26,
   "metadata": {},
   "outputs": [
    {
     "data": {
      "text/plain": [
       "1"
      ]
     },
     "execution_count": 26,
     "metadata": {},
     "output_type": "execute_result"
    }
   ],
   "source": [
    "my_list.count(25) # возвращает кол-во элементов со значением x"
   ]
  },
  {
   "cell_type": "code",
   "execution_count": 30,
   "metadata": {},
   "outputs": [
    {
     "data": {
      "text/plain": [
       "7"
      ]
     },
     "execution_count": 30,
     "metadata": {},
     "output_type": "execute_result"
    }
   ],
   "source": [
    "my_list.index(529, 0, 15)  # my_list.index(x,start,end) возвращает индекс первого найденного x, \n",
    "                            # можно задать промежуток для поиска (опционально"
   ]
  },
  {
   "cell_type": "markdown",
   "metadata": {},
   "source": [
    "### Сортировка"
   ]
  },
  {
   "cell_type": "markdown",
   "metadata": {},
   "source": [
    "**x.sort() vs sorted(x)**    \n",
    "- `x.sort(x)` - сортирует список *in place*.\n",
    "- `sorted(x)` - возвращает отсортированный список, оставляя изначальный список нетронутым."
   ]
  },
  {
   "cell_type": "code",
   "execution_count": 9,
   "metadata": {
    "ExecuteTime": {
     "end_time": "2021-06-21T11:38:27.559385Z",
     "start_time": "2021-06-21T11:38:27.548170Z"
    }
   },
   "outputs": [],
   "source": [
    "my_list.reverse() # инвертирует порядок элементов в списке (in place)"
   ]
  },
  {
   "cell_type": "code",
   "execution_count": 40,
   "metadata": {},
   "outputs": [
    {
     "name": "stdout",
     "output_type": "stream",
     "text": [
      "[529, 361, 289, 169, 121, 49, 25, 1]\n"
     ]
    }
   ],
   "source": [
    "my_list.sort(reverse=True)   #сортирует список на основе функции x. Изменяет my_list(). () -алфавитный порядок,  \n",
    "                             #(reverse=True) – обратный алфавитный порядок. Ругается, если в my_list разные типы данных.\n",
    "                             # Действует in place - т.е. переписывает/сохраняяет изменения\n",
    "print(my_list)"
   ]
  },
  {
   "cell_type": "code",
   "execution_count": 41,
   "metadata": {},
   "outputs": [
    {
     "data": {
      "text/plain": [
       "[1, 25, 49, 121, 169, 289, 361, 529]"
      ]
     },
     "execution_count": 41,
     "metadata": {},
     "output_type": "execute_result"
    }
   ],
   "source": [
    "sorted(my_list) #Технически это не метод, а функция. Действует так же, как и .sort(), \n",
    "                #но не изменяет my_list, а только выводит"
   ]
  },
  {
   "cell_type": "markdown",
   "metadata": {},
   "source": [
    "### Удаление"
   ]
  },
  {
   "cell_type": "code",
   "execution_count": 2,
   "metadata": {},
   "outputs": [],
   "source": [
    "my_list.clear() # очищает список"
   ]
  },
  {
   "cell_type": "code",
   "execution_count": 42,
   "metadata": {},
   "outputs": [
    {
     "data": {
      "text/plain": [
       "529"
      ]
     },
     "execution_count": 42,
     "metadata": {},
     "output_type": "execute_result"
    }
   ],
   "source": [
    "my_list.pop(0)  # возвращает элемент с указанным индексом и удаляет его, \n",
    "                    # если индекс не указан - возвращается и удаляется последний элемент"
   ]
  },
  {
   "cell_type": "code",
   "execution_count": 43,
   "metadata": {},
   "outputs": [],
   "source": [
    "my_list.remove(49) # my_list.remove(x): удаляет первый элемент со значением x (любого типа)"
   ]
  },
  {
   "cell_type": "code",
   "execution_count": 45,
   "metadata": {},
   "outputs": [],
   "source": [
    "del my_list[0] # кострукция del к list не имеет отношения: она просто удаляет следующий за ней объект"
   ]
  },
  {
   "cell_type": "markdown",
   "metadata": {},
   "source": [
    "### Размер"
   ]
  },
  {
   "cell_type": "code",
   "execution_count": 37,
   "metadata": {},
   "outputs": [
    {
     "name": "stdout",
     "output_type": "stream",
     "text": [
      "['V', 'l', 'a', 'd']\n"
     ]
    },
    {
     "data": {
      "text/plain": [
       "64"
      ]
     },
     "execution_count": 37,
     "metadata": {},
     "output_type": "execute_result"
    }
   ],
   "source": [
    "print(list('Vlad'))\n",
    "sys.getsizeof(list('Vlad')) # bytes"
   ]
  },
  {
   "cell_type": "markdown",
   "metadata": {},
   "source": [
    "## 2D матрицы с помощью списка"
   ]
  },
  {
   "cell_type": "markdown",
   "metadata": {},
   "source": [
    "**2D матрицы** - это список, какждый элемент которого - это другой список. Вообще, это работает, но лучше использовать numpy, т.к. там реализованы методы для работы с матрицами."
   ]
  },
  {
   "cell_type": "code",
   "execution_count": 14,
   "metadata": {
    "ExecuteTime": {
     "end_time": "2021-06-21T11:53:30.891067Z",
     "start_time": "2021-06-21T11:53:30.880074Z"
    }
   },
   "outputs": [
    {
     "name": "stdout",
     "output_type": "stream",
     "text": [
      "[[0, 'a', 0, 0, 0], [0, 'a', 0, 0, 0], [0, 'a', 0, 0, 0]]\n",
      "[[0, 0, 0, 0, 0], [0, 'a', 0, 0, 0], [0, 0, 0, 0, 0]]\n"
     ]
    }
   ],
   "source": [
    "# Ecли задавать матрицу через умножение, то создастся матрица, где каздый ряд будет \n",
    "# ссылаться на один и тот же список. Так при изменении одного элемента в любом ряду\n",
    "# этот элемент измениться во всех рядах.\n",
    "one_list = [[0]*5]*3\n",
    "one_list[1][1] = 'a' # поменяется во всех рядах\n",
    "print(one_list)\n",
    "# заполнениие двухмерных матриц надо делать через list comprehension\n",
    "another_list = [[0]*5 for _ in range(3)]\n",
    "another_list[1][1] = 'a' # поменяется только в этом ряду\n",
    "print(another_list) "
   ]
  },
  {
   "cell_type": "markdown",
   "metadata": {
    "heading_collapsed": true
   },
   "source": [
    "# Кортежи (tuple)\n",
    "- Общее: index, concate (+)\n",
    "- Методы (их 2)"
   ]
  },
  {
   "cell_type": "markdown",
   "metadata": {
    "hidden": true
   },
   "source": [
    "**Tuple** – это неизменяемый list. Соответственно, не поддается сортировке, добавлинию и удалению элементов. \n",
    "\n",
    "- Элементы хранятся как в массиве, те имеют индекс. Сответственно, они итерируемы.\n",
    "- Могут содержать любые типы (в т.ч. и изменяемые)\n",
    "- Поддерживает конкатенации “+” и т.д. (при этом создаются новые кортежи)."
   ]
  },
  {
   "cell_type": "markdown",
   "metadata": {
    "hidden": true
   },
   "source": [
    "## Объявление кортежа"
   ]
  },
  {
   "cell_type": "markdown",
   "metadata": {
    "hidden": true
   },
   "source": [
    "Аккуратнее с объявлением tuple для одного элемента т.к. (...) - команда приоритета выполнения. Объявление: `my_tuple = (50,)`"
   ]
  },
  {
   "cell_type": "code",
   "execution_count": 10,
   "metadata": {
    "ExecuteTime": {
     "end_time": "2021-07-10T18:16:19.976254Z",
     "start_time": "2021-07-10T18:16:19.960492Z"
    },
    "hidden": true
   },
   "outputs": [
    {
     "name": "stdout",
     "output_type": "stream",
     "text": [
      "50  -> <class 'int'>\n",
      "(50,)  -> <class 'tuple'>\n"
     ]
    }
   ],
   "source": [
    "not_tuple = (50)\n",
    "print(not_tuple, type(not_tuple), sep='  -> ')\n",
    "is_tuple = (50,)\n",
    "print(is_tuple, type(is_tuple), sep='  -> ')"
   ]
  },
  {
   "cell_type": "code",
   "execution_count": 100,
   "metadata": {
    "hidden": true
   },
   "outputs": [
    {
     "name": "stdout",
     "output_type": "stream",
     "text": [
      "2    and    0.6\n"
     ]
    }
   ],
   "source": [
    "my_tuple = (2, 4, 'a', 0.6)\n",
    "print(my_tuple[0], my_tuple[-1], sep= '    and    ')"
   ]
  },
  {
   "cell_type": "code",
   "execution_count": 53,
   "metadata": {
    "hidden": true
   },
   "outputs": [
    {
     "name": "stdout",
     "output_type": "stream",
     "text": [
      "('s', 'a', 'd', 'a', 'f')\n"
     ]
    }
   ],
   "source": [
    "m = tuple('sadaf')\n",
    "print(m)"
   ]
  },
  {
   "cell_type": "markdown",
   "metadata": {
    "hidden": true
   },
   "source": [
    "## Итерация и конкатенация"
   ]
  },
  {
   "cell_type": "code",
   "execution_count": 104,
   "metadata": {
    "hidden": true
   },
   "outputs": [
    {
     "name": "stdout",
     "output_type": "stream",
     "text": [
      "My Name is Slim Shady "
     ]
    }
   ],
   "source": [
    "char_tuple = ('My', 'Name', 'is', 'Slim', 'Shady')  #итерабелен\n",
    "for x in char_tuple:\n",
    "    print(x, end=' ')"
   ]
  },
  {
   "cell_type": "code",
   "execution_count": 105,
   "metadata": {
    "hidden": true
   },
   "outputs": [
    {
     "name": "stdout",
     "output_type": "stream",
     "text": [
      "('My', 'Name', 'is', 'Slim', 'Shady', ', Real', 'Slim', 'Shady')\n"
     ]
    }
   ],
   "source": [
    "char_tuple = char_tuple + (', Real', 'Slim', 'Shady')   #Поддерживает конкатенацию\n",
    "print(char_tuple)"
   ]
  },
  {
   "cell_type": "markdown",
   "metadata": {
    "hidden": true
   },
   "source": [
    "## Изменяемые элементы кортежей\n",
    "Хотя сам кортеж - неизменяемый тип данных, его элементы могут быть изменяемы."
   ]
  },
  {
   "cell_type": "code",
   "execution_count": 13,
   "metadata": {
    "ExecuteTime": {
     "end_time": "2021-07-10T18:20:43.472591Z",
     "start_time": "2021-07-10T18:20:43.458600Z"
    },
    "hidden": true
   },
   "outputs": [
    {
     "name": "stdout",
     "output_type": "stream",
     "text": [
      "('a', [1, 3, 'x'], ['a', 'b', 'c'])\n"
     ]
    }
   ],
   "source": [
    "my_tuple = ('a', [1,3], [])\n",
    "my_tuple[1].append('x')\n",
    "my_tuple[2].extend('abc')\n",
    "print(my_tuple)"
   ]
  },
  {
   "cell_type": "markdown",
   "metadata": {
    "hidden": true
   },
   "source": [
    "## Методы (их 2)"
   ]
  },
  {
   "cell_type": "code",
   "execution_count": 50,
   "metadata": {
    "hidden": true
   },
   "outputs": [
    {
     "data": {
      "text/plain": [
       "1"
      ]
     },
     "execution_count": 50,
     "metadata": {},
     "output_type": "execute_result"
    }
   ],
   "source": [
    "my_tuple.count('a') # возвращает кол-во элементов со значением x"
   ]
  },
  {
   "cell_type": "code",
   "execution_count": 49,
   "metadata": {
    "hidden": true
   },
   "outputs": [
    {
     "data": {
      "text/plain": [
       "2"
      ]
     },
     "execution_count": 49,
     "metadata": {},
     "output_type": "execute_result"
    }
   ],
   "source": [
    "my_tuple.index('a') # my_tuple.index(x,start,end) возвращает индекс первого найденного x,\n",
    "                    # можно задать промежуток для поиска (опционально)"
   ]
  },
  {
   "cell_type": "markdown",
   "metadata": {
    "hidden": true
   },
   "source": [
    "## Размер"
   ]
  },
  {
   "cell_type": "code",
   "execution_count": 38,
   "metadata": {
    "hidden": true
   },
   "outputs": [
    {
     "name": "stdout",
     "output_type": "stream",
     "text": [
      "('V', 'l', 'a', 'd')\n"
     ]
    },
    {
     "data": {
      "text/plain": [
       "64"
      ]
     },
     "execution_count": 38,
     "metadata": {},
     "output_type": "execute_result"
    }
   ],
   "source": [
    "print(tuple('Vlad'))\n",
    "sys.getsizeof(list('Vlad')) # bytes"
   ]
  },
  {
   "cell_type": "markdown",
   "metadata": {
    "hidden": true
   },
   "source": [
    "Т.е. нет разницы между list и tuple по размеру"
   ]
  },
  {
   "cell_type": "markdown",
   "metadata": {},
   "source": [
    "# Set (Множества)"
   ]
  },
  {
   "cell_type": "markdown",
   "metadata": {},
   "source": [
    "**Множества (set)**: неизменяемая коллекция *уникальных* объектов. Неупорядоченная, т.е. содержит элементы без порядка.  \n",
    "- Не поддерживает индексацию. \n",
    "- Каждый элемент встречаеся строго один раз.\n",
    "- Может содержать объекты разных типов (однако, они должны быть hashable - т.е. неизменяемые). \n",
    "- Итерабелен, но не поддерживает извлечение среза (т.к. в нем нет порядка).\n",
    "- Размер меняется с помощью метородов. Не поддерживает конкатенации “+” и т.д.\n",
    "- Константное время обращение к элементу X из множества (т.к. множества - это массив хэшей, а доступ по хэшу происходит за константное время). Самый быстрый lookup среди контейнеров. \n",
    "- Можно работать, как с математическими множествами.    \n",
    "\n",
    "Обычно используется для баз данных и тд. когда важна скорость доступа (т.е. большие массивы данных и обращение к их элементам).\n",
    "\n",
    "---\n",
    "\n",
    "Фичи:\n",
    "- Операции над множествами: y & z – пересечение, y | z – объединение,  y-z - разность (так же работает для dict)\n",
    "- Литералы: С 3.Х легко спутать dict и set (по сути, set это dict без ключей):  \n",
    "  Вызов объекта: `{'1'}` -  set, `{'dict': 1}` - dict.  \n",
    "  Вызов пустого объекта: `{}` – пустой dict, `set({})` – пустой set.\n"
   ]
  },
  {
   "cell_type": "code",
   "execution_count": 1,
   "metadata": {
    "ExecuteTime": {
     "end_time": "2021-07-10T17:50:23.981366Z",
     "start_time": "2021-07-10T17:50:23.968344Z"
    }
   },
   "outputs": [
    {
     "name": "stdout",
     "output_type": "stream",
     "text": [
      "{'.', '1', '4', '2', 'w', 'f'}\n"
     ]
    }
   ],
   "source": [
    "my_set=set('124wf4.42') # Cчитывает строку познаково.\n",
    "print(my_set)"
   ]
  },
  {
   "cell_type": "code",
   "execution_count": 7,
   "metadata": {
    "ExecuteTime": {
     "end_time": "2021-07-10T17:52:09.986559Z",
     "start_time": "2021-07-10T17:52:09.975961Z"
    }
   },
   "outputs": [
    {
     "name": "stdout",
     "output_type": "stream",
     "text": [
      "{1, 2.2, 'a'}\n"
     ]
    }
   ],
   "source": [
    "my_set = set([1,2.2, 'a'])\n",
    "print(my_set)"
   ]
  },
  {
   "cell_type": "code",
   "execution_count": 2,
   "metadata": {
    "ExecuteTime": {
     "end_time": "2021-07-10T17:50:28.470360Z",
     "start_time": "2021-07-10T17:50:28.461632Z"
    }
   },
   "outputs": [
    {
     "name": "stdout",
     "output_type": "stream",
     "text": [
      "., 1, 4, 2, w, f, "
     ]
    }
   ],
   "source": [
    "for i in my_set:\n",
    "    print(i, end = ', ')"
   ]
  },
  {
   "cell_type": "markdown",
   "metadata": {},
   "source": [
    "## Множество под капотом"
   ]
  },
  {
   "cell_type": "markdown",
   "metadata": {},
   "source": [
    "Множество - это массив захэшированных данных. Элементы множества хэшируются, и их хэш становится индексом в массиве. Поэтому:\n",
    "- **Доступ к элементу за константное время**. При запросе, интерисующий нас элемент хэшируется, а по хэшу определяется его индекс (x -> hash=index).\n",
    "- **Нет повторяющихся элементов**. Чтобы задать индекс каждому элементу хэши должны быть уникальны, а одинковые объекты дают одинаковые хэши -> запрет на повторящиеся элементы.\n",
    "- **Используются только неизменяемые объекты**. Только инеизменяемые объекты можно хэшировать, т.к. если измениться объект, то измениться и хэш."
   ]
  },
  {
   "cell_type": "markdown",
   "metadata": {},
   "source": [
    "## Методы"
   ]
  },
  {
   "cell_type": "markdown",
   "metadata": {},
   "source": [
    "### Добавить, убрать"
   ]
  },
  {
   "cell_type": "code",
   "execution_count": 66,
   "metadata": {},
   "outputs": [
    {
     "name": "stdout",
     "output_type": "stream",
     "text": [
      "{'.', 'x', '1', '2', 'w', '4', 'f'}\n"
     ]
    }
   ],
   "source": [
    "my_set.add('x')   # добавляет x во множество\n",
    "print(my_set)"
   ]
  },
  {
   "cell_type": "code",
   "execution_count": 67,
   "metadata": {},
   "outputs": [
    {
     "name": "stdout",
     "output_type": "stream",
     "text": [
      "{'.', '1', '2', 'w', '4', 'f'}\n"
     ]
    }
   ],
   "source": [
    "my_set.discard('x')    # удаляет элемент x из my_set (без проверки на наличие во множестве)\n",
    "print(my_set)"
   ]
  },
  {
   "cell_type": "code",
   "execution_count": 68,
   "metadata": {},
   "outputs": [
    {
     "name": "stdout",
     "output_type": "stream",
     "text": [
      "{'.', '1', 'w', '4', 'f'}\n"
     ]
    }
   ],
   "source": [
    "my_set.remove('2')    # удаляет x из множества (вызовет ошибке, если x нет во множестве)\n",
    "print(my_set)"
   ]
  },
  {
   "cell_type": "code",
   "execution_count": 69,
   "metadata": {},
   "outputs": [
    {
     "name": "stdout",
     "output_type": "stream",
     "text": [
      ".\n",
      "{'1', 'w', '4', 'f'}\n"
     ]
    }
   ],
   "source": [
    "print(my_set.pop())   #возвращает и удаляет первый (на данный момент) элемент множества\n",
    "print(my_set)"
   ]
  },
  {
   "cell_type": "code",
   "execution_count": 71,
   "metadata": {},
   "outputs": [],
   "source": [
    "my_set.update({'tt', 'aa'})  # добавляет в my_set все элементы x"
   ]
  },
  {
   "cell_type": "markdown",
   "metadata": {},
   "source": [
    "### Подмножества"
   ]
  },
  {
   "cell_type": "code",
   "execution_count": 73,
   "metadata": {},
   "outputs": [
    {
     "name": "stdout",
     "output_type": "stream",
     "text": [
      "{'1', '.', 'f', '4'}\n"
     ]
    }
   ],
   "source": [
    "new_set = my_set.difference({'x', '2', 'w'})   # возвращает множество элементов my_set, которые не входят во множество x\n",
    "print(new_set)"
   ]
  },
  {
   "cell_type": "code",
   "execution_count": 74,
   "metadata": {},
   "outputs": [
    {
     "name": "stdout",
     "output_type": "stream",
     "text": [
      "{'1', 'f'}\n"
     ]
    }
   ],
   "source": [
    "new_set = my_set.intersection({'1', 'f'})   # возвращает элементы общие для множеств my_set и x\n",
    "print(new_set)"
   ]
  },
  {
   "cell_type": "code",
   "execution_count": 75,
   "metadata": {},
   "outputs": [
    {
     "name": "stdout",
     "output_type": "stream",
     "text": [
      "{'2', 'w', '4', 'f'}\n"
     ]
    }
   ],
   "source": [
    "my_set.difference_update({'1', '.'})  # удаляет из множества my_set все элементы, которые входят во множество x\n",
    "print(my_set)"
   ]
  },
  {
   "cell_type": "code",
   "execution_count": 76,
   "metadata": {},
   "outputs": [
    {
     "data": {
      "text/plain": [
       "{'4', 'aa', 'f', 'x'}"
      ]
     },
     "execution_count": 76,
     "metadata": {},
     "output_type": "execute_result"
    }
   ],
   "source": [
    "my_set.symmetric_difference({'x', '2', 'w', 'aa'})  # возвращает все элементы из x и my_set,\n",
    "                                                    # которые встречаются только в одном из множеств"
   ]
  },
  {
   "cell_type": "code",
   "execution_count": 82,
   "metadata": {},
   "outputs": [
    {
     "name": "stdout",
     "output_type": "stream",
     "text": [
      "{'2', 'w', '4', 'f'}\n"
     ]
    }
   ],
   "source": [
    "my_set.symmetric_difference_update(('x', '2', 'w', 'aa'))   # обновляет исходное множество таким образом, что оно будет состоять \n",
    "print(my_set)                                  # из всех элементов (x) (! только тут x - tuple, не set) и my_set, которые\n",
    "                                               # встречаются только в одном из множеств"
   ]
  },
  {
   "cell_type": "code",
   "execution_count": 83,
   "metadata": {},
   "outputs": [
    {
     "data": {
      "text/plain": [
       "{'2', '4', 'a', 'f', 'vvv', 'w', 'x'}"
      ]
     },
     "execution_count": 83,
     "metadata": {},
     "output_type": "execute_result"
    }
   ],
   "source": [
    "my_set.union({'x', 'a', 'vvv'})    # возвращает новое множество, состоящее из всех элементов x и my_set"
   ]
  },
  {
   "cell_type": "markdown",
   "metadata": {},
   "source": [
    "#### Подмножества (bool)"
   ]
  },
  {
   "cell_type": "code",
   "execution_count": 85,
   "metadata": {},
   "outputs": [
    {
     "data": {
      "text/plain": [
       "True"
      ]
     },
     "execution_count": 85,
     "metadata": {},
     "output_type": "execute_result"
    }
   ],
   "source": [
    "my_set.isdisjoint('gg')   # возвращает true если my_set и x не содержат одинаковых значений"
   ]
  },
  {
   "cell_type": "code",
   "execution_count": 90,
   "metadata": {},
   "outputs": [
    {
     "data": {
      "text/plain": [
       "False"
      ]
     },
     "execution_count": 90,
     "metadata": {},
     "output_type": "execute_result"
    }
   ],
   "source": [
    "my_set.issubset('2')    # возвращает true если все элементы my_set входят во множество x"
   ]
  },
  {
   "cell_type": "code",
   "execution_count": 89,
   "metadata": {},
   "outputs": [
    {
     "data": {
      "text/plain": [
       "True"
      ]
     },
     "execution_count": 89,
     "metadata": {},
     "output_type": "execute_result"
    }
   ],
   "source": [
    "my_set.issuperset('2') # возвращает true если все элементы x входят во множество my_set"
   ]
  },
  {
   "cell_type": "markdown",
   "metadata": {},
   "source": [
    "### Размер"
   ]
  },
  {
   "cell_type": "code",
   "execution_count": 39,
   "metadata": {},
   "outputs": [
    {
     "name": "stdout",
     "output_type": "stream",
     "text": [
      "{'d', 'l', 'a', 'V'}\n"
     ]
    },
    {
     "data": {
      "text/plain": [
       "116"
      ]
     },
     "execution_count": 39,
     "metadata": {},
     "output_type": "execute_result"
    }
   ],
   "source": [
    "print(set('Vlad'))\n",
    "sys.getsizeof(set('Vlad')) # bytes"
   ]
  },
  {
   "cell_type": "markdown",
   "metadata": {},
   "source": [
    "Он тяжелее своих аналогов set (64) и list (64)"
   ]
  },
  {
   "cell_type": "markdown",
   "metadata": {},
   "source": [
    "## Frozenset\n",
    "Также в питоне существует неизменяемый аналог типа `set` - тип `frozenset`."
   ]
  },
  {
   "cell_type": "code",
   "execution_count": 9,
   "metadata": {
    "ExecuteTime": {
     "end_time": "2021-07-10T18:12:52.459398Z",
     "start_time": "2021-07-10T18:12:52.442531Z"
    }
   },
   "outputs": [
    {
     "ename": "AttributeError",
     "evalue": "'frozenset' object has no attribute 'add'",
     "output_type": "error",
     "traceback": [
      "\u001b[1;31m---------------------------------------------------------------------------\u001b[0m",
      "\u001b[1;31mAttributeError\u001b[0m                            Traceback (most recent call last)",
      "\u001b[1;32m<ipython-input-9-d627d7afc94b>\u001b[0m in \u001b[0;36m<module>\u001b[1;34m\u001b[0m\n\u001b[0;32m      1\u001b[0m \u001b[0mfrozen\u001b[0m \u001b[1;33m=\u001b[0m \u001b[0mfrozenset\u001b[0m\u001b[1;33m(\u001b[0m\u001b[1;33m[\u001b[0m\u001b[1;34m'Anna'\u001b[0m\u001b[1;33m,\u001b[0m \u001b[1;34m'Elsa'\u001b[0m\u001b[1;33m,\u001b[0m \u001b[1;34m'Kristoff'\u001b[0m\u001b[1;33m]\u001b[0m\u001b[1;33m)\u001b[0m\u001b[1;33m\u001b[0m\u001b[1;33m\u001b[0m\u001b[0m\n\u001b[1;32m----> 2\u001b[1;33m \u001b[0mfrozen\u001b[0m\u001b[1;33m.\u001b[0m\u001b[0madd\u001b[0m\u001b[1;33m(\u001b[0m\u001b[1;34m'Olaf'\u001b[0m\u001b[1;33m)\u001b[0m\u001b[1;33m\u001b[0m\u001b[1;33m\u001b[0m\u001b[0m\n\u001b[0m",
      "\u001b[1;31mAttributeError\u001b[0m: 'frozenset' object has no attribute 'add'"
     ]
    }
   ],
   "source": [
    "frozen = frozenset(['Anna', 'Elsa', 'Kristoff'])\n",
    "frozen.add('Olaf')"
   ]
  },
  {
   "cell_type": "markdown",
   "metadata": {},
   "source": [
    "# dict (словари)"
   ]
  },
  {
   "cell_type": "markdown",
   "metadata": {},
   "source": [
    "**dict** – это изменяемый и итерируемый список с ключами (т.е. индексирование задается через key). Так же итерации идут по ключам. При этом пары (key : value) хранятся неупорядоченно. \n",
    "\n",
    "- Реализован как Open adressing hash table.\n",
    "- Keys are immutable (т.к. по ключу считается hash -> после создания key не может меняться, иначе изменится hash).\n",
    "- Values are mutable. В качестве value может выступать любой тип\n",
    "- Пары (key : value) хранятся неупорядоченно.\n",
    "---\n",
    "Фичи:  \n",
    "- Скорость поиска key по словарю не зависит от размера словаря \n",
    "- Nested (вложенные): `d={'key1':[2], 'key2':['ale']}` – вложение list вместо value дает позможность исп. .append() вместо полного переписывания\n",
    "- По умолчанию итерация идет по ключам. Другие итерации:  \n",
    "  `for key in dict` – по колючаси(явно), `for value in dict.values()`, `for key, value in dict.items()`\n",
    "- Пустой dict (как и list, set, tuple, srt) -  в логике считаются False\n"
   ]
  },
  {
   "cell_type": "markdown",
   "metadata": {},
   "source": [
    "## Что у словаря под капотом"
   ]
  },
  {
   "cell_type": "markdown",
   "metadata": {},
   "source": [
    "Источник stackoverflow: [How are Python's Built In Dictionaries Implemented?](https://stackoverflow.com/questions/327311/how-are-pythons-built-in-dictionaries-implemented)"
   ]
  },
  {
   "cell_type": "markdown",
   "metadata": {},
   "source": [
    "**Если кратко**    \n",
    "- Cловарь - это хэш таблица (**hash table**).\n",
    "- **Hash table** - это по сути массив, где элементы индексируются hash значениями. Когда мы создаем пару (key, value), key хэшируется и этот хэш становится индексом в массиве (поэтому важно, чтобы key был неизменяем; value при этом может изменяться). \n",
    "- Когда мы хотим получиь value соответсвующее опреденному key (т.е. делаем **lookup**), интерпретатор хэширует key и обращается по полученному индексу. Поэтому, обращение к значению не зависят от размера словаря. Более того, если нет **hash collisions**, то время обращение вообще константно `O(1)`.\n",
    "- Если для разных key совпали hash (это **hash collision**), то новый key записывается в другую ячейку. При обращении к элементу по этому key, интерпретатор сперва наткнется на старый key. Неудовлетворившись этим, он начнет линейный поиск по таблице, пока не найдет нужный элемент. Таким образом, время выполнения lookup в лучшем случаии константно т.е. `O(1)` (если нет hash collisions) и в худшем - `O(n)`, где n - размер словаря (если для всех keys совпадают hash, чего в реальности не бывает).\n",
    "- Индекс считается так: `i = hash(key) & (DictSize - 1)`, где `&` - это bitwise AND. \n",
    "- Чем меньше размер словаря и выше его заполение, тем больше вероятность hash collision, и соответсвенно, линейного (= медленного) lookup. Отношение заполененности хэш таблици к ее размеру называтеся **load factor**. Чем но ниже, тем меньше вероятность коллизий и выше скорость работы. В Python, словать расширяется, когда он заполнен на 2/3.\n",
    "\n",
    "**Если подробнее**     \n",
    "- Python dictionaries are implemented as **hash tables**.\n",
    "- Hash tables must allow for **hash collisions** i.e. even if two distinct keys have the same hash value, the table's implementation must have a strategy to insert and retrieve the key and value pairs unambiguously.\n",
    "- Python dict uses **open addressing** to resolve hash collisions (explained below).\n",
    "- Python hash table is just a contiguous block of memory (sort of like an array, so you can do an `O(1)` lookup by index).\n",
    "- **Each slot in the table can store one and only one entry**. This is important.\n",
    "- Each **entry** in the table is actually a combination of the three values: `< hash, key, value >`. This is implemented as a C struct.\n",
    "- The figure below is a logical representation of a Python hash table. In the figure below, `0, 1, ..., i, ...` on the left are indices of the **slots** in the hash table (they are just for illustrative purposes and are not stored along with the table obviously!).\n",
    "```\n",
    "Logical model of Python Hash table\n",
    "  -+-----------------+\n",
    "  0| <hash|key|value>|\n",
    "  -+-----------------+\n",
    "  1|      ...        |\n",
    "  -+-----------------+\n",
    "  .|      ...        |\n",
    "  -+-----------------+\n",
    "  i|      ...        |\n",
    "  -+-----------------+\n",
    "  .|      ...        |\n",
    "  -+-----------------+\n",
    "  n|      ...        |\n",
    "  -+-----------------+\n",
    "```\n",
    "- When a new dict is initialized it starts with 8 slots. \n",
    "- When adding entries to the table, we start with some slot, `i`, that is based on the hash of the key. CPython initially uses `i = hash(key) & mask` (where `mask = PyDictMINSIZE - 1`, but that's not really important). Just note that the initial slot for a lookup, `i`, that is checked depends on the hash of the key.\n",
    "- If that slot is empty, the entry is added to the slot (by entry, I mean, `<hash|key|value>`). But what if that slot is occupied!? Most likely because another entry has the same hash (hash collision!).\n",
    "- If the slot is occupied, CPython (and even PyPy) compares the **hash AND the key** (by compare I mean `==` comparison not the `is` comparison) of the entry in the slot against the hash and key of the current entry to be inserted respectively. If both match, then it thinks the entry already exists, gives up and moves on to the next entry to be inserted. If either hash or the key don't match, it starts **probing**.\n",
    "- Probing just means it searches the slots by slot to find an empty slot. Technically we could just go one by one, `i+1, i+2, ...` and use the first available one (that's linear probing). CPython uses **random probing**. In random probing, the next slot is picked in a pseudo random order. The entry is added to the first empty slot. For this discussion, the actual algorithm used to pick the next slot is not really important. What is important is that the slots are probed until first empty slot is found.\n",
    "- The same thing happens for lookups, just starts with the initial slot i (where i depends on the hash of the key). If the hash and the key both don't match the entry in the slot, it starts probing, until it finds a slot with a match. If all slots are exhausted, it reports a fail.\n",
    "- The dict will be *resized if it is two-thirds full*. This avoids slowing down lookups."
   ]
  },
  {
   "cell_type": "markdown",
   "metadata": {},
   "source": [
    "## Работа со словарями"
   ]
  },
  {
   "cell_type": "code",
   "execution_count": 14,
   "metadata": {
    "ExecuteTime": {
     "end_time": "2021-07-07T21:11:23.233129Z",
     "start_time": "2021-07-07T21:11:23.214125Z"
    }
   },
   "outputs": [
    {
     "name": "stdout",
     "output_type": "stream",
     "text": [
      "ale ooo\n"
     ]
    }
   ],
   "source": [
    "my_dict={'key1':2, 'key2':'ale'}\n",
    "my_dict['key3']='ooo'    # добавит новый элемент \n",
    "print(my_dict['key2'], my_dict['key3'])"
   ]
  },
  {
   "cell_type": "markdown",
   "metadata": {},
   "source": [
    "Проверка key на содержание в словаре:"
   ]
  },
  {
   "cell_type": "code",
   "execution_count": 3,
   "metadata": {
    "ExecuteTime": {
     "end_time": "2021-07-07T21:01:03.403978Z",
     "start_time": "2021-07-07T21:01:03.393988Z"
    }
   },
   "outputs": [
    {
     "data": {
      "text/plain": [
       "True"
      ]
     },
     "execution_count": 3,
     "metadata": {},
     "output_type": "execute_result"
    }
   ],
   "source": [
    "'key1' in my_dict"
   ]
  },
  {
   "cell_type": "markdown",
   "metadata": {},
   "source": [
    "In python 3.5+ new feature allows to mearge two dicts in a cool sentence"
   ]
  },
  {
   "cell_type": "code",
   "execution_count": 3,
   "metadata": {
    "ExecuteTime": {
     "end_time": "2019-03-01T03:05:47.518889Z",
     "start_time": "2019-03-01T03:05:47.515879Z"
    }
   },
   "outputs": [
    {
     "name": "stdout",
     "output_type": "stream",
     "text": [
      "{'key1': 2, 'key2': 'ale', 'key3': 'ooo'}\n"
     ]
    }
   ],
   "source": [
    "my_dict1={'key1':2, 'key2':'ale'}\n",
    "my_dict2={'key3':'ooo'}\n",
    "new_merge_dict = {**my_dict1, **my_dict2}\n",
    "print(new_merge_dict)"
   ]
  },
  {
   "cell_type": "markdown",
   "metadata": {},
   "source": [
    "## Методы (некоторые)"
   ]
  },
  {
   "cell_type": "markdown",
   "metadata": {},
   "source": [
    "**get** и **setdefault** - получение значения по элементу."
   ]
  },
  {
   "cell_type": "markdown",
   "metadata": {},
   "source": [
    "`my_dict.get(key, alt_return)` - возвращает значение по ключу `key`. Если такого ключа нет, то возвращает строку `alt_return`."
   ]
  },
  {
   "cell_type": "code",
   "execution_count": 17,
   "metadata": {
    "ExecuteTime": {
     "end_time": "2019-01-30T22:51:27.887435Z",
     "start_time": "2019-01-30T22:51:27.875251Z"
    }
   },
   "outputs": [
    {
     "name": "stdout",
     "output_type": "stream",
     "text": [
      "ale\n",
      "FFFUUU\n"
     ]
    }
   ],
   "source": [
    "print(my_dict.get('key2', 'FFFUUU'))    # my_dict.get(key, default=None) -\n",
    "print(my_dict.get('key4', 'FFFUUU'))    # Return the value for key if key is in the dictionary, else default."
   ]
  },
  {
   "cell_type": "markdown",
   "metadata": {},
   "source": [
    "`my_dict.setdefault(key, alt_value)` - возвращает значение по ключу. Если такого ключа нет, то создает пару (key, alt_value), где alt_value задается пользователем."
   ]
  },
  {
   "cell_type": "code",
   "execution_count": 15,
   "metadata": {
    "ExecuteTime": {
     "end_time": "2021-07-07T21:11:26.495305Z",
     "start_time": "2021-07-07T21:11:26.486325Z"
    }
   },
   "outputs": [
    {
     "name": "stdout",
     "output_type": "stream",
     "text": [
      "[1, 'default']\n"
     ]
    }
   ],
   "source": [
    "my_dict.setdefault('bad_key', [1,'default'])\n",
    "print(my_dict['bad_key'])"
   ]
  },
  {
   "cell_type": "markdown",
   "metadata": {},
   "source": [
    "**Итерация по ключам и значениям**"
   ]
  },
  {
   "cell_type": "code",
   "execution_count": 19,
   "metadata": {
    "ExecuteTime": {
     "end_time": "2019-01-30T22:53:49.478741Z",
     "start_time": "2019-01-30T22:53:49.463184Z"
    }
   },
   "outputs": [
    {
     "name": "stdout",
     "output_type": "stream",
     "text": [
      "dict_values([2, 'ale', 'ooo'])\n",
      "<class 'dict_values'>\n"
     ]
    }
   ],
   "source": [
    "print(my_dict.values())          # создает список (специальный класс dict_values, не list) \n",
    "print(type(my_dict.values()))    # всех значений словаря"
   ]
  },
  {
   "cell_type": "code",
   "execution_count": 20,
   "metadata": {
    "ExecuteTime": {
     "end_time": "2019-01-30T22:55:23.260647Z",
     "start_time": "2019-01-30T22:55:23.240436Z"
    }
   },
   "outputs": [
    {
     "name": "stdout",
     "output_type": "stream",
     "text": [
      "dict_keys(['key1', 'key2', 'key3'])\n",
      "<class 'dict_keys'>\n"
     ]
    }
   ],
   "source": [
    "print(my_dict.keys())          # создает список ключей (специальный класс dict_values, не list) \n",
    "print(type(my_dict.keys())) "
   ]
  },
  {
   "cell_type": "code",
   "execution_count": 29,
   "metadata": {
    "ExecuteTime": {
     "end_time": "2019-01-30T23:06:03.982121Z",
     "start_time": "2019-01-30T23:06:03.919407Z"
    }
   },
   "outputs": [
    {
     "name": "stdout",
     "output_type": "stream",
     "text": [
      "dict_items([('key1', 2), ('key2', 'ale'), ('key3', 'ooo')])\n",
      "\n",
      "Key:  key1\n",
      "Value:  2\n",
      "\n",
      "Key:  key2\n",
      "Value:  ale\n",
      "\n",
      "Key:  key3\n",
      "Value:  ooo\n"
     ]
    }
   ],
   "source": [
    "items = my_dict.items()\n",
    "print(my_dict.items())   # создает список пар key : value словаря (создан специальный класс dict_items). При том:\n",
    "for x, y in items:       # эти пары лежат в tuple соответственно, их можно итерировать, как list[(tuple1), (tuple2),etc]\n",
    "    print(\"\\nKey: \", x)  # в x сохраняется kye при проходке по классу dict_items\n",
    "    print(\"Value: \", y)  # в y сохраняется value при проходке по классу dict_items"
   ]
  },
  {
   "cell_type": "markdown",
   "metadata": {},
   "source": [
    "In python 3.5+ new feature allows to mearge two dicts in a cool sentence\n"
   ]
  },
  {
   "cell_type": "code",
   "execution_count": 5,
   "metadata": {
    "ExecuteTime": {
     "end_time": "2019-03-01T03:09:04.300803Z",
     "start_time": "2019-03-01T03:09:04.296811Z"
    }
   },
   "outputs": [
    {
     "name": "stdout",
     "output_type": "stream",
     "text": [
      "{'key1': 2, 'key2': 'ale', 'key3': 'ooo'}\n"
     ]
    }
   ],
   "source": [
    "my_dict1={'key1':2, 'key2':'ale'}\n",
    "my_dict2={'key3':'ooo'}\n",
    "new_merge_dict = {**my_dict1, **my_dict2}\n",
    "print(new_merge_dict)"
   ]
  },
  {
   "cell_type": "markdown",
   "metadata": {},
   "source": [
    "or using methods: **copy()** and **update()**"
   ]
  },
  {
   "cell_type": "code",
   "execution_count": 6,
   "metadata": {
    "ExecuteTime": {
     "end_time": "2019-03-01T03:09:09.327933Z",
     "start_time": "2019-03-01T03:09:09.324925Z"
    }
   },
   "outputs": [],
   "source": [
    "def merge_two_dicts(dict1, dict2):\n",
    "    z = dict1.copy()   # start with dict1's keys and values\n",
    "    z.update(dict2)    # modifies z with dict2's keys and values & returns None\n",
    "    return z"
   ]
  },
  {
   "cell_type": "code",
   "execution_count": 7,
   "metadata": {
    "ExecuteTime": {
     "end_time": "2019-03-01T03:09:32.876930Z",
     "start_time": "2019-03-01T03:09:32.865936Z"
    }
   },
   "outputs": [
    {
     "data": {
      "text/plain": [
       "{'key1': 2, 'key2': 'ale', 'key3': 'ooo'}"
      ]
     },
     "execution_count": 7,
     "metadata": {},
     "output_type": "execute_result"
    }
   ],
   "source": [
    "merge_two_dicts(my_dict1, my_dict2)"
   ]
  },
  {
   "cell_type": "markdown",
   "metadata": {},
   "source": [
    "**zip()** - составляет словарить из двух list одинаковой длинны по-членно."
   ]
  },
  {
   "cell_type": "code",
   "execution_count": 1,
   "metadata": {},
   "outputs": [
    {
     "data": {
      "text/plain": [
       "{1: 'a', 2: 'b', 3: 'c', 4: 'd'}"
      ]
     },
     "execution_count": 1,
     "metadata": {},
     "output_type": "execute_result"
    }
   ],
   "source": [
    "dict(zip([1,2,3,4], ['a', 'b', 'c', 'd']))"
   ]
  },
  {
   "cell_type": "markdown",
   "metadata": {},
   "source": [
    "## OrderedDict\n",
    "Как обычный словарь, но у него есть порядок и добавление/удаление сохраняет порядок. \n",
    "```\n",
    "from collections import OrderedDict\n",
    "favorite_languages = OrderedDict()\n",
    "```\n",
    "`collections` - это модуль из стандартной библеотеки питона(т.е. из нее надо вручную включать модули, но она идет в любой сборке питона по дефолту)\n"
   ]
  }
 ],
 "metadata": {
  "kernelspec": {
   "display_name": "Python 3",
   "language": "python",
   "name": "python3"
  },
  "language_info": {
   "codemirror_mode": {
    "name": "ipython",
    "version": 3
   },
   "file_extension": ".py",
   "mimetype": "text/x-python",
   "name": "python",
   "nbconvert_exporter": "python",
   "pygments_lexer": "ipython3",
   "version": "3.7.6"
  },
  "toc": {
   "base_numbering": 1,
   "nav_menu": {},
   "number_sections": true,
   "sideBar": true,
   "skip_h1_title": false,
   "title_cell": "Table of Contents",
   "title_sidebar": "Contents",
   "toc_cell": false,
   "toc_position": {},
   "toc_section_display": true,
   "toc_window_display": false
  }
 },
 "nbformat": 4,
 "nbformat_minor": 4
}
