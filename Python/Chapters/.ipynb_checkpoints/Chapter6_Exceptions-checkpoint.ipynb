{
 "cells": [
  {
   "cell_type": "markdown",
   "metadata": {},
   "source": [
    "# Exeptions\n",
    "- exceptions\n",
    "  - raise\n",
    "  - assert\n",
    "- `try`, `except`, `else`"
   ]
  },
  {
   "cell_type": "markdown",
   "metadata": {},
   "source": [
    "**Exeptions** - ошибки выдаваемые при работе программы. Наиболее частые исключения:  \n",
    "- *ArithmeticError* - Raised when numeric calculations fails\n",
    "- *FloatingPointError* - Raised when a floating point calculation fails\n",
    "- *ZeroDivisionError* -\tRaised when division or modulo by zero takes place for all numeric types\n",
    "- *AssertionError* - Raised when Assert statement fails   \n",
    "- *FileNotFoundError* - Ошибка возникающая, если при открытии файл был не найден в данной деректории(неправильное имя или неправильный путь).\n",
    "\n",
    "- И другие. См [тут](https://www.datacamp.com/community/tutorials/exception-handling-python) "
   ]
  },
  {
   "cell_type": "markdown",
   "metadata": {},
   "source": [
    "- *NotImplementedError* - используется как флаг для недоделанного/пустого метода. Т.е. либо 1) этот метод должен быть переписан в child class (если он не переписан, то вызовем индикатор и вспомним, что надо переписать), либо 2) просто маркера, что тут недоделанный класс "
   ]
  },
  {
   "cell_type": "markdown",
   "metadata": {},
   "source": [
    "## Иерархия класса исключений\n",
    "**Исключения** (**Exeptions**) - это специальный класс для отлова и обработки ошибок. "
   ]
  },
  {
   "cell_type": "markdown",
   "metadata": {},
   "source": [
    "У исключений есть наследственная иерархия:\n",
    "- Все исключения наследуются от базового класса `BaseException`.\n",
    "- Большинство стандартных исключений основаны на классе `Exception`. При создании кастомного исключения, описывающий его класс должен наследовать от `Exception`."
   ]
  },
  {
   "cell_type": "markdown",
   "metadata": {},
   "source": [
    "**Иерархия класса исключений**. Подробнее см. [тут](https://docs.python.org/3/library/exceptions.html)\n",
    "<img src=\"./img/exception_hierarchy.png\" alt=\"exception_hierarchy\"/>  \n",
    "[источник картинки](https://dotnettutorials.net/lesson/exception-handling-in-python/)"
   ]
  },
  {
   "cell_type": "markdown",
   "metadata": {},
   "source": [
    "## Handling exceptions"
   ]
  },
  {
   "cell_type": "markdown",
   "metadata": {},
   "source": [
    "```python\n",
    "try:\n",
    "    answer = int(first_number) / int(second_number)\n",
    "except ZeroDivisionError:\n",
    "    print(\"You can't divide by 0!\")\n",
    "except TypeError:\n",
    "    print(\"You can't divide char type!\")\n",
    "else:\n",
    "    print(answer)\n",
    "finally:\n",
    "    print(\"Final end\")\n",
    "```\n",
    "\n",
    "- `try:` - блок в котором пишется код, потенциально вызывающий исключение\n",
    "- `except <ExcepetionType>:` - часть кода выполняемая при исловии конкретного исключения ExceptionType. После этого программа не останавливается, а переходит к блоку следующему за *Exeption Handling*\n",
    "  - `except:` - все возможнные исключения разом. Используется в конце, т.е. после всех `except ExcepetionType:` т.к. программа проверяте условия последовательно. \n",
    "  - Можно использовать несколько типов сразу: `except (RuntimeError, TypeError, NameError):`\n",
    "  - `except ExcepetionType as smth:` - сохранит в smth описание исключения. *То же самое сообщение, что было бы без этого блока.*\n",
    "  - Можно поставить, например, команду `pass`. Тогда exception просто проигнорируеся молча.\n",
    "- `else:` - (опциональная часть) эта часть выполнится, если выполнистся `try` и не вызовет никаких exception. \n",
    "- `finally` - (опциональная часть) блок finally выполняется всегда. Возникло исключение или нет - блок finally будет выполнен в любом случаии."
   ]
  },
  {
   "cell_type": "code",
   "execution_count": 3,
   "metadata": {
    "ExecuteTime": {
     "end_time": "2021-09-08T19:16:40.041573Z",
     "start_time": "2021-09-08T19:16:40.030582Z"
    }
   },
   "outputs": [
    {
     "name": "stdout",
     "output_type": "stream",
     "text": [
      "You can't divide char type!\n",
      " unsupported operand type(s) for /: 'str' and 'int'\n",
      "<class 'TypeError'>\n",
      "Final end\n"
     ]
    }
   ],
   "source": [
    "first_number, second_number = 'a', 0\n",
    "try:\n",
    "    answer = first_number / second_number\n",
    "except ZeroDivisionError:\n",
    "    print(\"You can't divide by 0!\")\n",
    "except TypeError as err:\n",
    "    print(\"You can't divide char type!\\n\", err)\n",
    "    print(type(err))\n",
    "else:\n",
    "    print(answer)\n",
    "finally:\n",
    "    print(\"Final end\")"
   ]
  },
  {
   "cell_type": "markdown",
   "metadata": {},
   "source": [
    "### Propagation exceptions"
   ]
  },
  {
   "cell_type": "markdown",
   "metadata": {},
   "source": [
    "Обработка исключения может происходить на любом уровне стэка вызов. Когда срабатывает исключение, интерпретатор ищет обработчик (т.е. блок `try ... except ...`) в этом фрейме. Если его тут нет, то он поднимается выше по стэку вызовов, и снова ищет обработчик. Так интерпретатор будет идти вверх по стэку вызовов, пока не найдет обработчик или не кончится стэк (т.е. в программе нет обработчика совем). В последнем случаии, программа завершится с ошибкой."
   ]
  },
  {
   "cell_type": "markdown",
   "metadata": {},
   "source": [
    "Без обработки, будет выведен стэк вызовов. В стэке, последняя ф-ция - это ф-ция, где сработало исключение. "
   ]
  },
  {
   "cell_type": "code",
   "execution_count": 13,
   "metadata": {
    "ExecuteTime": {
     "end_time": "2021-09-08T20:00:10.578649Z",
     "start_time": "2021-09-08T20:00:10.554669Z"
    }
   },
   "outputs": [
    {
     "ename": "ZeroDivisionError",
     "evalue": "division by zero",
     "output_type": "error",
     "traceback": [
      "\u001b[1;31m---------------------------------------------------------------------------\u001b[0m",
      "\u001b[1;31mZeroDivisionError\u001b[0m                         Traceback (most recent call last)",
      "\u001b[1;32m<ipython-input-13-bb9012ec1092>\u001b[0m in \u001b[0;36m<module>\u001b[1;34m\u001b[0m\n\u001b[0;32m      5\u001b[0m     \u001b[1;32mreturn\u001b[0m \u001b[0mfunct2\u001b[0m\u001b[1;33m(\u001b[0m\u001b[1;33m)\u001b[0m\u001b[1;33m\u001b[0m\u001b[1;33m\u001b[0m\u001b[0m\n\u001b[0;32m      6\u001b[0m \u001b[1;33m\u001b[0m\u001b[0m\n\u001b[1;32m----> 7\u001b[1;33m \u001b[0mfunct1\u001b[0m\u001b[1;33m(\u001b[0m\u001b[1;33m)\u001b[0m\u001b[1;33m\u001b[0m\u001b[1;33m\u001b[0m\u001b[0m\n\u001b[0m",
      "\u001b[1;32m<ipython-input-13-bb9012ec1092>\u001b[0m in \u001b[0;36mfunct1\u001b[1;34m()\u001b[0m\n\u001b[0;32m      3\u001b[0m \u001b[1;33m\u001b[0m\u001b[0m\n\u001b[0;32m      4\u001b[0m \u001b[1;32mdef\u001b[0m \u001b[0mfunct1\u001b[0m\u001b[1;33m(\u001b[0m\u001b[1;33m)\u001b[0m\u001b[1;33m:\u001b[0m\u001b[1;33m\u001b[0m\u001b[1;33m\u001b[0m\u001b[0m\n\u001b[1;32m----> 5\u001b[1;33m     \u001b[1;32mreturn\u001b[0m \u001b[0mfunct2\u001b[0m\u001b[1;33m(\u001b[0m\u001b[1;33m)\u001b[0m\u001b[1;33m\u001b[0m\u001b[1;33m\u001b[0m\u001b[0m\n\u001b[0m\u001b[0;32m      6\u001b[0m \u001b[1;33m\u001b[0m\u001b[0m\n\u001b[0;32m      7\u001b[0m \u001b[0mfunct1\u001b[0m\u001b[1;33m(\u001b[0m\u001b[1;33m)\u001b[0m\u001b[1;33m\u001b[0m\u001b[1;33m\u001b[0m\u001b[0m\n",
      "\u001b[1;32m<ipython-input-13-bb9012ec1092>\u001b[0m in \u001b[0;36mfunct2\u001b[1;34m()\u001b[0m\n\u001b[0;32m      1\u001b[0m \u001b[1;32mdef\u001b[0m \u001b[0mfunct2\u001b[0m\u001b[1;33m(\u001b[0m\u001b[1;33m)\u001b[0m\u001b[1;33m:\u001b[0m\u001b[1;33m\u001b[0m\u001b[1;33m\u001b[0m\u001b[0m\n\u001b[1;32m----> 2\u001b[1;33m     \u001b[1;32mreturn\u001b[0m \u001b[1;36m1\u001b[0m\u001b[1;33m/\u001b[0m\u001b[1;36m0\u001b[0m\u001b[1;33m\u001b[0m\u001b[1;33m\u001b[0m\u001b[0m\n\u001b[0m\u001b[0;32m      3\u001b[0m \u001b[1;33m\u001b[0m\u001b[0m\n\u001b[0;32m      4\u001b[0m \u001b[1;32mdef\u001b[0m \u001b[0mfunct1\u001b[0m\u001b[1;33m(\u001b[0m\u001b[1;33m)\u001b[0m\u001b[1;33m:\u001b[0m\u001b[1;33m\u001b[0m\u001b[1;33m\u001b[0m\u001b[0m\n\u001b[0;32m      5\u001b[0m     \u001b[1;32mreturn\u001b[0m \u001b[0mfunct2\u001b[0m\u001b[1;33m(\u001b[0m\u001b[1;33m)\u001b[0m\u001b[1;33m\u001b[0m\u001b[1;33m\u001b[0m\u001b[0m\n",
      "\u001b[1;31mZeroDivisionError\u001b[0m: division by zero"
     ]
    }
   ],
   "source": [
    "def funct2():\n",
    "    return 1/0\n",
    " \n",
    "def funct1():\n",
    "    return funct2()\n",
    "\n",
    "funct1()"
   ]
  },
  {
   "cell_type": "code",
   "execution_count": 17,
   "metadata": {
    "ExecuteTime": {
     "end_time": "2021-09-08T20:04:57.514553Z",
     "start_time": "2021-09-08T20:04:57.506558Z"
    }
   },
   "outputs": [
    {
     "name": "stdout",
     "output_type": "stream",
     "text": [
      "Error for funct1\n"
     ]
    }
   ],
   "source": [
    "def funct2():\n",
    "    return 1/0      # 1 -> сначала ищут обработчик тут\n",
    " \n",
    "def funct1():\n",
    "    return funct2() # 2 -> потом тут \n",
    "\n",
    "try:\n",
    "    funct1()        # 3 -> в конце концов - тут \n",
    "except: \n",
    "    print(\"Error for funct1\")"
   ]
  },
  {
   "cell_type": "markdown",
   "metadata": {
    "heading_collapsed": true
   },
   "source": [
    "### Обработка исключений по иерархии"
   ]
  },
  {
   "cell_type": "markdown",
   "metadata": {
    "hidden": true
   },
   "source": [
    "Обработка исключений происходит в соответсвии с иерархией: *обработка отцовского класса-исключения, обрабатывает и любой дочерний класс-исключение*. Так, например, \n",
    "- Eсли обработать класс-исключение `ArithmeticError`, то в него войдут все нижлежащие исключения: `ZeroDivisionError`, `FloatingPointError`, etc. \n",
    "- Если же обработь класс `Exception`, то в него войдут вообще почти все стандартные ошибки."
   ]
  },
  {
   "cell_type": "code",
   "execution_count": 4,
   "metadata": {
    "ExecuteTime": {
     "end_time": "2021-09-08T19:33:56.963978Z",
     "start_time": "2021-09-08T19:33:56.957986Z"
    },
    "hidden": true
   },
   "outputs": [
    {
     "name": "stdout",
     "output_type": "stream",
     "text": [
      "ZeroDivisionError входит сюда\n"
     ]
    }
   ],
   "source": [
    "try:\n",
    "    2/0\n",
    "except ArithmeticError:\n",
    "    print(\"ZeroDivisionError входит сюда\")"
   ]
  },
  {
   "cell_type": "code",
   "execution_count": 5,
   "metadata": {
    "ExecuteTime": {
     "end_time": "2021-09-08T19:34:29.856041Z",
     "start_time": "2021-09-08T19:34:29.838037Z"
    },
    "hidden": true
   },
   "outputs": [
    {
     "name": "stdout",
     "output_type": "stream",
     "text": [
      "Сюда входит почти все\n"
     ]
    }
   ],
   "source": [
    "try:\n",
    "    2/0\n",
    "except Exception:\n",
    "    print(\"Сюда входит почти все\")"
   ]
  },
  {
   "cell_type": "markdown",
   "metadata": {
    "heading_collapsed": true
   },
   "source": [
    "### Исключение - это объект"
   ]
  },
  {
   "cell_type": "markdown",
   "metadata": {
    "hidden": true
   },
   "source": [
    "Конструкция: \n",
    "```python \n",
    "except ArithmeticError as error:\n",
    "```\n",
    "позволяет сохранить исключение в объекте `error` (т.е. создает объект класса `ArithmeticError` и именем `error`). Далее его можно использовать."
   ]
  },
  {
   "cell_type": "code",
   "execution_count": 6,
   "metadata": {
    "ExecuteTime": {
     "end_time": "2021-09-08T19:38:09.248915Z",
     "start_time": "2021-09-08T19:38:09.242924Z"
    },
    "hidden": true
   },
   "outputs": [
    {
     "name": "stdout",
     "output_type": "stream",
     "text": [
      "division by zero\n"
     ]
    }
   ],
   "source": [
    "try:\n",
    "    2/0\n",
    "except ArithmeticError as error:\n",
    "    print(error)"
   ]
  },
  {
   "cell_type": "markdown",
   "metadata": {},
   "source": [
    "### Собственные исключения"
   ]
  },
  {
   "cell_type": "markdown",
   "metadata": {},
   "source": [
    "При создании собственных классов, всегда надо наследовать от класса `Exception`.     \n",
    "\n",
    "Большинство пользовательских исключений - это пустые классы. У них есть только имя и описание. Например:"
   ]
  },
  {
   "cell_type": "code",
   "execution_count": 7,
   "metadata": {
    "ExecuteTime": {
     "end_time": "2021-09-08T19:41:48.527200Z",
     "start_time": "2021-09-08T19:41:48.521204Z"
    }
   },
   "outputs": [],
   "source": [
    "class ExceptionPrint(Exception):\n",
    "    \"\"\"Общий класс исключения принтера\"\"\""
   ]
  },
  {
   "cell_type": "markdown",
   "metadata": {},
   "source": [
    "У `Exception` есть служебные методы, которые нам обычно переопределять не надо. Там есть `__init__` принимающий `*args`. Туда обычно отправляют пользовательский текст сообщения об ошибке или/и другие объекты (данные повлекшии ошибки и т.п.). К ним потом будет обраться через экзепляр этого исключения (т.е. надо использовать конструкцию `except <ExceptionType> as error`, где error - это экзепляр)."
   ]
  },
  {
   "cell_type": "code",
   "execution_count": 19,
   "metadata": {
    "ExecuteTime": {
     "end_time": "2021-09-08T20:12:47.180225Z",
     "start_time": "2021-09-08T20:12:41.815649Z"
    }
   },
   "outputs": [
    {
     "name": "stdout",
     "output_type": "stream",
     "text": [
      "введите число: f\n",
      "некорректное значение! ('плохое число', 'f')\n"
     ]
    }
   ],
   "source": [
    "try:\n",
    "    raw = input(\"введите число: \")\n",
    "    if not raw.isdigit():\n",
    "        raise ValueError(\"плохое число\", raw) #сохранили сообщение и объект повлекший ошибку\n",
    "except ValueError as err: \n",
    "    print(\"некорректное значение!\", err)"
   ]
  },
  {
   "cell_type": "markdown",
   "metadata": {},
   "source": [
    "-----"
   ]
  },
  {
   "cell_type": "markdown",
   "metadata": {},
   "source": [
    "Можно переопределить дефолтный инициализатор и обработать принимаемые аргументы."
   ]
  },
  {
   "cell_type": "code",
   "execution_count": 9,
   "metadata": {
    "ExecuteTime": {
     "end_time": "2021-09-08T19:48:45.562285Z",
     "start_time": "2021-09-08T19:48:45.545284Z"
    }
   },
   "outputs": [],
   "source": [
    "class ExceptionPrintSendData(Exception):\n",
    "    \"\"\"Класс исключения при отправке данных принтеру\"\"\"\n",
    "    def __init__(self, *args):\n",
    "        super().__init__(*args)\n",
    "        self.message = args[0] if args else None\n",
    "    \n",
    "    def __str__(self):\n",
    "        return f\"Ошибка: {self.message}\""
   ]
  },
  {
   "cell_type": "markdown",
   "metadata": {},
   "source": [
    "----"
   ]
  },
  {
   "cell_type": "markdown",
   "metadata": {},
   "source": [
    "## Инструкции raise и assert"
   ]
  },
  {
   "cell_type": "markdown",
   "metadata": {},
   "source": [
    "**`raise <ExcepetionType>`** - позволяет произвольно вызывать исключения."
   ]
  },
  {
   "cell_type": "code",
   "execution_count": 16,
   "metadata": {
    "ExecuteTime": {
     "end_time": "2019-06-21T16:52:30.390209Z",
     "start_time": "2019-06-21T16:52:30.377209Z"
    }
   },
   "outputs": [
    {
     "ename": "NameError",
     "evalue": "HiThere",
     "output_type": "error",
     "traceback": [
      "\u001b[1;31m---------------------------------------------------------------------------\u001b[0m",
      "\u001b[1;31mNameError\u001b[0m                                 Traceback (most recent call last)",
      "\u001b[1;32m<ipython-input-16-72c183edb298>\u001b[0m in \u001b[0;36m<module>\u001b[1;34m()\u001b[0m\n\u001b[1;32m----> 1\u001b[1;33m \u001b[1;32mraise\u001b[0m \u001b[0mNameError\u001b[0m\u001b[1;33m(\u001b[0m\u001b[1;34m'HiThere'\u001b[0m\u001b[1;33m)\u001b[0m\u001b[1;33m\u001b[0m\u001b[0m\n\u001b[0m",
      "\u001b[1;31mNameError\u001b[0m: HiThere"
     ]
    }
   ],
   "source": [
    "raise NameError('HiThere')"
   ]
  },
  {
   "cell_type": "code",
   "execution_count": 19,
   "metadata": {
    "ExecuteTime": {
     "end_time": "2019-06-21T16:55:18.780841Z",
     "start_time": "2019-06-21T16:55:18.765840Z"
    }
   },
   "outputs": [
    {
     "ename": "Exception",
     "evalue": "Just for fun",
     "output_type": "error",
     "traceback": [
      "\u001b[1;31m---------------------------------------------------------------------------\u001b[0m",
      "\u001b[1;31mException\u001b[0m                                 Traceback (most recent call last)",
      "\u001b[1;32m<ipython-input-19-e73eee84177e>\u001b[0m in \u001b[0;36m<module>\u001b[1;34m()\u001b[0m\n\u001b[1;32m----> 1\u001b[1;33m \u001b[1;32mraise\u001b[0m \u001b[0mException\u001b[0m\u001b[1;33m(\u001b[0m\u001b[1;34m'Just for fun'\u001b[0m\u001b[1;33m)\u001b[0m\u001b[1;33m\u001b[0m\u001b[0m\n\u001b[0m",
      "\u001b[1;31mException\u001b[0m: Just for fun"
     ]
    }
   ],
   "source": [
    "raise Exception('Just for fun')"
   ]
  },
  {
   "cell_type": "markdown",
   "metadata": {
    "ExecuteTime": {
     "end_time": "2019-06-21T16:54:27.629915Z",
     "start_time": "2019-06-21T16:54:27.613914Z"
    }
   },
   "source": [
    "---\n",
    "**`assert *condition*, *error message*`** -  проверяет *condition*. Если True, то программа выполняется далее. Если False, то вызывается AssertionError с *error message*"
   ]
  },
  {
   "cell_type": "code",
   "execution_count": 21,
   "metadata": {
    "ExecuteTime": {
     "end_time": "2019-06-21T17:01:51.666313Z",
     "start_time": "2019-06-21T17:01:51.656312Z"
    }
   },
   "outputs": [
    {
     "ename": "AssertionError",
     "evalue": "Just for fun",
     "output_type": "error",
     "traceback": [
      "\u001b[1;31m---------------------------------------------------------------------------\u001b[0m",
      "\u001b[1;31mAssertionError\u001b[0m                            Traceback (most recent call last)",
      "\u001b[1;32m<ipython-input-21-92cf3416bb4c>\u001b[0m in \u001b[0;36m<module>\u001b[1;34m()\u001b[0m\n\u001b[0;32m      1\u001b[0m \u001b[0msmth\u001b[0m \u001b[1;33m=\u001b[0m \u001b[1;34m''\u001b[0m\u001b[1;33m\u001b[0m\u001b[0m\n\u001b[1;32m----> 2\u001b[1;33m \u001b[1;32massert\u001b[0m \u001b[0mlen\u001b[0m\u001b[1;33m(\u001b[0m\u001b[0msmth\u001b[0m\u001b[1;33m)\u001b[0m \u001b[1;33m!=\u001b[0m \u001b[1;36m0\u001b[0m\u001b[1;33m,\u001b[0m \u001b[1;34m'Just for fun'\u001b[0m\u001b[1;33m\u001b[0m\u001b[0m\n\u001b[0m",
      "\u001b[1;31mAssertionError\u001b[0m: Just for fun"
     ]
    }
   ],
   "source": [
    "smth = ''\n",
    "assert len(smth) != 0, 'Just for fun'"
   ]
  }
 ],
 "metadata": {
  "kernelspec": {
   "display_name": "Python 3",
   "language": "python",
   "name": "python3"
  },
  "language_info": {
   "codemirror_mode": {
    "name": "ipython",
    "version": 3
   },
   "file_extension": ".py",
   "mimetype": "text/x-python",
   "name": "python",
   "nbconvert_exporter": "python",
   "pygments_lexer": "ipython3",
   "version": "3.7.6"
  },
  "toc": {
   "base_numbering": 1,
   "nav_menu": {},
   "number_sections": true,
   "sideBar": true,
   "skip_h1_title": false,
   "title_cell": "Table of Contents",
   "title_sidebar": "Contents",
   "toc_cell": false,
   "toc_position": {},
   "toc_section_display": true,
   "toc_window_display": false
  }
 },
 "nbformat": 4,
 "nbformat_minor": 4
}
