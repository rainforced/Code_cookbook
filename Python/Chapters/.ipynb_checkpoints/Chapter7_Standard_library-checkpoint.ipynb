{
 "cells": [
  {
   "cell_type": "markdown",
   "metadata": {},
   "source": [
    "# OS"
   ]
  },
  {
   "cell_type": "code",
   "execution_count": 3,
   "metadata": {
    "ExecuteTime": {
     "end_time": "2021-07-20T18:02:28.987160Z",
     "start_time": "2021-07-20T18:02:28.979166Z"
    }
   },
   "outputs": [],
   "source": [
    "import os "
   ]
  },
  {
   "cell_type": "markdown",
   "metadata": {},
   "source": [
    "В библиотеке `tempfile` есть ф-ция `gettempdir()`. Она возвращает путь до папки **temp**, где хранятся временные файлы."
   ]
  },
  {
   "cell_type": "code",
   "execution_count": 2,
   "metadata": {
    "ExecuteTime": {
     "end_time": "2021-07-20T17:45:12.733007Z",
     "start_time": "2021-07-20T17:45:12.715036Z"
    }
   },
   "outputs": [],
   "source": [
    "import tempfile\n",
    "storage_path = os.path.join(tempfile.gettempdir(), 'my_file.json')"
   ]
  },
  {
   "cell_type": "markdown",
   "metadata": {},
   "source": [
    "`os.path.exists(path)` - проверяет существует ли файл по данному пути."
   ]
  },
  {
   "cell_type": "code",
   "execution_count": 4,
   "metadata": {
    "ExecuteTime": {
     "end_time": "2021-07-20T18:02:51.913360Z",
     "start_time": "2021-07-20T18:02:51.852917Z"
    }
   },
   "outputs": [
    {
     "data": {
      "text/plain": [
       "True"
      ]
     },
     "execution_count": 4,
     "metadata": {},
     "output_type": "execute_result"
    }
   ],
   "source": [
    "# Проверяет существует ли файл по данному пути\n",
    "os.path.exists(storage_path)"
   ]
  },
  {
   "cell_type": "markdown",
   "metadata": {
    "heading_collapsed": true
   },
   "source": [
    "# argparse\n",
    "Модуль для обработки аргументов переданных из командной строки.     \n",
    "Источник: [habr: \"Изучаем Python: модуль argparse\"](https://habr.com/ru/company/ruvds/blog/440654/)"
   ]
  },
  {
   "cell_type": "markdown",
   "metadata": {
    "hidden": true
   },
   "source": [
    "```python\n",
    "import argparse \n",
    "\n",
    "parser = argparse.ArgumentParser(description='Videos to images')\n",
    "parser.add_argument('indir', `type=str`, help='Input dir for videos')\n",
    "parser.add_argument('outdir', type=str, help='Output dir for image')\n",
    "\n",
    "args = parser.parse_args()\n",
    "```\n",
    "- `type = str` - ожидается, что в консоль будет передан строковый формат.\n",
    "- `help = \" \"` - это информация, которая будет выведена при запросе `--help` или `-h`."
   ]
  },
  {
   "cell_type": "markdown",
   "metadata": {
    "hidden": true
   },
   "source": [
    "Здесь, в начале файла, импортируется модуль `argparse`. Затем, с использованием конструкции `argparse.ArgumentParser()`, создаётся объект `parser` с указанием его описания. Далее, с помощью метода `parser.add_argument()`, описывается переменная `indir`, в которую планируется записать путь к папке с видеофайлами. При этом указывается то, что она имеет строковой тип, а также задаётся справочная информация о ней. После этого, точно так же, создаётся переменная `outdir`, в которую попадёт путь к папке, в которую скрипт должен будет поместить изображения, созданные на основе видеофайлов. На следующем шаге работы в переменную args попадает результат разбора аргументов командной строки. То, что передано скрипту при запуске, теперь будет доступно в виде свойств `indir` и `outdir` объекта `args`. Теперь с этими значениями можно работать. В данном случае мы просто выводим в консоль то, что передано скрипту в аргументе `indir`.\n"
   ]
  },
  {
   "cell_type": "markdown",
   "metadata": {
    "hidden": true
   },
   "source": [
    "Вот как запустить этот скрипт из командной строки:       \n",
    "```\n",
    "python videos.py /videos /images\n",
    "```\n",
    "Обратите внимание на то, что строки /videos и /images не нужно заключать в кавычки."
   ]
  },
  {
   "cell_type": "markdown",
   "metadata": {
    "hidden": true
   },
   "source": [
    "## Позиционные аргументы (обязательные)"
   ]
  },
  {
   "cell_type": "markdown",
   "metadata": {
    "hidden": true
   },
   "source": [
    "Конструкция вида `parser.add_argument('indir', type=str, help='Input dir for videos')` из скрипта *videos.py* предназначена для создания позиционного аргумента (**positional argument**). При вызове скрипта важен порядок указания таких аргументов. Так, первый аргумент, переданный скрипту, становится первым позиционным аргументом, второй аргумент — вторым позиционным аргументом.    \n",
    "\n",
    "Чтобы запустить скрипт, в котором предусмотрено использование позиционных аргументов, такие аргументы всегда нужно указывать при его запуске, иначе будет ошибка."
   ]
  },
  {
   "cell_type": "markdown",
   "metadata": {
    "hidden": true
   },
   "source": [
    "## Необязательные аргументы"
   ]
  },
  {
   "cell_type": "markdown",
   "metadata": {
    "hidden": true
   },
   "source": [
    "Необязательные аргументы создают так же, как и позиционные. Основная разница между командами их создания заключается в том, что при указании имён таких аргументов эти имена начинаются с последовательности символов `--`, или, для кратких форм аргументов, с символа `-`. Например, необязательный аргумент можно создать так:\n",
    "\n",
    "```python\n",
    "parser.add_argument('-m', '--my_optional',\n",
    "    type=int,\n",
    "    default=2,\n",
    "    help='provide an integer (default: 2)')\n",
    "```\n",
    "\n",
    "- Тут `--my_optional` это полное имя аргумента, а `-m` сокращенное. \n",
    "- `default = 2` - дефолтное значение, если аргумент не будет указан."
   ]
  },
  {
   "cell_type": "markdown",
   "metadata": {
    "hidden": true
   },
   "source": [
    "Необязательным аргументам можно назначать значения, которые они будут иметь по умолчанию. В нашем случае, если при вызове скрипта аргументу *my_example* не будет задано никакого значения, в него будет записано число 2, которое и будет выведено в консоль. Для того чтобы задать значение этого аргумента во время запуска скрипта можно воспользоваться такой конструкцией:    \n",
    "\n",
    "`python my_example.py  --my_optional=3` "
   ]
  },
  {
   "cell_type": "markdown",
   "metadata": {
    "heading_collapsed": true
   },
   "source": [
    "# csv\n",
    "Модуль для обработки CSV, TSV, etc - табличных данных.     \n",
    "Источник: [Python для сетевых инженеров](https://pyneng.readthedocs.io/ru/latest/book/17_serialization/csv.html)"
   ]
  },
  {
   "cell_type": "markdown",
   "metadata": {
    "hidden": true
   },
   "source": [
    "**CSV (comma-separated value)** - это формат представления табличных данных (например, это могут быть данные из таблицы или данные из БД). В этом формате каждая строка файла - это строка таблицы. Несмотря на название формата, разделителем может быть не только запятая.    \n",
    "\n",
    "И хотя у форматов с другим разделителем может быть и собственное название, например, **TSV (tab separated values)**, тем не менее, под форматом CSV понимают, как правило, любые разделители.    "
   ]
  },
  {
   "cell_type": "code",
   "execution_count": 1,
   "metadata": {
    "ExecuteTime": {
     "end_time": "2021-07-19T09:07:50.903029Z",
     "start_time": "2021-07-19T09:07:50.882870Z"
    },
    "hidden": true
   },
   "outputs": [],
   "source": [
    "import csv"
   ]
  },
  {
   "cell_type": "code",
   "execution_count": 22,
   "metadata": {
    "ExecuteTime": {
     "end_time": "2021-07-19T09:31:23.438767Z",
     "start_time": "2021-07-19T09:31:23.417885Z"
    },
    "hidden": true
   },
   "outputs": [
    {
     "name": "stdout",
     "output_type": "stream",
     "text": [
      "first name, last name, module1, module2\n",
      "Vasya, Shystriy, 420, 90\n",
      "Peter, Klesh', 111, 90.2\n",
      "<class '_csv.reader'>\n",
      "['first name', ' last name', ' module1', ' module2'] 4\n",
      "['Vasya', ' Shystriy', ' 420', ' 90'] 4\n",
      "['Peter', \" Klesh'\", ' 111', ' 90.2'] 4\n"
     ]
    }
   ],
   "source": [
    "with open(r\"./staff/Chapter7/Chapter7_csv_test_data1.csv\") as f:\n",
    "    print(f.read())\n",
    "\n",
    "with open(r\"./staff/Chapter7/Chapter7_csv_test_data1.csv\") as csv_file:\n",
    "    reader = csv.reader(csv_file)\n",
    "    print(type(reader))\n",
    "    for row in reader:\n",
    "        print(row, len(row))"
   ]
  },
  {
   "cell_type": "markdown",
   "metadata": {
    "hidden": true
   },
   "source": [
    "`reader` - это объект генератор, т.е. он прочитывается только один раз.    "
   ]
  },
  {
   "cell_type": "markdown",
   "metadata": {
    "hidden": true
   },
   "source": [
    "Чаще всего заголовки столбцов удобней получить отдельным объектом. Т.к. объект reader - это генератор, то для этого можно воспользоваться ф-цией `next()`. Например: "
   ]
  },
  {
   "cell_type": "code",
   "execution_count": 24,
   "metadata": {
    "ExecuteTime": {
     "end_time": "2021-07-19T09:31:51.868064Z",
     "start_time": "2021-07-19T09:31:51.848227Z"
    },
    "hidden": true
   },
   "outputs": [
    {
     "name": "stdout",
     "output_type": "stream",
     "text": [
      "Headers: ['first name', ' last name', ' module1', ' module2'] 4\n",
      "Data: ['Vasya', ' Shystriy', ' 420', ' 90'] 4\n",
      "Data: ['Peter', \" Klesh'\", ' 111', ' 90.2'] 4\n"
     ]
    }
   ],
   "source": [
    "with open(r\"./staff/Chapter7/Chapter7_csv_test_data1.csv\") as csv_file:\n",
    "    reader = csv.reader(csv_file)\n",
    "    headers = next(reader)\n",
    "    print(\"Headers: {} {}\".format(headers, len(headers)))\n",
    "    for row in reader:\n",
    "        print(\"Data: {} {}\".format(row, len(row)))"
   ]
  },
  {
   "cell_type": "markdown",
   "metadata": {
    "hidden": true
   },
   "source": [
    "Иногда полученный CSV объект удобно форматровать в список, т.е. 2D array:"
   ]
  },
  {
   "cell_type": "code",
   "execution_count": 28,
   "metadata": {
    "ExecuteTime": {
     "end_time": "2021-07-18T18:31:54.828954Z",
     "start_time": "2021-07-18T18:31:54.822941Z"
    },
    "hidden": true
   },
   "outputs": [
    {
     "name": "stdout",
     "output_type": "stream",
     "text": [
      "[['first name', ' last name', ' module1', ' module2'], ['Vasya', ' Shystriy', ' 420', ' 90'], ['Peter', \" Klesh'\", ' 111', ' 90.2']]\n"
     ]
    }
   ],
   "source": [
    "with open(r\"./staff/Chapter7/Chapter7_csv_test_data1.csv\") as csv_file:\n",
    "    reader = list(csv.reader(csv_file))\n",
    "    print(reader)"
   ]
  },
  {
   "cell_type": "markdown",
   "metadata": {
    "ExecuteTime": {
     "end_time": "2021-07-18T18:09:13.401134Z",
     "start_time": "2021-07-18T18:09:13.388142Z"
    },
    "hidden": true
   },
   "source": [
    "## Другие разделители\n",
    "Регулируются с помощью параметра `delimiter = \"\"`."
   ]
  },
  {
   "cell_type": "code",
   "execution_count": 26,
   "metadata": {
    "ExecuteTime": {
     "end_time": "2021-07-19T09:32:07.253755Z",
     "start_time": "2021-07-19T09:32:07.234766Z"
    },
    "hidden": true
   },
   "outputs": [
    {
     "name": "stdout",
     "output_type": "stream",
     "text": [
      "first name; last name; module1; module2\n",
      "Vasya; Shystriy; 420; 90\n",
      "Peter; Klesh'; 111; 90.2\n",
      "['first name', ' last name', ' module1', ' module2'] 4\n",
      "['Vasya', ' Shystriy', ' 420', ' 90'] 4\n",
      "['Peter', \" Klesh'\", ' 111', ' 90.2'] 4\n"
     ]
    }
   ],
   "source": [
    "with open(r\"./staff/Chapter7/Chapter7_csv_test_data2\") as f:\n",
    "    print(f.read())\n",
    "\n",
    "\n",
    "with open(r\"./staff/Chapter7/Chapter7_csv_test_data2\") as csv_file:\n",
    "    reader = csv.reader(csv_file, delimiter = \";\")\n",
    "    for row in reader:\n",
    "        print(row, len(row))"
   ]
  },
  {
   "cell_type": "markdown",
   "metadata": {
    "hidden": true
   },
   "source": [
    "## Чтение строк содержащих специальные знаки"
   ]
  },
  {
   "cell_type": "markdown",
   "metadata": {
    "hidden": true
   },
   "source": [
    "Иногда запятая не разделяет данные, а является частью строки. В этом случаии, строка (один элемент таблицы) включатеся в кавычки. Кавычки указывают на то, что именно является целой строкой. Когда запятая находится в кавычках, модуль csv не воспринимает её как разделитель.    \n",
    "\n",
    "Также перенос строки воспринимается как новый ряд, если строка не включена в кавычки. Если  жестрока находится в кавычках, то можно переносить строку внутри одного элемента."
   ]
  },
  {
   "cell_type": "code",
   "execution_count": 27,
   "metadata": {
    "ExecuteTime": {
     "end_time": "2021-07-19T09:32:18.382720Z",
     "start_time": "2021-07-19T09:32:18.361733Z"
    },
    "hidden": true
   },
   "outputs": [
    {
     "name": "stdout",
     "output_type": "stream",
     "text": [
      "first name,last name,module1,module2,description\n",
      "Vasya,Shystriy,\"420.2\",90,Good loot\n",
      "Peter,Klesh',111,90.2,\"Very very\n",
      "wild scav\"\n",
      "['first name', 'last name', 'module1', 'module2', 'description'] 5\n",
      "['Vasya', 'Shystriy', '420.2', '90', 'Good loot'] 5\n",
      "['Peter', \"Klesh'\", '111', '90.2', 'Very very\\nwild scav'] 5\n"
     ]
    }
   ],
   "source": [
    "# файл в котором нет пробелов после разделяющей запятой\n",
    "with open(r\"./staff/Chapter7/Chapter7_csv_test_data3.csv\") as f:\n",
    "    print(f.read())\n",
    "\n",
    "with open(r\"./staff/Chapter7/Chapter7_csv_test_data3.csv\") as csv_file:\n",
    "    reader = csv.reader(csv_file, quotechar='\"')\n",
    "    for row in reader:\n",
    "        print(row, len(row))"
   ]
  },
  {
   "cell_type": "markdown",
   "metadata": {
    "hidden": true
   },
   "source": [
    "Параметр `skipinitialspace = True` убирает пробелы, если данные разделены через запятую и пробел (`data1, data2`). "
   ]
  },
  {
   "cell_type": "code",
   "execution_count": 28,
   "metadata": {
    "ExecuteTime": {
     "end_time": "2021-07-19T09:32:30.202674Z",
     "start_time": "2021-07-19T09:32:30.194698Z"
    },
    "hidden": true
   },
   "outputs": [
    {
     "name": "stdout",
     "output_type": "stream",
     "text": [
      "first name, last name, module1, module2, description\n",
      "Vasya, Shystriy, \"420.2\", 90, Good loot\n",
      "Peter, Klesh', 111, 90.2, \"Very very\n",
      "wild scav\"\n",
      "['first name', 'last name', 'module1', 'module2', 'description'] 5\n",
      "['Vasya', 'Shystriy', '420.2', '90', 'Good loot'] 5\n",
      "['Peter', \"Klesh'\", '111', '90.2', 'Very very\\nwild scav'] 5\n"
     ]
    }
   ],
   "source": [
    "# файл в котором есть пробел после разделяющей запятой\n",
    "with open(r\"./staff/Chapter7/Chapter7_csv_test_data4.csv\") as f:\n",
    "    print(f.read())\n",
    "\n",
    "with open(r\"./staff/Chapter7/Chapter7_csv_test_data4.csv\") as csv_file:\n",
    "    reader = csv.reader(csv_file, quotechar='\"', skipinitialspace = True)\n",
    "    for row in reader:\n",
    "        print(row, len(row))"
   ]
  },
  {
   "cell_type": "markdown",
   "metadata": {
    "hidden": true
   },
   "source": [
    "## Запись в csv файл"
   ]
  },
  {
   "cell_type": "markdown",
   "metadata": {
    "hidden": true
   },
   "source": [
    "Запись в файл осуществляется через объект `csv.writer(file)`. Один список - это один ряд в файле. Можно сразу записать 2D список.    \n",
    "- Параметр `quoting = ...` указывает надо ли включать элементы в двойные кавычки. \n",
    "    - `quoting = QUOTE_NONNUMERIC` - все строковые элементы вкючены в кавычки.\n",
    "    - `quoting=csv.QUOTE_NONE` - удаляет все кавычки. Требует параметр `escapechar = ''`."
   ]
  },
  {
   "cell_type": "code",
   "execution_count": 16,
   "metadata": {
    "ExecuteTime": {
     "end_time": "2021-07-19T09:21:51.038830Z",
     "start_time": "2021-07-19T09:21:51.028265Z"
    },
    "hidden": true
   },
   "outputs": [
    {
     "name": "stdout",
     "output_type": "stream",
     "text": [
      "\"hostname\",\"vendor\",\"model\",\"location\"\n",
      "\n",
      "\"sw1\",\"Cisco\",3750,\"London, Best str\"\n",
      "\n",
      "\"sw2\",\"Cisco\",3850,\"Liverpool, Better str\"\n",
      "\n",
      "\"sw3\",\"Cisco\",3650,\"Liverpool, Better str\"\n",
      "\n",
      "\"sw4\",\"Cisco\",3650,\"London, Best str\"\n",
      "\n",
      "\n"
     ]
    }
   ],
   "source": [
    "data = [['hostname', 'vendor', 'model', 'location'],\n",
    "        ['sw1', 'Cisco', 3750, 'London, Best str'],\n",
    "        ['sw2', 'Cisco', 3850, 'Liverpool, Better str'],\n",
    "        ['sw3', 'Cisco', 3650, 'Liverpool, Better str'],\n",
    "        ['sw4', 'Cisco', 3650, 'London, Best str']]\n",
    "\n",
    "\n",
    "with open(r'./staff/Chapter7/sace_test_data1.csv', 'w') as f:\n",
    "    writer = csv.writer(f, quoting=csv.QUOTE_NONNUMERIC)\n",
    "    for row in data:\n",
    "        writer.writerow(row)\n",
    "\n",
    "with open(r'./staff/Chapter7/sace_test_data1.csv') as f:\n",
    "    print(f.read())"
   ]
  },
  {
   "cell_type": "markdown",
   "metadata": {
    "hidden": true
   },
   "source": [
    "Можно записать файл целикос с помощью метода `writer.writerows()`:"
   ]
  },
  {
   "cell_type": "code",
   "execution_count": 29,
   "metadata": {
    "ExecuteTime": {
     "end_time": "2021-07-19T09:35:10.180731Z",
     "start_time": "2021-07-19T09:35:10.169722Z"
    },
    "hidden": true
   },
   "outputs": [
    {
     "name": "stdout",
     "output_type": "stream",
     "text": [
      "\"hostname\",\"vendor\",\"model\",\"location\"\n",
      "\n",
      "\"sw1\",\"Cisco\",\"3750\",\"London, Best str\"\n",
      "\n",
      "\"sw2\",\"Cisco\",\"3850\",\"Liverpool, Better str\"\n",
      "\n",
      "\"sw3\",\"Cisco\",\"3650\",\"Liverpool, Better str\"\n",
      "\n",
      "\"sw4\",\"Cisco\",\"3650\",\"London, Best str\"\n",
      "\n",
      "\n"
     ]
    }
   ],
   "source": [
    "data = [['hostname', 'vendor', 'model', 'location'],\n",
    "        ['sw1', 'Cisco', '3750', 'London, Best str'],\n",
    "        ['sw2', 'Cisco', '3850', 'Liverpool, Better str'],\n",
    "        ['sw3', 'Cisco', '3650', 'Liverpool, Better str'],\n",
    "        ['sw4', 'Cisco', '3650', 'London, Best str']]\n",
    "\n",
    "\n",
    "with open(r'./staff/Chapter7/save_test_data1.csv', 'w') as f:\n",
    "    writer = csv.writer(f, quoting=csv.QUOTE_NONNUMERIC)\n",
    "    writer.writerows(data)\n",
    "\n",
    "with open(r'./staff/Chapter7/save_test_data1.csv') as f:\n",
    "    print(f.read())"
   ]
  },
  {
   "cell_type": "markdown",
   "metadata": {
    "hidden": true
   },
   "source": [
    "## DictReader"
   ]
  },
  {
   "cell_type": "markdown",
   "metadata": {
    "hidden": true
   },
   "source": [
    "А иногда удобней получить словари, в которых ключи - это названия столбцов, а значения - значения столбцов. Для этого в модуле есть `DictReader`. Он возвращает `csv.DictReader object`, где каждый ряд - это `OrderedDict` (до версии python 3.6) и обычный `dict` (после версии python 3.8) с заголовками в качестве ключей. Например:"
   ]
  },
  {
   "cell_type": "code",
   "execution_count": 27,
   "metadata": {
    "ExecuteTime": {
     "end_time": "2021-07-18T18:22:17.827958Z",
     "start_time": "2021-07-18T18:22:17.815952Z"
    },
    "hidden": true
   },
   "outputs": [
    {
     "name": "stdout",
     "output_type": "stream",
     "text": [
      "OrderedDict([('first name', 'Vasya'), (' last name', ' Shystriy'), (' module1', ' 420'), (' module2', ' 90')])\n",
      "first name: Vasya\n",
      " last name:  Shystriy\n",
      " module1:  420\n",
      " module2:  90\n",
      "OrderedDict([('first name', 'Peter'), (' last name', \" Klesh'\"), (' module1', ' 111'), (' module2', ' 90.2')])\n",
      "first name: Peter\n",
      " last name:  Klesh'\n",
      " module1:  111\n",
      " module2:  90.2\n"
     ]
    }
   ],
   "source": [
    "with open(r\"./staff/Chapter7/Chapter7_csv_test_data1.csv\") as csv_file:\n",
    "    reader = csv.DictReader(csv_file)\n",
    "    for row in reader:\n",
    "        print (row)\n",
    "        for key, value in row.items():\n",
    "            print(\"{}: {}\".format(key, value))"
   ]
  },
  {
   "cell_type": "markdown",
   "metadata": {
    "hidden": true
   },
   "source": [
    "## DictWriter"
   ]
  },
  {
   "cell_type": "markdown",
   "metadata": {
    "hidden": true
   },
   "source": [
    "С помощью `DictWriter` можно записать словари в формат CSV. В целом DictWriter работает так же, как writer, но так как словари не упорядочены, надо указывать явно в каком порядке будут идти столбцы в файле.    \n",
    "1. Для этого используется параметр `fieldnames`. Надо указать какая строка содержит названия столбцов. \n",
    "2. `writer.writeheader()` сообщает объекту `writer` названия столбцов. "
   ]
  },
  {
   "cell_type": "code",
   "execution_count": 33,
   "metadata": {
    "ExecuteTime": {
     "end_time": "2021-07-19T09:39:48.182194Z",
     "start_time": "2021-07-19T09:39:48.174176Z"
    },
    "hidden": true
   },
   "outputs": [
    {
     "name": "stdout",
     "output_type": "stream",
     "text": [
      "\"hostname\",\"location\",\"model\",\"vendor\"\n",
      "\n",
      "\"sw1\",\"London\",3750,\"Cisco\"\n",
      "\n",
      "\"sw2\",\"Liverpool\",3850,\"Cisco\"\n",
      "\n",
      "\"sw3\",\"Liverpool\",3650,\"Cisco\"\n",
      "\n",
      "\"sw4\",\"London\",3650,\"Cisco\"\n",
      "\n",
      "\n"
     ]
    }
   ],
   "source": [
    "data = [{\n",
    "    'hostname': 'sw1',\n",
    "    'location': 'London',\n",
    "    'model': 3750,\n",
    "    'vendor': 'Cisco'\n",
    "}, {\n",
    "    'hostname': 'sw2',\n",
    "    'location': 'Liverpool',\n",
    "    'model': 3850,\n",
    "    'vendor': 'Cisco'\n",
    "}, {\n",
    "    'hostname': 'sw3',\n",
    "    'location': 'Liverpool',\n",
    "    'model': 3650,\n",
    "    'vendor': 'Cisco'\n",
    "}, {\n",
    "    'hostname': 'sw4',\n",
    "    'location': 'London',\n",
    "    'model': 3650,\n",
    "    'vendor': 'Cisco'\n",
    "}]\n",
    "\n",
    "with open(r'./staff/Chapter7/save_test_data2.csv', 'w') as f:\n",
    "    writer = csv.DictWriter(\n",
    "        f, fieldnames=list(data[0].keys()), quoting=csv.QUOTE_NONNUMERIC)\n",
    "    writer.writeheader()\n",
    "    for d in data:\n",
    "        writer.writerow(d)\n",
    "\n",
    "with open(r'./staff/Chapter7/save_test_data2.csv') as f:\n",
    "    print(f.read())"
   ]
  },
  {
   "cell_type": "markdown",
   "metadata": {
    "heading_collapsed": true
   },
   "source": [
    "# json\n",
    "Модуль для обработки json файлов.   \n",
    "Источник: [Python для инженеров](https://pyneng.readthedocs.io/ru/latest/book/17_serialization/json.html)"
   ]
  },
  {
   "cell_type": "markdown",
   "metadata": {
    "heading_collapsed": true,
    "hidden": true
   },
   "source": [
    "## Что такое json"
   ]
  },
  {
   "cell_type": "markdown",
   "metadata": {
    "hidden": true
   },
   "source": [
    "**JSON** (англ. **JavaScript Object Notation**) — текстовый формат обмена данными, основанный на JavaScript. Как и многие другие текстовые форматы, JSON легко читается людьми. Используется большим кол-вом API; это главный web формат."
   ]
  },
  {
   "cell_type": "markdown",
   "metadata": {
    "hidden": true
   },
   "source": [
    "**json types**     \n",
    "- strings: `\"abc\", \"a\", \"123\"`,  etc \n",
    "- numbers: `1, 2123, 2.34`, etc\n",
    "- bool: `true` or `false` (с маленькой буквы)\n",
    "- null: `null` (аналог None)\n",
    "- arryas: `[\"asd\", \"a\", 1]` (то же самое, что список)\n",
    "- objects: `{\"key\": \"value\", \"age\" : 33}` (то же самое, что словарь)"
   ]
  },
  {
   "cell_type": "markdown",
   "metadata": {
    "hidden": true
   },
   "source": [
    "**Структура json**    \n",
    "Обычно файл состоит из классов - т.е. отдельных objects, внутри которых могут быть любые поля из json types (включая object). Поля разделены запятыми. Если в файле несколько классов, то их включают в array.    "
   ]
  },
  {
   "cell_type": "markdown",
   "metadata": {
    "hidden": true
   },
   "source": [
    "Например, внутри `people_test_data1.json`\n",
    "```json\n",
    "[\n",
    "    {\n",
    "        \"firstName\": \"Jane\",\n",
    "        \"hobbies\": [\"running\", \"sky diving\", \"singing\"],\n",
    "        \"age\": 35,\n",
    "        \"education\": true\n",
    "        \"children\": [\n",
    "            {\n",
    "                \"firstName\": \"Alice\",\n",
    "                \"age\": 6\n",
    "            },\n",
    "            {\n",
    "                \"firstName\": \"Bob\",\n",
    "                \"age\": 8\n",
    "            }\n",
    "        ]\n",
    "    },\n",
    "\n",
    "    {\n",
    "        \"firstName\": \"Kirk\",\n",
    "        \"hobbies\": null,\n",
    "        \"age\": 14,\n",
    "        \"education\": false\n",
    "        \"children\": null\n",
    "    }\n",
    "]\n",
    "```"
   ]
  },
  {
   "cell_type": "markdown",
   "metadata": {
    "hidden": true
   },
   "source": [
    "## Работа с JSON в Python "
   ]
  },
  {
   "cell_type": "code",
   "execution_count": 34,
   "metadata": {
    "ExecuteTime": {
     "end_time": "2021-07-19T10:25:51.676607Z",
     "start_time": "2021-07-19T10:25:51.668598Z"
    },
    "hidden": true
   },
   "outputs": [],
   "source": [
    "import json"
   ]
  },
  {
   "cell_type": "markdown",
   "metadata": {
    "hidden": true
   },
   "source": [
    "Для чтения в модуле json есть два метода:     \n",
    "- `json.load` - метод считывает файл в формате JSON и возвращает объекты Python\n",
    "- `json.loads` - метод считывает строку в формате JSON и возвращает объекты Python"
   ]
  },
  {
   "cell_type": "code",
   "execution_count": 62,
   "metadata": {
    "ExecuteTime": {
     "end_time": "2021-07-19T10:39:03.164057Z",
     "start_time": "2021-07-19T10:39:03.156061Z"
    },
    "hidden": true
   },
   "outputs": [
    {
     "name": "stdout",
     "output_type": "stream",
     "text": [
      "[{'firstName': 'Jane', 'hobbies': ['running', 'sky diving', 'singing'], 'age': 35, 'education': True, 'children': [{'firstName': 'Alice', 'age': 6}, {'firstName': 'Bob', 'age': 8}]}, {'firstName': 'Kirk', 'hobbies': None, 'age': 14, 'education': False, 'children': None}] -> <class 'list'>\n",
      "\n",
      "0: \n",
      "{'firstName': 'Jane', 'hobbies': ['running', 'sky diving', 'singing'], 'age': 35, 'education': True, 'children': [{'firstName': 'Alice', 'age': 6}, {'firstName': 'Bob', 'age': 8}]} -> <class 'dict'>\n",
      "\n",
      "1: \n",
      "{'firstName': 'Kirk', 'hobbies': None, 'age': 14, 'education': False, 'children': None} -> <class 'dict'>\n",
      "\n"
     ]
    }
   ],
   "source": [
    "with open(r'./staff/Chapter7/people_test_data1.json') as f:\n",
    "    templates = json.load(f)\n",
    "    print(\"{} -> {}\\n\".format(templates, type(templates)))\n",
    "    \n",
    "for i, ex in enumerate(templates):\n",
    "    print(\"{}: \\n{} -> {}\\n\".format(i, ex, type(ex)))"
   ]
  },
  {
   "cell_type": "markdown",
   "metadata": {
    "hidden": true
   },
   "source": [
    "Т.к. все json types имеют прямые питоновские аналоги. Поэтому при считыванни json файлов, питон напрямую преобразует файл в питоновские структуры (так как человек их прочитал бы в json файле). Различия json формата от питона:     \n",
    "\n",
    "\n",
    "| JSON                                          | Python                                    |\n",
    "|-----------------------------------------------|-------------------------------------------|\n",
    "| null                                          | None                                      |\n",
    "| true/false                                    | True/False                                |\n",
    "| Ключи json object -  только строковые объекты | Ключи словарей -  любые неизменяемые типы |"
   ]
  },
  {
   "cell_type": "code",
   "execution_count": 90,
   "metadata": {
    "ExecuteTime": {
     "end_time": "2021-07-19T11:19:19.165484Z",
     "start_time": "2021-07-19T11:19:19.146505Z"
    },
    "hidden": true
   },
   "outputs": [
    {
     "name": "stdout",
     "output_type": "stream",
     "text": [
      "[{'firstName': 'Jane', 'hobbies': ['running', 'sky diving', 'singing'], 'age': 35, 'education': True, 'children': [{'firstName': 'Alice', 'age': 6}, {'firstName': 'Bob', 'age': 8}]}, {'firstName': 'Kirk', 'hobbies': None, 'age': 14, 'education': False, 'children': None}]\n"
     ]
    }
   ],
   "source": [
    "with open(r'./staff/Chapter7/people_test_data1.json') as f:\n",
    "    file_content = f.read() # считываем все в одну строку\n",
    "    templates = json.loads(file_content) # преобразуем json строку в питоновский формат\n",
    "\n",
    "print(templates)"
   ]
  },
  {
   "cell_type": "markdown",
   "metadata": {
    "hidden": true
   },
   "source": [
    "### Записть в формате JSON"
   ]
  },
  {
   "cell_type": "markdown",
   "metadata": {
    "hidden": true
   },
   "source": [
    "Для записи информации в формате JSON в модуле json также два метода:    \n",
    "\n",
    "- `json.dump` - метод записывает объект Python в файл в формате JSON.\n",
    "- `json.dumps` - метод возвращает строку в формате JSON.\n",
    "\n",
    "Параметры методов:\n",
    "- `indent = 4` - размер отступов при записи в json файл/строку.\n",
    "- `sort_keys = True` - сортировка данных в json object по имени ключей.\n"
   ]
  },
  {
   "cell_type": "markdown",
   "metadata": {
    "hidden": true
   },
   "source": [
    "**`json.dump`** - записывает объект Python в файл в формате JSON."
   ]
  },
  {
   "cell_type": "code",
   "execution_count": 81,
   "metadata": {
    "ExecuteTime": {
     "end_time": "2021-07-19T11:11:19.868621Z",
     "start_time": "2021-07-19T11:11:19.859627Z"
    },
    "hidden": true
   },
   "outputs": [
    {
     "name": "stdout",
     "output_type": "stream",
     "text": [
      "[\n",
      "    {\n",
      "        \"age\": 24,\n",
      "        \"courses\": {\n",
      "            \"English\": 5,\n",
      "            \"math\": 4\n",
      "        },\n",
      "        \"education\": true,\n",
      "        \"firstName\": \"Rick\"\n",
      "    },\n",
      "    {\n",
      "        \"age\": 23,\n",
      "        \"courses\": {\n",
      "            \"English\": 1,\n",
      "            \"math\": 2\n",
      "        },\n",
      "        \"education\": true,\n",
      "        \"firstName\": \"Alex\"\n",
      "    }\n",
      "]\n"
     ]
    }
   ],
   "source": [
    "student1 = {\n",
    "    \"firstName\": \"Rick\",\n",
    "    \"age\": 24,\n",
    "    \"education\": True,\n",
    "    \"courses\" : {\n",
    "        \"math\": 4,\n",
    "        \"English\": 5\n",
    "    }\n",
    "}\n",
    "student2 = {\n",
    "    \"firstName\": \"Alex\",\n",
    "    \"age\": 23,\n",
    "    \"education\": True,\n",
    "    \"courses\" : {\n",
    "        \"math\": 2,\n",
    "        \"English\": 1\n",
    "    }\n",
    "}\n",
    "\n",
    "    \n",
    "data = [student1, student2]\n",
    "with open(r\"./staff/Chapter7/save_test_data1.json\", \"w\") as f:\n",
    "    json.dump(data, f, indent = 4, sort_keys = True)\n",
    "    \n",
    "with open(r\"./staff/Chapter7/save_test_data1.json\") as f:\n",
    "    print(f.read())"
   ]
  },
  {
   "cell_type": "markdown",
   "metadata": {
    "hidden": true
   },
   "source": [
    "**`json.dumps`** - метод возвращает строку в формате JSON."
   ]
  },
  {
   "cell_type": "code",
   "execution_count": 80,
   "metadata": {
    "ExecuteTime": {
     "end_time": "2021-07-19T11:10:36.239277Z",
     "start_time": "2021-07-19T11:10:36.227265Z"
    },
    "hidden": true
   },
   "outputs": [
    {
     "name": "stdout",
     "output_type": "stream",
     "text": [
      "{\n",
      "    \"age\": 20,\n",
      "    \"courses\": null,\n",
      "    \"education\": false,\n",
      "    \"firstName\": \"Dane\"\n",
      "} \n",
      "--------------\n",
      "\n",
      "{\n",
      "    \"age\": 20,\n",
      "    \"courses\": null,\n",
      "    \"education\": false,\n",
      "    \"firstName\": \"Dane\"\n",
      "}\n"
     ]
    }
   ],
   "source": [
    "student3 = {\n",
    "    \"firstName\": \"Dane\",\n",
    "    \"age\": 20,\n",
    "    \"education\": False,\n",
    "    \"courses\" : None\n",
    "}\n",
    "# преобразует данные в json строку\n",
    "student_json_str = json.dumps(student3, indent = 4, sort_keys = True)\n",
    "print(student_json_str, \"\\n--------------\\n\")\n",
    "\n",
    "with open(r\"./staff/Chapter7/save_test_data2.json\", \"w\") as f:\n",
    "    f.write(student_json_str)\n",
    "    \n",
    "with open(r\"./staff/Chapter7/save_test_data2.json\") as f:\n",
    "    print(f.read())"
   ]
  }
 ],
 "metadata": {
  "kernelspec": {
   "display_name": "Python 3",
   "language": "python",
   "name": "python3"
  },
  "language_info": {
   "codemirror_mode": {
    "name": "ipython",
    "version": 3
   },
   "file_extension": ".py",
   "mimetype": "text/x-python",
   "name": "python",
   "nbconvert_exporter": "python",
   "pygments_lexer": "ipython3",
   "version": "3.7.6"
  },
  "toc": {
   "base_numbering": 1,
   "nav_menu": {},
   "number_sections": true,
   "sideBar": true,
   "skip_h1_title": false,
   "title_cell": "Table of Contents",
   "title_sidebar": "Contents",
   "toc_cell": false,
   "toc_position": {},
   "toc_section_display": true,
   "toc_window_display": false
  }
 },
 "nbformat": 4,
 "nbformat_minor": 4
}
